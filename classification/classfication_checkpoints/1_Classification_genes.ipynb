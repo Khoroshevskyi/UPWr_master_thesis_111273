{
 "cells": [
  {
   "cell_type": "markdown",
   "metadata": {
    "id": "Ll79-hq_Jeha"
   },
   "source": [
    "# 1. Load and Preprocess Dataset"
   ]
  },
  {
   "cell_type": "markdown",
   "metadata": {
    "id": "qG4bd6Yzga65"
   },
   "source": [
    "## Data Load"
   ]
  },
  {
   "cell_type": "markdown",
   "metadata": {
    "id": "v-StRL0Cdd_l"
   },
   "source": [
    "First import the data and check whether there are some missing values:"
   ]
  },
  {
   "cell_type": "code",
   "execution_count": 1,
   "metadata": {
    "id": "Tm7djmE6-lu6"
   },
   "outputs": [],
   "source": [
    "import pandas as pd\n",
    "data = pd.read_csv(\"./gdc_data/full_data_genes.csv\", delimiter=\"\\t\", index_col=0, low_memory=False)\n",
    "\n",
    "# data = data.T\n"
   ]
  },
  {
   "cell_type": "code",
   "execution_count": 2,
   "metadata": {},
   "outputs": [
    {
     "data": {
      "text/html": [
       "<div>\n",
       "<style scoped>\n",
       "    .dataframe tbody tr th:only-of-type {\n",
       "        vertical-align: middle;\n",
       "    }\n",
       "\n",
       "    .dataframe tbody tr th {\n",
       "        vertical-align: top;\n",
       "    }\n",
       "\n",
       "    .dataframe thead th {\n",
       "        text-align: right;\n",
       "    }\n",
       "</style>\n",
       "<table border=\"1\" class=\"dataframe\">\n",
       "  <thead>\n",
       "    <tr style=\"text-align: right;\">\n",
       "      <th></th>\n",
       "      <th>ENSG00000149311</th>\n",
       "      <th>ENSG00000012048</th>\n",
       "      <th>ENSG00000139618</th>\n",
       "      <th>ENSG00000138376</th>\n",
       "      <th>ENSG00000136492</th>\n",
       "      <th>ENSG00000163322</th>\n",
       "      <th>ENSG00000051180</th>\n",
       "      <th>ENSG00000105393</th>\n",
       "      <th>ENSG00000163930</th>\n",
       "      <th>ENSG00000185515</th>\n",
       "      <th>...</th>\n",
       "      <th>ENSG00000126215</th>\n",
       "      <th>ENSG00000170836</th>\n",
       "      <th>ENSG00000167085</th>\n",
       "      <th>ENSG00000072571</th>\n",
       "      <th>ENSG00000141736</th>\n",
       "      <th>ENSG00000171862</th>\n",
       "      <th>ENSG00000134982</th>\n",
       "      <th>ENSG00000116062</th>\n",
       "      <th>ENSG00000185379</th>\n",
       "      <th>tumor_stage</th>\n",
       "    </tr>\n",
       "  </thead>\n",
       "  <tbody>\n",
       "    <tr>\n",
       "      <th>9c2ffccc-c4c8-4f87-bcd8-8ce099e31b1b.tsv</th>\n",
       "      <td>3.349073</td>\n",
       "      <td>2.076688</td>\n",
       "      <td>1.824516</td>\n",
       "      <td>2.192672</td>\n",
       "      <td>1.609500</td>\n",
       "      <td>1.669269</td>\n",
       "      <td>0.922215</td>\n",
       "      <td>11.144528</td>\n",
       "      <td>18.949397</td>\n",
       "      <td>8.380288</td>\n",
       "      <td>...</td>\n",
       "      <td>1.352441</td>\n",
       "      <td>5.895318</td>\n",
       "      <td>21.680196</td>\n",
       "      <td>1.233657</td>\n",
       "      <td>32.353247</td>\n",
       "      <td>11.646237</td>\n",
       "      <td>8.242039</td>\n",
       "      <td>8.344958</td>\n",
       "      <td>1.485687</td>\n",
       "      <td>stage_1</td>\n",
       "    </tr>\n",
       "    <tr>\n",
       "      <th>98bb8ea9-025e-40cd-a21e-3a9dd478ef23.tsv</th>\n",
       "      <td>0.949747</td>\n",
       "      <td>0.603445</td>\n",
       "      <td>0.317373</td>\n",
       "      <td>1.459129</td>\n",
       "      <td>1.481305</td>\n",
       "      <td>0.669969</td>\n",
       "      <td>1.901539</td>\n",
       "      <td>16.153732</td>\n",
       "      <td>6.564662</td>\n",
       "      <td>8.409790</td>\n",
       "      <td>...</td>\n",
       "      <td>0.815359</td>\n",
       "      <td>8.078303</td>\n",
       "      <td>16.976203</td>\n",
       "      <td>3.405810</td>\n",
       "      <td>7.974353</td>\n",
       "      <td>9.219720</td>\n",
       "      <td>1.396806</td>\n",
       "      <td>6.037363</td>\n",
       "      <td>0.711532</td>\n",
       "      <td>stage_1</td>\n",
       "    </tr>\n",
       "    <tr>\n",
       "      <th>80072d64-b734-46ef-b4bf-a9e5cd0d5d06.tsv</th>\n",
       "      <td>3.650380</td>\n",
       "      <td>1.826889</td>\n",
       "      <td>0.642263</td>\n",
       "      <td>3.280581</td>\n",
       "      <td>0.843390</td>\n",
       "      <td>3.223135</td>\n",
       "      <td>0.931614</td>\n",
       "      <td>8.103212</td>\n",
       "      <td>12.252555</td>\n",
       "      <td>10.924507</td>\n",
       "      <td>...</td>\n",
       "      <td>1.393900</td>\n",
       "      <td>1.879202</td>\n",
       "      <td>16.682002</td>\n",
       "      <td>2.077765</td>\n",
       "      <td>38.339405</td>\n",
       "      <td>10.640550</td>\n",
       "      <td>4.015698</td>\n",
       "      <td>5.435211</td>\n",
       "      <td>1.380691</td>\n",
       "      <td>stage_1</td>\n",
       "    </tr>\n",
       "    <tr>\n",
       "      <th>d14add36-6662-47ce-9a26-3374bf1e8807.tsv</th>\n",
       "      <td>2.180220</td>\n",
       "      <td>1.864945</td>\n",
       "      <td>0.975958</td>\n",
       "      <td>3.256514</td>\n",
       "      <td>0.789002</td>\n",
       "      <td>1.843514</td>\n",
       "      <td>3.328436</td>\n",
       "      <td>8.542697</td>\n",
       "      <td>11.508710</td>\n",
       "      <td>15.944124</td>\n",
       "      <td>...</td>\n",
       "      <td>1.000738</td>\n",
       "      <td>4.874656</td>\n",
       "      <td>20.386328</td>\n",
       "      <td>3.275069</td>\n",
       "      <td>21.218971</td>\n",
       "      <td>9.373860</td>\n",
       "      <td>2.875024</td>\n",
       "      <td>9.631368</td>\n",
       "      <td>2.245945</td>\n",
       "      <td>stage_1</td>\n",
       "    </tr>\n",
       "    <tr>\n",
       "      <th>728be0eb-7a5b-42cd-84d9-6a86cec842d5.tsv</th>\n",
       "      <td>1.017167</td>\n",
       "      <td>1.573489</td>\n",
       "      <td>0.570927</td>\n",
       "      <td>1.246497</td>\n",
       "      <td>0.624071</td>\n",
       "      <td>0.896118</td>\n",
       "      <td>1.533593</td>\n",
       "      <td>15.138620</td>\n",
       "      <td>11.516282</td>\n",
       "      <td>13.315581</td>\n",
       "      <td>...</td>\n",
       "      <td>0.450720</td>\n",
       "      <td>4.545473</td>\n",
       "      <td>48.411958</td>\n",
       "      <td>2.437793</td>\n",
       "      <td>27.018005</td>\n",
       "      <td>6.230324</td>\n",
       "      <td>3.192836</td>\n",
       "      <td>6.299393</td>\n",
       "      <td>1.373761</td>\n",
       "      <td>stage_1</td>\n",
       "    </tr>\n",
       "    <tr>\n",
       "      <th>...</th>\n",
       "      <td>...</td>\n",
       "      <td>...</td>\n",
       "      <td>...</td>\n",
       "      <td>...</td>\n",
       "      <td>...</td>\n",
       "      <td>...</td>\n",
       "      <td>...</td>\n",
       "      <td>...</td>\n",
       "      <td>...</td>\n",
       "      <td>...</td>\n",
       "      <td>...</td>\n",
       "      <td>...</td>\n",
       "      <td>...</td>\n",
       "      <td>...</td>\n",
       "      <td>...</td>\n",
       "      <td>...</td>\n",
       "      <td>...</td>\n",
       "      <td>...</td>\n",
       "      <td>...</td>\n",
       "      <td>...</td>\n",
       "      <td>...</td>\n",
       "    </tr>\n",
       "    <tr>\n",
       "      <th>e3cacc94-c92a-42b1-9fad-9db163983729.tsv</th>\n",
       "      <td>2.478659</td>\n",
       "      <td>2.098964</td>\n",
       "      <td>0.504001</td>\n",
       "      <td>1.967237</td>\n",
       "      <td>0.934342</td>\n",
       "      <td>1.341971</td>\n",
       "      <td>9.482712</td>\n",
       "      <td>17.716800</td>\n",
       "      <td>20.117642</td>\n",
       "      <td>7.458897</td>\n",
       "      <td>...</td>\n",
       "      <td>2.217846</td>\n",
       "      <td>3.916693</td>\n",
       "      <td>39.482490</td>\n",
       "      <td>3.904637</td>\n",
       "      <td>38.327607</td>\n",
       "      <td>0.691632</td>\n",
       "      <td>0.858662</td>\n",
       "      <td>9.729265</td>\n",
       "      <td>2.649245</td>\n",
       "      <td>stage_3</td>\n",
       "    </tr>\n",
       "    <tr>\n",
       "      <th>c7843936-3b14-48b4-8642-8554341d3f21.tsv</th>\n",
       "      <td>1.639374</td>\n",
       "      <td>0.916885</td>\n",
       "      <td>0.421796</td>\n",
       "      <td>2.185868</td>\n",
       "      <td>0.373040</td>\n",
       "      <td>1.551919</td>\n",
       "      <td>1.055032</td>\n",
       "      <td>15.121386</td>\n",
       "      <td>12.179594</td>\n",
       "      <td>14.353932</td>\n",
       "      <td>...</td>\n",
       "      <td>1.160282</td>\n",
       "      <td>3.822712</td>\n",
       "      <td>35.330272</td>\n",
       "      <td>1.200691</td>\n",
       "      <td>47.248998</td>\n",
       "      <td>13.517595</td>\n",
       "      <td>2.753962</td>\n",
       "      <td>7.762060</td>\n",
       "      <td>1.555239</td>\n",
       "      <td>stage_3</td>\n",
       "    </tr>\n",
       "    <tr>\n",
       "      <th>f6d3d770-157b-479b-a5cc-56e174dda026.tsv</th>\n",
       "      <td>2.757105</td>\n",
       "      <td>4.390183</td>\n",
       "      <td>1.170096</td>\n",
       "      <td>5.869232</td>\n",
       "      <td>2.277884</td>\n",
       "      <td>2.518291</td>\n",
       "      <td>3.080238</td>\n",
       "      <td>10.073405</td>\n",
       "      <td>17.742680</td>\n",
       "      <td>12.563708</td>\n",
       "      <td>...</td>\n",
       "      <td>0.802007</td>\n",
       "      <td>3.873492</td>\n",
       "      <td>19.636216</td>\n",
       "      <td>5.749549</td>\n",
       "      <td>23.752450</td>\n",
       "      <td>13.809559</td>\n",
       "      <td>6.324653</td>\n",
       "      <td>11.177405</td>\n",
       "      <td>2.564630</td>\n",
       "      <td>stage_3</td>\n",
       "    </tr>\n",
       "    <tr>\n",
       "      <th>837edc9c-0d20-4889-a9cd-a54ed6b68d13.tsv</th>\n",
       "      <td>0.426701</td>\n",
       "      <td>0.630418</td>\n",
       "      <td>0.221687</td>\n",
       "      <td>0.256681</td>\n",
       "      <td>0.232960</td>\n",
       "      <td>0.301514</td>\n",
       "      <td>1.851096</td>\n",
       "      <td>31.254277</td>\n",
       "      <td>28.080204</td>\n",
       "      <td>1.445710</td>\n",
       "      <td>...</td>\n",
       "      <td>1.955220</td>\n",
       "      <td>0.922670</td>\n",
       "      <td>42.119102</td>\n",
       "      <td>1.277908</td>\n",
       "      <td>7.344798</td>\n",
       "      <td>3.134231</td>\n",
       "      <td>0.464762</td>\n",
       "      <td>2.292634</td>\n",
       "      <td>1.005518</td>\n",
       "      <td>stage_3</td>\n",
       "    </tr>\n",
       "    <tr>\n",
       "      <th>3bdf6376-9aa9-44cc-a1f1-5a6387edce23.tsv</th>\n",
       "      <td>0.760424</td>\n",
       "      <td>5.902165</td>\n",
       "      <td>0.778817</td>\n",
       "      <td>4.474909</td>\n",
       "      <td>2.381804</td>\n",
       "      <td>0.933657</td>\n",
       "      <td>6.083363</td>\n",
       "      <td>19.374266</td>\n",
       "      <td>19.293658</td>\n",
       "      <td>10.908914</td>\n",
       "      <td>...</td>\n",
       "      <td>3.209975</td>\n",
       "      <td>3.583893</td>\n",
       "      <td>37.138579</td>\n",
       "      <td>7.771075</td>\n",
       "      <td>66.527474</td>\n",
       "      <td>9.913102</td>\n",
       "      <td>2.468194</td>\n",
       "      <td>8.103137</td>\n",
       "      <td>3.216166</td>\n",
       "      <td>stage_3</td>\n",
       "    </tr>\n",
       "  </tbody>\n",
       "</table>\n",
       "<p>1185 rows × 44 columns</p>\n",
       "</div>"
      ],
      "text/plain": [
       "                                          ENSG00000149311  ENSG00000012048  \\\n",
       "9c2ffccc-c4c8-4f87-bcd8-8ce099e31b1b.tsv         3.349073         2.076688   \n",
       "98bb8ea9-025e-40cd-a21e-3a9dd478ef23.tsv         0.949747         0.603445   \n",
       "80072d64-b734-46ef-b4bf-a9e5cd0d5d06.tsv         3.650380         1.826889   \n",
       "d14add36-6662-47ce-9a26-3374bf1e8807.tsv         2.180220         1.864945   \n",
       "728be0eb-7a5b-42cd-84d9-6a86cec842d5.tsv         1.017167         1.573489   \n",
       "...                                                   ...              ...   \n",
       "e3cacc94-c92a-42b1-9fad-9db163983729.tsv         2.478659         2.098964   \n",
       "c7843936-3b14-48b4-8642-8554341d3f21.tsv         1.639374         0.916885   \n",
       "f6d3d770-157b-479b-a5cc-56e174dda026.tsv         2.757105         4.390183   \n",
       "837edc9c-0d20-4889-a9cd-a54ed6b68d13.tsv         0.426701         0.630418   \n",
       "3bdf6376-9aa9-44cc-a1f1-5a6387edce23.tsv         0.760424         5.902165   \n",
       "\n",
       "                                          ENSG00000139618  ENSG00000138376  \\\n",
       "9c2ffccc-c4c8-4f87-bcd8-8ce099e31b1b.tsv         1.824516         2.192672   \n",
       "98bb8ea9-025e-40cd-a21e-3a9dd478ef23.tsv         0.317373         1.459129   \n",
       "80072d64-b734-46ef-b4bf-a9e5cd0d5d06.tsv         0.642263         3.280581   \n",
       "d14add36-6662-47ce-9a26-3374bf1e8807.tsv         0.975958         3.256514   \n",
       "728be0eb-7a5b-42cd-84d9-6a86cec842d5.tsv         0.570927         1.246497   \n",
       "...                                                   ...              ...   \n",
       "e3cacc94-c92a-42b1-9fad-9db163983729.tsv         0.504001         1.967237   \n",
       "c7843936-3b14-48b4-8642-8554341d3f21.tsv         0.421796         2.185868   \n",
       "f6d3d770-157b-479b-a5cc-56e174dda026.tsv         1.170096         5.869232   \n",
       "837edc9c-0d20-4889-a9cd-a54ed6b68d13.tsv         0.221687         0.256681   \n",
       "3bdf6376-9aa9-44cc-a1f1-5a6387edce23.tsv         0.778817         4.474909   \n",
       "\n",
       "                                          ENSG00000136492  ENSG00000163322  \\\n",
       "9c2ffccc-c4c8-4f87-bcd8-8ce099e31b1b.tsv         1.609500         1.669269   \n",
       "98bb8ea9-025e-40cd-a21e-3a9dd478ef23.tsv         1.481305         0.669969   \n",
       "80072d64-b734-46ef-b4bf-a9e5cd0d5d06.tsv         0.843390         3.223135   \n",
       "d14add36-6662-47ce-9a26-3374bf1e8807.tsv         0.789002         1.843514   \n",
       "728be0eb-7a5b-42cd-84d9-6a86cec842d5.tsv         0.624071         0.896118   \n",
       "...                                                   ...              ...   \n",
       "e3cacc94-c92a-42b1-9fad-9db163983729.tsv         0.934342         1.341971   \n",
       "c7843936-3b14-48b4-8642-8554341d3f21.tsv         0.373040         1.551919   \n",
       "f6d3d770-157b-479b-a5cc-56e174dda026.tsv         2.277884         2.518291   \n",
       "837edc9c-0d20-4889-a9cd-a54ed6b68d13.tsv         0.232960         0.301514   \n",
       "3bdf6376-9aa9-44cc-a1f1-5a6387edce23.tsv         2.381804         0.933657   \n",
       "\n",
       "                                          ENSG00000051180  ENSG00000105393  \\\n",
       "9c2ffccc-c4c8-4f87-bcd8-8ce099e31b1b.tsv         0.922215        11.144528   \n",
       "98bb8ea9-025e-40cd-a21e-3a9dd478ef23.tsv         1.901539        16.153732   \n",
       "80072d64-b734-46ef-b4bf-a9e5cd0d5d06.tsv         0.931614         8.103212   \n",
       "d14add36-6662-47ce-9a26-3374bf1e8807.tsv         3.328436         8.542697   \n",
       "728be0eb-7a5b-42cd-84d9-6a86cec842d5.tsv         1.533593        15.138620   \n",
       "...                                                   ...              ...   \n",
       "e3cacc94-c92a-42b1-9fad-9db163983729.tsv         9.482712        17.716800   \n",
       "c7843936-3b14-48b4-8642-8554341d3f21.tsv         1.055032        15.121386   \n",
       "f6d3d770-157b-479b-a5cc-56e174dda026.tsv         3.080238        10.073405   \n",
       "837edc9c-0d20-4889-a9cd-a54ed6b68d13.tsv         1.851096        31.254277   \n",
       "3bdf6376-9aa9-44cc-a1f1-5a6387edce23.tsv         6.083363        19.374266   \n",
       "\n",
       "                                          ENSG00000163930  ENSG00000185515  \\\n",
       "9c2ffccc-c4c8-4f87-bcd8-8ce099e31b1b.tsv        18.949397         8.380288   \n",
       "98bb8ea9-025e-40cd-a21e-3a9dd478ef23.tsv         6.564662         8.409790   \n",
       "80072d64-b734-46ef-b4bf-a9e5cd0d5d06.tsv        12.252555        10.924507   \n",
       "d14add36-6662-47ce-9a26-3374bf1e8807.tsv        11.508710        15.944124   \n",
       "728be0eb-7a5b-42cd-84d9-6a86cec842d5.tsv        11.516282        13.315581   \n",
       "...                                                   ...              ...   \n",
       "e3cacc94-c92a-42b1-9fad-9db163983729.tsv        20.117642         7.458897   \n",
       "c7843936-3b14-48b4-8642-8554341d3f21.tsv        12.179594        14.353932   \n",
       "f6d3d770-157b-479b-a5cc-56e174dda026.tsv        17.742680        12.563708   \n",
       "837edc9c-0d20-4889-a9cd-a54ed6b68d13.tsv        28.080204         1.445710   \n",
       "3bdf6376-9aa9-44cc-a1f1-5a6387edce23.tsv        19.293658        10.908914   \n",
       "\n",
       "                                          ...  ENSG00000126215  \\\n",
       "9c2ffccc-c4c8-4f87-bcd8-8ce099e31b1b.tsv  ...         1.352441   \n",
       "98bb8ea9-025e-40cd-a21e-3a9dd478ef23.tsv  ...         0.815359   \n",
       "80072d64-b734-46ef-b4bf-a9e5cd0d5d06.tsv  ...         1.393900   \n",
       "d14add36-6662-47ce-9a26-3374bf1e8807.tsv  ...         1.000738   \n",
       "728be0eb-7a5b-42cd-84d9-6a86cec842d5.tsv  ...         0.450720   \n",
       "...                                       ...              ...   \n",
       "e3cacc94-c92a-42b1-9fad-9db163983729.tsv  ...         2.217846   \n",
       "c7843936-3b14-48b4-8642-8554341d3f21.tsv  ...         1.160282   \n",
       "f6d3d770-157b-479b-a5cc-56e174dda026.tsv  ...         0.802007   \n",
       "837edc9c-0d20-4889-a9cd-a54ed6b68d13.tsv  ...         1.955220   \n",
       "3bdf6376-9aa9-44cc-a1f1-5a6387edce23.tsv  ...         3.209975   \n",
       "\n",
       "                                          ENSG00000170836  ENSG00000167085  \\\n",
       "9c2ffccc-c4c8-4f87-bcd8-8ce099e31b1b.tsv         5.895318        21.680196   \n",
       "98bb8ea9-025e-40cd-a21e-3a9dd478ef23.tsv         8.078303        16.976203   \n",
       "80072d64-b734-46ef-b4bf-a9e5cd0d5d06.tsv         1.879202        16.682002   \n",
       "d14add36-6662-47ce-9a26-3374bf1e8807.tsv         4.874656        20.386328   \n",
       "728be0eb-7a5b-42cd-84d9-6a86cec842d5.tsv         4.545473        48.411958   \n",
       "...                                                   ...              ...   \n",
       "e3cacc94-c92a-42b1-9fad-9db163983729.tsv         3.916693        39.482490   \n",
       "c7843936-3b14-48b4-8642-8554341d3f21.tsv         3.822712        35.330272   \n",
       "f6d3d770-157b-479b-a5cc-56e174dda026.tsv         3.873492        19.636216   \n",
       "837edc9c-0d20-4889-a9cd-a54ed6b68d13.tsv         0.922670        42.119102   \n",
       "3bdf6376-9aa9-44cc-a1f1-5a6387edce23.tsv         3.583893        37.138579   \n",
       "\n",
       "                                          ENSG00000072571  ENSG00000141736  \\\n",
       "9c2ffccc-c4c8-4f87-bcd8-8ce099e31b1b.tsv         1.233657        32.353247   \n",
       "98bb8ea9-025e-40cd-a21e-3a9dd478ef23.tsv         3.405810         7.974353   \n",
       "80072d64-b734-46ef-b4bf-a9e5cd0d5d06.tsv         2.077765        38.339405   \n",
       "d14add36-6662-47ce-9a26-3374bf1e8807.tsv         3.275069        21.218971   \n",
       "728be0eb-7a5b-42cd-84d9-6a86cec842d5.tsv         2.437793        27.018005   \n",
       "...                                                   ...              ...   \n",
       "e3cacc94-c92a-42b1-9fad-9db163983729.tsv         3.904637        38.327607   \n",
       "c7843936-3b14-48b4-8642-8554341d3f21.tsv         1.200691        47.248998   \n",
       "f6d3d770-157b-479b-a5cc-56e174dda026.tsv         5.749549        23.752450   \n",
       "837edc9c-0d20-4889-a9cd-a54ed6b68d13.tsv         1.277908         7.344798   \n",
       "3bdf6376-9aa9-44cc-a1f1-5a6387edce23.tsv         7.771075        66.527474   \n",
       "\n",
       "                                          ENSG00000171862  ENSG00000134982  \\\n",
       "9c2ffccc-c4c8-4f87-bcd8-8ce099e31b1b.tsv        11.646237         8.242039   \n",
       "98bb8ea9-025e-40cd-a21e-3a9dd478ef23.tsv         9.219720         1.396806   \n",
       "80072d64-b734-46ef-b4bf-a9e5cd0d5d06.tsv        10.640550         4.015698   \n",
       "d14add36-6662-47ce-9a26-3374bf1e8807.tsv         9.373860         2.875024   \n",
       "728be0eb-7a5b-42cd-84d9-6a86cec842d5.tsv         6.230324         3.192836   \n",
       "...                                                   ...              ...   \n",
       "e3cacc94-c92a-42b1-9fad-9db163983729.tsv         0.691632         0.858662   \n",
       "c7843936-3b14-48b4-8642-8554341d3f21.tsv        13.517595         2.753962   \n",
       "f6d3d770-157b-479b-a5cc-56e174dda026.tsv        13.809559         6.324653   \n",
       "837edc9c-0d20-4889-a9cd-a54ed6b68d13.tsv         3.134231         0.464762   \n",
       "3bdf6376-9aa9-44cc-a1f1-5a6387edce23.tsv         9.913102         2.468194   \n",
       "\n",
       "                                          ENSG00000116062  ENSG00000185379  \\\n",
       "9c2ffccc-c4c8-4f87-bcd8-8ce099e31b1b.tsv         8.344958         1.485687   \n",
       "98bb8ea9-025e-40cd-a21e-3a9dd478ef23.tsv         6.037363         0.711532   \n",
       "80072d64-b734-46ef-b4bf-a9e5cd0d5d06.tsv         5.435211         1.380691   \n",
       "d14add36-6662-47ce-9a26-3374bf1e8807.tsv         9.631368         2.245945   \n",
       "728be0eb-7a5b-42cd-84d9-6a86cec842d5.tsv         6.299393         1.373761   \n",
       "...                                                   ...              ...   \n",
       "e3cacc94-c92a-42b1-9fad-9db163983729.tsv         9.729265         2.649245   \n",
       "c7843936-3b14-48b4-8642-8554341d3f21.tsv         7.762060         1.555239   \n",
       "f6d3d770-157b-479b-a5cc-56e174dda026.tsv        11.177405         2.564630   \n",
       "837edc9c-0d20-4889-a9cd-a54ed6b68d13.tsv         2.292634         1.005518   \n",
       "3bdf6376-9aa9-44cc-a1f1-5a6387edce23.tsv         8.103137         3.216166   \n",
       "\n",
       "                                          tumor_stage  \n",
       "9c2ffccc-c4c8-4f87-bcd8-8ce099e31b1b.tsv      stage_1  \n",
       "98bb8ea9-025e-40cd-a21e-3a9dd478ef23.tsv      stage_1  \n",
       "80072d64-b734-46ef-b4bf-a9e5cd0d5d06.tsv      stage_1  \n",
       "d14add36-6662-47ce-9a26-3374bf1e8807.tsv      stage_1  \n",
       "728be0eb-7a5b-42cd-84d9-6a86cec842d5.tsv      stage_1  \n",
       "...                                               ...  \n",
       "e3cacc94-c92a-42b1-9fad-9db163983729.tsv      stage_3  \n",
       "c7843936-3b14-48b4-8642-8554341d3f21.tsv      stage_3  \n",
       "f6d3d770-157b-479b-a5cc-56e174dda026.tsv      stage_3  \n",
       "837edc9c-0d20-4889-a9cd-a54ed6b68d13.tsv      stage_3  \n",
       "3bdf6376-9aa9-44cc-a1f1-5a6387edce23.tsv      stage_3  \n",
       "\n",
       "[1185 rows x 44 columns]"
      ]
     },
     "execution_count": 2,
     "metadata": {},
     "output_type": "execute_result"
    }
   ],
   "source": [
    "data"
   ]
  },
  {
   "cell_type": "code",
   "execution_count": 3,
   "metadata": {},
   "outputs": [
    {
     "data": {
      "text/plain": [
       "stage_2    694\n",
       "stage_3    283\n",
       "stage_1    188\n",
       "stage_4     20\n",
       "Name: tumor_stage, dtype: int64"
      ]
     },
     "execution_count": 3,
     "metadata": {},
     "output_type": "execute_result"
    }
   ],
   "source": [
    "data.tumor_stage.value_counts()"
   ]
  },
  {
   "cell_type": "markdown",
   "metadata": {
    "id": "gbeRLTetLO5O"
   },
   "source": [
    "Deleting stage 4, because, there is very small amount of objects"
   ]
  },
  {
   "cell_type": "code",
   "execution_count": 4,
   "metadata": {
    "id": "0Z9wwKG9wXb1"
   },
   "outputs": [],
   "source": [
    "data1 = data[data.tumor_stage != \"stage_4\"]"
   ]
  },
  {
   "cell_type": "markdown",
   "metadata": {},
   "source": [
    "Changing string classification to int variable"
   ]
  },
  {
   "cell_type": "code",
   "execution_count": 7,
   "metadata": {
    "id": "2ZBoAwRTwckO"
   },
   "outputs": [
    {
     "name": "stderr",
     "output_type": "stream",
     "text": [
      "/tmp/ipykernel_142779/3805722954.py:4: SettingWithCopyWarning: \n",
      "A value is trying to be set on a copy of a slice from a DataFrame\n",
      "\n",
      "See the caveats in the documentation: https://pandas.pydata.org/pandas-docs/stable/user_guide/indexing.html#returning-a-view-versus-a-copy\n",
      "  y.replace({\"stage_1\": 0}, inplace=True)\n",
      "/tmp/ipykernel_142779/3805722954.py:5: SettingWithCopyWarning: \n",
      "A value is trying to be set on a copy of a slice from a DataFrame\n",
      "\n",
      "See the caveats in the documentation: https://pandas.pydata.org/pandas-docs/stable/user_guide/indexing.html#returning-a-view-versus-a-copy\n",
      "  y.replace({\"stage_2\": 1}, inplace=True)\n",
      "/tmp/ipykernel_142779/3805722954.py:6: SettingWithCopyWarning: \n",
      "A value is trying to be set on a copy of a slice from a DataFrame\n",
      "\n",
      "See the caveats in the documentation: https://pandas.pydata.org/pandas-docs/stable/user_guide/indexing.html#returning-a-view-versus-a-copy\n",
      "  y.replace({\"stage_3\": 2}, inplace=True)\n"
     ]
    }
   ],
   "source": [
    "y = data1.tumor_stage\n",
    "X = data1.drop(['tumor_stage'], axis=1)\n",
    "\n",
    "y.replace({\"stage_1\": 0}, inplace=True)\n",
    "y.replace({\"stage_2\": 1}, inplace=True)\n",
    "y.replace({\"stage_3\": 2}, inplace=True)\n",
    "# y.replace({\"stage_4\": 3}, inplace=True)"
   ]
  },
  {
   "cell_type": "code",
   "execution_count": 17,
   "metadata": {
    "colab": {
     "base_uri": "https://localhost:8080/"
    },
    "id": "RKXvWiZufrL9",
    "outputId": "3e160fff-9b00-4542-d0b1-01a19011d719"
   },
   "outputs": [
    {
     "data": {
      "text/plain": [
       "0"
      ]
     },
     "execution_count": 17,
     "metadata": {},
     "output_type": "execute_result"
    }
   ],
   "source": [
    "X.isnull().sum().sum()"
   ]
  },
  {
   "cell_type": "code",
   "execution_count": 6,
   "metadata": {},
   "outputs": [
    {
     "data": {
      "text/html": [
       "<div>\n",
       "<style scoped>\n",
       "    .dataframe tbody tr th:only-of-type {\n",
       "        vertical-align: middle;\n",
       "    }\n",
       "\n",
       "    .dataframe tbody tr th {\n",
       "        vertical-align: top;\n",
       "    }\n",
       "\n",
       "    .dataframe thead th {\n",
       "        text-align: right;\n",
       "    }\n",
       "</style>\n",
       "<table border=\"1\" class=\"dataframe\">\n",
       "  <thead>\n",
       "    <tr style=\"text-align: right;\">\n",
       "      <th></th>\n",
       "      <th>ENSG00000149311</th>\n",
       "      <th>ENSG00000012048</th>\n",
       "      <th>ENSG00000139618</th>\n",
       "      <th>ENSG00000138376</th>\n",
       "      <th>ENSG00000136492</th>\n",
       "      <th>ENSG00000163322</th>\n",
       "      <th>ENSG00000051180</th>\n",
       "      <th>ENSG00000105393</th>\n",
       "      <th>ENSG00000163930</th>\n",
       "      <th>ENSG00000185515</th>\n",
       "      <th>...</th>\n",
       "      <th>ENSG00000085999</th>\n",
       "      <th>ENSG00000126215</th>\n",
       "      <th>ENSG00000170836</th>\n",
       "      <th>ENSG00000167085</th>\n",
       "      <th>ENSG00000072571</th>\n",
       "      <th>ENSG00000141736</th>\n",
       "      <th>ENSG00000171862</th>\n",
       "      <th>ENSG00000134982</th>\n",
       "      <th>ENSG00000116062</th>\n",
       "      <th>ENSG00000185379</th>\n",
       "    </tr>\n",
       "  </thead>\n",
       "  <tbody>\n",
       "    <tr>\n",
       "      <th>9c2ffccc-c4c8-4f87-bcd8-8ce099e31b1b.tsv</th>\n",
       "      <td>3.349073</td>\n",
       "      <td>2.076688</td>\n",
       "      <td>1.824516</td>\n",
       "      <td>2.192672</td>\n",
       "      <td>1.609500</td>\n",
       "      <td>1.669269</td>\n",
       "      <td>0.922215</td>\n",
       "      <td>11.144528</td>\n",
       "      <td>18.949397</td>\n",
       "      <td>8.380288</td>\n",
       "      <td>...</td>\n",
       "      <td>1.555457</td>\n",
       "      <td>1.352441</td>\n",
       "      <td>5.895318</td>\n",
       "      <td>21.680196</td>\n",
       "      <td>1.233657</td>\n",
       "      <td>32.353247</td>\n",
       "      <td>11.646237</td>\n",
       "      <td>8.242039</td>\n",
       "      <td>8.344958</td>\n",
       "      <td>1.485687</td>\n",
       "    </tr>\n",
       "    <tr>\n",
       "      <th>98bb8ea9-025e-40cd-a21e-3a9dd478ef23.tsv</th>\n",
       "      <td>0.949747</td>\n",
       "      <td>0.603445</td>\n",
       "      <td>0.317373</td>\n",
       "      <td>1.459129</td>\n",
       "      <td>1.481305</td>\n",
       "      <td>0.669969</td>\n",
       "      <td>1.901539</td>\n",
       "      <td>16.153732</td>\n",
       "      <td>6.564662</td>\n",
       "      <td>8.409790</td>\n",
       "      <td>...</td>\n",
       "      <td>1.370167</td>\n",
       "      <td>0.815359</td>\n",
       "      <td>8.078303</td>\n",
       "      <td>16.976203</td>\n",
       "      <td>3.405810</td>\n",
       "      <td>7.974353</td>\n",
       "      <td>9.219720</td>\n",
       "      <td>1.396806</td>\n",
       "      <td>6.037363</td>\n",
       "      <td>0.711532</td>\n",
       "    </tr>\n",
       "    <tr>\n",
       "      <th>80072d64-b734-46ef-b4bf-a9e5cd0d5d06.tsv</th>\n",
       "      <td>3.650380</td>\n",
       "      <td>1.826889</td>\n",
       "      <td>0.642263</td>\n",
       "      <td>3.280581</td>\n",
       "      <td>0.843390</td>\n",
       "      <td>3.223135</td>\n",
       "      <td>0.931614</td>\n",
       "      <td>8.103212</td>\n",
       "      <td>12.252555</td>\n",
       "      <td>10.924507</td>\n",
       "      <td>...</td>\n",
       "      <td>0.797574</td>\n",
       "      <td>1.393900</td>\n",
       "      <td>1.879202</td>\n",
       "      <td>16.682002</td>\n",
       "      <td>2.077765</td>\n",
       "      <td>38.339405</td>\n",
       "      <td>10.640550</td>\n",
       "      <td>4.015698</td>\n",
       "      <td>5.435211</td>\n",
       "      <td>1.380691</td>\n",
       "    </tr>\n",
       "    <tr>\n",
       "      <th>d14add36-6662-47ce-9a26-3374bf1e8807.tsv</th>\n",
       "      <td>2.180220</td>\n",
       "      <td>1.864945</td>\n",
       "      <td>0.975958</td>\n",
       "      <td>3.256514</td>\n",
       "      <td>0.789002</td>\n",
       "      <td>1.843514</td>\n",
       "      <td>3.328436</td>\n",
       "      <td>8.542697</td>\n",
       "      <td>11.508710</td>\n",
       "      <td>15.944124</td>\n",
       "      <td>...</td>\n",
       "      <td>3.138931</td>\n",
       "      <td>1.000738</td>\n",
       "      <td>4.874656</td>\n",
       "      <td>20.386328</td>\n",
       "      <td>3.275069</td>\n",
       "      <td>21.218971</td>\n",
       "      <td>9.373860</td>\n",
       "      <td>2.875024</td>\n",
       "      <td>9.631368</td>\n",
       "      <td>2.245945</td>\n",
       "    </tr>\n",
       "    <tr>\n",
       "      <th>728be0eb-7a5b-42cd-84d9-6a86cec842d5.tsv</th>\n",
       "      <td>1.017167</td>\n",
       "      <td>1.573489</td>\n",
       "      <td>0.570927</td>\n",
       "      <td>1.246497</td>\n",
       "      <td>0.624071</td>\n",
       "      <td>0.896118</td>\n",
       "      <td>1.533593</td>\n",
       "      <td>15.138620</td>\n",
       "      <td>11.516282</td>\n",
       "      <td>13.315581</td>\n",
       "      <td>...</td>\n",
       "      <td>0.601387</td>\n",
       "      <td>0.450720</td>\n",
       "      <td>4.545473</td>\n",
       "      <td>48.411958</td>\n",
       "      <td>2.437793</td>\n",
       "      <td>27.018005</td>\n",
       "      <td>6.230324</td>\n",
       "      <td>3.192836</td>\n",
       "      <td>6.299393</td>\n",
       "      <td>1.373761</td>\n",
       "    </tr>\n",
       "    <tr>\n",
       "      <th>...</th>\n",
       "      <td>...</td>\n",
       "      <td>...</td>\n",
       "      <td>...</td>\n",
       "      <td>...</td>\n",
       "      <td>...</td>\n",
       "      <td>...</td>\n",
       "      <td>...</td>\n",
       "      <td>...</td>\n",
       "      <td>...</td>\n",
       "      <td>...</td>\n",
       "      <td>...</td>\n",
       "      <td>...</td>\n",
       "      <td>...</td>\n",
       "      <td>...</td>\n",
       "      <td>...</td>\n",
       "      <td>...</td>\n",
       "      <td>...</td>\n",
       "      <td>...</td>\n",
       "      <td>...</td>\n",
       "      <td>...</td>\n",
       "      <td>...</td>\n",
       "    </tr>\n",
       "    <tr>\n",
       "      <th>e3cacc94-c92a-42b1-9fad-9db163983729.tsv</th>\n",
       "      <td>2.478659</td>\n",
       "      <td>2.098964</td>\n",
       "      <td>0.504001</td>\n",
       "      <td>1.967237</td>\n",
       "      <td>0.934342</td>\n",
       "      <td>1.341971</td>\n",
       "      <td>9.482712</td>\n",
       "      <td>17.716800</td>\n",
       "      <td>20.117642</td>\n",
       "      <td>7.458897</td>\n",
       "      <td>...</td>\n",
       "      <td>2.604471</td>\n",
       "      <td>2.217846</td>\n",
       "      <td>3.916693</td>\n",
       "      <td>39.482490</td>\n",
       "      <td>3.904637</td>\n",
       "      <td>38.327607</td>\n",
       "      <td>0.691632</td>\n",
       "      <td>0.858662</td>\n",
       "      <td>9.729265</td>\n",
       "      <td>2.649245</td>\n",
       "    </tr>\n",
       "    <tr>\n",
       "      <th>c7843936-3b14-48b4-8642-8554341d3f21.tsv</th>\n",
       "      <td>1.639374</td>\n",
       "      <td>0.916885</td>\n",
       "      <td>0.421796</td>\n",
       "      <td>2.185868</td>\n",
       "      <td>0.373040</td>\n",
       "      <td>1.551919</td>\n",
       "      <td>1.055032</td>\n",
       "      <td>15.121386</td>\n",
       "      <td>12.179594</td>\n",
       "      <td>14.353932</td>\n",
       "      <td>...</td>\n",
       "      <td>0.511571</td>\n",
       "      <td>1.160282</td>\n",
       "      <td>3.822712</td>\n",
       "      <td>35.330272</td>\n",
       "      <td>1.200691</td>\n",
       "      <td>47.248998</td>\n",
       "      <td>13.517595</td>\n",
       "      <td>2.753962</td>\n",
       "      <td>7.762060</td>\n",
       "      <td>1.555239</td>\n",
       "    </tr>\n",
       "    <tr>\n",
       "      <th>f6d3d770-157b-479b-a5cc-56e174dda026.tsv</th>\n",
       "      <td>2.757105</td>\n",
       "      <td>4.390183</td>\n",
       "      <td>1.170096</td>\n",
       "      <td>5.869232</td>\n",
       "      <td>2.277884</td>\n",
       "      <td>2.518291</td>\n",
       "      <td>3.080238</td>\n",
       "      <td>10.073405</td>\n",
       "      <td>17.742680</td>\n",
       "      <td>12.563708</td>\n",
       "      <td>...</td>\n",
       "      <td>3.314897</td>\n",
       "      <td>0.802007</td>\n",
       "      <td>3.873492</td>\n",
       "      <td>19.636216</td>\n",
       "      <td>5.749549</td>\n",
       "      <td>23.752450</td>\n",
       "      <td>13.809559</td>\n",
       "      <td>6.324653</td>\n",
       "      <td>11.177405</td>\n",
       "      <td>2.564630</td>\n",
       "    </tr>\n",
       "    <tr>\n",
       "      <th>837edc9c-0d20-4889-a9cd-a54ed6b68d13.tsv</th>\n",
       "      <td>0.426701</td>\n",
       "      <td>0.630418</td>\n",
       "      <td>0.221687</td>\n",
       "      <td>0.256681</td>\n",
       "      <td>0.232960</td>\n",
       "      <td>0.301514</td>\n",
       "      <td>1.851096</td>\n",
       "      <td>31.254277</td>\n",
       "      <td>28.080204</td>\n",
       "      <td>1.445710</td>\n",
       "      <td>...</td>\n",
       "      <td>1.638400</td>\n",
       "      <td>1.955220</td>\n",
       "      <td>0.922670</td>\n",
       "      <td>42.119102</td>\n",
       "      <td>1.277908</td>\n",
       "      <td>7.344798</td>\n",
       "      <td>3.134231</td>\n",
       "      <td>0.464762</td>\n",
       "      <td>2.292634</td>\n",
       "      <td>1.005518</td>\n",
       "    </tr>\n",
       "    <tr>\n",
       "      <th>3bdf6376-9aa9-44cc-a1f1-5a6387edce23.tsv</th>\n",
       "      <td>0.760424</td>\n",
       "      <td>5.902165</td>\n",
       "      <td>0.778817</td>\n",
       "      <td>4.474909</td>\n",
       "      <td>2.381804</td>\n",
       "      <td>0.933657</td>\n",
       "      <td>6.083363</td>\n",
       "      <td>19.374266</td>\n",
       "      <td>19.293658</td>\n",
       "      <td>10.908914</td>\n",
       "      <td>...</td>\n",
       "      <td>3.085484</td>\n",
       "      <td>3.209975</td>\n",
       "      <td>3.583893</td>\n",
       "      <td>37.138579</td>\n",
       "      <td>7.771075</td>\n",
       "      <td>66.527474</td>\n",
       "      <td>9.913102</td>\n",
       "      <td>2.468194</td>\n",
       "      <td>8.103137</td>\n",
       "      <td>3.216166</td>\n",
       "    </tr>\n",
       "  </tbody>\n",
       "</table>\n",
       "<p>1165 rows × 43 columns</p>\n",
       "</div>"
      ],
      "text/plain": [
       "                                          ENSG00000149311  ENSG00000012048  \\\n",
       "9c2ffccc-c4c8-4f87-bcd8-8ce099e31b1b.tsv         3.349073         2.076688   \n",
       "98bb8ea9-025e-40cd-a21e-3a9dd478ef23.tsv         0.949747         0.603445   \n",
       "80072d64-b734-46ef-b4bf-a9e5cd0d5d06.tsv         3.650380         1.826889   \n",
       "d14add36-6662-47ce-9a26-3374bf1e8807.tsv         2.180220         1.864945   \n",
       "728be0eb-7a5b-42cd-84d9-6a86cec842d5.tsv         1.017167         1.573489   \n",
       "...                                                   ...              ...   \n",
       "e3cacc94-c92a-42b1-9fad-9db163983729.tsv         2.478659         2.098964   \n",
       "c7843936-3b14-48b4-8642-8554341d3f21.tsv         1.639374         0.916885   \n",
       "f6d3d770-157b-479b-a5cc-56e174dda026.tsv         2.757105         4.390183   \n",
       "837edc9c-0d20-4889-a9cd-a54ed6b68d13.tsv         0.426701         0.630418   \n",
       "3bdf6376-9aa9-44cc-a1f1-5a6387edce23.tsv         0.760424         5.902165   \n",
       "\n",
       "                                          ENSG00000139618  ENSG00000138376  \\\n",
       "9c2ffccc-c4c8-4f87-bcd8-8ce099e31b1b.tsv         1.824516         2.192672   \n",
       "98bb8ea9-025e-40cd-a21e-3a9dd478ef23.tsv         0.317373         1.459129   \n",
       "80072d64-b734-46ef-b4bf-a9e5cd0d5d06.tsv         0.642263         3.280581   \n",
       "d14add36-6662-47ce-9a26-3374bf1e8807.tsv         0.975958         3.256514   \n",
       "728be0eb-7a5b-42cd-84d9-6a86cec842d5.tsv         0.570927         1.246497   \n",
       "...                                                   ...              ...   \n",
       "e3cacc94-c92a-42b1-9fad-9db163983729.tsv         0.504001         1.967237   \n",
       "c7843936-3b14-48b4-8642-8554341d3f21.tsv         0.421796         2.185868   \n",
       "f6d3d770-157b-479b-a5cc-56e174dda026.tsv         1.170096         5.869232   \n",
       "837edc9c-0d20-4889-a9cd-a54ed6b68d13.tsv         0.221687         0.256681   \n",
       "3bdf6376-9aa9-44cc-a1f1-5a6387edce23.tsv         0.778817         4.474909   \n",
       "\n",
       "                                          ENSG00000136492  ENSG00000163322  \\\n",
       "9c2ffccc-c4c8-4f87-bcd8-8ce099e31b1b.tsv         1.609500         1.669269   \n",
       "98bb8ea9-025e-40cd-a21e-3a9dd478ef23.tsv         1.481305         0.669969   \n",
       "80072d64-b734-46ef-b4bf-a9e5cd0d5d06.tsv         0.843390         3.223135   \n",
       "d14add36-6662-47ce-9a26-3374bf1e8807.tsv         0.789002         1.843514   \n",
       "728be0eb-7a5b-42cd-84d9-6a86cec842d5.tsv         0.624071         0.896118   \n",
       "...                                                   ...              ...   \n",
       "e3cacc94-c92a-42b1-9fad-9db163983729.tsv         0.934342         1.341971   \n",
       "c7843936-3b14-48b4-8642-8554341d3f21.tsv         0.373040         1.551919   \n",
       "f6d3d770-157b-479b-a5cc-56e174dda026.tsv         2.277884         2.518291   \n",
       "837edc9c-0d20-4889-a9cd-a54ed6b68d13.tsv         0.232960         0.301514   \n",
       "3bdf6376-9aa9-44cc-a1f1-5a6387edce23.tsv         2.381804         0.933657   \n",
       "\n",
       "                                          ENSG00000051180  ENSG00000105393  \\\n",
       "9c2ffccc-c4c8-4f87-bcd8-8ce099e31b1b.tsv         0.922215        11.144528   \n",
       "98bb8ea9-025e-40cd-a21e-3a9dd478ef23.tsv         1.901539        16.153732   \n",
       "80072d64-b734-46ef-b4bf-a9e5cd0d5d06.tsv         0.931614         8.103212   \n",
       "d14add36-6662-47ce-9a26-3374bf1e8807.tsv         3.328436         8.542697   \n",
       "728be0eb-7a5b-42cd-84d9-6a86cec842d5.tsv         1.533593        15.138620   \n",
       "...                                                   ...              ...   \n",
       "e3cacc94-c92a-42b1-9fad-9db163983729.tsv         9.482712        17.716800   \n",
       "c7843936-3b14-48b4-8642-8554341d3f21.tsv         1.055032        15.121386   \n",
       "f6d3d770-157b-479b-a5cc-56e174dda026.tsv         3.080238        10.073405   \n",
       "837edc9c-0d20-4889-a9cd-a54ed6b68d13.tsv         1.851096        31.254277   \n",
       "3bdf6376-9aa9-44cc-a1f1-5a6387edce23.tsv         6.083363        19.374266   \n",
       "\n",
       "                                          ENSG00000163930  ENSG00000185515  \\\n",
       "9c2ffccc-c4c8-4f87-bcd8-8ce099e31b1b.tsv        18.949397         8.380288   \n",
       "98bb8ea9-025e-40cd-a21e-3a9dd478ef23.tsv         6.564662         8.409790   \n",
       "80072d64-b734-46ef-b4bf-a9e5cd0d5d06.tsv        12.252555        10.924507   \n",
       "d14add36-6662-47ce-9a26-3374bf1e8807.tsv        11.508710        15.944124   \n",
       "728be0eb-7a5b-42cd-84d9-6a86cec842d5.tsv        11.516282        13.315581   \n",
       "...                                                   ...              ...   \n",
       "e3cacc94-c92a-42b1-9fad-9db163983729.tsv        20.117642         7.458897   \n",
       "c7843936-3b14-48b4-8642-8554341d3f21.tsv        12.179594        14.353932   \n",
       "f6d3d770-157b-479b-a5cc-56e174dda026.tsv        17.742680        12.563708   \n",
       "837edc9c-0d20-4889-a9cd-a54ed6b68d13.tsv        28.080204         1.445710   \n",
       "3bdf6376-9aa9-44cc-a1f1-5a6387edce23.tsv        19.293658        10.908914   \n",
       "\n",
       "                                          ...  ENSG00000085999  \\\n",
       "9c2ffccc-c4c8-4f87-bcd8-8ce099e31b1b.tsv  ...         1.555457   \n",
       "98bb8ea9-025e-40cd-a21e-3a9dd478ef23.tsv  ...         1.370167   \n",
       "80072d64-b734-46ef-b4bf-a9e5cd0d5d06.tsv  ...         0.797574   \n",
       "d14add36-6662-47ce-9a26-3374bf1e8807.tsv  ...         3.138931   \n",
       "728be0eb-7a5b-42cd-84d9-6a86cec842d5.tsv  ...         0.601387   \n",
       "...                                       ...              ...   \n",
       "e3cacc94-c92a-42b1-9fad-9db163983729.tsv  ...         2.604471   \n",
       "c7843936-3b14-48b4-8642-8554341d3f21.tsv  ...         0.511571   \n",
       "f6d3d770-157b-479b-a5cc-56e174dda026.tsv  ...         3.314897   \n",
       "837edc9c-0d20-4889-a9cd-a54ed6b68d13.tsv  ...         1.638400   \n",
       "3bdf6376-9aa9-44cc-a1f1-5a6387edce23.tsv  ...         3.085484   \n",
       "\n",
       "                                          ENSG00000126215  ENSG00000170836  \\\n",
       "9c2ffccc-c4c8-4f87-bcd8-8ce099e31b1b.tsv         1.352441         5.895318   \n",
       "98bb8ea9-025e-40cd-a21e-3a9dd478ef23.tsv         0.815359         8.078303   \n",
       "80072d64-b734-46ef-b4bf-a9e5cd0d5d06.tsv         1.393900         1.879202   \n",
       "d14add36-6662-47ce-9a26-3374bf1e8807.tsv         1.000738         4.874656   \n",
       "728be0eb-7a5b-42cd-84d9-6a86cec842d5.tsv         0.450720         4.545473   \n",
       "...                                                   ...              ...   \n",
       "e3cacc94-c92a-42b1-9fad-9db163983729.tsv         2.217846         3.916693   \n",
       "c7843936-3b14-48b4-8642-8554341d3f21.tsv         1.160282         3.822712   \n",
       "f6d3d770-157b-479b-a5cc-56e174dda026.tsv         0.802007         3.873492   \n",
       "837edc9c-0d20-4889-a9cd-a54ed6b68d13.tsv         1.955220         0.922670   \n",
       "3bdf6376-9aa9-44cc-a1f1-5a6387edce23.tsv         3.209975         3.583893   \n",
       "\n",
       "                                          ENSG00000167085  ENSG00000072571  \\\n",
       "9c2ffccc-c4c8-4f87-bcd8-8ce099e31b1b.tsv        21.680196         1.233657   \n",
       "98bb8ea9-025e-40cd-a21e-3a9dd478ef23.tsv        16.976203         3.405810   \n",
       "80072d64-b734-46ef-b4bf-a9e5cd0d5d06.tsv        16.682002         2.077765   \n",
       "d14add36-6662-47ce-9a26-3374bf1e8807.tsv        20.386328         3.275069   \n",
       "728be0eb-7a5b-42cd-84d9-6a86cec842d5.tsv        48.411958         2.437793   \n",
       "...                                                   ...              ...   \n",
       "e3cacc94-c92a-42b1-9fad-9db163983729.tsv        39.482490         3.904637   \n",
       "c7843936-3b14-48b4-8642-8554341d3f21.tsv        35.330272         1.200691   \n",
       "f6d3d770-157b-479b-a5cc-56e174dda026.tsv        19.636216         5.749549   \n",
       "837edc9c-0d20-4889-a9cd-a54ed6b68d13.tsv        42.119102         1.277908   \n",
       "3bdf6376-9aa9-44cc-a1f1-5a6387edce23.tsv        37.138579         7.771075   \n",
       "\n",
       "                                          ENSG00000141736  ENSG00000171862  \\\n",
       "9c2ffccc-c4c8-4f87-bcd8-8ce099e31b1b.tsv        32.353247        11.646237   \n",
       "98bb8ea9-025e-40cd-a21e-3a9dd478ef23.tsv         7.974353         9.219720   \n",
       "80072d64-b734-46ef-b4bf-a9e5cd0d5d06.tsv        38.339405        10.640550   \n",
       "d14add36-6662-47ce-9a26-3374bf1e8807.tsv        21.218971         9.373860   \n",
       "728be0eb-7a5b-42cd-84d9-6a86cec842d5.tsv        27.018005         6.230324   \n",
       "...                                                   ...              ...   \n",
       "e3cacc94-c92a-42b1-9fad-9db163983729.tsv        38.327607         0.691632   \n",
       "c7843936-3b14-48b4-8642-8554341d3f21.tsv        47.248998        13.517595   \n",
       "f6d3d770-157b-479b-a5cc-56e174dda026.tsv        23.752450        13.809559   \n",
       "837edc9c-0d20-4889-a9cd-a54ed6b68d13.tsv         7.344798         3.134231   \n",
       "3bdf6376-9aa9-44cc-a1f1-5a6387edce23.tsv        66.527474         9.913102   \n",
       "\n",
       "                                          ENSG00000134982  ENSG00000116062  \\\n",
       "9c2ffccc-c4c8-4f87-bcd8-8ce099e31b1b.tsv         8.242039         8.344958   \n",
       "98bb8ea9-025e-40cd-a21e-3a9dd478ef23.tsv         1.396806         6.037363   \n",
       "80072d64-b734-46ef-b4bf-a9e5cd0d5d06.tsv         4.015698         5.435211   \n",
       "d14add36-6662-47ce-9a26-3374bf1e8807.tsv         2.875024         9.631368   \n",
       "728be0eb-7a5b-42cd-84d9-6a86cec842d5.tsv         3.192836         6.299393   \n",
       "...                                                   ...              ...   \n",
       "e3cacc94-c92a-42b1-9fad-9db163983729.tsv         0.858662         9.729265   \n",
       "c7843936-3b14-48b4-8642-8554341d3f21.tsv         2.753962         7.762060   \n",
       "f6d3d770-157b-479b-a5cc-56e174dda026.tsv         6.324653        11.177405   \n",
       "837edc9c-0d20-4889-a9cd-a54ed6b68d13.tsv         0.464762         2.292634   \n",
       "3bdf6376-9aa9-44cc-a1f1-5a6387edce23.tsv         2.468194         8.103137   \n",
       "\n",
       "                                          ENSG00000185379  \n",
       "9c2ffccc-c4c8-4f87-bcd8-8ce099e31b1b.tsv         1.485687  \n",
       "98bb8ea9-025e-40cd-a21e-3a9dd478ef23.tsv         0.711532  \n",
       "80072d64-b734-46ef-b4bf-a9e5cd0d5d06.tsv         1.380691  \n",
       "d14add36-6662-47ce-9a26-3374bf1e8807.tsv         2.245945  \n",
       "728be0eb-7a5b-42cd-84d9-6a86cec842d5.tsv         1.373761  \n",
       "...                                                   ...  \n",
       "e3cacc94-c92a-42b1-9fad-9db163983729.tsv         2.649245  \n",
       "c7843936-3b14-48b4-8642-8554341d3f21.tsv         1.555239  \n",
       "f6d3d770-157b-479b-a5cc-56e174dda026.tsv         2.564630  \n",
       "837edc9c-0d20-4889-a9cd-a54ed6b68d13.tsv         1.005518  \n",
       "3bdf6376-9aa9-44cc-a1f1-5a6387edce23.tsv         3.216166  \n",
       "\n",
       "[1165 rows x 43 columns]"
      ]
     },
     "execution_count": 6,
     "metadata": {},
     "output_type": "execute_result"
    }
   ],
   "source": [
    "X"
   ]
  },
  {
   "cell_type": "code",
   "execution_count": 8,
   "metadata": {},
   "outputs": [
    {
     "name": "stdout",
     "output_type": "stream",
     "text": [
      "[0 1 2]\n"
     ]
    },
    {
     "data": {
      "text/plain": [
       "9c2ffccc-c4c8-4f87-bcd8-8ce099e31b1b.tsv    0\n",
       "98bb8ea9-025e-40cd-a21e-3a9dd478ef23.tsv    0\n",
       "80072d64-b734-46ef-b4bf-a9e5cd0d5d06.tsv    0\n",
       "d14add36-6662-47ce-9a26-3374bf1e8807.tsv    0\n",
       "728be0eb-7a5b-42cd-84d9-6a86cec842d5.tsv    0\n",
       "                                           ..\n",
       "e3cacc94-c92a-42b1-9fad-9db163983729.tsv    2\n",
       "c7843936-3b14-48b4-8642-8554341d3f21.tsv    2\n",
       "f6d3d770-157b-479b-a5cc-56e174dda026.tsv    2\n",
       "837edc9c-0d20-4889-a9cd-a54ed6b68d13.tsv    2\n",
       "3bdf6376-9aa9-44cc-a1f1-5a6387edce23.tsv    2\n",
       "Name: tumor_stage, Length: 1165, dtype: int64"
      ]
     },
     "execution_count": 8,
     "metadata": {},
     "output_type": "execute_result"
    }
   ],
   "source": [
    "print(y.unique())\n",
    "y"
   ]
  },
  {
   "cell_type": "markdown",
   "metadata": {
    "id": "sxpQoMaegJU5"
   },
   "source": [
    "There appear to be no missing data."
   ]
  },
  {
   "cell_type": "markdown",
   "metadata": {
    "id": "2CFMZLrlgU6M"
   },
   "source": [
    "# Features Selection\n",
    "When it comes to exploring the features of our dataset, we realize that we actually have no idea of what the quantitative variables mean; we have some indications on the general kind of data that were collected, but we are operating in a blind manner.\n",
    "\n",
    "In this context, we deem more useful to use all the information provided by the available features trying to clean out the noise in the data by means of PCA. Indeed, by selecting a subset of the possible components to both reduce the number of features and the noise, by choosing a lower proportion of the explained variance."
   ]
  },
  {
   "cell_type": "markdown",
   "metadata": {},
   "source": [
    "## 1.0.0 Feature selection with PCA"
   ]
  },
  {
   "cell_type": "code",
   "execution_count": 9,
   "metadata": {
    "colab": {
     "base_uri": "https://localhost:8080/"
    },
    "id": "QmwMj5U9gmBN",
    "outputId": "6afd4c8f-1fd7-46b9-fa09-c8e7f784bccb"
   },
   "outputs": [
    {
     "name": "stdout",
     "output_type": "stream",
     "text": [
      "After feature selection with PCA, from 60483 features we left 29 features\n"
     ]
    }
   ],
   "source": [
    "from sklearn.preprocessing import StandardScaler\n",
    "data_numeric = X\n",
    "\n",
    "# Create the Scaler object\n",
    "scaler = StandardScaler()\n",
    "\n",
    "# Fit your data on the scaler object\n",
    "data_numeric_standardized = scaler.fit_transform(data_numeric)\n",
    "data_numeric_standardized=pd.DataFrame(data_numeric_standardized,columns=data_numeric.columns)\n",
    "\n",
    "from sklearn.decomposition import PCA\n",
    "\n",
    "pca = PCA(0.90) # 90% of confidency chosen\n",
    "data_numeric_pca = pca.fit_transform(data_numeric_standardized)\n",
    "\n",
    "\n",
    "X_pca = pd.DataFrame(data_numeric_pca)\n",
    "print(\"After feature selection with PCA, from 60483 features we left %i features\"%(X_pca.shape[1]))"
   ]
  },
  {
   "cell_type": "markdown",
   "metadata": {
    "id": "jeHxlxiRjmm1"
   },
   "source": [
    "## Spilitting the data set"
   ]
  },
  {
   "cell_type": "code",
   "execution_count": 10,
   "metadata": {
    "colab": {
     "base_uri": "https://localhost:8080/"
    },
    "id": "GANFT-D7jHNx",
    "outputId": "a0487620-1d59-4f6f-d720-88799cca649e"
   },
   "outputs": [
    {
     "name": "stdout",
     "output_type": "stream",
     "text": [
      "Train:  (873, 29)\n",
      "Test:  (292, 29)\n"
     ]
    }
   ],
   "source": [
    "from sklearn.model_selection import train_test_split\n",
    "\n",
    "X_train, X_test, y_train, y_test = train_test_split(X_pca, y,random_state=15)\n",
    "\n",
    "print('Train: ', X_train.shape)\n",
    "print('Test: ', X_test.shape)"
   ]
  },
  {
   "cell_type": "code",
   "execution_count": 11,
   "metadata": {
    "colab": {
     "base_uri": "https://localhost:8080/",
     "height": 351
    },
    "id": "tkHE1ST6dnQ4",
    "outputId": "24f2fefe-5795-49ad-a2cd-e5221ad4793a",
    "scrolled": true
   },
   "outputs": [
    {
     "name": "stdout",
     "output_type": "stream",
     "text": [
      "1    522\n",
      "2    210\n",
      "0    141\n",
      "Name: tumor_stage, dtype: int64\n",
      "[1, 2, 0]\n"
     ]
    },
    {
     "data": {
      "image/png": "[encoded data removed]",
      "text/plain": [
       "<Figure size 432x288 with 1 Axes>"
      ]
     },
     "metadata": {
      "needs_background": "light"
     },
     "output_type": "display_data"
    }
   ],
   "source": [
    "def show_values(y):\n",
    "  ss = y.value_counts()\n",
    "  print(ss)\n",
    "  dd = list(ss.index)\n",
    "  print(dd)\n",
    "\n",
    "  import matplotlib.pyplot as plt\n",
    "  plt.bar(x=[1,2,3], height=ss, tick_label = dd)\n",
    "  plt.show()\n",
    "show_values(y_train)\n"
   ]
  },
  {
   "cell_type": "markdown",
   "metadata": {
    "id": "_kkAFsYctZam"
   },
   "source": [
    "## 1.1.0 Oversampling"
   ]
  },
  {
   "cell_type": "code",
   "execution_count": 12,
   "metadata": {
    "colab": {
     "base_uri": "https://localhost:8080/",
     "height": 580
    },
    "id": "vWxjMV068sIl",
    "outputId": "ed856e7b-cd87-4243-d66c-024d10876362",
    "scrolled": true
   },
   "outputs": [
    {
     "data": {
      "image/png": "[encoded data removed]",
      "text/plain": [
       "<Figure size 1800x720 with 2 Axes>"
      ]
     },
     "metadata": {
      "needs_background": "light"
     },
     "output_type": "display_data"
    }
   ],
   "source": [
    "def apply_oversampling(X, y):\n",
    "  from imblearn.over_sampling import SMOTE\n",
    "  from matplotlib import pyplot as plt\n",
    "\n",
    "  X_class = X\n",
    "\n",
    "  fig, axs = plt.subplots(1,2, figsize=(25,10))\n",
    "  pd.Series(y_train).value_counts().plot.bar(ax = axs[0]).title.set_text('Before SMOTE')\n",
    "\n",
    "  smote = SMOTE(random_state = 101)\n",
    "  X_class, label_cat = smote.fit_resample(X_class, y)\n",
    "\n",
    "  pd.Series(label_cat).value_counts().plot.bar(ax = axs[1]).title.set_text('After SMOTE')\n",
    "\n",
    "  return X_class, label_cat\n",
    "\n",
    "X_train_1, y_train_1 = apply_oversampling(X_train, y_train)"
   ]
  },
  {
   "cell_type": "markdown",
   "metadata": {
    "id": "pe04cQer2ijd"
   },
   "source": [
    "# Data Clasification"
   ]
  },
  {
   "cell_type": "markdown",
   "metadata": {
    "id": "AjiArCYzSN0c"
   },
   "source": [
    "## 1.1.1. NN"
   ]
  },
  {
   "cell_type": "code",
   "execution_count": 13,
   "metadata": {
    "colab": {
     "base_uri": "https://localhost:8080/"
    },
    "id": "p5YtcSliSQ7Z",
    "outputId": "e28b5a02-1f9c-4fee-8a85-1d322a647c11"
   },
   "outputs": [
    {
     "name": "stderr",
     "output_type": "stream",
     "text": [
      "/home/bnt4me/.local/lib/python3.8/site-packages/sklearn/neural_network/_multilayer_perceptron.py:692: ConvergenceWarning: Stochastic Optimizer: Maximum iterations (300) reached and the optimization hasn't converged yet.\n",
      "  warnings.warn(\n"
     ]
    },
    {
     "data": {
      "text/plain": [
       "GridSearchCV(cv=10, estimator=MLPClassifier(max_iter=300, random_state=1),\n",
       "             n_jobs=5,\n",
       "             param_grid={'activation': ['logistic', 'relu'],\n",
       "                         'alpha': [0.0001, 0.001]},\n",
       "             refit='accuracy', return_train_score=True,\n",
       "             scoring={'accuracy': make_scorer(accuracy_score),\n",
       "                      'precision': make_scorer(precision_score, average=micro),\n",
       "                      'recall': make_scorer(recall_score, average=micro)})"
      ]
     },
     "execution_count": 13,
     "metadata": {},
     "output_type": "execute_result"
    }
   ],
   "source": [
    "from sklearn.neural_network import MLPClassifier\n",
    "from sklearn.model_selection import GridSearchCV\n",
    "from sklearn.metrics import precision_score\n",
    "from sklearn.metrics import accuracy_score\n",
    "from sklearn.metrics import recall_score\n",
    "from sklearn.metrics import make_scorer\n",
    "\n",
    "\n",
    "param_grid = {'activation': ['logistic', 'relu'],'alpha':[0.0001,0.001]}\n",
    "scores= {'accuracy':make_scorer(accuracy_score),'precision':make_scorer(precision_score,average='micro'),\n",
    "         'recall':make_scorer(recall_score,average='micro')}\n",
    "\n",
    "neu_net = MLPClassifier(random_state=1, max_iter=300)\n",
    "clf_nn = GridSearchCV(neu_net, param_grid,cv=10,scoring=scores,\n",
    "                       refit='accuracy', return_train_score=True,n_jobs=5)\n",
    "clf_nn.fit(X_train_1, y_train_1)"
   ]
  },
  {
   "cell_type": "code",
   "execution_count": 14,
   "metadata": {
    "colab": {
     "base_uri": "https://localhost:8080/"
    },
    "id": "23-4b6jGk69W",
    "outputId": "e848433b-386b-4bcb-a972-304b7ef3425a"
   },
   "outputs": [
    {
     "name": "stdout",
     "output_type": "stream",
     "text": [
      "{'activation': 'relu', 'alpha': 0.0001}\n"
     ]
    }
   ],
   "source": [
    "print(clf_nn.best_params_)"
   ]
  },
  {
   "cell_type": "code",
   "execution_count": 15,
   "metadata": {
    "colab": {
     "base_uri": "https://localhost:8080/",
     "height": 397
    },
    "id": "0fnAD6bhlAGt",
    "outputId": "f39aa523-c84d-4c99-8bd8-e555f756888c"
   },
   "outputs": [
    {
     "data": {
      "text/html": [
       "<div>\n",
       "<style scoped>\n",
       "    .dataframe tbody tr th:only-of-type {\n",
       "        vertical-align: middle;\n",
       "    }\n",
       "\n",
       "    .dataframe tbody tr th {\n",
       "        vertical-align: top;\n",
       "    }\n",
       "\n",
       "    .dataframe thead th {\n",
       "        text-align: right;\n",
       "    }\n",
       "</style>\n",
       "<table border=\"1\" class=\"dataframe\">\n",
       "  <thead>\n",
       "    <tr style=\"text-align: right;\">\n",
       "      <th></th>\n",
       "      <th>mean_fit_time</th>\n",
       "      <th>params</th>\n",
       "      <th>mean_test_accuracy</th>\n",
       "      <th>std_test_accuracy</th>\n",
       "      <th>rank_test_accuracy</th>\n",
       "      <th>mean_test_precision</th>\n",
       "      <th>std_test_precision</th>\n",
       "      <th>mean_test_recall</th>\n",
       "      <th>std_test_recall</th>\n",
       "    </tr>\n",
       "  </thead>\n",
       "  <tbody>\n",
       "    <tr>\n",
       "      <th>2</th>\n",
       "      <td>1.669888</td>\n",
       "      <td>{'activation': 'relu', 'alpha': 0.0001}</td>\n",
       "      <td>0.792626</td>\n",
       "      <td>0.078001</td>\n",
       "      <td>1</td>\n",
       "      <td>0.792626</td>\n",
       "      <td>0.078001</td>\n",
       "      <td>0.792626</td>\n",
       "      <td>0.078001</td>\n",
       "    </tr>\n",
       "    <tr>\n",
       "      <th>3</th>\n",
       "      <td>1.639967</td>\n",
       "      <td>{'activation': 'relu', 'alpha': 0.001}</td>\n",
       "      <td>0.788151</td>\n",
       "      <td>0.079366</td>\n",
       "      <td>2</td>\n",
       "      <td>0.788151</td>\n",
       "      <td>0.079366</td>\n",
       "      <td>0.788151</td>\n",
       "      <td>0.079366</td>\n",
       "    </tr>\n",
       "    <tr>\n",
       "      <th>1</th>\n",
       "      <td>1.318016</td>\n",
       "      <td>{'activation': 'logistic', 'alpha': 0.001}</td>\n",
       "      <td>0.495586</td>\n",
       "      <td>0.036413</td>\n",
       "      <td>3</td>\n",
       "      <td>0.495586</td>\n",
       "      <td>0.036413</td>\n",
       "      <td>0.495586</td>\n",
       "      <td>0.036413</td>\n",
       "    </tr>\n",
       "    <tr>\n",
       "      <th>0</th>\n",
       "      <td>1.295193</td>\n",
       "      <td>{'activation': 'logistic', 'alpha': 0.0001}</td>\n",
       "      <td>0.494949</td>\n",
       "      <td>0.036552</td>\n",
       "      <td>4</td>\n",
       "      <td>0.494949</td>\n",
       "      <td>0.036552</td>\n",
       "      <td>0.494949</td>\n",
       "      <td>0.036552</td>\n",
       "    </tr>\n",
       "  </tbody>\n",
       "</table>\n",
       "</div>"
      ],
      "text/plain": [
       "   mean_fit_time                                       params  \\\n",
       "2       1.669888      {'activation': 'relu', 'alpha': 0.0001}   \n",
       "3       1.639967       {'activation': 'relu', 'alpha': 0.001}   \n",
       "1       1.318016   {'activation': 'logistic', 'alpha': 0.001}   \n",
       "0       1.295193  {'activation': 'logistic', 'alpha': 0.0001}   \n",
       "\n",
       "   mean_test_accuracy  std_test_accuracy  rank_test_accuracy  \\\n",
       "2            0.792626           0.078001                   1   \n",
       "3            0.788151           0.079366                   2   \n",
       "1            0.495586           0.036413                   3   \n",
       "0            0.494949           0.036552                   4   \n",
       "\n",
       "   mean_test_precision  std_test_precision  mean_test_recall  std_test_recall  \n",
       "2             0.792626            0.078001          0.792626         0.078001  \n",
       "3             0.788151            0.079366          0.788151         0.079366  \n",
       "1             0.495586            0.036413          0.495586         0.036413  \n",
       "0             0.494949            0.036552          0.494949         0.036552  "
      ]
     },
     "execution_count": 15,
     "metadata": {},
     "output_type": "execute_result"
    }
   ],
   "source": [
    "df = pd.DataFrame(clf_nn.cv_results_)\n",
    "df.sort_values(by='rank_test_accuracy')[['mean_fit_time','params','mean_test_accuracy','std_test_accuracy','rank_test_accuracy',\n",
    "                                         'mean_test_precision','std_test_precision','mean_test_recall','std_test_recall']]"
   ]
  },
  {
   "cell_type": "code",
   "execution_count": 16,
   "metadata": {
    "colab": {
     "base_uri": "https://localhost:8080/",
     "height": 353
    },
    "id": "WhezDEt0lDtt",
    "outputId": "231ad9f6-6bd4-49f2-b744-8ccde2ab2789"
   },
   "outputs": [
    {
     "data": {
      "image/png": "[encoded data removed]",
      "text/plain": [
       "<Figure size 432x288 with 1 Axes>"
      ]
     },
     "metadata": {},
     "output_type": "display_data"
    },
    {
     "name": "stdout",
     "output_type": "stream",
     "text": [
      "Precision: 0.507\n",
      "Recall: 0.507\n",
      "Accuracy: 0.507\n"
     ]
    }
   ],
   "source": [
    "%matplotlib inline\n",
    "import seaborn as sns; sns.set()\n",
    "from sklearn.metrics import confusion_matrix\n",
    "import matplotlib.pyplot as plt\n",
    "import numpy as np\n",
    "\n",
    "y_test_pred = clf_nn.predict(X_test)\n",
    "cm_test = confusion_matrix(y_test, y_test_pred)\n",
    "\n",
    "sns.heatmap(cm_test.T, square=True, annot=True, fmt='d', cbar=False,\n",
    "            xticklabels= np.unique(y_test),\n",
    "            yticklabels= np.unique(y_test_pred))\n",
    "plt.xlabel('true label')\n",
    "plt.ylabel('predicted label');\n",
    "plt.title('Confusion Matrix DT - Test Set')\n",
    "plt.show()\n",
    "\n",
    "print('Precision: %.3f' %(precision_score(y_test, y_test_pred,average='micro')))\n",
    "print('Recall: %.3f' %(recall_score(y_test, y_test_pred,average='micro')))\n",
    "print('Accuracy: %.3f' %(accuracy_score(y_test,y_test_pred)))"
   ]
  },
  {
   "cell_type": "markdown",
   "metadata": {
    "id": "JFAy60UdJij3"
   },
   "source": [
    "## 1.1.2. Tree model"
   ]
  },
  {
   "cell_type": "code",
   "execution_count": 17,
   "metadata": {
    "colab": {
     "base_uri": "https://localhost:8080/"
    },
    "id": "oaYqCTJmJhHI",
    "outputId": "db1d8917-953b-4077-b4c6-30ed6aa4757c"
   },
   "outputs": [
    {
     "name": "stderr",
     "output_type": "stream",
     "text": [
      "/home/bnt4me/.local/lib/python3.8/site-packages/sklearn/neural_network/_multilayer_perceptron.py:692: ConvergenceWarning: Stochastic Optimizer: Maximum iterations (300) reached and the optimization hasn't converged yet.\n",
      "  warnings.warn(\n",
      "/home/bnt4me/.local/lib/python3.8/site-packages/sklearn/neural_network/_multilayer_perceptron.py:692: ConvergenceWarning: Stochastic Optimizer: Maximum iterations (300) reached and the optimization hasn't converged yet.\n",
      "  warnings.warn(\n",
      "/home/bnt4me/.local/lib/python3.8/site-packages/sklearn/neural_network/_multilayer_perceptron.py:692: ConvergenceWarning: Stochastic Optimizer: Maximum iterations (300) reached and the optimization hasn't converged yet.\n",
      "  warnings.warn(\n",
      "/home/bnt4me/.local/lib/python3.8/site-packages/sklearn/neural_network/_multilayer_perceptron.py:692: ConvergenceWarning: Stochastic Optimizer: Maximum iterations (300) reached and the optimization hasn't converged yet.\n",
      "  warnings.warn(\n",
      "/home/bnt4me/.local/lib/python3.8/site-packages/sklearn/neural_network/_multilayer_perceptron.py:692: ConvergenceWarning: Stochastic Optimizer: Maximum iterations (300) reached and the optimization hasn't converged yet.\n",
      "  warnings.warn(\n",
      "/home/bnt4me/.local/lib/python3.8/site-packages/sklearn/neural_network/_multilayer_perceptron.py:692: ConvergenceWarning: Stochastic Optimizer: Maximum iterations (300) reached and the optimization hasn't converged yet.\n",
      "  warnings.warn(\n",
      "/home/bnt4me/.local/lib/python3.8/site-packages/sklearn/neural_network/_multilayer_perceptron.py:692: ConvergenceWarning: Stochastic Optimizer: Maximum iterations (300) reached and the optimization hasn't converged yet.\n",
      "  warnings.warn(\n",
      "/home/bnt4me/.local/lib/python3.8/site-packages/sklearn/neural_network/_multilayer_perceptron.py:692: ConvergenceWarning: Stochastic Optimizer: Maximum iterations (300) reached and the optimization hasn't converged yet.\n",
      "  warnings.warn(\n",
      "/home/bnt4me/.local/lib/python3.8/site-packages/sklearn/neural_network/_multilayer_perceptron.py:692: ConvergenceWarning: Stochastic Optimizer: Maximum iterations (300) reached and the optimization hasn't converged yet.\n",
      "  warnings.warn(\n",
      "/home/bnt4me/.local/lib/python3.8/site-packages/sklearn/neural_network/_multilayer_perceptron.py:692: ConvergenceWarning: Stochastic Optimizer: Maximum iterations (300) reached and the optimization hasn't converged yet.\n",
      "  warnings.warn(\n",
      "/home/bnt4me/.local/lib/python3.8/site-packages/sklearn/neural_network/_multilayer_perceptron.py:692: ConvergenceWarning: Stochastic Optimizer: Maximum iterations (300) reached and the optimization hasn't converged yet.\n",
      "  warnings.warn(\n",
      "/home/bnt4me/.local/lib/python3.8/site-packages/sklearn/neural_network/_multilayer_perceptron.py:692: ConvergenceWarning: Stochastic Optimizer: Maximum iterations (300) reached and the optimization hasn't converged yet.\n",
      "  warnings.warn(\n",
      "/home/bnt4me/.local/lib/python3.8/site-packages/sklearn/neural_network/_multilayer_perceptron.py:692: ConvergenceWarning: Stochastic Optimizer: Maximum iterations (300) reached and the optimization hasn't converged yet.\n",
      "  warnings.warn(\n",
      "/home/bnt4me/.local/lib/python3.8/site-packages/sklearn/neural_network/_multilayer_perceptron.py:692: ConvergenceWarning: Stochastic Optimizer: Maximum iterations (300) reached and the optimization hasn't converged yet.\n",
      "  warnings.warn(\n",
      "/home/bnt4me/.local/lib/python3.8/site-packages/sklearn/neural_network/_multilayer_perceptron.py:692: ConvergenceWarning: Stochastic Optimizer: Maximum iterations (300) reached and the optimization hasn't converged yet.\n",
      "  warnings.warn(\n",
      "/home/bnt4me/.local/lib/python3.8/site-packages/sklearn/neural_network/_multilayer_perceptron.py:692: ConvergenceWarning: Stochastic Optimizer: Maximum iterations (300) reached and the optimization hasn't converged yet.\n",
      "  warnings.warn(\n",
      "/home/bnt4me/.local/lib/python3.8/site-packages/sklearn/neural_network/_multilayer_perceptron.py:692: ConvergenceWarning: Stochastic Optimizer: Maximum iterations (300) reached and the optimization hasn't converged yet.\n",
      "  warnings.warn(\n",
      "/home/bnt4me/.local/lib/python3.8/site-packages/sklearn/neural_network/_multilayer_perceptron.py:692: ConvergenceWarning: Stochastic Optimizer: Maximum iterations (300) reached and the optimization hasn't converged yet.\n",
      "  warnings.warn(\n",
      "/home/bnt4me/.local/lib/python3.8/site-packages/sklearn/neural_network/_multilayer_perceptron.py:692: ConvergenceWarning: Stochastic Optimizer: Maximum iterations (300) reached and the optimization hasn't converged yet.\n",
      "  warnings.warn(\n",
      "/home/bnt4me/.local/lib/python3.8/site-packages/sklearn/neural_network/_multilayer_perceptron.py:692: ConvergenceWarning: Stochastic Optimizer: Maximum iterations (300) reached and the optimization hasn't converged yet.\n",
      "  warnings.warn(\n",
      "/home/bnt4me/.local/lib/python3.8/site-packages/sklearn/neural_network/_multilayer_perceptron.py:692: ConvergenceWarning: Stochastic Optimizer: Maximum iterations (300) reached and the optimization hasn't converged yet.\n",
      "  warnings.warn(\n",
      "/home/bnt4me/.local/lib/python3.8/site-packages/sklearn/neural_network/_multilayer_perceptron.py:692: ConvergenceWarning: Stochastic Optimizer: Maximum iterations (300) reached and the optimization hasn't converged yet.\n",
      "  warnings.warn(\n",
      "/home/bnt4me/.local/lib/python3.8/site-packages/sklearn/neural_network/_multilayer_perceptron.py:692: ConvergenceWarning: Stochastic Optimizer: Maximum iterations (300) reached and the optimization hasn't converged yet.\n",
      "  warnings.warn(\n",
      "/home/bnt4me/.local/lib/python3.8/site-packages/sklearn/neural_network/_multilayer_perceptron.py:692: ConvergenceWarning: Stochastic Optimizer: Maximum iterations (300) reached and the optimization hasn't converged yet.\n",
      "  warnings.warn(\n",
      "/home/bnt4me/.local/lib/python3.8/site-packages/sklearn/neural_network/_multilayer_perceptron.py:692: ConvergenceWarning: Stochastic Optimizer: Maximum iterations (300) reached and the optimization hasn't converged yet.\n",
      "  warnings.warn(\n",
      "/home/bnt4me/.local/lib/python3.8/site-packages/sklearn/neural_network/_multilayer_perceptron.py:692: ConvergenceWarning: Stochastic Optimizer: Maximum iterations (300) reached and the optimization hasn't converged yet.\n",
      "  warnings.warn(\n",
      "/home/bnt4me/.local/lib/python3.8/site-packages/sklearn/neural_network/_multilayer_perceptron.py:692: ConvergenceWarning: Stochastic Optimizer: Maximum iterations (300) reached and the optimization hasn't converged yet.\n",
      "  warnings.warn(\n",
      "/home/bnt4me/.local/lib/python3.8/site-packages/sklearn/neural_network/_multilayer_perceptron.py:692: ConvergenceWarning: Stochastic Optimizer: Maximum iterations (300) reached and the optimization hasn't converged yet.\n",
      "  warnings.warn(\n",
      "/home/bnt4me/.local/lib/python3.8/site-packages/sklearn/neural_network/_multilayer_perceptron.py:692: ConvergenceWarning: Stochastic Optimizer: Maximum iterations (300) reached and the optimization hasn't converged yet.\n",
      "  warnings.warn(\n",
      "/home/bnt4me/.local/lib/python3.8/site-packages/sklearn/neural_network/_multilayer_perceptron.py:692: ConvergenceWarning: Stochastic Optimizer: Maximum iterations (300) reached and the optimization hasn't converged yet.\n",
      "  warnings.warn(\n",
      "/home/bnt4me/.local/lib/python3.8/site-packages/sklearn/neural_network/_multilayer_perceptron.py:692: ConvergenceWarning: Stochastic Optimizer: Maximum iterations (300) reached and the optimization hasn't converged yet.\n",
      "  warnings.warn(\n",
      "/home/bnt4me/.local/lib/python3.8/site-packages/sklearn/neural_network/_multilayer_perceptron.py:692: ConvergenceWarning: Stochastic Optimizer: Maximum iterations (300) reached and the optimization hasn't converged yet.\n",
      "  warnings.warn(\n",
      "/home/bnt4me/.local/lib/python3.8/site-packages/sklearn/neural_network/_multilayer_perceptron.py:692: ConvergenceWarning: Stochastic Optimizer: Maximum iterations (300) reached and the optimization hasn't converged yet.\n",
      "  warnings.warn(\n",
      "/home/bnt4me/.local/lib/python3.8/site-packages/sklearn/neural_network/_multilayer_perceptron.py:692: ConvergenceWarning: Stochastic Optimizer: Maximum iterations (300) reached and the optimization hasn't converged yet.\n",
      "  warnings.warn(\n"
     ]
    },
    {
     "name": "stdout",
     "output_type": "stream",
     "text": [
      "{'criterion': 'gini', 'max_depth': 17}\n"
     ]
    }
   ],
   "source": [
    "from sklearn.model_selection import GridSearchCV\n",
    "from sklearn.tree import DecisionTreeClassifier\n",
    "from sklearn.metrics import precision_score\n",
    "from sklearn.metrics import accuracy_score\n",
    "from sklearn.metrics import recall_score\n",
    "from sklearn.metrics import make_scorer\n",
    "\n",
    "\n",
    "tree_para = {'criterion':['gini','entropy'],'max_depth':[4,6,8,10,12,15,17,20]}\n",
    "scores= {'accuracy':make_scorer(accuracy_score),'precision':make_scorer(precision_score,average='micro'),\n",
    "         'recall':make_scorer(recall_score,average='micro')}\n",
    "\n",
    "clf_tree = GridSearchCV(DecisionTreeClassifier(random_state=15), tree_para, cv=10,\n",
    "                        scoring=scores,refit='accuracy', return_train_score=True,n_jobs=4)\n",
    "clf_tree = clf_tree.fit(X_train_1, y_train_1)\n",
    "print(clf_tree.best_params_)"
   ]
  },
  {
   "cell_type": "code",
   "execution_count": 18,
   "metadata": {
    "colab": {
     "base_uri": "https://localhost:8080/",
     "height": 561
    },
    "id": "XzORkH-Sqlb4",
    "outputId": "6ee3df72-71e8-4101-bde1-86b05ad9b26f"
   },
   "outputs": [
    {
     "data": {
      "text/html": [
       "<div>\n",
       "<style scoped>\n",
       "    .dataframe tbody tr th:only-of-type {\n",
       "        vertical-align: middle;\n",
       "    }\n",
       "\n",
       "    .dataframe tbody tr th {\n",
       "        vertical-align: top;\n",
       "    }\n",
       "\n",
       "    .dataframe thead th {\n",
       "        text-align: right;\n",
       "    }\n",
       "</style>\n",
       "<table border=\"1\" class=\"dataframe\">\n",
       "  <thead>\n",
       "    <tr style=\"text-align: right;\">\n",
       "      <th></th>\n",
       "      <th>mean_fit_time</th>\n",
       "      <th>params</th>\n",
       "      <th>mean_test_accuracy</th>\n",
       "      <th>std_test_accuracy</th>\n",
       "      <th>rank_test_accuracy</th>\n",
       "      <th>mean_test_precision</th>\n",
       "      <th>std_test_precision</th>\n",
       "      <th>mean_test_recall</th>\n",
       "      <th>std_test_recall</th>\n",
       "    </tr>\n",
       "  </thead>\n",
       "  <tbody>\n",
       "    <tr>\n",
       "      <th>6</th>\n",
       "      <td>0.029029</td>\n",
       "      <td>{'criterion': 'gini', 'max_depth': 17}</td>\n",
       "      <td>0.638004</td>\n",
       "      <td>0.051093</td>\n",
       "      <td>1</td>\n",
       "      <td>0.638004</td>\n",
       "      <td>0.051093</td>\n",
       "      <td>0.638004</td>\n",
       "      <td>0.051093</td>\n",
       "    </tr>\n",
       "    <tr>\n",
       "      <th>15</th>\n",
       "      <td>0.039623</td>\n",
       "      <td>{'criterion': 'entropy', 'max_depth': 20}</td>\n",
       "      <td>0.637400</td>\n",
       "      <td>0.054005</td>\n",
       "      <td>2</td>\n",
       "      <td>0.637400</td>\n",
       "      <td>0.054005</td>\n",
       "      <td>0.637400</td>\n",
       "      <td>0.054005</td>\n",
       "    </tr>\n",
       "    <tr>\n",
       "      <th>14</th>\n",
       "      <td>0.041147</td>\n",
       "      <td>{'criterion': 'entropy', 'max_depth': 17}</td>\n",
       "      <td>0.635489</td>\n",
       "      <td>0.054777</td>\n",
       "      <td>3</td>\n",
       "      <td>0.635489</td>\n",
       "      <td>0.054777</td>\n",
       "      <td>0.635489</td>\n",
       "      <td>0.054777</td>\n",
       "    </tr>\n",
       "    <tr>\n",
       "      <th>13</th>\n",
       "      <td>0.040698</td>\n",
       "      <td>{'criterion': 'entropy', 'max_depth': 15}</td>\n",
       "      <td>0.632276</td>\n",
       "      <td>0.051097</td>\n",
       "      <td>4</td>\n",
       "      <td>0.632276</td>\n",
       "      <td>0.051097</td>\n",
       "      <td>0.632276</td>\n",
       "      <td>0.051097</td>\n",
       "    </tr>\n",
       "    <tr>\n",
       "      <th>7</th>\n",
       "      <td>0.029850</td>\n",
       "      <td>{'criterion': 'gini', 'max_depth': 20}</td>\n",
       "      <td>0.631598</td>\n",
       "      <td>0.047333</td>\n",
       "      <td>5</td>\n",
       "      <td>0.631598</td>\n",
       "      <td>0.047333</td>\n",
       "      <td>0.631598</td>\n",
       "      <td>0.047333</td>\n",
       "    </tr>\n",
       "    <tr>\n",
       "      <th>5</th>\n",
       "      <td>0.028752</td>\n",
       "      <td>{'criterion': 'gini', 'max_depth': 15}</td>\n",
       "      <td>0.631590</td>\n",
       "      <td>0.046117</td>\n",
       "      <td>6</td>\n",
       "      <td>0.631590</td>\n",
       "      <td>0.046117</td>\n",
       "      <td>0.631590</td>\n",
       "      <td>0.046117</td>\n",
       "    </tr>\n",
       "    <tr>\n",
       "      <th>4</th>\n",
       "      <td>0.026818</td>\n",
       "      <td>{'criterion': 'gini', 'max_depth': 12}</td>\n",
       "      <td>0.629058</td>\n",
       "      <td>0.049240</td>\n",
       "      <td>7</td>\n",
       "      <td>0.629058</td>\n",
       "      <td>0.049240</td>\n",
       "      <td>0.629058</td>\n",
       "      <td>0.049240</td>\n",
       "    </tr>\n",
       "    <tr>\n",
       "      <th>12</th>\n",
       "      <td>0.039778</td>\n",
       "      <td>{'criterion': 'entropy', 'max_depth': 12}</td>\n",
       "      <td>0.623996</td>\n",
       "      <td>0.060307</td>\n",
       "      <td>8</td>\n",
       "      <td>0.623996</td>\n",
       "      <td>0.060307</td>\n",
       "      <td>0.623996</td>\n",
       "      <td>0.060307</td>\n",
       "    </tr>\n",
       "    <tr>\n",
       "      <th>11</th>\n",
       "      <td>0.036341</td>\n",
       "      <td>{'criterion': 'entropy', 'max_depth': 10}</td>\n",
       "      <td>0.611208</td>\n",
       "      <td>0.065835</td>\n",
       "      <td>9</td>\n",
       "      <td>0.611208</td>\n",
       "      <td>0.065835</td>\n",
       "      <td>0.611208</td>\n",
       "      <td>0.065835</td>\n",
       "    </tr>\n",
       "    <tr>\n",
       "      <th>3</th>\n",
       "      <td>0.024834</td>\n",
       "      <td>{'criterion': 'gini', 'max_depth': 10}</td>\n",
       "      <td>0.608640</td>\n",
       "      <td>0.046100</td>\n",
       "      <td>10</td>\n",
       "      <td>0.608640</td>\n",
       "      <td>0.046100</td>\n",
       "      <td>0.608640</td>\n",
       "      <td>0.046100</td>\n",
       "    </tr>\n",
       "    <tr>\n",
       "      <th>2</th>\n",
       "      <td>0.021783</td>\n",
       "      <td>{'criterion': 'gini', 'max_depth': 8}</td>\n",
       "      <td>0.561363</td>\n",
       "      <td>0.043737</td>\n",
       "      <td>11</td>\n",
       "      <td>0.561363</td>\n",
       "      <td>0.043737</td>\n",
       "      <td>0.561363</td>\n",
       "      <td>0.043737</td>\n",
       "    </tr>\n",
       "    <tr>\n",
       "      <th>10</th>\n",
       "      <td>0.031341</td>\n",
       "      <td>{'criterion': 'entropy', 'max_depth': 8}</td>\n",
       "      <td>0.550527</td>\n",
       "      <td>0.057868</td>\n",
       "      <td>12</td>\n",
       "      <td>0.550527</td>\n",
       "      <td>0.057868</td>\n",
       "      <td>0.550527</td>\n",
       "      <td>0.057868</td>\n",
       "    </tr>\n",
       "    <tr>\n",
       "      <th>9</th>\n",
       "      <td>0.024999</td>\n",
       "      <td>{'criterion': 'entropy', 'max_depth': 6}</td>\n",
       "      <td>0.505806</td>\n",
       "      <td>0.042492</td>\n",
       "      <td>13</td>\n",
       "      <td>0.505806</td>\n",
       "      <td>0.042492</td>\n",
       "      <td>0.505806</td>\n",
       "      <td>0.042492</td>\n",
       "    </tr>\n",
       "    <tr>\n",
       "      <th>1</th>\n",
       "      <td>0.017897</td>\n",
       "      <td>{'criterion': 'gini', 'max_depth': 6}</td>\n",
       "      <td>0.503973</td>\n",
       "      <td>0.058702</td>\n",
       "      <td>14</td>\n",
       "      <td>0.503973</td>\n",
       "      <td>0.058702</td>\n",
       "      <td>0.503973</td>\n",
       "      <td>0.058702</td>\n",
       "    </tr>\n",
       "    <tr>\n",
       "      <th>0</th>\n",
       "      <td>0.013014</td>\n",
       "      <td>{'criterion': 'gini', 'max_depth': 4}</td>\n",
       "      <td>0.463037</td>\n",
       "      <td>0.032972</td>\n",
       "      <td>15</td>\n",
       "      <td>0.463037</td>\n",
       "      <td>0.032972</td>\n",
       "      <td>0.463037</td>\n",
       "      <td>0.032972</td>\n",
       "    </tr>\n",
       "    <tr>\n",
       "      <th>8</th>\n",
       "      <td>0.017792</td>\n",
       "      <td>{'criterion': 'entropy', 'max_depth': 4}</td>\n",
       "      <td>0.440650</td>\n",
       "      <td>0.026340</td>\n",
       "      <td>16</td>\n",
       "      <td>0.440650</td>\n",
       "      <td>0.026340</td>\n",
       "      <td>0.440650</td>\n",
       "      <td>0.026340</td>\n",
       "    </tr>\n",
       "  </tbody>\n",
       "</table>\n",
       "</div>"
      ],
      "text/plain": [
       "    mean_fit_time                                     params  \\\n",
       "6        0.029029     {'criterion': 'gini', 'max_depth': 17}   \n",
       "15       0.039623  {'criterion': 'entropy', 'max_depth': 20}   \n",
       "14       0.041147  {'criterion': 'entropy', 'max_depth': 17}   \n",
       "13       0.040698  {'criterion': 'entropy', 'max_depth': 15}   \n",
       "7        0.029850     {'criterion': 'gini', 'max_depth': 20}   \n",
       "5        0.028752     {'criterion': 'gini', 'max_depth': 15}   \n",
       "4        0.026818     {'criterion': 'gini', 'max_depth': 12}   \n",
       "12       0.039778  {'criterion': 'entropy', 'max_depth': 12}   \n",
       "11       0.036341  {'criterion': 'entropy', 'max_depth': 10}   \n",
       "3        0.024834     {'criterion': 'gini', 'max_depth': 10}   \n",
       "2        0.021783      {'criterion': 'gini', 'max_depth': 8}   \n",
       "10       0.031341   {'criterion': 'entropy', 'max_depth': 8}   \n",
       "9        0.024999   {'criterion': 'entropy', 'max_depth': 6}   \n",
       "1        0.017897      {'criterion': 'gini', 'max_depth': 6}   \n",
       "0        0.013014      {'criterion': 'gini', 'max_depth': 4}   \n",
       "8        0.017792   {'criterion': 'entropy', 'max_depth': 4}   \n",
       "\n",
       "    mean_test_accuracy  std_test_accuracy  rank_test_accuracy  \\\n",
       "6             0.638004           0.051093                   1   \n",
       "15            0.637400           0.054005                   2   \n",
       "14            0.635489           0.054777                   3   \n",
       "13            0.632276           0.051097                   4   \n",
       "7             0.631598           0.047333                   5   \n",
       "5             0.631590           0.046117                   6   \n",
       "4             0.629058           0.049240                   7   \n",
       "12            0.623996           0.060307                   8   \n",
       "11            0.611208           0.065835                   9   \n",
       "3             0.608640           0.046100                  10   \n",
       "2             0.561363           0.043737                  11   \n",
       "10            0.550527           0.057868                  12   \n",
       "9             0.505806           0.042492                  13   \n",
       "1             0.503973           0.058702                  14   \n",
       "0             0.463037           0.032972                  15   \n",
       "8             0.440650           0.026340                  16   \n",
       "\n",
       "    mean_test_precision  std_test_precision  mean_test_recall  std_test_recall  \n",
       "6              0.638004            0.051093          0.638004         0.051093  \n",
       "15             0.637400            0.054005          0.637400         0.054005  \n",
       "14             0.635489            0.054777          0.635489         0.054777  \n",
       "13             0.632276            0.051097          0.632276         0.051097  \n",
       "7              0.631598            0.047333          0.631598         0.047333  \n",
       "5              0.631590            0.046117          0.631590         0.046117  \n",
       "4              0.629058            0.049240          0.629058         0.049240  \n",
       "12             0.623996            0.060307          0.623996         0.060307  \n",
       "11             0.611208            0.065835          0.611208         0.065835  \n",
       "3              0.608640            0.046100          0.608640         0.046100  \n",
       "2              0.561363            0.043737          0.561363         0.043737  \n",
       "10             0.550527            0.057868          0.550527         0.057868  \n",
       "9              0.505806            0.042492          0.505806         0.042492  \n",
       "1              0.503973            0.058702          0.503973         0.058702  \n",
       "0              0.463037            0.032972          0.463037         0.032972  \n",
       "8              0.440650            0.026340          0.440650         0.026340  "
      ]
     },
     "execution_count": 18,
     "metadata": {},
     "output_type": "execute_result"
    }
   ],
   "source": [
    "df = pd.DataFrame(clf_tree.cv_results_)\n",
    "df.sort_values(by='rank_test_accuracy')[['mean_fit_time','params','mean_test_accuracy','std_test_accuracy','rank_test_accuracy',\n",
    "                                         'mean_test_precision','std_test_precision','mean_test_recall','std_test_recall']]"
   ]
  },
  {
   "cell_type": "code",
   "execution_count": 19,
   "metadata": {
    "colab": {
     "base_uri": "https://localhost:8080/",
     "height": 353
    },
    "id": "9v5_o2kSJmF9",
    "outputId": "714ec43c-770e-48db-aa83-0ebcb59c6e3c"
   },
   "outputs": [
    {
     "data": {
      "image/png": "[encoded data removed]",
      "text/plain": [
       "<Figure size 432x288 with 1 Axes>"
      ]
     },
     "metadata": {},
     "output_type": "display_data"
    },
    {
     "name": "stdout",
     "output_type": "stream",
     "text": [
      "Precision: 0.466\n",
      "Recall: 0.466\n",
      "Accuracy: 0.466\n"
     ]
    }
   ],
   "source": [
    "%matplotlib inline\n",
    "import seaborn as sns; sns.set()\n",
    "from sklearn.metrics import confusion_matrix\n",
    "import matplotlib.pyplot as plt\n",
    "import numpy as np\n",
    "\n",
    "\n",
    "y_test_pred = clf_tree.predict(X_test)\n",
    "cm_test = confusion_matrix(y_test, y_test_pred)\n",
    "\n",
    "sns.heatmap(cm_test.T, square=True, annot=True, fmt='d', cbar=False,\n",
    "            xticklabels= np.unique(y_test),\n",
    "            yticklabels= np.unique(y_test_pred))\n",
    "plt.xlabel('true label')\n",
    "plt.ylabel('predicted label');\n",
    "plt.title('Confusion Matrix DT - Test Set')\n",
    "plt.show()\n",
    "\n",
    "print('Precision: %.3f' %(precision_score(y_test, y_test_pred,average='micro')))\n",
    "print('Recall: %.3f' %(recall_score(y_test, y_test_pred,average='micro')))\n",
    "print('Accuracy: %.3f' %(accuracy_score(y_test,y_test_pred)))"
   ]
  },
  {
   "cell_type": "markdown",
   "metadata": {
    "id": "ZIaPEoz6Ti1Z"
   },
   "source": [
    "## 1.1.3. K Neighbours"
   ]
  },
  {
   "cell_type": "code",
   "execution_count": 20,
   "metadata": {
    "colab": {
     "base_uri": "https://localhost:8080/"
    },
    "id": "AwyIGd0AToMr",
    "outputId": "ef6f41c6-99bc-4a89-b4f0-7f1d3f9d823e"
   },
   "outputs": [
    {
     "name": "stdout",
     "output_type": "stream",
     "text": [
      "{'metric': 'euclidean', 'n_neighbors': 3}\n"
     ]
    }
   ],
   "source": [
    "from sklearn.neighbors import KNeighborsClassifier\n",
    "\n",
    "nn_para = {'n_neighbors':[3,6,9],\n",
    "          'metric':[\"euclidean\",\"manhattan\"]}\n",
    "scores= {'accuracy':make_scorer(accuracy_score),'precision':make_scorer(precision_score,average='micro'),\n",
    "         'recall':make_scorer(recall_score,average='micro')}\n",
    "\n",
    "clf_kn = GridSearchCV(KNeighborsClassifier(), nn_para, cv=10, scoring=scores,\n",
    "                       refit='accuracy', return_train_score=True,n_jobs=4)\n",
    "clf_kn = clf_kn.fit(X_train_1, y_train_1)\n",
    "print(clf_kn.best_params_)"
   ]
  },
  {
   "cell_type": "code",
   "execution_count": 21,
   "metadata": {
    "colab": {
     "base_uri": "https://localhost:8080/",
     "height": 561
    },
    "id": "seL-PlX5BFw_",
    "outputId": "b237bf42-8ec0-4150-bc61-383b528f11fc"
   },
   "outputs": [
    {
     "data": {
      "text/html": [
       "<div>\n",
       "<style scoped>\n",
       "    .dataframe tbody tr th:only-of-type {\n",
       "        vertical-align: middle;\n",
       "    }\n",
       "\n",
       "    .dataframe tbody tr th {\n",
       "        vertical-align: top;\n",
       "    }\n",
       "\n",
       "    .dataframe thead th {\n",
       "        text-align: right;\n",
       "    }\n",
       "</style>\n",
       "<table border=\"1\" class=\"dataframe\">\n",
       "  <thead>\n",
       "    <tr style=\"text-align: right;\">\n",
       "      <th></th>\n",
       "      <th>mean_fit_time</th>\n",
       "      <th>params</th>\n",
       "      <th>mean_test_accuracy</th>\n",
       "      <th>std_test_accuracy</th>\n",
       "      <th>rank_test_accuracy</th>\n",
       "      <th>mean_test_precision</th>\n",
       "      <th>std_test_precision</th>\n",
       "      <th>mean_test_recall</th>\n",
       "      <th>std_test_recall</th>\n",
       "    </tr>\n",
       "  </thead>\n",
       "  <tbody>\n",
       "    <tr>\n",
       "      <th>0</th>\n",
       "      <td>0.002890</td>\n",
       "      <td>{'metric': 'euclidean', 'n_neighbors': 3}</td>\n",
       "      <td>0.703140</td>\n",
       "      <td>0.049282</td>\n",
       "      <td>1</td>\n",
       "      <td>0.703140</td>\n",
       "      <td>0.049282</td>\n",
       "      <td>0.703140</td>\n",
       "      <td>0.049282</td>\n",
       "    </tr>\n",
       "    <tr>\n",
       "      <th>3</th>\n",
       "      <td>0.001623</td>\n",
       "      <td>{'metric': 'manhattan', 'n_neighbors': 3}</td>\n",
       "      <td>0.701866</td>\n",
       "      <td>0.052900</td>\n",
       "      <td>2</td>\n",
       "      <td>0.701866</td>\n",
       "      <td>0.052900</td>\n",
       "      <td>0.701866</td>\n",
       "      <td>0.052900</td>\n",
       "    </tr>\n",
       "    <tr>\n",
       "      <th>4</th>\n",
       "      <td>0.001352</td>\n",
       "      <td>{'metric': 'manhattan', 'n_neighbors': 6}</td>\n",
       "      <td>0.641867</td>\n",
       "      <td>0.062567</td>\n",
       "      <td>3</td>\n",
       "      <td>0.641867</td>\n",
       "      <td>0.062567</td>\n",
       "      <td>0.641867</td>\n",
       "      <td>0.062567</td>\n",
       "    </tr>\n",
       "    <tr>\n",
       "      <th>1</th>\n",
       "      <td>0.001875</td>\n",
       "      <td>{'metric': 'euclidean', 'n_neighbors': 6}</td>\n",
       "      <td>0.641238</td>\n",
       "      <td>0.059612</td>\n",
       "      <td>4</td>\n",
       "      <td>0.641238</td>\n",
       "      <td>0.059612</td>\n",
       "      <td>0.641238</td>\n",
       "      <td>0.059612</td>\n",
       "    </tr>\n",
       "    <tr>\n",
       "      <th>2</th>\n",
       "      <td>0.001911</td>\n",
       "      <td>{'metric': 'euclidean', 'n_neighbors': 9}</td>\n",
       "      <td>0.610567</td>\n",
       "      <td>0.062864</td>\n",
       "      <td>5</td>\n",
       "      <td>0.610567</td>\n",
       "      <td>0.062864</td>\n",
       "      <td>0.610567</td>\n",
       "      <td>0.062864</td>\n",
       "    </tr>\n",
       "    <tr>\n",
       "      <th>5</th>\n",
       "      <td>0.001290</td>\n",
       "      <td>{'metric': 'manhattan', 'n_neighbors': 9}</td>\n",
       "      <td>0.607349</td>\n",
       "      <td>0.053144</td>\n",
       "      <td>6</td>\n",
       "      <td>0.607349</td>\n",
       "      <td>0.053144</td>\n",
       "      <td>0.607349</td>\n",
       "      <td>0.053144</td>\n",
       "    </tr>\n",
       "  </tbody>\n",
       "</table>\n",
       "</div>"
      ],
      "text/plain": [
       "   mean_fit_time                                     params  \\\n",
       "0       0.002890  {'metric': 'euclidean', 'n_neighbors': 3}   \n",
       "3       0.001623  {'metric': 'manhattan', 'n_neighbors': 3}   \n",
       "4       0.001352  {'metric': 'manhattan', 'n_neighbors': 6}   \n",
       "1       0.001875  {'metric': 'euclidean', 'n_neighbors': 6}   \n",
       "2       0.001911  {'metric': 'euclidean', 'n_neighbors': 9}   \n",
       "5       0.001290  {'metric': 'manhattan', 'n_neighbors': 9}   \n",
       "\n",
       "   mean_test_accuracy  std_test_accuracy  rank_test_accuracy  \\\n",
       "0            0.703140           0.049282                   1   \n",
       "3            0.701866           0.052900                   2   \n",
       "4            0.641867           0.062567                   3   \n",
       "1            0.641238           0.059612                   4   \n",
       "2            0.610567           0.062864                   5   \n",
       "5            0.607349           0.053144                   6   \n",
       "\n",
       "   mean_test_precision  std_test_precision  mean_test_recall  std_test_recall  \n",
       "0             0.703140            0.049282          0.703140         0.049282  \n",
       "3             0.701866            0.052900          0.701866         0.052900  \n",
       "4             0.641867            0.062567          0.641867         0.062567  \n",
       "1             0.641238            0.059612          0.641238         0.059612  \n",
       "2             0.610567            0.062864          0.610567         0.062864  \n",
       "5             0.607349            0.053144          0.607349         0.053144  "
      ]
     },
     "execution_count": 21,
     "metadata": {},
     "output_type": "execute_result"
    }
   ],
   "source": [
    "df = pd.DataFrame(clf_kn.cv_results_)\n",
    "df.sort_values(by='rank_test_accuracy')[['mean_fit_time','params','mean_test_accuracy','std_test_accuracy','rank_test_accuracy',\n",
    "                                         'mean_test_precision','std_test_precision','mean_test_recall','std_test_recall']]"
   ]
  },
  {
   "cell_type": "code",
   "execution_count": 22,
   "metadata": {
    "colab": {
     "base_uri": "https://localhost:8080/",
     "height": 353
    },
    "id": "pxS5RbyEBIik",
    "outputId": "7b02b7e7-a8a3-4b27-c67a-a6c701407d6e"
   },
   "outputs": [
    {
     "data": {
      "image/png": "[encoded data removed]",
      "text/plain": [
       "<Figure size 432x288 with 1 Axes>"
      ]
     },
     "metadata": {},
     "output_type": "display_data"
    },
    {
     "name": "stdout",
     "output_type": "stream",
     "text": [
      "Precision: 0.466\n",
      "Recall: 0.466\n",
      "Accuracy: 0.466\n"
     ]
    }
   ],
   "source": [
    "y_test_pred_gnb = clf_kn.predict(X_test)\n",
    "cm_test = confusion_matrix(y_test, y_test_pred_gnb)\n",
    "\n",
    "sns.heatmap(cm_test.T, square=True, annot=True, fmt='d', cbar=False,\n",
    "            xticklabels= np.unique(y_test),\n",
    "            yticklabels= np.unique(y_test_pred_gnb))\n",
    "plt.xlabel('true label')\n",
    "plt.ylabel('predicted label');\n",
    "plt.title('Confusion Matrix Naive Bayes - Test Set')\n",
    "plt.show()\n",
    "\n",
    "print('Precision: %.3f' %(precision_score(y_test, y_test_pred,average='micro')))\n",
    "print('Recall: %.3f' %(recall_score(y_test, y_test_pred,average='micro')))\n",
    "print('Accuracy: %.3f' %(accuracy_score(y_test,y_test_pred)))"
   ]
  },
  {
   "cell_type": "markdown",
   "metadata": {
    "id": "WkaY1TdPBWq5"
   },
   "source": [
    "## 1.1.4. Support Vector Machine"
   ]
  },
  {
   "cell_type": "code",
   "execution_count": 23,
   "metadata": {
    "colab": {
     "base_uri": "https://localhost:8080/",
     "height": 394
    },
    "id": "8pdapudCBY81",
    "outputId": "2b7d6d99-b564-4bec-967f-302b2c3b0b9d"
   },
   "outputs": [
    {
     "name": "stderr",
     "output_type": "stream",
     "text": [
      "/home/bnt4me/.local/lib/python3.8/site-packages/sklearn/svm/_base.py:1199: ConvergenceWarning: Liblinear failed to converge, increase the number of iterations.\n",
      "  warnings.warn(\n"
     ]
    },
    {
     "data": {
      "text/plain": [
       "GridSearchCV(cv=10, estimator=LinearSVC(random_state=10), n_jobs=5,\n",
       "             param_grid={'C': [1, 2, 3, 5, 10, 15, 20, 30, 40, 60, 90, 320],\n",
       "                         'penalty': ['l2']},\n",
       "             refit='accuracy', return_train_score=True,\n",
       "             scoring={'accuracy': make_scorer(accuracy_score),\n",
       "                      'precision': make_scorer(precision_score, average=micro),\n",
       "                      'recall': make_scorer(recall_score, average=micro)})"
      ]
     },
     "execution_count": 23,
     "metadata": {},
     "output_type": "execute_result"
    }
   ],
   "source": [
    "from sklearn.model_selection import GridSearchCV\n",
    "from sklearn import svm\n",
    "from sklearn.model_selection import cross_val_score\n",
    "from sklearn.metrics import precision_score\n",
    "from sklearn.metrics import accuracy_score\n",
    "from sklearn.metrics import recall_score\n",
    "from sklearn.metrics import make_scorer\n",
    "\n",
    "param_grid =  {'penalty':['l2'],'C':[1,2,3,5,10,15,20,30,40,60,90, 320]}\n",
    "scores= {'accuracy':make_scorer(accuracy_score),'precision':make_scorer(precision_score,average='micro'),\n",
    "         'recall':make_scorer(recall_score,average='micro')}\n",
    "\n",
    "svc = svm.LinearSVC(random_state=10)\n",
    "clf_svc = GridSearchCV(svc, param_grid,cv=10,scoring=scores,\n",
    "                        refit='accuracy', return_train_score=True, n_jobs=5)\n",
    "clf_svc.fit(X_train_1, y_train_1) "
   ]
  },
  {
   "cell_type": "code",
   "execution_count": 24,
   "metadata": {
    "id": "Znx51o33BZIX"
   },
   "outputs": [
    {
     "name": "stdout",
     "output_type": "stream",
     "text": [
      "{'C': 5, 'penalty': 'l2'}\n"
     ]
    }
   ],
   "source": [
    "print(clf_svc.best_params_)"
   ]
  },
  {
   "cell_type": "code",
   "execution_count": 25,
   "metadata": {
    "id": "fpxVdnvyBZSM"
   },
   "outputs": [
    {
     "data": {
      "text/html": [
       "<div>\n",
       "<style scoped>\n",
       "    .dataframe tbody tr th:only-of-type {\n",
       "        vertical-align: middle;\n",
       "    }\n",
       "\n",
       "    .dataframe tbody tr th {\n",
       "        vertical-align: top;\n",
       "    }\n",
       "\n",
       "    .dataframe thead th {\n",
       "        text-align: right;\n",
       "    }\n",
       "</style>\n",
       "<table border=\"1\" class=\"dataframe\">\n",
       "  <thead>\n",
       "    <tr style=\"text-align: right;\">\n",
       "      <th></th>\n",
       "      <th>mean_fit_time</th>\n",
       "      <th>params</th>\n",
       "      <th>mean_test_accuracy</th>\n",
       "      <th>std_test_accuracy</th>\n",
       "      <th>rank_test_accuracy</th>\n",
       "      <th>mean_test_precision</th>\n",
       "      <th>std_test_precision</th>\n",
       "      <th>mean_test_recall</th>\n",
       "      <th>std_test_recall</th>\n",
       "    </tr>\n",
       "  </thead>\n",
       "  <tbody>\n",
       "    <tr>\n",
       "      <th>3</th>\n",
       "      <td>0.234665</td>\n",
       "      <td>{'C': 5, 'penalty': 'l2'}</td>\n",
       "      <td>0.464303</td>\n",
       "      <td>0.032438</td>\n",
       "      <td>1</td>\n",
       "      <td>0.464303</td>\n",
       "      <td>0.032438</td>\n",
       "      <td>0.464303</td>\n",
       "      <td>0.032438</td>\n",
       "    </tr>\n",
       "    <tr>\n",
       "      <th>2</th>\n",
       "      <td>0.234686</td>\n",
       "      <td>{'C': 3, 'penalty': 'l2'}</td>\n",
       "      <td>0.463061</td>\n",
       "      <td>0.038884</td>\n",
       "      <td>2</td>\n",
       "      <td>0.463061</td>\n",
       "      <td>0.038884</td>\n",
       "      <td>0.463061</td>\n",
       "      <td>0.038884</td>\n",
       "    </tr>\n",
       "    <tr>\n",
       "      <th>1</th>\n",
       "      <td>0.240081</td>\n",
       "      <td>{'C': 2, 'penalty': 'l2'}</td>\n",
       "      <td>0.461779</td>\n",
       "      <td>0.037071</td>\n",
       "      <td>3</td>\n",
       "      <td>0.461779</td>\n",
       "      <td>0.037071</td>\n",
       "      <td>0.461779</td>\n",
       "      <td>0.037071</td>\n",
       "    </tr>\n",
       "    <tr>\n",
       "      <th>0</th>\n",
       "      <td>0.236452</td>\n",
       "      <td>{'C': 1, 'penalty': 'l2'}</td>\n",
       "      <td>0.457929</td>\n",
       "      <td>0.031053</td>\n",
       "      <td>4</td>\n",
       "      <td>0.457929</td>\n",
       "      <td>0.031053</td>\n",
       "      <td>0.457929</td>\n",
       "      <td>0.031053</td>\n",
       "    </tr>\n",
       "    <tr>\n",
       "      <th>5</th>\n",
       "      <td>0.235423</td>\n",
       "      <td>{'C': 15, 'penalty': 'l2'}</td>\n",
       "      <td>0.456655</td>\n",
       "      <td>0.045495</td>\n",
       "      <td>5</td>\n",
       "      <td>0.456655</td>\n",
       "      <td>0.045495</td>\n",
       "      <td>0.456655</td>\n",
       "      <td>0.045495</td>\n",
       "    </tr>\n",
       "    <tr>\n",
       "      <th>4</th>\n",
       "      <td>0.234452</td>\n",
       "      <td>{'C': 10, 'penalty': 'l2'}</td>\n",
       "      <td>0.436175</td>\n",
       "      <td>0.027864</td>\n",
       "      <td>6</td>\n",
       "      <td>0.436175</td>\n",
       "      <td>0.027864</td>\n",
       "      <td>0.436175</td>\n",
       "      <td>0.027864</td>\n",
       "    </tr>\n",
       "    <tr>\n",
       "      <th>6</th>\n",
       "      <td>0.237671</td>\n",
       "      <td>{'C': 20, 'penalty': 'l2'}</td>\n",
       "      <td>0.430426</td>\n",
       "      <td>0.053050</td>\n",
       "      <td>7</td>\n",
       "      <td>0.430426</td>\n",
       "      <td>0.053050</td>\n",
       "      <td>0.430426</td>\n",
       "      <td>0.053050</td>\n",
       "    </tr>\n",
       "    <tr>\n",
       "      <th>7</th>\n",
       "      <td>0.236309</td>\n",
       "      <td>{'C': 30, 'penalty': 'l2'}</td>\n",
       "      <td>0.425955</td>\n",
       "      <td>0.041235</td>\n",
       "      <td>8</td>\n",
       "      <td>0.425955</td>\n",
       "      <td>0.041235</td>\n",
       "      <td>0.425955</td>\n",
       "      <td>0.041235</td>\n",
       "    </tr>\n",
       "    <tr>\n",
       "      <th>8</th>\n",
       "      <td>0.236738</td>\n",
       "      <td>{'C': 40, 'penalty': 'l2'}</td>\n",
       "      <td>0.413833</td>\n",
       "      <td>0.034668</td>\n",
       "      <td>9</td>\n",
       "      <td>0.413833</td>\n",
       "      <td>0.034668</td>\n",
       "      <td>0.413833</td>\n",
       "      <td>0.034668</td>\n",
       "    </tr>\n",
       "    <tr>\n",
       "      <th>9</th>\n",
       "      <td>0.237515</td>\n",
       "      <td>{'C': 60, 'penalty': 'l2'}</td>\n",
       "      <td>0.402870</td>\n",
       "      <td>0.045472</td>\n",
       "      <td>10</td>\n",
       "      <td>0.402870</td>\n",
       "      <td>0.045472</td>\n",
       "      <td>0.402870</td>\n",
       "      <td>0.045472</td>\n",
       "    </tr>\n",
       "    <tr>\n",
       "      <th>10</th>\n",
       "      <td>0.238586</td>\n",
       "      <td>{'C': 90, 'penalty': 'l2'}</td>\n",
       "      <td>0.381884</td>\n",
       "      <td>0.033900</td>\n",
       "      <td>11</td>\n",
       "      <td>0.381884</td>\n",
       "      <td>0.033900</td>\n",
       "      <td>0.381884</td>\n",
       "      <td>0.033900</td>\n",
       "    </tr>\n",
       "    <tr>\n",
       "      <th>11</th>\n",
       "      <td>0.238880</td>\n",
       "      <td>{'C': 320, 'penalty': 'l2'}</td>\n",
       "      <td>0.378107</td>\n",
       "      <td>0.039434</td>\n",
       "      <td>12</td>\n",
       "      <td>0.378107</td>\n",
       "      <td>0.039434</td>\n",
       "      <td>0.378107</td>\n",
       "      <td>0.039434</td>\n",
       "    </tr>\n",
       "  </tbody>\n",
       "</table>\n",
       "</div>"
      ],
      "text/plain": [
       "    mean_fit_time                       params  mean_test_accuracy  \\\n",
       "3        0.234665    {'C': 5, 'penalty': 'l2'}            0.464303   \n",
       "2        0.234686    {'C': 3, 'penalty': 'l2'}            0.463061   \n",
       "1        0.240081    {'C': 2, 'penalty': 'l2'}            0.461779   \n",
       "0        0.236452    {'C': 1, 'penalty': 'l2'}            0.457929   \n",
       "5        0.235423   {'C': 15, 'penalty': 'l2'}            0.456655   \n",
       "4        0.234452   {'C': 10, 'penalty': 'l2'}            0.436175   \n",
       "6        0.237671   {'C': 20, 'penalty': 'l2'}            0.430426   \n",
       "7        0.236309   {'C': 30, 'penalty': 'l2'}            0.425955   \n",
       "8        0.236738   {'C': 40, 'penalty': 'l2'}            0.413833   \n",
       "9        0.237515   {'C': 60, 'penalty': 'l2'}            0.402870   \n",
       "10       0.238586   {'C': 90, 'penalty': 'l2'}            0.381884   \n",
       "11       0.238880  {'C': 320, 'penalty': 'l2'}            0.378107   \n",
       "\n",
       "    std_test_accuracy  rank_test_accuracy  mean_test_precision  \\\n",
       "3            0.032438                   1             0.464303   \n",
       "2            0.038884                   2             0.463061   \n",
       "1            0.037071                   3             0.461779   \n",
       "0            0.031053                   4             0.457929   \n",
       "5            0.045495                   5             0.456655   \n",
       "4            0.027864                   6             0.436175   \n",
       "6            0.053050                   7             0.430426   \n",
       "7            0.041235                   8             0.425955   \n",
       "8            0.034668                   9             0.413833   \n",
       "9            0.045472                  10             0.402870   \n",
       "10           0.033900                  11             0.381884   \n",
       "11           0.039434                  12             0.378107   \n",
       "\n",
       "    std_test_precision  mean_test_recall  std_test_recall  \n",
       "3             0.032438          0.464303         0.032438  \n",
       "2             0.038884          0.463061         0.038884  \n",
       "1             0.037071          0.461779         0.037071  \n",
       "0             0.031053          0.457929         0.031053  \n",
       "5             0.045495          0.456655         0.045495  \n",
       "4             0.027864          0.436175         0.027864  \n",
       "6             0.053050          0.430426         0.053050  \n",
       "7             0.041235          0.425955         0.041235  \n",
       "8             0.034668          0.413833         0.034668  \n",
       "9             0.045472          0.402870         0.045472  \n",
       "10            0.033900          0.381884         0.033900  \n",
       "11            0.039434          0.378107         0.039434  "
      ]
     },
     "execution_count": 25,
     "metadata": {},
     "output_type": "execute_result"
    }
   ],
   "source": [
    "df = pd.DataFrame(clf_svc.cv_results_)\n",
    "df.sort_values(by='rank_test_accuracy')[['mean_fit_time','params','mean_test_accuracy','std_test_accuracy','rank_test_accuracy',\n",
    "                                         'mean_test_precision','std_test_precision','mean_test_recall','std_test_recall']]"
   ]
  },
  {
   "cell_type": "code",
   "execution_count": 26,
   "metadata": {
    "id": "qv9d0VLoBesU"
   },
   "outputs": [
    {
     "data": {
      "image/png": "[encoded data removed]",
      "text/plain": [
       "<Figure size 432x288 with 1 Axes>"
      ]
     },
     "metadata": {},
     "output_type": "display_data"
    },
    {
     "name": "stdout",
     "output_type": "stream",
     "text": [
      "Precision: 0.401\n",
      "Recall: 0.401\n",
      "Accuracy: 0.401\n"
     ]
    }
   ],
   "source": [
    "%matplotlib inline\n",
    "import seaborn as sns; sns.set()\n",
    "from sklearn.metrics import confusion_matrix\n",
    "import matplotlib.pyplot as plt\n",
    "\n",
    "y_test_pred = clf_svc.predict(X_test)\n",
    "cm_test = confusion_matrix(y_test, y_test_pred)\n",
    "\n",
    "sns.heatmap(cm_test.T, square=True, annot=True, fmt='d', cbar=False,\n",
    "            xticklabels= np.unique(y_test),\n",
    "            yticklabels= np.unique(y_test_pred))\n",
    "plt.xlabel('true label')\n",
    "plt.ylabel('predicted label');\n",
    "plt.title('Confusion Matrix DT - Test Set')\n",
    "plt.show()\n",
    "\n",
    "print('Precision: %.3f' %(precision_score(y_test, y_test_pred,average='micro')))\n",
    "print('Recall: %.3f' %(recall_score(y_test, y_test_pred,average='micro')))\n",
    "print('Accuracy: %.3f' %(accuracy_score(y_test,y_test_pred)))"
   ]
  },
  {
   "cell_type": "markdown",
   "metadata": {
    "id": "ZJ4qyaklX3aI"
   },
   "source": [
    "# Ensemble method:\n"
   ]
  },
  {
   "cell_type": "markdown",
   "metadata": {
    "id": "S8iK8hEtRBHL"
   },
   "source": [
    "## 1.1.5. Voting clasifier"
   ]
  },
  {
   "cell_type": "code",
   "execution_count": 27,
   "metadata": {
    "colab": {
     "base_uri": "https://localhost:8080/"
    },
    "id": "zsG9r-BOX97j",
    "outputId": "4afadd70-1d73-4cfb-ea34-609f5740daca"
   },
   "outputs": [
    {
     "name": "stderr",
     "output_type": "stream",
     "text": [
      "/home/bnt4me/.local/lib/python3.8/site-packages/sklearn/neural_network/_multilayer_perceptron.py:692: ConvergenceWarning: Stochastic Optimizer: Maximum iterations (300) reached and the optimization hasn't converged yet.\n",
      "  warnings.warn(\n",
      "/home/bnt4me/.local/lib/python3.8/site-packages/sklearn/svm/_base.py:1199: ConvergenceWarning: Liblinear failed to converge, increase the number of iterations.\n",
      "  warnings.warn(\n"
     ]
    }
   ],
   "source": [
    "from sklearn.ensemble import VotingClassifier\n",
    "\n",
    "from sklearn import svm\n",
    "from sklearn.tree import DecisionTreeClassifier\n",
    "from sklearn.neighbors import KNeighborsClassifier\n",
    "from sklearn.neural_network import MLPClassifier\n",
    "\n",
    "\n",
    "classif_model_1 = DecisionTreeClassifier(random_state=15, criterion= 'gini', max_depth= 10)\n",
    "\n",
    "classif_model_2 = MLPClassifier(random_state=1, max_iter=300, activation= 'relu', alpha= 0.0001)\n",
    "\n",
    "classif_model_3 = svm.LinearSVC(random_state=1, C= 1, penalty= 'l2')\n",
    "\n",
    "classif_model_4 = KNeighborsClassifier(metric= 'manhattan', n_neighbors= 3, \n",
    "                                       weights= 'distance',n_jobs=4)\n",
    "\n",
    "ereg = VotingClassifier(estimators=[('DT', classif_model_1), ('NN', classif_model_2),\n",
    "                                    ('SVC', classif_model_3), ('KNN', classif_model_4)])\n",
    "ereg = ereg.fit(X_train_1, y_train_1)"
   ]
  },
  {
   "cell_type": "code",
   "execution_count": 28,
   "metadata": {
    "colab": {
     "base_uri": "https://localhost:8080/"
    },
    "id": "uJlRsoEyY1uE",
    "outputId": "d1b09acc-5185-4732-80ee-2dbe71c786d6"
   },
   "outputs": [
    {
     "name": "stdout",
     "output_type": "stream",
     "text": [
      "Classification report:\n",
      "              precision    recall  f1-score   support\n",
      "\n",
      "           0       0.21      0.47      0.29        47\n",
      "           1       0.62      0.47      0.53       172\n",
      "           2       0.38      0.29      0.33        73\n",
      "\n",
      "    accuracy                           0.42       292\n",
      "   macro avg       0.40      0.41      0.38       292\n",
      "weighted avg       0.49      0.42      0.44       292\n",
      "\n",
      "\n"
     ]
    }
   ],
   "source": [
    "from sklearn.metrics import classification_report\n",
    "\n",
    "y_pred_rf = ereg .predict(X_test)\n",
    "\n",
    "print('Classification report:\\n{0}\\n'.format(classification_report(y_test, y_pred_rf)))"
   ]
  },
  {
   "cell_type": "code",
   "execution_count": 29,
   "metadata": {
    "colab": {
     "base_uri": "https://localhost:8080/",
     "height": 302
    },
    "id": "6Taud8ohY-Pf",
    "outputId": "9f256008-6c8a-423d-8b5a-4fad0f68b32e"
   },
   "outputs": [
    {
     "data": {
      "image/png": "[encoded data removed]",
      "text/plain": [
       "<Figure size 432x288 with 1 Axes>"
      ]
     },
     "metadata": {},
     "output_type": "display_data"
    }
   ],
   "source": [
    "%matplotlib inline\n",
    "import seaborn as sns; sns.set()\n",
    "from sklearn.metrics import confusion_matrix\n",
    "import matplotlib.pyplot as plt\n",
    "\n",
    "y_test_pred = ereg.predict(X_test)\n",
    "cm_test = confusion_matrix(y_test, y_test_pred)\n",
    "\n",
    "sns.heatmap(cm_test.T, square=True, annot=True, fmt='d', cbar=False,\n",
    "            xticklabels= np.unique(y_test),\n",
    "            yticklabels= np.unique(y_test_pred))\n",
    "plt.xlabel('true label')\n",
    "plt.ylabel('predicted label');\n",
    "plt.title('Confusion Voting Classifier - Test Set')\n",
    "plt.show()"
   ]
  },
  {
   "cell_type": "markdown",
   "metadata": {
    "id": "aOCHnxONRGe3"
   },
   "source": [
    "## 1.1.6. XGBoost"
   ]
  },
  {
   "cell_type": "code",
   "execution_count": 30,
   "metadata": {
    "colab": {
     "base_uri": "https://localhost:8080/"
    },
    "id": "Bg9sxFBjy4Qa",
    "outputId": "8a215b8e-55f2-418e-b6fb-f0610dd058d3"
   },
   "outputs": [
    {
     "name": "stderr",
     "output_type": "stream",
     "text": [
      "/home/bnt4me/.local/lib/python3.8/site-packages/xgboost/compat.py:36: FutureWarning: pandas.Int64Index is deprecated and will be removed from pandas in a future version. Use pandas.Index with the appropriate dtype instead.\n",
      "  from pandas import MultiIndex, Int64Index\n",
      "/home/bnt4me/.local/lib/python3.8/site-packages/sklearn/svm/_base.py:1199: ConvergenceWarning: Liblinear failed to converge, increase the number of iterations.\n",
      "  warnings.warn(\n",
      "/home/bnt4me/.local/lib/python3.8/site-packages/sklearn/svm/_base.py:1199: ConvergenceWarning: Liblinear failed to converge, increase the number of iterations.\n",
      "  warnings.warn(\n",
      "/home/bnt4me/.local/lib/python3.8/site-packages/sklearn/svm/_base.py:1199: ConvergenceWarning: Liblinear failed to converge, increase the number of iterations.\n",
      "  warnings.warn(\n",
      "/home/bnt4me/.local/lib/python3.8/site-packages/sklearn/svm/_base.py:1199: ConvergenceWarning: Liblinear failed to converge, increase the number of iterations.\n",
      "  warnings.warn(\n",
      "/home/bnt4me/.local/lib/python3.8/site-packages/sklearn/svm/_base.py:1199: ConvergenceWarning: Liblinear failed to converge, increase the number of iterations.\n",
      "  warnings.warn(\n",
      "/home/bnt4me/.local/lib/python3.8/site-packages/sklearn/svm/_base.py:1199: ConvergenceWarning: Liblinear failed to converge, increase the number of iterations.\n",
      "  warnings.warn(\n",
      "/home/bnt4me/.local/lib/python3.8/site-packages/sklearn/svm/_base.py:1199: ConvergenceWarning: Liblinear failed to converge, increase the number of iterations.\n",
      "  warnings.warn(\n",
      "/home/bnt4me/.local/lib/python3.8/site-packages/sklearn/svm/_base.py:1199: ConvergenceWarning: Liblinear failed to converge, increase the number of iterations.\n",
      "  warnings.warn(\n",
      "/home/bnt4me/.local/lib/python3.8/site-packages/sklearn/svm/_base.py:1199: ConvergenceWarning: Liblinear failed to converge, increase the number of iterations.\n",
      "  warnings.warn(\n",
      "/home/bnt4me/.local/lib/python3.8/site-packages/sklearn/svm/_base.py:1199: ConvergenceWarning: Liblinear failed to converge, increase the number of iterations.\n",
      "  warnings.warn(\n",
      "/home/bnt4me/.local/lib/python3.8/site-packages/sklearn/svm/_base.py:1199: ConvergenceWarning: Liblinear failed to converge, increase the number of iterations.\n",
      "  warnings.warn(\n",
      "/home/bnt4me/.local/lib/python3.8/site-packages/sklearn/svm/_base.py:1199: ConvergenceWarning: Liblinear failed to converge, increase the number of iterations.\n",
      "  warnings.warn(\n",
      "/home/bnt4me/.local/lib/python3.8/site-packages/sklearn/svm/_base.py:1199: ConvergenceWarning: Liblinear failed to converge, increase the number of iterations.\n",
      "  warnings.warn(\n",
      "/home/bnt4me/.local/lib/python3.8/site-packages/sklearn/svm/_base.py:1199: ConvergenceWarning: Liblinear failed to converge, increase the number of iterations.\n",
      "  warnings.warn(\n",
      "/home/bnt4me/.local/lib/python3.8/site-packages/sklearn/svm/_base.py:1199: ConvergenceWarning: Liblinear failed to converge, increase the number of iterations.\n",
      "  warnings.warn(\n",
      "/home/bnt4me/.local/lib/python3.8/site-packages/sklearn/svm/_base.py:1199: ConvergenceWarning: Liblinear failed to converge, increase the number of iterations.\n",
      "  warnings.warn(\n",
      "/home/bnt4me/.local/lib/python3.8/site-packages/sklearn/svm/_base.py:1199: ConvergenceWarning: Liblinear failed to converge, increase the number of iterations.\n",
      "  warnings.warn(\n",
      "/home/bnt4me/.local/lib/python3.8/site-packages/sklearn/svm/_base.py:1199: ConvergenceWarning: Liblinear failed to converge, increase the number of iterations.\n",
      "  warnings.warn(\n",
      "/home/bnt4me/.local/lib/python3.8/site-packages/sklearn/svm/_base.py:1199: ConvergenceWarning: Liblinear failed to converge, increase the number of iterations.\n",
      "  warnings.warn(\n",
      "/home/bnt4me/.local/lib/python3.8/site-packages/sklearn/svm/_base.py:1199: ConvergenceWarning: Liblinear failed to converge, increase the number of iterations.\n",
      "  warnings.warn(\n",
      "/home/bnt4me/.local/lib/python3.8/site-packages/sklearn/svm/_base.py:1199: ConvergenceWarning: Liblinear failed to converge, increase the number of iterations.\n",
      "  warnings.warn(\n",
      "/home/bnt4me/.local/lib/python3.8/site-packages/sklearn/svm/_base.py:1199: ConvergenceWarning: Liblinear failed to converge, increase the number of iterations.\n",
      "  warnings.warn(\n",
      "/home/bnt4me/.local/lib/python3.8/site-packages/sklearn/svm/_base.py:1199: ConvergenceWarning: Liblinear failed to converge, increase the number of iterations.\n",
      "  warnings.warn(\n",
      "/home/bnt4me/.local/lib/python3.8/site-packages/sklearn/svm/_base.py:1199: ConvergenceWarning: Liblinear failed to converge, increase the number of iterations.\n",
      "  warnings.warn(\n",
      "/home/bnt4me/.local/lib/python3.8/site-packages/sklearn/svm/_base.py:1199: ConvergenceWarning: Liblinear failed to converge, increase the number of iterations.\n",
      "  warnings.warn(\n",
      "/home/bnt4me/.local/lib/python3.8/site-packages/sklearn/svm/_base.py:1199: ConvergenceWarning: Liblinear failed to converge, increase the number of iterations.\n",
      "  warnings.warn(\n",
      "/home/bnt4me/.local/lib/python3.8/site-packages/sklearn/svm/_base.py:1199: ConvergenceWarning: Liblinear failed to converge, increase the number of iterations.\n",
      "  warnings.warn(\n",
      "/home/bnt4me/.local/lib/python3.8/site-packages/sklearn/svm/_base.py:1199: ConvergenceWarning: Liblinear failed to converge, increase the number of iterations.\n",
      "  warnings.warn(\n",
      "/home/bnt4me/.local/lib/python3.8/site-packages/sklearn/svm/_base.py:1199: ConvergenceWarning: Liblinear failed to converge, increase the number of iterations.\n",
      "  warnings.warn(\n",
      "/home/bnt4me/.local/lib/python3.8/site-packages/sklearn/svm/_base.py:1199: ConvergenceWarning: Liblinear failed to converge, increase the number of iterations.\n",
      "  warnings.warn(\n",
      "/home/bnt4me/.local/lib/python3.8/site-packages/sklearn/svm/_base.py:1199: ConvergenceWarning: Liblinear failed to converge, increase the number of iterations.\n",
      "  warnings.warn(\n",
      "/home/bnt4me/.local/lib/python3.8/site-packages/sklearn/svm/_base.py:1199: ConvergenceWarning: Liblinear failed to converge, increase the number of iterations.\n",
      "  warnings.warn(\n",
      "/home/bnt4me/.local/lib/python3.8/site-packages/sklearn/svm/_base.py:1199: ConvergenceWarning: Liblinear failed to converge, increase the number of iterations.\n",
      "  warnings.warn(\n",
      "/home/bnt4me/.local/lib/python3.8/site-packages/sklearn/svm/_base.py:1199: ConvergenceWarning: Liblinear failed to converge, increase the number of iterations.\n",
      "  warnings.warn(\n",
      "/home/bnt4me/.local/lib/python3.8/site-packages/sklearn/svm/_base.py:1199: ConvergenceWarning: Liblinear failed to converge, increase the number of iterations.\n",
      "  warnings.warn(\n",
      "/home/bnt4me/.local/lib/python3.8/site-packages/sklearn/svm/_base.py:1199: ConvergenceWarning: Liblinear failed to converge, increase the number of iterations.\n",
      "  warnings.warn(\n",
      "/home/bnt4me/.local/lib/python3.8/site-packages/sklearn/svm/_base.py:1199: ConvergenceWarning: Liblinear failed to converge, increase the number of iterations.\n",
      "  warnings.warn(\n",
      "/home/bnt4me/.local/lib/python3.8/site-packages/sklearn/svm/_base.py:1199: ConvergenceWarning: Liblinear failed to converge, increase the number of iterations.\n",
      "  warnings.warn(\n",
      "/home/bnt4me/.local/lib/python3.8/site-packages/sklearn/svm/_base.py:1199: ConvergenceWarning: Liblinear failed to converge, increase the number of iterations.\n",
      "  warnings.warn(\n",
      "/home/bnt4me/.local/lib/python3.8/site-packages/sklearn/svm/_base.py:1199: ConvergenceWarning: Liblinear failed to converge, increase the number of iterations.\n",
      "  warnings.warn(\n",
      "/home/bnt4me/.local/lib/python3.8/site-packages/sklearn/svm/_base.py:1199: ConvergenceWarning: Liblinear failed to converge, increase the number of iterations.\n",
      "  warnings.warn(\n",
      "/home/bnt4me/.local/lib/python3.8/site-packages/sklearn/svm/_base.py:1199: ConvergenceWarning: Liblinear failed to converge, increase the number of iterations.\n",
      "  warnings.warn(\n",
      "/home/bnt4me/.local/lib/python3.8/site-packages/sklearn/svm/_base.py:1199: ConvergenceWarning: Liblinear failed to converge, increase the number of iterations.\n",
      "  warnings.warn(\n",
      "/home/bnt4me/.local/lib/python3.8/site-packages/sklearn/svm/_base.py:1199: ConvergenceWarning: Liblinear failed to converge, increase the number of iterations.\n",
      "  warnings.warn(\n",
      "/home/bnt4me/.local/lib/python3.8/site-packages/sklearn/svm/_base.py:1199: ConvergenceWarning: Liblinear failed to converge, increase the number of iterations.\n",
      "  warnings.warn(\n",
      "/home/bnt4me/.local/lib/python3.8/site-packages/sklearn/svm/_base.py:1199: ConvergenceWarning: Liblinear failed to converge, increase the number of iterations.\n",
      "  warnings.warn(\n",
      "/home/bnt4me/.local/lib/python3.8/site-packages/sklearn/svm/_base.py:1199: ConvergenceWarning: Liblinear failed to converge, increase the number of iterations.\n",
      "  warnings.warn(\n",
      "/home/bnt4me/.local/lib/python3.8/site-packages/sklearn/svm/_base.py:1199: ConvergenceWarning: Liblinear failed to converge, increase the number of iterations.\n",
      "  warnings.warn(\n",
      "/home/bnt4me/.local/lib/python3.8/site-packages/sklearn/svm/_base.py:1199: ConvergenceWarning: Liblinear failed to converge, increase the number of iterations.\n",
      "  warnings.warn(\n",
      "/home/bnt4me/.local/lib/python3.8/site-packages/sklearn/svm/_base.py:1199: ConvergenceWarning: Liblinear failed to converge, increase the number of iterations.\n",
      "  warnings.warn(\n",
      "/home/bnt4me/.local/lib/python3.8/site-packages/sklearn/svm/_base.py:1199: ConvergenceWarning: Liblinear failed to converge, increase the number of iterations.\n",
      "  warnings.warn(\n",
      "/home/bnt4me/.local/lib/python3.8/site-packages/sklearn/svm/_base.py:1199: ConvergenceWarning: Liblinear failed to converge, increase the number of iterations.\n",
      "  warnings.warn(\n",
      "/home/bnt4me/.local/lib/python3.8/site-packages/sklearn/svm/_base.py:1199: ConvergenceWarning: Liblinear failed to converge, increase the number of iterations.\n",
      "  warnings.warn(\n",
      "/home/bnt4me/.local/lib/python3.8/site-packages/sklearn/svm/_base.py:1199: ConvergenceWarning: Liblinear failed to converge, increase the number of iterations.\n",
      "  warnings.warn(\n",
      "/home/bnt4me/.local/lib/python3.8/site-packages/sklearn/svm/_base.py:1199: ConvergenceWarning: Liblinear failed to converge, increase the number of iterations.\n",
      "  warnings.warn(\n",
      "/home/bnt4me/.local/lib/python3.8/site-packages/sklearn/svm/_base.py:1199: ConvergenceWarning: Liblinear failed to converge, increase the number of iterations.\n",
      "  warnings.warn(\n",
      "/home/bnt4me/.local/lib/python3.8/site-packages/sklearn/svm/_base.py:1199: ConvergenceWarning: Liblinear failed to converge, increase the number of iterations.\n",
      "  warnings.warn(\n",
      "/home/bnt4me/.local/lib/python3.8/site-packages/sklearn/svm/_base.py:1199: ConvergenceWarning: Liblinear failed to converge, increase the number of iterations.\n",
      "  warnings.warn(\n",
      "/home/bnt4me/.local/lib/python3.8/site-packages/sklearn/svm/_base.py:1199: ConvergenceWarning: Liblinear failed to converge, increase the number of iterations.\n",
      "  warnings.warn(\n",
      "/home/bnt4me/.local/lib/python3.8/site-packages/sklearn/svm/_base.py:1199: ConvergenceWarning: Liblinear failed to converge, increase the number of iterations.\n",
      "  warnings.warn(\n",
      "/home/bnt4me/.local/lib/python3.8/site-packages/sklearn/svm/_base.py:1199: ConvergenceWarning: Liblinear failed to converge, increase the number of iterations.\n",
      "  warnings.warn(\n",
      "/home/bnt4me/.local/lib/python3.8/site-packages/sklearn/svm/_base.py:1199: ConvergenceWarning: Liblinear failed to converge, increase the number of iterations.\n",
      "  warnings.warn(\n",
      "/home/bnt4me/.local/lib/python3.8/site-packages/sklearn/svm/_base.py:1199: ConvergenceWarning: Liblinear failed to converge, increase the number of iterations.\n",
      "  warnings.warn(\n",
      "/home/bnt4me/.local/lib/python3.8/site-packages/sklearn/svm/_base.py:1199: ConvergenceWarning: Liblinear failed to converge, increase the number of iterations.\n",
      "  warnings.warn(\n",
      "/home/bnt4me/.local/lib/python3.8/site-packages/sklearn/svm/_base.py:1199: ConvergenceWarning: Liblinear failed to converge, increase the number of iterations.\n",
      "  warnings.warn(\n",
      "/home/bnt4me/.local/lib/python3.8/site-packages/sklearn/svm/_base.py:1199: ConvergenceWarning: Liblinear failed to converge, increase the number of iterations.\n",
      "  warnings.warn(\n",
      "/home/bnt4me/.local/lib/python3.8/site-packages/sklearn/svm/_base.py:1199: ConvergenceWarning: Liblinear failed to converge, increase the number of iterations.\n",
      "  warnings.warn(\n",
      "/home/bnt4me/.local/lib/python3.8/site-packages/sklearn/svm/_base.py:1199: ConvergenceWarning: Liblinear failed to converge, increase the number of iterations.\n",
      "  warnings.warn(\n",
      "/home/bnt4me/.local/lib/python3.8/site-packages/sklearn/svm/_base.py:1199: ConvergenceWarning: Liblinear failed to converge, increase the number of iterations.\n",
      "  warnings.warn(\n",
      "/home/bnt4me/.local/lib/python3.8/site-packages/sklearn/svm/_base.py:1199: ConvergenceWarning: Liblinear failed to converge, increase the number of iterations.\n",
      "  warnings.warn(\n",
      "/home/bnt4me/.local/lib/python3.8/site-packages/sklearn/svm/_base.py:1199: ConvergenceWarning: Liblinear failed to converge, increase the number of iterations.\n",
      "  warnings.warn(\n",
      "/home/bnt4me/.local/lib/python3.8/site-packages/sklearn/svm/_base.py:1199: ConvergenceWarning: Liblinear failed to converge, increase the number of iterations.\n",
      "  warnings.warn(\n",
      "/home/bnt4me/.local/lib/python3.8/site-packages/sklearn/svm/_base.py:1199: ConvergenceWarning: Liblinear failed to converge, increase the number of iterations.\n",
      "  warnings.warn(\n",
      "/home/bnt4me/.local/lib/python3.8/site-packages/sklearn/svm/_base.py:1199: ConvergenceWarning: Liblinear failed to converge, increase the number of iterations.\n",
      "  warnings.warn(\n",
      "/home/bnt4me/.local/lib/python3.8/site-packages/sklearn/svm/_base.py:1199: ConvergenceWarning: Liblinear failed to converge, increase the number of iterations.\n",
      "  warnings.warn(\n",
      "/home/bnt4me/.local/lib/python3.8/site-packages/sklearn/svm/_base.py:1199: ConvergenceWarning: Liblinear failed to converge, increase the number of iterations.\n",
      "  warnings.warn(\n",
      "/home/bnt4me/.local/lib/python3.8/site-packages/sklearn/svm/_base.py:1199: ConvergenceWarning: Liblinear failed to converge, increase the number of iterations.\n",
      "  warnings.warn(\n",
      "/home/bnt4me/.local/lib/python3.8/site-packages/sklearn/svm/_base.py:1199: ConvergenceWarning: Liblinear failed to converge, increase the number of iterations.\n",
      "  warnings.warn(\n",
      "/home/bnt4me/.local/lib/python3.8/site-packages/sklearn/svm/_base.py:1199: ConvergenceWarning: Liblinear failed to converge, increase the number of iterations.\n",
      "  warnings.warn(\n",
      "/home/bnt4me/.local/lib/python3.8/site-packages/sklearn/svm/_base.py:1199: ConvergenceWarning: Liblinear failed to converge, increase the number of iterations.\n",
      "  warnings.warn(\n",
      "/home/bnt4me/.local/lib/python3.8/site-packages/sklearn/svm/_base.py:1199: ConvergenceWarning: Liblinear failed to converge, increase the number of iterations.\n",
      "  warnings.warn(\n",
      "/home/bnt4me/.local/lib/python3.8/site-packages/sklearn/svm/_base.py:1199: ConvergenceWarning: Liblinear failed to converge, increase the number of iterations.\n",
      "  warnings.warn(\n",
      "/home/bnt4me/.local/lib/python3.8/site-packages/sklearn/svm/_base.py:1199: ConvergenceWarning: Liblinear failed to converge, increase the number of iterations.\n",
      "  warnings.warn(\n",
      "/home/bnt4me/.local/lib/python3.8/site-packages/sklearn/svm/_base.py:1199: ConvergenceWarning: Liblinear failed to converge, increase the number of iterations.\n",
      "  warnings.warn(\n",
      "/home/bnt4me/.local/lib/python3.8/site-packages/sklearn/svm/_base.py:1199: ConvergenceWarning: Liblinear failed to converge, increase the number of iterations.\n",
      "  warnings.warn(\n",
      "/home/bnt4me/.local/lib/python3.8/site-packages/sklearn/svm/_base.py:1199: ConvergenceWarning: Liblinear failed to converge, increase the number of iterations.\n",
      "  warnings.warn(\n",
      "/home/bnt4me/.local/lib/python3.8/site-packages/sklearn/svm/_base.py:1199: ConvergenceWarning: Liblinear failed to converge, increase the number of iterations.\n",
      "  warnings.warn(\n",
      "/home/bnt4me/.local/lib/python3.8/site-packages/sklearn/svm/_base.py:1199: ConvergenceWarning: Liblinear failed to converge, increase the number of iterations.\n",
      "  warnings.warn(\n",
      "/home/bnt4me/.local/lib/python3.8/site-packages/sklearn/svm/_base.py:1199: ConvergenceWarning: Liblinear failed to converge, increase the number of iterations.\n",
      "  warnings.warn(\n",
      "/home/bnt4me/.local/lib/python3.8/site-packages/sklearn/svm/_base.py:1199: ConvergenceWarning: Liblinear failed to converge, increase the number of iterations.\n",
      "  warnings.warn(\n",
      "/home/bnt4me/.local/lib/python3.8/site-packages/sklearn/svm/_base.py:1199: ConvergenceWarning: Liblinear failed to converge, increase the number of iterations.\n",
      "  warnings.warn(\n",
      "/home/bnt4me/.local/lib/python3.8/site-packages/sklearn/svm/_base.py:1199: ConvergenceWarning: Liblinear failed to converge, increase the number of iterations.\n",
      "  warnings.warn(\n",
      "/home/bnt4me/.local/lib/python3.8/site-packages/sklearn/svm/_base.py:1199: ConvergenceWarning: Liblinear failed to converge, increase the number of iterations.\n",
      "  warnings.warn(\n",
      "/home/bnt4me/.local/lib/python3.8/site-packages/sklearn/svm/_base.py:1199: ConvergenceWarning: Liblinear failed to converge, increase the number of iterations.\n",
      "  warnings.warn(\n",
      "/home/bnt4me/.local/lib/python3.8/site-packages/sklearn/svm/_base.py:1199: ConvergenceWarning: Liblinear failed to converge, increase the number of iterations.\n",
      "  warnings.warn(\n",
      "/home/bnt4me/.local/lib/python3.8/site-packages/sklearn/svm/_base.py:1199: ConvergenceWarning: Liblinear failed to converge, increase the number of iterations.\n",
      "  warnings.warn(\n",
      "/home/bnt4me/.local/lib/python3.8/site-packages/sklearn/svm/_base.py:1199: ConvergenceWarning: Liblinear failed to converge, increase the number of iterations.\n",
      "  warnings.warn(\n",
      "/home/bnt4me/.local/lib/python3.8/site-packages/sklearn/svm/_base.py:1199: ConvergenceWarning: Liblinear failed to converge, increase the number of iterations.\n",
      "  warnings.warn(\n",
      "/home/bnt4me/.local/lib/python3.8/site-packages/sklearn/svm/_base.py:1199: ConvergenceWarning: Liblinear failed to converge, increase the number of iterations.\n",
      "  warnings.warn(\n",
      "/home/bnt4me/.local/lib/python3.8/site-packages/sklearn/svm/_base.py:1199: ConvergenceWarning: Liblinear failed to converge, increase the number of iterations.\n",
      "  warnings.warn(\n",
      "/home/bnt4me/.local/lib/python3.8/site-packages/sklearn/svm/_base.py:1199: ConvergenceWarning: Liblinear failed to converge, increase the number of iterations.\n",
      "  warnings.warn(\n",
      "/home/bnt4me/.local/lib/python3.8/site-packages/sklearn/svm/_base.py:1199: ConvergenceWarning: Liblinear failed to converge, increase the number of iterations.\n",
      "  warnings.warn(\n",
      "/home/bnt4me/.local/lib/python3.8/site-packages/sklearn/svm/_base.py:1199: ConvergenceWarning: Liblinear failed to converge, increase the number of iterations.\n",
      "  warnings.warn(\n",
      "/home/bnt4me/.local/lib/python3.8/site-packages/sklearn/svm/_base.py:1199: ConvergenceWarning: Liblinear failed to converge, increase the number of iterations.\n",
      "  warnings.warn(\n",
      "/home/bnt4me/.local/lib/python3.8/site-packages/sklearn/svm/_base.py:1199: ConvergenceWarning: Liblinear failed to converge, increase the number of iterations.\n",
      "  warnings.warn(\n",
      "/home/bnt4me/.local/lib/python3.8/site-packages/sklearn/svm/_base.py:1199: ConvergenceWarning: Liblinear failed to converge, increase the number of iterations.\n",
      "  warnings.warn(\n",
      "/home/bnt4me/.local/lib/python3.8/site-packages/sklearn/svm/_base.py:1199: ConvergenceWarning: Liblinear failed to converge, increase the number of iterations.\n",
      "  warnings.warn(\n",
      "/home/bnt4me/.local/lib/python3.8/site-packages/sklearn/svm/_base.py:1199: ConvergenceWarning: Liblinear failed to converge, increase the number of iterations.\n",
      "  warnings.warn(\n",
      "/home/bnt4me/.local/lib/python3.8/site-packages/sklearn/svm/_base.py:1199: ConvergenceWarning: Liblinear failed to converge, increase the number of iterations.\n",
      "  warnings.warn(\n",
      "/home/bnt4me/.local/lib/python3.8/site-packages/sklearn/svm/_base.py:1199: ConvergenceWarning: Liblinear failed to converge, increase the number of iterations.\n",
      "  warnings.warn(\n",
      "/home/bnt4me/.local/lib/python3.8/site-packages/sklearn/svm/_base.py:1199: ConvergenceWarning: Liblinear failed to converge, increase the number of iterations.\n",
      "  warnings.warn(\n",
      "/home/bnt4me/.local/lib/python3.8/site-packages/sklearn/svm/_base.py:1199: ConvergenceWarning: Liblinear failed to converge, increase the number of iterations.\n",
      "  warnings.warn(\n",
      "/home/bnt4me/.local/lib/python3.8/site-packages/sklearn/svm/_base.py:1199: ConvergenceWarning: Liblinear failed to converge, increase the number of iterations.\n",
      "  warnings.warn(\n",
      "/home/bnt4me/.local/lib/python3.8/site-packages/sklearn/svm/_base.py:1199: ConvergenceWarning: Liblinear failed to converge, increase the number of iterations.\n",
      "  warnings.warn(\n",
      "/home/bnt4me/.local/lib/python3.8/site-packages/sklearn/svm/_base.py:1199: ConvergenceWarning: Liblinear failed to converge, increase the number of iterations.\n",
      "  warnings.warn(\n",
      "/home/bnt4me/.local/lib/python3.8/site-packages/sklearn/svm/_base.py:1199: ConvergenceWarning: Liblinear failed to converge, increase the number of iterations.\n",
      "  warnings.warn(\n",
      "/home/bnt4me/.local/lib/python3.8/site-packages/sklearn/svm/_base.py:1199: ConvergenceWarning: Liblinear failed to converge, increase the number of iterations.\n",
      "  warnings.warn(\n",
      "/home/bnt4me/.local/lib/python3.8/site-packages/sklearn/svm/_base.py:1199: ConvergenceWarning: Liblinear failed to converge, increase the number of iterations.\n",
      "  warnings.warn(\n",
      "/home/bnt4me/.local/lib/python3.8/site-packages/sklearn/svm/_base.py:1199: ConvergenceWarning: Liblinear failed to converge, increase the number of iterations.\n",
      "  warnings.warn(\n",
      "/home/bnt4me/.local/lib/python3.8/site-packages/sklearn/svm/_base.py:1199: ConvergenceWarning: Liblinear failed to converge, increase the number of iterations.\n",
      "  warnings.warn(\n"
     ]
    },
    {
     "ename": "KeyboardInterrupt",
     "evalue": "",
     "output_type": "error",
     "traceback": [
      "\u001b[0;31m---------------------------------------------------------------------------\u001b[0m",
      "\u001b[0;31mKeyboardInterrupt\u001b[0m                         Traceback (most recent call last)",
      "\u001b[0;32m/tmp/ipykernel_142779/2957691923.py\u001b[0m in \u001b[0;36m<module>\u001b[0;34m\u001b[0m\n\u001b[1;32m     14\u001b[0m \u001b[0msearch\u001b[0m \u001b[0;34m=\u001b[0m \u001b[0mRandomizedSearchCV\u001b[0m\u001b[0;34m(\u001b[0m\u001b[0mxgb_model\u001b[0m\u001b[0;34m,\u001b[0m \u001b[0mparam_distributions\u001b[0m\u001b[0;34m=\u001b[0m\u001b[0mparams\u001b[0m\u001b[0;34m,\u001b[0m \u001b[0mrandom_state\u001b[0m\u001b[0;34m=\u001b[0m\u001b[0;36m10\u001b[0m\u001b[0;34m,\u001b[0m \u001b[0mcv\u001b[0m\u001b[0;34m=\u001b[0m\u001b[0;36m3\u001b[0m\u001b[0;34m,\u001b[0m \u001b[0mn_jobs\u001b[0m\u001b[0;34m=\u001b[0m\u001b[0;36m8\u001b[0m\u001b[0;34m,\u001b[0m \u001b[0mreturn_train_score\u001b[0m\u001b[0;34m=\u001b[0m\u001b[0;32mTrue\u001b[0m\u001b[0;34m)\u001b[0m\u001b[0;34m\u001b[0m\u001b[0;34m\u001b[0m\u001b[0m\n\u001b[1;32m     15\u001b[0m \u001b[0;34m\u001b[0m\u001b[0m\n\u001b[0;32m---> 16\u001b[0;31m \u001b[0msearch\u001b[0m\u001b[0;34m.\u001b[0m\u001b[0mfit\u001b[0m\u001b[0;34m(\u001b[0m\u001b[0mX_train_1\u001b[0m\u001b[0;34m,\u001b[0m \u001b[0my_train_1\u001b[0m\u001b[0;34m)\u001b[0m\u001b[0;34m\u001b[0m\u001b[0;34m\u001b[0m\u001b[0m\n\u001b[0m",
      "\u001b[0;32m~/.local/lib/python3.8/site-packages/sklearn/model_selection/_search.py\u001b[0m in \u001b[0;36mfit\u001b[0;34m(self, X, y, groups, **fit_params)\u001b[0m\n\u001b[1;32m    889\u001b[0m                 \u001b[0;32mreturn\u001b[0m \u001b[0mresults\u001b[0m\u001b[0;34m\u001b[0m\u001b[0;34m\u001b[0m\u001b[0m\n\u001b[1;32m    890\u001b[0m \u001b[0;34m\u001b[0m\u001b[0m\n\u001b[0;32m--> 891\u001b[0;31m             \u001b[0mself\u001b[0m\u001b[0;34m.\u001b[0m\u001b[0m_run_search\u001b[0m\u001b[0;34m(\u001b[0m\u001b[0mevaluate_candidates\u001b[0m\u001b[0;34m)\u001b[0m\u001b[0;34m\u001b[0m\u001b[0;34m\u001b[0m\u001b[0m\n\u001b[0m\u001b[1;32m    892\u001b[0m \u001b[0;34m\u001b[0m\u001b[0m\n\u001b[1;32m    893\u001b[0m             \u001b[0;31m# multimetric is determined here because in the case of a callable\u001b[0m\u001b[0;34m\u001b[0m\u001b[0;34m\u001b[0m\u001b[0;34m\u001b[0m\u001b[0m\n",
      "\u001b[0;32m~/.local/lib/python3.8/site-packages/sklearn/model_selection/_search.py\u001b[0m in \u001b[0;36m_run_search\u001b[0;34m(self, evaluate_candidates)\u001b[0m\n\u001b[1;32m   1764\u001b[0m     \u001b[0;32mdef\u001b[0m \u001b[0m_run_search\u001b[0m\u001b[0;34m(\u001b[0m\u001b[0mself\u001b[0m\u001b[0;34m,\u001b[0m \u001b[0mevaluate_candidates\u001b[0m\u001b[0;34m)\u001b[0m\u001b[0;34m:\u001b[0m\u001b[0;34m\u001b[0m\u001b[0;34m\u001b[0m\u001b[0m\n\u001b[1;32m   1765\u001b[0m         \u001b[0;34m\"\"\"Search n_iter candidates from param_distributions\"\"\"\u001b[0m\u001b[0;34m\u001b[0m\u001b[0;34m\u001b[0m\u001b[0m\n\u001b[0;32m-> 1766\u001b[0;31m         evaluate_candidates(\n\u001b[0m\u001b[1;32m   1767\u001b[0m             ParameterSampler(\n\u001b[1;32m   1768\u001b[0m                 \u001b[0mself\u001b[0m\u001b[0;34m.\u001b[0m\u001b[0mparam_distributions\u001b[0m\u001b[0;34m,\u001b[0m \u001b[0mself\u001b[0m\u001b[0;34m.\u001b[0m\u001b[0mn_iter\u001b[0m\u001b[0;34m,\u001b[0m \u001b[0mrandom_state\u001b[0m\u001b[0;34m=\u001b[0m\u001b[0mself\u001b[0m\u001b[0;34m.\u001b[0m\u001b[0mrandom_state\u001b[0m\u001b[0;34m\u001b[0m\u001b[0;34m\u001b[0m\u001b[0m\n",
      "\u001b[0;32m~/.local/lib/python3.8/site-packages/sklearn/model_selection/_search.py\u001b[0m in \u001b[0;36mevaluate_candidates\u001b[0;34m(candidate_params, cv, more_results)\u001b[0m\n\u001b[1;32m    836\u001b[0m                     )\n\u001b[1;32m    837\u001b[0m \u001b[0;34m\u001b[0m\u001b[0m\n\u001b[0;32m--> 838\u001b[0;31m                 out = parallel(\n\u001b[0m\u001b[1;32m    839\u001b[0m                     delayed(_fit_and_score)(\n\u001b[1;32m    840\u001b[0m                         \u001b[0mclone\u001b[0m\u001b[0;34m(\u001b[0m\u001b[0mbase_estimator\u001b[0m\u001b[0;34m)\u001b[0m\u001b[0;34m,\u001b[0m\u001b[0;34m\u001b[0m\u001b[0;34m\u001b[0m\u001b[0m\n",
      "\u001b[0;32m~/.local/lib/python3.8/site-packages/joblib/parallel.py\u001b[0m in \u001b[0;36m__call__\u001b[0;34m(self, iterable)\u001b[0m\n\u001b[1;32m   1054\u001b[0m \u001b[0;34m\u001b[0m\u001b[0m\n\u001b[1;32m   1055\u001b[0m             \u001b[0;32mwith\u001b[0m \u001b[0mself\u001b[0m\u001b[0;34m.\u001b[0m\u001b[0m_backend\u001b[0m\u001b[0;34m.\u001b[0m\u001b[0mretrieval_context\u001b[0m\u001b[0;34m(\u001b[0m\u001b[0;34m)\u001b[0m\u001b[0;34m:\u001b[0m\u001b[0;34m\u001b[0m\u001b[0;34m\u001b[0m\u001b[0m\n\u001b[0;32m-> 1056\u001b[0;31m                 \u001b[0mself\u001b[0m\u001b[0;34m.\u001b[0m\u001b[0mretrieve\u001b[0m\u001b[0;34m(\u001b[0m\u001b[0;34m)\u001b[0m\u001b[0;34m\u001b[0m\u001b[0;34m\u001b[0m\u001b[0m\n\u001b[0m\u001b[1;32m   1057\u001b[0m             \u001b[0;31m# Make sure that we get a last message telling us we are done\u001b[0m\u001b[0;34m\u001b[0m\u001b[0;34m\u001b[0m\u001b[0;34m\u001b[0m\u001b[0m\n\u001b[1;32m   1058\u001b[0m             \u001b[0melapsed_time\u001b[0m \u001b[0;34m=\u001b[0m \u001b[0mtime\u001b[0m\u001b[0;34m.\u001b[0m\u001b[0mtime\u001b[0m\u001b[0;34m(\u001b[0m\u001b[0;34m)\u001b[0m \u001b[0;34m-\u001b[0m \u001b[0mself\u001b[0m\u001b[0;34m.\u001b[0m\u001b[0m_start_time\u001b[0m\u001b[0;34m\u001b[0m\u001b[0;34m\u001b[0m\u001b[0m\n",
      "\u001b[0;32m~/.local/lib/python3.8/site-packages/joblib/parallel.py\u001b[0m in \u001b[0;36mretrieve\u001b[0;34m(self)\u001b[0m\n\u001b[1;32m    933\u001b[0m             \u001b[0;32mtry\u001b[0m\u001b[0;34m:\u001b[0m\u001b[0;34m\u001b[0m\u001b[0;34m\u001b[0m\u001b[0m\n\u001b[1;32m    934\u001b[0m                 \u001b[0;32mif\u001b[0m \u001b[0mgetattr\u001b[0m\u001b[0;34m(\u001b[0m\u001b[0mself\u001b[0m\u001b[0;34m.\u001b[0m\u001b[0m_backend\u001b[0m\u001b[0;34m,\u001b[0m \u001b[0;34m'supports_timeout'\u001b[0m\u001b[0;34m,\u001b[0m \u001b[0;32mFalse\u001b[0m\u001b[0;34m)\u001b[0m\u001b[0;34m:\u001b[0m\u001b[0;34m\u001b[0m\u001b[0;34m\u001b[0m\u001b[0m\n\u001b[0;32m--> 935\u001b[0;31m                     \u001b[0mself\u001b[0m\u001b[0;34m.\u001b[0m\u001b[0m_output\u001b[0m\u001b[0;34m.\u001b[0m\u001b[0mextend\u001b[0m\u001b[0;34m(\u001b[0m\u001b[0mjob\u001b[0m\u001b[0;34m.\u001b[0m\u001b[0mget\u001b[0m\u001b[0;34m(\u001b[0m\u001b[0mtimeout\u001b[0m\u001b[0;34m=\u001b[0m\u001b[0mself\u001b[0m\u001b[0;34m.\u001b[0m\u001b[0mtimeout\u001b[0m\u001b[0;34m)\u001b[0m\u001b[0;34m)\u001b[0m\u001b[0;34m\u001b[0m\u001b[0;34m\u001b[0m\u001b[0m\n\u001b[0m\u001b[1;32m    936\u001b[0m                 \u001b[0;32melse\u001b[0m\u001b[0;34m:\u001b[0m\u001b[0;34m\u001b[0m\u001b[0;34m\u001b[0m\u001b[0m\n\u001b[1;32m    937\u001b[0m                     \u001b[0mself\u001b[0m\u001b[0;34m.\u001b[0m\u001b[0m_output\u001b[0m\u001b[0;34m.\u001b[0m\u001b[0mextend\u001b[0m\u001b[0;34m(\u001b[0m\u001b[0mjob\u001b[0m\u001b[0;34m.\u001b[0m\u001b[0mget\u001b[0m\u001b[0;34m(\u001b[0m\u001b[0;34m)\u001b[0m\u001b[0;34m)\u001b[0m\u001b[0;34m\u001b[0m\u001b[0;34m\u001b[0m\u001b[0m\n",
      "\u001b[0;32m~/.local/lib/python3.8/site-packages/joblib/_parallel_backends.py\u001b[0m in \u001b[0;36mwrap_future_result\u001b[0;34m(future, timeout)\u001b[0m\n\u001b[1;32m    540\u001b[0m         AsyncResults.get from multiprocessing.\"\"\"\n\u001b[1;32m    541\u001b[0m         \u001b[0;32mtry\u001b[0m\u001b[0;34m:\u001b[0m\u001b[0;34m\u001b[0m\u001b[0;34m\u001b[0m\u001b[0m\n\u001b[0;32m--> 542\u001b[0;31m             \u001b[0;32mreturn\u001b[0m \u001b[0mfuture\u001b[0m\u001b[0;34m.\u001b[0m\u001b[0mresult\u001b[0m\u001b[0;34m(\u001b[0m\u001b[0mtimeout\u001b[0m\u001b[0;34m=\u001b[0m\u001b[0mtimeout\u001b[0m\u001b[0;34m)\u001b[0m\u001b[0;34m\u001b[0m\u001b[0;34m\u001b[0m\u001b[0m\n\u001b[0m\u001b[1;32m    543\u001b[0m         \u001b[0;32mexcept\u001b[0m \u001b[0mCfTimeoutError\u001b[0m \u001b[0;32mas\u001b[0m \u001b[0me\u001b[0m\u001b[0;34m:\u001b[0m\u001b[0;34m\u001b[0m\u001b[0;34m\u001b[0m\u001b[0m\n\u001b[1;32m    544\u001b[0m             \u001b[0;32mraise\u001b[0m \u001b[0mTimeoutError\u001b[0m \u001b[0;32mfrom\u001b[0m \u001b[0me\u001b[0m\u001b[0;34m\u001b[0m\u001b[0;34m\u001b[0m\u001b[0m\n",
      "\u001b[0;32m/usr/lib/python3.8/concurrent/futures/_base.py\u001b[0m in \u001b[0;36mresult\u001b[0;34m(self, timeout)\u001b[0m\n\u001b[1;32m    437\u001b[0m                     \u001b[0;32mreturn\u001b[0m \u001b[0mself\u001b[0m\u001b[0;34m.\u001b[0m\u001b[0m__get_result\u001b[0m\u001b[0;34m(\u001b[0m\u001b[0;34m)\u001b[0m\u001b[0;34m\u001b[0m\u001b[0;34m\u001b[0m\u001b[0m\n\u001b[1;32m    438\u001b[0m \u001b[0;34m\u001b[0m\u001b[0m\n\u001b[0;32m--> 439\u001b[0;31m                 \u001b[0mself\u001b[0m\u001b[0;34m.\u001b[0m\u001b[0m_condition\u001b[0m\u001b[0;34m.\u001b[0m\u001b[0mwait\u001b[0m\u001b[0;34m(\u001b[0m\u001b[0mtimeout\u001b[0m\u001b[0;34m)\u001b[0m\u001b[0;34m\u001b[0m\u001b[0;34m\u001b[0m\u001b[0m\n\u001b[0m\u001b[1;32m    440\u001b[0m \u001b[0;34m\u001b[0m\u001b[0m\n\u001b[1;32m    441\u001b[0m                 \u001b[0;32mif\u001b[0m \u001b[0mself\u001b[0m\u001b[0;34m.\u001b[0m\u001b[0m_state\u001b[0m \u001b[0;32min\u001b[0m \u001b[0;34m[\u001b[0m\u001b[0mCANCELLED\u001b[0m\u001b[0;34m,\u001b[0m \u001b[0mCANCELLED_AND_NOTIFIED\u001b[0m\u001b[0;34m]\u001b[0m\u001b[0;34m:\u001b[0m\u001b[0;34m\u001b[0m\u001b[0;34m\u001b[0m\u001b[0m\n",
      "\u001b[0;32m/usr/lib/python3.8/threading.py\u001b[0m in \u001b[0;36mwait\u001b[0;34m(self, timeout)\u001b[0m\n\u001b[1;32m    300\u001b[0m         \u001b[0;32mtry\u001b[0m\u001b[0;34m:\u001b[0m    \u001b[0;31m# restore state no matter what (e.g., KeyboardInterrupt)\u001b[0m\u001b[0;34m\u001b[0m\u001b[0;34m\u001b[0m\u001b[0m\n\u001b[1;32m    301\u001b[0m             \u001b[0;32mif\u001b[0m \u001b[0mtimeout\u001b[0m \u001b[0;32mis\u001b[0m \u001b[0;32mNone\u001b[0m\u001b[0;34m:\u001b[0m\u001b[0;34m\u001b[0m\u001b[0;34m\u001b[0m\u001b[0m\n\u001b[0;32m--> 302\u001b[0;31m                 \u001b[0mwaiter\u001b[0m\u001b[0;34m.\u001b[0m\u001b[0macquire\u001b[0m\u001b[0;34m(\u001b[0m\u001b[0;34m)\u001b[0m\u001b[0;34m\u001b[0m\u001b[0;34m\u001b[0m\u001b[0m\n\u001b[0m\u001b[1;32m    303\u001b[0m                 \u001b[0mgotit\u001b[0m \u001b[0;34m=\u001b[0m \u001b[0;32mTrue\u001b[0m\u001b[0;34m\u001b[0m\u001b[0;34m\u001b[0m\u001b[0m\n\u001b[1;32m    304\u001b[0m             \u001b[0;32melse\u001b[0m\u001b[0;34m:\u001b[0m\u001b[0;34m\u001b[0m\u001b[0;34m\u001b[0m\u001b[0m\n",
      "\u001b[0;31mKeyboardInterrupt\u001b[0m: "
     ]
    }
   ],
   "source": [
    "import xgboost as xgb\n",
    "from scipy.stats import uniform, randint\n",
    "from sklearn.model_selection import RandomizedSearchCV\n",
    "xgb_model = xgb.XGBClassifier(objective=\"multi:softprob\", random_state=10)\n",
    "params = {\n",
    "    \"colsample_bytree\": uniform(0.7, 0.3),\n",
    "    \"gamma\": uniform(0, 0.5),\n",
    "    \"learning_rate\": uniform(0.03, 0.3), # default 0.1 \n",
    "    \"max_depth\": randint(2, 6), # default 3\n",
    "    \"n_estimators\": randint(100, 150), # default 100\n",
    "    \"subsample\": uniform(0.6, 0.4)\n",
    "}\n",
    "\n",
    "search = RandomizedSearchCV(xgb_model, param_distributions=params, random_state=10, cv=3, n_jobs=8, return_train_score=True)\n",
    "\n",
    "search.fit(X_train_1, y_train_1)"
   ]
  },
  {
   "cell_type": "code",
   "execution_count": null,
   "metadata": {
    "colab": {
     "base_uri": "https://localhost:8080/",
     "height": 163
    },
    "id": "EMmVhgh1y4VJ",
    "outputId": "5c2846d6-1e96-45ca-b7a7-43061d87102a"
   },
   "outputs": [],
   "source": [
    "search.best_params_"
   ]
  },
  {
   "cell_type": "code",
   "execution_count": null,
   "metadata": {
    "id": "0Te3_lYwy4b5"
   },
   "outputs": [],
   "source": [
    "from sklearn.metrics import classification_report\n",
    "\n",
    "y_pred_rf = search.predict(X_test)\n",
    "\n",
    "print('Classification report:\\n{0}\\n'.format(classification_report(y_test, y_pred_rf)))"
   ]
  },
  {
   "cell_type": "code",
   "execution_count": null,
   "metadata": {
    "id": "3LrWdODJzC7A"
   },
   "outputs": [],
   "source": [
    "%matplotlib inline\n",
    "import seaborn as sns; sns.set()\n",
    "from sklearn.metrics import confusion_matrix\n",
    "import matplotlib.pyplot as plt\n",
    "\n",
    "y_test_pred = search.predict(X_test)\n",
    "cm_test = confusion_matrix(y_test, y_test_pred)\n",
    "\n",
    "sns.heatmap(cm_test.T, square=True, annot=True, fmt='d', cbar=False,\n",
    "            xticklabels= np.unique(y_test),\n",
    "            yticklabels= np.unique(y_test_pred))\n",
    "plt.xlabel('true label')\n",
    "plt.ylabel('predicted label');\n",
    "plt.title('Confusion Matrix DT - Test Set')\n",
    "plt.show()"
   ]
  },
  {
   "cell_type": "markdown",
   "metadata": {
    "id": "_kkAFsYctZam"
   },
   "source": [
    "## 1.2.0. Undersampling"
   ]
  },
  {
   "cell_type": "code",
   "execution_count": 31,
   "metadata": {
    "colab": {
     "base_uri": "https://localhost:8080/",
     "height": 580
    },
    "id": "vWxjMV068sIl",
    "outputId": "ed856e7b-cd87-4243-d66c-024d10876362",
    "scrolled": true
   },
   "outputs": [
    {
     "data": {
      "image/png": "[encoded data removed]",
      "text/plain": [
       "<Figure size 1800x720 with 2 Axes>"
      ]
     },
     "metadata": {},
     "output_type": "display_data"
    }
   ],
   "source": [
    "def apply_undersampling(X, y):\n",
    "    from imblearn.under_sampling import RandomUnderSampler\n",
    "    from matplotlib import pyplot as plt\n",
    "\n",
    "    X_class = X\n",
    "\n",
    "    fig, axs = plt.subplots(1,2, figsize=(25,10))\n",
    "    pd.Series(y_train).value_counts().plot.bar(ax = axs[0]).title.set_text('Before Undersampling')\n",
    "\n",
    "    undersample = RandomUnderSampler(sampling_strategy='majority')\n",
    "    # undersample = RandomUnderSampler(sampling_strategy=0.5)\n",
    "    # fit and apply the transform\n",
    "\n",
    "    X_class, label_cat = undersample.fit_resample(X, y)\n",
    "\n",
    "    pd.Series(label_cat).value_counts().plot.bar(ax = axs[1]).title.set_text('After Undersampling')\n",
    "\n",
    "    return X_class, label_cat\n",
    "\n",
    "X_train_1, y_train_1 = apply_undersampling(X_train, y_train)"
   ]
  },
  {
   "cell_type": "code",
   "execution_count": 32,
   "metadata": {
    "colab": {
     "base_uri": "https://localhost:8080/"
    },
    "id": "Y2EiuTgxjSJU",
    "outputId": "a0519187-9bb8-4d50-c202-03d94cc054fb",
    "scrolled": false
   },
   "outputs": [
    {
     "data": {
      "text/plain": [
       "(492, 29)"
      ]
     },
     "execution_count": 32,
     "metadata": {},
     "output_type": "execute_result"
    }
   ],
   "source": [
    "X_train_1.shape\n",
    "# X_class, label_cat"
   ]
  },
  {
   "cell_type": "markdown",
   "metadata": {
    "id": "pe04cQer2ijd"
   },
   "source": [
    "# Data Clasification"
   ]
  },
  {
   "cell_type": "markdown",
   "metadata": {
    "id": "AjiArCYzSN0c"
   },
   "source": [
    "## 1.2.1. NN"
   ]
  },
  {
   "cell_type": "code",
   "execution_count": 33,
   "metadata": {
    "colab": {
     "base_uri": "https://localhost:8080/"
    },
    "id": "p5YtcSliSQ7Z",
    "outputId": "e28b5a02-1f9c-4fee-8a85-1d322a647c11"
   },
   "outputs": [
    {
     "name": "stderr",
     "output_type": "stream",
     "text": [
      "/home/bnt4me/.local/lib/python3.8/site-packages/sklearn/neural_network/_multilayer_perceptron.py:692: ConvergenceWarning: Stochastic Optimizer: Maximum iterations (300) reached and the optimization hasn't converged yet.\n",
      "  warnings.warn(\n"
     ]
    },
    {
     "data": {
      "text/plain": [
       "GridSearchCV(cv=10, estimator=MLPClassifier(max_iter=300, random_state=1),\n",
       "             n_jobs=5,\n",
       "             param_grid={'activation': ['logistic', 'relu'],\n",
       "                         'alpha': [0.0001, 0.001]},\n",
       "             refit='accuracy', return_train_score=True,\n",
       "             scoring={'accuracy': make_scorer(accuracy_score),\n",
       "                      'precision': make_scorer(precision_score, average=micro),\n",
       "                      'recall': make_scorer(recall_score, average=micro)})"
      ]
     },
     "execution_count": 33,
     "metadata": {},
     "output_type": "execute_result"
    }
   ],
   "source": [
    "from sklearn.neural_network import MLPClassifier\n",
    "from sklearn.model_selection import GridSearchCV\n",
    "from sklearn.metrics import precision_score\n",
    "from sklearn.metrics import accuracy_score\n",
    "from sklearn.metrics import recall_score\n",
    "from sklearn.metrics import make_scorer\n",
    "\n",
    "\n",
    "param_grid = {'activation': ['logistic', 'relu'],'alpha':[0.0001,0.001]}\n",
    "scores= {'accuracy':make_scorer(accuracy_score),'precision':make_scorer(precision_score,average='micro'),\n",
    "         'recall':make_scorer(recall_score,average='micro')}\n",
    "\n",
    "neu_net = MLPClassifier(random_state=1, max_iter=300)\n",
    "clf_nn = GridSearchCV(neu_net, param_grid,cv=10,scoring=scores,\n",
    "                       refit='accuracy', return_train_score=True,n_jobs=5)\n",
    "clf_nn.fit(X_train_1, y_train_1)"
   ]
  },
  {
   "cell_type": "code",
   "execution_count": 34,
   "metadata": {
    "colab": {
     "base_uri": "https://localhost:8080/"
    },
    "id": "23-4b6jGk69W",
    "outputId": "e848433b-386b-4bcb-a972-304b7ef3425a"
   },
   "outputs": [
    {
     "name": "stdout",
     "output_type": "stream",
     "text": [
      "{'activation': 'logistic', 'alpha': 0.0001}\n"
     ]
    }
   ],
   "source": [
    "print(clf_nn.best_params_)"
   ]
  },
  {
   "cell_type": "code",
   "execution_count": 35,
   "metadata": {
    "colab": {
     "base_uri": "https://localhost:8080/",
     "height": 397
    },
    "id": "0fnAD6bhlAGt",
    "outputId": "f39aa523-c84d-4c99-8bd8-e555f756888c"
   },
   "outputs": [
    {
     "data": {
      "text/html": [
       "<div>\n",
       "<style scoped>\n",
       "    .dataframe tbody tr th:only-of-type {\n",
       "        vertical-align: middle;\n",
       "    }\n",
       "\n",
       "    .dataframe tbody tr th {\n",
       "        vertical-align: top;\n",
       "    }\n",
       "\n",
       "    .dataframe thead th {\n",
       "        text-align: right;\n",
       "    }\n",
       "</style>\n",
       "<table border=\"1\" class=\"dataframe\">\n",
       "  <thead>\n",
       "    <tr style=\"text-align: right;\">\n",
       "      <th></th>\n",
       "      <th>mean_fit_time</th>\n",
       "      <th>params</th>\n",
       "      <th>mean_test_accuracy</th>\n",
       "      <th>std_test_accuracy</th>\n",
       "      <th>rank_test_accuracy</th>\n",
       "      <th>mean_test_precision</th>\n",
       "      <th>std_test_precision</th>\n",
       "      <th>mean_test_recall</th>\n",
       "      <th>std_test_recall</th>\n",
       "    </tr>\n",
       "  </thead>\n",
       "  <tbody>\n",
       "    <tr>\n",
       "      <th>0</th>\n",
       "      <td>0.563417</td>\n",
       "      <td>{'activation': 'logistic', 'alpha': 0.0001}</td>\n",
       "      <td>0.374000</td>\n",
       "      <td>0.053209</td>\n",
       "      <td>1</td>\n",
       "      <td>0.374000</td>\n",
       "      <td>0.053209</td>\n",
       "      <td>0.374000</td>\n",
       "      <td>0.053209</td>\n",
       "    </tr>\n",
       "    <tr>\n",
       "      <th>1</th>\n",
       "      <td>0.585389</td>\n",
       "      <td>{'activation': 'logistic', 'alpha': 0.001}</td>\n",
       "      <td>0.374000</td>\n",
       "      <td>0.053209</td>\n",
       "      <td>1</td>\n",
       "      <td>0.374000</td>\n",
       "      <td>0.053209</td>\n",
       "      <td>0.374000</td>\n",
       "      <td>0.053209</td>\n",
       "    </tr>\n",
       "    <tr>\n",
       "      <th>2</th>\n",
       "      <td>0.605087</td>\n",
       "      <td>{'activation': 'relu', 'alpha': 0.0001}</td>\n",
       "      <td>0.355796</td>\n",
       "      <td>0.066566</td>\n",
       "      <td>3</td>\n",
       "      <td>0.355796</td>\n",
       "      <td>0.066566</td>\n",
       "      <td>0.355796</td>\n",
       "      <td>0.066566</td>\n",
       "    </tr>\n",
       "    <tr>\n",
       "      <th>3</th>\n",
       "      <td>0.556588</td>\n",
       "      <td>{'activation': 'relu', 'alpha': 0.001}</td>\n",
       "      <td>0.353755</td>\n",
       "      <td>0.063285</td>\n",
       "      <td>4</td>\n",
       "      <td>0.353755</td>\n",
       "      <td>0.063285</td>\n",
       "      <td>0.353755</td>\n",
       "      <td>0.063285</td>\n",
       "    </tr>\n",
       "  </tbody>\n",
       "</table>\n",
       "</div>"
      ],
      "text/plain": [
       "   mean_fit_time                                       params  \\\n",
       "0       0.563417  {'activation': 'logistic', 'alpha': 0.0001}   \n",
       "1       0.585389   {'activation': 'logistic', 'alpha': 0.001}   \n",
       "2       0.605087      {'activation': 'relu', 'alpha': 0.0001}   \n",
       "3       0.556588       {'activation': 'relu', 'alpha': 0.001}   \n",
       "\n",
       "   mean_test_accuracy  std_test_accuracy  rank_test_accuracy  \\\n",
       "0            0.374000           0.053209                   1   \n",
       "1            0.374000           0.053209                   1   \n",
       "2            0.355796           0.066566                   3   \n",
       "3            0.353755           0.063285                   4   \n",
       "\n",
       "   mean_test_precision  std_test_precision  mean_test_recall  std_test_recall  \n",
       "0             0.374000            0.053209          0.374000         0.053209  \n",
       "1             0.374000            0.053209          0.374000         0.053209  \n",
       "2             0.355796            0.066566          0.355796         0.066566  \n",
       "3             0.353755            0.063285          0.353755         0.063285  "
      ]
     },
     "execution_count": 35,
     "metadata": {},
     "output_type": "execute_result"
    }
   ],
   "source": [
    "df = pd.DataFrame(clf_nn.cv_results_)\n",
    "df.sort_values(by='rank_test_accuracy')[['mean_fit_time','params','mean_test_accuracy','std_test_accuracy','rank_test_accuracy',\n",
    "                                         'mean_test_precision','std_test_precision','mean_test_recall','std_test_recall']]"
   ]
  },
  {
   "cell_type": "code",
   "execution_count": 36,
   "metadata": {
    "colab": {
     "base_uri": "https://localhost:8080/",
     "height": 353
    },
    "id": "WhezDEt0lDtt",
    "outputId": "231ad9f6-6bd4-49f2-b744-8ccde2ab2789"
   },
   "outputs": [
    {
     "data": {
      "image/png": "[encoded data removed]",
      "text/plain": [
       "<Figure size 432x288 with 1 Axes>"
      ]
     },
     "metadata": {},
     "output_type": "display_data"
    },
    {
     "name": "stdout",
     "output_type": "stream",
     "text": [
      "Precision: 0.308\n",
      "Recall: 0.308\n",
      "Accuracy: 0.308\n"
     ]
    }
   ],
   "source": [
    "%matplotlib inline\n",
    "import seaborn as sns; sns.set()\n",
    "from sklearn.metrics import confusion_matrix\n",
    "import matplotlib.pyplot as plt\n",
    "import numpy as np\n",
    "\n",
    "y_test_pred = clf_nn.predict(X_test)\n",
    "cm_test = confusion_matrix(y_test, y_test_pred)\n",
    "\n",
    "sns.heatmap(cm_test.T, square=True, annot=True, fmt='d', cbar=False,\n",
    "            xticklabels= np.unique(y_test),\n",
    "            yticklabels= np.unique(y_test_pred))\n",
    "plt.xlabel('true label')\n",
    "plt.ylabel('predicted label');\n",
    "plt.title('Confusion Matrix DT - Test Set')\n",
    "plt.show()\n",
    "\n",
    "print('Precision: %.3f' %(precision_score(y_test, y_test_pred,average='micro')))\n",
    "print('Recall: %.3f' %(recall_score(y_test, y_test_pred,average='micro')))\n",
    "print('Accuracy: %.3f' %(accuracy_score(y_test,y_test_pred)))"
   ]
  },
  {
   "cell_type": "markdown",
   "metadata": {
    "id": "JFAy60UdJij3"
   },
   "source": [
    "## 1.2.2. Tree model"
   ]
  },
  {
   "cell_type": "code",
   "execution_count": 37,
   "metadata": {
    "colab": {
     "base_uri": "https://localhost:8080/"
    },
    "id": "oaYqCTJmJhHI",
    "outputId": "db1d8917-953b-4077-b4c6-30ed6aa4757c"
   },
   "outputs": [
    {
     "name": "stderr",
     "output_type": "stream",
     "text": [
      "/home/bnt4me/.local/lib/python3.8/site-packages/sklearn/neural_network/_multilayer_perceptron.py:692: ConvergenceWarning: Stochastic Optimizer: Maximum iterations (300) reached and the optimization hasn't converged yet.\n",
      "  warnings.warn(\n",
      "/home/bnt4me/.local/lib/python3.8/site-packages/sklearn/neural_network/_multilayer_perceptron.py:692: ConvergenceWarning: Stochastic Optimizer: Maximum iterations (300) reached and the optimization hasn't converged yet.\n",
      "  warnings.warn(\n",
      "/home/bnt4me/.local/lib/python3.8/site-packages/sklearn/neural_network/_multilayer_perceptron.py:692: ConvergenceWarning: Stochastic Optimizer: Maximum iterations (300) reached and the optimization hasn't converged yet.\n",
      "  warnings.warn(\n",
      "/home/bnt4me/.local/lib/python3.8/site-packages/sklearn/neural_network/_multilayer_perceptron.py:692: ConvergenceWarning: Stochastic Optimizer: Maximum iterations (300) reached and the optimization hasn't converged yet.\n",
      "  warnings.warn(\n",
      "/home/bnt4me/.local/lib/python3.8/site-packages/sklearn/neural_network/_multilayer_perceptron.py:692: ConvergenceWarning: Stochastic Optimizer: Maximum iterations (300) reached and the optimization hasn't converged yet.\n",
      "  warnings.warn(\n",
      "/home/bnt4me/.local/lib/python3.8/site-packages/sklearn/neural_network/_multilayer_perceptron.py:692: ConvergenceWarning: Stochastic Optimizer: Maximum iterations (300) reached and the optimization hasn't converged yet.\n",
      "  warnings.warn(\n",
      "/home/bnt4me/.local/lib/python3.8/site-packages/sklearn/neural_network/_multilayer_perceptron.py:692: ConvergenceWarning: Stochastic Optimizer: Maximum iterations (300) reached and the optimization hasn't converged yet.\n",
      "  warnings.warn(\n",
      "/home/bnt4me/.local/lib/python3.8/site-packages/sklearn/neural_network/_multilayer_perceptron.py:692: ConvergenceWarning: Stochastic Optimizer: Maximum iterations (300) reached and the optimization hasn't converged yet.\n",
      "  warnings.warn(\n",
      "/home/bnt4me/.local/lib/python3.8/site-packages/sklearn/neural_network/_multilayer_perceptron.py:692: ConvergenceWarning: Stochastic Optimizer: Maximum iterations (300) reached and the optimization hasn't converged yet.\n",
      "  warnings.warn(\n",
      "/home/bnt4me/.local/lib/python3.8/site-packages/sklearn/neural_network/_multilayer_perceptron.py:692: ConvergenceWarning: Stochastic Optimizer: Maximum iterations (300) reached and the optimization hasn't converged yet.\n",
      "  warnings.warn(\n",
      "/home/bnt4me/.local/lib/python3.8/site-packages/sklearn/neural_network/_multilayer_perceptron.py:692: ConvergenceWarning: Stochastic Optimizer: Maximum iterations (300) reached and the optimization hasn't converged yet.\n",
      "  warnings.warn(\n",
      "/home/bnt4me/.local/lib/python3.8/site-packages/sklearn/neural_network/_multilayer_perceptron.py:692: ConvergenceWarning: Stochastic Optimizer: Maximum iterations (300) reached and the optimization hasn't converged yet.\n",
      "  warnings.warn(\n",
      "/home/bnt4me/.local/lib/python3.8/site-packages/sklearn/neural_network/_multilayer_perceptron.py:692: ConvergenceWarning: Stochastic Optimizer: Maximum iterations (300) reached and the optimization hasn't converged yet.\n",
      "  warnings.warn(\n",
      "/home/bnt4me/.local/lib/python3.8/site-packages/sklearn/neural_network/_multilayer_perceptron.py:692: ConvergenceWarning: Stochastic Optimizer: Maximum iterations (300) reached and the optimization hasn't converged yet.\n",
      "  warnings.warn(\n",
      "/home/bnt4me/.local/lib/python3.8/site-packages/sklearn/neural_network/_multilayer_perceptron.py:692: ConvergenceWarning: Stochastic Optimizer: Maximum iterations (300) reached and the optimization hasn't converged yet.\n",
      "  warnings.warn(\n",
      "/home/bnt4me/.local/lib/python3.8/site-packages/sklearn/neural_network/_multilayer_perceptron.py:692: ConvergenceWarning: Stochastic Optimizer: Maximum iterations (300) reached and the optimization hasn't converged yet.\n",
      "  warnings.warn(\n",
      "/home/bnt4me/.local/lib/python3.8/site-packages/sklearn/neural_network/_multilayer_perceptron.py:692: ConvergenceWarning: Stochastic Optimizer: Maximum iterations (300) reached and the optimization hasn't converged yet.\n",
      "  warnings.warn(\n",
      "/home/bnt4me/.local/lib/python3.8/site-packages/sklearn/neural_network/_multilayer_perceptron.py:692: ConvergenceWarning: Stochastic Optimizer: Maximum iterations (300) reached and the optimization hasn't converged yet.\n",
      "  warnings.warn(\n",
      "/home/bnt4me/.local/lib/python3.8/site-packages/sklearn/neural_network/_multilayer_perceptron.py:692: ConvergenceWarning: Stochastic Optimizer: Maximum iterations (300) reached and the optimization hasn't converged yet.\n",
      "  warnings.warn(\n",
      "/home/bnt4me/.local/lib/python3.8/site-packages/sklearn/neural_network/_multilayer_perceptron.py:692: ConvergenceWarning: Stochastic Optimizer: Maximum iterations (300) reached and the optimization hasn't converged yet.\n",
      "  warnings.warn(\n",
      "/home/bnt4me/.local/lib/python3.8/site-packages/sklearn/neural_network/_multilayer_perceptron.py:692: ConvergenceWarning: Stochastic Optimizer: Maximum iterations (300) reached and the optimization hasn't converged yet.\n",
      "  warnings.warn(\n",
      "/home/bnt4me/.local/lib/python3.8/site-packages/sklearn/neural_network/_multilayer_perceptron.py:692: ConvergenceWarning: Stochastic Optimizer: Maximum iterations (300) reached and the optimization hasn't converged yet.\n",
      "  warnings.warn(\n",
      "/home/bnt4me/.local/lib/python3.8/site-packages/sklearn/neural_network/_multilayer_perceptron.py:692: ConvergenceWarning: Stochastic Optimizer: Maximum iterations (300) reached and the optimization hasn't converged yet.\n",
      "  warnings.warn(\n",
      "/home/bnt4me/.local/lib/python3.8/site-packages/sklearn/neural_network/_multilayer_perceptron.py:692: ConvergenceWarning: Stochastic Optimizer: Maximum iterations (300) reached and the optimization hasn't converged yet.\n",
      "  warnings.warn(\n",
      "/home/bnt4me/.local/lib/python3.8/site-packages/sklearn/neural_network/_multilayer_perceptron.py:692: ConvergenceWarning: Stochastic Optimizer: Maximum iterations (300) reached and the optimization hasn't converged yet.\n",
      "  warnings.warn(\n",
      "/home/bnt4me/.local/lib/python3.8/site-packages/sklearn/neural_network/_multilayer_perceptron.py:692: ConvergenceWarning: Stochastic Optimizer: Maximum iterations (300) reached and the optimization hasn't converged yet.\n",
      "  warnings.warn(\n",
      "/home/bnt4me/.local/lib/python3.8/site-packages/sklearn/neural_network/_multilayer_perceptron.py:692: ConvergenceWarning: Stochastic Optimizer: Maximum iterations (300) reached and the optimization hasn't converged yet.\n",
      "  warnings.warn(\n",
      "/home/bnt4me/.local/lib/python3.8/site-packages/sklearn/neural_network/_multilayer_perceptron.py:692: ConvergenceWarning: Stochastic Optimizer: Maximum iterations (300) reached and the optimization hasn't converged yet.\n",
      "  warnings.warn(\n",
      "/home/bnt4me/.local/lib/python3.8/site-packages/sklearn/neural_network/_multilayer_perceptron.py:692: ConvergenceWarning: Stochastic Optimizer: Maximum iterations (300) reached and the optimization hasn't converged yet.\n",
      "  warnings.warn(\n",
      "/home/bnt4me/.local/lib/python3.8/site-packages/sklearn/neural_network/_multilayer_perceptron.py:692: ConvergenceWarning: Stochastic Optimizer: Maximum iterations (300) reached and the optimization hasn't converged yet.\n",
      "  warnings.warn(\n",
      "/home/bnt4me/.local/lib/python3.8/site-packages/sklearn/neural_network/_multilayer_perceptron.py:692: ConvergenceWarning: Stochastic Optimizer: Maximum iterations (300) reached and the optimization hasn't converged yet.\n",
      "  warnings.warn(\n",
      "/home/bnt4me/.local/lib/python3.8/site-packages/sklearn/neural_network/_multilayer_perceptron.py:692: ConvergenceWarning: Stochastic Optimizer: Maximum iterations (300) reached and the optimization hasn't converged yet.\n",
      "  warnings.warn(\n",
      "/home/bnt4me/.local/lib/python3.8/site-packages/sklearn/neural_network/_multilayer_perceptron.py:692: ConvergenceWarning: Stochastic Optimizer: Maximum iterations (300) reached and the optimization hasn't converged yet.\n",
      "  warnings.warn(\n",
      "/home/bnt4me/.local/lib/python3.8/site-packages/sklearn/neural_network/_multilayer_perceptron.py:692: ConvergenceWarning: Stochastic Optimizer: Maximum iterations (300) reached and the optimization hasn't converged yet.\n",
      "  warnings.warn(\n",
      "/home/bnt4me/.local/lib/python3.8/site-packages/sklearn/neural_network/_multilayer_perceptron.py:692: ConvergenceWarning: Stochastic Optimizer: Maximum iterations (300) reached and the optimization hasn't converged yet.\n",
      "  warnings.warn(\n",
      "/home/bnt4me/.local/lib/python3.8/site-packages/sklearn/neural_network/_multilayer_perceptron.py:692: ConvergenceWarning: Stochastic Optimizer: Maximum iterations (300) reached and the optimization hasn't converged yet.\n",
      "  warnings.warn(\n",
      "/home/bnt4me/.local/lib/python3.8/site-packages/sklearn/neural_network/_multilayer_perceptron.py:692: ConvergenceWarning: Stochastic Optimizer: Maximum iterations (300) reached and the optimization hasn't converged yet.\n",
      "  warnings.warn(\n",
      "/home/bnt4me/.local/lib/python3.8/site-packages/sklearn/neural_network/_multilayer_perceptron.py:692: ConvergenceWarning: Stochastic Optimizer: Maximum iterations (300) reached and the optimization hasn't converged yet.\n",
      "  warnings.warn(\n"
     ]
    },
    {
     "name": "stdout",
     "output_type": "stream",
     "text": [
      "{'criterion': 'entropy', 'max_depth': 20}\n"
     ]
    }
   ],
   "source": [
    "from sklearn.model_selection import GridSearchCV\n",
    "from sklearn.tree import DecisionTreeClassifier\n",
    "from sklearn.metrics import precision_score\n",
    "from sklearn.metrics import accuracy_score\n",
    "from sklearn.metrics import recall_score\n",
    "from sklearn.metrics import make_scorer\n",
    "\n",
    "\n",
    "tree_para = {'criterion':['gini','entropy'],'max_depth':[4,6,8,10,12,15,17,20]}\n",
    "scores= {'accuracy':make_scorer(accuracy_score),'precision':make_scorer(precision_score,average='micro'),\n",
    "         'recall':make_scorer(recall_score,average='micro')}\n",
    "\n",
    "clf_tree = GridSearchCV(DecisionTreeClassifier(random_state=15), tree_para, cv=10,\n",
    "                        scoring=scores,refit='accuracy', return_train_score=True,n_jobs=4)\n",
    "clf_tree = clf_tree.fit(X_train_1, y_train_1)\n",
    "print(clf_tree.best_params_)"
   ]
  },
  {
   "cell_type": "code",
   "execution_count": 38,
   "metadata": {
    "colab": {
     "base_uri": "https://localhost:8080/",
     "height": 561
    },
    "id": "XzORkH-Sqlb4",
    "outputId": "6ee3df72-71e8-4101-bde1-86b05ad9b26f"
   },
   "outputs": [
    {
     "data": {
      "text/html": [
       "<div>\n",
       "<style scoped>\n",
       "    .dataframe tbody tr th:only-of-type {\n",
       "        vertical-align: middle;\n",
       "    }\n",
       "\n",
       "    .dataframe tbody tr th {\n",
       "        vertical-align: top;\n",
       "    }\n",
       "\n",
       "    .dataframe thead th {\n",
       "        text-align: right;\n",
       "    }\n",
       "</style>\n",
       "<table border=\"1\" class=\"dataframe\">\n",
       "  <thead>\n",
       "    <tr style=\"text-align: right;\">\n",
       "      <th></th>\n",
       "      <th>mean_fit_time</th>\n",
       "      <th>params</th>\n",
       "      <th>mean_test_accuracy</th>\n",
       "      <th>std_test_accuracy</th>\n",
       "      <th>rank_test_accuracy</th>\n",
       "      <th>mean_test_precision</th>\n",
       "      <th>std_test_precision</th>\n",
       "      <th>mean_test_recall</th>\n",
       "      <th>std_test_recall</th>\n",
       "    </tr>\n",
       "  </thead>\n",
       "  <tbody>\n",
       "    <tr>\n",
       "      <th>15</th>\n",
       "      <td>0.012334</td>\n",
       "      <td>{'criterion': 'entropy', 'max_depth': 20}</td>\n",
       "      <td>0.390082</td>\n",
       "      <td>0.060513</td>\n",
       "      <td>1</td>\n",
       "      <td>0.390082</td>\n",
       "      <td>0.060513</td>\n",
       "      <td>0.390082</td>\n",
       "      <td>0.060513</td>\n",
       "    </tr>\n",
       "    <tr>\n",
       "      <th>14</th>\n",
       "      <td>0.012345</td>\n",
       "      <td>{'criterion': 'entropy', 'max_depth': 17}</td>\n",
       "      <td>0.386082</td>\n",
       "      <td>0.059720</td>\n",
       "      <td>2</td>\n",
       "      <td>0.386082</td>\n",
       "      <td>0.059720</td>\n",
       "      <td>0.386082</td>\n",
       "      <td>0.059720</td>\n",
       "    </tr>\n",
       "    <tr>\n",
       "      <th>13</th>\n",
       "      <td>0.012736</td>\n",
       "      <td>{'criterion': 'entropy', 'max_depth': 15}</td>\n",
       "      <td>0.377714</td>\n",
       "      <td>0.076535</td>\n",
       "      <td>3</td>\n",
       "      <td>0.377714</td>\n",
       "      <td>0.076535</td>\n",
       "      <td>0.377714</td>\n",
       "      <td>0.076535</td>\n",
       "    </tr>\n",
       "    <tr>\n",
       "      <th>4</th>\n",
       "      <td>0.008070</td>\n",
       "      <td>{'criterion': 'gini', 'max_depth': 12}</td>\n",
       "      <td>0.373918</td>\n",
       "      <td>0.057478</td>\n",
       "      <td>4</td>\n",
       "      <td>0.373918</td>\n",
       "      <td>0.057478</td>\n",
       "      <td>0.373918</td>\n",
       "      <td>0.057478</td>\n",
       "    </tr>\n",
       "    <tr>\n",
       "      <th>1</th>\n",
       "      <td>0.005961</td>\n",
       "      <td>{'criterion': 'gini', 'max_depth': 6}</td>\n",
       "      <td>0.369918</td>\n",
       "      <td>0.058584</td>\n",
       "      <td>5</td>\n",
       "      <td>0.369918</td>\n",
       "      <td>0.058584</td>\n",
       "      <td>0.369918</td>\n",
       "      <td>0.058584</td>\n",
       "    </tr>\n",
       "    <tr>\n",
       "      <th>3</th>\n",
       "      <td>0.007725</td>\n",
       "      <td>{'criterion': 'gini', 'max_depth': 10}</td>\n",
       "      <td>0.369755</td>\n",
       "      <td>0.074623</td>\n",
       "      <td>6</td>\n",
       "      <td>0.369755</td>\n",
       "      <td>0.074623</td>\n",
       "      <td>0.369755</td>\n",
       "      <td>0.074623</td>\n",
       "    </tr>\n",
       "    <tr>\n",
       "      <th>5</th>\n",
       "      <td>0.008330</td>\n",
       "      <td>{'criterion': 'gini', 'max_depth': 15}</td>\n",
       "      <td>0.367796</td>\n",
       "      <td>0.072028</td>\n",
       "      <td>7</td>\n",
       "      <td>0.367796</td>\n",
       "      <td>0.072028</td>\n",
       "      <td>0.367796</td>\n",
       "      <td>0.072028</td>\n",
       "    </tr>\n",
       "    <tr>\n",
       "      <th>7</th>\n",
       "      <td>0.008490</td>\n",
       "      <td>{'criterion': 'gini', 'max_depth': 20}</td>\n",
       "      <td>0.361796</td>\n",
       "      <td>0.075714</td>\n",
       "      <td>8</td>\n",
       "      <td>0.361796</td>\n",
       "      <td>0.075714</td>\n",
       "      <td>0.361796</td>\n",
       "      <td>0.075714</td>\n",
       "    </tr>\n",
       "    <tr>\n",
       "      <th>2</th>\n",
       "      <td>0.006973</td>\n",
       "      <td>{'criterion': 'gini', 'max_depth': 8}</td>\n",
       "      <td>0.361755</td>\n",
       "      <td>0.061838</td>\n",
       "      <td>9</td>\n",
       "      <td>0.361755</td>\n",
       "      <td>0.061838</td>\n",
       "      <td>0.361755</td>\n",
       "      <td>0.061838</td>\n",
       "    </tr>\n",
       "    <tr>\n",
       "      <th>6</th>\n",
       "      <td>0.008503</td>\n",
       "      <td>{'criterion': 'gini', 'max_depth': 17}</td>\n",
       "      <td>0.355673</td>\n",
       "      <td>0.080633</td>\n",
       "      <td>10</td>\n",
       "      <td>0.355673</td>\n",
       "      <td>0.080633</td>\n",
       "      <td>0.355673</td>\n",
       "      <td>0.080633</td>\n",
       "    </tr>\n",
       "    <tr>\n",
       "      <th>11</th>\n",
       "      <td>0.011486</td>\n",
       "      <td>{'criterion': 'entropy', 'max_depth': 10}</td>\n",
       "      <td>0.355510</td>\n",
       "      <td>0.062128</td>\n",
       "      <td>11</td>\n",
       "      <td>0.355510</td>\n",
       "      <td>0.062128</td>\n",
       "      <td>0.355510</td>\n",
       "      <td>0.062128</td>\n",
       "    </tr>\n",
       "    <tr>\n",
       "      <th>0</th>\n",
       "      <td>0.005079</td>\n",
       "      <td>{'criterion': 'gini', 'max_depth': 4}</td>\n",
       "      <td>0.351878</td>\n",
       "      <td>0.079534</td>\n",
       "      <td>12</td>\n",
       "      <td>0.351878</td>\n",
       "      <td>0.079534</td>\n",
       "      <td>0.351878</td>\n",
       "      <td>0.079534</td>\n",
       "    </tr>\n",
       "    <tr>\n",
       "      <th>9</th>\n",
       "      <td>0.008167</td>\n",
       "      <td>{'criterion': 'entropy', 'max_depth': 6}</td>\n",
       "      <td>0.349429</td>\n",
       "      <td>0.042846</td>\n",
       "      <td>13</td>\n",
       "      <td>0.349429</td>\n",
       "      <td>0.042846</td>\n",
       "      <td>0.349429</td>\n",
       "      <td>0.042846</td>\n",
       "    </tr>\n",
       "    <tr>\n",
       "      <th>8</th>\n",
       "      <td>0.005996</td>\n",
       "      <td>{'criterion': 'entropy', 'max_depth': 4}</td>\n",
       "      <td>0.349347</td>\n",
       "      <td>0.048483</td>\n",
       "      <td>14</td>\n",
       "      <td>0.349347</td>\n",
       "      <td>0.048483</td>\n",
       "      <td>0.349347</td>\n",
       "      <td>0.048483</td>\n",
       "    </tr>\n",
       "    <tr>\n",
       "      <th>12</th>\n",
       "      <td>0.012417</td>\n",
       "      <td>{'criterion': 'entropy', 'max_depth': 12}</td>\n",
       "      <td>0.343388</td>\n",
       "      <td>0.059239</td>\n",
       "      <td>15</td>\n",
       "      <td>0.343388</td>\n",
       "      <td>0.059239</td>\n",
       "      <td>0.343388</td>\n",
       "      <td>0.059239</td>\n",
       "    </tr>\n",
       "    <tr>\n",
       "      <th>10</th>\n",
       "      <td>0.009910</td>\n",
       "      <td>{'criterion': 'entropy', 'max_depth': 8}</td>\n",
       "      <td>0.343388</td>\n",
       "      <td>0.057815</td>\n",
       "      <td>16</td>\n",
       "      <td>0.343388</td>\n",
       "      <td>0.057815</td>\n",
       "      <td>0.343388</td>\n",
       "      <td>0.057815</td>\n",
       "    </tr>\n",
       "  </tbody>\n",
       "</table>\n",
       "</div>"
      ],
      "text/plain": [
       "    mean_fit_time                                     params  \\\n",
       "15       0.012334  {'criterion': 'entropy', 'max_depth': 20}   \n",
       "14       0.012345  {'criterion': 'entropy', 'max_depth': 17}   \n",
       "13       0.012736  {'criterion': 'entropy', 'max_depth': 15}   \n",
       "4        0.008070     {'criterion': 'gini', 'max_depth': 12}   \n",
       "1        0.005961      {'criterion': 'gini', 'max_depth': 6}   \n",
       "3        0.007725     {'criterion': 'gini', 'max_depth': 10}   \n",
       "5        0.008330     {'criterion': 'gini', 'max_depth': 15}   \n",
       "7        0.008490     {'criterion': 'gini', 'max_depth': 20}   \n",
       "2        0.006973      {'criterion': 'gini', 'max_depth': 8}   \n",
       "6        0.008503     {'criterion': 'gini', 'max_depth': 17}   \n",
       "11       0.011486  {'criterion': 'entropy', 'max_depth': 10}   \n",
       "0        0.005079      {'criterion': 'gini', 'max_depth': 4}   \n",
       "9        0.008167   {'criterion': 'entropy', 'max_depth': 6}   \n",
       "8        0.005996   {'criterion': 'entropy', 'max_depth': 4}   \n",
       "12       0.012417  {'criterion': 'entropy', 'max_depth': 12}   \n",
       "10       0.009910   {'criterion': 'entropy', 'max_depth': 8}   \n",
       "\n",
       "    mean_test_accuracy  std_test_accuracy  rank_test_accuracy  \\\n",
       "15            0.390082           0.060513                   1   \n",
       "14            0.386082           0.059720                   2   \n",
       "13            0.377714           0.076535                   3   \n",
       "4             0.373918           0.057478                   4   \n",
       "1             0.369918           0.058584                   5   \n",
       "3             0.369755           0.074623                   6   \n",
       "5             0.367796           0.072028                   7   \n",
       "7             0.361796           0.075714                   8   \n",
       "2             0.361755           0.061838                   9   \n",
       "6             0.355673           0.080633                  10   \n",
       "11            0.355510           0.062128                  11   \n",
       "0             0.351878           0.079534                  12   \n",
       "9             0.349429           0.042846                  13   \n",
       "8             0.349347           0.048483                  14   \n",
       "12            0.343388           0.059239                  15   \n",
       "10            0.343388           0.057815                  16   \n",
       "\n",
       "    mean_test_precision  std_test_precision  mean_test_recall  std_test_recall  \n",
       "15             0.390082            0.060513          0.390082         0.060513  \n",
       "14             0.386082            0.059720          0.386082         0.059720  \n",
       "13             0.377714            0.076535          0.377714         0.076535  \n",
       "4              0.373918            0.057478          0.373918         0.057478  \n",
       "1              0.369918            0.058584          0.369918         0.058584  \n",
       "3              0.369755            0.074623          0.369755         0.074623  \n",
       "5              0.367796            0.072028          0.367796         0.072028  \n",
       "7              0.361796            0.075714          0.361796         0.075714  \n",
       "2              0.361755            0.061838          0.361755         0.061838  \n",
       "6              0.355673            0.080633          0.355673         0.080633  \n",
       "11             0.355510            0.062128          0.355510         0.062128  \n",
       "0              0.351878            0.079534          0.351878         0.079534  \n",
       "9              0.349429            0.042846          0.349429         0.042846  \n",
       "8              0.349347            0.048483          0.349347         0.048483  \n",
       "12             0.343388            0.059239          0.343388         0.059239  \n",
       "10             0.343388            0.057815          0.343388         0.057815  "
      ]
     },
     "execution_count": 38,
     "metadata": {},
     "output_type": "execute_result"
    }
   ],
   "source": [
    "df = pd.DataFrame(clf_tree.cv_results_)\n",
    "df.sort_values(by='rank_test_accuracy')[['mean_fit_time','params','mean_test_accuracy','std_test_accuracy','rank_test_accuracy',\n",
    "                                         'mean_test_precision','std_test_precision','mean_test_recall','std_test_recall']]"
   ]
  },
  {
   "cell_type": "code",
   "execution_count": 39,
   "metadata": {
    "colab": {
     "base_uri": "https://localhost:8080/",
     "height": 353
    },
    "id": "9v5_o2kSJmF9",
    "outputId": "714ec43c-770e-48db-aa83-0ebcb59c6e3c"
   },
   "outputs": [
    {
     "data": {
      "image/png": "[encoded data removed]",
      "text/plain": [
       "<Figure size 432x288 with 1 Axes>"
      ]
     },
     "metadata": {},
     "output_type": "display_data"
    },
    {
     "name": "stdout",
     "output_type": "stream",
     "text": [
      "Precision: 0.346\n",
      "Recall: 0.346\n",
      "Accuracy: 0.346\n"
     ]
    }
   ],
   "source": [
    "%matplotlib inline\n",
    "import seaborn as sns; sns.set()\n",
    "from sklearn.metrics import confusion_matrix\n",
    "import matplotlib.pyplot as plt\n",
    "import numpy as np\n",
    "\n",
    "\n",
    "y_test_pred = clf_tree.predict(X_test)\n",
    "cm_test = confusion_matrix(y_test, y_test_pred)\n",
    "\n",
    "sns.heatmap(cm_test.T, square=True, annot=True, fmt='d', cbar=False,\n",
    "            xticklabels= np.unique(y_test),\n",
    "            yticklabels= np.unique(y_test_pred))\n",
    "plt.xlabel('true label')\n",
    "plt.ylabel('predicted label');\n",
    "plt.title('Confusion Matrix DT - Test Set')\n",
    "plt.show()\n",
    "\n",
    "print('Precision: %.3f' %(precision_score(y_test, y_test_pred,average='micro')))\n",
    "print('Recall: %.3f' %(recall_score(y_test, y_test_pred,average='micro')))\n",
    "print('Accuracy: %.3f' %(accuracy_score(y_test,y_test_pred)))"
   ]
  },
  {
   "cell_type": "markdown",
   "metadata": {
    "id": "ZIaPEoz6Ti1Z"
   },
   "source": [
    "## 1.2.3. K Neighbours"
   ]
  },
  {
   "cell_type": "code",
   "execution_count": 40,
   "metadata": {
    "colab": {
     "base_uri": "https://localhost:8080/"
    },
    "id": "AwyIGd0AToMr",
    "outputId": "ef6f41c6-99bc-4a89-b4f0-7f1d3f9d823e"
   },
   "outputs": [
    {
     "name": "stdout",
     "output_type": "stream",
     "text": [
      "{'metric': 'euclidean', 'n_neighbors': 6}\n"
     ]
    }
   ],
   "source": [
    "from sklearn.neighbors import KNeighborsClassifier\n",
    "\n",
    "nn_para = {'n_neighbors':[3,6,9],\n",
    "          'metric':[\"euclidean\",\"manhattan\"]}\n",
    "scores= {'accuracy':make_scorer(accuracy_score),'precision':make_scorer(precision_score,average='micro'),\n",
    "         'recall':make_scorer(recall_score,average='micro')}\n",
    "\n",
    "clf_kn = GridSearchCV(KNeighborsClassifier(), nn_para, cv=10, scoring=scores,\n",
    "                       refit='accuracy', return_train_score=True,n_jobs=4)\n",
    "clf_kn = clf_kn.fit(X_train_1, y_train_1)\n",
    "print(clf_kn.best_params_)"
   ]
  },
  {
   "cell_type": "code",
   "execution_count": 41,
   "metadata": {
    "colab": {
     "base_uri": "https://localhost:8080/",
     "height": 561
    },
    "id": "seL-PlX5BFw_",
    "outputId": "b237bf42-8ec0-4150-bc61-383b528f11fc"
   },
   "outputs": [
    {
     "data": {
      "text/html": [
       "<div>\n",
       "<style scoped>\n",
       "    .dataframe tbody tr th:only-of-type {\n",
       "        vertical-align: middle;\n",
       "    }\n",
       "\n",
       "    .dataframe tbody tr th {\n",
       "        vertical-align: top;\n",
       "    }\n",
       "\n",
       "    .dataframe thead th {\n",
       "        text-align: right;\n",
       "    }\n",
       "</style>\n",
       "<table border=\"1\" class=\"dataframe\">\n",
       "  <thead>\n",
       "    <tr style=\"text-align: right;\">\n",
       "      <th></th>\n",
       "      <th>mean_fit_time</th>\n",
       "      <th>params</th>\n",
       "      <th>mean_test_accuracy</th>\n",
       "      <th>std_test_accuracy</th>\n",
       "      <th>rank_test_accuracy</th>\n",
       "      <th>mean_test_precision</th>\n",
       "      <th>std_test_precision</th>\n",
       "      <th>mean_test_recall</th>\n",
       "      <th>std_test_recall</th>\n",
       "    </tr>\n",
       "  </thead>\n",
       "  <tbody>\n",
       "    <tr>\n",
       "      <th>1</th>\n",
       "      <td>0.001545</td>\n",
       "      <td>{'metric': 'euclidean', 'n_neighbors': 6}</td>\n",
       "      <td>0.378082</td>\n",
       "      <td>0.054984</td>\n",
       "      <td>1</td>\n",
       "      <td>0.378082</td>\n",
       "      <td>0.054984</td>\n",
       "      <td>0.378082</td>\n",
       "      <td>0.054984</td>\n",
       "    </tr>\n",
       "    <tr>\n",
       "      <th>4</th>\n",
       "      <td>0.001326</td>\n",
       "      <td>{'metric': 'manhattan', 'n_neighbors': 6}</td>\n",
       "      <td>0.369837</td>\n",
       "      <td>0.054076</td>\n",
       "      <td>2</td>\n",
       "      <td>0.369837</td>\n",
       "      <td>0.054076</td>\n",
       "      <td>0.369837</td>\n",
       "      <td>0.054076</td>\n",
       "    </tr>\n",
       "    <tr>\n",
       "      <th>2</th>\n",
       "      <td>0.001843</td>\n",
       "      <td>{'metric': 'euclidean', 'n_neighbors': 9}</td>\n",
       "      <td>0.363673</td>\n",
       "      <td>0.049029</td>\n",
       "      <td>3</td>\n",
       "      <td>0.363673</td>\n",
       "      <td>0.049029</td>\n",
       "      <td>0.363673</td>\n",
       "      <td>0.049029</td>\n",
       "    </tr>\n",
       "    <tr>\n",
       "      <th>5</th>\n",
       "      <td>0.001185</td>\n",
       "      <td>{'metric': 'manhattan', 'n_neighbors': 9}</td>\n",
       "      <td>0.357673</td>\n",
       "      <td>0.064434</td>\n",
       "      <td>4</td>\n",
       "      <td>0.357673</td>\n",
       "      <td>0.064434</td>\n",
       "      <td>0.357673</td>\n",
       "      <td>0.064434</td>\n",
       "    </tr>\n",
       "    <tr>\n",
       "      <th>0</th>\n",
       "      <td>0.003139</td>\n",
       "      <td>{'metric': 'euclidean', 'n_neighbors': 3}</td>\n",
       "      <td>0.345551</td>\n",
       "      <td>0.067646</td>\n",
       "      <td>5</td>\n",
       "      <td>0.345551</td>\n",
       "      <td>0.067646</td>\n",
       "      <td>0.345551</td>\n",
       "      <td>0.067646</td>\n",
       "    </tr>\n",
       "    <tr>\n",
       "      <th>3</th>\n",
       "      <td>0.001537</td>\n",
       "      <td>{'metric': 'manhattan', 'n_neighbors': 3}</td>\n",
       "      <td>0.343551</td>\n",
       "      <td>0.071743</td>\n",
       "      <td>6</td>\n",
       "      <td>0.343551</td>\n",
       "      <td>0.071743</td>\n",
       "      <td>0.343551</td>\n",
       "      <td>0.071743</td>\n",
       "    </tr>\n",
       "  </tbody>\n",
       "</table>\n",
       "</div>"
      ],
      "text/plain": [
       "   mean_fit_time                                     params  \\\n",
       "1       0.001545  {'metric': 'euclidean', 'n_neighbors': 6}   \n",
       "4       0.001326  {'metric': 'manhattan', 'n_neighbors': 6}   \n",
       "2       0.001843  {'metric': 'euclidean', 'n_neighbors': 9}   \n",
       "5       0.001185  {'metric': 'manhattan', 'n_neighbors': 9}   \n",
       "0       0.003139  {'metric': 'euclidean', 'n_neighbors': 3}   \n",
       "3       0.001537  {'metric': 'manhattan', 'n_neighbors': 3}   \n",
       "\n",
       "   mean_test_accuracy  std_test_accuracy  rank_test_accuracy  \\\n",
       "1            0.378082           0.054984                   1   \n",
       "4            0.369837           0.054076                   2   \n",
       "2            0.363673           0.049029                   3   \n",
       "5            0.357673           0.064434                   4   \n",
       "0            0.345551           0.067646                   5   \n",
       "3            0.343551           0.071743                   6   \n",
       "\n",
       "   mean_test_precision  std_test_precision  mean_test_recall  std_test_recall  \n",
       "1             0.378082            0.054984          0.378082         0.054984  \n",
       "4             0.369837            0.054076          0.369837         0.054076  \n",
       "2             0.363673            0.049029          0.363673         0.049029  \n",
       "5             0.357673            0.064434          0.357673         0.064434  \n",
       "0             0.345551            0.067646          0.345551         0.067646  \n",
       "3             0.343551            0.071743          0.343551         0.071743  "
      ]
     },
     "execution_count": 41,
     "metadata": {},
     "output_type": "execute_result"
    }
   ],
   "source": [
    "df = pd.DataFrame(clf_kn.cv_results_)\n",
    "df.sort_values(by='rank_test_accuracy')[['mean_fit_time','params','mean_test_accuracy','std_test_accuracy','rank_test_accuracy',\n",
    "                                         'mean_test_precision','std_test_precision','mean_test_recall','std_test_recall']]"
   ]
  },
  {
   "cell_type": "code",
   "execution_count": 42,
   "metadata": {
    "colab": {
     "base_uri": "https://localhost:8080/",
     "height": 353
    },
    "id": "pxS5RbyEBIik",
    "outputId": "7b02b7e7-a8a3-4b27-c67a-a6c701407d6e"
   },
   "outputs": [
    {
     "data": {
      "image/png": "[encoded data removed]",
      "text/plain": [
       "<Figure size 432x288 with 1 Axes>"
      ]
     },
     "metadata": {},
     "output_type": "display_data"
    },
    {
     "name": "stdout",
     "output_type": "stream",
     "text": [
      "Precision: 0.346\n",
      "Recall: 0.346\n",
      "Accuracy: 0.346\n"
     ]
    }
   ],
   "source": [
    "y_test_pred_gnb = clf_kn.predict(X_test)\n",
    "cm_test = confusion_matrix(y_test, y_test_pred_gnb)\n",
    "\n",
    "sns.heatmap(cm_test.T, square=True, annot=True, fmt='d', cbar=False,\n",
    "            xticklabels= np.unique(y_test),\n",
    "            yticklabels= np.unique(y_test_pred_gnb))\n",
    "plt.xlabel('true label')\n",
    "plt.ylabel('predicted label');\n",
    "plt.title('Confusion Matrix Naive Bayes - Test Set')\n",
    "plt.show()\n",
    "\n",
    "print('Precision: %.3f' %(precision_score(y_test, y_test_pred,average='micro')))\n",
    "print('Recall: %.3f' %(recall_score(y_test, y_test_pred,average='micro')))\n",
    "print('Accuracy: %.3f' %(accuracy_score(y_test,y_test_pred)))"
   ]
  },
  {
   "cell_type": "markdown",
   "metadata": {
    "id": "WkaY1TdPBWq5"
   },
   "source": [
    "## 1.2.4. Support Vector Machine"
   ]
  },
  {
   "cell_type": "code",
   "execution_count": 43,
   "metadata": {
    "colab": {
     "base_uri": "https://localhost:8080/",
     "height": 394
    },
    "id": "8pdapudCBY81",
    "outputId": "2b7d6d99-b564-4bec-967f-302b2c3b0b9d"
   },
   "outputs": [
    {
     "name": "stderr",
     "output_type": "stream",
     "text": [
      "/home/bnt4me/.local/lib/python3.8/site-packages/sklearn/svm/_base.py:1199: ConvergenceWarning: Liblinear failed to converge, increase the number of iterations.\n",
      "  warnings.warn(\n"
     ]
    },
    {
     "data": {
      "text/plain": [
       "GridSearchCV(cv=10, estimator=LinearSVC(random_state=10), n_jobs=5,\n",
       "             param_grid={'C': [1, 2, 3, 5, 10, 15, 20, 30, 40, 60, 90, 320],\n",
       "                         'penalty': ['l2']},\n",
       "             refit='accuracy', return_train_score=True,\n",
       "             scoring={'accuracy': make_scorer(accuracy_score),\n",
       "                      'precision': make_scorer(precision_score, average=micro),\n",
       "                      'recall': make_scorer(recall_score, average=micro)})"
      ]
     },
     "execution_count": 43,
     "metadata": {},
     "output_type": "execute_result"
    }
   ],
   "source": [
    "from sklearn.model_selection import GridSearchCV\n",
    "from sklearn import svm\n",
    "from sklearn.model_selection import cross_val_score\n",
    "from sklearn.metrics import precision_score\n",
    "from sklearn.metrics import accuracy_score\n",
    "from sklearn.metrics import recall_score\n",
    "from sklearn.metrics import make_scorer\n",
    "\n",
    "param_grid =  {'penalty':['l2'],'C':[1,2,3,5,10,15,20,30,40,60,90, 320]}\n",
    "scores= {'accuracy':make_scorer(accuracy_score),'precision':make_scorer(precision_score,average='micro'),\n",
    "         'recall':make_scorer(recall_score,average='micro')}\n",
    "\n",
    "svc = svm.LinearSVC(random_state=10)\n",
    "clf_svc = GridSearchCV(svc, param_grid,cv=10,scoring=scores,\n",
    "                        refit='accuracy', return_train_score=True, n_jobs=5)\n",
    "clf_svc.fit(X_train_1, y_train_1) "
   ]
  },
  {
   "cell_type": "code",
   "execution_count": 44,
   "metadata": {
    "id": "Znx51o33BZIX"
   },
   "outputs": [
    {
     "name": "stdout",
     "output_type": "stream",
     "text": [
      "{'C': 30, 'penalty': 'l2'}\n"
     ]
    }
   ],
   "source": [
    "print(clf_svc.best_params_)"
   ]
  },
  {
   "cell_type": "code",
   "execution_count": 103,
   "metadata": {
    "id": "fpxVdnvyBZSM"
   },
   "outputs": [
    {
     "data": {
      "text/html": [
       "<div>\n",
       "<style scoped>\n",
       "    .dataframe tbody tr th:only-of-type {\n",
       "        vertical-align: middle;\n",
       "    }\n",
       "\n",
       "    .dataframe tbody tr th {\n",
       "        vertical-align: top;\n",
       "    }\n",
       "\n",
       "    .dataframe thead th {\n",
       "        text-align: right;\n",
       "    }\n",
       "</style>\n",
       "<table border=\"1\" class=\"dataframe\">\n",
       "  <thead>\n",
       "    <tr style=\"text-align: right;\">\n",
       "      <th></th>\n",
       "      <th>mean_fit_time</th>\n",
       "      <th>params</th>\n",
       "      <th>mean_test_accuracy</th>\n",
       "      <th>std_test_accuracy</th>\n",
       "      <th>rank_test_accuracy</th>\n",
       "      <th>mean_test_precision</th>\n",
       "      <th>std_test_precision</th>\n",
       "      <th>mean_test_recall</th>\n",
       "      <th>std_test_recall</th>\n",
       "    </tr>\n",
       "  </thead>\n",
       "  <tbody>\n",
       "    <tr>\n",
       "      <th>0</th>\n",
       "      <td>0.632853</td>\n",
       "      <td>{'C': 1, 'penalty': 'l2'}</td>\n",
       "      <td>0.396245</td>\n",
       "      <td>0.048407</td>\n",
       "      <td>1</td>\n",
       "      <td>0.396245</td>\n",
       "      <td>0.048407</td>\n",
       "      <td>0.396245</td>\n",
       "      <td>0.048407</td>\n",
       "    </tr>\n",
       "    <tr>\n",
       "      <th>1</th>\n",
       "      <td>0.625302</td>\n",
       "      <td>{'C': 2, 'penalty': 'l2'}</td>\n",
       "      <td>0.396245</td>\n",
       "      <td>0.048407</td>\n",
       "      <td>1</td>\n",
       "      <td>0.396245</td>\n",
       "      <td>0.048407</td>\n",
       "      <td>0.396245</td>\n",
       "      <td>0.048407</td>\n",
       "    </tr>\n",
       "    <tr>\n",
       "      <th>2</th>\n",
       "      <td>0.622350</td>\n",
       "      <td>{'C': 3, 'penalty': 'l2'}</td>\n",
       "      <td>0.396245</td>\n",
       "      <td>0.048407</td>\n",
       "      <td>1</td>\n",
       "      <td>0.396245</td>\n",
       "      <td>0.048407</td>\n",
       "      <td>0.396245</td>\n",
       "      <td>0.048407</td>\n",
       "    </tr>\n",
       "    <tr>\n",
       "      <th>3</th>\n",
       "      <td>0.615169</td>\n",
       "      <td>{'C': 5, 'penalty': 'l2'}</td>\n",
       "      <td>0.396245</td>\n",
       "      <td>0.048407</td>\n",
       "      <td>1</td>\n",
       "      <td>0.396245</td>\n",
       "      <td>0.048407</td>\n",
       "      <td>0.396245</td>\n",
       "      <td>0.048407</td>\n",
       "    </tr>\n",
       "    <tr>\n",
       "      <th>4</th>\n",
       "      <td>0.616377</td>\n",
       "      <td>{'C': 10, 'penalty': 'l2'}</td>\n",
       "      <td>0.396245</td>\n",
       "      <td>0.048407</td>\n",
       "      <td>1</td>\n",
       "      <td>0.396245</td>\n",
       "      <td>0.048407</td>\n",
       "      <td>0.396245</td>\n",
       "      <td>0.048407</td>\n",
       "    </tr>\n",
       "    <tr>\n",
       "      <th>5</th>\n",
       "      <td>0.634758</td>\n",
       "      <td>{'C': 15, 'penalty': 'l2'}</td>\n",
       "      <td>0.396245</td>\n",
       "      <td>0.048407</td>\n",
       "      <td>1</td>\n",
       "      <td>0.396245</td>\n",
       "      <td>0.048407</td>\n",
       "      <td>0.396245</td>\n",
       "      <td>0.048407</td>\n",
       "    </tr>\n",
       "    <tr>\n",
       "      <th>6</th>\n",
       "      <td>0.616007</td>\n",
       "      <td>{'C': 20, 'penalty': 'l2'}</td>\n",
       "      <td>0.396245</td>\n",
       "      <td>0.048407</td>\n",
       "      <td>1</td>\n",
       "      <td>0.396245</td>\n",
       "      <td>0.048407</td>\n",
       "      <td>0.396245</td>\n",
       "      <td>0.048407</td>\n",
       "    </tr>\n",
       "    <tr>\n",
       "      <th>7</th>\n",
       "      <td>0.630895</td>\n",
       "      <td>{'C': 30, 'penalty': 'l2'}</td>\n",
       "      <td>0.396245</td>\n",
       "      <td>0.048407</td>\n",
       "      <td>1</td>\n",
       "      <td>0.396245</td>\n",
       "      <td>0.048407</td>\n",
       "      <td>0.396245</td>\n",
       "      <td>0.048407</td>\n",
       "    </tr>\n",
       "    <tr>\n",
       "      <th>8</th>\n",
       "      <td>0.624804</td>\n",
       "      <td>{'C': 40, 'penalty': 'l2'}</td>\n",
       "      <td>0.396245</td>\n",
       "      <td>0.048407</td>\n",
       "      <td>1</td>\n",
       "      <td>0.396245</td>\n",
       "      <td>0.048407</td>\n",
       "      <td>0.396245</td>\n",
       "      <td>0.048407</td>\n",
       "    </tr>\n",
       "    <tr>\n",
       "      <th>9</th>\n",
       "      <td>0.608447</td>\n",
       "      <td>{'C': 60, 'penalty': 'l2'}</td>\n",
       "      <td>0.396245</td>\n",
       "      <td>0.048407</td>\n",
       "      <td>1</td>\n",
       "      <td>0.396245</td>\n",
       "      <td>0.048407</td>\n",
       "      <td>0.396245</td>\n",
       "      <td>0.048407</td>\n",
       "    </tr>\n",
       "    <tr>\n",
       "      <th>10</th>\n",
       "      <td>0.632433</td>\n",
       "      <td>{'C': 90, 'penalty': 'l2'}</td>\n",
       "      <td>0.396245</td>\n",
       "      <td>0.048407</td>\n",
       "      <td>1</td>\n",
       "      <td>0.396245</td>\n",
       "      <td>0.048407</td>\n",
       "      <td>0.396245</td>\n",
       "      <td>0.048407</td>\n",
       "    </tr>\n",
       "    <tr>\n",
       "      <th>11</th>\n",
       "      <td>0.626055</td>\n",
       "      <td>{'C': 320, 'penalty': 'l2'}</td>\n",
       "      <td>0.396245</td>\n",
       "      <td>0.048407</td>\n",
       "      <td>1</td>\n",
       "      <td>0.396245</td>\n",
       "      <td>0.048407</td>\n",
       "      <td>0.396245</td>\n",
       "      <td>0.048407</td>\n",
       "    </tr>\n",
       "  </tbody>\n",
       "</table>\n",
       "</div>"
      ],
      "text/plain": [
       "    mean_fit_time                       params  mean_test_accuracy  \\\n",
       "0        0.632853    {'C': 1, 'penalty': 'l2'}            0.396245   \n",
       "1        0.625302    {'C': 2, 'penalty': 'l2'}            0.396245   \n",
       "2        0.622350    {'C': 3, 'penalty': 'l2'}            0.396245   \n",
       "3        0.615169    {'C': 5, 'penalty': 'l2'}            0.396245   \n",
       "4        0.616377   {'C': 10, 'penalty': 'l2'}            0.396245   \n",
       "5        0.634758   {'C': 15, 'penalty': 'l2'}            0.396245   \n",
       "6        0.616007   {'C': 20, 'penalty': 'l2'}            0.396245   \n",
       "7        0.630895   {'C': 30, 'penalty': 'l2'}            0.396245   \n",
       "8        0.624804   {'C': 40, 'penalty': 'l2'}            0.396245   \n",
       "9        0.608447   {'C': 60, 'penalty': 'l2'}            0.396245   \n",
       "10       0.632433   {'C': 90, 'penalty': 'l2'}            0.396245   \n",
       "11       0.626055  {'C': 320, 'penalty': 'l2'}            0.396245   \n",
       "\n",
       "    std_test_accuracy  rank_test_accuracy  mean_test_precision  \\\n",
       "0            0.048407                   1             0.396245   \n",
       "1            0.048407                   1             0.396245   \n",
       "2            0.048407                   1             0.396245   \n",
       "3            0.048407                   1             0.396245   \n",
       "4            0.048407                   1             0.396245   \n",
       "5            0.048407                   1             0.396245   \n",
       "6            0.048407                   1             0.396245   \n",
       "7            0.048407                   1             0.396245   \n",
       "8            0.048407                   1             0.396245   \n",
       "9            0.048407                   1             0.396245   \n",
       "10           0.048407                   1             0.396245   \n",
       "11           0.048407                   1             0.396245   \n",
       "\n",
       "    std_test_precision  mean_test_recall  std_test_recall  \n",
       "0             0.048407          0.396245         0.048407  \n",
       "1             0.048407          0.396245         0.048407  \n",
       "2             0.048407          0.396245         0.048407  \n",
       "3             0.048407          0.396245         0.048407  \n",
       "4             0.048407          0.396245         0.048407  \n",
       "5             0.048407          0.396245         0.048407  \n",
       "6             0.048407          0.396245         0.048407  \n",
       "7             0.048407          0.396245         0.048407  \n",
       "8             0.048407          0.396245         0.048407  \n",
       "9             0.048407          0.396245         0.048407  \n",
       "10            0.048407          0.396245         0.048407  \n",
       "11            0.048407          0.396245         0.048407  "
      ]
     },
     "execution_count": 103,
     "metadata": {},
     "output_type": "execute_result"
    }
   ],
   "source": [
    "df = pd.DataFrame(clf_svc.cv_results_)\n",
    "df.sort_values(by='rank_test_accuracy')[['mean_fit_time','params','mean_test_accuracy','std_test_accuracy','rank_test_accuracy',\n",
    "                                         'mean_test_precision','std_test_precision','mean_test_recall','std_test_recall']]"
   ]
  },
  {
   "cell_type": "code",
   "execution_count": 45,
   "metadata": {
    "id": "qv9d0VLoBesU"
   },
   "outputs": [
    {
     "data": {
      "image/png": "[encoded data removed]",
      "text/plain": [
       "<Figure size 432x288 with 1 Axes>"
      ]
     },
     "metadata": {},
     "output_type": "display_data"
    },
    {
     "name": "stdout",
     "output_type": "stream",
     "text": [
      "Precision: 0.360\n",
      "Recall: 0.360\n",
      "Accuracy: 0.360\n"
     ]
    }
   ],
   "source": [
    "%matplotlib inline\n",
    "import seaborn as sns; sns.set()\n",
    "from sklearn.metrics import confusion_matrix\n",
    "import matplotlib.pyplot as plt\n",
    "\n",
    "y_test_pred = clf_svc.predict(X_test)\n",
    "cm_test = confusion_matrix(y_test, y_test_pred)\n",
    "\n",
    "sns.heatmap(cm_test.T, square=True, annot=True, fmt='d', cbar=False,\n",
    "            xticklabels= np.unique(y_test),\n",
    "            yticklabels= np.unique(y_test_pred))\n",
    "plt.xlabel('true label')\n",
    "plt.ylabel('predicted label');\n",
    "plt.title('Confusion Matrix DT - Test Set')\n",
    "plt.show()\n",
    "\n",
    "print('Precision: %.3f' %(precision_score(y_test, y_test_pred,average='micro')))\n",
    "print('Recall: %.3f' %(recall_score(y_test, y_test_pred,average='micro')))\n",
    "print('Accuracy: %.3f' %(accuracy_score(y_test,y_test_pred)))"
   ]
  },
  {
   "cell_type": "markdown",
   "metadata": {
    "id": "ZJ4qyaklX3aI"
   },
   "source": [
    "# Ensemble method:\n"
   ]
  },
  {
   "cell_type": "markdown",
   "metadata": {
    "id": "S8iK8hEtRBHL"
   },
   "source": [
    "## 1.2.5. Voting clasifier"
   ]
  },
  {
   "cell_type": "code",
   "execution_count": 46,
   "metadata": {
    "colab": {
     "base_uri": "https://localhost:8080/"
    },
    "id": "zsG9r-BOX97j",
    "outputId": "4afadd70-1d73-4cfb-ea34-609f5740daca"
   },
   "outputs": [
    {
     "name": "stderr",
     "output_type": "stream",
     "text": [
      "/home/bnt4me/.local/lib/python3.8/site-packages/sklearn/neural_network/_multilayer_perceptron.py:692: ConvergenceWarning: Stochastic Optimizer: Maximum iterations (300) reached and the optimization hasn't converged yet.\n",
      "  warnings.warn(\n",
      "/home/bnt4me/.local/lib/python3.8/site-packages/sklearn/svm/_base.py:1199: ConvergenceWarning: Liblinear failed to converge, increase the number of iterations.\n",
      "  warnings.warn(\n"
     ]
    }
   ],
   "source": [
    "from sklearn.ensemble import VotingClassifier\n",
    "\n",
    "from sklearn import svm\n",
    "from sklearn.tree import DecisionTreeClassifier\n",
    "from sklearn.neighbors import KNeighborsClassifier\n",
    "from sklearn.neural_network import MLPClassifier\n",
    "\n",
    "\n",
    "classif_model_1 = DecisionTreeClassifier(random_state=15, criterion= 'gini', max_depth= 10)\n",
    "\n",
    "classif_model_2 = MLPClassifier(random_state=1, max_iter=300, activation= 'relu', alpha= 0.0001)\n",
    "\n",
    "classif_model_3 = svm.LinearSVC(random_state=1, C= 1, penalty= 'l2')\n",
    "\n",
    "classif_model_4 = KNeighborsClassifier(metric= 'manhattan', n_neighbors= 3, \n",
    "                                       weights= 'distance',n_jobs=4)\n",
    "\n",
    "ereg = VotingClassifier(estimators=[('DT', classif_model_1), ('NN', classif_model_2),\n",
    "                                    ('SVC', classif_model_3), ('KNN', classif_model_4)])\n",
    "ereg = ereg.fit(X_train_1, y_train_1)"
   ]
  },
  {
   "cell_type": "code",
   "execution_count": 47,
   "metadata": {
    "colab": {
     "base_uri": "https://localhost:8080/"
    },
    "id": "uJlRsoEyY1uE",
    "outputId": "d1b09acc-5185-4732-80ee-2dbe71c786d6"
   },
   "outputs": [
    {
     "name": "stdout",
     "output_type": "stream",
     "text": [
      "Classification report:\n",
      "              precision    recall  f1-score   support\n",
      "\n",
      "           0       0.19      0.38      0.26        47\n",
      "           1       0.63      0.23      0.33       172\n",
      "           2       0.27      0.51      0.35        73\n",
      "\n",
      "    accuracy                           0.32       292\n",
      "   macro avg       0.36      0.37      0.31       292\n",
      "weighted avg       0.47      0.32      0.33       292\n",
      "\n",
      "\n"
     ]
    }
   ],
   "source": [
    "from sklearn.metrics import classification_report\n",
    "\n",
    "y_pred_rf = ereg .predict(X_test)\n",
    "\n",
    "print('Classification report:\\n{0}\\n'.format(classification_report(y_test, y_pred_rf)))"
   ]
  },
  {
   "cell_type": "code",
   "execution_count": 48,
   "metadata": {
    "colab": {
     "base_uri": "https://localhost:8080/",
     "height": 302
    },
    "id": "6Taud8ohY-Pf",
    "outputId": "9f256008-6c8a-423d-8b5a-4fad0f68b32e"
   },
   "outputs": [
    {
     "data": {
      "image/png": "[encoded data removed]",
      "text/plain": [
       "<Figure size 432x288 with 1 Axes>"
      ]
     },
     "metadata": {},
     "output_type": "display_data"
    }
   ],
   "source": [
    "%matplotlib inline\n",
    "import seaborn as sns; sns.set()\n",
    "from sklearn.metrics import confusion_matrix\n",
    "import matplotlib.pyplot as plt\n",
    "\n",
    "y_test_pred = ereg.predict(X_test)\n",
    "cm_test = confusion_matrix(y_test, y_test_pred)\n",
    "\n",
    "sns.heatmap(cm_test.T, square=True, annot=True, fmt='d', cbar=False,\n",
    "            xticklabels= np.unique(y_test),\n",
    "            yticklabels= np.unique(y_test_pred))\n",
    "plt.xlabel('true label')\n",
    "plt.ylabel('predicted label');\n",
    "plt.title('Confusion Voting Classifier - Test Set')\n",
    "plt.show()"
   ]
  },
  {
   "cell_type": "markdown",
   "metadata": {
    "id": "aOCHnxONRGe3"
   },
   "source": [
    "## 1.2.6. XGBoost"
   ]
  },
  {
   "cell_type": "code",
   "execution_count": 49,
   "metadata": {
    "colab": {
     "base_uri": "https://localhost:8080/"
    },
    "id": "Bg9sxFBjy4Qa",
    "outputId": "8a215b8e-55f2-418e-b6fb-f0610dd058d3"
   },
   "outputs": [
    {
     "name": "stderr",
     "output_type": "stream",
     "text": [
      "/home/bnt4me/.local/lib/python3.8/site-packages/sklearn/svm/_base.py:1199: ConvergenceWarning: Liblinear failed to converge, increase the number of iterations.\n",
      "  warnings.warn(\n",
      "/home/bnt4me/.local/lib/python3.8/site-packages/sklearn/svm/_base.py:1199: ConvergenceWarning: Liblinear failed to converge, increase the number of iterations.\n",
      "  warnings.warn(\n",
      "/home/bnt4me/.local/lib/python3.8/site-packages/sklearn/svm/_base.py:1199: ConvergenceWarning: Liblinear failed to converge, increase the number of iterations.\n",
      "  warnings.warn(\n",
      "/home/bnt4me/.local/lib/python3.8/site-packages/sklearn/svm/_base.py:1199: ConvergenceWarning: Liblinear failed to converge, increase the number of iterations.\n",
      "  warnings.warn(\n",
      "/home/bnt4me/.local/lib/python3.8/site-packages/sklearn/svm/_base.py:1199: ConvergenceWarning: Liblinear failed to converge, increase the number of iterations.\n",
      "  warnings.warn(\n",
      "/home/bnt4me/.local/lib/python3.8/site-packages/sklearn/svm/_base.py:1199: ConvergenceWarning: Liblinear failed to converge, increase the number of iterations.\n",
      "  warnings.warn(\n",
      "/home/bnt4me/.local/lib/python3.8/site-packages/sklearn/svm/_base.py:1199: ConvergenceWarning: Liblinear failed to converge, increase the number of iterations.\n",
      "  warnings.warn(\n",
      "/home/bnt4me/.local/lib/python3.8/site-packages/sklearn/svm/_base.py:1199: ConvergenceWarning: Liblinear failed to converge, increase the number of iterations.\n",
      "  warnings.warn(\n",
      "/home/bnt4me/.local/lib/python3.8/site-packages/sklearn/svm/_base.py:1199: ConvergenceWarning: Liblinear failed to converge, increase the number of iterations.\n",
      "  warnings.warn(\n",
      "/home/bnt4me/.local/lib/python3.8/site-packages/sklearn/svm/_base.py:1199: ConvergenceWarning: Liblinear failed to converge, increase the number of iterations.\n",
      "  warnings.warn(\n",
      "/home/bnt4me/.local/lib/python3.8/site-packages/sklearn/svm/_base.py:1199: ConvergenceWarning: Liblinear failed to converge, increase the number of iterations.\n",
      "  warnings.warn(\n",
      "/home/bnt4me/.local/lib/python3.8/site-packages/sklearn/svm/_base.py:1199: ConvergenceWarning: Liblinear failed to converge, increase the number of iterations.\n",
      "  warnings.warn(\n",
      "/home/bnt4me/.local/lib/python3.8/site-packages/sklearn/svm/_base.py:1199: ConvergenceWarning: Liblinear failed to converge, increase the number of iterations.\n",
      "  warnings.warn(\n",
      "/home/bnt4me/.local/lib/python3.8/site-packages/sklearn/svm/_base.py:1199: ConvergenceWarning: Liblinear failed to converge, increase the number of iterations.\n",
      "  warnings.warn(\n",
      "/home/bnt4me/.local/lib/python3.8/site-packages/sklearn/svm/_base.py:1199: ConvergenceWarning: Liblinear failed to converge, increase the number of iterations.\n",
      "  warnings.warn(\n",
      "/home/bnt4me/.local/lib/python3.8/site-packages/sklearn/svm/_base.py:1199: ConvergenceWarning: Liblinear failed to converge, increase the number of iterations.\n",
      "  warnings.warn(\n",
      "/home/bnt4me/.local/lib/python3.8/site-packages/sklearn/svm/_base.py:1199: ConvergenceWarning: Liblinear failed to converge, increase the number of iterations.\n",
      "  warnings.warn(\n",
      "/home/bnt4me/.local/lib/python3.8/site-packages/sklearn/svm/_base.py:1199: ConvergenceWarning: Liblinear failed to converge, increase the number of iterations.\n",
      "  warnings.warn(\n",
      "/home/bnt4me/.local/lib/python3.8/site-packages/sklearn/svm/_base.py:1199: ConvergenceWarning: Liblinear failed to converge, increase the number of iterations.\n",
      "  warnings.warn(\n",
      "/home/bnt4me/.local/lib/python3.8/site-packages/sklearn/svm/_base.py:1199: ConvergenceWarning: Liblinear failed to converge, increase the number of iterations.\n",
      "  warnings.warn(\n",
      "/home/bnt4me/.local/lib/python3.8/site-packages/sklearn/svm/_base.py:1199: ConvergenceWarning: Liblinear failed to converge, increase the number of iterations.\n",
      "  warnings.warn(\n",
      "/home/bnt4me/.local/lib/python3.8/site-packages/sklearn/svm/_base.py:1199: ConvergenceWarning: Liblinear failed to converge, increase the number of iterations.\n",
      "  warnings.warn(\n",
      "/home/bnt4me/.local/lib/python3.8/site-packages/sklearn/svm/_base.py:1199: ConvergenceWarning: Liblinear failed to converge, increase the number of iterations.\n",
      "  warnings.warn(\n",
      "/home/bnt4me/.local/lib/python3.8/site-packages/sklearn/svm/_base.py:1199: ConvergenceWarning: Liblinear failed to converge, increase the number of iterations.\n",
      "  warnings.warn(\n",
      "/home/bnt4me/.local/lib/python3.8/site-packages/sklearn/svm/_base.py:1199: ConvergenceWarning: Liblinear failed to converge, increase the number of iterations.\n",
      "  warnings.warn(\n",
      "/home/bnt4me/.local/lib/python3.8/site-packages/sklearn/svm/_base.py:1199: ConvergenceWarning: Liblinear failed to converge, increase the number of iterations.\n",
      "  warnings.warn(\n",
      "/home/bnt4me/.local/lib/python3.8/site-packages/sklearn/svm/_base.py:1199: ConvergenceWarning: Liblinear failed to converge, increase the number of iterations.\n",
      "  warnings.warn(\n",
      "/home/bnt4me/.local/lib/python3.8/site-packages/sklearn/svm/_base.py:1199: ConvergenceWarning: Liblinear failed to converge, increase the number of iterations.\n",
      "  warnings.warn(\n",
      "/home/bnt4me/.local/lib/python3.8/site-packages/sklearn/svm/_base.py:1199: ConvergenceWarning: Liblinear failed to converge, increase the number of iterations.\n",
      "  warnings.warn(\n",
      "/home/bnt4me/.local/lib/python3.8/site-packages/sklearn/svm/_base.py:1199: ConvergenceWarning: Liblinear failed to converge, increase the number of iterations.\n",
      "  warnings.warn(\n",
      "/home/bnt4me/.local/lib/python3.8/site-packages/sklearn/svm/_base.py:1199: ConvergenceWarning: Liblinear failed to converge, increase the number of iterations.\n",
      "  warnings.warn(\n",
      "/home/bnt4me/.local/lib/python3.8/site-packages/sklearn/svm/_base.py:1199: ConvergenceWarning: Liblinear failed to converge, increase the number of iterations.\n",
      "  warnings.warn(\n",
      "/home/bnt4me/.local/lib/python3.8/site-packages/sklearn/svm/_base.py:1199: ConvergenceWarning: Liblinear failed to converge, increase the number of iterations.\n",
      "  warnings.warn(\n",
      "/home/bnt4me/.local/lib/python3.8/site-packages/sklearn/svm/_base.py:1199: ConvergenceWarning: Liblinear failed to converge, increase the number of iterations.\n",
      "  warnings.warn(\n",
      "/home/bnt4me/.local/lib/python3.8/site-packages/sklearn/svm/_base.py:1199: ConvergenceWarning: Liblinear failed to converge, increase the number of iterations.\n",
      "  warnings.warn(\n",
      "/home/bnt4me/.local/lib/python3.8/site-packages/sklearn/svm/_base.py:1199: ConvergenceWarning: Liblinear failed to converge, increase the number of iterations.\n",
      "  warnings.warn(\n",
      "/home/bnt4me/.local/lib/python3.8/site-packages/sklearn/svm/_base.py:1199: ConvergenceWarning: Liblinear failed to converge, increase the number of iterations.\n",
      "  warnings.warn(\n",
      "/home/bnt4me/.local/lib/python3.8/site-packages/sklearn/svm/_base.py:1199: ConvergenceWarning: Liblinear failed to converge, increase the number of iterations.\n",
      "  warnings.warn(\n",
      "/home/bnt4me/.local/lib/python3.8/site-packages/sklearn/svm/_base.py:1199: ConvergenceWarning: Liblinear failed to converge, increase the number of iterations.\n",
      "  warnings.warn(\n",
      "/home/bnt4me/.local/lib/python3.8/site-packages/sklearn/svm/_base.py:1199: ConvergenceWarning: Liblinear failed to converge, increase the number of iterations.\n",
      "  warnings.warn(\n",
      "/home/bnt4me/.local/lib/python3.8/site-packages/sklearn/svm/_base.py:1199: ConvergenceWarning: Liblinear failed to converge, increase the number of iterations.\n",
      "  warnings.warn(\n",
      "/home/bnt4me/.local/lib/python3.8/site-packages/sklearn/svm/_base.py:1199: ConvergenceWarning: Liblinear failed to converge, increase the number of iterations.\n",
      "  warnings.warn(\n",
      "/home/bnt4me/.local/lib/python3.8/site-packages/sklearn/svm/_base.py:1199: ConvergenceWarning: Liblinear failed to converge, increase the number of iterations.\n",
      "  warnings.warn(\n",
      "/home/bnt4me/.local/lib/python3.8/site-packages/sklearn/svm/_base.py:1199: ConvergenceWarning: Liblinear failed to converge, increase the number of iterations.\n",
      "  warnings.warn(\n",
      "/home/bnt4me/.local/lib/python3.8/site-packages/sklearn/svm/_base.py:1199: ConvergenceWarning: Liblinear failed to converge, increase the number of iterations.\n",
      "  warnings.warn(\n",
      "/home/bnt4me/.local/lib/python3.8/site-packages/sklearn/svm/_base.py:1199: ConvergenceWarning: Liblinear failed to converge, increase the number of iterations.\n",
      "  warnings.warn(\n",
      "/home/bnt4me/.local/lib/python3.8/site-packages/sklearn/svm/_base.py:1199: ConvergenceWarning: Liblinear failed to converge, increase the number of iterations.\n",
      "  warnings.warn(\n",
      "/home/bnt4me/.local/lib/python3.8/site-packages/sklearn/svm/_base.py:1199: ConvergenceWarning: Liblinear failed to converge, increase the number of iterations.\n",
      "  warnings.warn(\n",
      "/home/bnt4me/.local/lib/python3.8/site-packages/sklearn/svm/_base.py:1199: ConvergenceWarning: Liblinear failed to converge, increase the number of iterations.\n",
      "  warnings.warn(\n",
      "/home/bnt4me/.local/lib/python3.8/site-packages/sklearn/svm/_base.py:1199: ConvergenceWarning: Liblinear failed to converge, increase the number of iterations.\n",
      "  warnings.warn(\n",
      "/home/bnt4me/.local/lib/python3.8/site-packages/sklearn/svm/_base.py:1199: ConvergenceWarning: Liblinear failed to converge, increase the number of iterations.\n",
      "  warnings.warn(\n",
      "/home/bnt4me/.local/lib/python3.8/site-packages/sklearn/svm/_base.py:1199: ConvergenceWarning: Liblinear failed to converge, increase the number of iterations.\n",
      "  warnings.warn(\n",
      "/home/bnt4me/.local/lib/python3.8/site-packages/sklearn/svm/_base.py:1199: ConvergenceWarning: Liblinear failed to converge, increase the number of iterations.\n",
      "  warnings.warn(\n",
      "/home/bnt4me/.local/lib/python3.8/site-packages/sklearn/svm/_base.py:1199: ConvergenceWarning: Liblinear failed to converge, increase the number of iterations.\n",
      "  warnings.warn(\n",
      "/home/bnt4me/.local/lib/python3.8/site-packages/sklearn/svm/_base.py:1199: ConvergenceWarning: Liblinear failed to converge, increase the number of iterations.\n",
      "  warnings.warn(\n",
      "/home/bnt4me/.local/lib/python3.8/site-packages/sklearn/svm/_base.py:1199: ConvergenceWarning: Liblinear failed to converge, increase the number of iterations.\n",
      "  warnings.warn(\n",
      "/home/bnt4me/.local/lib/python3.8/site-packages/sklearn/svm/_base.py:1199: ConvergenceWarning: Liblinear failed to converge, increase the number of iterations.\n",
      "  warnings.warn(\n",
      "/home/bnt4me/.local/lib/python3.8/site-packages/sklearn/svm/_base.py:1199: ConvergenceWarning: Liblinear failed to converge, increase the number of iterations.\n",
      "  warnings.warn(\n",
      "/home/bnt4me/.local/lib/python3.8/site-packages/sklearn/svm/_base.py:1199: ConvergenceWarning: Liblinear failed to converge, increase the number of iterations.\n",
      "  warnings.warn(\n",
      "/home/bnt4me/.local/lib/python3.8/site-packages/sklearn/svm/_base.py:1199: ConvergenceWarning: Liblinear failed to converge, increase the number of iterations.\n",
      "  warnings.warn(\n",
      "/home/bnt4me/.local/lib/python3.8/site-packages/sklearn/svm/_base.py:1199: ConvergenceWarning: Liblinear failed to converge, increase the number of iterations.\n",
      "  warnings.warn(\n",
      "/home/bnt4me/.local/lib/python3.8/site-packages/sklearn/svm/_base.py:1199: ConvergenceWarning: Liblinear failed to converge, increase the number of iterations.\n",
      "  warnings.warn(\n",
      "/home/bnt4me/.local/lib/python3.8/site-packages/sklearn/svm/_base.py:1199: ConvergenceWarning: Liblinear failed to converge, increase the number of iterations.\n",
      "  warnings.warn(\n",
      "/home/bnt4me/.local/lib/python3.8/site-packages/sklearn/svm/_base.py:1199: ConvergenceWarning: Liblinear failed to converge, increase the number of iterations.\n",
      "  warnings.warn(\n",
      "/home/bnt4me/.local/lib/python3.8/site-packages/sklearn/svm/_base.py:1199: ConvergenceWarning: Liblinear failed to converge, increase the number of iterations.\n",
      "  warnings.warn(\n",
      "/home/bnt4me/.local/lib/python3.8/site-packages/sklearn/svm/_base.py:1199: ConvergenceWarning: Liblinear failed to converge, increase the number of iterations.\n",
      "  warnings.warn(\n",
      "/home/bnt4me/.local/lib/python3.8/site-packages/sklearn/svm/_base.py:1199: ConvergenceWarning: Liblinear failed to converge, increase the number of iterations.\n",
      "  warnings.warn(\n",
      "/home/bnt4me/.local/lib/python3.8/site-packages/sklearn/svm/_base.py:1199: ConvergenceWarning: Liblinear failed to converge, increase the number of iterations.\n",
      "  warnings.warn(\n",
      "/home/bnt4me/.local/lib/python3.8/site-packages/sklearn/svm/_base.py:1199: ConvergenceWarning: Liblinear failed to converge, increase the number of iterations.\n",
      "  warnings.warn(\n",
      "/home/bnt4me/.local/lib/python3.8/site-packages/sklearn/svm/_base.py:1199: ConvergenceWarning: Liblinear failed to converge, increase the number of iterations.\n",
      "  warnings.warn(\n",
      "/home/bnt4me/.local/lib/python3.8/site-packages/sklearn/svm/_base.py:1199: ConvergenceWarning: Liblinear failed to converge, increase the number of iterations.\n",
      "  warnings.warn(\n",
      "/home/bnt4me/.local/lib/python3.8/site-packages/sklearn/svm/_base.py:1199: ConvergenceWarning: Liblinear failed to converge, increase the number of iterations.\n",
      "  warnings.warn(\n",
      "/home/bnt4me/.local/lib/python3.8/site-packages/sklearn/svm/_base.py:1199: ConvergenceWarning: Liblinear failed to converge, increase the number of iterations.\n",
      "  warnings.warn(\n",
      "/home/bnt4me/.local/lib/python3.8/site-packages/sklearn/svm/_base.py:1199: ConvergenceWarning: Liblinear failed to converge, increase the number of iterations.\n",
      "  warnings.warn(\n",
      "/home/bnt4me/.local/lib/python3.8/site-packages/sklearn/svm/_base.py:1199: ConvergenceWarning: Liblinear failed to converge, increase the number of iterations.\n",
      "  warnings.warn(\n",
      "/home/bnt4me/.local/lib/python3.8/site-packages/sklearn/svm/_base.py:1199: ConvergenceWarning: Liblinear failed to converge, increase the number of iterations.\n",
      "  warnings.warn(\n",
      "/home/bnt4me/.local/lib/python3.8/site-packages/sklearn/svm/_base.py:1199: ConvergenceWarning: Liblinear failed to converge, increase the number of iterations.\n",
      "  warnings.warn(\n",
      "/home/bnt4me/.local/lib/python3.8/site-packages/sklearn/svm/_base.py:1199: ConvergenceWarning: Liblinear failed to converge, increase the number of iterations.\n",
      "  warnings.warn(\n",
      "/home/bnt4me/.local/lib/python3.8/site-packages/sklearn/svm/_base.py:1199: ConvergenceWarning: Liblinear failed to converge, increase the number of iterations.\n",
      "  warnings.warn(\n",
      "/home/bnt4me/.local/lib/python3.8/site-packages/sklearn/svm/_base.py:1199: ConvergenceWarning: Liblinear failed to converge, increase the number of iterations.\n",
      "  warnings.warn(\n",
      "/home/bnt4me/.local/lib/python3.8/site-packages/sklearn/svm/_base.py:1199: ConvergenceWarning: Liblinear failed to converge, increase the number of iterations.\n",
      "  warnings.warn(\n",
      "/home/bnt4me/.local/lib/python3.8/site-packages/sklearn/svm/_base.py:1199: ConvergenceWarning: Liblinear failed to converge, increase the number of iterations.\n",
      "  warnings.warn(\n",
      "/home/bnt4me/.local/lib/python3.8/site-packages/sklearn/svm/_base.py:1199: ConvergenceWarning: Liblinear failed to converge, increase the number of iterations.\n",
      "  warnings.warn(\n",
      "/home/bnt4me/.local/lib/python3.8/site-packages/sklearn/svm/_base.py:1199: ConvergenceWarning: Liblinear failed to converge, increase the number of iterations.\n",
      "  warnings.warn(\n",
      "/home/bnt4me/.local/lib/python3.8/site-packages/sklearn/svm/_base.py:1199: ConvergenceWarning: Liblinear failed to converge, increase the number of iterations.\n",
      "  warnings.warn(\n",
      "/home/bnt4me/.local/lib/python3.8/site-packages/sklearn/svm/_base.py:1199: ConvergenceWarning: Liblinear failed to converge, increase the number of iterations.\n",
      "  warnings.warn(\n",
      "/home/bnt4me/.local/lib/python3.8/site-packages/sklearn/svm/_base.py:1199: ConvergenceWarning: Liblinear failed to converge, increase the number of iterations.\n",
      "  warnings.warn(\n",
      "/home/bnt4me/.local/lib/python3.8/site-packages/sklearn/svm/_base.py:1199: ConvergenceWarning: Liblinear failed to converge, increase the number of iterations.\n",
      "  warnings.warn(\n",
      "/home/bnt4me/.local/lib/python3.8/site-packages/sklearn/svm/_base.py:1199: ConvergenceWarning: Liblinear failed to converge, increase the number of iterations.\n",
      "  warnings.warn(\n",
      "/home/bnt4me/.local/lib/python3.8/site-packages/sklearn/svm/_base.py:1199: ConvergenceWarning: Liblinear failed to converge, increase the number of iterations.\n",
      "  warnings.warn(\n",
      "/home/bnt4me/.local/lib/python3.8/site-packages/sklearn/svm/_base.py:1199: ConvergenceWarning: Liblinear failed to converge, increase the number of iterations.\n",
      "  warnings.warn(\n",
      "/home/bnt4me/.local/lib/python3.8/site-packages/sklearn/svm/_base.py:1199: ConvergenceWarning: Liblinear failed to converge, increase the number of iterations.\n",
      "  warnings.warn(\n",
      "/home/bnt4me/.local/lib/python3.8/site-packages/sklearn/svm/_base.py:1199: ConvergenceWarning: Liblinear failed to converge, increase the number of iterations.\n",
      "  warnings.warn(\n",
      "/home/bnt4me/.local/lib/python3.8/site-packages/sklearn/svm/_base.py:1199: ConvergenceWarning: Liblinear failed to converge, increase the number of iterations.\n",
      "  warnings.warn(\n",
      "/home/bnt4me/.local/lib/python3.8/site-packages/sklearn/svm/_base.py:1199: ConvergenceWarning: Liblinear failed to converge, increase the number of iterations.\n",
      "  warnings.warn(\n",
      "/home/bnt4me/.local/lib/python3.8/site-packages/sklearn/svm/_base.py:1199: ConvergenceWarning: Liblinear failed to converge, increase the number of iterations.\n",
      "  warnings.warn(\n",
      "/home/bnt4me/.local/lib/python3.8/site-packages/sklearn/svm/_base.py:1199: ConvergenceWarning: Liblinear failed to converge, increase the number of iterations.\n",
      "  warnings.warn(\n",
      "/home/bnt4me/.local/lib/python3.8/site-packages/sklearn/svm/_base.py:1199: ConvergenceWarning: Liblinear failed to converge, increase the number of iterations.\n",
      "  warnings.warn(\n",
      "/home/bnt4me/.local/lib/python3.8/site-packages/sklearn/svm/_base.py:1199: ConvergenceWarning: Liblinear failed to converge, increase the number of iterations.\n",
      "  warnings.warn(\n",
      "/home/bnt4me/.local/lib/python3.8/site-packages/sklearn/svm/_base.py:1199: ConvergenceWarning: Liblinear failed to converge, increase the number of iterations.\n",
      "  warnings.warn(\n",
      "/home/bnt4me/.local/lib/python3.8/site-packages/sklearn/svm/_base.py:1199: ConvergenceWarning: Liblinear failed to converge, increase the number of iterations.\n",
      "  warnings.warn(\n",
      "/home/bnt4me/.local/lib/python3.8/site-packages/sklearn/svm/_base.py:1199: ConvergenceWarning: Liblinear failed to converge, increase the number of iterations.\n",
      "  warnings.warn(\n",
      "/home/bnt4me/.local/lib/python3.8/site-packages/sklearn/svm/_base.py:1199: ConvergenceWarning: Liblinear failed to converge, increase the number of iterations.\n",
      "  warnings.warn(\n",
      "/home/bnt4me/.local/lib/python3.8/site-packages/sklearn/svm/_base.py:1199: ConvergenceWarning: Liblinear failed to converge, increase the number of iterations.\n",
      "  warnings.warn(\n",
      "/home/bnt4me/.local/lib/python3.8/site-packages/sklearn/svm/_base.py:1199: ConvergenceWarning: Liblinear failed to converge, increase the number of iterations.\n",
      "  warnings.warn(\n",
      "/home/bnt4me/.local/lib/python3.8/site-packages/sklearn/svm/_base.py:1199: ConvergenceWarning: Liblinear failed to converge, increase the number of iterations.\n",
      "  warnings.warn(\n",
      "/home/bnt4me/.local/lib/python3.8/site-packages/sklearn/svm/_base.py:1199: ConvergenceWarning: Liblinear failed to converge, increase the number of iterations.\n",
      "  warnings.warn(\n",
      "/home/bnt4me/.local/lib/python3.8/site-packages/sklearn/svm/_base.py:1199: ConvergenceWarning: Liblinear failed to converge, increase the number of iterations.\n",
      "  warnings.warn(\n",
      "/home/bnt4me/.local/lib/python3.8/site-packages/sklearn/svm/_base.py:1199: ConvergenceWarning: Liblinear failed to converge, increase the number of iterations.\n",
      "  warnings.warn(\n",
      "/home/bnt4me/.local/lib/python3.8/site-packages/sklearn/svm/_base.py:1199: ConvergenceWarning: Liblinear failed to converge, increase the number of iterations.\n",
      "  warnings.warn(\n",
      "/home/bnt4me/.local/lib/python3.8/site-packages/sklearn/svm/_base.py:1199: ConvergenceWarning: Liblinear failed to converge, increase the number of iterations.\n",
      "  warnings.warn(\n",
      "/home/bnt4me/.local/lib/python3.8/site-packages/sklearn/svm/_base.py:1199: ConvergenceWarning: Liblinear failed to converge, increase the number of iterations.\n",
      "  warnings.warn(\n",
      "/home/bnt4me/.local/lib/python3.8/site-packages/sklearn/svm/_base.py:1199: ConvergenceWarning: Liblinear failed to converge, increase the number of iterations.\n",
      "  warnings.warn(\n",
      "/home/bnt4me/.local/lib/python3.8/site-packages/sklearn/svm/_base.py:1199: ConvergenceWarning: Liblinear failed to converge, increase the number of iterations.\n",
      "  warnings.warn(\n",
      "/home/bnt4me/.local/lib/python3.8/site-packages/sklearn/svm/_base.py:1199: ConvergenceWarning: Liblinear failed to converge, increase the number of iterations.\n",
      "  warnings.warn(\n",
      "/home/bnt4me/.local/lib/python3.8/site-packages/sklearn/svm/_base.py:1199: ConvergenceWarning: Liblinear failed to converge, increase the number of iterations.\n",
      "  warnings.warn(\n",
      "/home/bnt4me/.local/lib/python3.8/site-packages/sklearn/svm/_base.py:1199: ConvergenceWarning: Liblinear failed to converge, increase the number of iterations.\n",
      "  warnings.warn(\n",
      "/home/bnt4me/.local/lib/python3.8/site-packages/sklearn/svm/_base.py:1199: ConvergenceWarning: Liblinear failed to converge, increase the number of iterations.\n",
      "  warnings.warn(\n",
      "/home/bnt4me/.local/lib/python3.8/site-packages/sklearn/svm/_base.py:1199: ConvergenceWarning: Liblinear failed to converge, increase the number of iterations.\n",
      "  warnings.warn(\n",
      "/home/bnt4me/.local/lib/python3.8/site-packages/sklearn/svm/_base.py:1199: ConvergenceWarning: Liblinear failed to converge, increase the number of iterations.\n",
      "  warnings.warn(\n"
     ]
    },
    {
     "ename": "KeyboardInterrupt",
     "evalue": "",
     "output_type": "error",
     "traceback": [
      "\u001b[0;31m---------------------------------------------------------------------------\u001b[0m",
      "\u001b[0;31mKeyboardInterrupt\u001b[0m                         Traceback (most recent call last)",
      "\u001b[0;32m/tmp/ipykernel_142779/2957691923.py\u001b[0m in \u001b[0;36m<module>\u001b[0;34m\u001b[0m\n\u001b[1;32m     14\u001b[0m \u001b[0msearch\u001b[0m \u001b[0;34m=\u001b[0m \u001b[0mRandomizedSearchCV\u001b[0m\u001b[0;34m(\u001b[0m\u001b[0mxgb_model\u001b[0m\u001b[0;34m,\u001b[0m \u001b[0mparam_distributions\u001b[0m\u001b[0;34m=\u001b[0m\u001b[0mparams\u001b[0m\u001b[0;34m,\u001b[0m \u001b[0mrandom_state\u001b[0m\u001b[0;34m=\u001b[0m\u001b[0;36m10\u001b[0m\u001b[0;34m,\u001b[0m \u001b[0mcv\u001b[0m\u001b[0;34m=\u001b[0m\u001b[0;36m3\u001b[0m\u001b[0;34m,\u001b[0m \u001b[0mn_jobs\u001b[0m\u001b[0;34m=\u001b[0m\u001b[0;36m8\u001b[0m\u001b[0;34m,\u001b[0m \u001b[0mreturn_train_score\u001b[0m\u001b[0;34m=\u001b[0m\u001b[0;32mTrue\u001b[0m\u001b[0;34m)\u001b[0m\u001b[0;34m\u001b[0m\u001b[0;34m\u001b[0m\u001b[0m\n\u001b[1;32m     15\u001b[0m \u001b[0;34m\u001b[0m\u001b[0m\n\u001b[0;32m---> 16\u001b[0;31m \u001b[0msearch\u001b[0m\u001b[0;34m.\u001b[0m\u001b[0mfit\u001b[0m\u001b[0;34m(\u001b[0m\u001b[0mX_train_1\u001b[0m\u001b[0;34m,\u001b[0m \u001b[0my_train_1\u001b[0m\u001b[0;34m)\u001b[0m\u001b[0;34m\u001b[0m\u001b[0;34m\u001b[0m\u001b[0m\n\u001b[0m",
      "\u001b[0;32m~/.local/lib/python3.8/site-packages/sklearn/model_selection/_search.py\u001b[0m in \u001b[0;36mfit\u001b[0;34m(self, X, y, groups, **fit_params)\u001b[0m\n\u001b[1;32m    889\u001b[0m                 \u001b[0;32mreturn\u001b[0m \u001b[0mresults\u001b[0m\u001b[0;34m\u001b[0m\u001b[0;34m\u001b[0m\u001b[0m\n\u001b[1;32m    890\u001b[0m \u001b[0;34m\u001b[0m\u001b[0m\n\u001b[0;32m--> 891\u001b[0;31m             \u001b[0mself\u001b[0m\u001b[0;34m.\u001b[0m\u001b[0m_run_search\u001b[0m\u001b[0;34m(\u001b[0m\u001b[0mevaluate_candidates\u001b[0m\u001b[0;34m)\u001b[0m\u001b[0;34m\u001b[0m\u001b[0;34m\u001b[0m\u001b[0m\n\u001b[0m\u001b[1;32m    892\u001b[0m \u001b[0;34m\u001b[0m\u001b[0m\n\u001b[1;32m    893\u001b[0m             \u001b[0;31m# multimetric is determined here because in the case of a callable\u001b[0m\u001b[0;34m\u001b[0m\u001b[0;34m\u001b[0m\u001b[0;34m\u001b[0m\u001b[0m\n",
      "\u001b[0;32m~/.local/lib/python3.8/site-packages/sklearn/model_selection/_search.py\u001b[0m in \u001b[0;36m_run_search\u001b[0;34m(self, evaluate_candidates)\u001b[0m\n\u001b[1;32m   1764\u001b[0m     \u001b[0;32mdef\u001b[0m \u001b[0m_run_search\u001b[0m\u001b[0;34m(\u001b[0m\u001b[0mself\u001b[0m\u001b[0;34m,\u001b[0m \u001b[0mevaluate_candidates\u001b[0m\u001b[0;34m)\u001b[0m\u001b[0;34m:\u001b[0m\u001b[0;34m\u001b[0m\u001b[0;34m\u001b[0m\u001b[0m\n\u001b[1;32m   1765\u001b[0m         \u001b[0;34m\"\"\"Search n_iter candidates from param_distributions\"\"\"\u001b[0m\u001b[0;34m\u001b[0m\u001b[0;34m\u001b[0m\u001b[0m\n\u001b[0;32m-> 1766\u001b[0;31m         evaluate_candidates(\n\u001b[0m\u001b[1;32m   1767\u001b[0m             ParameterSampler(\n\u001b[1;32m   1768\u001b[0m                 \u001b[0mself\u001b[0m\u001b[0;34m.\u001b[0m\u001b[0mparam_distributions\u001b[0m\u001b[0;34m,\u001b[0m \u001b[0mself\u001b[0m\u001b[0;34m.\u001b[0m\u001b[0mn_iter\u001b[0m\u001b[0;34m,\u001b[0m \u001b[0mrandom_state\u001b[0m\u001b[0;34m=\u001b[0m\u001b[0mself\u001b[0m\u001b[0;34m.\u001b[0m\u001b[0mrandom_state\u001b[0m\u001b[0;34m\u001b[0m\u001b[0;34m\u001b[0m\u001b[0m\n",
      "\u001b[0;32m~/.local/lib/python3.8/site-packages/sklearn/model_selection/_search.py\u001b[0m in \u001b[0;36mevaluate_candidates\u001b[0;34m(candidate_params, cv, more_results)\u001b[0m\n\u001b[1;32m    836\u001b[0m                     )\n\u001b[1;32m    837\u001b[0m \u001b[0;34m\u001b[0m\u001b[0m\n\u001b[0;32m--> 838\u001b[0;31m                 out = parallel(\n\u001b[0m\u001b[1;32m    839\u001b[0m                     delayed(_fit_and_score)(\n\u001b[1;32m    840\u001b[0m                         \u001b[0mclone\u001b[0m\u001b[0;34m(\u001b[0m\u001b[0mbase_estimator\u001b[0m\u001b[0;34m)\u001b[0m\u001b[0;34m,\u001b[0m\u001b[0;34m\u001b[0m\u001b[0;34m\u001b[0m\u001b[0m\n",
      "\u001b[0;32m~/.local/lib/python3.8/site-packages/joblib/parallel.py\u001b[0m in \u001b[0;36m__call__\u001b[0;34m(self, iterable)\u001b[0m\n\u001b[1;32m   1054\u001b[0m \u001b[0;34m\u001b[0m\u001b[0m\n\u001b[1;32m   1055\u001b[0m             \u001b[0;32mwith\u001b[0m \u001b[0mself\u001b[0m\u001b[0;34m.\u001b[0m\u001b[0m_backend\u001b[0m\u001b[0;34m.\u001b[0m\u001b[0mretrieval_context\u001b[0m\u001b[0;34m(\u001b[0m\u001b[0;34m)\u001b[0m\u001b[0;34m:\u001b[0m\u001b[0;34m\u001b[0m\u001b[0;34m\u001b[0m\u001b[0m\n\u001b[0;32m-> 1056\u001b[0;31m                 \u001b[0mself\u001b[0m\u001b[0;34m.\u001b[0m\u001b[0mretrieve\u001b[0m\u001b[0;34m(\u001b[0m\u001b[0;34m)\u001b[0m\u001b[0;34m\u001b[0m\u001b[0;34m\u001b[0m\u001b[0m\n\u001b[0m\u001b[1;32m   1057\u001b[0m             \u001b[0;31m# Make sure that we get a last message telling us we are done\u001b[0m\u001b[0;34m\u001b[0m\u001b[0;34m\u001b[0m\u001b[0;34m\u001b[0m\u001b[0m\n\u001b[1;32m   1058\u001b[0m             \u001b[0melapsed_time\u001b[0m \u001b[0;34m=\u001b[0m \u001b[0mtime\u001b[0m\u001b[0;34m.\u001b[0m\u001b[0mtime\u001b[0m\u001b[0;34m(\u001b[0m\u001b[0;34m)\u001b[0m \u001b[0;34m-\u001b[0m \u001b[0mself\u001b[0m\u001b[0;34m.\u001b[0m\u001b[0m_start_time\u001b[0m\u001b[0;34m\u001b[0m\u001b[0;34m\u001b[0m\u001b[0m\n",
      "\u001b[0;32m~/.local/lib/python3.8/site-packages/joblib/parallel.py\u001b[0m in \u001b[0;36mretrieve\u001b[0;34m(self)\u001b[0m\n\u001b[1;32m    933\u001b[0m             \u001b[0;32mtry\u001b[0m\u001b[0;34m:\u001b[0m\u001b[0;34m\u001b[0m\u001b[0;34m\u001b[0m\u001b[0m\n\u001b[1;32m    934\u001b[0m                 \u001b[0;32mif\u001b[0m \u001b[0mgetattr\u001b[0m\u001b[0;34m(\u001b[0m\u001b[0mself\u001b[0m\u001b[0;34m.\u001b[0m\u001b[0m_backend\u001b[0m\u001b[0;34m,\u001b[0m \u001b[0;34m'supports_timeout'\u001b[0m\u001b[0;34m,\u001b[0m \u001b[0;32mFalse\u001b[0m\u001b[0;34m)\u001b[0m\u001b[0;34m:\u001b[0m\u001b[0;34m\u001b[0m\u001b[0;34m\u001b[0m\u001b[0m\n\u001b[0;32m--> 935\u001b[0;31m                     \u001b[0mself\u001b[0m\u001b[0;34m.\u001b[0m\u001b[0m_output\u001b[0m\u001b[0;34m.\u001b[0m\u001b[0mextend\u001b[0m\u001b[0;34m(\u001b[0m\u001b[0mjob\u001b[0m\u001b[0;34m.\u001b[0m\u001b[0mget\u001b[0m\u001b[0;34m(\u001b[0m\u001b[0mtimeout\u001b[0m\u001b[0;34m=\u001b[0m\u001b[0mself\u001b[0m\u001b[0;34m.\u001b[0m\u001b[0mtimeout\u001b[0m\u001b[0;34m)\u001b[0m\u001b[0;34m)\u001b[0m\u001b[0;34m\u001b[0m\u001b[0;34m\u001b[0m\u001b[0m\n\u001b[0m\u001b[1;32m    936\u001b[0m                 \u001b[0;32melse\u001b[0m\u001b[0;34m:\u001b[0m\u001b[0;34m\u001b[0m\u001b[0;34m\u001b[0m\u001b[0m\n\u001b[1;32m    937\u001b[0m                     \u001b[0mself\u001b[0m\u001b[0;34m.\u001b[0m\u001b[0m_output\u001b[0m\u001b[0;34m.\u001b[0m\u001b[0mextend\u001b[0m\u001b[0;34m(\u001b[0m\u001b[0mjob\u001b[0m\u001b[0;34m.\u001b[0m\u001b[0mget\u001b[0m\u001b[0;34m(\u001b[0m\u001b[0;34m)\u001b[0m\u001b[0;34m)\u001b[0m\u001b[0;34m\u001b[0m\u001b[0;34m\u001b[0m\u001b[0m\n",
      "\u001b[0;32m~/.local/lib/python3.8/site-packages/joblib/_parallel_backends.py\u001b[0m in \u001b[0;36mwrap_future_result\u001b[0;34m(future, timeout)\u001b[0m\n\u001b[1;32m    540\u001b[0m         AsyncResults.get from multiprocessing.\"\"\"\n\u001b[1;32m    541\u001b[0m         \u001b[0;32mtry\u001b[0m\u001b[0;34m:\u001b[0m\u001b[0;34m\u001b[0m\u001b[0;34m\u001b[0m\u001b[0m\n\u001b[0;32m--> 542\u001b[0;31m             \u001b[0;32mreturn\u001b[0m \u001b[0mfuture\u001b[0m\u001b[0;34m.\u001b[0m\u001b[0mresult\u001b[0m\u001b[0;34m(\u001b[0m\u001b[0mtimeout\u001b[0m\u001b[0;34m=\u001b[0m\u001b[0mtimeout\u001b[0m\u001b[0;34m)\u001b[0m\u001b[0;34m\u001b[0m\u001b[0;34m\u001b[0m\u001b[0m\n\u001b[0m\u001b[1;32m    543\u001b[0m         \u001b[0;32mexcept\u001b[0m \u001b[0mCfTimeoutError\u001b[0m \u001b[0;32mas\u001b[0m \u001b[0me\u001b[0m\u001b[0;34m:\u001b[0m\u001b[0;34m\u001b[0m\u001b[0;34m\u001b[0m\u001b[0m\n\u001b[1;32m    544\u001b[0m             \u001b[0;32mraise\u001b[0m \u001b[0mTimeoutError\u001b[0m \u001b[0;32mfrom\u001b[0m \u001b[0me\u001b[0m\u001b[0;34m\u001b[0m\u001b[0;34m\u001b[0m\u001b[0m\n",
      "\u001b[0;32m/usr/lib/python3.8/concurrent/futures/_base.py\u001b[0m in \u001b[0;36mresult\u001b[0;34m(self, timeout)\u001b[0m\n\u001b[1;32m    437\u001b[0m                     \u001b[0;32mreturn\u001b[0m \u001b[0mself\u001b[0m\u001b[0;34m.\u001b[0m\u001b[0m__get_result\u001b[0m\u001b[0;34m(\u001b[0m\u001b[0;34m)\u001b[0m\u001b[0;34m\u001b[0m\u001b[0;34m\u001b[0m\u001b[0m\n\u001b[1;32m    438\u001b[0m \u001b[0;34m\u001b[0m\u001b[0m\n\u001b[0;32m--> 439\u001b[0;31m                 \u001b[0mself\u001b[0m\u001b[0;34m.\u001b[0m\u001b[0m_condition\u001b[0m\u001b[0;34m.\u001b[0m\u001b[0mwait\u001b[0m\u001b[0;34m(\u001b[0m\u001b[0mtimeout\u001b[0m\u001b[0;34m)\u001b[0m\u001b[0;34m\u001b[0m\u001b[0;34m\u001b[0m\u001b[0m\n\u001b[0m\u001b[1;32m    440\u001b[0m \u001b[0;34m\u001b[0m\u001b[0m\n\u001b[1;32m    441\u001b[0m                 \u001b[0;32mif\u001b[0m \u001b[0mself\u001b[0m\u001b[0;34m.\u001b[0m\u001b[0m_state\u001b[0m \u001b[0;32min\u001b[0m \u001b[0;34m[\u001b[0m\u001b[0mCANCELLED\u001b[0m\u001b[0;34m,\u001b[0m \u001b[0mCANCELLED_AND_NOTIFIED\u001b[0m\u001b[0;34m]\u001b[0m\u001b[0;34m:\u001b[0m\u001b[0;34m\u001b[0m\u001b[0;34m\u001b[0m\u001b[0m\n",
      "\u001b[0;32m/usr/lib/python3.8/threading.py\u001b[0m in \u001b[0;36mwait\u001b[0;34m(self, timeout)\u001b[0m\n\u001b[1;32m    300\u001b[0m         \u001b[0;32mtry\u001b[0m\u001b[0;34m:\u001b[0m    \u001b[0;31m# restore state no matter what (e.g., KeyboardInterrupt)\u001b[0m\u001b[0;34m\u001b[0m\u001b[0;34m\u001b[0m\u001b[0m\n\u001b[1;32m    301\u001b[0m             \u001b[0;32mif\u001b[0m \u001b[0mtimeout\u001b[0m \u001b[0;32mis\u001b[0m \u001b[0;32mNone\u001b[0m\u001b[0;34m:\u001b[0m\u001b[0;34m\u001b[0m\u001b[0;34m\u001b[0m\u001b[0m\n\u001b[0;32m--> 302\u001b[0;31m                 \u001b[0mwaiter\u001b[0m\u001b[0;34m.\u001b[0m\u001b[0macquire\u001b[0m\u001b[0;34m(\u001b[0m\u001b[0;34m)\u001b[0m\u001b[0;34m\u001b[0m\u001b[0;34m\u001b[0m\u001b[0m\n\u001b[0m\u001b[1;32m    303\u001b[0m                 \u001b[0mgotit\u001b[0m \u001b[0;34m=\u001b[0m \u001b[0;32mTrue\u001b[0m\u001b[0;34m\u001b[0m\u001b[0;34m\u001b[0m\u001b[0m\n\u001b[1;32m    304\u001b[0m             \u001b[0;32melse\u001b[0m\u001b[0;34m:\u001b[0m\u001b[0;34m\u001b[0m\u001b[0;34m\u001b[0m\u001b[0m\n",
      "\u001b[0;31mKeyboardInterrupt\u001b[0m: "
     ]
    }
   ],
   "source": [
    "import xgboost as xgb\n",
    "from scipy.stats import uniform, randint\n",
    "from sklearn.model_selection import RandomizedSearchCV\n",
    "xgb_model = xgb.XGBClassifier(objective=\"multi:softprob\", random_state=10)\n",
    "params = {\n",
    "    \"colsample_bytree\": uniform(0.7, 0.3),\n",
    "    \"gamma\": uniform(0, 0.5),\n",
    "    \"learning_rate\": uniform(0.03, 0.3), # default 0.1 \n",
    "    \"max_depth\": randint(2, 6), # default 3\n",
    "    \"n_estimators\": randint(100, 150), # default 100\n",
    "    \"subsample\": uniform(0.6, 0.4)\n",
    "}\n",
    "\n",
    "search = RandomizedSearchCV(xgb_model, param_distributions=params, random_state=10, cv=3, n_jobs=8, return_train_score=True)\n",
    "\n",
    "search.fit(X_train_1, y_train_1)"
   ]
  },
  {
   "cell_type": "code",
   "execution_count": null,
   "metadata": {
    "colab": {
     "base_uri": "https://localhost:8080/",
     "height": 163
    },
    "id": "EMmVhgh1y4VJ",
    "outputId": "5c2846d6-1e96-45ca-b7a7-43061d87102a"
   },
   "outputs": [],
   "source": [
    "search.best_params_"
   ]
  },
  {
   "cell_type": "code",
   "execution_count": null,
   "metadata": {
    "id": "0Te3_lYwy4b5"
   },
   "outputs": [],
   "source": [
    "from sklearn.metrics import classification_report\n",
    "\n",
    "y_pred_rf = search.predict(X_test)\n",
    "\n",
    "print('Classification report:\\n{0}\\n'.format(classification_report(y_test, y_pred_rf)))"
   ]
  },
  {
   "cell_type": "code",
   "execution_count": 126,
   "metadata": {
    "id": "3LrWdODJzC7A"
   },
   "outputs": [
    {
     "data": {
      "image/png": "[encoded data removed]",
      "text/plain": [
       "<Figure size 432x288 with 1 Axes>"
      ]
     },
     "metadata": {},
     "output_type": "display_data"
    },
    {
     "name": "stdout",
     "output_type": "stream",
     "text": [
      "[14:29:07] WARNING: ../src/learner.cc:1115: Starting in XGBoost 1.3.0, the default evaluation metric used with the objective 'multi:softprob' was changed from 'merror' to 'mlogloss'. Explicitly set eval_metric if you'd like to restore the old behavior.\n",
      "[14:38:19] WARNING: ../src/learner.cc:1115: Starting in XGBoost 1.3.0, the default evaluation metric used with the objective 'multi:softprob' was changed from 'merror' to 'mlogloss'. Explicitly set eval_metric if you'd like to restore the old behavior.\n",
      "[14:49:57] WARNING: ../src/learner.cc:1115: Starting in XGBoost 1.3.0, the default evaluation metric used with the objective 'multi:softprob' was changed from 'merror' to 'mlogloss'. Explicitly set eval_metric if you'd like to restore the old behavior.\n"
     ]
    },
    {
     "name": "stderr",
     "output_type": "stream",
     "text": [
      "/home/bnt4me/.local/lib/python3.8/site-packages/xgboost/sklearn.py:1224: UserWarning: The use of label encoder in XGBClassifier is deprecated and will be removed in a future release. To remove this warning, do the following: 1) Pass option use_label_encoder=False when constructing XGBClassifier object; and 2) Encode your labels (y) as integers starting with 0, i.e. 0, 1, 2, ..., [num_class - 1].\n",
      "  warnings.warn(label_encoder_deprecation_msg, UserWarning)\n",
      "/home/bnt4me/.local/lib/python3.8/site-packages/xgboost/sklearn.py:1224: UserWarning: The use of label encoder in XGBClassifier is deprecated and will be removed in a future release. To remove this warning, do the following: 1) Pass option use_label_encoder=False when constructing XGBClassifier object; and 2) Encode your labels (y) as integers starting with 0, i.e. 0, 1, 2, ..., [num_class - 1].\n",
      "  warnings.warn(label_encoder_deprecation_msg, UserWarning)\n",
      "/home/bnt4me/.local/lib/python3.8/site-packages/xgboost/sklearn.py:1224: UserWarning: The use of label encoder in XGBClassifier is deprecated and will be removed in a future release. To remove this warning, do the following: 1) Pass option use_label_encoder=False when constructing XGBClassifier object; and 2) Encode your labels (y) as integers starting with 0, i.e. 0, 1, 2, ..., [num_class - 1].\n",
      "  warnings.warn(label_encoder_deprecation_msg, UserWarning)\n"
     ]
    },
    {
     "name": "stdout",
     "output_type": "stream",
     "text": [
      "[14:29:03] WARNING: ../src/learner.cc:1115: Starting in XGBoost 1.3.0, the default evaluation metric used with the objective 'multi:softprob' was changed from 'merror' to 'mlogloss'. Explicitly set eval_metric if you'd like to restore the old behavior.\n",
      "[14:35:00] WARNING: ../src/learner.cc:1115: Starting in XGBoost 1.3.0, the default evaluation metric used with the objective 'multi:softprob' was changed from 'merror' to 'mlogloss'. Explicitly set eval_metric if you'd like to restore the old behavior.\n",
      "[14:46:21] WARNING: ../src/learner.cc:1115: Starting in XGBoost 1.3.0, the default evaluation metric used with the objective 'multi:softprob' was changed from 'merror' to 'mlogloss'. Explicitly set eval_metric if you'd like to restore the old behavior.\n",
      "[14:53:42] WARNING: ../src/learner.cc:1115: Starting in XGBoost 1.3.0, the default evaluation metric used with the objective 'multi:softprob' was changed from 'merror' to 'mlogloss'. Explicitly set eval_metric if you'd like to restore the old behavior.\n"
     ]
    },
    {
     "name": "stderr",
     "output_type": "stream",
     "text": [
      "/home/bnt4me/.local/lib/python3.8/site-packages/xgboost/sklearn.py:1224: UserWarning: The use of label encoder in XGBClassifier is deprecated and will be removed in a future release. To remove this warning, do the following: 1) Pass option use_label_encoder=False when constructing XGBClassifier object; and 2) Encode your labels (y) as integers starting with 0, i.e. 0, 1, 2, ..., [num_class - 1].\n",
      "  warnings.warn(label_encoder_deprecation_msg, UserWarning)\n",
      "/home/bnt4me/.local/lib/python3.8/site-packages/xgboost/sklearn.py:1224: UserWarning: The use of label encoder in XGBClassifier is deprecated and will be removed in a future release. To remove this warning, do the following: 1) Pass option use_label_encoder=False when constructing XGBClassifier object; and 2) Encode your labels (y) as integers starting with 0, i.e. 0, 1, 2, ..., [num_class - 1].\n",
      "  warnings.warn(label_encoder_deprecation_msg, UserWarning)\n",
      "/home/bnt4me/.local/lib/python3.8/site-packages/xgboost/sklearn.py:1224: UserWarning: The use of label encoder in XGBClassifier is deprecated and will be removed in a future release. To remove this warning, do the following: 1) Pass option use_label_encoder=False when constructing XGBClassifier object; and 2) Encode your labels (y) as integers starting with 0, i.e. 0, 1, 2, ..., [num_class - 1].\n",
      "  warnings.warn(label_encoder_deprecation_msg, UserWarning)\n",
      "/home/bnt4me/.local/lib/python3.8/site-packages/xgboost/sklearn.py:1224: UserWarning: The use of label encoder in XGBClassifier is deprecated and will be removed in a future release. To remove this warning, do the following: 1) Pass option use_label_encoder=False when constructing XGBClassifier object; and 2) Encode your labels (y) as integers starting with 0, i.e. 0, 1, 2, ..., [num_class - 1].\n",
      "  warnings.warn(label_encoder_deprecation_msg, UserWarning)\n"
     ]
    },
    {
     "name": "stdout",
     "output_type": "stream",
     "text": [
      "[14:29:02] WARNING: ../src/learner.cc:1115: Starting in XGBoost 1.3.0, the default evaluation metric used with the objective 'multi:softprob' was changed from 'merror' to 'mlogloss'. Explicitly set eval_metric if you'd like to restore the old behavior.\n",
      "[14:34:59] WARNING: ../src/learner.cc:1115: Starting in XGBoost 1.3.0, the default evaluation metric used with the objective 'multi:softprob' was changed from 'merror' to 'mlogloss'. Explicitly set eval_metric if you'd like to restore the old behavior.\n",
      "[14:46:16] WARNING: ../src/learner.cc:1115: Starting in XGBoost 1.3.0, the default evaluation metric used with the objective 'multi:softprob' was changed from 'merror' to 'mlogloss'. Explicitly set eval_metric if you'd like to restore the old behavior.\n",
      "[14:53:52] WARNING: ../src/learner.cc:1115: Starting in XGBoost 1.3.0, the default evaluation metric used with the objective 'multi:softprob' was changed from 'merror' to 'mlogloss'. Explicitly set eval_metric if you'd like to restore the old behavior.\n"
     ]
    },
    {
     "name": "stderr",
     "output_type": "stream",
     "text": [
      "/home/bnt4me/.local/lib/python3.8/site-packages/xgboost/sklearn.py:1224: UserWarning: The use of label encoder in XGBClassifier is deprecated and will be removed in a future release. To remove this warning, do the following: 1) Pass option use_label_encoder=False when constructing XGBClassifier object; and 2) Encode your labels (y) as integers starting with 0, i.e. 0, 1, 2, ..., [num_class - 1].\n",
      "  warnings.warn(label_encoder_deprecation_msg, UserWarning)\n",
      "/home/bnt4me/.local/lib/python3.8/site-packages/xgboost/sklearn.py:1224: UserWarning: The use of label encoder in XGBClassifier is deprecated and will be removed in a future release. To remove this warning, do the following: 1) Pass option use_label_encoder=False when constructing XGBClassifier object; and 2) Encode your labels (y) as integers starting with 0, i.e. 0, 1, 2, ..., [num_class - 1].\n",
      "  warnings.warn(label_encoder_deprecation_msg, UserWarning)\n",
      "/home/bnt4me/.local/lib/python3.8/site-packages/xgboost/sklearn.py:1224: UserWarning: The use of label encoder in XGBClassifier is deprecated and will be removed in a future release. To remove this warning, do the following: 1) Pass option use_label_encoder=False when constructing XGBClassifier object; and 2) Encode your labels (y) as integers starting with 0, i.e. 0, 1, 2, ..., [num_class - 1].\n",
      "  warnings.warn(label_encoder_deprecation_msg, UserWarning)\n",
      "/home/bnt4me/.local/lib/python3.8/site-packages/xgboost/sklearn.py:1224: UserWarning: The use of label encoder in XGBClassifier is deprecated and will be removed in a future release. To remove this warning, do the following: 1) Pass option use_label_encoder=False when constructing XGBClassifier object; and 2) Encode your labels (y) as integers starting with 0, i.e. 0, 1, 2, ..., [num_class - 1].\n",
      "  warnings.warn(label_encoder_deprecation_msg, UserWarning)\n"
     ]
    },
    {
     "name": "stdout",
     "output_type": "stream",
     "text": [
      "[14:29:02] WARNING: ../src/learner.cc:1115: Starting in XGBoost 1.3.0, the default evaluation metric used with the objective 'multi:softprob' was changed from 'merror' to 'mlogloss'. Explicitly set eval_metric if you'd like to restore the old behavior.\n",
      "[14:34:48] WARNING: ../src/learner.cc:1115: Starting in XGBoost 1.3.0, the default evaluation metric used with the objective 'multi:softprob' was changed from 'merror' to 'mlogloss'. Explicitly set eval_metric if you'd like to restore the old behavior.\n",
      "[14:46:36] WARNING: ../src/learner.cc:1115: Starting in XGBoost 1.3.0, the default evaluation metric used with the objective 'multi:softprob' was changed from 'merror' to 'mlogloss'. Explicitly set eval_metric if you'd like to restore the old behavior.\n",
      "[14:54:07] WARNING: ../src/learner.cc:1115: Starting in XGBoost 1.3.0, the default evaluation metric used with the objective 'multi:softprob' was changed from 'merror' to 'mlogloss'. Explicitly set eval_metric if you'd like to restore the old behavior.\n"
     ]
    },
    {
     "name": "stderr",
     "output_type": "stream",
     "text": [
      "/home/bnt4me/.local/lib/python3.8/site-packages/xgboost/sklearn.py:1224: UserWarning: The use of label encoder in XGBClassifier is deprecated and will be removed in a future release. To remove this warning, do the following: 1) Pass option use_label_encoder=False when constructing XGBClassifier object; and 2) Encode your labels (y) as integers starting with 0, i.e. 0, 1, 2, ..., [num_class - 1].\n",
      "  warnings.warn(label_encoder_deprecation_msg, UserWarning)\n",
      "/home/bnt4me/.local/lib/python3.8/site-packages/xgboost/sklearn.py:1224: UserWarning: The use of label encoder in XGBClassifier is deprecated and will be removed in a future release. To remove this warning, do the following: 1) Pass option use_label_encoder=False when constructing XGBClassifier object; and 2) Encode your labels (y) as integers starting with 0, i.e. 0, 1, 2, ..., [num_class - 1].\n",
      "  warnings.warn(label_encoder_deprecation_msg, UserWarning)\n",
      "/home/bnt4me/.local/lib/python3.8/site-packages/xgboost/sklearn.py:1224: UserWarning: The use of label encoder in XGBClassifier is deprecated and will be removed in a future release. To remove this warning, do the following: 1) Pass option use_label_encoder=False when constructing XGBClassifier object; and 2) Encode your labels (y) as integers starting with 0, i.e. 0, 1, 2, ..., [num_class - 1].\n",
      "  warnings.warn(label_encoder_deprecation_msg, UserWarning)\n",
      "/home/bnt4me/.local/lib/python3.8/site-packages/xgboost/sklearn.py:1224: UserWarning: The use of label encoder in XGBClassifier is deprecated and will be removed in a future release. To remove this warning, do the following: 1) Pass option use_label_encoder=False when constructing XGBClassifier object; and 2) Encode your labels (y) as integers starting with 0, i.e. 0, 1, 2, ..., [num_class - 1].\n",
      "  warnings.warn(label_encoder_deprecation_msg, UserWarning)\n"
     ]
    },
    {
     "name": "stdout",
     "output_type": "stream",
     "text": [
      "[14:29:07] WARNING: ../src/learner.cc:1115: Starting in XGBoost 1.3.0, the default evaluation metric used with the objective 'multi:softprob' was changed from 'merror' to 'mlogloss'. Explicitly set eval_metric if you'd like to restore the old behavior.\n",
      "[14:40:40] WARNING: ../src/learner.cc:1115: Starting in XGBoost 1.3.0, the default evaluation metric used with the objective 'multi:softprob' was changed from 'merror' to 'mlogloss'. Explicitly set eval_metric if you'd like to restore the old behavior.\n",
      "[14:52:16] WARNING: ../src/learner.cc:1115: Starting in XGBoost 1.3.0, the default evaluation metric used with the objective 'multi:softprob' was changed from 'merror' to 'mlogloss'. Explicitly set eval_metric if you'd like to restore the old behavior.\n"
     ]
    },
    {
     "name": "stderr",
     "output_type": "stream",
     "text": [
      "/home/bnt4me/.local/lib/python3.8/site-packages/xgboost/sklearn.py:1224: UserWarning: The use of label encoder in XGBClassifier is deprecated and will be removed in a future release. To remove this warning, do the following: 1) Pass option use_label_encoder=False when constructing XGBClassifier object; and 2) Encode your labels (y) as integers starting with 0, i.e. 0, 1, 2, ..., [num_class - 1].\n",
      "  warnings.warn(label_encoder_deprecation_msg, UserWarning)\n",
      "/home/bnt4me/.local/lib/python3.8/site-packages/xgboost/sklearn.py:1224: UserWarning: The use of label encoder in XGBClassifier is deprecated and will be removed in a future release. To remove this warning, do the following: 1) Pass option use_label_encoder=False when constructing XGBClassifier object; and 2) Encode your labels (y) as integers starting with 0, i.e. 0, 1, 2, ..., [num_class - 1].\n",
      "  warnings.warn(label_encoder_deprecation_msg, UserWarning)\n",
      "/home/bnt4me/.local/lib/python3.8/site-packages/xgboost/sklearn.py:1224: UserWarning: The use of label encoder in XGBClassifier is deprecated and will be removed in a future release. To remove this warning, do the following: 1) Pass option use_label_encoder=False when constructing XGBClassifier object; and 2) Encode your labels (y) as integers starting with 0, i.e. 0, 1, 2, ..., [num_class - 1].\n",
      "  warnings.warn(label_encoder_deprecation_msg, UserWarning)\n"
     ]
    },
    {
     "name": "stdout",
     "output_type": "stream",
     "text": [
      "[14:29:06] WARNING: ../src/learner.cc:1115: Starting in XGBoost 1.3.0, the default evaluation metric used with the objective 'multi:softprob' was changed from 'merror' to 'mlogloss'. Explicitly set eval_metric if you'd like to restore the old behavior.\n",
      "[14:41:06] WARNING: ../src/learner.cc:1115: Starting in XGBoost 1.3.0, the default evaluation metric used with the objective 'multi:softprob' was changed from 'merror' to 'mlogloss'. Explicitly set eval_metric if you'd like to restore the old behavior.\n",
      "[14:48:37] WARNING: ../src/learner.cc:1115: Starting in XGBoost 1.3.0, the default evaluation metric used with the objective 'multi:softprob' was changed from 'merror' to 'mlogloss'. Explicitly set eval_metric if you'd like to restore the old behavior.\n",
      "[14:56:01] WARNING: ../src/learner.cc:1115: Starting in XGBoost 1.3.0, the default evaluation metric used with the objective 'multi:softprob' was changed from 'merror' to 'mlogloss'. Explicitly set eval_metric if you'd like to restore the old behavior.\n"
     ]
    },
    {
     "name": "stderr",
     "output_type": "stream",
     "text": [
      "/home/bnt4me/.local/lib/python3.8/site-packages/xgboost/sklearn.py:1224: UserWarning: The use of label encoder in XGBClassifier is deprecated and will be removed in a future release. To remove this warning, do the following: 1) Pass option use_label_encoder=False when constructing XGBClassifier object; and 2) Encode your labels (y) as integers starting with 0, i.e. 0, 1, 2, ..., [num_class - 1].\n",
      "  warnings.warn(label_encoder_deprecation_msg, UserWarning)\n",
      "/home/bnt4me/.local/lib/python3.8/site-packages/xgboost/sklearn.py:1224: UserWarning: The use of label encoder in XGBClassifier is deprecated and will be removed in a future release. To remove this warning, do the following: 1) Pass option use_label_encoder=False when constructing XGBClassifier object; and 2) Encode your labels (y) as integers starting with 0, i.e. 0, 1, 2, ..., [num_class - 1].\n",
      "  warnings.warn(label_encoder_deprecation_msg, UserWarning)\n",
      "/home/bnt4me/.local/lib/python3.8/site-packages/xgboost/sklearn.py:1224: UserWarning: The use of label encoder in XGBClassifier is deprecated and will be removed in a future release. To remove this warning, do the following: 1) Pass option use_label_encoder=False when constructing XGBClassifier object; and 2) Encode your labels (y) as integers starting with 0, i.e. 0, 1, 2, ..., [num_class - 1].\n",
      "  warnings.warn(label_encoder_deprecation_msg, UserWarning)\n",
      "/home/bnt4me/.local/lib/python3.8/site-packages/xgboost/sklearn.py:1224: UserWarning: The use of label encoder in XGBClassifier is deprecated and will be removed in a future release. To remove this warning, do the following: 1) Pass option use_label_encoder=False when constructing XGBClassifier object; and 2) Encode your labels (y) as integers starting with 0, i.e. 0, 1, 2, ..., [num_class - 1].\n",
      "  warnings.warn(label_encoder_deprecation_msg, UserWarning)\n"
     ]
    },
    {
     "name": "stdout",
     "output_type": "stream",
     "text": [
      "[14:29:07] WARNING: ../src/learner.cc:1115: Starting in XGBoost 1.3.0, the default evaluation metric used with the objective 'multi:softprob' was changed from 'merror' to 'mlogloss'. Explicitly set eval_metric if you'd like to restore the old behavior.\n",
      "[14:38:28] WARNING: ../src/learner.cc:1115: Starting in XGBoost 1.3.0, the default evaluation metric used with the objective 'multi:softprob' was changed from 'merror' to 'mlogloss'. Explicitly set eval_metric if you'd like to restore the old behavior.\n",
      "[14:49:49] WARNING: ../src/learner.cc:1115: Starting in XGBoost 1.3.0, the default evaluation metric used with the objective 'multi:softprob' was changed from 'merror' to 'mlogloss'. Explicitly set eval_metric if you'd like to restore the old behavior.\n",
      "[14:57:23] WARNING: ../src/learner.cc:1115: Starting in XGBoost 1.3.0, the default evaluation metric used with the objective 'multi:softprob' was changed from 'merror' to 'mlogloss'. Explicitly set eval_metric if you'd like to restore the old behavior.\n",
      "[14:29:07] WARNING: ../src/learner.cc:1115: Starting in XGBoost 1.3.0, the default evaluation metric used with the objective 'multi:softprob' was changed from 'merror' to 'mlogloss'. Explicitly set eval_metric if you'd like to restore the old behavior.\n",
      "[14:38:24] WARNING: ../src/learner.cc:1115: Starting in XGBoost 1.3.0, the default evaluation metric used with the objective 'multi:softprob' was changed from 'merror' to 'mlogloss'. Explicitly set eval_metric if you'd like to restore the old behavior.\n",
      "[14:49:55] WARNING: ../src/learner.cc:1115: Starting in XGBoost 1.3.0, the default evaluation metric used with the objective 'multi:softprob' was changed from 'merror' to 'mlogloss'. Explicitly set eval_metric if you'd like to restore the old behavior.\n",
      "[14:57:36] WARNING: ../src/learner.cc:1115: Starting in XGBoost 1.3.0, the default evaluation metric used with the objective 'multi:softprob' was changed from 'merror' to 'mlogloss'. Explicitly set eval_metric if you'd like to restore the old behavior.\n"
     ]
    },
    {
     "name": "stderr",
     "output_type": "stream",
     "text": [
      "/home/bnt4me/.local/lib/python3.8/site-packages/xgboost/sklearn.py:1224: UserWarning: The use of label encoder in XGBClassifier is deprecated and will be removed in a future release. To remove this warning, do the following: 1) Pass option use_label_encoder=False when constructing XGBClassifier object; and 2) Encode your labels (y) as integers starting with 0, i.e. 0, 1, 2, ..., [num_class - 1].\n",
      "  warnings.warn(label_encoder_deprecation_msg, UserWarning)\n",
      "/home/bnt4me/.local/lib/python3.8/site-packages/xgboost/sklearn.py:1224: UserWarning: The use of label encoder in XGBClassifier is deprecated and will be removed in a future release. To remove this warning, do the following: 1) Pass option use_label_encoder=False when constructing XGBClassifier object; and 2) Encode your labels (y) as integers starting with 0, i.e. 0, 1, 2, ..., [num_class - 1].\n",
      "  warnings.warn(label_encoder_deprecation_msg, UserWarning)\n",
      "/home/bnt4me/.local/lib/python3.8/site-packages/xgboost/sklearn.py:1224: UserWarning: The use of label encoder in XGBClassifier is deprecated and will be removed in a future release. To remove this warning, do the following: 1) Pass option use_label_encoder=False when constructing XGBClassifier object; and 2) Encode your labels (y) as integers starting with 0, i.e. 0, 1, 2, ..., [num_class - 1].\n",
      "  warnings.warn(label_encoder_deprecation_msg, UserWarning)\n",
      "/home/bnt4me/.local/lib/python3.8/site-packages/xgboost/sklearn.py:1224: UserWarning: The use of label encoder in XGBClassifier is deprecated and will be removed in a future release. To remove this warning, do the following: 1) Pass option use_label_encoder=False when constructing XGBClassifier object; and 2) Encode your labels (y) as integers starting with 0, i.e. 0, 1, 2, ..., [num_class - 1].\n",
      "  warnings.warn(label_encoder_deprecation_msg, UserWarning)\n",
      "/home/bnt4me/.local/lib/python3.8/site-packages/xgboost/sklearn.py:1224: UserWarning: The use of label encoder in XGBClassifier is deprecated and will be removed in a future release. To remove this warning, do the following: 1) Pass option use_label_encoder=False when constructing XGBClassifier object; and 2) Encode your labels (y) as integers starting with 0, i.e. 0, 1, 2, ..., [num_class - 1].\n",
      "  warnings.warn(label_encoder_deprecation_msg, UserWarning)\n",
      "/home/bnt4me/.local/lib/python3.8/site-packages/xgboost/sklearn.py:1224: UserWarning: The use of label encoder in XGBClassifier is deprecated and will be removed in a future release. To remove this warning, do the following: 1) Pass option use_label_encoder=False when constructing XGBClassifier object; and 2) Encode your labels (y) as integers starting with 0, i.e. 0, 1, 2, ..., [num_class - 1].\n",
      "  warnings.warn(label_encoder_deprecation_msg, UserWarning)\n",
      "/home/bnt4me/.local/lib/python3.8/site-packages/xgboost/sklearn.py:1224: UserWarning: The use of label encoder in XGBClassifier is deprecated and will be removed in a future release. To remove this warning, do the following: 1) Pass option use_label_encoder=False when constructing XGBClassifier object; and 2) Encode your labels (y) as integers starting with 0, i.e. 0, 1, 2, ..., [num_class - 1].\n",
      "  warnings.warn(label_encoder_deprecation_msg, UserWarning)\n",
      "/home/bnt4me/.local/lib/python3.8/site-packages/xgboost/sklearn.py:1224: UserWarning: The use of label encoder in XGBClassifier is deprecated and will be removed in a future release. To remove this warning, do the following: 1) Pass option use_label_encoder=False when constructing XGBClassifier object; and 2) Encode your labels (y) as integers starting with 0, i.e. 0, 1, 2, ..., [num_class - 1].\n",
      "  warnings.warn(label_encoder_deprecation_msg, UserWarning)\n"
     ]
    }
   ],
   "source": [
    "%matplotlib inline\n",
    "import seaborn as sns; sns.set()\n",
    "from sklearn.metrics import confusion_matrix\n",
    "import matplotlib.pyplot as plt\n",
    "\n",
    "y_test_pred = search.predict(X_test)\n",
    "cm_test = confusion_matrix(y_test, y_test_pred)\n",
    "\n",
    "sns.heatmap(cm_test.T, square=True, annot=True, fmt='d', cbar=False,\n",
    "            xticklabels= np.unique(y_test),\n",
    "            yticklabels= np.unique(y_test_pred))\n",
    "plt.xlabel('true label')\n",
    "plt.ylabel('predicted label');\n",
    "plt.title('Confusion Matrix DT - Test Set')\n",
    "plt.show()"
   ]
  },
  {
   "cell_type": "markdown",
   "metadata": {
    "id": "2CFMZLrlgU6M"
   },
   "source": [
    "## 2.0.0 Features Selection by variance"
   ]
  },
  {
   "cell_type": "code",
   "execution_count": 50,
   "metadata": {},
   "outputs": [
    {
     "name": "stdout",
     "output_type": "stream",
     "text": [
      "After feature selection by variance, from 60483 features we left 4 features\n"
     ]
    }
   ],
   "source": [
    "def select_f_by_variance(X, threshold):\n",
    "    from sklearn.feature_selection import VarianceThreshold\n",
    "    selector = VarianceThreshold(threshold)\n",
    "    selector.fit(X)\n",
    "    X.columns[selector.get_support()]\n",
    "\n",
    "    X_n = X[X.columns[selector.get_support()]]\n",
    "    return X_n\n",
    "X_var = select_f_by_variance(X, 500)\n",
    "\n",
    "print(\"After feature selection by variance, from 60483 features we left %i features\"%(X_var.shape[1]))"
   ]
  },
  {
   "cell_type": "markdown",
   "metadata": {
    "id": "jeHxlxiRjmm1"
   },
   "source": [
    "## Spilitting the data set"
   ]
  },
  {
   "cell_type": "code",
   "execution_count": 51,
   "metadata": {
    "colab": {
     "base_uri": "https://localhost:8080/"
    },
    "id": "GANFT-D7jHNx",
    "outputId": "a0487620-1d59-4f6f-d720-88799cca649e"
   },
   "outputs": [
    {
     "name": "stdout",
     "output_type": "stream",
     "text": [
      "Train:  (873, 29)\n",
      "Test:  (292, 29)\n"
     ]
    }
   ],
   "source": [
    "from sklearn.model_selection import train_test_split\n",
    "\n",
    "X_train, X_test, y_train, y_test = train_test_split(X_pca, y,random_state=15)\n",
    "\n",
    "print('Train: ', X_train.shape)\n",
    "print('Test: ', X_test.shape)"
   ]
  },
  {
   "cell_type": "code",
   "execution_count": 129,
   "metadata": {
    "colab": {
     "base_uri": "https://localhost:8080/",
     "height": 351
    },
    "id": "tkHE1ST6dnQ4",
    "outputId": "24f2fefe-5795-49ad-a2cd-e5221ad4793a",
    "scrolled": true
   },
   "outputs": [
    {
     "name": "stdout",
     "output_type": "stream",
     "text": [
      "1    522\n",
      "2    210\n",
      "0    141\n",
      "Name: tumor_stage, dtype: int64\n",
      "[1, 2, 0]\n"
     ]
    },
    {
     "data": {
      "image/png": "[encoded data removed]",
      "text/plain": [
       "<Figure size 432x288 with 1 Axes>"
      ]
     },
     "metadata": {},
     "output_type": "display_data"
    }
   ],
   "source": [
    "def show_values(y):\n",
    "  ss = y.value_counts()\n",
    "  print(ss)\n",
    "  dd = list(ss.index)\n",
    "  print(dd)\n",
    "\n",
    "  import matplotlib.pyplot as plt\n",
    "  plt.bar(x=[1,2,3], height=ss, tick_label = dd)\n",
    "  plt.show()\n",
    "show_values(y_train)\n"
   ]
  },
  {
   "cell_type": "markdown",
   "metadata": {
    "id": "_kkAFsYctZam"
   },
   "source": [
    "## 1.1.0 Oversampling"
   ]
  },
  {
   "cell_type": "code",
   "execution_count": 130,
   "metadata": {
    "colab": {
     "base_uri": "https://localhost:8080/",
     "height": 580
    },
    "id": "vWxjMV068sIl",
    "outputId": "ed856e7b-cd87-4243-d66c-024d10876362",
    "scrolled": true
   },
   "outputs": [
    {
     "data": {
      "image/png": "[encoded data removed]",
      "text/plain": [
       "<Figure size 1800x720 with 2 Axes>"
      ]
     },
     "metadata": {},
     "output_type": "display_data"
    }
   ],
   "source": [
    "def apply_oversampling(X, y):\n",
    "  from imblearn.over_sampling import SMOTE\n",
    "  from matplotlib import pyplot as plt\n",
    "\n",
    "  X_class = X\n",
    "\n",
    "  fig, axs = plt.subplots(1,2, figsize=(25,10))\n",
    "  pd.Series(y_train).value_counts().plot.bar(ax = axs[0]).title.set_text('Before SMOTE')\n",
    "\n",
    "  smote = SMOTE(random_state = 101)\n",
    "  X_class, label_cat = smote.fit_resample(X_class, y)\n",
    "\n",
    "  pd.Series(label_cat).value_counts().plot.bar(ax = axs[1]).title.set_text('After SMOTE')\n",
    "\n",
    "  return X_class, label_cat\n",
    "\n",
    "X_train_1, y_train_1 = apply_oversampling(X_train, y_train)"
   ]
  },
  {
   "cell_type": "markdown",
   "metadata": {
    "id": "pe04cQer2ijd"
   },
   "source": [
    "# Data Clasification"
   ]
  },
  {
   "cell_type": "markdown",
   "metadata": {
    "id": "AjiArCYzSN0c"
   },
   "source": [
    "## 2.1.1. NN"
   ]
  },
  {
   "cell_type": "code",
   "execution_count": 131,
   "metadata": {
    "colab": {
     "base_uri": "https://localhost:8080/"
    },
    "id": "p5YtcSliSQ7Z",
    "outputId": "e28b5a02-1f9c-4fee-8a85-1d322a647c11"
   },
   "outputs": [
    {
     "data": {
      "text/plain": [
       "GridSearchCV(cv=10, estimator=MLPClassifier(max_iter=300, random_state=1),\n",
       "             n_jobs=5,\n",
       "             param_grid={'activation': ['logistic', 'relu'],\n",
       "                         'alpha': [0.0001, 0.001]},\n",
       "             refit='accuracy', return_train_score=True,\n",
       "             scoring={'accuracy': make_scorer(accuracy_score),\n",
       "                      'precision': make_scorer(precision_score, average=micro),\n",
       "                      'recall': make_scorer(recall_score, average=micro)})"
      ]
     },
     "execution_count": 131,
     "metadata": {},
     "output_type": "execute_result"
    }
   ],
   "source": [
    "from sklearn.neural_network import MLPClassifier\n",
    "from sklearn.model_selection import GridSearchCV\n",
    "from sklearn.metrics import precision_score\n",
    "from sklearn.metrics import accuracy_score\n",
    "from sklearn.metrics import recall_score\n",
    "from sklearn.metrics import make_scorer\n",
    "\n",
    "\n",
    "param_grid = {'activation': ['logistic', 'relu'],'alpha':[0.0001,0.001]}\n",
    "scores= {'accuracy':make_scorer(accuracy_score),'precision':make_scorer(precision_score,average='micro'),\n",
    "         'recall':make_scorer(recall_score,average='micro')}\n",
    "\n",
    "neu_net = MLPClassifier(random_state=1, max_iter=300)\n",
    "clf_nn = GridSearchCV(neu_net, param_grid,cv=10,scoring=scores,\n",
    "                       refit='accuracy', return_train_score=True,n_jobs=5)\n",
    "clf_nn.fit(X_train_1, y_train_1)"
   ]
  },
  {
   "cell_type": "code",
   "execution_count": 132,
   "metadata": {
    "colab": {
     "base_uri": "https://localhost:8080/"
    },
    "id": "23-4b6jGk69W",
    "outputId": "e848433b-386b-4bcb-a972-304b7ef3425a"
   },
   "outputs": [
    {
     "name": "stdout",
     "output_type": "stream",
     "text": [
      "{'activation': 'logistic', 'alpha': 0.001}\n"
     ]
    }
   ],
   "source": [
    "print(clf_nn.best_params_)"
   ]
  },
  {
   "cell_type": "code",
   "execution_count": 133,
   "metadata": {
    "colab": {
     "base_uri": "https://localhost:8080/",
     "height": 397
    },
    "id": "0fnAD6bhlAGt",
    "outputId": "f39aa523-c84d-4c99-8bd8-e555f756888c"
   },
   "outputs": [
    {
     "data": {
      "text/html": [
       "<div>\n",
       "<style scoped>\n",
       "    .dataframe tbody tr th:only-of-type {\n",
       "        vertical-align: middle;\n",
       "    }\n",
       "\n",
       "    .dataframe tbody tr th {\n",
       "        vertical-align: top;\n",
       "    }\n",
       "\n",
       "    .dataframe thead th {\n",
       "        text-align: right;\n",
       "    }\n",
       "</style>\n",
       "<table border=\"1\" class=\"dataframe\">\n",
       "  <thead>\n",
       "    <tr style=\"text-align: right;\">\n",
       "      <th></th>\n",
       "      <th>mean_fit_time</th>\n",
       "      <th>params</th>\n",
       "      <th>mean_test_accuracy</th>\n",
       "      <th>std_test_accuracy</th>\n",
       "      <th>rank_test_accuracy</th>\n",
       "      <th>mean_test_precision</th>\n",
       "      <th>std_test_precision</th>\n",
       "      <th>mean_test_recall</th>\n",
       "      <th>std_test_recall</th>\n",
       "    </tr>\n",
       "  </thead>\n",
       "  <tbody>\n",
       "    <tr>\n",
       "      <th>1</th>\n",
       "      <td>5.788394</td>\n",
       "      <td>{'activation': 'logistic', 'alpha': 0.001}</td>\n",
       "      <td>0.804675</td>\n",
       "      <td>0.034661</td>\n",
       "      <td>1</td>\n",
       "      <td>0.804675</td>\n",
       "      <td>0.034661</td>\n",
       "      <td>0.804675</td>\n",
       "      <td>0.034661</td>\n",
       "    </tr>\n",
       "    <tr>\n",
       "      <th>0</th>\n",
       "      <td>5.469643</td>\n",
       "      <td>{'activation': 'logistic', 'alpha': 0.0001}</td>\n",
       "      <td>0.804038</td>\n",
       "      <td>0.034869</td>\n",
       "      <td>2</td>\n",
       "      <td>0.804038</td>\n",
       "      <td>0.034869</td>\n",
       "      <td>0.804038</td>\n",
       "      <td>0.034869</td>\n",
       "    </tr>\n",
       "    <tr>\n",
       "      <th>2</th>\n",
       "      <td>3.171359</td>\n",
       "      <td>{'activation': 'relu', 'alpha': 0.0001}</td>\n",
       "      <td>0.797689</td>\n",
       "      <td>0.050945</td>\n",
       "      <td>3</td>\n",
       "      <td>0.797689</td>\n",
       "      <td>0.050945</td>\n",
       "      <td>0.797689</td>\n",
       "      <td>0.050945</td>\n",
       "    </tr>\n",
       "    <tr>\n",
       "      <th>3</th>\n",
       "      <td>3.104466</td>\n",
       "      <td>{'activation': 'relu', 'alpha': 0.001}</td>\n",
       "      <td>0.797689</td>\n",
       "      <td>0.050945</td>\n",
       "      <td>3</td>\n",
       "      <td>0.797689</td>\n",
       "      <td>0.050945</td>\n",
       "      <td>0.797689</td>\n",
       "      <td>0.050945</td>\n",
       "    </tr>\n",
       "  </tbody>\n",
       "</table>\n",
       "</div>"
      ],
      "text/plain": [
       "   mean_fit_time                                       params  \\\n",
       "1       5.788394   {'activation': 'logistic', 'alpha': 0.001}   \n",
       "0       5.469643  {'activation': 'logistic', 'alpha': 0.0001}   \n",
       "2       3.171359      {'activation': 'relu', 'alpha': 0.0001}   \n",
       "3       3.104466       {'activation': 'relu', 'alpha': 0.001}   \n",
       "\n",
       "   mean_test_accuracy  std_test_accuracy  rank_test_accuracy  \\\n",
       "1            0.804675           0.034661                   1   \n",
       "0            0.804038           0.034869                   2   \n",
       "2            0.797689           0.050945                   3   \n",
       "3            0.797689           0.050945                   3   \n",
       "\n",
       "   mean_test_precision  std_test_precision  mean_test_recall  std_test_recall  \n",
       "1             0.804675            0.034661          0.804675         0.034661  \n",
       "0             0.804038            0.034869          0.804038         0.034869  \n",
       "2             0.797689            0.050945          0.797689         0.050945  \n",
       "3             0.797689            0.050945          0.797689         0.050945  "
      ]
     },
     "execution_count": 133,
     "metadata": {},
     "output_type": "execute_result"
    }
   ],
   "source": [
    "df = pd.DataFrame(clf_nn.cv_results_)\n",
    "df.sort_values(by='rank_test_accuracy')[['mean_fit_time','params','mean_test_accuracy','std_test_accuracy','rank_test_accuracy',\n",
    "                                         'mean_test_precision','std_test_precision','mean_test_recall','std_test_recall']]"
   ]
  },
  {
   "cell_type": "code",
   "execution_count": 134,
   "metadata": {
    "colab": {
     "base_uri": "https://localhost:8080/",
     "height": 353
    },
    "id": "WhezDEt0lDtt",
    "outputId": "231ad9f6-6bd4-49f2-b744-8ccde2ab2789"
   },
   "outputs": [
    {
     "data": {
      "image/png": "[encoded data removed]",
      "text/plain": [
       "<Figure size 432x288 with 1 Axes>"
      ]
     },
     "metadata": {},
     "output_type": "display_data"
    },
    {
     "name": "stdout",
     "output_type": "stream",
     "text": [
      "Precision: 0.390\n",
      "Recall: 0.390\n",
      "Accuracy: 0.390\n"
     ]
    }
   ],
   "source": [
    "%matplotlib inline\n",
    "import seaborn as sns; sns.set()\n",
    "from sklearn.metrics import confusion_matrix\n",
    "import matplotlib.pyplot as plt\n",
    "import numpy as np\n",
    "\n",
    "y_test_pred = clf_nn.predict(X_test)\n",
    "cm_test = confusion_matrix(y_test, y_test_pred)\n",
    "\n",
    "sns.heatmap(cm_test.T, square=True, annot=True, fmt='d', cbar=False,\n",
    "            xticklabels= np.unique(y_test),\n",
    "            yticklabels= np.unique(y_test_pred))\n",
    "plt.xlabel('true label')\n",
    "plt.ylabel('predicted label');\n",
    "plt.title('Confusion Matrix DT - Test Set')\n",
    "plt.show()\n",
    "\n",
    "print('Precision: %.3f' %(precision_score(y_test, y_test_pred,average='micro')))\n",
    "print('Recall: %.3f' %(recall_score(y_test, y_test_pred,average='micro')))\n",
    "print('Accuracy: %.3f' %(accuracy_score(y_test,y_test_pred)))"
   ]
  },
  {
   "cell_type": "markdown",
   "metadata": {
    "id": "JFAy60UdJij3"
   },
   "source": [
    "## 2.1.2. Tree model"
   ]
  },
  {
   "cell_type": "code",
   "execution_count": 135,
   "metadata": {
    "colab": {
     "base_uri": "https://localhost:8080/"
    },
    "id": "oaYqCTJmJhHI",
    "outputId": "db1d8917-953b-4077-b4c6-30ed6aa4757c"
   },
   "outputs": [
    {
     "name": "stdout",
     "output_type": "stream",
     "text": [
      "{'criterion': 'entropy', 'max_depth': 15}\n"
     ]
    }
   ],
   "source": [
    "from sklearn.model_selection import GridSearchCV\n",
    "from sklearn.tree import DecisionTreeClassifier\n",
    "from sklearn.metrics import precision_score\n",
    "from sklearn.metrics import accuracy_score\n",
    "from sklearn.metrics import recall_score\n",
    "from sklearn.metrics import make_scorer\n",
    "\n",
    "\n",
    "tree_para = {'criterion':['gini','entropy'],'max_depth':[4,6,8,10,12,15,17,20]}\n",
    "scores= {'accuracy':make_scorer(accuracy_score),'precision':make_scorer(precision_score,average='micro'),\n",
    "         'recall':make_scorer(recall_score,average='micro')}\n",
    "\n",
    "clf_tree = GridSearchCV(DecisionTreeClassifier(random_state=15), tree_para, cv=10,\n",
    "                        scoring=scores,refit='accuracy', return_train_score=True,n_jobs=4)\n",
    "clf_tree = clf_tree.fit(X_train_1, y_train_1)\n",
    "print(clf_tree.best_params_)"
   ]
  },
  {
   "cell_type": "code",
   "execution_count": 136,
   "metadata": {
    "colab": {
     "base_uri": "https://localhost:8080/",
     "height": 561
    },
    "id": "XzORkH-Sqlb4",
    "outputId": "6ee3df72-71e8-4101-bde1-86b05ad9b26f"
   },
   "outputs": [
    {
     "data": {
      "text/html": [
       "<div>\n",
       "<style scoped>\n",
       "    .dataframe tbody tr th:only-of-type {\n",
       "        vertical-align: middle;\n",
       "    }\n",
       "\n",
       "    .dataframe tbody tr th {\n",
       "        vertical-align: top;\n",
       "    }\n",
       "\n",
       "    .dataframe thead th {\n",
       "        text-align: right;\n",
       "    }\n",
       "</style>\n",
       "<table border=\"1\" class=\"dataframe\">\n",
       "  <thead>\n",
       "    <tr style=\"text-align: right;\">\n",
       "      <th></th>\n",
       "      <th>mean_fit_time</th>\n",
       "      <th>params</th>\n",
       "      <th>mean_test_accuracy</th>\n",
       "      <th>std_test_accuracy</th>\n",
       "      <th>rank_test_accuracy</th>\n",
       "      <th>mean_test_precision</th>\n",
       "      <th>std_test_precision</th>\n",
       "      <th>mean_test_recall</th>\n",
       "      <th>std_test_recall</th>\n",
       "    </tr>\n",
       "  </thead>\n",
       "  <tbody>\n",
       "    <tr>\n",
       "      <th>13</th>\n",
       "      <td>0.797402</td>\n",
       "      <td>{'criterion': 'entropy', 'max_depth': 15}</td>\n",
       "      <td>0.655279</td>\n",
       "      <td>0.067756</td>\n",
       "      <td>1</td>\n",
       "      <td>0.655279</td>\n",
       "      <td>0.067756</td>\n",
       "      <td>0.655279</td>\n",
       "      <td>0.067756</td>\n",
       "    </tr>\n",
       "    <tr>\n",
       "      <th>14</th>\n",
       "      <td>0.796825</td>\n",
       "      <td>{'criterion': 'entropy', 'max_depth': 17}</td>\n",
       "      <td>0.650821</td>\n",
       "      <td>0.066743</td>\n",
       "      <td>2</td>\n",
       "      <td>0.650821</td>\n",
       "      <td>0.066743</td>\n",
       "      <td>0.650821</td>\n",
       "      <td>0.066743</td>\n",
       "    </tr>\n",
       "    <tr>\n",
       "      <th>15</th>\n",
       "      <td>0.792621</td>\n",
       "      <td>{'criterion': 'entropy', 'max_depth': 20}</td>\n",
       "      <td>0.650821</td>\n",
       "      <td>0.066743</td>\n",
       "      <td>2</td>\n",
       "      <td>0.650821</td>\n",
       "      <td>0.066743</td>\n",
       "      <td>0.650821</td>\n",
       "      <td>0.066743</td>\n",
       "    </tr>\n",
       "    <tr>\n",
       "      <th>12</th>\n",
       "      <td>0.790133</td>\n",
       "      <td>{'criterion': 'entropy', 'max_depth': 12}</td>\n",
       "      <td>0.648273</td>\n",
       "      <td>0.072226</td>\n",
       "      <td>4</td>\n",
       "      <td>0.648273</td>\n",
       "      <td>0.072226</td>\n",
       "      <td>0.648273</td>\n",
       "      <td>0.072226</td>\n",
       "    </tr>\n",
       "    <tr>\n",
       "      <th>6</th>\n",
       "      <td>0.645684</td>\n",
       "      <td>{'criterion': 'gini', 'max_depth': 17}</td>\n",
       "      <td>0.647607</td>\n",
       "      <td>0.081889</td>\n",
       "      <td>5</td>\n",
       "      <td>0.647607</td>\n",
       "      <td>0.081889</td>\n",
       "      <td>0.647607</td>\n",
       "      <td>0.081889</td>\n",
       "    </tr>\n",
       "    <tr>\n",
       "      <th>7</th>\n",
       "      <td>0.660708</td>\n",
       "      <td>{'criterion': 'gini', 'max_depth': 20}</td>\n",
       "      <td>0.644406</td>\n",
       "      <td>0.078597</td>\n",
       "      <td>6</td>\n",
       "      <td>0.644406</td>\n",
       "      <td>0.078597</td>\n",
       "      <td>0.644406</td>\n",
       "      <td>0.078597</td>\n",
       "    </tr>\n",
       "    <tr>\n",
       "      <th>11</th>\n",
       "      <td>0.765384</td>\n",
       "      <td>{'criterion': 'entropy', 'max_depth': 10}</td>\n",
       "      <td>0.640577</td>\n",
       "      <td>0.052175</td>\n",
       "      <td>7</td>\n",
       "      <td>0.640577</td>\n",
       "      <td>0.052175</td>\n",
       "      <td>0.640577</td>\n",
       "      <td>0.052175</td>\n",
       "    </tr>\n",
       "    <tr>\n",
       "      <th>5</th>\n",
       "      <td>0.632723</td>\n",
       "      <td>{'criterion': 'gini', 'max_depth': 15}</td>\n",
       "      <td>0.637404</td>\n",
       "      <td>0.074361</td>\n",
       "      <td>8</td>\n",
       "      <td>0.637404</td>\n",
       "      <td>0.074361</td>\n",
       "      <td>0.637404</td>\n",
       "      <td>0.074361</td>\n",
       "    </tr>\n",
       "    <tr>\n",
       "      <th>4</th>\n",
       "      <td>0.591465</td>\n",
       "      <td>{'criterion': 'gini', 'max_depth': 12}</td>\n",
       "      <td>0.636142</td>\n",
       "      <td>0.076938</td>\n",
       "      <td>9</td>\n",
       "      <td>0.636142</td>\n",
       "      <td>0.076938</td>\n",
       "      <td>0.636142</td>\n",
       "      <td>0.076938</td>\n",
       "    </tr>\n",
       "    <tr>\n",
       "      <th>3</th>\n",
       "      <td>0.569947</td>\n",
       "      <td>{'criterion': 'gini', 'max_depth': 10}</td>\n",
       "      <td>0.625931</td>\n",
       "      <td>0.069287</td>\n",
       "      <td>10</td>\n",
       "      <td>0.625931</td>\n",
       "      <td>0.069287</td>\n",
       "      <td>0.625931</td>\n",
       "      <td>0.069287</td>\n",
       "    </tr>\n",
       "    <tr>\n",
       "      <th>10</th>\n",
       "      <td>0.689809</td>\n",
       "      <td>{'criterion': 'entropy', 'max_depth': 8}</td>\n",
       "      <td>0.613764</td>\n",
       "      <td>0.057519</td>\n",
       "      <td>11</td>\n",
       "      <td>0.613764</td>\n",
       "      <td>0.057519</td>\n",
       "      <td>0.613764</td>\n",
       "      <td>0.057519</td>\n",
       "    </tr>\n",
       "    <tr>\n",
       "      <th>2</th>\n",
       "      <td>0.509577</td>\n",
       "      <td>{'criterion': 'gini', 'max_depth': 8}</td>\n",
       "      <td>0.608684</td>\n",
       "      <td>0.079932</td>\n",
       "      <td>12</td>\n",
       "      <td>0.608684</td>\n",
       "      <td>0.079932</td>\n",
       "      <td>0.608684</td>\n",
       "      <td>0.079932</td>\n",
       "    </tr>\n",
       "    <tr>\n",
       "      <th>9</th>\n",
       "      <td>0.567994</td>\n",
       "      <td>{'criterion': 'entropy', 'max_depth': 6}</td>\n",
       "      <td>0.558819</td>\n",
       "      <td>0.055608</td>\n",
       "      <td>13</td>\n",
       "      <td>0.558819</td>\n",
       "      <td>0.055608</td>\n",
       "      <td>0.558819</td>\n",
       "      <td>0.055608</td>\n",
       "    </tr>\n",
       "    <tr>\n",
       "      <th>1</th>\n",
       "      <td>0.407050</td>\n",
       "      <td>{'criterion': 'gini', 'max_depth': 6}</td>\n",
       "      <td>0.558215</td>\n",
       "      <td>0.074684</td>\n",
       "      <td>14</td>\n",
       "      <td>0.558215</td>\n",
       "      <td>0.074684</td>\n",
       "      <td>0.558215</td>\n",
       "      <td>0.074684</td>\n",
       "    </tr>\n",
       "    <tr>\n",
       "      <th>0</th>\n",
       "      <td>0.291367</td>\n",
       "      <td>{'criterion': 'gini', 'max_depth': 4}</td>\n",
       "      <td>0.503299</td>\n",
       "      <td>0.057625</td>\n",
       "      <td>15</td>\n",
       "      <td>0.503299</td>\n",
       "      <td>0.057625</td>\n",
       "      <td>0.503299</td>\n",
       "      <td>0.057625</td>\n",
       "    </tr>\n",
       "    <tr>\n",
       "      <th>8</th>\n",
       "      <td>0.400636</td>\n",
       "      <td>{'criterion': 'entropy', 'max_depth': 4}</td>\n",
       "      <td>0.494941</td>\n",
       "      <td>0.041150</td>\n",
       "      <td>16</td>\n",
       "      <td>0.494941</td>\n",
       "      <td>0.041150</td>\n",
       "      <td>0.494941</td>\n",
       "      <td>0.041150</td>\n",
       "    </tr>\n",
       "  </tbody>\n",
       "</table>\n",
       "</div>"
      ],
      "text/plain": [
       "    mean_fit_time                                     params  \\\n",
       "13       0.797402  {'criterion': 'entropy', 'max_depth': 15}   \n",
       "14       0.796825  {'criterion': 'entropy', 'max_depth': 17}   \n",
       "15       0.792621  {'criterion': 'entropy', 'max_depth': 20}   \n",
       "12       0.790133  {'criterion': 'entropy', 'max_depth': 12}   \n",
       "6        0.645684     {'criterion': 'gini', 'max_depth': 17}   \n",
       "7        0.660708     {'criterion': 'gini', 'max_depth': 20}   \n",
       "11       0.765384  {'criterion': 'entropy', 'max_depth': 10}   \n",
       "5        0.632723     {'criterion': 'gini', 'max_depth': 15}   \n",
       "4        0.591465     {'criterion': 'gini', 'max_depth': 12}   \n",
       "3        0.569947     {'criterion': 'gini', 'max_depth': 10}   \n",
       "10       0.689809   {'criterion': 'entropy', 'max_depth': 8}   \n",
       "2        0.509577      {'criterion': 'gini', 'max_depth': 8}   \n",
       "9        0.567994   {'criterion': 'entropy', 'max_depth': 6}   \n",
       "1        0.407050      {'criterion': 'gini', 'max_depth': 6}   \n",
       "0        0.291367      {'criterion': 'gini', 'max_depth': 4}   \n",
       "8        0.400636   {'criterion': 'entropy', 'max_depth': 4}   \n",
       "\n",
       "    mean_test_accuracy  std_test_accuracy  rank_test_accuracy  \\\n",
       "13            0.655279           0.067756                   1   \n",
       "14            0.650821           0.066743                   2   \n",
       "15            0.650821           0.066743                   2   \n",
       "12            0.648273           0.072226                   4   \n",
       "6             0.647607           0.081889                   5   \n",
       "7             0.644406           0.078597                   6   \n",
       "11            0.640577           0.052175                   7   \n",
       "5             0.637404           0.074361                   8   \n",
       "4             0.636142           0.076938                   9   \n",
       "3             0.625931           0.069287                  10   \n",
       "10            0.613764           0.057519                  11   \n",
       "2             0.608684           0.079932                  12   \n",
       "9             0.558819           0.055608                  13   \n",
       "1             0.558215           0.074684                  14   \n",
       "0             0.503299           0.057625                  15   \n",
       "8             0.494941           0.041150                  16   \n",
       "\n",
       "    mean_test_precision  std_test_precision  mean_test_recall  std_test_recall  \n",
       "13             0.655279            0.067756          0.655279         0.067756  \n",
       "14             0.650821            0.066743          0.650821         0.066743  \n",
       "15             0.650821            0.066743          0.650821         0.066743  \n",
       "12             0.648273            0.072226          0.648273         0.072226  \n",
       "6              0.647607            0.081889          0.647607         0.081889  \n",
       "7              0.644406            0.078597          0.644406         0.078597  \n",
       "11             0.640577            0.052175          0.640577         0.052175  \n",
       "5              0.637404            0.074361          0.637404         0.074361  \n",
       "4              0.636142            0.076938          0.636142         0.076938  \n",
       "3              0.625931            0.069287          0.625931         0.069287  \n",
       "10             0.613764            0.057519          0.613764         0.057519  \n",
       "2              0.608684            0.079932          0.608684         0.079932  \n",
       "9              0.558819            0.055608          0.558819         0.055608  \n",
       "1              0.558215            0.074684          0.558215         0.074684  \n",
       "0              0.503299            0.057625          0.503299         0.057625  \n",
       "8              0.494941            0.041150          0.494941         0.041150  "
      ]
     },
     "execution_count": 136,
     "metadata": {},
     "output_type": "execute_result"
    }
   ],
   "source": [
    "df = pd.DataFrame(clf_tree.cv_results_)\n",
    "df.sort_values(by='rank_test_accuracy')[['mean_fit_time','params','mean_test_accuracy','std_test_accuracy','rank_test_accuracy',\n",
    "                                         'mean_test_precision','std_test_precision','mean_test_recall','std_test_recall']]"
   ]
  },
  {
   "cell_type": "code",
   "execution_count": 137,
   "metadata": {
    "colab": {
     "base_uri": "https://localhost:8080/",
     "height": 353
    },
    "id": "9v5_o2kSJmF9",
    "outputId": "714ec43c-770e-48db-aa83-0ebcb59c6e3c"
   },
   "outputs": [
    {
     "data": {
      "image/png": "[encoded data removed]",
      "text/plain": [
       "<Figure size 432x288 with 1 Axes>"
      ]
     },
     "metadata": {},
     "output_type": "display_data"
    },
    {
     "name": "stdout",
     "output_type": "stream",
     "text": [
      "Precision: 0.421\n",
      "Recall: 0.421\n",
      "Accuracy: 0.421\n"
     ]
    }
   ],
   "source": [
    "%matplotlib inline\n",
    "import seaborn as sns; sns.set()\n",
    "from sklearn.metrics import confusion_matrix\n",
    "import matplotlib.pyplot as plt\n",
    "import numpy as np\n",
    "\n",
    "\n",
    "y_test_pred = clf_tree.predict(X_test)\n",
    "cm_test = confusion_matrix(y_test, y_test_pred)\n",
    "\n",
    "sns.heatmap(cm_test.T, square=True, annot=True, fmt='d', cbar=False,\n",
    "            xticklabels= np.unique(y_test),\n",
    "            yticklabels= np.unique(y_test_pred))\n",
    "plt.xlabel('true label')\n",
    "plt.ylabel('predicted label');\n",
    "plt.title('Confusion Matrix DT - Test Set')\n",
    "plt.show()\n",
    "\n",
    "print('Precision: %.3f' %(precision_score(y_test, y_test_pred,average='micro')))\n",
    "print('Recall: %.3f' %(recall_score(y_test, y_test_pred,average='micro')))\n",
    "print('Accuracy: %.3f' %(accuracy_score(y_test,y_test_pred)))"
   ]
  },
  {
   "cell_type": "markdown",
   "metadata": {
    "id": "ZIaPEoz6Ti1Z"
   },
   "source": [
    "## 2.1.3. K Neighbours"
   ]
  },
  {
   "cell_type": "code",
   "execution_count": 139,
   "metadata": {
    "colab": {
     "base_uri": "https://localhost:8080/"
    },
    "id": "AwyIGd0AToMr",
    "outputId": "ef6f41c6-99bc-4a89-b4f0-7f1d3f9d823e"
   },
   "outputs": [
    {
     "name": "stdout",
     "output_type": "stream",
     "text": [
      "{'metric': 'euclidean', 'n_neighbors': 3}\n"
     ]
    }
   ],
   "source": [
    "from sklearn.neighbors import KNeighborsClassifier\n",
    "\n",
    "nn_para = {'n_neighbors':[3,6,9],\n",
    "          'metric':[\"euclidean\",\"manhattan\"]}\n",
    "scores= {'accuracy':make_scorer(accuracy_score),'precision':make_scorer(precision_score,average='micro'),\n",
    "         'recall':make_scorer(recall_score,average='micro')}\n",
    "\n",
    "clf_kn = GridSearchCV(KNeighborsClassifier(), nn_para, cv=10, scoring=scores,\n",
    "                       refit='accuracy', return_train_score=True,n_jobs=4)\n",
    "clf_kn = clf_kn.fit(X_train_1, y_train_1)\n",
    "print(clf_kn.best_params_)"
   ]
  },
  {
   "cell_type": "code",
   "execution_count": 140,
   "metadata": {
    "colab": {
     "base_uri": "https://localhost:8080/",
     "height": 561
    },
    "id": "seL-PlX5BFw_",
    "outputId": "b237bf42-8ec0-4150-bc61-383b528f11fc"
   },
   "outputs": [
    {
     "data": {
      "text/html": [
       "<div>\n",
       "<style scoped>\n",
       "    .dataframe tbody tr th:only-of-type {\n",
       "        vertical-align: middle;\n",
       "    }\n",
       "\n",
       "    .dataframe tbody tr th {\n",
       "        vertical-align: top;\n",
       "    }\n",
       "\n",
       "    .dataframe thead th {\n",
       "        text-align: right;\n",
       "    }\n",
       "</style>\n",
       "<table border=\"1\" class=\"dataframe\">\n",
       "  <thead>\n",
       "    <tr style=\"text-align: right;\">\n",
       "      <th></th>\n",
       "      <th>mean_fit_time</th>\n",
       "      <th>params</th>\n",
       "      <th>mean_test_accuracy</th>\n",
       "      <th>std_test_accuracy</th>\n",
       "      <th>rank_test_accuracy</th>\n",
       "      <th>mean_test_precision</th>\n",
       "      <th>std_test_precision</th>\n",
       "      <th>mean_test_recall</th>\n",
       "      <th>std_test_recall</th>\n",
       "    </tr>\n",
       "  </thead>\n",
       "  <tbody>\n",
       "    <tr>\n",
       "      <th>0</th>\n",
       "      <td>0.010657</td>\n",
       "      <td>{'metric': 'euclidean', 'n_neighbors': 3}</td>\n",
       "      <td>0.641863</td>\n",
       "      <td>0.047876</td>\n",
       "      <td>1</td>\n",
       "      <td>0.641863</td>\n",
       "      <td>0.047876</td>\n",
       "      <td>0.641863</td>\n",
       "      <td>0.047876</td>\n",
       "    </tr>\n",
       "    <tr>\n",
       "      <th>3</th>\n",
       "      <td>0.006493</td>\n",
       "      <td>{'metric': 'manhattan', 'n_neighbors': 3}</td>\n",
       "      <td>0.634179</td>\n",
       "      <td>0.041421</td>\n",
       "      <td>2</td>\n",
       "      <td>0.634179</td>\n",
       "      <td>0.041421</td>\n",
       "      <td>0.634179</td>\n",
       "      <td>0.041421</td>\n",
       "    </tr>\n",
       "    <tr>\n",
       "      <th>4</th>\n",
       "      <td>0.005544</td>\n",
       "      <td>{'metric': 'manhattan', 'n_neighbors': 6}</td>\n",
       "      <td>0.595264</td>\n",
       "      <td>0.056955</td>\n",
       "      <td>3</td>\n",
       "      <td>0.595264</td>\n",
       "      <td>0.056955</td>\n",
       "      <td>0.595264</td>\n",
       "      <td>0.056955</td>\n",
       "    </tr>\n",
       "    <tr>\n",
       "      <th>1</th>\n",
       "      <td>0.007732</td>\n",
       "      <td>{'metric': 'euclidean', 'n_neighbors': 6}</td>\n",
       "      <td>0.592700</td>\n",
       "      <td>0.052373</td>\n",
       "      <td>4</td>\n",
       "      <td>0.592700</td>\n",
       "      <td>0.052373</td>\n",
       "      <td>0.592700</td>\n",
       "      <td>0.052373</td>\n",
       "    </tr>\n",
       "    <tr>\n",
       "      <th>5</th>\n",
       "      <td>0.005730</td>\n",
       "      <td>{'metric': 'manhattan', 'n_neighbors': 9}</td>\n",
       "      <td>0.575478</td>\n",
       "      <td>0.066601</td>\n",
       "      <td>5</td>\n",
       "      <td>0.575478</td>\n",
       "      <td>0.066601</td>\n",
       "      <td>0.575478</td>\n",
       "      <td>0.066601</td>\n",
       "    </tr>\n",
       "    <tr>\n",
       "      <th>2</th>\n",
       "      <td>0.008512</td>\n",
       "      <td>{'metric': 'euclidean', 'n_neighbors': 9}</td>\n",
       "      <td>0.571619</td>\n",
       "      <td>0.053811</td>\n",
       "      <td>6</td>\n",
       "      <td>0.571619</td>\n",
       "      <td>0.053811</td>\n",
       "      <td>0.571619</td>\n",
       "      <td>0.053811</td>\n",
       "    </tr>\n",
       "  </tbody>\n",
       "</table>\n",
       "</div>"
      ],
      "text/plain": [
       "   mean_fit_time                                     params  \\\n",
       "0       0.010657  {'metric': 'euclidean', 'n_neighbors': 3}   \n",
       "3       0.006493  {'metric': 'manhattan', 'n_neighbors': 3}   \n",
       "4       0.005544  {'metric': 'manhattan', 'n_neighbors': 6}   \n",
       "1       0.007732  {'metric': 'euclidean', 'n_neighbors': 6}   \n",
       "5       0.005730  {'metric': 'manhattan', 'n_neighbors': 9}   \n",
       "2       0.008512  {'metric': 'euclidean', 'n_neighbors': 9}   \n",
       "\n",
       "   mean_test_accuracy  std_test_accuracy  rank_test_accuracy  \\\n",
       "0            0.641863           0.047876                   1   \n",
       "3            0.634179           0.041421                   2   \n",
       "4            0.595264           0.056955                   3   \n",
       "1            0.592700           0.052373                   4   \n",
       "5            0.575478           0.066601                   5   \n",
       "2            0.571619           0.053811                   6   \n",
       "\n",
       "   mean_test_precision  std_test_precision  mean_test_recall  std_test_recall  \n",
       "0             0.641863            0.047876          0.641863         0.047876  \n",
       "3             0.634179            0.041421          0.634179         0.041421  \n",
       "4             0.595264            0.056955          0.595264         0.056955  \n",
       "1             0.592700            0.052373          0.592700         0.052373  \n",
       "5             0.575478            0.066601          0.575478         0.066601  \n",
       "2             0.571619            0.053811          0.571619         0.053811  "
      ]
     },
     "execution_count": 140,
     "metadata": {},
     "output_type": "execute_result"
    }
   ],
   "source": [
    "df = pd.DataFrame(clf_kn.cv_results_)\n",
    "df.sort_values(by='rank_test_accuracy')[['mean_fit_time','params','mean_test_accuracy','std_test_accuracy','rank_test_accuracy',\n",
    "                                         'mean_test_precision','std_test_precision','mean_test_recall','std_test_recall']]"
   ]
  },
  {
   "cell_type": "code",
   "execution_count": 141,
   "metadata": {
    "colab": {
     "base_uri": "https://localhost:8080/",
     "height": 353
    },
    "id": "pxS5RbyEBIik",
    "outputId": "7b02b7e7-a8a3-4b27-c67a-a6c701407d6e"
   },
   "outputs": [
    {
     "data": {
      "image/png": "[encoded data removed]",
      "text/plain": [
       "<Figure size 432x288 with 1 Axes>"
      ]
     },
     "metadata": {},
     "output_type": "display_data"
    },
    {
     "name": "stdout",
     "output_type": "stream",
     "text": [
      "Precision: 0.421\n",
      "Recall: 0.421\n",
      "Accuracy: 0.421\n"
     ]
    }
   ],
   "source": [
    "y_test_pred_gnb = clf_kn.predict(X_test)\n",
    "cm_test = confusion_matrix(y_test, y_test_pred_gnb)\n",
    "\n",
    "sns.heatmap(cm_test.T, square=True, annot=True, fmt='d', cbar=False,\n",
    "            xticklabels= np.unique(y_test),\n",
    "            yticklabels= np.unique(y_test_pred_gnb))\n",
    "plt.xlabel('true label')\n",
    "plt.ylabel('predicted label');\n",
    "plt.title('Confusion Matrix Naive Bayes - Test Set')\n",
    "plt.show()\n",
    "\n",
    "print('Precision: %.3f' %(precision_score(y_test, y_test_pred,average='micro')))\n",
    "print('Recall: %.3f' %(recall_score(y_test, y_test_pred,average='micro')))\n",
    "print('Accuracy: %.3f' %(accuracy_score(y_test,y_test_pred)))"
   ]
  },
  {
   "cell_type": "markdown",
   "metadata": {
    "id": "WkaY1TdPBWq5"
   },
   "source": [
    "## 2.1.4. Support Vector Machine"
   ]
  },
  {
   "cell_type": "code",
   "execution_count": 142,
   "metadata": {
    "colab": {
     "base_uri": "https://localhost:8080/",
     "height": 394
    },
    "id": "8pdapudCBY81",
    "outputId": "2b7d6d99-b564-4bec-967f-302b2c3b0b9d"
   },
   "outputs": [
    {
     "name": "stderr",
     "output_type": "stream",
     "text": [
      "/home/bnt4me/.local/lib/python3.8/site-packages/sklearn/svm/_base.py:1199: ConvergenceWarning: Liblinear failed to converge, increase the number of iterations.\n",
      "  warnings.warn(\n"
     ]
    },
    {
     "data": {
      "text/plain": [
       "GridSearchCV(cv=10, estimator=LinearSVC(random_state=10), n_jobs=5,\n",
       "             param_grid={'C': [1, 2, 3, 5, 10, 15, 20, 30, 40, 60, 90, 320],\n",
       "                         'penalty': ['l2']},\n",
       "             refit='accuracy', return_train_score=True,\n",
       "             scoring={'accuracy': make_scorer(accuracy_score),\n",
       "                      'precision': make_scorer(precision_score, average=micro),\n",
       "                      'recall': make_scorer(recall_score, average=micro)})"
      ]
     },
     "execution_count": 142,
     "metadata": {},
     "output_type": "execute_result"
    }
   ],
   "source": [
    "from sklearn.model_selection import GridSearchCV\n",
    "from sklearn import svm\n",
    "from sklearn.model_selection import cross_val_score\n",
    "from sklearn.metrics import precision_score\n",
    "from sklearn.metrics import accuracy_score\n",
    "from sklearn.metrics import recall_score\n",
    "from sklearn.metrics import make_scorer\n",
    "\n",
    "param_grid =  {'penalty':['l2'],'C':[1,2,3,5,10,15,20,30,40,60,90, 320]}\n",
    "scores= {'accuracy':make_scorer(accuracy_score),'precision':make_scorer(precision_score,average='micro'),\n",
    "         'recall':make_scorer(recall_score,average='micro')}\n",
    "\n",
    "svc = svm.LinearSVC(random_state=10)\n",
    "clf_svc = GridSearchCV(svc, param_grid,cv=10,scoring=scores,\n",
    "                        refit='accuracy', return_train_score=True, n_jobs=5)\n",
    "clf_svc.fit(X_train_1, y_train_1) "
   ]
  },
  {
   "cell_type": "code",
   "execution_count": 143,
   "metadata": {
    "id": "Znx51o33BZIX"
   },
   "outputs": [
    {
     "name": "stdout",
     "output_type": "stream",
     "text": [
      "{'C': 40, 'penalty': 'l2'}\n"
     ]
    }
   ],
   "source": [
    "print(clf_svc.best_params_)"
   ]
  },
  {
   "cell_type": "code",
   "execution_count": 144,
   "metadata": {
    "id": "fpxVdnvyBZSM"
   },
   "outputs": [
    {
     "data": {
      "text/html": [
       "<div>\n",
       "<style scoped>\n",
       "    .dataframe tbody tr th:only-of-type {\n",
       "        vertical-align: middle;\n",
       "    }\n",
       "\n",
       "    .dataframe tbody tr th {\n",
       "        vertical-align: top;\n",
       "    }\n",
       "\n",
       "    .dataframe thead th {\n",
       "        text-align: right;\n",
       "    }\n",
       "</style>\n",
       "<table border=\"1\" class=\"dataframe\">\n",
       "  <thead>\n",
       "    <tr style=\"text-align: right;\">\n",
       "      <th></th>\n",
       "      <th>mean_fit_time</th>\n",
       "      <th>params</th>\n",
       "      <th>mean_test_accuracy</th>\n",
       "      <th>std_test_accuracy</th>\n",
       "      <th>rank_test_accuracy</th>\n",
       "      <th>mean_test_precision</th>\n",
       "      <th>std_test_precision</th>\n",
       "      <th>mean_test_recall</th>\n",
       "      <th>std_test_recall</th>\n",
       "    </tr>\n",
       "  </thead>\n",
       "  <tbody>\n",
       "    <tr>\n",
       "      <th>8</th>\n",
       "      <td>3.037798</td>\n",
       "      <td>{'C': 40, 'penalty': 'l2'}</td>\n",
       "      <td>0.763796</td>\n",
       "      <td>0.038931</td>\n",
       "      <td>1</td>\n",
       "      <td>0.763796</td>\n",
       "      <td>0.038931</td>\n",
       "      <td>0.763796</td>\n",
       "      <td>0.038931</td>\n",
       "    </tr>\n",
       "    <tr>\n",
       "      <th>10</th>\n",
       "      <td>3.234322</td>\n",
       "      <td>{'C': 90, 'penalty': 'l2'}</td>\n",
       "      <td>0.763796</td>\n",
       "      <td>0.038931</td>\n",
       "      <td>1</td>\n",
       "      <td>0.763796</td>\n",
       "      <td>0.038931</td>\n",
       "      <td>0.763796</td>\n",
       "      <td>0.038931</td>\n",
       "    </tr>\n",
       "    <tr>\n",
       "      <th>11</th>\n",
       "      <td>2.946505</td>\n",
       "      <td>{'C': 320, 'penalty': 'l2'}</td>\n",
       "      <td>0.763155</td>\n",
       "      <td>0.038995</td>\n",
       "      <td>3</td>\n",
       "      <td>0.763155</td>\n",
       "      <td>0.038995</td>\n",
       "      <td>0.763155</td>\n",
       "      <td>0.038995</td>\n",
       "    </tr>\n",
       "    <tr>\n",
       "      <th>7</th>\n",
       "      <td>3.009488</td>\n",
       "      <td>{'C': 30, 'penalty': 'l2'}</td>\n",
       "      <td>0.762522</td>\n",
       "      <td>0.038893</td>\n",
       "      <td>4</td>\n",
       "      <td>0.762522</td>\n",
       "      <td>0.038893</td>\n",
       "      <td>0.762522</td>\n",
       "      <td>0.038893</td>\n",
       "    </tr>\n",
       "    <tr>\n",
       "      <th>9</th>\n",
       "      <td>3.258892</td>\n",
       "      <td>{'C': 60, 'penalty': 'l2'}</td>\n",
       "      <td>0.762522</td>\n",
       "      <td>0.038893</td>\n",
       "      <td>4</td>\n",
       "      <td>0.762522</td>\n",
       "      <td>0.038893</td>\n",
       "      <td>0.762522</td>\n",
       "      <td>0.038893</td>\n",
       "    </tr>\n",
       "    <tr>\n",
       "      <th>3</th>\n",
       "      <td>3.111251</td>\n",
       "      <td>{'C': 5, 'penalty': 'l2'}</td>\n",
       "      <td>0.761886</td>\n",
       "      <td>0.036210</td>\n",
       "      <td>6</td>\n",
       "      <td>0.761886</td>\n",
       "      <td>0.036210</td>\n",
       "      <td>0.761886</td>\n",
       "      <td>0.036210</td>\n",
       "    </tr>\n",
       "    <tr>\n",
       "      <th>0</th>\n",
       "      <td>2.934155</td>\n",
       "      <td>{'C': 1, 'penalty': 'l2'}</td>\n",
       "      <td>0.761881</td>\n",
       "      <td>0.040569</td>\n",
       "      <td>7</td>\n",
       "      <td>0.761881</td>\n",
       "      <td>0.040569</td>\n",
       "      <td>0.761881</td>\n",
       "      <td>0.040569</td>\n",
       "    </tr>\n",
       "    <tr>\n",
       "      <th>1</th>\n",
       "      <td>2.913789</td>\n",
       "      <td>{'C': 2, 'penalty': 'l2'}</td>\n",
       "      <td>0.761881</td>\n",
       "      <td>0.039235</td>\n",
       "      <td>7</td>\n",
       "      <td>0.761881</td>\n",
       "      <td>0.039235</td>\n",
       "      <td>0.761881</td>\n",
       "      <td>0.039235</td>\n",
       "    </tr>\n",
       "    <tr>\n",
       "      <th>2</th>\n",
       "      <td>2.963850</td>\n",
       "      <td>{'C': 3, 'penalty': 'l2'}</td>\n",
       "      <td>0.761244</td>\n",
       "      <td>0.037564</td>\n",
       "      <td>9</td>\n",
       "      <td>0.761244</td>\n",
       "      <td>0.037564</td>\n",
       "      <td>0.761244</td>\n",
       "      <td>0.037564</td>\n",
       "    </tr>\n",
       "    <tr>\n",
       "      <th>5</th>\n",
       "      <td>3.224439</td>\n",
       "      <td>{'C': 15, 'penalty': 'l2'}</td>\n",
       "      <td>0.760608</td>\n",
       "      <td>0.036898</td>\n",
       "      <td>10</td>\n",
       "      <td>0.760608</td>\n",
       "      <td>0.036898</td>\n",
       "      <td>0.760608</td>\n",
       "      <td>0.036898</td>\n",
       "    </tr>\n",
       "    <tr>\n",
       "      <th>4</th>\n",
       "      <td>3.208627</td>\n",
       "      <td>{'C': 10, 'penalty': 'l2'}</td>\n",
       "      <td>0.760603</td>\n",
       "      <td>0.037240</td>\n",
       "      <td>11</td>\n",
       "      <td>0.760603</td>\n",
       "      <td>0.037240</td>\n",
       "      <td>0.760603</td>\n",
       "      <td>0.037240</td>\n",
       "    </tr>\n",
       "    <tr>\n",
       "      <th>6</th>\n",
       "      <td>3.192663</td>\n",
       "      <td>{'C': 20, 'penalty': 'l2'}</td>\n",
       "      <td>0.759971</td>\n",
       "      <td>0.038082</td>\n",
       "      <td>12</td>\n",
       "      <td>0.759971</td>\n",
       "      <td>0.038082</td>\n",
       "      <td>0.759971</td>\n",
       "      <td>0.038082</td>\n",
       "    </tr>\n",
       "  </tbody>\n",
       "</table>\n",
       "</div>"
      ],
      "text/plain": [
       "    mean_fit_time                       params  mean_test_accuracy  \\\n",
       "8        3.037798   {'C': 40, 'penalty': 'l2'}            0.763796   \n",
       "10       3.234322   {'C': 90, 'penalty': 'l2'}            0.763796   \n",
       "11       2.946505  {'C': 320, 'penalty': 'l2'}            0.763155   \n",
       "7        3.009488   {'C': 30, 'penalty': 'l2'}            0.762522   \n",
       "9        3.258892   {'C': 60, 'penalty': 'l2'}            0.762522   \n",
       "3        3.111251    {'C': 5, 'penalty': 'l2'}            0.761886   \n",
       "0        2.934155    {'C': 1, 'penalty': 'l2'}            0.761881   \n",
       "1        2.913789    {'C': 2, 'penalty': 'l2'}            0.761881   \n",
       "2        2.963850    {'C': 3, 'penalty': 'l2'}            0.761244   \n",
       "5        3.224439   {'C': 15, 'penalty': 'l2'}            0.760608   \n",
       "4        3.208627   {'C': 10, 'penalty': 'l2'}            0.760603   \n",
       "6        3.192663   {'C': 20, 'penalty': 'l2'}            0.759971   \n",
       "\n",
       "    std_test_accuracy  rank_test_accuracy  mean_test_precision  \\\n",
       "8            0.038931                   1             0.763796   \n",
       "10           0.038931                   1             0.763796   \n",
       "11           0.038995                   3             0.763155   \n",
       "7            0.038893                   4             0.762522   \n",
       "9            0.038893                   4             0.762522   \n",
       "3            0.036210                   6             0.761886   \n",
       "0            0.040569                   7             0.761881   \n",
       "1            0.039235                   7             0.761881   \n",
       "2            0.037564                   9             0.761244   \n",
       "5            0.036898                  10             0.760608   \n",
       "4            0.037240                  11             0.760603   \n",
       "6            0.038082                  12             0.759971   \n",
       "\n",
       "    std_test_precision  mean_test_recall  std_test_recall  \n",
       "8             0.038931          0.763796         0.038931  \n",
       "10            0.038931          0.763796         0.038931  \n",
       "11            0.038995          0.763155         0.038995  \n",
       "7             0.038893          0.762522         0.038893  \n",
       "9             0.038893          0.762522         0.038893  \n",
       "3             0.036210          0.761886         0.036210  \n",
       "0             0.040569          0.761881         0.040569  \n",
       "1             0.039235          0.761881         0.039235  \n",
       "2             0.037564          0.761244         0.037564  \n",
       "5             0.036898          0.760608         0.036898  \n",
       "4             0.037240          0.760603         0.037240  \n",
       "6             0.038082          0.759971         0.038082  "
      ]
     },
     "execution_count": 144,
     "metadata": {},
     "output_type": "execute_result"
    }
   ],
   "source": [
    "df = pd.DataFrame(clf_svc.cv_results_)\n",
    "df.sort_values(by='rank_test_accuracy')[['mean_fit_time','params','mean_test_accuracy','std_test_accuracy','rank_test_accuracy',\n",
    "                                         'mean_test_precision','std_test_precision','mean_test_recall','std_test_recall']]"
   ]
  },
  {
   "cell_type": "code",
   "execution_count": 145,
   "metadata": {
    "id": "qv9d0VLoBesU"
   },
   "outputs": [
    {
     "data": {
      "image/png": "[encoded data removed]",
      "text/plain": [
       "<Figure size 432x288 with 1 Axes>"
      ]
     },
     "metadata": {},
     "output_type": "display_data"
    },
    {
     "name": "stdout",
     "output_type": "stream",
     "text": [
      "Precision: 0.356\n",
      "Recall: 0.356\n",
      "Accuracy: 0.356\n"
     ]
    }
   ],
   "source": [
    "%matplotlib inline\n",
    "import seaborn as sns; sns.set()\n",
    "from sklearn.metrics import confusion_matrix\n",
    "import matplotlib.pyplot as plt\n",
    "\n",
    "y_test_pred = clf_svc.predict(X_test)\n",
    "cm_test = confusion_matrix(y_test, y_test_pred)\n",
    "\n",
    "sns.heatmap(cm_test.T, square=True, annot=True, fmt='d', cbar=False,\n",
    "            xticklabels= np.unique(y_test),\n",
    "            yticklabels= np.unique(y_test_pred))\n",
    "plt.xlabel('true label')\n",
    "plt.ylabel('predicted label');\n",
    "plt.title('Confusion Matrix DT - Test Set')\n",
    "plt.show()\n",
    "\n",
    "print('Precision: %.3f' %(precision_score(y_test, y_test_pred,average='micro')))\n",
    "print('Recall: %.3f' %(recall_score(y_test, y_test_pred,average='micro')))\n",
    "print('Accuracy: %.3f' %(accuracy_score(y_test,y_test_pred)))"
   ]
  },
  {
   "cell_type": "markdown",
   "metadata": {
    "id": "ZJ4qyaklX3aI"
   },
   "source": [
    "# Ensemble method:\n"
   ]
  },
  {
   "cell_type": "markdown",
   "metadata": {
    "id": "S8iK8hEtRBHL"
   },
   "source": [
    "## 2.1.5. Voting clasifier"
   ]
  },
  {
   "cell_type": "code",
   "execution_count": 146,
   "metadata": {
    "colab": {
     "base_uri": "https://localhost:8080/"
    },
    "id": "zsG9r-BOX97j",
    "outputId": "4afadd70-1d73-4cfb-ea34-609f5740daca"
   },
   "outputs": [
    {
     "name": "stderr",
     "output_type": "stream",
     "text": [
      "/home/bnt4me/.local/lib/python3.8/site-packages/sklearn/svm/_base.py:1199: ConvergenceWarning: Liblinear failed to converge, increase the number of iterations.\n",
      "  warnings.warn(\n"
     ]
    }
   ],
   "source": [
    "from sklearn.ensemble import VotingClassifier\n",
    "\n",
    "from sklearn import svm\n",
    "from sklearn.tree import DecisionTreeClassifier\n",
    "from sklearn.neighbors import KNeighborsClassifier\n",
    "from sklearn.neural_network import MLPClassifier\n",
    "\n",
    "\n",
    "classif_model_1 = DecisionTreeClassifier(random_state=15, criterion= 'gini', max_depth= 10)\n",
    "\n",
    "classif_model_2 = MLPClassifier(random_state=1, max_iter=300, activation= 'relu', alpha= 0.0001)\n",
    "\n",
    "classif_model_3 = svm.LinearSVC(random_state=1, C= 1, penalty= 'l2')\n",
    "\n",
    "classif_model_4 = KNeighborsClassifier(metric= 'manhattan', n_neighbors= 3, \n",
    "                                       weights= 'distance',n_jobs=4)\n",
    "\n",
    "ereg = VotingClassifier(estimators=[('DT', classif_model_1), ('NN', classif_model_2),\n",
    "                                    ('SVC', classif_model_3), ('KNN', classif_model_4)])\n",
    "ereg = ereg.fit(X_train_1, y_train_1)"
   ]
  },
  {
   "cell_type": "code",
   "execution_count": 147,
   "metadata": {
    "colab": {
     "base_uri": "https://localhost:8080/"
    },
    "id": "uJlRsoEyY1uE",
    "outputId": "d1b09acc-5185-4732-80ee-2dbe71c786d6"
   },
   "outputs": [
    {
     "name": "stdout",
     "output_type": "stream",
     "text": [
      "Classification report:\n",
      "              precision    recall  f1-score   support\n",
      "\n",
      "           0       0.20      0.45      0.28        47\n",
      "           1       0.59      0.42      0.49       172\n",
      "           2       0.34      0.30      0.32        73\n",
      "\n",
      "    accuracy                           0.40       292\n",
      "   macro avg       0.38      0.39      0.36       292\n",
      "weighted avg       0.46      0.40      0.42       292\n",
      "\n",
      "\n"
     ]
    }
   ],
   "source": [
    "from sklearn.metrics import classification_report\n",
    "\n",
    "y_pred_rf = ereg .predict(X_test)\n",
    "\n",
    "print('Classification report:\\n{0}\\n'.format(classification_report(y_test, y_pred_rf)))"
   ]
  },
  {
   "cell_type": "code",
   "execution_count": 148,
   "metadata": {
    "colab": {
     "base_uri": "https://localhost:8080/",
     "height": 302
    },
    "id": "6Taud8ohY-Pf",
    "outputId": "9f256008-6c8a-423d-8b5a-4fad0f68b32e"
   },
   "outputs": [
    {
     "data": {
      "image/png": "[encoded data removed]",
      "text/plain": [
       "<Figure size 432x288 with 1 Axes>"
      ]
     },
     "metadata": {},
     "output_type": "display_data"
    }
   ],
   "source": [
    "%matplotlib inline\n",
    "import seaborn as sns; sns.set()\n",
    "from sklearn.metrics import confusion_matrix\n",
    "import matplotlib.pyplot as plt\n",
    "\n",
    "y_test_pred = ereg.predict(X_test)\n",
    "cm_test = confusion_matrix(y_test, y_test_pred)\n",
    "\n",
    "sns.heatmap(cm_test.T, square=True, annot=True, fmt='d', cbar=False,\n",
    "            xticklabels= np.unique(y_test),\n",
    "            yticklabels= np.unique(y_test_pred))\n",
    "plt.xlabel('true label')\n",
    "plt.ylabel('predicted label');\n",
    "plt.title('Confusion Voting Classifier - Test Set')\n",
    "plt.show()"
   ]
  },
  {
   "cell_type": "markdown",
   "metadata": {
    "id": "aOCHnxONRGe3"
   },
   "source": [
    "## 2.1.6. XGBoost"
   ]
  },
  {
   "cell_type": "code",
   "execution_count": 82,
   "metadata": {
    "colab": {
     "base_uri": "https://localhost:8080/"
    },
    "id": "Bg9sxFBjy4Qa",
    "outputId": "8a215b8e-55f2-418e-b6fb-f0610dd058d3"
   },
   "outputs": [
    {
     "name": "stderr",
     "output_type": "stream",
     "text": [
      "/home/bnt4me/.local/lib/python3.8/site-packages/sklearn/tree/_classes.py:359: FutureWarning: Criterion 'mse' was deprecated in v1.0 and will be removed in version 1.2. Use `criterion='squared_error'` which is equivalent.\n",
      "  warnings.warn(\n",
      "/home/bnt4me/.local/lib/python3.8/site-packages/sklearn/tree/_classes.py:359: FutureWarning: Criterion 'mse' was deprecated in v1.0 and will be removed in version 1.2. Use `criterion='squared_error'` which is equivalent.\n",
      "  warnings.warn(\n",
      "/home/bnt4me/.local/lib/python3.8/site-packages/sklearn/tree/_classes.py:359: FutureWarning: Criterion 'mse' was deprecated in v1.0 and will be removed in version 1.2. Use `criterion='squared_error'` which is equivalent.\n",
      "  warnings.warn(\n",
      "/home/bnt4me/.local/lib/python3.8/site-packages/sklearn/tree/_classes.py:359: FutureWarning: Criterion 'mse' was deprecated in v1.0 and will be removed in version 1.2. Use `criterion='squared_error'` which is equivalent.\n",
      "  warnings.warn(\n",
      "/home/bnt4me/.local/lib/python3.8/site-packages/sklearn/tree/_classes.py:359: FutureWarning: Criterion 'mse' was deprecated in v1.0 and will be removed in version 1.2. Use `criterion='squared_error'` which is equivalent.\n",
      "  warnings.warn(\n",
      "/home/bnt4me/.local/lib/python3.8/site-packages/sklearn/tree/_classes.py:359: FutureWarning: Criterion 'mse' was deprecated in v1.0 and will be removed in version 1.2. Use `criterion='squared_error'` which is equivalent.\n",
      "  warnings.warn(\n",
      "/home/bnt4me/.local/lib/python3.8/site-packages/sklearn/tree/_classes.py:359: FutureWarning: Criterion 'mse' was deprecated in v1.0 and will be removed in version 1.2. Use `criterion='squared_error'` which is equivalent.\n",
      "  warnings.warn(\n",
      "/home/bnt4me/.local/lib/python3.8/site-packages/sklearn/tree/_classes.py:359: FutureWarning: Criterion 'mse' was deprecated in v1.0 and will be removed in version 1.2. Use `criterion='squared_error'` which is equivalent.\n",
      "  warnings.warn(\n",
      "/home/bnt4me/.local/lib/python3.8/site-packages/sklearn/tree/_classes.py:359: FutureWarning: Criterion 'mse' was deprecated in v1.0 and will be removed in version 1.2. Use `criterion='squared_error'` which is equivalent.\n",
      "  warnings.warn(\n",
      "/home/bnt4me/.local/lib/python3.8/site-packages/sklearn/tree/_classes.py:359: FutureWarning: Criterion 'mse' was deprecated in v1.0 and will be removed in version 1.2. Use `criterion='squared_error'` which is equivalent.\n",
      "  warnings.warn(\n",
      "/home/bnt4me/.local/lib/python3.8/site-packages/sklearn/tree/_classes.py:359: FutureWarning: Criterion 'mse' was deprecated in v1.0 and will be removed in version 1.2. Use `criterion='squared_error'` which is equivalent.\n",
      "  warnings.warn(\n",
      "/home/bnt4me/.local/lib/python3.8/site-packages/sklearn/tree/_classes.py:359: FutureWarning: Criterion 'mse' was deprecated in v1.0 and will be removed in version 1.2. Use `criterion='squared_error'` which is equivalent.\n",
      "  warnings.warn(\n",
      "/home/bnt4me/.local/lib/python3.8/site-packages/sklearn/tree/_classes.py:359: FutureWarning: Criterion 'mse' was deprecated in v1.0 and will be removed in version 1.2. Use `criterion='squared_error'` which is equivalent.\n",
      "  warnings.warn(\n",
      "/home/bnt4me/.local/lib/python3.8/site-packages/sklearn/tree/_classes.py:359: FutureWarning: Criterion 'mse' was deprecated in v1.0 and will be removed in version 1.2. Use `criterion='squared_error'` which is equivalent.\n",
      "  warnings.warn(\n",
      "/home/bnt4me/.local/lib/python3.8/site-packages/sklearn/tree/_classes.py:359: FutureWarning: Criterion 'mse' was deprecated in v1.0 and will be removed in version 1.2. Use `criterion='squared_error'` which is equivalent.\n",
      "  warnings.warn(\n",
      "/home/bnt4me/.local/lib/python3.8/site-packages/sklearn/tree/_classes.py:359: FutureWarning: Criterion 'mse' was deprecated in v1.0 and will be removed in version 1.2. Use `criterion='squared_error'` which is equivalent.\n",
      "  warnings.warn(\n",
      "/home/bnt4me/.local/lib/python3.8/site-packages/sklearn/tree/_classes.py:359: FutureWarning: Criterion 'mse' was deprecated in v1.0 and will be removed in version 1.2. Use `criterion='squared_error'` which is equivalent.\n",
      "  warnings.warn(\n",
      "/home/bnt4me/.local/lib/python3.8/site-packages/sklearn/tree/_classes.py:359: FutureWarning: Criterion 'mse' was deprecated in v1.0 and will be removed in version 1.2. Use `criterion='squared_error'` which is equivalent.\n",
      "  warnings.warn(\n",
      "/home/bnt4me/.local/lib/python3.8/site-packages/sklearn/tree/_classes.py:359: FutureWarning: Criterion 'mse' was deprecated in v1.0 and will be removed in version 1.2. Use `criterion='squared_error'` which is equivalent.\n",
      "  warnings.warn(\n",
      "/home/bnt4me/.local/lib/python3.8/site-packages/sklearn/tree/_classes.py:359: FutureWarning: Criterion 'mse' was deprecated in v1.0 and will be removed in version 1.2. Use `criterion='squared_error'` which is equivalent.\n",
      "  warnings.warn(\n",
      "/home/bnt4me/.local/lib/python3.8/site-packages/sklearn/tree/_classes.py:359: FutureWarning: Criterion 'mse' was deprecated in v1.0 and will be removed in version 1.2. Use `criterion='squared_error'` which is equivalent.\n",
      "  warnings.warn(\n",
      "/home/bnt4me/.local/lib/python3.8/site-packages/sklearn/tree/_classes.py:359: FutureWarning: Criterion 'mse' was deprecated in v1.0 and will be removed in version 1.2. Use `criterion='squared_error'` which is equivalent.\n",
      "  warnings.warn(\n",
      "/home/bnt4me/.local/lib/python3.8/site-packages/sklearn/tree/_classes.py:359: FutureWarning: Criterion 'mse' was deprecated in v1.0 and will be removed in version 1.2. Use `criterion='squared_error'` which is equivalent.\n",
      "  warnings.warn(\n",
      "/home/bnt4me/.local/lib/python3.8/site-packages/sklearn/tree/_classes.py:359: FutureWarning: Criterion 'mse' was deprecated in v1.0 and will be removed in version 1.2. Use `criterion='squared_error'` which is equivalent.\n",
      "  warnings.warn(\n",
      "/home/bnt4me/.local/lib/python3.8/site-packages/sklearn/tree/_classes.py:359: FutureWarning: Criterion 'mse' was deprecated in v1.0 and will be removed in version 1.2. Use `criterion='squared_error'` which is equivalent.\n",
      "  warnings.warn(\n",
      "/home/bnt4me/.local/lib/python3.8/site-packages/sklearn/tree/_classes.py:359: FutureWarning: Criterion 'mse' was deprecated in v1.0 and will be removed in version 1.2. Use `criterion='squared_error'` which is equivalent.\n",
      "  warnings.warn(\n",
      "/home/bnt4me/.local/lib/python3.8/site-packages/sklearn/tree/_classes.py:359: FutureWarning: Criterion 'mse' was deprecated in v1.0 and will be removed in version 1.2. Use `criterion='squared_error'` which is equivalent.\n",
      "  warnings.warn(\n",
      "/home/bnt4me/.local/lib/python3.8/site-packages/sklearn/tree/_classes.py:359: FutureWarning: Criterion 'mse' was deprecated in v1.0 and will be removed in version 1.2. Use `criterion='squared_error'` which is equivalent.\n",
      "  warnings.warn(\n",
      "/home/bnt4me/.local/lib/python3.8/site-packages/sklearn/tree/_classes.py:359: FutureWarning: Criterion 'mse' was deprecated in v1.0 and will be removed in version 1.2. Use `criterion='squared_error'` which is equivalent.\n",
      "  warnings.warn(\n",
      "/home/bnt4me/.local/lib/python3.8/site-packages/sklearn/tree/_classes.py:359: FutureWarning: Criterion 'mse' was deprecated in v1.0 and will be removed in version 1.2. Use `criterion='squared_error'` which is equivalent.\n",
      "  warnings.warn(\n",
      "/home/bnt4me/.local/lib/python3.8/site-packages/sklearn/tree/_classes.py:359: FutureWarning: Criterion 'mse' was deprecated in v1.0 and will be removed in version 1.2. Use `criterion='squared_error'` which is equivalent.\n",
      "  warnings.warn(\n",
      "/home/bnt4me/.local/lib/python3.8/site-packages/sklearn/tree/_classes.py:359: FutureWarning: Criterion 'mse' was deprecated in v1.0 and will be removed in version 1.2. Use `criterion='squared_error'` which is equivalent.\n",
      "  warnings.warn(\n",
      "/home/bnt4me/.local/lib/python3.8/site-packages/sklearn/tree/_classes.py:359: FutureWarning: Criterion 'mse' was deprecated in v1.0 and will be removed in version 1.2. Use `criterion='squared_error'` which is equivalent.\n",
      "  warnings.warn(\n",
      "/home/bnt4me/.local/lib/python3.8/site-packages/sklearn/tree/_classes.py:359: FutureWarning: Criterion 'mse' was deprecated in v1.0 and will be removed in version 1.2. Use `criterion='squared_error'` which is equivalent.\n",
      "  warnings.warn(\n",
      "/home/bnt4me/.local/lib/python3.8/site-packages/sklearn/tree/_classes.py:359: FutureWarning: Criterion 'mse' was deprecated in v1.0 and will be removed in version 1.2. Use `criterion='squared_error'` which is equivalent.\n",
      "  warnings.warn(\n",
      "/home/bnt4me/.local/lib/python3.8/site-packages/sklearn/tree/_classes.py:359: FutureWarning: Criterion 'mse' was deprecated in v1.0 and will be removed in version 1.2. Use `criterion='squared_error'` which is equivalent.\n",
      "  warnings.warn(\n",
      "/home/bnt4me/.local/lib/python3.8/site-packages/sklearn/tree/_classes.py:359: FutureWarning: Criterion 'mse' was deprecated in v1.0 and will be removed in version 1.2. Use `criterion='squared_error'` which is equivalent.\n",
      "  warnings.warn(\n",
      "/home/bnt4me/.local/lib/python3.8/site-packages/sklearn/tree/_classes.py:359: FutureWarning: Criterion 'mse' was deprecated in v1.0 and will be removed in version 1.2. Use `criterion='squared_error'` which is equivalent.\n",
      "  warnings.warn(\n",
      "/home/bnt4me/.local/lib/python3.8/site-packages/sklearn/tree/_classes.py:359: FutureWarning: Criterion 'mse' was deprecated in v1.0 and will be removed in version 1.2. Use `criterion='squared_error'` which is equivalent.\n",
      "  warnings.warn(\n",
      "/home/bnt4me/.local/lib/python3.8/site-packages/sklearn/tree/_classes.py:359: FutureWarning: Criterion 'mse' was deprecated in v1.0 and will be removed in version 1.2. Use `criterion='squared_error'` which is equivalent.\n",
      "  warnings.warn(\n",
      "/home/bnt4me/.local/lib/python3.8/site-packages/sklearn/tree/_classes.py:359: FutureWarning: Criterion 'mse' was deprecated in v1.0 and will be removed in version 1.2. Use `criterion='squared_error'` which is equivalent.\n",
      "  warnings.warn(\n",
      "/home/bnt4me/.local/lib/python3.8/site-packages/sklearn/tree/_classes.py:359: FutureWarning: Criterion 'mse' was deprecated in v1.0 and will be removed in version 1.2. Use `criterion='squared_error'` which is equivalent.\n",
      "  warnings.warn(\n",
      "/home/bnt4me/.local/lib/python3.8/site-packages/sklearn/tree/_classes.py:359: FutureWarning: Criterion 'mse' was deprecated in v1.0 and will be removed in version 1.2. Use `criterion='squared_error'` which is equivalent.\n",
      "  warnings.warn(\n",
      "/home/bnt4me/.local/lib/python3.8/site-packages/sklearn/tree/_classes.py:359: FutureWarning: Criterion 'mse' was deprecated in v1.0 and will be removed in version 1.2. Use `criterion='squared_error'` which is equivalent.\n",
      "  warnings.warn(\n",
      "/home/bnt4me/.local/lib/python3.8/site-packages/sklearn/tree/_classes.py:359: FutureWarning: Criterion 'mse' was deprecated in v1.0 and will be removed in version 1.2. Use `criterion='squared_error'` which is equivalent.\n",
      "  warnings.warn(\n",
      "/home/bnt4me/.local/lib/python3.8/site-packages/sklearn/tree/_classes.py:359: FutureWarning: Criterion 'mse' was deprecated in v1.0 and will be removed in version 1.2. Use `criterion='squared_error'` which is equivalent.\n",
      "  warnings.warn(\n",
      "/home/bnt4me/.local/lib/python3.8/site-packages/sklearn/tree/_classes.py:359: FutureWarning: Criterion 'mse' was deprecated in v1.0 and will be removed in version 1.2. Use `criterion='squared_error'` which is equivalent.\n",
      "  warnings.warn(\n",
      "/home/bnt4me/.local/lib/python3.8/site-packages/sklearn/tree/_classes.py:359: FutureWarning: Criterion 'mse' was deprecated in v1.0 and will be removed in version 1.2. Use `criterion='squared_error'` which is equivalent.\n",
      "  warnings.warn(\n",
      "/home/bnt4me/.local/lib/python3.8/site-packages/sklearn/tree/_classes.py:359: FutureWarning: Criterion 'mse' was deprecated in v1.0 and will be removed in version 1.2. Use `criterion='squared_error'` which is equivalent.\n",
      "  warnings.warn(\n",
      "/home/bnt4me/.local/lib/python3.8/site-packages/sklearn/tree/_classes.py:359: FutureWarning: Criterion 'mse' was deprecated in v1.0 and will be removed in version 1.2. Use `criterion='squared_error'` which is equivalent.\n",
      "  warnings.warn(\n",
      "/home/bnt4me/.local/lib/python3.8/site-packages/sklearn/tree/_classes.py:359: FutureWarning: Criterion 'mse' was deprecated in v1.0 and will be removed in version 1.2. Use `criterion='squared_error'` which is equivalent.\n",
      "  warnings.warn(\n",
      "/home/bnt4me/.local/lib/python3.8/site-packages/sklearn/tree/_classes.py:359: FutureWarning: Criterion 'mse' was deprecated in v1.0 and will be removed in version 1.2. Use `criterion='squared_error'` which is equivalent.\n",
      "  warnings.warn(\n",
      "/home/bnt4me/.local/lib/python3.8/site-packages/sklearn/tree/_classes.py:359: FutureWarning: Criterion 'mse' was deprecated in v1.0 and will be removed in version 1.2. Use `criterion='squared_error'` which is equivalent.\n",
      "  warnings.warn(\n",
      "/home/bnt4me/.local/lib/python3.8/site-packages/sklearn/tree/_classes.py:359: FutureWarning: Criterion 'mse' was deprecated in v1.0 and will be removed in version 1.2. Use `criterion='squared_error'` which is equivalent.\n",
      "  warnings.warn(\n",
      "/home/bnt4me/.local/lib/python3.8/site-packages/sklearn/tree/_classes.py:359: FutureWarning: Criterion 'mse' was deprecated in v1.0 and will be removed in version 1.2. Use `criterion='squared_error'` which is equivalent.\n",
      "  warnings.warn(\n",
      "/home/bnt4me/.local/lib/python3.8/site-packages/sklearn/tree/_classes.py:359: FutureWarning: Criterion 'mse' was deprecated in v1.0 and will be removed in version 1.2. Use `criterion='squared_error'` which is equivalent.\n",
      "  warnings.warn(\n",
      "/home/bnt4me/.local/lib/python3.8/site-packages/sklearn/tree/_classes.py:359: FutureWarning: Criterion 'mse' was deprecated in v1.0 and will be removed in version 1.2. Use `criterion='squared_error'` which is equivalent.\n",
      "  warnings.warn(\n",
      "/home/bnt4me/.local/lib/python3.8/site-packages/sklearn/tree/_classes.py:359: FutureWarning: Criterion 'mse' was deprecated in v1.0 and will be removed in version 1.2. Use `criterion='squared_error'` which is equivalent.\n",
      "  warnings.warn(\n",
      "/home/bnt4me/.local/lib/python3.8/site-packages/sklearn/tree/_classes.py:359: FutureWarning: Criterion 'mse' was deprecated in v1.0 and will be removed in version 1.2. Use `criterion='squared_error'` which is equivalent.\n",
      "  warnings.warn(\n",
      "/home/bnt4me/.local/lib/python3.8/site-packages/sklearn/tree/_classes.py:359: FutureWarning: Criterion 'mse' was deprecated in v1.0 and will be removed in version 1.2. Use `criterion='squared_error'` which is equivalent.\n",
      "  warnings.warn(\n",
      "/home/bnt4me/.local/lib/python3.8/site-packages/sklearn/tree/_classes.py:359: FutureWarning: Criterion 'mse' was deprecated in v1.0 and will be removed in version 1.2. Use `criterion='squared_error'` which is equivalent.\n",
      "  warnings.warn(\n",
      "/home/bnt4me/.local/lib/python3.8/site-packages/sklearn/tree/_classes.py:359: FutureWarning: Criterion 'mse' was deprecated in v1.0 and will be removed in version 1.2. Use `criterion='squared_error'` which is equivalent.\n",
      "  warnings.warn(\n",
      "/home/bnt4me/.local/lib/python3.8/site-packages/sklearn/tree/_classes.py:359: FutureWarning: Criterion 'mse' was deprecated in v1.0 and will be removed in version 1.2. Use `criterion='squared_error'` which is equivalent.\n",
      "  warnings.warn(\n",
      "/home/bnt4me/.local/lib/python3.8/site-packages/sklearn/tree/_classes.py:359: FutureWarning: Criterion 'mse' was deprecated in v1.0 and will be removed in version 1.2. Use `criterion='squared_error'` which is equivalent.\n",
      "  warnings.warn(\n",
      "/home/bnt4me/.local/lib/python3.8/site-packages/sklearn/tree/_classes.py:359: FutureWarning: Criterion 'mse' was deprecated in v1.0 and will be removed in version 1.2. Use `criterion='squared_error'` which is equivalent.\n",
      "  warnings.warn(\n",
      "/home/bnt4me/.local/lib/python3.8/site-packages/sklearn/tree/_classes.py:359: FutureWarning: Criterion 'mse' was deprecated in v1.0 and will be removed in version 1.2. Use `criterion='squared_error'` which is equivalent.\n",
      "  warnings.warn(\n",
      "/home/bnt4me/.local/lib/python3.8/site-packages/sklearn/tree/_classes.py:359: FutureWarning: Criterion 'mse' was deprecated in v1.0 and will be removed in version 1.2. Use `criterion='squared_error'` which is equivalent.\n",
      "  warnings.warn(\n",
      "/home/bnt4me/.local/lib/python3.8/site-packages/sklearn/tree/_classes.py:359: FutureWarning: Criterion 'mse' was deprecated in v1.0 and will be removed in version 1.2. Use `criterion='squared_error'` which is equivalent.\n",
      "  warnings.warn(\n",
      "/home/bnt4me/.local/lib/python3.8/site-packages/sklearn/tree/_classes.py:359: FutureWarning: Criterion 'mse' was deprecated in v1.0 and will be removed in version 1.2. Use `criterion='squared_error'` which is equivalent.\n",
      "  warnings.warn(\n",
      "/home/bnt4me/.local/lib/python3.8/site-packages/sklearn/tree/_classes.py:359: FutureWarning: Criterion 'mse' was deprecated in v1.0 and will be removed in version 1.2. Use `criterion='squared_error'` which is equivalent.\n",
      "  warnings.warn(\n",
      "/home/bnt4me/.local/lib/python3.8/site-packages/sklearn/tree/_classes.py:359: FutureWarning: Criterion 'mse' was deprecated in v1.0 and will be removed in version 1.2. Use `criterion='squared_error'` which is equivalent.\n",
      "  warnings.warn(\n",
      "/home/bnt4me/.local/lib/python3.8/site-packages/sklearn/tree/_classes.py:359: FutureWarning: Criterion 'mse' was deprecated in v1.0 and will be removed in version 1.2. Use `criterion='squared_error'` which is equivalent.\n",
      "  warnings.warn(\n",
      "/home/bnt4me/.local/lib/python3.8/site-packages/sklearn/tree/_classes.py:359: FutureWarning: Criterion 'mse' was deprecated in v1.0 and will be removed in version 1.2. Use `criterion='squared_error'` which is equivalent.\n",
      "  warnings.warn(\n",
      "/home/bnt4me/.local/lib/python3.8/site-packages/sklearn/tree/_classes.py:359: FutureWarning: Criterion 'mse' was deprecated in v1.0 and will be removed in version 1.2. Use `criterion='squared_error'` which is equivalent.\n",
      "  warnings.warn(\n",
      "/home/bnt4me/.local/lib/python3.8/site-packages/sklearn/tree/_classes.py:359: FutureWarning: Criterion 'mse' was deprecated in v1.0 and will be removed in version 1.2. Use `criterion='squared_error'` which is equivalent.\n",
      "  warnings.warn(\n",
      "/home/bnt4me/.local/lib/python3.8/site-packages/sklearn/tree/_classes.py:359: FutureWarning: Criterion 'mse' was deprecated in v1.0 and will be removed in version 1.2. Use `criterion='squared_error'` which is equivalent.\n",
      "  warnings.warn(\n",
      "/home/bnt4me/.local/lib/python3.8/site-packages/sklearn/tree/_classes.py:359: FutureWarning: Criterion 'mse' was deprecated in v1.0 and will be removed in version 1.2. Use `criterion='squared_error'` which is equivalent.\n",
      "  warnings.warn(\n",
      "/home/bnt4me/.local/lib/python3.8/site-packages/sklearn/tree/_classes.py:359: FutureWarning: Criterion 'mse' was deprecated in v1.0 and will be removed in version 1.2. Use `criterion='squared_error'` which is equivalent.\n",
      "  warnings.warn(\n",
      "/home/bnt4me/.local/lib/python3.8/site-packages/sklearn/tree/_classes.py:359: FutureWarning: Criterion 'mse' was deprecated in v1.0 and will be removed in version 1.2. Use `criterion='squared_error'` which is equivalent.\n",
      "  warnings.warn(\n",
      "/home/bnt4me/.local/lib/python3.8/site-packages/sklearn/tree/_classes.py:359: FutureWarning: Criterion 'mse' was deprecated in v1.0 and will be removed in version 1.2. Use `criterion='squared_error'` which is equivalent.\n",
      "  warnings.warn(\n",
      "/home/bnt4me/.local/lib/python3.8/site-packages/sklearn/tree/_classes.py:359: FutureWarning: Criterion 'mse' was deprecated in v1.0 and will be removed in version 1.2. Use `criterion='squared_error'` which is equivalent.\n",
      "  warnings.warn(\n",
      "/home/bnt4me/.local/lib/python3.8/site-packages/sklearn/tree/_classes.py:359: FutureWarning: Criterion 'mse' was deprecated in v1.0 and will be removed in version 1.2. Use `criterion='squared_error'` which is equivalent.\n",
      "  warnings.warn(\n",
      "/home/bnt4me/.local/lib/python3.8/site-packages/sklearn/tree/_classes.py:359: FutureWarning: Criterion 'mse' was deprecated in v1.0 and will be removed in version 1.2. Use `criterion='squared_error'` which is equivalent.\n",
      "  warnings.warn(\n",
      "/home/bnt4me/.local/lib/python3.8/site-packages/sklearn/tree/_classes.py:359: FutureWarning: Criterion 'mse' was deprecated in v1.0 and will be removed in version 1.2. Use `criterion='squared_error'` which is equivalent.\n",
      "  warnings.warn(\n",
      "/home/bnt4me/.local/lib/python3.8/site-packages/sklearn/tree/_classes.py:359: FutureWarning: Criterion 'mse' was deprecated in v1.0 and will be removed in version 1.2. Use `criterion='squared_error'` which is equivalent.\n",
      "  warnings.warn(\n",
      "/home/bnt4me/.local/lib/python3.8/site-packages/sklearn/tree/_classes.py:359: FutureWarning: Criterion 'mse' was deprecated in v1.0 and will be removed in version 1.2. Use `criterion='squared_error'` which is equivalent.\n",
      "  warnings.warn(\n",
      "/home/bnt4me/.local/lib/python3.8/site-packages/sklearn/tree/_classes.py:359: FutureWarning: Criterion 'mse' was deprecated in v1.0 and will be removed in version 1.2. Use `criterion='squared_error'` which is equivalent.\n",
      "  warnings.warn(\n",
      "/home/bnt4me/.local/lib/python3.8/site-packages/sklearn/tree/_classes.py:359: FutureWarning: Criterion 'mse' was deprecated in v1.0 and will be removed in version 1.2. Use `criterion='squared_error'` which is equivalent.\n",
      "  warnings.warn(\n",
      "/home/bnt4me/.local/lib/python3.8/site-packages/sklearn/tree/_classes.py:359: FutureWarning: Criterion 'mse' was deprecated in v1.0 and will be removed in version 1.2. Use `criterion='squared_error'` which is equivalent.\n",
      "  warnings.warn(\n",
      "/home/bnt4me/.local/lib/python3.8/site-packages/sklearn/tree/_classes.py:359: FutureWarning: Criterion 'mse' was deprecated in v1.0 and will be removed in version 1.2. Use `criterion='squared_error'` which is equivalent.\n",
      "  warnings.warn(\n",
      "/home/bnt4me/.local/lib/python3.8/site-packages/sklearn/tree/_classes.py:359: FutureWarning: Criterion 'mse' was deprecated in v1.0 and will be removed in version 1.2. Use `criterion='squared_error'` which is equivalent.\n",
      "  warnings.warn(\n",
      "/home/bnt4me/.local/lib/python3.8/site-packages/sklearn/tree/_classes.py:359: FutureWarning: Criterion 'mse' was deprecated in v1.0 and will be removed in version 1.2. Use `criterion='squared_error'` which is equivalent.\n",
      "  warnings.warn(\n",
      "/home/bnt4me/.local/lib/python3.8/site-packages/sklearn/tree/_classes.py:359: FutureWarning: Criterion 'mse' was deprecated in v1.0 and will be removed in version 1.2. Use `criterion='squared_error'` which is equivalent.\n",
      "  warnings.warn(\n",
      "/home/bnt4me/.local/lib/python3.8/site-packages/sklearn/tree/_classes.py:359: FutureWarning: Criterion 'mse' was deprecated in v1.0 and will be removed in version 1.2. Use `criterion='squared_error'` which is equivalent.\n",
      "  warnings.warn(\n",
      "/home/bnt4me/.local/lib/python3.8/site-packages/sklearn/tree/_classes.py:359: FutureWarning: Criterion 'mse' was deprecated in v1.0 and will be removed in version 1.2. Use `criterion='squared_error'` which is equivalent.\n",
      "  warnings.warn(\n",
      "/home/bnt4me/.local/lib/python3.8/site-packages/sklearn/tree/_classes.py:359: FutureWarning: Criterion 'mse' was deprecated in v1.0 and will be removed in version 1.2. Use `criterion='squared_error'` which is equivalent.\n",
      "  warnings.warn(\n",
      "/home/bnt4me/.local/lib/python3.8/site-packages/sklearn/tree/_classes.py:359: FutureWarning: Criterion 'mse' was deprecated in v1.0 and will be removed in version 1.2. Use `criterion='squared_error'` which is equivalent.\n",
      "  warnings.warn(\n",
      "/home/bnt4me/.local/lib/python3.8/site-packages/sklearn/tree/_classes.py:359: FutureWarning: Criterion 'mse' was deprecated in v1.0 and will be removed in version 1.2. Use `criterion='squared_error'` which is equivalent.\n",
      "  warnings.warn(\n",
      "/home/bnt4me/.local/lib/python3.8/site-packages/sklearn/tree/_classes.py:359: FutureWarning: Criterion 'mse' was deprecated in v1.0 and will be removed in version 1.2. Use `criterion='squared_error'` which is equivalent.\n",
      "  warnings.warn(\n",
      "/home/bnt4me/.local/lib/python3.8/site-packages/sklearn/tree/_classes.py:359: FutureWarning: Criterion 'mse' was deprecated in v1.0 and will be removed in version 1.2. Use `criterion='squared_error'` which is equivalent.\n",
      "  warnings.warn(\n",
      "/home/bnt4me/.local/lib/python3.8/site-packages/sklearn/tree/_classes.py:359: FutureWarning: Criterion 'mse' was deprecated in v1.0 and will be removed in version 1.2. Use `criterion='squared_error'` which is equivalent.\n",
      "  warnings.warn(\n",
      "/home/bnt4me/.local/lib/python3.8/site-packages/sklearn/tree/_classes.py:359: FutureWarning: Criterion 'mse' was deprecated in v1.0 and will be removed in version 1.2. Use `criterion='squared_error'` which is equivalent.\n",
      "  warnings.warn(\n",
      "/home/bnt4me/.local/lib/python3.8/site-packages/sklearn/tree/_classes.py:359: FutureWarning: Criterion 'mse' was deprecated in v1.0 and will be removed in version 1.2. Use `criterion='squared_error'` which is equivalent.\n",
      "  warnings.warn(\n",
      "/home/bnt4me/.local/lib/python3.8/site-packages/sklearn/tree/_classes.py:359: FutureWarning: Criterion 'mse' was deprecated in v1.0 and will be removed in version 1.2. Use `criterion='squared_error'` which is equivalent.\n",
      "  warnings.warn(\n",
      "/home/bnt4me/.local/lib/python3.8/site-packages/sklearn/tree/_classes.py:359: FutureWarning: Criterion 'mse' was deprecated in v1.0 and will be removed in version 1.2. Use `criterion='squared_error'` which is equivalent.\n",
      "  warnings.warn(\n",
      "/home/bnt4me/.local/lib/python3.8/site-packages/sklearn/tree/_classes.py:359: FutureWarning: Criterion 'mse' was deprecated in v1.0 and will be removed in version 1.2. Use `criterion='squared_error'` which is equivalent.\n",
      "  warnings.warn(\n",
      "/home/bnt4me/.local/lib/python3.8/site-packages/sklearn/tree/_classes.py:359: FutureWarning: Criterion 'mse' was deprecated in v1.0 and will be removed in version 1.2. Use `criterion='squared_error'` which is equivalent.\n",
      "  warnings.warn(\n",
      "/home/bnt4me/.local/lib/python3.8/site-packages/sklearn/tree/_classes.py:359: FutureWarning: Criterion 'mse' was deprecated in v1.0 and will be removed in version 1.2. Use `criterion='squared_error'` which is equivalent.\n",
      "  warnings.warn(\n",
      "/home/bnt4me/.local/lib/python3.8/site-packages/sklearn/tree/_classes.py:359: FutureWarning: Criterion 'mse' was deprecated in v1.0 and will be removed in version 1.2. Use `criterion='squared_error'` which is equivalent.\n",
      "  warnings.warn(\n",
      "/home/bnt4me/.local/lib/python3.8/site-packages/sklearn/tree/_classes.py:359: FutureWarning: Criterion 'mse' was deprecated in v1.0 and will be removed in version 1.2. Use `criterion='squared_error'` which is equivalent.\n",
      "  warnings.warn(\n",
      "/home/bnt4me/.local/lib/python3.8/site-packages/sklearn/tree/_classes.py:359: FutureWarning: Criterion 'mse' was deprecated in v1.0 and will be removed in version 1.2. Use `criterion='squared_error'` which is equivalent.\n",
      "  warnings.warn(\n",
      "/home/bnt4me/.local/lib/python3.8/site-packages/sklearn/tree/_classes.py:359: FutureWarning: Criterion 'mse' was deprecated in v1.0 and will be removed in version 1.2. Use `criterion='squared_error'` which is equivalent.\n",
      "  warnings.warn(\n",
      "/home/bnt4me/.local/lib/python3.8/site-packages/sklearn/tree/_classes.py:359: FutureWarning: Criterion 'mse' was deprecated in v1.0 and will be removed in version 1.2. Use `criterion='squared_error'` which is equivalent.\n",
      "  warnings.warn(\n",
      "/home/bnt4me/.local/lib/python3.8/site-packages/sklearn/tree/_classes.py:359: FutureWarning: Criterion 'mse' was deprecated in v1.0 and will be removed in version 1.2. Use `criterion='squared_error'` which is equivalent.\n",
      "  warnings.warn(\n",
      "/home/bnt4me/.local/lib/python3.8/site-packages/sklearn/tree/_classes.py:359: FutureWarning: Criterion 'mse' was deprecated in v1.0 and will be removed in version 1.2. Use `criterion='squared_error'` which is equivalent.\n",
      "  warnings.warn(\n",
      "/home/bnt4me/.local/lib/python3.8/site-packages/sklearn/tree/_classes.py:359: FutureWarning: Criterion 'mse' was deprecated in v1.0 and will be removed in version 1.2. Use `criterion='squared_error'` which is equivalent.\n",
      "  warnings.warn(\n",
      "/home/bnt4me/.local/lib/python3.8/site-packages/sklearn/tree/_classes.py:359: FutureWarning: Criterion 'mse' was deprecated in v1.0 and will be removed in version 1.2. Use `criterion='squared_error'` which is equivalent.\n",
      "  warnings.warn(\n",
      "/home/bnt4me/.local/lib/python3.8/site-packages/sklearn/tree/_classes.py:359: FutureWarning: Criterion 'mse' was deprecated in v1.0 and will be removed in version 1.2. Use `criterion='squared_error'` which is equivalent.\n",
      "  warnings.warn(\n",
      "/home/bnt4me/.local/lib/python3.8/site-packages/sklearn/tree/_classes.py:359: FutureWarning: Criterion 'mse' was deprecated in v1.0 and will be removed in version 1.2. Use `criterion='squared_error'` which is equivalent.\n",
      "  warnings.warn(\n",
      "/home/bnt4me/.local/lib/python3.8/site-packages/sklearn/tree/_classes.py:359: FutureWarning: Criterion 'mse' was deprecated in v1.0 and will be removed in version 1.2. Use `criterion='squared_error'` which is equivalent.\n",
      "  warnings.warn(\n"
     ]
    },
    {
     "name": "stdout",
     "output_type": "stream",
     "text": [
      "[13:37:40] WARNING: ../src/learner.cc:1115: Starting in XGBoost 1.3.0, the default evaluation metric used with the objective 'multi:softprob' was changed from 'merror' to 'mlogloss'. Explicitly set eval_metric if you'd like to restore the old behavior.\n",
      "[13:44:18] WARNING: ../src/learner.cc:1115: Starting in XGBoost 1.3.0, the default evaluation metric used with the objective 'multi:softprob' was changed from 'merror' to 'mlogloss'. Explicitly set eval_metric if you'd like to restore the old behavior.\n",
      "[13:58:33] WARNING: ../src/learner.cc:1115: Starting in XGBoost 1.3.0, the default evaluation metric used with the objective 'multi:softprob' was changed from 'merror' to 'mlogloss'. Explicitly set eval_metric if you'd like to restore the old behavior.\n",
      "[14:06:33] WARNING: ../src/learner.cc:1115: Starting in XGBoost 1.3.0, the default evaluation metric used with the objective 'multi:softprob' was changed from 'merror' to 'mlogloss'. Explicitly set eval_metric if you'd like to restore the old behavior.\n"
     ]
    },
    {
     "name": "stderr",
     "output_type": "stream",
     "text": [
      "/home/bnt4me/.local/lib/python3.8/site-packages/xgboost/sklearn.py:1224: UserWarning: The use of label encoder in XGBClassifier is deprecated and will be removed in a future release. To remove this warning, do the following: 1) Pass option use_label_encoder=False when constructing XGBClassifier object; and 2) Encode your labels (y) as integers starting with 0, i.e. 0, 1, 2, ..., [num_class - 1].\n",
      "  warnings.warn(label_encoder_deprecation_msg, UserWarning)\n",
      "/home/bnt4me/.local/lib/python3.8/site-packages/xgboost/sklearn.py:1224: UserWarning: The use of label encoder in XGBClassifier is deprecated and will be removed in a future release. To remove this warning, do the following: 1) Pass option use_label_encoder=False when constructing XGBClassifier object; and 2) Encode your labels (y) as integers starting with 0, i.e. 0, 1, 2, ..., [num_class - 1].\n",
      "  warnings.warn(label_encoder_deprecation_msg, UserWarning)\n",
      "/home/bnt4me/.local/lib/python3.8/site-packages/xgboost/sklearn.py:1224: UserWarning: The use of label encoder in XGBClassifier is deprecated and will be removed in a future release. To remove this warning, do the following: 1) Pass option use_label_encoder=False when constructing XGBClassifier object; and 2) Encode your labels (y) as integers starting with 0, i.e. 0, 1, 2, ..., [num_class - 1].\n",
      "  warnings.warn(label_encoder_deprecation_msg, UserWarning)\n",
      "/home/bnt4me/.local/lib/python3.8/site-packages/xgboost/sklearn.py:1224: UserWarning: The use of label encoder in XGBClassifier is deprecated and will be removed in a future release. To remove this warning, do the following: 1) Pass option use_label_encoder=False when constructing XGBClassifier object; and 2) Encode your labels (y) as integers starting with 0, i.e. 0, 1, 2, ..., [num_class - 1].\n",
      "  warnings.warn(label_encoder_deprecation_msg, UserWarning)\n"
     ]
    },
    {
     "name": "stdout",
     "output_type": "stream",
     "text": [
      "[13:37:38] WARNING: ../src/learner.cc:1115: Starting in XGBoost 1.3.0, the default evaluation metric used with the objective 'multi:softprob' was changed from 'merror' to 'mlogloss'. Explicitly set eval_metric if you'd like to restore the old behavior.\n",
      "[13:44:24] WARNING: ../src/learner.cc:1115: Starting in XGBoost 1.3.0, the default evaluation metric used with the objective 'multi:softprob' was changed from 'merror' to 'mlogloss'. Explicitly set eval_metric if you'd like to restore the old behavior.\n",
      "[13:59:37] WARNING: ../src/learner.cc:1115: Starting in XGBoost 1.3.0, the default evaluation metric used with the objective 'multi:softprob' was changed from 'merror' to 'mlogloss'. Explicitly set eval_metric if you'd like to restore the old behavior.\n",
      "[14:07:25] WARNING: ../src/learner.cc:1115: Starting in XGBoost 1.3.0, the default evaluation metric used with the objective 'multi:softprob' was changed from 'merror' to 'mlogloss'. Explicitly set eval_metric if you'd like to restore the old behavior.\n"
     ]
    },
    {
     "name": "stderr",
     "output_type": "stream",
     "text": [
      "/home/bnt4me/.local/lib/python3.8/site-packages/xgboost/sklearn.py:1224: UserWarning: The use of label encoder in XGBClassifier is deprecated and will be removed in a future release. To remove this warning, do the following: 1) Pass option use_label_encoder=False when constructing XGBClassifier object; and 2) Encode your labels (y) as integers starting with 0, i.e. 0, 1, 2, ..., [num_class - 1].\n",
      "  warnings.warn(label_encoder_deprecation_msg, UserWarning)\n",
      "/home/bnt4me/.local/lib/python3.8/site-packages/xgboost/sklearn.py:1224: UserWarning: The use of label encoder in XGBClassifier is deprecated and will be removed in a future release. To remove this warning, do the following: 1) Pass option use_label_encoder=False when constructing XGBClassifier object; and 2) Encode your labels (y) as integers starting with 0, i.e. 0, 1, 2, ..., [num_class - 1].\n",
      "  warnings.warn(label_encoder_deprecation_msg, UserWarning)\n",
      "/home/bnt4me/.local/lib/python3.8/site-packages/xgboost/sklearn.py:1224: UserWarning: The use of label encoder in XGBClassifier is deprecated and will be removed in a future release. To remove this warning, do the following: 1) Pass option use_label_encoder=False when constructing XGBClassifier object; and 2) Encode your labels (y) as integers starting with 0, i.e. 0, 1, 2, ..., [num_class - 1].\n",
      "  warnings.warn(label_encoder_deprecation_msg, UserWarning)\n",
      "/home/bnt4me/.local/lib/python3.8/site-packages/xgboost/sklearn.py:1224: UserWarning: The use of label encoder in XGBClassifier is deprecated and will be removed in a future release. To remove this warning, do the following: 1) Pass option use_label_encoder=False when constructing XGBClassifier object; and 2) Encode your labels (y) as integers starting with 0, i.e. 0, 1, 2, ..., [num_class - 1].\n",
      "  warnings.warn(label_encoder_deprecation_msg, UserWarning)\n",
      "/home/bnt4me/.local/lib/python3.8/site-packages/xgboost/sklearn.py:1224: UserWarning: The use of label encoder in XGBClassifier is deprecated and will be removed in a future release. To remove this warning, do the following: 1) Pass option use_label_encoder=False when constructing XGBClassifier object; and 2) Encode your labels (y) as integers starting with 0, i.e. 0, 1, 2, ..., [num_class - 1].\n",
      "  warnings.warn(label_encoder_deprecation_msg, UserWarning)\n"
     ]
    },
    {
     "name": "stdout",
     "output_type": "stream",
     "text": [
      "[14:16:55] WARNING: ../src/learner.cc:1115: Starting in XGBoost 1.3.0, the default evaluation metric used with the objective 'multi:softprob' was changed from 'merror' to 'mlogloss'. Explicitly set eval_metric if you'd like to restore the old behavior.\n"
     ]
    },
    {
     "data": {
      "text/plain": [
       "RandomizedSearchCV(cv=3,\n",
       "                   estimator=XGBClassifier(base_score=None, booster=None,\n",
       "                                           colsample_bylevel=None,\n",
       "                                           colsample_bynode=None,\n",
       "                                           colsample_bytree=None,\n",
       "                                           enable_categorical=False, gamma=None,\n",
       "                                           gpu_id=None, importance_type=None,\n",
       "                                           interaction_constraints=None,\n",
       "                                           learning_rate=None,\n",
       "                                           max_delta_step=None, max_depth=None,\n",
       "                                           min_child_weight=None, missing=nan,\n",
       "                                           monotone_constraints...\n",
       "                                        'learning_rate': <scipy.stats._distn_infrastructure.rv_frozen object at 0x7fab90cd13d0>,\n",
       "                                        'max_depth': <scipy.stats._distn_infrastructure.rv_frozen object at 0x7fab90cd1640>,\n",
       "                                        'n_estimators': <scipy.stats._distn_infrastructure.rv_frozen object at 0x7fab90cd1940>,\n",
       "                                        'subsample': <scipy.stats._distn_infrastructure.rv_frozen object at 0x7fab90cd1b20>},\n",
       "                   random_state=10, return_train_score=True)"
      ]
     },
     "execution_count": 82,
     "metadata": {},
     "output_type": "execute_result"
    }
   ],
   "source": [
    "import xgboost as xgb\n",
    "from scipy.stats import uniform, randint\n",
    "from sklearn.model_selection import RandomizedSearchCV\n",
    "xgb_model = xgb.XGBClassifier(objective=\"multi:softprob\", random_state=10)\n",
    "params = {\n",
    "    \"colsample_bytree\": uniform(0.7, 0.3),\n",
    "    \"gamma\": uniform(0, 0.5),\n",
    "    \"learning_rate\": uniform(0.03, 0.3), # default 0.1 \n",
    "    \"max_depth\": randint(2, 6), # default 3\n",
    "    \"n_estimators\": randint(100, 150), # default 100\n",
    "    \"subsample\": uniform(0.6, 0.4)\n",
    "}\n",
    "\n",
    "search = RandomizedSearchCV(xgb_model, param_distributions=params, random_state=10, cv=3, n_jobs=8, return_train_score=True)\n",
    "\n",
    "search.fit(X_train_1, y_train_1)"
   ]
  },
  {
   "cell_type": "code",
   "execution_count": 83,
   "metadata": {
    "colab": {
     "base_uri": "https://localhost:8080/",
     "height": 163
    },
    "id": "EMmVhgh1y4VJ",
    "outputId": "5c2846d6-1e96-45ca-b7a7-43061d87102a"
   },
   "outputs": [
    {
     "data": {
      "text/plain": [
       "{'colsample_bytree': 0.9313961929800237,\n",
       " 'gamma': 0.01037597467970075,\n",
       " 'learning_rate': 0.2200944704778826,\n",
       " 'max_depth': 5,\n",
       " 'n_estimators': 128,\n",
       " 'subsample': 0.7994028049210362}"
      ]
     },
     "execution_count": 83,
     "metadata": {},
     "output_type": "execute_result"
    }
   ],
   "source": [
    "search.best_params_"
   ]
  },
  {
   "cell_type": "code",
   "execution_count": 84,
   "metadata": {
    "id": "0Te3_lYwy4b5"
   },
   "outputs": [
    {
     "name": "stdout",
     "output_type": "stream",
     "text": [
      "Classification report:\n",
      "              precision    recall  f1-score   support\n",
      "\n",
      "           0       0.33      0.19      0.24        47\n",
      "           1       0.60      0.80      0.68       172\n",
      "           2       0.28      0.14      0.18        73\n",
      "\n",
      "    accuracy                           0.53       292\n",
      "   macro avg       0.40      0.37      0.37       292\n",
      "weighted avg       0.48      0.53      0.49       292\n",
      "\n",
      "\n"
     ]
    }
   ],
   "source": [
    "from sklearn.metrics import classification_report\n",
    "\n",
    "y_pred_rf = search.predict(X_test)\n",
    "\n",
    "print('Classification report:\\n{0}\\n'.format(classification_report(y_test, y_pred_rf)))"
   ]
  },
  {
   "cell_type": "code",
   "execution_count": 85,
   "metadata": {
    "id": "3LrWdODJzC7A"
   },
   "outputs": [
    {
     "data": {
      "image/png": "[encoded data removed]",
      "text/plain": [
       "<Figure size 432x288 with 1 Axes>"
      ]
     },
     "metadata": {},
     "output_type": "display_data"
    }
   ],
   "source": [
    "%matplotlib inline\n",
    "import seaborn as sns; sns.set()\n",
    "from sklearn.metrics import confusion_matrix\n",
    "import matplotlib.pyplot as plt\n",
    "\n",
    "y_test_pred = search.predict(X_test)\n",
    "cm_test = confusion_matrix(y_test, y_test_pred)\n",
    "\n",
    "sns.heatmap(cm_test.T, square=True, annot=True, fmt='d', cbar=False,\n",
    "            xticklabels= np.unique(y_test),\n",
    "            yticklabels= np.unique(y_test_pred))\n",
    "plt.xlabel('true label')\n",
    "plt.ylabel('predicted label');\n",
    "plt.title('Confusion Matrix DT - Test Set')\n",
    "plt.show()"
   ]
  },
  {
   "cell_type": "markdown",
   "metadata": {
    "id": "_kkAFsYctZam"
   },
   "source": [
    "## 2.2.0. Undersampling"
   ]
  },
  {
   "cell_type": "code",
   "execution_count": 52,
   "metadata": {
    "colab": {
     "base_uri": "https://localhost:8080/",
     "height": 580
    },
    "id": "vWxjMV068sIl",
    "outputId": "ed856e7b-cd87-4243-d66c-024d10876362",
    "scrolled": true
   },
   "outputs": [
    {
     "data": {
      "image/png": "[encoded data removed]",
      "text/plain": [
       "<Figure size 1800x720 with 2 Axes>"
      ]
     },
     "metadata": {},
     "output_type": "display_data"
    }
   ],
   "source": [
    "def apply_undersampling(X, y):\n",
    "    from imblearn.under_sampling import RandomUnderSampler\n",
    "    from matplotlib import pyplot as plt\n",
    "\n",
    "    X_class = X\n",
    "\n",
    "    fig, axs = plt.subplots(1,2, figsize=(25,10))\n",
    "    pd.Series(y_train).value_counts().plot.bar(ax = axs[0]).title.set_text('Before Undersampling')\n",
    "\n",
    "    undersample = RandomUnderSampler(sampling_strategy='majority')\n",
    "    # undersample = RandomUnderSampler(sampling_strategy=0.5)\n",
    "    # fit and apply the transform\n",
    "\n",
    "    X_class, label_cat = undersample.fit_resample(X, y)\n",
    "\n",
    "    pd.Series(label_cat).value_counts().plot.bar(ax = axs[1]).title.set_text('After Undersampling')\n",
    "\n",
    "    return X_class, label_cat\n",
    "\n",
    "X_train_1, y_train_1 = apply_undersampling(X_train, y_train)"
   ]
  },
  {
   "cell_type": "code",
   "execution_count": 53,
   "metadata": {
    "colab": {
     "base_uri": "https://localhost:8080/"
    },
    "id": "Y2EiuTgxjSJU",
    "outputId": "a0519187-9bb8-4d50-c202-03d94cc054fb",
    "scrolled": false
   },
   "outputs": [
    {
     "data": {
      "text/plain": [
       "(492, 29)"
      ]
     },
     "execution_count": 53,
     "metadata": {},
     "output_type": "execute_result"
    }
   ],
   "source": [
    "X_train_1.shape\n",
    "# X_class, label_cat"
   ]
  },
  {
   "cell_type": "markdown",
   "metadata": {
    "id": "pe04cQer2ijd"
   },
   "source": [
    "# Data Clasification"
   ]
  },
  {
   "cell_type": "markdown",
   "metadata": {
    "id": "AjiArCYzSN0c"
   },
   "source": [
    "## 2.2.1. NN"
   ]
  },
  {
   "cell_type": "code",
   "execution_count": 54,
   "metadata": {
    "colab": {
     "base_uri": "https://localhost:8080/"
    },
    "id": "p5YtcSliSQ7Z",
    "outputId": "e28b5a02-1f9c-4fee-8a85-1d322a647c11"
   },
   "outputs": [
    {
     "name": "stderr",
     "output_type": "stream",
     "text": [
      "/home/bnt4me/.local/lib/python3.8/site-packages/sklearn/neural_network/_multilayer_perceptron.py:692: ConvergenceWarning: Stochastic Optimizer: Maximum iterations (300) reached and the optimization hasn't converged yet.\n",
      "  warnings.warn(\n"
     ]
    },
    {
     "data": {
      "text/plain": [
       "GridSearchCV(cv=10, estimator=MLPClassifier(max_iter=300, random_state=1),\n",
       "             n_jobs=5,\n",
       "             param_grid={'activation': ['logistic', 'relu'],\n",
       "                         'alpha': [0.0001, 0.001]},\n",
       "             refit='accuracy', return_train_score=True,\n",
       "             scoring={'accuracy': make_scorer(accuracy_score),\n",
       "                      'precision': make_scorer(precision_score, average=micro),\n",
       "                      'recall': make_scorer(recall_score, average=micro)})"
      ]
     },
     "execution_count": 54,
     "metadata": {},
     "output_type": "execute_result"
    }
   ],
   "source": [
    "from sklearn.neural_network import MLPClassifier\n",
    "from sklearn.model_selection import GridSearchCV\n",
    "from sklearn.metrics import precision_score\n",
    "from sklearn.metrics import accuracy_score\n",
    "from sklearn.metrics import recall_score\n",
    "from sklearn.metrics import make_scorer\n",
    "\n",
    "\n",
    "param_grid = {'activation': ['logistic', 'relu'],'alpha':[0.0001,0.001]}\n",
    "scores= {'accuracy':make_scorer(accuracy_score),'precision':make_scorer(precision_score,average='micro'),\n",
    "         'recall':make_scorer(recall_score,average='micro')}\n",
    "\n",
    "neu_net = MLPClassifier(random_state=1, max_iter=300)\n",
    "clf_nn = GridSearchCV(neu_net, param_grid,cv=10,scoring=scores,\n",
    "                       refit='accuracy', return_train_score=True,n_jobs=5)\n",
    "clf_nn.fit(X_train_1, y_train_1)"
   ]
  },
  {
   "cell_type": "code",
   "execution_count": 55,
   "metadata": {
    "colab": {
     "base_uri": "https://localhost:8080/"
    },
    "id": "23-4b6jGk69W",
    "outputId": "e848433b-386b-4bcb-a972-304b7ef3425a"
   },
   "outputs": [
    {
     "name": "stdout",
     "output_type": "stream",
     "text": [
      "{'activation': 'logistic', 'alpha': 0.0001}\n"
     ]
    }
   ],
   "source": [
    "print(clf_nn.best_params_)"
   ]
  },
  {
   "cell_type": "code",
   "execution_count": 56,
   "metadata": {
    "colab": {
     "base_uri": "https://localhost:8080/",
     "height": 397
    },
    "id": "0fnAD6bhlAGt",
    "outputId": "f39aa523-c84d-4c99-8bd8-e555f756888c"
   },
   "outputs": [
    {
     "data": {
      "text/html": [
       "<div>\n",
       "<style scoped>\n",
       "    .dataframe tbody tr th:only-of-type {\n",
       "        vertical-align: middle;\n",
       "    }\n",
       "\n",
       "    .dataframe tbody tr th {\n",
       "        vertical-align: top;\n",
       "    }\n",
       "\n",
       "    .dataframe thead th {\n",
       "        text-align: right;\n",
       "    }\n",
       "</style>\n",
       "<table border=\"1\" class=\"dataframe\">\n",
       "  <thead>\n",
       "    <tr style=\"text-align: right;\">\n",
       "      <th></th>\n",
       "      <th>mean_fit_time</th>\n",
       "      <th>params</th>\n",
       "      <th>mean_test_accuracy</th>\n",
       "      <th>std_test_accuracy</th>\n",
       "      <th>rank_test_accuracy</th>\n",
       "      <th>mean_test_precision</th>\n",
       "      <th>std_test_precision</th>\n",
       "      <th>mean_test_recall</th>\n",
       "      <th>std_test_recall</th>\n",
       "    </tr>\n",
       "  </thead>\n",
       "  <tbody>\n",
       "    <tr>\n",
       "      <th>0</th>\n",
       "      <td>0.542734</td>\n",
       "      <td>{'activation': 'logistic', 'alpha': 0.0001}</td>\n",
       "      <td>0.408408</td>\n",
       "      <td>0.070070</td>\n",
       "      <td>1</td>\n",
       "      <td>0.408408</td>\n",
       "      <td>0.070070</td>\n",
       "      <td>0.408408</td>\n",
       "      <td>0.070070</td>\n",
       "    </tr>\n",
       "    <tr>\n",
       "      <th>1</th>\n",
       "      <td>0.542163</td>\n",
       "      <td>{'activation': 'logistic', 'alpha': 0.001}</td>\n",
       "      <td>0.402286</td>\n",
       "      <td>0.067086</td>\n",
       "      <td>2</td>\n",
       "      <td>0.402286</td>\n",
       "      <td>0.067086</td>\n",
       "      <td>0.402286</td>\n",
       "      <td>0.067086</td>\n",
       "    </tr>\n",
       "    <tr>\n",
       "      <th>3</th>\n",
       "      <td>0.589706</td>\n",
       "      <td>{'activation': 'relu', 'alpha': 0.001}</td>\n",
       "      <td>0.382327</td>\n",
       "      <td>0.069602</td>\n",
       "      <td>3</td>\n",
       "      <td>0.382327</td>\n",
       "      <td>0.069602</td>\n",
       "      <td>0.382327</td>\n",
       "      <td>0.069602</td>\n",
       "    </tr>\n",
       "    <tr>\n",
       "      <th>2</th>\n",
       "      <td>0.571306</td>\n",
       "      <td>{'activation': 'relu', 'alpha': 0.0001}</td>\n",
       "      <td>0.382286</td>\n",
       "      <td>0.072877</td>\n",
       "      <td>4</td>\n",
       "      <td>0.382286</td>\n",
       "      <td>0.072877</td>\n",
       "      <td>0.382286</td>\n",
       "      <td>0.072877</td>\n",
       "    </tr>\n",
       "  </tbody>\n",
       "</table>\n",
       "</div>"
      ],
      "text/plain": [
       "   mean_fit_time                                       params  \\\n",
       "0       0.542734  {'activation': 'logistic', 'alpha': 0.0001}   \n",
       "1       0.542163   {'activation': 'logistic', 'alpha': 0.001}   \n",
       "3       0.589706       {'activation': 'relu', 'alpha': 0.001}   \n",
       "2       0.571306      {'activation': 'relu', 'alpha': 0.0001}   \n",
       "\n",
       "   mean_test_accuracy  std_test_accuracy  rank_test_accuracy  \\\n",
       "0            0.408408           0.070070                   1   \n",
       "1            0.402286           0.067086                   2   \n",
       "3            0.382327           0.069602                   3   \n",
       "2            0.382286           0.072877                   4   \n",
       "\n",
       "   mean_test_precision  std_test_precision  mean_test_recall  std_test_recall  \n",
       "0             0.408408            0.070070          0.408408         0.070070  \n",
       "1             0.402286            0.067086          0.402286         0.067086  \n",
       "3             0.382327            0.069602          0.382327         0.069602  \n",
       "2             0.382286            0.072877          0.382286         0.072877  "
      ]
     },
     "execution_count": 56,
     "metadata": {},
     "output_type": "execute_result"
    }
   ],
   "source": [
    "df = pd.DataFrame(clf_nn.cv_results_)\n",
    "df.sort_values(by='rank_test_accuracy')[['mean_fit_time','params','mean_test_accuracy','std_test_accuracy','rank_test_accuracy',\n",
    "                                         'mean_test_precision','std_test_precision','mean_test_recall','std_test_recall']]"
   ]
  },
  {
   "cell_type": "code",
   "execution_count": 57,
   "metadata": {
    "colab": {
     "base_uri": "https://localhost:8080/",
     "height": 353
    },
    "id": "WhezDEt0lDtt",
    "outputId": "231ad9f6-6bd4-49f2-b744-8ccde2ab2789"
   },
   "outputs": [
    {
     "data": {
      "image/png": "[encoded data removed]",
      "text/plain": [
       "<Figure size 432x288 with 1 Axes>"
      ]
     },
     "metadata": {},
     "output_type": "display_data"
    },
    {
     "name": "stdout",
     "output_type": "stream",
     "text": [
      "Precision: 0.342\n",
      "Recall: 0.342\n",
      "Accuracy: 0.342\n"
     ]
    }
   ],
   "source": [
    "%matplotlib inline\n",
    "import seaborn as sns; sns.set()\n",
    "from sklearn.metrics import confusion_matrix\n",
    "import matplotlib.pyplot as plt\n",
    "import numpy as np\n",
    "\n",
    "y_test_pred = clf_nn.predict(X_test)\n",
    "cm_test = confusion_matrix(y_test, y_test_pred)\n",
    "\n",
    "sns.heatmap(cm_test.T, square=True, annot=True, fmt='d', cbar=False,\n",
    "            xticklabels= np.unique(y_test),\n",
    "            yticklabels= np.unique(y_test_pred))\n",
    "plt.xlabel('true label')\n",
    "plt.ylabel('predicted label');\n",
    "plt.title('Confusion Matrix DT - Test Set')\n",
    "plt.show()\n",
    "\n",
    "print('Precision: %.3f' %(precision_score(y_test, y_test_pred,average='micro')))\n",
    "print('Recall: %.3f' %(recall_score(y_test, y_test_pred,average='micro')))\n",
    "print('Accuracy: %.3f' %(accuracy_score(y_test,y_test_pred)))"
   ]
  },
  {
   "cell_type": "markdown",
   "metadata": {
    "id": "JFAy60UdJij3"
   },
   "source": [
    "## 2.2.2. Tree model"
   ]
  },
  {
   "cell_type": "code",
   "execution_count": 58,
   "metadata": {
    "colab": {
     "base_uri": "https://localhost:8080/"
    },
    "id": "oaYqCTJmJhHI",
    "outputId": "db1d8917-953b-4077-b4c6-30ed6aa4757c"
   },
   "outputs": [
    {
     "name": "stderr",
     "output_type": "stream",
     "text": [
      "/home/bnt4me/.local/lib/python3.8/site-packages/sklearn/neural_network/_multilayer_perceptron.py:692: ConvergenceWarning: Stochastic Optimizer: Maximum iterations (300) reached and the optimization hasn't converged yet.\n",
      "  warnings.warn(\n",
      "/home/bnt4me/.local/lib/python3.8/site-packages/sklearn/neural_network/_multilayer_perceptron.py:692: ConvergenceWarning: Stochastic Optimizer: Maximum iterations (300) reached and the optimization hasn't converged yet.\n",
      "  warnings.warn(\n",
      "/home/bnt4me/.local/lib/python3.8/site-packages/sklearn/neural_network/_multilayer_perceptron.py:692: ConvergenceWarning: Stochastic Optimizer: Maximum iterations (300) reached and the optimization hasn't converged yet.\n",
      "  warnings.warn(\n",
      "/home/bnt4me/.local/lib/python3.8/site-packages/sklearn/neural_network/_multilayer_perceptron.py:692: ConvergenceWarning: Stochastic Optimizer: Maximum iterations (300) reached and the optimization hasn't converged yet.\n",
      "  warnings.warn(\n",
      "/home/bnt4me/.local/lib/python3.8/site-packages/sklearn/neural_network/_multilayer_perceptron.py:692: ConvergenceWarning: Stochastic Optimizer: Maximum iterations (300) reached and the optimization hasn't converged yet.\n",
      "  warnings.warn(\n",
      "/home/bnt4me/.local/lib/python3.8/site-packages/sklearn/neural_network/_multilayer_perceptron.py:692: ConvergenceWarning: Stochastic Optimizer: Maximum iterations (300) reached and the optimization hasn't converged yet.\n",
      "  warnings.warn(\n",
      "/home/bnt4me/.local/lib/python3.8/site-packages/sklearn/neural_network/_multilayer_perceptron.py:692: ConvergenceWarning: Stochastic Optimizer: Maximum iterations (300) reached and the optimization hasn't converged yet.\n",
      "  warnings.warn(\n",
      "/home/bnt4me/.local/lib/python3.8/site-packages/sklearn/neural_network/_multilayer_perceptron.py:692: ConvergenceWarning: Stochastic Optimizer: Maximum iterations (300) reached and the optimization hasn't converged yet.\n",
      "  warnings.warn(\n",
      "/home/bnt4me/.local/lib/python3.8/site-packages/sklearn/neural_network/_multilayer_perceptron.py:692: ConvergenceWarning: Stochastic Optimizer: Maximum iterations (300) reached and the optimization hasn't converged yet.\n",
      "  warnings.warn(\n",
      "/home/bnt4me/.local/lib/python3.8/site-packages/sklearn/neural_network/_multilayer_perceptron.py:692: ConvergenceWarning: Stochastic Optimizer: Maximum iterations (300) reached and the optimization hasn't converged yet.\n",
      "  warnings.warn(\n",
      "/home/bnt4me/.local/lib/python3.8/site-packages/sklearn/neural_network/_multilayer_perceptron.py:692: ConvergenceWarning: Stochastic Optimizer: Maximum iterations (300) reached and the optimization hasn't converged yet.\n",
      "  warnings.warn(\n",
      "/home/bnt4me/.local/lib/python3.8/site-packages/sklearn/neural_network/_multilayer_perceptron.py:692: ConvergenceWarning: Stochastic Optimizer: Maximum iterations (300) reached and the optimization hasn't converged yet.\n",
      "  warnings.warn(\n",
      "/home/bnt4me/.local/lib/python3.8/site-packages/sklearn/neural_network/_multilayer_perceptron.py:692: ConvergenceWarning: Stochastic Optimizer: Maximum iterations (300) reached and the optimization hasn't converged yet.\n",
      "  warnings.warn(\n",
      "/home/bnt4me/.local/lib/python3.8/site-packages/sklearn/neural_network/_multilayer_perceptron.py:692: ConvergenceWarning: Stochastic Optimizer: Maximum iterations (300) reached and the optimization hasn't converged yet.\n",
      "  warnings.warn(\n",
      "/home/bnt4me/.local/lib/python3.8/site-packages/sklearn/neural_network/_multilayer_perceptron.py:692: ConvergenceWarning: Stochastic Optimizer: Maximum iterations (300) reached and the optimization hasn't converged yet.\n",
      "  warnings.warn(\n",
      "/home/bnt4me/.local/lib/python3.8/site-packages/sklearn/neural_network/_multilayer_perceptron.py:692: ConvergenceWarning: Stochastic Optimizer: Maximum iterations (300) reached and the optimization hasn't converged yet.\n",
      "  warnings.warn(\n",
      "/home/bnt4me/.local/lib/python3.8/site-packages/sklearn/neural_network/_multilayer_perceptron.py:692: ConvergenceWarning: Stochastic Optimizer: Maximum iterations (300) reached and the optimization hasn't converged yet.\n",
      "  warnings.warn(\n",
      "/home/bnt4me/.local/lib/python3.8/site-packages/sklearn/neural_network/_multilayer_perceptron.py:692: ConvergenceWarning: Stochastic Optimizer: Maximum iterations (300) reached and the optimization hasn't converged yet.\n",
      "  warnings.warn(\n",
      "/home/bnt4me/.local/lib/python3.8/site-packages/sklearn/neural_network/_multilayer_perceptron.py:692: ConvergenceWarning: Stochastic Optimizer: Maximum iterations (300) reached and the optimization hasn't converged yet.\n",
      "  warnings.warn(\n",
      "/home/bnt4me/.local/lib/python3.8/site-packages/sklearn/neural_network/_multilayer_perceptron.py:692: ConvergenceWarning: Stochastic Optimizer: Maximum iterations (300) reached and the optimization hasn't converged yet.\n",
      "  warnings.warn(\n",
      "/home/bnt4me/.local/lib/python3.8/site-packages/sklearn/neural_network/_multilayer_perceptron.py:692: ConvergenceWarning: Stochastic Optimizer: Maximum iterations (300) reached and the optimization hasn't converged yet.\n",
      "  warnings.warn(\n",
      "/home/bnt4me/.local/lib/python3.8/site-packages/sklearn/neural_network/_multilayer_perceptron.py:692: ConvergenceWarning: Stochastic Optimizer: Maximum iterations (300) reached and the optimization hasn't converged yet.\n",
      "  warnings.warn(\n",
      "/home/bnt4me/.local/lib/python3.8/site-packages/sklearn/neural_network/_multilayer_perceptron.py:692: ConvergenceWarning: Stochastic Optimizer: Maximum iterations (300) reached and the optimization hasn't converged yet.\n",
      "  warnings.warn(\n",
      "/home/bnt4me/.local/lib/python3.8/site-packages/sklearn/neural_network/_multilayer_perceptron.py:692: ConvergenceWarning: Stochastic Optimizer: Maximum iterations (300) reached and the optimization hasn't converged yet.\n",
      "  warnings.warn(\n",
      "/home/bnt4me/.local/lib/python3.8/site-packages/sklearn/neural_network/_multilayer_perceptron.py:692: ConvergenceWarning: Stochastic Optimizer: Maximum iterations (300) reached and the optimization hasn't converged yet.\n",
      "  warnings.warn(\n",
      "/home/bnt4me/.local/lib/python3.8/site-packages/sklearn/neural_network/_multilayer_perceptron.py:692: ConvergenceWarning: Stochastic Optimizer: Maximum iterations (300) reached and the optimization hasn't converged yet.\n",
      "  warnings.warn(\n",
      "/home/bnt4me/.local/lib/python3.8/site-packages/sklearn/neural_network/_multilayer_perceptron.py:692: ConvergenceWarning: Stochastic Optimizer: Maximum iterations (300) reached and the optimization hasn't converged yet.\n",
      "  warnings.warn(\n",
      "/home/bnt4me/.local/lib/python3.8/site-packages/sklearn/neural_network/_multilayer_perceptron.py:692: ConvergenceWarning: Stochastic Optimizer: Maximum iterations (300) reached and the optimization hasn't converged yet.\n",
      "  warnings.warn(\n",
      "/home/bnt4me/.local/lib/python3.8/site-packages/sklearn/neural_network/_multilayer_perceptron.py:692: ConvergenceWarning: Stochastic Optimizer: Maximum iterations (300) reached and the optimization hasn't converged yet.\n",
      "  warnings.warn(\n",
      "/home/bnt4me/.local/lib/python3.8/site-packages/sklearn/neural_network/_multilayer_perceptron.py:692: ConvergenceWarning: Stochastic Optimizer: Maximum iterations (300) reached and the optimization hasn't converged yet.\n",
      "  warnings.warn(\n",
      "/home/bnt4me/.local/lib/python3.8/site-packages/sklearn/neural_network/_multilayer_perceptron.py:692: ConvergenceWarning: Stochastic Optimizer: Maximum iterations (300) reached and the optimization hasn't converged yet.\n",
      "  warnings.warn(\n",
      "/home/bnt4me/.local/lib/python3.8/site-packages/sklearn/neural_network/_multilayer_perceptron.py:692: ConvergenceWarning: Stochastic Optimizer: Maximum iterations (300) reached and the optimization hasn't converged yet.\n",
      "  warnings.warn(\n",
      "/home/bnt4me/.local/lib/python3.8/site-packages/sklearn/neural_network/_multilayer_perceptron.py:692: ConvergenceWarning: Stochastic Optimizer: Maximum iterations (300) reached and the optimization hasn't converged yet.\n",
      "  warnings.warn(\n",
      "/home/bnt4me/.local/lib/python3.8/site-packages/sklearn/neural_network/_multilayer_perceptron.py:692: ConvergenceWarning: Stochastic Optimizer: Maximum iterations (300) reached and the optimization hasn't converged yet.\n",
      "  warnings.warn(\n",
      "/home/bnt4me/.local/lib/python3.8/site-packages/sklearn/neural_network/_multilayer_perceptron.py:692: ConvergenceWarning: Stochastic Optimizer: Maximum iterations (300) reached and the optimization hasn't converged yet.\n",
      "  warnings.warn(\n",
      "/home/bnt4me/.local/lib/python3.8/site-packages/sklearn/neural_network/_multilayer_perceptron.py:692: ConvergenceWarning: Stochastic Optimizer: Maximum iterations (300) reached and the optimization hasn't converged yet.\n",
      "  warnings.warn(\n",
      "/home/bnt4me/.local/lib/python3.8/site-packages/sklearn/neural_network/_multilayer_perceptron.py:692: ConvergenceWarning: Stochastic Optimizer: Maximum iterations (300) reached and the optimization hasn't converged yet.\n",
      "  warnings.warn(\n"
     ]
    },
    {
     "name": "stdout",
     "output_type": "stream",
     "text": [
      "{'criterion': 'entropy', 'max_depth': 4}\n"
     ]
    }
   ],
   "source": [
    "from sklearn.model_selection import GridSearchCV\n",
    "from sklearn.tree import DecisionTreeClassifier\n",
    "from sklearn.metrics import precision_score\n",
    "from sklearn.metrics import accuracy_score\n",
    "from sklearn.metrics import recall_score\n",
    "from sklearn.metrics import make_scorer\n",
    "\n",
    "\n",
    "tree_para = {'criterion':['gini','entropy'],'max_depth':[4,6,8,10,12,15,17,20]}\n",
    "scores= {'accuracy':make_scorer(accuracy_score),'precision':make_scorer(precision_score,average='micro'),\n",
    "         'recall':make_scorer(recall_score,average='micro')}\n",
    "\n",
    "clf_tree = GridSearchCV(DecisionTreeClassifier(random_state=15), tree_para, cv=10,\n",
    "                        scoring=scores,refit='accuracy', return_train_score=True,n_jobs=4)\n",
    "clf_tree = clf_tree.fit(X_train_1, y_train_1)\n",
    "print(clf_tree.best_params_)"
   ]
  },
  {
   "cell_type": "code",
   "execution_count": 156,
   "metadata": {
    "colab": {
     "base_uri": "https://localhost:8080/",
     "height": 561
    },
    "id": "XzORkH-Sqlb4",
    "outputId": "6ee3df72-71e8-4101-bde1-86b05ad9b26f"
   },
   "outputs": [
    {
     "data": {
      "text/html": [
       "<div>\n",
       "<style scoped>\n",
       "    .dataframe tbody tr th:only-of-type {\n",
       "        vertical-align: middle;\n",
       "    }\n",
       "\n",
       "    .dataframe tbody tr th {\n",
       "        vertical-align: top;\n",
       "    }\n",
       "\n",
       "    .dataframe thead th {\n",
       "        text-align: right;\n",
       "    }\n",
       "</style>\n",
       "<table border=\"1\" class=\"dataframe\">\n",
       "  <thead>\n",
       "    <tr style=\"text-align: right;\">\n",
       "      <th></th>\n",
       "      <th>mean_fit_time</th>\n",
       "      <th>params</th>\n",
       "      <th>mean_test_accuracy</th>\n",
       "      <th>std_test_accuracy</th>\n",
       "      <th>rank_test_accuracy</th>\n",
       "      <th>mean_test_precision</th>\n",
       "      <th>std_test_precision</th>\n",
       "      <th>mean_test_recall</th>\n",
       "      <th>std_test_recall</th>\n",
       "    </tr>\n",
       "  </thead>\n",
       "  <tbody>\n",
       "    <tr>\n",
       "      <th>4</th>\n",
       "      <td>0.143870</td>\n",
       "      <td>{'criterion': 'gini', 'max_depth': 12}</td>\n",
       "      <td>0.414449</td>\n",
       "      <td>0.056864</td>\n",
       "      <td>1</td>\n",
       "      <td>0.414449</td>\n",
       "      <td>0.056864</td>\n",
       "      <td>0.414449</td>\n",
       "      <td>0.056864</td>\n",
       "    </tr>\n",
       "    <tr>\n",
       "      <th>6</th>\n",
       "      <td>0.146845</td>\n",
       "      <td>{'criterion': 'gini', 'max_depth': 17}</td>\n",
       "      <td>0.412449</td>\n",
       "      <td>0.044918</td>\n",
       "      <td>2</td>\n",
       "      <td>0.412449</td>\n",
       "      <td>0.044918</td>\n",
       "      <td>0.412449</td>\n",
       "      <td>0.044918</td>\n",
       "    </tr>\n",
       "    <tr>\n",
       "      <th>5</th>\n",
       "      <td>0.147991</td>\n",
       "      <td>{'criterion': 'gini', 'max_depth': 15}</td>\n",
       "      <td>0.410408</td>\n",
       "      <td>0.046432</td>\n",
       "      <td>3</td>\n",
       "      <td>0.410408</td>\n",
       "      <td>0.046432</td>\n",
       "      <td>0.410408</td>\n",
       "      <td>0.046432</td>\n",
       "    </tr>\n",
       "    <tr>\n",
       "      <th>11</th>\n",
       "      <td>0.190614</td>\n",
       "      <td>{'criterion': 'entropy', 'max_depth': 10}</td>\n",
       "      <td>0.406857</td>\n",
       "      <td>0.059571</td>\n",
       "      <td>4</td>\n",
       "      <td>0.406857</td>\n",
       "      <td>0.059571</td>\n",
       "      <td>0.406857</td>\n",
       "      <td>0.059571</td>\n",
       "    </tr>\n",
       "    <tr>\n",
       "      <th>13</th>\n",
       "      <td>0.199986</td>\n",
       "      <td>{'criterion': 'entropy', 'max_depth': 15}</td>\n",
       "      <td>0.406857</td>\n",
       "      <td>0.056706</td>\n",
       "      <td>4</td>\n",
       "      <td>0.406857</td>\n",
       "      <td>0.056706</td>\n",
       "      <td>0.406857</td>\n",
       "      <td>0.056706</td>\n",
       "    </tr>\n",
       "    <tr>\n",
       "      <th>14</th>\n",
       "      <td>0.198034</td>\n",
       "      <td>{'criterion': 'entropy', 'max_depth': 17}</td>\n",
       "      <td>0.406857</td>\n",
       "      <td>0.056706</td>\n",
       "      <td>4</td>\n",
       "      <td>0.406857</td>\n",
       "      <td>0.056706</td>\n",
       "      <td>0.406857</td>\n",
       "      <td>0.056706</td>\n",
       "    </tr>\n",
       "    <tr>\n",
       "      <th>15</th>\n",
       "      <td>0.195017</td>\n",
       "      <td>{'criterion': 'entropy', 'max_depth': 20}</td>\n",
       "      <td>0.406857</td>\n",
       "      <td>0.056706</td>\n",
       "      <td>4</td>\n",
       "      <td>0.406857</td>\n",
       "      <td>0.056706</td>\n",
       "      <td>0.406857</td>\n",
       "      <td>0.056706</td>\n",
       "    </tr>\n",
       "    <tr>\n",
       "      <th>7</th>\n",
       "      <td>0.144381</td>\n",
       "      <td>{'criterion': 'gini', 'max_depth': 20}</td>\n",
       "      <td>0.404286</td>\n",
       "      <td>0.048520</td>\n",
       "      <td>8</td>\n",
       "      <td>0.404286</td>\n",
       "      <td>0.048520</td>\n",
       "      <td>0.404286</td>\n",
       "      <td>0.048520</td>\n",
       "    </tr>\n",
       "    <tr>\n",
       "      <th>8</th>\n",
       "      <td>0.107793</td>\n",
       "      <td>{'criterion': 'entropy', 'max_depth': 4}</td>\n",
       "      <td>0.400490</td>\n",
       "      <td>0.052062</td>\n",
       "      <td>9</td>\n",
       "      <td>0.400490</td>\n",
       "      <td>0.052062</td>\n",
       "      <td>0.400490</td>\n",
       "      <td>0.052062</td>\n",
       "    </tr>\n",
       "    <tr>\n",
       "      <th>3</th>\n",
       "      <td>0.137687</td>\n",
       "      <td>{'criterion': 'gini', 'max_depth': 10}</td>\n",
       "      <td>0.400286</td>\n",
       "      <td>0.045085</td>\n",
       "      <td>10</td>\n",
       "      <td>0.400286</td>\n",
       "      <td>0.045085</td>\n",
       "      <td>0.400286</td>\n",
       "      <td>0.045085</td>\n",
       "    </tr>\n",
       "    <tr>\n",
       "      <th>12</th>\n",
       "      <td>0.195982</td>\n",
       "      <td>{'criterion': 'entropy', 'max_depth': 12}</td>\n",
       "      <td>0.394612</td>\n",
       "      <td>0.048654</td>\n",
       "      <td>11</td>\n",
       "      <td>0.394612</td>\n",
       "      <td>0.048654</td>\n",
       "      <td>0.394612</td>\n",
       "      <td>0.048654</td>\n",
       "    </tr>\n",
       "    <tr>\n",
       "      <th>2</th>\n",
       "      <td>0.125849</td>\n",
       "      <td>{'criterion': 'gini', 'max_depth': 8}</td>\n",
       "      <td>0.388122</td>\n",
       "      <td>0.060779</td>\n",
       "      <td>12</td>\n",
       "      <td>0.388122</td>\n",
       "      <td>0.060779</td>\n",
       "      <td>0.388122</td>\n",
       "      <td>0.060779</td>\n",
       "    </tr>\n",
       "    <tr>\n",
       "      <th>10</th>\n",
       "      <td>0.182532</td>\n",
       "      <td>{'criterion': 'entropy', 'max_depth': 8}</td>\n",
       "      <td>0.386490</td>\n",
       "      <td>0.056378</td>\n",
       "      <td>13</td>\n",
       "      <td>0.386490</td>\n",
       "      <td>0.056378</td>\n",
       "      <td>0.386490</td>\n",
       "      <td>0.056378</td>\n",
       "    </tr>\n",
       "    <tr>\n",
       "      <th>9</th>\n",
       "      <td>0.148777</td>\n",
       "      <td>{'criterion': 'entropy', 'max_depth': 6}</td>\n",
       "      <td>0.380082</td>\n",
       "      <td>0.060497</td>\n",
       "      <td>14</td>\n",
       "      <td>0.380082</td>\n",
       "      <td>0.060497</td>\n",
       "      <td>0.380082</td>\n",
       "      <td>0.060497</td>\n",
       "    </tr>\n",
       "    <tr>\n",
       "      <th>1</th>\n",
       "      <td>0.104914</td>\n",
       "      <td>{'criterion': 'gini', 'max_depth': 6}</td>\n",
       "      <td>0.365796</td>\n",
       "      <td>0.043115</td>\n",
       "      <td>15</td>\n",
       "      <td>0.365796</td>\n",
       "      <td>0.043115</td>\n",
       "      <td>0.365796</td>\n",
       "      <td>0.043115</td>\n",
       "    </tr>\n",
       "    <tr>\n",
       "      <th>0</th>\n",
       "      <td>0.075296</td>\n",
       "      <td>{'criterion': 'gini', 'max_depth': 4}</td>\n",
       "      <td>0.355878</td>\n",
       "      <td>0.039316</td>\n",
       "      <td>16</td>\n",
       "      <td>0.355878</td>\n",
       "      <td>0.039316</td>\n",
       "      <td>0.355878</td>\n",
       "      <td>0.039316</td>\n",
       "    </tr>\n",
       "  </tbody>\n",
       "</table>\n",
       "</div>"
      ],
      "text/plain": [
       "    mean_fit_time                                     params  \\\n",
       "4        0.143870     {'criterion': 'gini', 'max_depth': 12}   \n",
       "6        0.146845     {'criterion': 'gini', 'max_depth': 17}   \n",
       "5        0.147991     {'criterion': 'gini', 'max_depth': 15}   \n",
       "11       0.190614  {'criterion': 'entropy', 'max_depth': 10}   \n",
       "13       0.199986  {'criterion': 'entropy', 'max_depth': 15}   \n",
       "14       0.198034  {'criterion': 'entropy', 'max_depth': 17}   \n",
       "15       0.195017  {'criterion': 'entropy', 'max_depth': 20}   \n",
       "7        0.144381     {'criterion': 'gini', 'max_depth': 20}   \n",
       "8        0.107793   {'criterion': 'entropy', 'max_depth': 4}   \n",
       "3        0.137687     {'criterion': 'gini', 'max_depth': 10}   \n",
       "12       0.195982  {'criterion': 'entropy', 'max_depth': 12}   \n",
       "2        0.125849      {'criterion': 'gini', 'max_depth': 8}   \n",
       "10       0.182532   {'criterion': 'entropy', 'max_depth': 8}   \n",
       "9        0.148777   {'criterion': 'entropy', 'max_depth': 6}   \n",
       "1        0.104914      {'criterion': 'gini', 'max_depth': 6}   \n",
       "0        0.075296      {'criterion': 'gini', 'max_depth': 4}   \n",
       "\n",
       "    mean_test_accuracy  std_test_accuracy  rank_test_accuracy  \\\n",
       "4             0.414449           0.056864                   1   \n",
       "6             0.412449           0.044918                   2   \n",
       "5             0.410408           0.046432                   3   \n",
       "11            0.406857           0.059571                   4   \n",
       "13            0.406857           0.056706                   4   \n",
       "14            0.406857           0.056706                   4   \n",
       "15            0.406857           0.056706                   4   \n",
       "7             0.404286           0.048520                   8   \n",
       "8             0.400490           0.052062                   9   \n",
       "3             0.400286           0.045085                  10   \n",
       "12            0.394612           0.048654                  11   \n",
       "2             0.388122           0.060779                  12   \n",
       "10            0.386490           0.056378                  13   \n",
       "9             0.380082           0.060497                  14   \n",
       "1             0.365796           0.043115                  15   \n",
       "0             0.355878           0.039316                  16   \n",
       "\n",
       "    mean_test_precision  std_test_precision  mean_test_recall  std_test_recall  \n",
       "4              0.414449            0.056864          0.414449         0.056864  \n",
       "6              0.412449            0.044918          0.412449         0.044918  \n",
       "5              0.410408            0.046432          0.410408         0.046432  \n",
       "11             0.406857            0.059571          0.406857         0.059571  \n",
       "13             0.406857            0.056706          0.406857         0.056706  \n",
       "14             0.406857            0.056706          0.406857         0.056706  \n",
       "15             0.406857            0.056706          0.406857         0.056706  \n",
       "7              0.404286            0.048520          0.404286         0.048520  \n",
       "8              0.400490            0.052062          0.400490         0.052062  \n",
       "3              0.400286            0.045085          0.400286         0.045085  \n",
       "12             0.394612            0.048654          0.394612         0.048654  \n",
       "2              0.388122            0.060779          0.388122         0.060779  \n",
       "10             0.386490            0.056378          0.386490         0.056378  \n",
       "9              0.380082            0.060497          0.380082         0.060497  \n",
       "1              0.365796            0.043115          0.365796         0.043115  \n",
       "0              0.355878            0.039316          0.355878         0.039316  "
      ]
     },
     "execution_count": 156,
     "metadata": {},
     "output_type": "execute_result"
    }
   ],
   "source": [
    "df = pd.DataFrame(clf_tree.cv_results_)\n",
    "df.sort_values(by='rank_test_accuracy')[['mean_fit_time','params','mean_test_accuracy','std_test_accuracy','rank_test_accuracy',\n",
    "                                         'mean_test_precision','std_test_precision','mean_test_recall','std_test_recall']]"
   ]
  },
  {
   "cell_type": "code",
   "execution_count": 59,
   "metadata": {
    "colab": {
     "base_uri": "https://localhost:8080/",
     "height": 353
    },
    "id": "9v5_o2kSJmF9",
    "outputId": "714ec43c-770e-48db-aa83-0ebcb59c6e3c"
   },
   "outputs": [
    {
     "data": {
      "image/png": "[encoded data removed]",
      "text/plain": [
       "<Figure size 432x288 with 1 Axes>"
      ]
     },
     "metadata": {},
     "output_type": "display_data"
    },
    {
     "name": "stdout",
     "output_type": "stream",
     "text": [
      "Precision: 0.260\n",
      "Recall: 0.260\n",
      "Accuracy: 0.260\n"
     ]
    }
   ],
   "source": [
    "%matplotlib inline\n",
    "import seaborn as sns; sns.set()\n",
    "from sklearn.metrics import confusion_matrix\n",
    "import matplotlib.pyplot as plt\n",
    "import numpy as np\n",
    "\n",
    "\n",
    "y_test_pred = clf_tree.predict(X_test)\n",
    "cm_test = confusion_matrix(y_test, y_test_pred)\n",
    "\n",
    "sns.heatmap(cm_test.T, square=True, annot=True, fmt='d', cbar=False,\n",
    "            xticklabels= np.unique(y_test),\n",
    "            yticklabels= np.unique(y_test_pred))\n",
    "plt.xlabel('true label')\n",
    "plt.ylabel('predicted label');\n",
    "plt.title('Confusion Matrix DT - Test Set')\n",
    "plt.show()\n",
    "\n",
    "print('Precision: %.3f' %(precision_score(y_test, y_test_pred,average='micro')))\n",
    "print('Recall: %.3f' %(recall_score(y_test, y_test_pred,average='micro')))\n",
    "print('Accuracy: %.3f' %(accuracy_score(y_test,y_test_pred)))"
   ]
  },
  {
   "cell_type": "markdown",
   "metadata": {
    "id": "ZIaPEoz6Ti1Z"
   },
   "source": [
    "## 2.2.3. K Neighbours"
   ]
  },
  {
   "cell_type": "code",
   "execution_count": 60,
   "metadata": {
    "colab": {
     "base_uri": "https://localhost:8080/"
    },
    "id": "AwyIGd0AToMr",
    "outputId": "ef6f41c6-99bc-4a89-b4f0-7f1d3f9d823e"
   },
   "outputs": [
    {
     "name": "stdout",
     "output_type": "stream",
     "text": [
      "{'metric': 'euclidean', 'n_neighbors': 6}\n"
     ]
    }
   ],
   "source": [
    "from sklearn.neighbors import KNeighborsClassifier\n",
    "\n",
    "nn_para = {'n_neighbors':[3,6,9],\n",
    "          'metric':[\"euclidean\",\"manhattan\"]}\n",
    "scores= {'accuracy':make_scorer(accuracy_score),'precision':make_scorer(precision_score,average='micro'),\n",
    "         'recall':make_scorer(recall_score,average='micro')}\n",
    "\n",
    "clf_kn = GridSearchCV(KNeighborsClassifier(), nn_para, cv=10, scoring=scores,\n",
    "                       refit='accuracy', return_train_score=True,n_jobs=4)\n",
    "clf_kn = clf_kn.fit(X_train_1, y_train_1)\n",
    "print(clf_kn.best_params_)"
   ]
  },
  {
   "cell_type": "code",
   "execution_count": 61,
   "metadata": {
    "colab": {
     "base_uri": "https://localhost:8080/",
     "height": 561
    },
    "id": "seL-PlX5BFw_",
    "outputId": "b237bf42-8ec0-4150-bc61-383b528f11fc"
   },
   "outputs": [
    {
     "data": {
      "text/html": [
       "<div>\n",
       "<style scoped>\n",
       "    .dataframe tbody tr th:only-of-type {\n",
       "        vertical-align: middle;\n",
       "    }\n",
       "\n",
       "    .dataframe tbody tr th {\n",
       "        vertical-align: top;\n",
       "    }\n",
       "\n",
       "    .dataframe thead th {\n",
       "        text-align: right;\n",
       "    }\n",
       "</style>\n",
       "<table border=\"1\" class=\"dataframe\">\n",
       "  <thead>\n",
       "    <tr style=\"text-align: right;\">\n",
       "      <th></th>\n",
       "      <th>mean_fit_time</th>\n",
       "      <th>params</th>\n",
       "      <th>mean_test_accuracy</th>\n",
       "      <th>std_test_accuracy</th>\n",
       "      <th>rank_test_accuracy</th>\n",
       "      <th>mean_test_precision</th>\n",
       "      <th>std_test_precision</th>\n",
       "      <th>mean_test_recall</th>\n",
       "      <th>std_test_recall</th>\n",
       "    </tr>\n",
       "  </thead>\n",
       "  <tbody>\n",
       "    <tr>\n",
       "      <th>1</th>\n",
       "      <td>0.001534</td>\n",
       "      <td>{'metric': 'euclidean', 'n_neighbors': 6}</td>\n",
       "      <td>0.378082</td>\n",
       "      <td>0.072383</td>\n",
       "      <td>1</td>\n",
       "      <td>0.378082</td>\n",
       "      <td>0.072383</td>\n",
       "      <td>0.378082</td>\n",
       "      <td>0.072383</td>\n",
       "    </tr>\n",
       "    <tr>\n",
       "      <th>5</th>\n",
       "      <td>0.001219</td>\n",
       "      <td>{'metric': 'manhattan', 'n_neighbors': 9}</td>\n",
       "      <td>0.374082</td>\n",
       "      <td>0.089947</td>\n",
       "      <td>2</td>\n",
       "      <td>0.374082</td>\n",
       "      <td>0.089947</td>\n",
       "      <td>0.374082</td>\n",
       "      <td>0.089947</td>\n",
       "    </tr>\n",
       "    <tr>\n",
       "      <th>4</th>\n",
       "      <td>0.001317</td>\n",
       "      <td>{'metric': 'manhattan', 'n_neighbors': 6}</td>\n",
       "      <td>0.359755</td>\n",
       "      <td>0.070875</td>\n",
       "      <td>3</td>\n",
       "      <td>0.359755</td>\n",
       "      <td>0.070875</td>\n",
       "      <td>0.359755</td>\n",
       "      <td>0.070875</td>\n",
       "    </tr>\n",
       "    <tr>\n",
       "      <th>0</th>\n",
       "      <td>0.002518</td>\n",
       "      <td>{'metric': 'euclidean', 'n_neighbors': 3}</td>\n",
       "      <td>0.357796</td>\n",
       "      <td>0.089920</td>\n",
       "      <td>4</td>\n",
       "      <td>0.357796</td>\n",
       "      <td>0.089920</td>\n",
       "      <td>0.357796</td>\n",
       "      <td>0.089920</td>\n",
       "    </tr>\n",
       "    <tr>\n",
       "      <th>2</th>\n",
       "      <td>0.001490</td>\n",
       "      <td>{'metric': 'euclidean', 'n_neighbors': 9}</td>\n",
       "      <td>0.347469</td>\n",
       "      <td>0.077464</td>\n",
       "      <td>5</td>\n",
       "      <td>0.347469</td>\n",
       "      <td>0.077464</td>\n",
       "      <td>0.347469</td>\n",
       "      <td>0.077464</td>\n",
       "    </tr>\n",
       "    <tr>\n",
       "      <th>3</th>\n",
       "      <td>0.001461</td>\n",
       "      <td>{'metric': 'manhattan', 'n_neighbors': 3}</td>\n",
       "      <td>0.341469</td>\n",
       "      <td>0.085907</td>\n",
       "      <td>6</td>\n",
       "      <td>0.341469</td>\n",
       "      <td>0.085907</td>\n",
       "      <td>0.341469</td>\n",
       "      <td>0.085907</td>\n",
       "    </tr>\n",
       "  </tbody>\n",
       "</table>\n",
       "</div>"
      ],
      "text/plain": [
       "   mean_fit_time                                     params  \\\n",
       "1       0.001534  {'metric': 'euclidean', 'n_neighbors': 6}   \n",
       "5       0.001219  {'metric': 'manhattan', 'n_neighbors': 9}   \n",
       "4       0.001317  {'metric': 'manhattan', 'n_neighbors': 6}   \n",
       "0       0.002518  {'metric': 'euclidean', 'n_neighbors': 3}   \n",
       "2       0.001490  {'metric': 'euclidean', 'n_neighbors': 9}   \n",
       "3       0.001461  {'metric': 'manhattan', 'n_neighbors': 3}   \n",
       "\n",
       "   mean_test_accuracy  std_test_accuracy  rank_test_accuracy  \\\n",
       "1            0.378082           0.072383                   1   \n",
       "5            0.374082           0.089947                   2   \n",
       "4            0.359755           0.070875                   3   \n",
       "0            0.357796           0.089920                   4   \n",
       "2            0.347469           0.077464                   5   \n",
       "3            0.341469           0.085907                   6   \n",
       "\n",
       "   mean_test_precision  std_test_precision  mean_test_recall  std_test_recall  \n",
       "1             0.378082            0.072383          0.378082         0.072383  \n",
       "5             0.374082            0.089947          0.374082         0.089947  \n",
       "4             0.359755            0.070875          0.359755         0.070875  \n",
       "0             0.357796            0.089920          0.357796         0.089920  \n",
       "2             0.347469            0.077464          0.347469         0.077464  \n",
       "3             0.341469            0.085907          0.341469         0.085907  "
      ]
     },
     "execution_count": 61,
     "metadata": {},
     "output_type": "execute_result"
    }
   ],
   "source": [
    "df = pd.DataFrame(clf_kn.cv_results_)\n",
    "df.sort_values(by='rank_test_accuracy')[['mean_fit_time','params','mean_test_accuracy','std_test_accuracy','rank_test_accuracy',\n",
    "                                         'mean_test_precision','std_test_precision','mean_test_recall','std_test_recall']]"
   ]
  },
  {
   "cell_type": "code",
   "execution_count": 62,
   "metadata": {
    "colab": {
     "base_uri": "https://localhost:8080/",
     "height": 353
    },
    "id": "pxS5RbyEBIik",
    "outputId": "7b02b7e7-a8a3-4b27-c67a-a6c701407d6e"
   },
   "outputs": [
    {
     "data": {
      "image/png": "[encoded data removed]",
      "text/plain": [
       "<Figure size 432x288 with 1 Axes>"
      ]
     },
     "metadata": {},
     "output_type": "display_data"
    },
    {
     "name": "stdout",
     "output_type": "stream",
     "text": [
      "Precision: 0.260\n",
      "Recall: 0.260\n",
      "Accuracy: 0.260\n"
     ]
    }
   ],
   "source": [
    "y_test_pred_gnb = clf_kn.predict(X_test)\n",
    "cm_test = confusion_matrix(y_test, y_test_pred_gnb)\n",
    "\n",
    "sns.heatmap(cm_test.T, square=True, annot=True, fmt='d', cbar=False,\n",
    "            xticklabels= np.unique(y_test),\n",
    "            yticklabels= np.unique(y_test_pred_gnb))\n",
    "plt.xlabel('true label')\n",
    "plt.ylabel('predicted label');\n",
    "plt.title('Confusion Matrix Naive Bayes - Test Set')\n",
    "plt.show()\n",
    "\n",
    "print('Precision: %.3f' %(precision_score(y_test, y_test_pred,average='micro')))\n",
    "print('Recall: %.3f' %(recall_score(y_test, y_test_pred,average='micro')))\n",
    "print('Accuracy: %.3f' %(accuracy_score(y_test,y_test_pred)))"
   ]
  },
  {
   "cell_type": "markdown",
   "metadata": {
    "id": "WkaY1TdPBWq5"
   },
   "source": [
    "## 2.2.4. Support Vector Machine"
   ]
  },
  {
   "cell_type": "code",
   "execution_count": 63,
   "metadata": {
    "colab": {
     "base_uri": "https://localhost:8080/",
     "height": 394
    },
    "id": "8pdapudCBY81",
    "outputId": "2b7d6d99-b564-4bec-967f-302b2c3b0b9d"
   },
   "outputs": [
    {
     "name": "stderr",
     "output_type": "stream",
     "text": [
      "/home/bnt4me/.local/lib/python3.8/site-packages/sklearn/svm/_base.py:1199: ConvergenceWarning: Liblinear failed to converge, increase the number of iterations.\n",
      "  warnings.warn(\n"
     ]
    },
    {
     "data": {
      "text/plain": [
       "GridSearchCV(cv=10, estimator=LinearSVC(random_state=10), n_jobs=5,\n",
       "             param_grid={'C': [1, 2, 3, 5, 10, 15, 20, 30, 40, 60, 90, 320],\n",
       "                         'penalty': ['l2']},\n",
       "             refit='accuracy', return_train_score=True,\n",
       "             scoring={'accuracy': make_scorer(accuracy_score),\n",
       "                      'precision': make_scorer(precision_score, average=micro),\n",
       "                      'recall': make_scorer(recall_score, average=micro)})"
      ]
     },
     "execution_count": 63,
     "metadata": {},
     "output_type": "execute_result"
    }
   ],
   "source": [
    "from sklearn.model_selection import GridSearchCV\n",
    "from sklearn import svm\n",
    "from sklearn.model_selection import cross_val_score\n",
    "from sklearn.metrics import precision_score\n",
    "from sklearn.metrics import accuracy_score\n",
    "from sklearn.metrics import recall_score\n",
    "from sklearn.metrics import make_scorer\n",
    "\n",
    "param_grid =  {'penalty':['l2'],'C':[1,2,3,5,10,15,20,30,40,60,90, 320]}\n",
    "scores= {'accuracy':make_scorer(accuracy_score),'precision':make_scorer(precision_score,average='micro'),\n",
    "         'recall':make_scorer(recall_score,average='micro')}\n",
    "\n",
    "svc = svm.LinearSVC(random_state=10)\n",
    "clf_svc = GridSearchCV(svc, param_grid,cv=10,scoring=scores,\n",
    "                        refit='accuracy', return_train_score=True, n_jobs=5)\n",
    "clf_svc.fit(X_train_1, y_train_1) "
   ]
  },
  {
   "cell_type": "code",
   "execution_count": 162,
   "metadata": {
    "id": "Znx51o33BZIX"
   },
   "outputs": [
    {
     "name": "stdout",
     "output_type": "stream",
     "text": [
      "{'C': 1, 'penalty': 'l2'}\n"
     ]
    }
   ],
   "source": [
    "print(clf_svc.best_params_)"
   ]
  },
  {
   "cell_type": "code",
   "execution_count": 64,
   "metadata": {
    "id": "fpxVdnvyBZSM"
   },
   "outputs": [
    {
     "data": {
      "text/html": [
       "<div>\n",
       "<style scoped>\n",
       "    .dataframe tbody tr th:only-of-type {\n",
       "        vertical-align: middle;\n",
       "    }\n",
       "\n",
       "    .dataframe tbody tr th {\n",
       "        vertical-align: top;\n",
       "    }\n",
       "\n",
       "    .dataframe thead th {\n",
       "        text-align: right;\n",
       "    }\n",
       "</style>\n",
       "<table border=\"1\" class=\"dataframe\">\n",
       "  <thead>\n",
       "    <tr style=\"text-align: right;\">\n",
       "      <th></th>\n",
       "      <th>mean_fit_time</th>\n",
       "      <th>params</th>\n",
       "      <th>mean_test_accuracy</th>\n",
       "      <th>std_test_accuracy</th>\n",
       "      <th>rank_test_accuracy</th>\n",
       "      <th>mean_test_precision</th>\n",
       "      <th>std_test_precision</th>\n",
       "      <th>mean_test_recall</th>\n",
       "      <th>std_test_recall</th>\n",
       "    </tr>\n",
       "  </thead>\n",
       "  <tbody>\n",
       "    <tr>\n",
       "      <th>11</th>\n",
       "      <td>0.073590</td>\n",
       "      <td>{'C': 320, 'penalty': 'l2'}</td>\n",
       "      <td>0.416531</td>\n",
       "      <td>0.081844</td>\n",
       "      <td>1</td>\n",
       "      <td>0.416531</td>\n",
       "      <td>0.081844</td>\n",
       "      <td>0.416531</td>\n",
       "      <td>0.081844</td>\n",
       "    </tr>\n",
       "    <tr>\n",
       "      <th>0</th>\n",
       "      <td>0.073061</td>\n",
       "      <td>{'C': 1, 'penalty': 'l2'}</td>\n",
       "      <td>0.406490</td>\n",
       "      <td>0.043270</td>\n",
       "      <td>2</td>\n",
       "      <td>0.406490</td>\n",
       "      <td>0.043270</td>\n",
       "      <td>0.406490</td>\n",
       "      <td>0.043270</td>\n",
       "    </tr>\n",
       "    <tr>\n",
       "      <th>1</th>\n",
       "      <td>0.073633</td>\n",
       "      <td>{'C': 2, 'penalty': 'l2'}</td>\n",
       "      <td>0.404449</td>\n",
       "      <td>0.049860</td>\n",
       "      <td>3</td>\n",
       "      <td>0.404449</td>\n",
       "      <td>0.049860</td>\n",
       "      <td>0.404449</td>\n",
       "      <td>0.049860</td>\n",
       "    </tr>\n",
       "    <tr>\n",
       "      <th>8</th>\n",
       "      <td>0.074526</td>\n",
       "      <td>{'C': 40, 'penalty': 'l2'}</td>\n",
       "      <td>0.402204</td>\n",
       "      <td>0.074138</td>\n",
       "      <td>4</td>\n",
       "      <td>0.402204</td>\n",
       "      <td>0.074138</td>\n",
       "      <td>0.402204</td>\n",
       "      <td>0.074138</td>\n",
       "    </tr>\n",
       "    <tr>\n",
       "      <th>4</th>\n",
       "      <td>0.076488</td>\n",
       "      <td>{'C': 10, 'penalty': 'l2'}</td>\n",
       "      <td>0.400327</td>\n",
       "      <td>0.020609</td>\n",
       "      <td>5</td>\n",
       "      <td>0.400327</td>\n",
       "      <td>0.020609</td>\n",
       "      <td>0.400327</td>\n",
       "      <td>0.020609</td>\n",
       "    </tr>\n",
       "    <tr>\n",
       "      <th>2</th>\n",
       "      <td>0.074865</td>\n",
       "      <td>{'C': 3, 'penalty': 'l2'}</td>\n",
       "      <td>0.396245</td>\n",
       "      <td>0.055496</td>\n",
       "      <td>6</td>\n",
       "      <td>0.396245</td>\n",
       "      <td>0.055496</td>\n",
       "      <td>0.396245</td>\n",
       "      <td>0.055496</td>\n",
       "    </tr>\n",
       "    <tr>\n",
       "      <th>3</th>\n",
       "      <td>0.077516</td>\n",
       "      <td>{'C': 5, 'penalty': 'l2'}</td>\n",
       "      <td>0.394245</td>\n",
       "      <td>0.060286</td>\n",
       "      <td>7</td>\n",
       "      <td>0.394245</td>\n",
       "      <td>0.060286</td>\n",
       "      <td>0.394245</td>\n",
       "      <td>0.060286</td>\n",
       "    </tr>\n",
       "    <tr>\n",
       "      <th>5</th>\n",
       "      <td>0.073692</td>\n",
       "      <td>{'C': 15, 'penalty': 'l2'}</td>\n",
       "      <td>0.394000</td>\n",
       "      <td>0.057750</td>\n",
       "      <td>8</td>\n",
       "      <td>0.394000</td>\n",
       "      <td>0.057750</td>\n",
       "      <td>0.394000</td>\n",
       "      <td>0.057750</td>\n",
       "    </tr>\n",
       "    <tr>\n",
       "      <th>9</th>\n",
       "      <td>0.074100</td>\n",
       "      <td>{'C': 60, 'penalty': 'l2'}</td>\n",
       "      <td>0.386327</td>\n",
       "      <td>0.040715</td>\n",
       "      <td>9</td>\n",
       "      <td>0.386327</td>\n",
       "      <td>0.040715</td>\n",
       "      <td>0.386327</td>\n",
       "      <td>0.040715</td>\n",
       "    </tr>\n",
       "    <tr>\n",
       "      <th>6</th>\n",
       "      <td>0.073787</td>\n",
       "      <td>{'C': 20, 'penalty': 'l2'}</td>\n",
       "      <td>0.386286</td>\n",
       "      <td>0.054354</td>\n",
       "      <td>10</td>\n",
       "      <td>0.386286</td>\n",
       "      <td>0.054354</td>\n",
       "      <td>0.386286</td>\n",
       "      <td>0.054354</td>\n",
       "    </tr>\n",
       "    <tr>\n",
       "      <th>10</th>\n",
       "      <td>0.074246</td>\n",
       "      <td>{'C': 90, 'penalty': 'l2'}</td>\n",
       "      <td>0.375918</td>\n",
       "      <td>0.053857</td>\n",
       "      <td>11</td>\n",
       "      <td>0.375918</td>\n",
       "      <td>0.053857</td>\n",
       "      <td>0.375918</td>\n",
       "      <td>0.053857</td>\n",
       "    </tr>\n",
       "    <tr>\n",
       "      <th>7</th>\n",
       "      <td>0.074129</td>\n",
       "      <td>{'C': 30, 'penalty': 'l2'}</td>\n",
       "      <td>0.373673</td>\n",
       "      <td>0.067429</td>\n",
       "      <td>12</td>\n",
       "      <td>0.373673</td>\n",
       "      <td>0.067429</td>\n",
       "      <td>0.373673</td>\n",
       "      <td>0.067429</td>\n",
       "    </tr>\n",
       "  </tbody>\n",
       "</table>\n",
       "</div>"
      ],
      "text/plain": [
       "    mean_fit_time                       params  mean_test_accuracy  \\\n",
       "11       0.073590  {'C': 320, 'penalty': 'l2'}            0.416531   \n",
       "0        0.073061    {'C': 1, 'penalty': 'l2'}            0.406490   \n",
       "1        0.073633    {'C': 2, 'penalty': 'l2'}            0.404449   \n",
       "8        0.074526   {'C': 40, 'penalty': 'l2'}            0.402204   \n",
       "4        0.076488   {'C': 10, 'penalty': 'l2'}            0.400327   \n",
       "2        0.074865    {'C': 3, 'penalty': 'l2'}            0.396245   \n",
       "3        0.077516    {'C': 5, 'penalty': 'l2'}            0.394245   \n",
       "5        0.073692   {'C': 15, 'penalty': 'l2'}            0.394000   \n",
       "9        0.074100   {'C': 60, 'penalty': 'l2'}            0.386327   \n",
       "6        0.073787   {'C': 20, 'penalty': 'l2'}            0.386286   \n",
       "10       0.074246   {'C': 90, 'penalty': 'l2'}            0.375918   \n",
       "7        0.074129   {'C': 30, 'penalty': 'l2'}            0.373673   \n",
       "\n",
       "    std_test_accuracy  rank_test_accuracy  mean_test_precision  \\\n",
       "11           0.081844                   1             0.416531   \n",
       "0            0.043270                   2             0.406490   \n",
       "1            0.049860                   3             0.404449   \n",
       "8            0.074138                   4             0.402204   \n",
       "4            0.020609                   5             0.400327   \n",
       "2            0.055496                   6             0.396245   \n",
       "3            0.060286                   7             0.394245   \n",
       "5            0.057750                   8             0.394000   \n",
       "9            0.040715                   9             0.386327   \n",
       "6            0.054354                  10             0.386286   \n",
       "10           0.053857                  11             0.375918   \n",
       "7            0.067429                  12             0.373673   \n",
       "\n",
       "    std_test_precision  mean_test_recall  std_test_recall  \n",
       "11            0.081844          0.416531         0.081844  \n",
       "0             0.043270          0.406490         0.043270  \n",
       "1             0.049860          0.404449         0.049860  \n",
       "8             0.074138          0.402204         0.074138  \n",
       "4             0.020609          0.400327         0.020609  \n",
       "2             0.055496          0.396245         0.055496  \n",
       "3             0.060286          0.394245         0.060286  \n",
       "5             0.057750          0.394000         0.057750  \n",
       "9             0.040715          0.386327         0.040715  \n",
       "6             0.054354          0.386286         0.054354  \n",
       "10            0.053857          0.375918         0.053857  \n",
       "7             0.067429          0.373673         0.067429  "
      ]
     },
     "execution_count": 64,
     "metadata": {},
     "output_type": "execute_result"
    }
   ],
   "source": [
    "df = pd.DataFrame(clf_svc.cv_results_)\n",
    "df.sort_values(by='rank_test_accuracy')[['mean_fit_time','params','mean_test_accuracy','std_test_accuracy','rank_test_accuracy',\n",
    "                                         'mean_test_precision','std_test_precision','mean_test_recall','std_test_recall']]"
   ]
  },
  {
   "cell_type": "code",
   "execution_count": 65,
   "metadata": {
    "id": "qv9d0VLoBesU"
   },
   "outputs": [
    {
     "data": {
      "image/png": "[encoded data removed]",
      "text/plain": [
       "<Figure size 432x288 with 1 Axes>"
      ]
     },
     "metadata": {},
     "output_type": "display_data"
    },
    {
     "name": "stdout",
     "output_type": "stream",
     "text": [
      "Precision: 0.363\n",
      "Recall: 0.363\n",
      "Accuracy: 0.363\n"
     ]
    },
    {
     "name": "stderr",
     "output_type": "stream",
     "text": [
      "/home/bnt4me/.local/lib/python3.8/site-packages/sklearn/svm/_base.py:1199: ConvergenceWarning: Liblinear failed to converge, increase the number of iterations.\n",
      "  warnings.warn(\n",
      "/home/bnt4me/.local/lib/python3.8/site-packages/sklearn/svm/_base.py:1199: ConvergenceWarning: Liblinear failed to converge, increase the number of iterations.\n",
      "  warnings.warn(\n",
      "/home/bnt4me/.local/lib/python3.8/site-packages/sklearn/svm/_base.py:1199: ConvergenceWarning: Liblinear failed to converge, increase the number of iterations.\n",
      "  warnings.warn(\n",
      "/home/bnt4me/.local/lib/python3.8/site-packages/sklearn/svm/_base.py:1199: ConvergenceWarning: Liblinear failed to converge, increase the number of iterations.\n",
      "  warnings.warn(\n",
      "/home/bnt4me/.local/lib/python3.8/site-packages/sklearn/svm/_base.py:1199: ConvergenceWarning: Liblinear failed to converge, increase the number of iterations.\n",
      "  warnings.warn(\n",
      "/home/bnt4me/.local/lib/python3.8/site-packages/sklearn/svm/_base.py:1199: ConvergenceWarning: Liblinear failed to converge, increase the number of iterations.\n",
      "  warnings.warn(\n",
      "/home/bnt4me/.local/lib/python3.8/site-packages/sklearn/svm/_base.py:1199: ConvergenceWarning: Liblinear failed to converge, increase the number of iterations.\n",
      "  warnings.warn(\n",
      "/home/bnt4me/.local/lib/python3.8/site-packages/sklearn/svm/_base.py:1199: ConvergenceWarning: Liblinear failed to converge, increase the number of iterations.\n",
      "  warnings.warn(\n",
      "/home/bnt4me/.local/lib/python3.8/site-packages/sklearn/svm/_base.py:1199: ConvergenceWarning: Liblinear failed to converge, increase the number of iterations.\n",
      "  warnings.warn(\n",
      "/home/bnt4me/.local/lib/python3.8/site-packages/sklearn/svm/_base.py:1199: ConvergenceWarning: Liblinear failed to converge, increase the number of iterations.\n",
      "  warnings.warn(\n",
      "/home/bnt4me/.local/lib/python3.8/site-packages/sklearn/svm/_base.py:1199: ConvergenceWarning: Liblinear failed to converge, increase the number of iterations.\n",
      "  warnings.warn(\n",
      "/home/bnt4me/.local/lib/python3.8/site-packages/sklearn/svm/_base.py:1199: ConvergenceWarning: Liblinear failed to converge, increase the number of iterations.\n",
      "  warnings.warn(\n",
      "/home/bnt4me/.local/lib/python3.8/site-packages/sklearn/svm/_base.py:1199: ConvergenceWarning: Liblinear failed to converge, increase the number of iterations.\n",
      "  warnings.warn(\n",
      "/home/bnt4me/.local/lib/python3.8/site-packages/sklearn/svm/_base.py:1199: ConvergenceWarning: Liblinear failed to converge, increase the number of iterations.\n",
      "  warnings.warn(\n",
      "/home/bnt4me/.local/lib/python3.8/site-packages/sklearn/svm/_base.py:1199: ConvergenceWarning: Liblinear failed to converge, increase the number of iterations.\n",
      "  warnings.warn(\n",
      "/home/bnt4me/.local/lib/python3.8/site-packages/sklearn/svm/_base.py:1199: ConvergenceWarning: Liblinear failed to converge, increase the number of iterations.\n",
      "  warnings.warn(\n",
      "/home/bnt4me/.local/lib/python3.8/site-packages/sklearn/svm/_base.py:1199: ConvergenceWarning: Liblinear failed to converge, increase the number of iterations.\n",
      "  warnings.warn(\n",
      "/home/bnt4me/.local/lib/python3.8/site-packages/sklearn/svm/_base.py:1199: ConvergenceWarning: Liblinear failed to converge, increase the number of iterations.\n",
      "  warnings.warn(\n",
      "/home/bnt4me/.local/lib/python3.8/site-packages/sklearn/svm/_base.py:1199: ConvergenceWarning: Liblinear failed to converge, increase the number of iterations.\n",
      "  warnings.warn(\n",
      "/home/bnt4me/.local/lib/python3.8/site-packages/sklearn/svm/_base.py:1199: ConvergenceWarning: Liblinear failed to converge, increase the number of iterations.\n",
      "  warnings.warn(\n",
      "/home/bnt4me/.local/lib/python3.8/site-packages/sklearn/svm/_base.py:1199: ConvergenceWarning: Liblinear failed to converge, increase the number of iterations.\n",
      "  warnings.warn(\n",
      "/home/bnt4me/.local/lib/python3.8/site-packages/sklearn/svm/_base.py:1199: ConvergenceWarning: Liblinear failed to converge, increase the number of iterations.\n",
      "  warnings.warn(\n",
      "/home/bnt4me/.local/lib/python3.8/site-packages/sklearn/svm/_base.py:1199: ConvergenceWarning: Liblinear failed to converge, increase the number of iterations.\n",
      "  warnings.warn(\n",
      "/home/bnt4me/.local/lib/python3.8/site-packages/sklearn/svm/_base.py:1199: ConvergenceWarning: Liblinear failed to converge, increase the number of iterations.\n",
      "  warnings.warn(\n",
      "/home/bnt4me/.local/lib/python3.8/site-packages/sklearn/svm/_base.py:1199: ConvergenceWarning: Liblinear failed to converge, increase the number of iterations.\n",
      "  warnings.warn(\n",
      "/home/bnt4me/.local/lib/python3.8/site-packages/sklearn/svm/_base.py:1199: ConvergenceWarning: Liblinear failed to converge, increase the number of iterations.\n",
      "  warnings.warn(\n",
      "/home/bnt4me/.local/lib/python3.8/site-packages/sklearn/svm/_base.py:1199: ConvergenceWarning: Liblinear failed to converge, increase the number of iterations.\n",
      "  warnings.warn(\n",
      "/home/bnt4me/.local/lib/python3.8/site-packages/sklearn/svm/_base.py:1199: ConvergenceWarning: Liblinear failed to converge, increase the number of iterations.\n",
      "  warnings.warn(\n",
      "/home/bnt4me/.local/lib/python3.8/site-packages/sklearn/svm/_base.py:1199: ConvergenceWarning: Liblinear failed to converge, increase the number of iterations.\n",
      "  warnings.warn(\n",
      "/home/bnt4me/.local/lib/python3.8/site-packages/sklearn/svm/_base.py:1199: ConvergenceWarning: Liblinear failed to converge, increase the number of iterations.\n",
      "  warnings.warn(\n",
      "/home/bnt4me/.local/lib/python3.8/site-packages/sklearn/svm/_base.py:1199: ConvergenceWarning: Liblinear failed to converge, increase the number of iterations.\n",
      "  warnings.warn(\n",
      "/home/bnt4me/.local/lib/python3.8/site-packages/sklearn/svm/_base.py:1199: ConvergenceWarning: Liblinear failed to converge, increase the number of iterations.\n",
      "  warnings.warn(\n",
      "/home/bnt4me/.local/lib/python3.8/site-packages/sklearn/svm/_base.py:1199: ConvergenceWarning: Liblinear failed to converge, increase the number of iterations.\n",
      "  warnings.warn(\n",
      "/home/bnt4me/.local/lib/python3.8/site-packages/sklearn/svm/_base.py:1199: ConvergenceWarning: Liblinear failed to converge, increase the number of iterations.\n",
      "  warnings.warn(\n",
      "/home/bnt4me/.local/lib/python3.8/site-packages/sklearn/svm/_base.py:1199: ConvergenceWarning: Liblinear failed to converge, increase the number of iterations.\n",
      "  warnings.warn(\n",
      "/home/bnt4me/.local/lib/python3.8/site-packages/sklearn/svm/_base.py:1199: ConvergenceWarning: Liblinear failed to converge, increase the number of iterations.\n",
      "  warnings.warn(\n",
      "/home/bnt4me/.local/lib/python3.8/site-packages/sklearn/svm/_base.py:1199: ConvergenceWarning: Liblinear failed to converge, increase the number of iterations.\n",
      "  warnings.warn(\n",
      "/home/bnt4me/.local/lib/python3.8/site-packages/sklearn/svm/_base.py:1199: ConvergenceWarning: Liblinear failed to converge, increase the number of iterations.\n",
      "  warnings.warn(\n",
      "/home/bnt4me/.local/lib/python3.8/site-packages/sklearn/svm/_base.py:1199: ConvergenceWarning: Liblinear failed to converge, increase the number of iterations.\n",
      "  warnings.warn(\n",
      "/home/bnt4me/.local/lib/python3.8/site-packages/sklearn/svm/_base.py:1199: ConvergenceWarning: Liblinear failed to converge, increase the number of iterations.\n",
      "  warnings.warn(\n",
      "/home/bnt4me/.local/lib/python3.8/site-packages/sklearn/svm/_base.py:1199: ConvergenceWarning: Liblinear failed to converge, increase the number of iterations.\n",
      "  warnings.warn(\n",
      "/home/bnt4me/.local/lib/python3.8/site-packages/sklearn/svm/_base.py:1199: ConvergenceWarning: Liblinear failed to converge, increase the number of iterations.\n",
      "  warnings.warn(\n",
      "/home/bnt4me/.local/lib/python3.8/site-packages/sklearn/svm/_base.py:1199: ConvergenceWarning: Liblinear failed to converge, increase the number of iterations.\n",
      "  warnings.warn(\n",
      "/home/bnt4me/.local/lib/python3.8/site-packages/sklearn/svm/_base.py:1199: ConvergenceWarning: Liblinear failed to converge, increase the number of iterations.\n",
      "  warnings.warn(\n",
      "/home/bnt4me/.local/lib/python3.8/site-packages/sklearn/svm/_base.py:1199: ConvergenceWarning: Liblinear failed to converge, increase the number of iterations.\n",
      "  warnings.warn(\n",
      "/home/bnt4me/.local/lib/python3.8/site-packages/sklearn/svm/_base.py:1199: ConvergenceWarning: Liblinear failed to converge, increase the number of iterations.\n",
      "  warnings.warn(\n",
      "/home/bnt4me/.local/lib/python3.8/site-packages/sklearn/svm/_base.py:1199: ConvergenceWarning: Liblinear failed to converge, increase the number of iterations.\n",
      "  warnings.warn(\n",
      "/home/bnt4me/.local/lib/python3.8/site-packages/sklearn/svm/_base.py:1199: ConvergenceWarning: Liblinear failed to converge, increase the number of iterations.\n",
      "  warnings.warn(\n",
      "/home/bnt4me/.local/lib/python3.8/site-packages/sklearn/svm/_base.py:1199: ConvergenceWarning: Liblinear failed to converge, increase the number of iterations.\n",
      "  warnings.warn(\n",
      "/home/bnt4me/.local/lib/python3.8/site-packages/sklearn/svm/_base.py:1199: ConvergenceWarning: Liblinear failed to converge, increase the number of iterations.\n",
      "  warnings.warn(\n",
      "/home/bnt4me/.local/lib/python3.8/site-packages/sklearn/svm/_base.py:1199: ConvergenceWarning: Liblinear failed to converge, increase the number of iterations.\n",
      "  warnings.warn(\n",
      "/home/bnt4me/.local/lib/python3.8/site-packages/sklearn/svm/_base.py:1199: ConvergenceWarning: Liblinear failed to converge, increase the number of iterations.\n",
      "  warnings.warn(\n",
      "/home/bnt4me/.local/lib/python3.8/site-packages/sklearn/svm/_base.py:1199: ConvergenceWarning: Liblinear failed to converge, increase the number of iterations.\n",
      "  warnings.warn(\n",
      "/home/bnt4me/.local/lib/python3.8/site-packages/sklearn/svm/_base.py:1199: ConvergenceWarning: Liblinear failed to converge, increase the number of iterations.\n",
      "  warnings.warn(\n",
      "/home/bnt4me/.local/lib/python3.8/site-packages/sklearn/svm/_base.py:1199: ConvergenceWarning: Liblinear failed to converge, increase the number of iterations.\n",
      "  warnings.warn(\n",
      "/home/bnt4me/.local/lib/python3.8/site-packages/sklearn/svm/_base.py:1199: ConvergenceWarning: Liblinear failed to converge, increase the number of iterations.\n",
      "  warnings.warn(\n",
      "/home/bnt4me/.local/lib/python3.8/site-packages/sklearn/svm/_base.py:1199: ConvergenceWarning: Liblinear failed to converge, increase the number of iterations.\n",
      "  warnings.warn(\n",
      "/home/bnt4me/.local/lib/python3.8/site-packages/sklearn/svm/_base.py:1199: ConvergenceWarning: Liblinear failed to converge, increase the number of iterations.\n",
      "  warnings.warn(\n",
      "/home/bnt4me/.local/lib/python3.8/site-packages/sklearn/svm/_base.py:1199: ConvergenceWarning: Liblinear failed to converge, increase the number of iterations.\n",
      "  warnings.warn(\n",
      "/home/bnt4me/.local/lib/python3.8/site-packages/sklearn/svm/_base.py:1199: ConvergenceWarning: Liblinear failed to converge, increase the number of iterations.\n",
      "  warnings.warn(\n",
      "/home/bnt4me/.local/lib/python3.8/site-packages/sklearn/svm/_base.py:1199: ConvergenceWarning: Liblinear failed to converge, increase the number of iterations.\n",
      "  warnings.warn(\n",
      "/home/bnt4me/.local/lib/python3.8/site-packages/sklearn/svm/_base.py:1199: ConvergenceWarning: Liblinear failed to converge, increase the number of iterations.\n",
      "  warnings.warn(\n",
      "/home/bnt4me/.local/lib/python3.8/site-packages/sklearn/svm/_base.py:1199: ConvergenceWarning: Liblinear failed to converge, increase the number of iterations.\n",
      "  warnings.warn(\n",
      "/home/bnt4me/.local/lib/python3.8/site-packages/sklearn/svm/_base.py:1199: ConvergenceWarning: Liblinear failed to converge, increase the number of iterations.\n",
      "  warnings.warn(\n",
      "/home/bnt4me/.local/lib/python3.8/site-packages/sklearn/svm/_base.py:1199: ConvergenceWarning: Liblinear failed to converge, increase the number of iterations.\n",
      "  warnings.warn(\n",
      "/home/bnt4me/.local/lib/python3.8/site-packages/sklearn/svm/_base.py:1199: ConvergenceWarning: Liblinear failed to converge, increase the number of iterations.\n",
      "  warnings.warn(\n",
      "/home/bnt4me/.local/lib/python3.8/site-packages/sklearn/svm/_base.py:1199: ConvergenceWarning: Liblinear failed to converge, increase the number of iterations.\n",
      "  warnings.warn(\n",
      "/home/bnt4me/.local/lib/python3.8/site-packages/sklearn/svm/_base.py:1199: ConvergenceWarning: Liblinear failed to converge, increase the number of iterations.\n",
      "  warnings.warn(\n",
      "/home/bnt4me/.local/lib/python3.8/site-packages/sklearn/svm/_base.py:1199: ConvergenceWarning: Liblinear failed to converge, increase the number of iterations.\n",
      "  warnings.warn(\n",
      "/home/bnt4me/.local/lib/python3.8/site-packages/sklearn/svm/_base.py:1199: ConvergenceWarning: Liblinear failed to converge, increase the number of iterations.\n",
      "  warnings.warn(\n",
      "/home/bnt4me/.local/lib/python3.8/site-packages/sklearn/svm/_base.py:1199: ConvergenceWarning: Liblinear failed to converge, increase the number of iterations.\n",
      "  warnings.warn(\n",
      "/home/bnt4me/.local/lib/python3.8/site-packages/sklearn/svm/_base.py:1199: ConvergenceWarning: Liblinear failed to converge, increase the number of iterations.\n",
      "  warnings.warn(\n"
     ]
    },
    {
     "name": "stderr",
     "output_type": "stream",
     "text": [
      "/home/bnt4me/.local/lib/python3.8/site-packages/sklearn/svm/_base.py:1199: ConvergenceWarning: Liblinear failed to converge, increase the number of iterations.\n",
      "  warnings.warn(\n",
      "/home/bnt4me/.local/lib/python3.8/site-packages/sklearn/svm/_base.py:1199: ConvergenceWarning: Liblinear failed to converge, increase the number of iterations.\n",
      "  warnings.warn(\n",
      "/home/bnt4me/.local/lib/python3.8/site-packages/sklearn/svm/_base.py:1199: ConvergenceWarning: Liblinear failed to converge, increase the number of iterations.\n",
      "  warnings.warn(\n",
      "/home/bnt4me/.local/lib/python3.8/site-packages/sklearn/svm/_base.py:1199: ConvergenceWarning: Liblinear failed to converge, increase the number of iterations.\n",
      "  warnings.warn(\n",
      "/home/bnt4me/.local/lib/python3.8/site-packages/sklearn/svm/_base.py:1199: ConvergenceWarning: Liblinear failed to converge, increase the number of iterations.\n",
      "  warnings.warn(\n",
      "/home/bnt4me/.local/lib/python3.8/site-packages/sklearn/svm/_base.py:1199: ConvergenceWarning: Liblinear failed to converge, increase the number of iterations.\n",
      "  warnings.warn(\n",
      "/home/bnt4me/.local/lib/python3.8/site-packages/sklearn/svm/_base.py:1199: ConvergenceWarning: Liblinear failed to converge, increase the number of iterations.\n",
      "  warnings.warn(\n",
      "/home/bnt4me/.local/lib/python3.8/site-packages/sklearn/svm/_base.py:1199: ConvergenceWarning: Liblinear failed to converge, increase the number of iterations.\n",
      "  warnings.warn(\n",
      "/home/bnt4me/.local/lib/python3.8/site-packages/sklearn/svm/_base.py:1199: ConvergenceWarning: Liblinear failed to converge, increase the number of iterations.\n",
      "  warnings.warn(\n",
      "/home/bnt4me/.local/lib/python3.8/site-packages/sklearn/svm/_base.py:1199: ConvergenceWarning: Liblinear failed to converge, increase the number of iterations.\n",
      "  warnings.warn(\n",
      "/home/bnt4me/.local/lib/python3.8/site-packages/sklearn/svm/_base.py:1199: ConvergenceWarning: Liblinear failed to converge, increase the number of iterations.\n",
      "  warnings.warn(\n",
      "/home/bnt4me/.local/lib/python3.8/site-packages/sklearn/svm/_base.py:1199: ConvergenceWarning: Liblinear failed to converge, increase the number of iterations.\n",
      "  warnings.warn(\n",
      "/home/bnt4me/.local/lib/python3.8/site-packages/sklearn/svm/_base.py:1199: ConvergenceWarning: Liblinear failed to converge, increase the number of iterations.\n",
      "  warnings.warn(\n",
      "/home/bnt4me/.local/lib/python3.8/site-packages/sklearn/svm/_base.py:1199: ConvergenceWarning: Liblinear failed to converge, increase the number of iterations.\n",
      "  warnings.warn(\n",
      "/home/bnt4me/.local/lib/python3.8/site-packages/sklearn/svm/_base.py:1199: ConvergenceWarning: Liblinear failed to converge, increase the number of iterations.\n",
      "  warnings.warn(\n",
      "/home/bnt4me/.local/lib/python3.8/site-packages/sklearn/svm/_base.py:1199: ConvergenceWarning: Liblinear failed to converge, increase the number of iterations.\n",
      "  warnings.warn(\n",
      "/home/bnt4me/.local/lib/python3.8/site-packages/sklearn/svm/_base.py:1199: ConvergenceWarning: Liblinear failed to converge, increase the number of iterations.\n",
      "  warnings.warn(\n",
      "/home/bnt4me/.local/lib/python3.8/site-packages/sklearn/svm/_base.py:1199: ConvergenceWarning: Liblinear failed to converge, increase the number of iterations.\n",
      "  warnings.warn(\n",
      "/home/bnt4me/.local/lib/python3.8/site-packages/sklearn/svm/_base.py:1199: ConvergenceWarning: Liblinear failed to converge, increase the number of iterations.\n",
      "  warnings.warn(\n",
      "/home/bnt4me/.local/lib/python3.8/site-packages/sklearn/svm/_base.py:1199: ConvergenceWarning: Liblinear failed to converge, increase the number of iterations.\n",
      "  warnings.warn(\n",
      "/home/bnt4me/.local/lib/python3.8/site-packages/sklearn/svm/_base.py:1199: ConvergenceWarning: Liblinear failed to converge, increase the number of iterations.\n",
      "  warnings.warn(\n",
      "/home/bnt4me/.local/lib/python3.8/site-packages/sklearn/svm/_base.py:1199: ConvergenceWarning: Liblinear failed to converge, increase the number of iterations.\n",
      "  warnings.warn(\n",
      "/home/bnt4me/.local/lib/python3.8/site-packages/sklearn/svm/_base.py:1199: ConvergenceWarning: Liblinear failed to converge, increase the number of iterations.\n",
      "  warnings.warn(\n",
      "/home/bnt4me/.local/lib/python3.8/site-packages/sklearn/svm/_base.py:1199: ConvergenceWarning: Liblinear failed to converge, increase the number of iterations.\n",
      "  warnings.warn(\n",
      "/home/bnt4me/.local/lib/python3.8/site-packages/sklearn/svm/_base.py:1199: ConvergenceWarning: Liblinear failed to converge, increase the number of iterations.\n",
      "  warnings.warn(\n",
      "/home/bnt4me/.local/lib/python3.8/site-packages/sklearn/svm/_base.py:1199: ConvergenceWarning: Liblinear failed to converge, increase the number of iterations.\n",
      "  warnings.warn(\n",
      "/home/bnt4me/.local/lib/python3.8/site-packages/sklearn/svm/_base.py:1199: ConvergenceWarning: Liblinear failed to converge, increase the number of iterations.\n",
      "  warnings.warn(\n",
      "/home/bnt4me/.local/lib/python3.8/site-packages/sklearn/svm/_base.py:1199: ConvergenceWarning: Liblinear failed to converge, increase the number of iterations.\n",
      "  warnings.warn(\n",
      "/home/bnt4me/.local/lib/python3.8/site-packages/sklearn/svm/_base.py:1199: ConvergenceWarning: Liblinear failed to converge, increase the number of iterations.\n",
      "  warnings.warn(\n",
      "/home/bnt4me/.local/lib/python3.8/site-packages/sklearn/svm/_base.py:1199: ConvergenceWarning: Liblinear failed to converge, increase the number of iterations.\n",
      "  warnings.warn(\n",
      "/home/bnt4me/.local/lib/python3.8/site-packages/sklearn/svm/_base.py:1199: ConvergenceWarning: Liblinear failed to converge, increase the number of iterations.\n",
      "  warnings.warn(\n",
      "/home/bnt4me/.local/lib/python3.8/site-packages/sklearn/svm/_base.py:1199: ConvergenceWarning: Liblinear failed to converge, increase the number of iterations.\n",
      "  warnings.warn(\n",
      "/home/bnt4me/.local/lib/python3.8/site-packages/sklearn/svm/_base.py:1199: ConvergenceWarning: Liblinear failed to converge, increase the number of iterations.\n",
      "  warnings.warn(\n",
      "/home/bnt4me/.local/lib/python3.8/site-packages/sklearn/svm/_base.py:1199: ConvergenceWarning: Liblinear failed to converge, increase the number of iterations.\n",
      "  warnings.warn(\n",
      "/home/bnt4me/.local/lib/python3.8/site-packages/sklearn/svm/_base.py:1199: ConvergenceWarning: Liblinear failed to converge, increase the number of iterations.\n",
      "  warnings.warn(\n",
      "/home/bnt4me/.local/lib/python3.8/site-packages/sklearn/svm/_base.py:1199: ConvergenceWarning: Liblinear failed to converge, increase the number of iterations.\n",
      "  warnings.warn(\n",
      "/home/bnt4me/.local/lib/python3.8/site-packages/sklearn/svm/_base.py:1199: ConvergenceWarning: Liblinear failed to converge, increase the number of iterations.\n",
      "  warnings.warn(\n",
      "/home/bnt4me/.local/lib/python3.8/site-packages/sklearn/svm/_base.py:1199: ConvergenceWarning: Liblinear failed to converge, increase the number of iterations.\n",
      "  warnings.warn(\n",
      "/home/bnt4me/.local/lib/python3.8/site-packages/sklearn/svm/_base.py:1199: ConvergenceWarning: Liblinear failed to converge, increase the number of iterations.\n",
      "  warnings.warn(\n",
      "/home/bnt4me/.local/lib/python3.8/site-packages/sklearn/svm/_base.py:1199: ConvergenceWarning: Liblinear failed to converge, increase the number of iterations.\n",
      "  warnings.warn(\n",
      "/home/bnt4me/.local/lib/python3.8/site-packages/sklearn/svm/_base.py:1199: ConvergenceWarning: Liblinear failed to converge, increase the number of iterations.\n",
      "  warnings.warn(\n",
      "/home/bnt4me/.local/lib/python3.8/site-packages/sklearn/svm/_base.py:1199: ConvergenceWarning: Liblinear failed to converge, increase the number of iterations.\n",
      "  warnings.warn(\n",
      "/home/bnt4me/.local/lib/python3.8/site-packages/sklearn/svm/_base.py:1199: ConvergenceWarning: Liblinear failed to converge, increase the number of iterations.\n",
      "  warnings.warn(\n",
      "/home/bnt4me/.local/lib/python3.8/site-packages/sklearn/svm/_base.py:1199: ConvergenceWarning: Liblinear failed to converge, increase the number of iterations.\n",
      "  warnings.warn(\n",
      "/home/bnt4me/.local/lib/python3.8/site-packages/sklearn/svm/_base.py:1199: ConvergenceWarning: Liblinear failed to converge, increase the number of iterations.\n",
      "  warnings.warn(\n",
      "/home/bnt4me/.local/lib/python3.8/site-packages/sklearn/svm/_base.py:1199: ConvergenceWarning: Liblinear failed to converge, increase the number of iterations.\n",
      "  warnings.warn(\n",
      "/home/bnt4me/.local/lib/python3.8/site-packages/sklearn/svm/_base.py:1199: ConvergenceWarning: Liblinear failed to converge, increase the number of iterations.\n",
      "  warnings.warn(\n",
      "/home/bnt4me/.local/lib/python3.8/site-packages/sklearn/svm/_base.py:1199: ConvergenceWarning: Liblinear failed to converge, increase the number of iterations.\n",
      "  warnings.warn(\n"
     ]
    }
   ],
   "source": [
    "%matplotlib inline\n",
    "import seaborn as sns; sns.set()\n",
    "from sklearn.metrics import confusion_matrix\n",
    "import matplotlib.pyplot as plt\n",
    "\n",
    "y_test_pred = clf_svc.predict(X_test)\n",
    "cm_test = confusion_matrix(y_test, y_test_pred)\n",
    "\n",
    "sns.heatmap(cm_test.T, square=True, annot=True, fmt='d', cbar=False,\n",
    "            xticklabels= np.unique(y_test),\n",
    "            yticklabels= np.unique(y_test_pred))\n",
    "plt.xlabel('true label')\n",
    "plt.ylabel('predicted label');\n",
    "plt.title('Confusion Matrix DT - Test Set')\n",
    "plt.show()\n",
    "\n",
    "print('Precision: %.3f' %(precision_score(y_test, y_test_pred,average='micro')))\n",
    "print('Recall: %.3f' %(recall_score(y_test, y_test_pred,average='micro')))\n",
    "print('Accuracy: %.3f' %(accuracy_score(y_test,y_test_pred)))"
   ]
  },
  {
   "cell_type": "markdown",
   "metadata": {
    "id": "ZJ4qyaklX3aI"
   },
   "source": [
    "# Ensemble method:\n"
   ]
  },
  {
   "cell_type": "markdown",
   "metadata": {
    "id": "S8iK8hEtRBHL"
   },
   "source": [
    "## 2.2.5. Voting clasifier"
   ]
  },
  {
   "cell_type": "code",
   "execution_count": 165,
   "metadata": {
    "colab": {
     "base_uri": "https://localhost:8080/"
    },
    "id": "zsG9r-BOX97j",
    "outputId": "4afadd70-1d73-4cfb-ea34-609f5740daca"
   },
   "outputs": [],
   "source": [
    "from sklearn.ensemble import VotingClassifier\n",
    "\n",
    "from sklearn import svm\n",
    "from sklearn.tree import DecisionTreeClassifier\n",
    "from sklearn.neighbors import KNeighborsClassifier\n",
    "from sklearn.neural_network import MLPClassifier\n",
    "\n",
    "\n",
    "classif_model_1 = DecisionTreeClassifier(random_state=15, criterion= 'gini', max_depth= 10)\n",
    "\n",
    "classif_model_2 = MLPClassifier(random_state=1, max_iter=300, activation= 'relu', alpha= 0.0001)\n",
    "\n",
    "classif_model_3 = svm.LinearSVC(random_state=1, C= 1, penalty= 'l2')\n",
    "\n",
    "classif_model_4 = KNeighborsClassifier(metric= 'manhattan', n_neighbors= 3, \n",
    "                                       weights= 'distance',n_jobs=4)\n",
    "\n",
    "ereg = VotingClassifier(estimators=[('DT', classif_model_1), ('NN', classif_model_2),\n",
    "                                    ('SVC', classif_model_3), ('KNN', classif_model_4)])\n",
    "ereg = ereg.fit(X_train_1, y_train_1)"
   ]
  },
  {
   "cell_type": "code",
   "execution_count": 166,
   "metadata": {
    "colab": {
     "base_uri": "https://localhost:8080/"
    },
    "id": "uJlRsoEyY1uE",
    "outputId": "d1b09acc-5185-4732-80ee-2dbe71c786d6"
   },
   "outputs": [
    {
     "name": "stdout",
     "output_type": "stream",
     "text": [
      "Classification report:\n",
      "              precision    recall  f1-score   support\n",
      "\n",
      "           0       0.21      0.51      0.29        47\n",
      "           1       0.53      0.22      0.31       172\n",
      "           2       0.31      0.45      0.37        73\n",
      "\n",
      "    accuracy                           0.32       292\n",
      "   macro avg       0.35      0.39      0.32       292\n",
      "weighted avg       0.42      0.32      0.32       292\n",
      "\n",
      "\n"
     ]
    }
   ],
   "source": [
    "from sklearn.metrics import classification_report\n",
    "\n",
    "y_pred_rf = ereg .predict(X_test)\n",
    "\n",
    "print('Classification report:\\n{0}\\n'.format(classification_report(y_test, y_pred_rf)))"
   ]
  },
  {
   "cell_type": "code",
   "execution_count": 167,
   "metadata": {
    "colab": {
     "base_uri": "https://localhost:8080/",
     "height": 302
    },
    "id": "6Taud8ohY-Pf",
    "outputId": "9f256008-6c8a-423d-8b5a-4fad0f68b32e"
   },
   "outputs": [
    {
     "data": {
      "image/png": "[encoded data removed]",
      "text/plain": [
       "<Figure size 432x288 with 1 Axes>"
      ]
     },
     "metadata": {},
     "output_type": "display_data"
    }
   ],
   "source": [
    "%matplotlib inline\n",
    "import seaborn as sns; sns.set()\n",
    "from sklearn.metrics import confusion_matrix\n",
    "import matplotlib.pyplot as plt\n",
    "\n",
    "y_test_pred = ereg.predict(X_test)\n",
    "cm_test = confusion_matrix(y_test, y_test_pred)\n",
    "\n",
    "sns.heatmap(cm_test.T, square=True, annot=True, fmt='d', cbar=False,\n",
    "            xticklabels= np.unique(y_test),\n",
    "            yticklabels= np.unique(y_test_pred))\n",
    "plt.xlabel('true label')\n",
    "plt.ylabel('predicted label');\n",
    "plt.title('Confusion Voting Classifier - Test Set')\n",
    "plt.show()"
   ]
  },
  {
   "cell_type": "markdown",
   "metadata": {
    "id": "aOCHnxONRGe3"
   },
   "source": [
    "## 2.2.6. XGBoost"
   ]
  },
  {
   "cell_type": "code",
   "execution_count": 168,
   "metadata": {
    "colab": {
     "base_uri": "https://localhost:8080/"
    },
    "id": "Bg9sxFBjy4Qa",
    "outputId": "8a215b8e-55f2-418e-b6fb-f0610dd058d3"
   },
   "outputs": [
    {
     "name": "stderr",
     "output_type": "stream",
     "text": [
      "/home/bnt4me/.local/lib/python3.8/site-packages/xgboost/sklearn.py:1224: UserWarning: The use of label encoder in XGBClassifier is deprecated and will be removed in a future release. To remove this warning, do the following: 1) Pass option use_label_encoder=False when constructing XGBClassifier object; and 2) Encode your labels (y) as integers starting with 0, i.e. 0, 1, 2, ..., [num_class - 1].\n",
      "  warnings.warn(label_encoder_deprecation_msg, UserWarning)\n"
     ]
    },
    {
     "name": "stdout",
     "output_type": "stream",
     "text": [
      "[16:50:55] WARNING: ../src/learner.cc:1115: Starting in XGBoost 1.3.0, the default evaluation metric used with the objective 'multi:softprob' was changed from 'merror' to 'mlogloss'. Explicitly set eval_metric if you'd like to restore the old behavior.\n"
     ]
    },
    {
     "data": {
      "text/plain": [
       "RandomizedSearchCV(cv=3,\n",
       "                   estimator=XGBClassifier(base_score=None, booster=None,\n",
       "                                           colsample_bylevel=None,\n",
       "                                           colsample_bynode=None,\n",
       "                                           colsample_bytree=None,\n",
       "                                           enable_categorical=False, gamma=None,\n",
       "                                           gpu_id=None, importance_type=None,\n",
       "                                           interaction_constraints=None,\n",
       "                                           learning_rate=None,\n",
       "                                           max_delta_step=None, max_depth=None,\n",
       "                                           min_child_weight=None, missing=nan,\n",
       "                                           monotone_constraints...\n",
       "                                        'learning_rate': <scipy.stats._distn_infrastructure.rv_frozen object at 0x7fab90c58220>,\n",
       "                                        'max_depth': <scipy.stats._distn_infrastructure.rv_frozen object at 0x7faaf3876fa0>,\n",
       "                                        'n_estimators': <scipy.stats._distn_infrastructure.rv_frozen object at 0x7faaf3ac8f40>,\n",
       "                                        'subsample': <scipy.stats._distn_infrastructure.rv_frozen object at 0x7faaf38a7610>},\n",
       "                   random_state=10, return_train_score=True)"
      ]
     },
     "execution_count": 168,
     "metadata": {},
     "output_type": "execute_result"
    }
   ],
   "source": [
    "import xgboost as xgb\n",
    "from scipy.stats import uniform, randint\n",
    "from sklearn.model_selection import RandomizedSearchCV\n",
    "xgb_model = xgb.XGBClassifier(objective=\"multi:softprob\", random_state=10)\n",
    "params = {\n",
    "    \"colsample_bytree\": uniform(0.7, 0.3),\n",
    "    \"gamma\": uniform(0, 0.5),\n",
    "    \"learning_rate\": uniform(0.03, 0.3), # default 0.1 \n",
    "    \"max_depth\": randint(2, 6), # default 3\n",
    "    \"n_estimators\": randint(100, 150), # default 100\n",
    "    \"subsample\": uniform(0.6, 0.4)\n",
    "}\n",
    "\n",
    "search = RandomizedSearchCV(xgb_model, param_distributions=params, random_state=10, cv=3, n_jobs=8, return_train_score=True)\n",
    "\n",
    "search.fit(X_train_1, y_train_1)"
   ]
  },
  {
   "cell_type": "code",
   "execution_count": 169,
   "metadata": {
    "colab": {
     "base_uri": "https://localhost:8080/",
     "height": 163
    },
    "id": "EMmVhgh1y4VJ",
    "outputId": "5c2846d6-1e96-45ca-b7a7-43061d87102a"
   },
   "outputs": [
    {
     "data": {
      "text/plain": [
       "{'colsample_bytree': 0.7035364088154892,\n",
       " 'gamma': 0.30597167055550545,\n",
       " 'learning_rate': 0.12956467670031507,\n",
       " 'max_depth': 3,\n",
       " 'n_estimators': 115,\n",
       " 'subsample': 0.734199858607948}"
      ]
     },
     "execution_count": 169,
     "metadata": {},
     "output_type": "execute_result"
    }
   ],
   "source": [
    "search.best_params_"
   ]
  },
  {
   "cell_type": "code",
   "execution_count": 170,
   "metadata": {
    "id": "0Te3_lYwy4b5"
   },
   "outputs": [
    {
     "name": "stdout",
     "output_type": "stream",
     "text": [
      "Classification report:\n",
      "              precision    recall  f1-score   support\n",
      "\n",
      "           0       0.24      0.28      0.26        47\n",
      "           1       0.56      0.19      0.29       172\n",
      "           2       0.26      0.63      0.37        73\n",
      "\n",
      "    accuracy                           0.32       292\n",
      "   macro avg       0.35      0.37      0.30       292\n",
      "weighted avg       0.43      0.32      0.30       292\n",
      "\n",
      "\n"
     ]
    }
   ],
   "source": [
    "from sklearn.metrics import classification_report\n",
    "\n",
    "y_pred_rf = search.predict(X_test)\n",
    "\n",
    "print('Classification report:\\n{0}\\n'.format(classification_report(y_test, y_pred_rf)))"
   ]
  },
  {
   "cell_type": "code",
   "execution_count": 171,
   "metadata": {
    "id": "3LrWdODJzC7A"
   },
   "outputs": [
    {
     "data": {
      "image/png": "[encoded data removed]",
      "text/plain": [
       "<Figure size 432x288 with 1 Axes>"
      ]
     },
     "metadata": {},
     "output_type": "display_data"
    },
    {
     "name": "stdout",
     "output_type": "stream",
     "text": [
      "[16:17:41] WARNING: ../src/learner.cc:1115: Starting in XGBoost 1.3.0, the default evaluation metric used with the objective 'multi:softprob' was changed from 'merror' to 'mlogloss'. Explicitly set eval_metric if you'd like to restore the old behavior.\n",
      "[16:26:45] WARNING: ../src/learner.cc:1115: Starting in XGBoost 1.3.0, the default evaluation metric used with the objective 'multi:softprob' was changed from 'merror' to 'mlogloss'. Explicitly set eval_metric if you'd like to restore the old behavior.\n",
      "[16:38:45] WARNING: ../src/learner.cc:1115: Starting in XGBoost 1.3.0, the default evaluation metric used with the objective 'multi:softprob' was changed from 'merror' to 'mlogloss'. Explicitly set eval_metric if you'd like to restore the old behavior.\n"
     ]
    },
    {
     "name": "stderr",
     "output_type": "stream",
     "text": [
      "/home/bnt4me/.local/lib/python3.8/site-packages/xgboost/sklearn.py:1224: UserWarning: The use of label encoder in XGBClassifier is deprecated and will be removed in a future release. To remove this warning, do the following: 1) Pass option use_label_encoder=False when constructing XGBClassifier object; and 2) Encode your labels (y) as integers starting with 0, i.e. 0, 1, 2, ..., [num_class - 1].\n",
      "  warnings.warn(label_encoder_deprecation_msg, UserWarning)\n",
      "/home/bnt4me/.local/lib/python3.8/site-packages/xgboost/sklearn.py:1224: UserWarning: The use of label encoder in XGBClassifier is deprecated and will be removed in a future release. To remove this warning, do the following: 1) Pass option use_label_encoder=False when constructing XGBClassifier object; and 2) Encode your labels (y) as integers starting with 0, i.e. 0, 1, 2, ..., [num_class - 1].\n",
      "  warnings.warn(label_encoder_deprecation_msg, UserWarning)\n",
      "/home/bnt4me/.local/lib/python3.8/site-packages/xgboost/sklearn.py:1224: UserWarning: The use of label encoder in XGBClassifier is deprecated and will be removed in a future release. To remove this warning, do the following: 1) Pass option use_label_encoder=False when constructing XGBClassifier object; and 2) Encode your labels (y) as integers starting with 0, i.e. 0, 1, 2, ..., [num_class - 1].\n",
      "  warnings.warn(label_encoder_deprecation_msg, UserWarning)\n"
     ]
    },
    {
     "name": "stdout",
     "output_type": "stream",
     "text": [
      "[16:17:37] WARNING: ../src/learner.cc:1115: Starting in XGBoost 1.3.0, the default evaluation metric used with the objective 'multi:softprob' was changed from 'merror' to 'mlogloss'. Explicitly set eval_metric if you'd like to restore the old behavior.\n",
      "[16:23:26] WARNING: ../src/learner.cc:1115: Starting in XGBoost 1.3.0, the default evaluation metric used with the objective 'multi:softprob' was changed from 'merror' to 'mlogloss'. Explicitly set eval_metric if you'd like to restore the old behavior.\n",
      "[16:34:49] WARNING: ../src/learner.cc:1115: Starting in XGBoost 1.3.0, the default evaluation metric used with the objective 'multi:softprob' was changed from 'merror' to 'mlogloss'. Explicitly set eval_metric if you'd like to restore the old behavior.\n",
      "[16:42:32] WARNING: ../src/learner.cc:1115: Starting in XGBoost 1.3.0, the default evaluation metric used with the objective 'multi:softprob' was changed from 'merror' to 'mlogloss'. Explicitly set eval_metric if you'd like to restore the old behavior.\n"
     ]
    },
    {
     "name": "stderr",
     "output_type": "stream",
     "text": [
      "/home/bnt4me/.local/lib/python3.8/site-packages/xgboost/sklearn.py:1224: UserWarning: The use of label encoder in XGBClassifier is deprecated and will be removed in a future release. To remove this warning, do the following: 1) Pass option use_label_encoder=False when constructing XGBClassifier object; and 2) Encode your labels (y) as integers starting with 0, i.e. 0, 1, 2, ..., [num_class - 1].\n",
      "  warnings.warn(label_encoder_deprecation_msg, UserWarning)\n",
      "/home/bnt4me/.local/lib/python3.8/site-packages/xgboost/sklearn.py:1224: UserWarning: The use of label encoder in XGBClassifier is deprecated and will be removed in a future release. To remove this warning, do the following: 1) Pass option use_label_encoder=False when constructing XGBClassifier object; and 2) Encode your labels (y) as integers starting with 0, i.e. 0, 1, 2, ..., [num_class - 1].\n",
      "  warnings.warn(label_encoder_deprecation_msg, UserWarning)\n",
      "/home/bnt4me/.local/lib/python3.8/site-packages/xgboost/sklearn.py:1224: UserWarning: The use of label encoder in XGBClassifier is deprecated and will be removed in a future release. To remove this warning, do the following: 1) Pass option use_label_encoder=False when constructing XGBClassifier object; and 2) Encode your labels (y) as integers starting with 0, i.e. 0, 1, 2, ..., [num_class - 1].\n",
      "  warnings.warn(label_encoder_deprecation_msg, UserWarning)\n",
      "/home/bnt4me/.local/lib/python3.8/site-packages/xgboost/sklearn.py:1224: UserWarning: The use of label encoder in XGBClassifier is deprecated and will be removed in a future release. To remove this warning, do the following: 1) Pass option use_label_encoder=False when constructing XGBClassifier object; and 2) Encode your labels (y) as integers starting with 0, i.e. 0, 1, 2, ..., [num_class - 1].\n",
      "  warnings.warn(label_encoder_deprecation_msg, UserWarning)\n",
      "/home/bnt4me/.local/lib/python3.8/site-packages/xgboost/sklearn.py:1224: UserWarning: The use of label encoder in XGBClassifier is deprecated and will be removed in a future release. To remove this warning, do the following: 1) Pass option use_label_encoder=False when constructing XGBClassifier object; and 2) Encode your labels (y) as integers starting with 0, i.e. 0, 1, 2, ..., [num_class - 1].\n",
      "  warnings.warn(label_encoder_deprecation_msg, UserWarning)\n",
      "/home/bnt4me/.local/lib/python3.8/site-packages/xgboost/sklearn.py:1224: UserWarning: The use of label encoder in XGBClassifier is deprecated and will be removed in a future release. To remove this warning, do the following: 1) Pass option use_label_encoder=False when constructing XGBClassifier object; and 2) Encode your labels (y) as integers starting with 0, i.e. 0, 1, 2, ..., [num_class - 1].\n",
      "  warnings.warn(label_encoder_deprecation_msg, UserWarning)\n",
      "/home/bnt4me/.local/lib/python3.8/site-packages/xgboost/sklearn.py:1224: UserWarning: The use of label encoder in XGBClassifier is deprecated and will be removed in a future release. To remove this warning, do the following: 1) Pass option use_label_encoder=False when constructing XGBClassifier object; and 2) Encode your labels (y) as integers starting with 0, i.e. 0, 1, 2, ..., [num_class - 1].\n",
      "  warnings.warn(label_encoder_deprecation_msg, UserWarning)\n",
      "/home/bnt4me/.local/lib/python3.8/site-packages/xgboost/sklearn.py:1224: UserWarning: The use of label encoder in XGBClassifier is deprecated and will be removed in a future release. To remove this warning, do the following: 1) Pass option use_label_encoder=False when constructing XGBClassifier object; and 2) Encode your labels (y) as integers starting with 0, i.e. 0, 1, 2, ..., [num_class - 1].\n",
      "  warnings.warn(label_encoder_deprecation_msg, UserWarning)\n"
     ]
    },
    {
     "name": "stdout",
     "output_type": "stream",
     "text": [
      "[16:17:36] WARNING: ../src/learner.cc:1115: Starting in XGBoost 1.3.0, the default evaluation metric used with the objective 'multi:softprob' was changed from 'merror' to 'mlogloss'. Explicitly set eval_metric if you'd like to restore the old behavior.\n",
      "[16:23:30] WARNING: ../src/learner.cc:1115: Starting in XGBoost 1.3.0, the default evaluation metric used with the objective 'multi:softprob' was changed from 'merror' to 'mlogloss'. Explicitly set eval_metric if you'd like to restore the old behavior.\n",
      "[16:35:06] WARNING: ../src/learner.cc:1115: Starting in XGBoost 1.3.0, the default evaluation metric used with the objective 'multi:softprob' was changed from 'merror' to 'mlogloss'. Explicitly set eval_metric if you'd like to restore the old behavior.\n",
      "[16:42:38] WARNING: ../src/learner.cc:1115: Starting in XGBoost 1.3.0, the default evaluation metric used with the objective 'multi:softprob' was changed from 'merror' to 'mlogloss'. Explicitly set eval_metric if you'd like to restore the old behavior.\n",
      "[16:17:36] WARNING: ../src/learner.cc:1115: Starting in XGBoost 1.3.0, the default evaluation metric used with the objective 'multi:softprob' was changed from 'merror' to 'mlogloss'. Explicitly set eval_metric if you'd like to restore the old behavior.\n",
      "[16:23:37] WARNING: ../src/learner.cc:1115: Starting in XGBoost 1.3.0, the default evaluation metric used with the objective 'multi:softprob' was changed from 'merror' to 'mlogloss'. Explicitly set eval_metric if you'd like to restore the old behavior.\n",
      "[16:35:08] WARNING: ../src/learner.cc:1115: Starting in XGBoost 1.3.0, the default evaluation metric used with the objective 'multi:softprob' was changed from 'merror' to 'mlogloss'. Explicitly set eval_metric if you'd like to restore the old behavior.\n",
      "[16:42:45] WARNING: ../src/learner.cc:1115: Starting in XGBoost 1.3.0, the default evaluation metric used with the objective 'multi:softprob' was changed from 'merror' to 'mlogloss'. Explicitly set eval_metric if you'd like to restore the old behavior.\n"
     ]
    },
    {
     "name": "stderr",
     "output_type": "stream",
     "text": [
      "/home/bnt4me/.local/lib/python3.8/site-packages/xgboost/sklearn.py:1224: UserWarning: The use of label encoder in XGBClassifier is deprecated and will be removed in a future release. To remove this warning, do the following: 1) Pass option use_label_encoder=False when constructing XGBClassifier object; and 2) Encode your labels (y) as integers starting with 0, i.e. 0, 1, 2, ..., [num_class - 1].\n",
      "  warnings.warn(label_encoder_deprecation_msg, UserWarning)\n",
      "/home/bnt4me/.local/lib/python3.8/site-packages/xgboost/sklearn.py:1224: UserWarning: The use of label encoder in XGBClassifier is deprecated and will be removed in a future release. To remove this warning, do the following: 1) Pass option use_label_encoder=False when constructing XGBClassifier object; and 2) Encode your labels (y) as integers starting with 0, i.e. 0, 1, 2, ..., [num_class - 1].\n",
      "  warnings.warn(label_encoder_deprecation_msg, UserWarning)\n",
      "/home/bnt4me/.local/lib/python3.8/site-packages/xgboost/sklearn.py:1224: UserWarning: The use of label encoder in XGBClassifier is deprecated and will be removed in a future release. To remove this warning, do the following: 1) Pass option use_label_encoder=False when constructing XGBClassifier object; and 2) Encode your labels (y) as integers starting with 0, i.e. 0, 1, 2, ..., [num_class - 1].\n",
      "  warnings.warn(label_encoder_deprecation_msg, UserWarning)\n",
      "/home/bnt4me/.local/lib/python3.8/site-packages/xgboost/sklearn.py:1224: UserWarning: The use of label encoder in XGBClassifier is deprecated and will be removed in a future release. To remove this warning, do the following: 1) Pass option use_label_encoder=False when constructing XGBClassifier object; and 2) Encode your labels (y) as integers starting with 0, i.e. 0, 1, 2, ..., [num_class - 1].\n",
      "  warnings.warn(label_encoder_deprecation_msg, UserWarning)\n"
     ]
    },
    {
     "name": "stdout",
     "output_type": "stream",
     "text": [
      "[16:17:40] WARNING: ../src/learner.cc:1115: Starting in XGBoost 1.3.0, the default evaluation metric used with the objective 'multi:softprob' was changed from 'merror' to 'mlogloss'. Explicitly set eval_metric if you'd like to restore the old behavior.\n",
      "[16:29:35] WARNING: ../src/learner.cc:1115: Starting in XGBoost 1.3.0, the default evaluation metric used with the objective 'multi:softprob' was changed from 'merror' to 'mlogloss'. Explicitly set eval_metric if you'd like to restore the old behavior.\n",
      "[16:41:09] WARNING: ../src/learner.cc:1115: Starting in XGBoost 1.3.0, the default evaluation metric used with the objective 'multi:softprob' was changed from 'merror' to 'mlogloss'. Explicitly set eval_metric if you'd like to restore the old behavior.\n"
     ]
    },
    {
     "name": "stderr",
     "output_type": "stream",
     "text": [
      "/home/bnt4me/.local/lib/python3.8/site-packages/xgboost/sklearn.py:1224: UserWarning: The use of label encoder in XGBClassifier is deprecated and will be removed in a future release. To remove this warning, do the following: 1) Pass option use_label_encoder=False when constructing XGBClassifier object; and 2) Encode your labels (y) as integers starting with 0, i.e. 0, 1, 2, ..., [num_class - 1].\n",
      "  warnings.warn(label_encoder_deprecation_msg, UserWarning)\n",
      "/home/bnt4me/.local/lib/python3.8/site-packages/xgboost/sklearn.py:1224: UserWarning: The use of label encoder in XGBClassifier is deprecated and will be removed in a future release. To remove this warning, do the following: 1) Pass option use_label_encoder=False when constructing XGBClassifier object; and 2) Encode your labels (y) as integers starting with 0, i.e. 0, 1, 2, ..., [num_class - 1].\n",
      "  warnings.warn(label_encoder_deprecation_msg, UserWarning)\n",
      "/home/bnt4me/.local/lib/python3.8/site-packages/xgboost/sklearn.py:1224: UserWarning: The use of label encoder in XGBClassifier is deprecated and will be removed in a future release. To remove this warning, do the following: 1) Pass option use_label_encoder=False when constructing XGBClassifier object; and 2) Encode your labels (y) as integers starting with 0, i.e. 0, 1, 2, ..., [num_class - 1].\n",
      "  warnings.warn(label_encoder_deprecation_msg, UserWarning)\n"
     ]
    },
    {
     "name": "stdout",
     "output_type": "stream",
     "text": [
      "[16:17:40] WARNING: ../src/learner.cc:1115: Starting in XGBoost 1.3.0, the default evaluation metric used with the objective 'multi:softprob' was changed from 'merror' to 'mlogloss'. Explicitly set eval_metric if you'd like to restore the old behavior.\n",
      "[16:29:42] WARNING: ../src/learner.cc:1115: Starting in XGBoost 1.3.0, the default evaluation metric used with the objective 'multi:softprob' was changed from 'merror' to 'mlogloss'. Explicitly set eval_metric if you'd like to restore the old behavior.\n",
      "[16:37:16] WARNING: ../src/learner.cc:1115: Starting in XGBoost 1.3.0, the default evaluation metric used with the objective 'multi:softprob' was changed from 'merror' to 'mlogloss'. Explicitly set eval_metric if you'd like to restore the old behavior.\n",
      "[16:44:41] WARNING: ../src/learner.cc:1115: Starting in XGBoost 1.3.0, the default evaluation metric used with the objective 'multi:softprob' was changed from 'merror' to 'mlogloss'. Explicitly set eval_metric if you'd like to restore the old behavior.\n"
     ]
    },
    {
     "name": "stderr",
     "output_type": "stream",
     "text": [
      "/home/bnt4me/.local/lib/python3.8/site-packages/xgboost/sklearn.py:1224: UserWarning: The use of label encoder in XGBClassifier is deprecated and will be removed in a future release. To remove this warning, do the following: 1) Pass option use_label_encoder=False when constructing XGBClassifier object; and 2) Encode your labels (y) as integers starting with 0, i.e. 0, 1, 2, ..., [num_class - 1].\n",
      "  warnings.warn(label_encoder_deprecation_msg, UserWarning)\n",
      "/home/bnt4me/.local/lib/python3.8/site-packages/xgboost/sklearn.py:1224: UserWarning: The use of label encoder in XGBClassifier is deprecated and will be removed in a future release. To remove this warning, do the following: 1) Pass option use_label_encoder=False when constructing XGBClassifier object; and 2) Encode your labels (y) as integers starting with 0, i.e. 0, 1, 2, ..., [num_class - 1].\n",
      "  warnings.warn(label_encoder_deprecation_msg, UserWarning)\n",
      "/home/bnt4me/.local/lib/python3.8/site-packages/xgboost/sklearn.py:1224: UserWarning: The use of label encoder in XGBClassifier is deprecated and will be removed in a future release. To remove this warning, do the following: 1) Pass option use_label_encoder=False when constructing XGBClassifier object; and 2) Encode your labels (y) as integers starting with 0, i.e. 0, 1, 2, ..., [num_class - 1].\n",
      "  warnings.warn(label_encoder_deprecation_msg, UserWarning)\n",
      "/home/bnt4me/.local/lib/python3.8/site-packages/xgboost/sklearn.py:1224: UserWarning: The use of label encoder in XGBClassifier is deprecated and will be removed in a future release. To remove this warning, do the following: 1) Pass option use_label_encoder=False when constructing XGBClassifier object; and 2) Encode your labels (y) as integers starting with 0, i.e. 0, 1, 2, ..., [num_class - 1].\n",
      "  warnings.warn(label_encoder_deprecation_msg, UserWarning)\n"
     ]
    },
    {
     "name": "stdout",
     "output_type": "stream",
     "text": [
      "[16:17:41] WARNING: ../src/learner.cc:1115: Starting in XGBoost 1.3.0, the default evaluation metric used with the objective 'multi:softprob' was changed from 'merror' to 'mlogloss'. Explicitly set eval_metric if you'd like to restore the old behavior.\n",
      "[16:26:52] WARNING: ../src/learner.cc:1115: Starting in XGBoost 1.3.0, the default evaluation metric used with the objective 'multi:softprob' was changed from 'merror' to 'mlogloss'. Explicitly set eval_metric if you'd like to restore the old behavior.\n",
      "[16:38:15] WARNING: ../src/learner.cc:1115: Starting in XGBoost 1.3.0, the default evaluation metric used with the objective 'multi:softprob' was changed from 'merror' to 'mlogloss'. Explicitly set eval_metric if you'd like to restore the old behavior.\n",
      "[16:45:37] WARNING: ../src/learner.cc:1115: Starting in XGBoost 1.3.0, the default evaluation metric used with the objective 'multi:softprob' was changed from 'merror' to 'mlogloss'. Explicitly set eval_metric if you'd like to restore the old behavior.\n"
     ]
    },
    {
     "name": "stderr",
     "output_type": "stream",
     "text": [
      "/home/bnt4me/.local/lib/python3.8/site-packages/xgboost/sklearn.py:1224: UserWarning: The use of label encoder in XGBClassifier is deprecated and will be removed in a future release. To remove this warning, do the following: 1) Pass option use_label_encoder=False when constructing XGBClassifier object; and 2) Encode your labels (y) as integers starting with 0, i.e. 0, 1, 2, ..., [num_class - 1].\n",
      "  warnings.warn(label_encoder_deprecation_msg, UserWarning)\n",
      "/home/bnt4me/.local/lib/python3.8/site-packages/xgboost/sklearn.py:1224: UserWarning: The use of label encoder in XGBClassifier is deprecated and will be removed in a future release. To remove this warning, do the following: 1) Pass option use_label_encoder=False when constructing XGBClassifier object; and 2) Encode your labels (y) as integers starting with 0, i.e. 0, 1, 2, ..., [num_class - 1].\n",
      "  warnings.warn(label_encoder_deprecation_msg, UserWarning)\n",
      "/home/bnt4me/.local/lib/python3.8/site-packages/xgboost/sklearn.py:1224: UserWarning: The use of label encoder in XGBClassifier is deprecated and will be removed in a future release. To remove this warning, do the following: 1) Pass option use_label_encoder=False when constructing XGBClassifier object; and 2) Encode your labels (y) as integers starting with 0, i.e. 0, 1, 2, ..., [num_class - 1].\n",
      "  warnings.warn(label_encoder_deprecation_msg, UserWarning)\n",
      "/home/bnt4me/.local/lib/python3.8/site-packages/xgboost/sklearn.py:1224: UserWarning: The use of label encoder in XGBClassifier is deprecated and will be removed in a future release. To remove this warning, do the following: 1) Pass option use_label_encoder=False when constructing XGBClassifier object; and 2) Encode your labels (y) as integers starting with 0, i.e. 0, 1, 2, ..., [num_class - 1].\n",
      "  warnings.warn(label_encoder_deprecation_msg, UserWarning)\n"
     ]
    },
    {
     "name": "stdout",
     "output_type": "stream",
     "text": [
      "[16:17:41] WARNING: ../src/learner.cc:1115: Starting in XGBoost 1.3.0, the default evaluation metric used with the objective 'multi:softprob' was changed from 'merror' to 'mlogloss'. Explicitly set eval_metric if you'd like to restore the old behavior.\n",
      "[16:26:52] WARNING: ../src/learner.cc:1115: Starting in XGBoost 1.3.0, the default evaluation metric used with the objective 'multi:softprob' was changed from 'merror' to 'mlogloss'. Explicitly set eval_metric if you'd like to restore the old behavior.\n",
      "[16:38:41] WARNING: ../src/learner.cc:1115: Starting in XGBoost 1.3.0, the default evaluation metric used with the objective 'multi:softprob' was changed from 'merror' to 'mlogloss'. Explicitly set eval_metric if you'd like to restore the old behavior.\n",
      "[16:46:35] WARNING: ../src/learner.cc:1115: Starting in XGBoost 1.3.0, the default evaluation metric used with the objective 'multi:softprob' was changed from 'merror' to 'mlogloss'. Explicitly set eval_metric if you'd like to restore the old behavior.\n"
     ]
    },
    {
     "name": "stderr",
     "output_type": "stream",
     "text": [
      "/home/bnt4me/.local/lib/python3.8/site-packages/xgboost/sklearn.py:1224: UserWarning: The use of label encoder in XGBClassifier is deprecated and will be removed in a future release. To remove this warning, do the following: 1) Pass option use_label_encoder=False when constructing XGBClassifier object; and 2) Encode your labels (y) as integers starting with 0, i.e. 0, 1, 2, ..., [num_class - 1].\n",
      "  warnings.warn(label_encoder_deprecation_msg, UserWarning)\n",
      "/home/bnt4me/.local/lib/python3.8/site-packages/xgboost/sklearn.py:1224: UserWarning: The use of label encoder in XGBClassifier is deprecated and will be removed in a future release. To remove this warning, do the following: 1) Pass option use_label_encoder=False when constructing XGBClassifier object; and 2) Encode your labels (y) as integers starting with 0, i.e. 0, 1, 2, ..., [num_class - 1].\n",
      "  warnings.warn(label_encoder_deprecation_msg, UserWarning)\n",
      "/home/bnt4me/.local/lib/python3.8/site-packages/xgboost/sklearn.py:1224: UserWarning: The use of label encoder in XGBClassifier is deprecated and will be removed in a future release. To remove this warning, do the following: 1) Pass option use_label_encoder=False when constructing XGBClassifier object; and 2) Encode your labels (y) as integers starting with 0, i.e. 0, 1, 2, ..., [num_class - 1].\n",
      "  warnings.warn(label_encoder_deprecation_msg, UserWarning)\n",
      "/home/bnt4me/.local/lib/python3.8/site-packages/xgboost/sklearn.py:1224: UserWarning: The use of label encoder in XGBClassifier is deprecated and will be removed in a future release. To remove this warning, do the following: 1) Pass option use_label_encoder=False when constructing XGBClassifier object; and 2) Encode your labels (y) as integers starting with 0, i.e. 0, 1, 2, ..., [num_class - 1].\n",
      "  warnings.warn(label_encoder_deprecation_msg, UserWarning)\n"
     ]
    }
   ],
   "source": [
    "%matplotlib inline\n",
    "import seaborn as sns; sns.set()\n",
    "from sklearn.metrics import confusion_matrix\n",
    "import matplotlib.pyplot as plt\n",
    "\n",
    "y_test_pred = search.predict(X_test)\n",
    "cm_test = confusion_matrix(y_test, y_test_pred)\n",
    "\n",
    "sns.heatmap(cm_test.T, square=True, annot=True, fmt='d', cbar=False,\n",
    "            xticklabels= np.unique(y_test),\n",
    "            yticklabels= np.unique(y_test_pred))\n",
    "plt.xlabel('true label')\n",
    "plt.ylabel('predicted label');\n",
    "plt.title('Confusion Matrix DT - Test Set')\n",
    "plt.show()"
   ]
  }
 ],
 "metadata": {
  "colab": {
   "collapsed_sections": [],
   "name": "1_Classification.ipynb",
   "provenance": [],
   "toc_visible": true
  },
  "kernelspec": {
   "display_name": "Python 3 (ipykernel)",
   "language": "python",
   "name": "python3"
  },
  "language_info": {
   "codemirror_mode": {
    "name": "ipython",
    "version": 3
   },
   "file_extension": ".py",
   "mimetype": "text/x-python",
   "name": "python",
   "nbconvert_exporter": "python",
   "pygments_lexer": "ipython3",
   "version": "3.8.10"
  }
 },
 "nbformat": 4,
 "nbformat_minor": 1
}
