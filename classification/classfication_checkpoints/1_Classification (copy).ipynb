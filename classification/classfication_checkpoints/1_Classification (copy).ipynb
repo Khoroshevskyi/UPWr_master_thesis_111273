{
 "cells": [
  {
   "cell_type": "markdown",
   "metadata": {
    "id": "Ll79-hq_Jeha"
   },
   "source": [
    "# 1. Load and Preprocess Dataset"
   ]
  },
  {
   "cell_type": "markdown",
   "metadata": {
    "id": "qG4bd6Yzga65"
   },
   "source": [
    "## Data Load"
   ]
  },
  {
   "cell_type": "markdown",
   "metadata": {
    "id": "v-StRL0Cdd_l"
   },
   "source": [
    "First import the data and check whether there are some missing values:"
   ]
  },
  {
   "cell_type": "code",
   "execution_count": 1,
   "metadata": {
    "id": "Tm7djmE6-lu6"
   },
   "outputs": [],
   "source": [
    "import pandas as pd\n",
    "data = pd.read_csv(\"./gdc_data/last_file_age50.csv\", delimiter=\"\\t\", index_col=0, low_memory=False)\n",
    "\n",
    "# data = data.T\n"
   ]
  },
  {
   "cell_type": "code",
   "execution_count": 2,
   "metadata": {},
   "outputs": [
    {
     "data": {
      "text/html": [
       "<div>\n",
       "<style scoped>\n",
       "    .dataframe tbody tr th:only-of-type {\n",
       "        vertical-align: middle;\n",
       "    }\n",
       "\n",
       "    .dataframe tbody tr th {\n",
       "        vertical-align: top;\n",
       "    }\n",
       "\n",
       "    .dataframe thead th {\n",
       "        text-align: right;\n",
       "    }\n",
       "</style>\n",
       "<table border=\"1\" class=\"dataframe\">\n",
       "  <thead>\n",
       "    <tr style=\"text-align: right;\">\n",
       "      <th></th>\n",
       "      <th>ENSG00000000003.13</th>\n",
       "      <th>ENSG00000000005.5</th>\n",
       "      <th>ENSG00000000419.11</th>\n",
       "      <th>ENSG00000000457.12</th>\n",
       "      <th>ENSG00000000460.15</th>\n",
       "      <th>ENSG00000000938.11</th>\n",
       "      <th>ENSG00000000971.14</th>\n",
       "      <th>ENSG00000001036.12</th>\n",
       "      <th>ENSG00000001084.9</th>\n",
       "      <th>ENSG00000001167.13</th>\n",
       "      <th>...</th>\n",
       "      <th>ENSGR0000264510.4</th>\n",
       "      <th>ENSGR0000264819.4</th>\n",
       "      <th>ENSGR0000265658.4</th>\n",
       "      <th>ENSGR0000270726.4</th>\n",
       "      <th>ENSGR0000275287.3</th>\n",
       "      <th>ENSGR0000276543.3</th>\n",
       "      <th>ENSGR0000277120.3</th>\n",
       "      <th>ENSGR0000280767.1</th>\n",
       "      <th>ENSGR0000281849.1</th>\n",
       "      <th>tumor_stage</th>\n",
       "    </tr>\n",
       "  </thead>\n",
       "  <tbody>\n",
       "    <tr>\n",
       "      <th>9c2ffccc-c4c8-4f87-bcd8-8ce099e31b1b.tsv</th>\n",
       "      <td>18.494097</td>\n",
       "      <td>7.602179</td>\n",
       "      <td>19.931779</td>\n",
       "      <td>3.506889</td>\n",
       "      <td>1.271071</td>\n",
       "      <td>0.641102</td>\n",
       "      <td>22.456774</td>\n",
       "      <td>9.238558</td>\n",
       "      <td>4.023385</td>\n",
       "      <td>13.794199</td>\n",
       "      <td>...</td>\n",
       "      <td>0.0</td>\n",
       "      <td>0.0</td>\n",
       "      <td>0.0</td>\n",
       "      <td>0.0</td>\n",
       "      <td>0.0</td>\n",
       "      <td>0.0</td>\n",
       "      <td>0.0</td>\n",
       "      <td>0.0</td>\n",
       "      <td>0.0</td>\n",
       "      <td>stage_1</td>\n",
       "    </tr>\n",
       "    <tr>\n",
       "      <th>98bb8ea9-025e-40cd-a21e-3a9dd478ef23.tsv</th>\n",
       "      <td>11.885182</td>\n",
       "      <td>0.015710</td>\n",
       "      <td>15.569735</td>\n",
       "      <td>4.178134</td>\n",
       "      <td>1.644657</td>\n",
       "      <td>1.121219</td>\n",
       "      <td>4.161150</td>\n",
       "      <td>26.144210</td>\n",
       "      <td>2.913936</td>\n",
       "      <td>12.138763</td>\n",
       "      <td>...</td>\n",
       "      <td>0.0</td>\n",
       "      <td>0.0</td>\n",
       "      <td>0.0</td>\n",
       "      <td>0.0</td>\n",
       "      <td>0.0</td>\n",
       "      <td>0.0</td>\n",
       "      <td>0.0</td>\n",
       "      <td>0.0</td>\n",
       "      <td>0.0</td>\n",
       "      <td>stage_1</td>\n",
       "    </tr>\n",
       "    <tr>\n",
       "      <th>80072d64-b734-46ef-b4bf-a9e5cd0d5d06.tsv</th>\n",
       "      <td>30.573980</td>\n",
       "      <td>0.085679</td>\n",
       "      <td>16.685801</td>\n",
       "      <td>5.912154</td>\n",
       "      <td>1.459720</td>\n",
       "      <td>0.941633</td>\n",
       "      <td>4.831594</td>\n",
       "      <td>19.247613</td>\n",
       "      <td>8.056663</td>\n",
       "      <td>12.446309</td>\n",
       "      <td>...</td>\n",
       "      <td>0.0</td>\n",
       "      <td>0.0</td>\n",
       "      <td>0.0</td>\n",
       "      <td>0.0</td>\n",
       "      <td>0.0</td>\n",
       "      <td>0.0</td>\n",
       "      <td>0.0</td>\n",
       "      <td>0.0</td>\n",
       "      <td>0.0</td>\n",
       "      <td>stage_1</td>\n",
       "    </tr>\n",
       "    <tr>\n",
       "      <th>d14add36-6662-47ce-9a26-3374bf1e8807.tsv</th>\n",
       "      <td>13.001739</td>\n",
       "      <td>0.479700</td>\n",
       "      <td>25.257213</td>\n",
       "      <td>6.002025</td>\n",
       "      <td>2.287405</td>\n",
       "      <td>2.671804</td>\n",
       "      <td>4.142815</td>\n",
       "      <td>32.463305</td>\n",
       "      <td>5.656340</td>\n",
       "      <td>12.277188</td>\n",
       "      <td>...</td>\n",
       "      <td>0.0</td>\n",
       "      <td>0.0</td>\n",
       "      <td>0.0</td>\n",
       "      <td>0.0</td>\n",
       "      <td>0.0</td>\n",
       "      <td>0.0</td>\n",
       "      <td>0.0</td>\n",
       "      <td>0.0</td>\n",
       "      <td>0.0</td>\n",
       "      <td>stage_1</td>\n",
       "    </tr>\n",
       "    <tr>\n",
       "      <th>728be0eb-7a5b-42cd-84d9-6a86cec842d5.tsv</th>\n",
       "      <td>24.448627</td>\n",
       "      <td>0.854750</td>\n",
       "      <td>35.417509</td>\n",
       "      <td>3.563964</td>\n",
       "      <td>0.780744</td>\n",
       "      <td>2.158713</td>\n",
       "      <td>7.785929</td>\n",
       "      <td>42.377826</td>\n",
       "      <td>7.366566</td>\n",
       "      <td>10.355912</td>\n",
       "      <td>...</td>\n",
       "      <td>0.0</td>\n",
       "      <td>0.0</td>\n",
       "      <td>0.0</td>\n",
       "      <td>0.0</td>\n",
       "      <td>0.0</td>\n",
       "      <td>0.0</td>\n",
       "      <td>0.0</td>\n",
       "      <td>0.0</td>\n",
       "      <td>0.0</td>\n",
       "      <td>stage_1</td>\n",
       "    </tr>\n",
       "    <tr>\n",
       "      <th>...</th>\n",
       "      <td>...</td>\n",
       "      <td>...</td>\n",
       "      <td>...</td>\n",
       "      <td>...</td>\n",
       "      <td>...</td>\n",
       "      <td>...</td>\n",
       "      <td>...</td>\n",
       "      <td>...</td>\n",
       "      <td>...</td>\n",
       "      <td>...</td>\n",
       "      <td>...</td>\n",
       "      <td>...</td>\n",
       "      <td>...</td>\n",
       "      <td>...</td>\n",
       "      <td>...</td>\n",
       "      <td>...</td>\n",
       "      <td>...</td>\n",
       "      <td>...</td>\n",
       "      <td>...</td>\n",
       "      <td>...</td>\n",
       "      <td>...</td>\n",
       "    </tr>\n",
       "    <tr>\n",
       "      <th>f4f51b52-c045-4ac7-9474-be80c9ee0fba.tsv</th>\n",
       "      <td>13.275616</td>\n",
       "      <td>0.369023</td>\n",
       "      <td>29.315320</td>\n",
       "      <td>16.676177</td>\n",
       "      <td>3.714472</td>\n",
       "      <td>2.636576</td>\n",
       "      <td>13.859327</td>\n",
       "      <td>16.131280</td>\n",
       "      <td>4.452036</td>\n",
       "      <td>17.620810</td>\n",
       "      <td>...</td>\n",
       "      <td>0.0</td>\n",
       "      <td>0.0</td>\n",
       "      <td>0.0</td>\n",
       "      <td>0.0</td>\n",
       "      <td>0.0</td>\n",
       "      <td>0.0</td>\n",
       "      <td>0.0</td>\n",
       "      <td>0.0</td>\n",
       "      <td>0.0</td>\n",
       "      <td>stage_3</td>\n",
       "    </tr>\n",
       "    <tr>\n",
       "      <th>e3cacc94-c92a-42b1-9fad-9db163983729.tsv</th>\n",
       "      <td>14.012250</td>\n",
       "      <td>0.000000</td>\n",
       "      <td>40.343530</td>\n",
       "      <td>3.182987</td>\n",
       "      <td>2.068706</td>\n",
       "      <td>2.400204</td>\n",
       "      <td>0.669107</td>\n",
       "      <td>27.688413</td>\n",
       "      <td>3.499950</td>\n",
       "      <td>11.490357</td>\n",
       "      <td>...</td>\n",
       "      <td>0.0</td>\n",
       "      <td>0.0</td>\n",
       "      <td>0.0</td>\n",
       "      <td>0.0</td>\n",
       "      <td>0.0</td>\n",
       "      <td>0.0</td>\n",
       "      <td>0.0</td>\n",
       "      <td>0.0</td>\n",
       "      <td>0.0</td>\n",
       "      <td>stage_3</td>\n",
       "    </tr>\n",
       "    <tr>\n",
       "      <th>c7843936-3b14-48b4-8642-8554341d3f21.tsv</th>\n",
       "      <td>24.388335</td>\n",
       "      <td>0.036127</td>\n",
       "      <td>35.961697</td>\n",
       "      <td>4.937238</td>\n",
       "      <td>1.669313</td>\n",
       "      <td>1.012952</td>\n",
       "      <td>2.249482</td>\n",
       "      <td>43.249032</td>\n",
       "      <td>3.223381</td>\n",
       "      <td>17.975347</td>\n",
       "      <td>...</td>\n",
       "      <td>0.0</td>\n",
       "      <td>0.0</td>\n",
       "      <td>0.0</td>\n",
       "      <td>0.0</td>\n",
       "      <td>0.0</td>\n",
       "      <td>0.0</td>\n",
       "      <td>0.0</td>\n",
       "      <td>0.0</td>\n",
       "      <td>0.0</td>\n",
       "      <td>stage_3</td>\n",
       "    </tr>\n",
       "    <tr>\n",
       "      <th>f6d3d770-157b-479b-a5cc-56e174dda026.tsv</th>\n",
       "      <td>3.298339</td>\n",
       "      <td>0.087305</td>\n",
       "      <td>49.143734</td>\n",
       "      <td>6.470176</td>\n",
       "      <td>3.861269</td>\n",
       "      <td>3.506592</td>\n",
       "      <td>10.045164</td>\n",
       "      <td>13.021841</td>\n",
       "      <td>4.521750</td>\n",
       "      <td>22.206526</td>\n",
       "      <td>...</td>\n",
       "      <td>0.0</td>\n",
       "      <td>0.0</td>\n",
       "      <td>0.0</td>\n",
       "      <td>0.0</td>\n",
       "      <td>0.0</td>\n",
       "      <td>0.0</td>\n",
       "      <td>0.0</td>\n",
       "      <td>0.0</td>\n",
       "      <td>0.0</td>\n",
       "      <td>stage_3</td>\n",
       "    </tr>\n",
       "    <tr>\n",
       "      <th>3bdf6376-9aa9-44cc-a1f1-5a6387edce23.tsv</th>\n",
       "      <td>11.592353</td>\n",
       "      <td>0.072909</td>\n",
       "      <td>26.633373</td>\n",
       "      <td>8.724446</td>\n",
       "      <td>3.757394</td>\n",
       "      <td>1.829451</td>\n",
       "      <td>1.846769</td>\n",
       "      <td>22.382897</td>\n",
       "      <td>2.185559</td>\n",
       "      <td>12.364561</td>\n",
       "      <td>...</td>\n",
       "      <td>0.0</td>\n",
       "      <td>0.0</td>\n",
       "      <td>0.0</td>\n",
       "      <td>0.0</td>\n",
       "      <td>0.0</td>\n",
       "      <td>0.0</td>\n",
       "      <td>0.0</td>\n",
       "      <td>0.0</td>\n",
       "      <td>0.0</td>\n",
       "      <td>stage_3</td>\n",
       "    </tr>\n",
       "  </tbody>\n",
       "</table>\n",
       "<p>859 rows × 60484 columns</p>\n",
       "</div>"
      ],
      "text/plain": [
       "                                          ENSG00000000003.13  \\\n",
       "9c2ffccc-c4c8-4f87-bcd8-8ce099e31b1b.tsv           18.494097   \n",
       "98bb8ea9-025e-40cd-a21e-3a9dd478ef23.tsv           11.885182   \n",
       "80072d64-b734-46ef-b4bf-a9e5cd0d5d06.tsv           30.573980   \n",
       "d14add36-6662-47ce-9a26-3374bf1e8807.tsv           13.001739   \n",
       "728be0eb-7a5b-42cd-84d9-6a86cec842d5.tsv           24.448627   \n",
       "...                                                      ...   \n",
       "f4f51b52-c045-4ac7-9474-be80c9ee0fba.tsv           13.275616   \n",
       "e3cacc94-c92a-42b1-9fad-9db163983729.tsv           14.012250   \n",
       "c7843936-3b14-48b4-8642-8554341d3f21.tsv           24.388335   \n",
       "f6d3d770-157b-479b-a5cc-56e174dda026.tsv            3.298339   \n",
       "3bdf6376-9aa9-44cc-a1f1-5a6387edce23.tsv           11.592353   \n",
       "\n",
       "                                          ENSG00000000005.5  \\\n",
       "9c2ffccc-c4c8-4f87-bcd8-8ce099e31b1b.tsv           7.602179   \n",
       "98bb8ea9-025e-40cd-a21e-3a9dd478ef23.tsv           0.015710   \n",
       "80072d64-b734-46ef-b4bf-a9e5cd0d5d06.tsv           0.085679   \n",
       "d14add36-6662-47ce-9a26-3374bf1e8807.tsv           0.479700   \n",
       "728be0eb-7a5b-42cd-84d9-6a86cec842d5.tsv           0.854750   \n",
       "...                                                     ...   \n",
       "f4f51b52-c045-4ac7-9474-be80c9ee0fba.tsv           0.369023   \n",
       "e3cacc94-c92a-42b1-9fad-9db163983729.tsv           0.000000   \n",
       "c7843936-3b14-48b4-8642-8554341d3f21.tsv           0.036127   \n",
       "f6d3d770-157b-479b-a5cc-56e174dda026.tsv           0.087305   \n",
       "3bdf6376-9aa9-44cc-a1f1-5a6387edce23.tsv           0.072909   \n",
       "\n",
       "                                          ENSG00000000419.11  \\\n",
       "9c2ffccc-c4c8-4f87-bcd8-8ce099e31b1b.tsv           19.931779   \n",
       "98bb8ea9-025e-40cd-a21e-3a9dd478ef23.tsv           15.569735   \n",
       "80072d64-b734-46ef-b4bf-a9e5cd0d5d06.tsv           16.685801   \n",
       "d14add36-6662-47ce-9a26-3374bf1e8807.tsv           25.257213   \n",
       "728be0eb-7a5b-42cd-84d9-6a86cec842d5.tsv           35.417509   \n",
       "...                                                      ...   \n",
       "f4f51b52-c045-4ac7-9474-be80c9ee0fba.tsv           29.315320   \n",
       "e3cacc94-c92a-42b1-9fad-9db163983729.tsv           40.343530   \n",
       "c7843936-3b14-48b4-8642-8554341d3f21.tsv           35.961697   \n",
       "f6d3d770-157b-479b-a5cc-56e174dda026.tsv           49.143734   \n",
       "3bdf6376-9aa9-44cc-a1f1-5a6387edce23.tsv           26.633373   \n",
       "\n",
       "                                          ENSG00000000457.12  \\\n",
       "9c2ffccc-c4c8-4f87-bcd8-8ce099e31b1b.tsv            3.506889   \n",
       "98bb8ea9-025e-40cd-a21e-3a9dd478ef23.tsv            4.178134   \n",
       "80072d64-b734-46ef-b4bf-a9e5cd0d5d06.tsv            5.912154   \n",
       "d14add36-6662-47ce-9a26-3374bf1e8807.tsv            6.002025   \n",
       "728be0eb-7a5b-42cd-84d9-6a86cec842d5.tsv            3.563964   \n",
       "...                                                      ...   \n",
       "f4f51b52-c045-4ac7-9474-be80c9ee0fba.tsv           16.676177   \n",
       "e3cacc94-c92a-42b1-9fad-9db163983729.tsv            3.182987   \n",
       "c7843936-3b14-48b4-8642-8554341d3f21.tsv            4.937238   \n",
       "f6d3d770-157b-479b-a5cc-56e174dda026.tsv            6.470176   \n",
       "3bdf6376-9aa9-44cc-a1f1-5a6387edce23.tsv            8.724446   \n",
       "\n",
       "                                          ENSG00000000460.15  \\\n",
       "9c2ffccc-c4c8-4f87-bcd8-8ce099e31b1b.tsv            1.271071   \n",
       "98bb8ea9-025e-40cd-a21e-3a9dd478ef23.tsv            1.644657   \n",
       "80072d64-b734-46ef-b4bf-a9e5cd0d5d06.tsv            1.459720   \n",
       "d14add36-6662-47ce-9a26-3374bf1e8807.tsv            2.287405   \n",
       "728be0eb-7a5b-42cd-84d9-6a86cec842d5.tsv            0.780744   \n",
       "...                                                      ...   \n",
       "f4f51b52-c045-4ac7-9474-be80c9ee0fba.tsv            3.714472   \n",
       "e3cacc94-c92a-42b1-9fad-9db163983729.tsv            2.068706   \n",
       "c7843936-3b14-48b4-8642-8554341d3f21.tsv            1.669313   \n",
       "f6d3d770-157b-479b-a5cc-56e174dda026.tsv            3.861269   \n",
       "3bdf6376-9aa9-44cc-a1f1-5a6387edce23.tsv            3.757394   \n",
       "\n",
       "                                          ENSG00000000938.11  \\\n",
       "9c2ffccc-c4c8-4f87-bcd8-8ce099e31b1b.tsv            0.641102   \n",
       "98bb8ea9-025e-40cd-a21e-3a9dd478ef23.tsv            1.121219   \n",
       "80072d64-b734-46ef-b4bf-a9e5cd0d5d06.tsv            0.941633   \n",
       "d14add36-6662-47ce-9a26-3374bf1e8807.tsv            2.671804   \n",
       "728be0eb-7a5b-42cd-84d9-6a86cec842d5.tsv            2.158713   \n",
       "...                                                      ...   \n",
       "f4f51b52-c045-4ac7-9474-be80c9ee0fba.tsv            2.636576   \n",
       "e3cacc94-c92a-42b1-9fad-9db163983729.tsv            2.400204   \n",
       "c7843936-3b14-48b4-8642-8554341d3f21.tsv            1.012952   \n",
       "f6d3d770-157b-479b-a5cc-56e174dda026.tsv            3.506592   \n",
       "3bdf6376-9aa9-44cc-a1f1-5a6387edce23.tsv            1.829451   \n",
       "\n",
       "                                          ENSG00000000971.14  \\\n",
       "9c2ffccc-c4c8-4f87-bcd8-8ce099e31b1b.tsv           22.456774   \n",
       "98bb8ea9-025e-40cd-a21e-3a9dd478ef23.tsv            4.161150   \n",
       "80072d64-b734-46ef-b4bf-a9e5cd0d5d06.tsv            4.831594   \n",
       "d14add36-6662-47ce-9a26-3374bf1e8807.tsv            4.142815   \n",
       "728be0eb-7a5b-42cd-84d9-6a86cec842d5.tsv            7.785929   \n",
       "...                                                      ...   \n",
       "f4f51b52-c045-4ac7-9474-be80c9ee0fba.tsv           13.859327   \n",
       "e3cacc94-c92a-42b1-9fad-9db163983729.tsv            0.669107   \n",
       "c7843936-3b14-48b4-8642-8554341d3f21.tsv            2.249482   \n",
       "f6d3d770-157b-479b-a5cc-56e174dda026.tsv           10.045164   \n",
       "3bdf6376-9aa9-44cc-a1f1-5a6387edce23.tsv            1.846769   \n",
       "\n",
       "                                          ENSG00000001036.12  \\\n",
       "9c2ffccc-c4c8-4f87-bcd8-8ce099e31b1b.tsv            9.238558   \n",
       "98bb8ea9-025e-40cd-a21e-3a9dd478ef23.tsv           26.144210   \n",
       "80072d64-b734-46ef-b4bf-a9e5cd0d5d06.tsv           19.247613   \n",
       "d14add36-6662-47ce-9a26-3374bf1e8807.tsv           32.463305   \n",
       "728be0eb-7a5b-42cd-84d9-6a86cec842d5.tsv           42.377826   \n",
       "...                                                      ...   \n",
       "f4f51b52-c045-4ac7-9474-be80c9ee0fba.tsv           16.131280   \n",
       "e3cacc94-c92a-42b1-9fad-9db163983729.tsv           27.688413   \n",
       "c7843936-3b14-48b4-8642-8554341d3f21.tsv           43.249032   \n",
       "f6d3d770-157b-479b-a5cc-56e174dda026.tsv           13.021841   \n",
       "3bdf6376-9aa9-44cc-a1f1-5a6387edce23.tsv           22.382897   \n",
       "\n",
       "                                          ENSG00000001084.9  \\\n",
       "9c2ffccc-c4c8-4f87-bcd8-8ce099e31b1b.tsv           4.023385   \n",
       "98bb8ea9-025e-40cd-a21e-3a9dd478ef23.tsv           2.913936   \n",
       "80072d64-b734-46ef-b4bf-a9e5cd0d5d06.tsv           8.056663   \n",
       "d14add36-6662-47ce-9a26-3374bf1e8807.tsv           5.656340   \n",
       "728be0eb-7a5b-42cd-84d9-6a86cec842d5.tsv           7.366566   \n",
       "...                                                     ...   \n",
       "f4f51b52-c045-4ac7-9474-be80c9ee0fba.tsv           4.452036   \n",
       "e3cacc94-c92a-42b1-9fad-9db163983729.tsv           3.499950   \n",
       "c7843936-3b14-48b4-8642-8554341d3f21.tsv           3.223381   \n",
       "f6d3d770-157b-479b-a5cc-56e174dda026.tsv           4.521750   \n",
       "3bdf6376-9aa9-44cc-a1f1-5a6387edce23.tsv           2.185559   \n",
       "\n",
       "                                          ENSG00000001167.13  ...  \\\n",
       "9c2ffccc-c4c8-4f87-bcd8-8ce099e31b1b.tsv           13.794199  ...   \n",
       "98bb8ea9-025e-40cd-a21e-3a9dd478ef23.tsv           12.138763  ...   \n",
       "80072d64-b734-46ef-b4bf-a9e5cd0d5d06.tsv           12.446309  ...   \n",
       "d14add36-6662-47ce-9a26-3374bf1e8807.tsv           12.277188  ...   \n",
       "728be0eb-7a5b-42cd-84d9-6a86cec842d5.tsv           10.355912  ...   \n",
       "...                                                      ...  ...   \n",
       "f4f51b52-c045-4ac7-9474-be80c9ee0fba.tsv           17.620810  ...   \n",
       "e3cacc94-c92a-42b1-9fad-9db163983729.tsv           11.490357  ...   \n",
       "c7843936-3b14-48b4-8642-8554341d3f21.tsv           17.975347  ...   \n",
       "f6d3d770-157b-479b-a5cc-56e174dda026.tsv           22.206526  ...   \n",
       "3bdf6376-9aa9-44cc-a1f1-5a6387edce23.tsv           12.364561  ...   \n",
       "\n",
       "                                          ENSGR0000264510.4  \\\n",
       "9c2ffccc-c4c8-4f87-bcd8-8ce099e31b1b.tsv                0.0   \n",
       "98bb8ea9-025e-40cd-a21e-3a9dd478ef23.tsv                0.0   \n",
       "80072d64-b734-46ef-b4bf-a9e5cd0d5d06.tsv                0.0   \n",
       "d14add36-6662-47ce-9a26-3374bf1e8807.tsv                0.0   \n",
       "728be0eb-7a5b-42cd-84d9-6a86cec842d5.tsv                0.0   \n",
       "...                                                     ...   \n",
       "f4f51b52-c045-4ac7-9474-be80c9ee0fba.tsv                0.0   \n",
       "e3cacc94-c92a-42b1-9fad-9db163983729.tsv                0.0   \n",
       "c7843936-3b14-48b4-8642-8554341d3f21.tsv                0.0   \n",
       "f6d3d770-157b-479b-a5cc-56e174dda026.tsv                0.0   \n",
       "3bdf6376-9aa9-44cc-a1f1-5a6387edce23.tsv                0.0   \n",
       "\n",
       "                                          ENSGR0000264819.4  \\\n",
       "9c2ffccc-c4c8-4f87-bcd8-8ce099e31b1b.tsv                0.0   \n",
       "98bb8ea9-025e-40cd-a21e-3a9dd478ef23.tsv                0.0   \n",
       "80072d64-b734-46ef-b4bf-a9e5cd0d5d06.tsv                0.0   \n",
       "d14add36-6662-47ce-9a26-3374bf1e8807.tsv                0.0   \n",
       "728be0eb-7a5b-42cd-84d9-6a86cec842d5.tsv                0.0   \n",
       "...                                                     ...   \n",
       "f4f51b52-c045-4ac7-9474-be80c9ee0fba.tsv                0.0   \n",
       "e3cacc94-c92a-42b1-9fad-9db163983729.tsv                0.0   \n",
       "c7843936-3b14-48b4-8642-8554341d3f21.tsv                0.0   \n",
       "f6d3d770-157b-479b-a5cc-56e174dda026.tsv                0.0   \n",
       "3bdf6376-9aa9-44cc-a1f1-5a6387edce23.tsv                0.0   \n",
       "\n",
       "                                          ENSGR0000265658.4  \\\n",
       "9c2ffccc-c4c8-4f87-bcd8-8ce099e31b1b.tsv                0.0   \n",
       "98bb8ea9-025e-40cd-a21e-3a9dd478ef23.tsv                0.0   \n",
       "80072d64-b734-46ef-b4bf-a9e5cd0d5d06.tsv                0.0   \n",
       "d14add36-6662-47ce-9a26-3374bf1e8807.tsv                0.0   \n",
       "728be0eb-7a5b-42cd-84d9-6a86cec842d5.tsv                0.0   \n",
       "...                                                     ...   \n",
       "f4f51b52-c045-4ac7-9474-be80c9ee0fba.tsv                0.0   \n",
       "e3cacc94-c92a-42b1-9fad-9db163983729.tsv                0.0   \n",
       "c7843936-3b14-48b4-8642-8554341d3f21.tsv                0.0   \n",
       "f6d3d770-157b-479b-a5cc-56e174dda026.tsv                0.0   \n",
       "3bdf6376-9aa9-44cc-a1f1-5a6387edce23.tsv                0.0   \n",
       "\n",
       "                                          ENSGR0000270726.4  \\\n",
       "9c2ffccc-c4c8-4f87-bcd8-8ce099e31b1b.tsv                0.0   \n",
       "98bb8ea9-025e-40cd-a21e-3a9dd478ef23.tsv                0.0   \n",
       "80072d64-b734-46ef-b4bf-a9e5cd0d5d06.tsv                0.0   \n",
       "d14add36-6662-47ce-9a26-3374bf1e8807.tsv                0.0   \n",
       "728be0eb-7a5b-42cd-84d9-6a86cec842d5.tsv                0.0   \n",
       "...                                                     ...   \n",
       "f4f51b52-c045-4ac7-9474-be80c9ee0fba.tsv                0.0   \n",
       "e3cacc94-c92a-42b1-9fad-9db163983729.tsv                0.0   \n",
       "c7843936-3b14-48b4-8642-8554341d3f21.tsv                0.0   \n",
       "f6d3d770-157b-479b-a5cc-56e174dda026.tsv                0.0   \n",
       "3bdf6376-9aa9-44cc-a1f1-5a6387edce23.tsv                0.0   \n",
       "\n",
       "                                          ENSGR0000275287.3  \\\n",
       "9c2ffccc-c4c8-4f87-bcd8-8ce099e31b1b.tsv                0.0   \n",
       "98bb8ea9-025e-40cd-a21e-3a9dd478ef23.tsv                0.0   \n",
       "80072d64-b734-46ef-b4bf-a9e5cd0d5d06.tsv                0.0   \n",
       "d14add36-6662-47ce-9a26-3374bf1e8807.tsv                0.0   \n",
       "728be0eb-7a5b-42cd-84d9-6a86cec842d5.tsv                0.0   \n",
       "...                                                     ...   \n",
       "f4f51b52-c045-4ac7-9474-be80c9ee0fba.tsv                0.0   \n",
       "e3cacc94-c92a-42b1-9fad-9db163983729.tsv                0.0   \n",
       "c7843936-3b14-48b4-8642-8554341d3f21.tsv                0.0   \n",
       "f6d3d770-157b-479b-a5cc-56e174dda026.tsv                0.0   \n",
       "3bdf6376-9aa9-44cc-a1f1-5a6387edce23.tsv                0.0   \n",
       "\n",
       "                                          ENSGR0000276543.3  \\\n",
       "9c2ffccc-c4c8-4f87-bcd8-8ce099e31b1b.tsv                0.0   \n",
       "98bb8ea9-025e-40cd-a21e-3a9dd478ef23.tsv                0.0   \n",
       "80072d64-b734-46ef-b4bf-a9e5cd0d5d06.tsv                0.0   \n",
       "d14add36-6662-47ce-9a26-3374bf1e8807.tsv                0.0   \n",
       "728be0eb-7a5b-42cd-84d9-6a86cec842d5.tsv                0.0   \n",
       "...                                                     ...   \n",
       "f4f51b52-c045-4ac7-9474-be80c9ee0fba.tsv                0.0   \n",
       "e3cacc94-c92a-42b1-9fad-9db163983729.tsv                0.0   \n",
       "c7843936-3b14-48b4-8642-8554341d3f21.tsv                0.0   \n",
       "f6d3d770-157b-479b-a5cc-56e174dda026.tsv                0.0   \n",
       "3bdf6376-9aa9-44cc-a1f1-5a6387edce23.tsv                0.0   \n",
       "\n",
       "                                          ENSGR0000277120.3  \\\n",
       "9c2ffccc-c4c8-4f87-bcd8-8ce099e31b1b.tsv                0.0   \n",
       "98bb8ea9-025e-40cd-a21e-3a9dd478ef23.tsv                0.0   \n",
       "80072d64-b734-46ef-b4bf-a9e5cd0d5d06.tsv                0.0   \n",
       "d14add36-6662-47ce-9a26-3374bf1e8807.tsv                0.0   \n",
       "728be0eb-7a5b-42cd-84d9-6a86cec842d5.tsv                0.0   \n",
       "...                                                     ...   \n",
       "f4f51b52-c045-4ac7-9474-be80c9ee0fba.tsv                0.0   \n",
       "e3cacc94-c92a-42b1-9fad-9db163983729.tsv                0.0   \n",
       "c7843936-3b14-48b4-8642-8554341d3f21.tsv                0.0   \n",
       "f6d3d770-157b-479b-a5cc-56e174dda026.tsv                0.0   \n",
       "3bdf6376-9aa9-44cc-a1f1-5a6387edce23.tsv                0.0   \n",
       "\n",
       "                                          ENSGR0000280767.1  \\\n",
       "9c2ffccc-c4c8-4f87-bcd8-8ce099e31b1b.tsv                0.0   \n",
       "98bb8ea9-025e-40cd-a21e-3a9dd478ef23.tsv                0.0   \n",
       "80072d64-b734-46ef-b4bf-a9e5cd0d5d06.tsv                0.0   \n",
       "d14add36-6662-47ce-9a26-3374bf1e8807.tsv                0.0   \n",
       "728be0eb-7a5b-42cd-84d9-6a86cec842d5.tsv                0.0   \n",
       "...                                                     ...   \n",
       "f4f51b52-c045-4ac7-9474-be80c9ee0fba.tsv                0.0   \n",
       "e3cacc94-c92a-42b1-9fad-9db163983729.tsv                0.0   \n",
       "c7843936-3b14-48b4-8642-8554341d3f21.tsv                0.0   \n",
       "f6d3d770-157b-479b-a5cc-56e174dda026.tsv                0.0   \n",
       "3bdf6376-9aa9-44cc-a1f1-5a6387edce23.tsv                0.0   \n",
       "\n",
       "                                          ENSGR0000281849.1  tumor_stage  \n",
       "9c2ffccc-c4c8-4f87-bcd8-8ce099e31b1b.tsv                0.0      stage_1  \n",
       "98bb8ea9-025e-40cd-a21e-3a9dd478ef23.tsv                0.0      stage_1  \n",
       "80072d64-b734-46ef-b4bf-a9e5cd0d5d06.tsv                0.0      stage_1  \n",
       "d14add36-6662-47ce-9a26-3374bf1e8807.tsv                0.0      stage_1  \n",
       "728be0eb-7a5b-42cd-84d9-6a86cec842d5.tsv                0.0      stage_1  \n",
       "...                                                     ...          ...  \n",
       "f4f51b52-c045-4ac7-9474-be80c9ee0fba.tsv                0.0      stage_3  \n",
       "e3cacc94-c92a-42b1-9fad-9db163983729.tsv                0.0      stage_3  \n",
       "c7843936-3b14-48b4-8642-8554341d3f21.tsv                0.0      stage_3  \n",
       "f6d3d770-157b-479b-a5cc-56e174dda026.tsv                0.0      stage_3  \n",
       "3bdf6376-9aa9-44cc-a1f1-5a6387edce23.tsv                0.0      stage_3  \n",
       "\n",
       "[859 rows x 60484 columns]"
      ]
     },
     "execution_count": 2,
     "metadata": {},
     "output_type": "execute_result"
    }
   ],
   "source": [
    "data"
   ]
  },
  {
   "cell_type": "code",
   "execution_count": 7,
   "metadata": {},
   "outputs": [
    {
     "data": {
      "text/plain": [
       "stage_2    502\n",
       "stage_3    198\n",
       "stage_1    143\n",
       "stage_4     16\n",
       "Name: tumor_stage, dtype: int64"
      ]
     },
     "execution_count": 7,
     "metadata": {},
     "output_type": "execute_result"
    }
   ],
   "source": [
    "data.tumor_stage.value_counts()"
   ]
  },
  {
   "cell_type": "markdown",
   "metadata": {
    "id": "gbeRLTetLO5O"
   },
   "source": [
    "Deleting stage 4, because, there is very small amount of objects"
   ]
  },
  {
   "cell_type": "code",
   "execution_count": 3,
   "metadata": {
    "id": "0Z9wwKG9wXb1"
   },
   "outputs": [],
   "source": [
    "data1 = data[data.tumor_stage != \"stage_4\"]"
   ]
  },
  {
   "cell_type": "markdown",
   "metadata": {},
   "source": [
    "Changing string classification to int variable"
   ]
  },
  {
   "cell_type": "code",
   "execution_count": 5,
   "metadata": {
    "id": "2ZBoAwRTwckO"
   },
   "outputs": [],
   "source": [
    "y = data1.tumor_stage\n",
    "X = data1.drop(['tumor_stage'], axis=1)\n",
    "\n",
    "y.replace({\"stage_1\": 0}, inplace=True)\n",
    "y.replace({\"stage_2\": 1}, inplace=True)\n",
    "y.replace({\"stage_3\": 2}, inplace=True)\n",
    "# y.replace({\"stage_4\": 3}, inplace=True)"
   ]
  },
  {
   "cell_type": "code",
   "execution_count": 6,
   "metadata": {
    "colab": {
     "base_uri": "https://localhost:8080/"
    },
    "id": "RKXvWiZufrL9",
    "outputId": "3e160fff-9b00-4542-d0b1-01a19011d719"
   },
   "outputs": [
    {
     "data": {
      "text/plain": [
       "0"
      ]
     },
     "execution_count": 6,
     "metadata": {},
     "output_type": "execute_result"
    }
   ],
   "source": [
    "X.isnull().sum().sum()"
   ]
  },
  {
   "cell_type": "code",
   "execution_count": 8,
   "metadata": {},
   "outputs": [
    {
     "data": {
      "text/html": [
       "<div>\n",
       "<style scoped>\n",
       "    .dataframe tbody tr th:only-of-type {\n",
       "        vertical-align: middle;\n",
       "    }\n",
       "\n",
       "    .dataframe tbody tr th {\n",
       "        vertical-align: top;\n",
       "    }\n",
       "\n",
       "    .dataframe thead th {\n",
       "        text-align: right;\n",
       "    }\n",
       "</style>\n",
       "<table border=\"1\" class=\"dataframe\">\n",
       "  <thead>\n",
       "    <tr style=\"text-align: right;\">\n",
       "      <th></th>\n",
       "      <th>ENSG00000000003.13</th>\n",
       "      <th>ENSG00000000005.5</th>\n",
       "      <th>ENSG00000000419.11</th>\n",
       "      <th>ENSG00000000457.12</th>\n",
       "      <th>ENSG00000000460.15</th>\n",
       "      <th>ENSG00000000938.11</th>\n",
       "      <th>ENSG00000000971.14</th>\n",
       "      <th>ENSG00000001036.12</th>\n",
       "      <th>ENSG00000001084.9</th>\n",
       "      <th>ENSG00000001167.13</th>\n",
       "      <th>...</th>\n",
       "      <th>ENSGR0000263980.4</th>\n",
       "      <th>ENSGR0000264510.4</th>\n",
       "      <th>ENSGR0000264819.4</th>\n",
       "      <th>ENSGR0000265658.4</th>\n",
       "      <th>ENSGR0000270726.4</th>\n",
       "      <th>ENSGR0000275287.3</th>\n",
       "      <th>ENSGR0000276543.3</th>\n",
       "      <th>ENSGR0000277120.3</th>\n",
       "      <th>ENSGR0000280767.1</th>\n",
       "      <th>ENSGR0000281849.1</th>\n",
       "    </tr>\n",
       "  </thead>\n",
       "  <tbody>\n",
       "    <tr>\n",
       "      <th>9c2ffccc-c4c8-4f87-bcd8-8ce099e31b1b.tsv</th>\n",
       "      <td>18.494097</td>\n",
       "      <td>7.602179</td>\n",
       "      <td>19.931779</td>\n",
       "      <td>3.506889</td>\n",
       "      <td>1.271071</td>\n",
       "      <td>0.641102</td>\n",
       "      <td>22.456774</td>\n",
       "      <td>9.238558</td>\n",
       "      <td>4.023385</td>\n",
       "      <td>13.794199</td>\n",
       "      <td>...</td>\n",
       "      <td>0.0</td>\n",
       "      <td>0.0</td>\n",
       "      <td>0.0</td>\n",
       "      <td>0.0</td>\n",
       "      <td>0.0</td>\n",
       "      <td>0.0</td>\n",
       "      <td>0.0</td>\n",
       "      <td>0.0</td>\n",
       "      <td>0.0</td>\n",
       "      <td>0.0</td>\n",
       "    </tr>\n",
       "    <tr>\n",
       "      <th>98bb8ea9-025e-40cd-a21e-3a9dd478ef23.tsv</th>\n",
       "      <td>11.885182</td>\n",
       "      <td>0.015710</td>\n",
       "      <td>15.569735</td>\n",
       "      <td>4.178134</td>\n",
       "      <td>1.644657</td>\n",
       "      <td>1.121219</td>\n",
       "      <td>4.161150</td>\n",
       "      <td>26.144210</td>\n",
       "      <td>2.913936</td>\n",
       "      <td>12.138763</td>\n",
       "      <td>...</td>\n",
       "      <td>0.0</td>\n",
       "      <td>0.0</td>\n",
       "      <td>0.0</td>\n",
       "      <td>0.0</td>\n",
       "      <td>0.0</td>\n",
       "      <td>0.0</td>\n",
       "      <td>0.0</td>\n",
       "      <td>0.0</td>\n",
       "      <td>0.0</td>\n",
       "      <td>0.0</td>\n",
       "    </tr>\n",
       "    <tr>\n",
       "      <th>80072d64-b734-46ef-b4bf-a9e5cd0d5d06.tsv</th>\n",
       "      <td>30.573980</td>\n",
       "      <td>0.085679</td>\n",
       "      <td>16.685801</td>\n",
       "      <td>5.912154</td>\n",
       "      <td>1.459720</td>\n",
       "      <td>0.941633</td>\n",
       "      <td>4.831594</td>\n",
       "      <td>19.247613</td>\n",
       "      <td>8.056663</td>\n",
       "      <td>12.446309</td>\n",
       "      <td>...</td>\n",
       "      <td>0.0</td>\n",
       "      <td>0.0</td>\n",
       "      <td>0.0</td>\n",
       "      <td>0.0</td>\n",
       "      <td>0.0</td>\n",
       "      <td>0.0</td>\n",
       "      <td>0.0</td>\n",
       "      <td>0.0</td>\n",
       "      <td>0.0</td>\n",
       "      <td>0.0</td>\n",
       "    </tr>\n",
       "    <tr>\n",
       "      <th>d14add36-6662-47ce-9a26-3374bf1e8807.tsv</th>\n",
       "      <td>13.001739</td>\n",
       "      <td>0.479700</td>\n",
       "      <td>25.257213</td>\n",
       "      <td>6.002025</td>\n",
       "      <td>2.287405</td>\n",
       "      <td>2.671804</td>\n",
       "      <td>4.142815</td>\n",
       "      <td>32.463305</td>\n",
       "      <td>5.656340</td>\n",
       "      <td>12.277188</td>\n",
       "      <td>...</td>\n",
       "      <td>0.0</td>\n",
       "      <td>0.0</td>\n",
       "      <td>0.0</td>\n",
       "      <td>0.0</td>\n",
       "      <td>0.0</td>\n",
       "      <td>0.0</td>\n",
       "      <td>0.0</td>\n",
       "      <td>0.0</td>\n",
       "      <td>0.0</td>\n",
       "      <td>0.0</td>\n",
       "    </tr>\n",
       "    <tr>\n",
       "      <th>728be0eb-7a5b-42cd-84d9-6a86cec842d5.tsv</th>\n",
       "      <td>24.448627</td>\n",
       "      <td>0.854750</td>\n",
       "      <td>35.417509</td>\n",
       "      <td>3.563964</td>\n",
       "      <td>0.780744</td>\n",
       "      <td>2.158713</td>\n",
       "      <td>7.785929</td>\n",
       "      <td>42.377826</td>\n",
       "      <td>7.366566</td>\n",
       "      <td>10.355912</td>\n",
       "      <td>...</td>\n",
       "      <td>0.0</td>\n",
       "      <td>0.0</td>\n",
       "      <td>0.0</td>\n",
       "      <td>0.0</td>\n",
       "      <td>0.0</td>\n",
       "      <td>0.0</td>\n",
       "      <td>0.0</td>\n",
       "      <td>0.0</td>\n",
       "      <td>0.0</td>\n",
       "      <td>0.0</td>\n",
       "    </tr>\n",
       "    <tr>\n",
       "      <th>...</th>\n",
       "      <td>...</td>\n",
       "      <td>...</td>\n",
       "      <td>...</td>\n",
       "      <td>...</td>\n",
       "      <td>...</td>\n",
       "      <td>...</td>\n",
       "      <td>...</td>\n",
       "      <td>...</td>\n",
       "      <td>...</td>\n",
       "      <td>...</td>\n",
       "      <td>...</td>\n",
       "      <td>...</td>\n",
       "      <td>...</td>\n",
       "      <td>...</td>\n",
       "      <td>...</td>\n",
       "      <td>...</td>\n",
       "      <td>...</td>\n",
       "      <td>...</td>\n",
       "      <td>...</td>\n",
       "      <td>...</td>\n",
       "      <td>...</td>\n",
       "    </tr>\n",
       "    <tr>\n",
       "      <th>f4f51b52-c045-4ac7-9474-be80c9ee0fba.tsv</th>\n",
       "      <td>13.275616</td>\n",
       "      <td>0.369023</td>\n",
       "      <td>29.315320</td>\n",
       "      <td>16.676177</td>\n",
       "      <td>3.714472</td>\n",
       "      <td>2.636576</td>\n",
       "      <td>13.859327</td>\n",
       "      <td>16.131280</td>\n",
       "      <td>4.452036</td>\n",
       "      <td>17.620810</td>\n",
       "      <td>...</td>\n",
       "      <td>0.0</td>\n",
       "      <td>0.0</td>\n",
       "      <td>0.0</td>\n",
       "      <td>0.0</td>\n",
       "      <td>0.0</td>\n",
       "      <td>0.0</td>\n",
       "      <td>0.0</td>\n",
       "      <td>0.0</td>\n",
       "      <td>0.0</td>\n",
       "      <td>0.0</td>\n",
       "    </tr>\n",
       "    <tr>\n",
       "      <th>e3cacc94-c92a-42b1-9fad-9db163983729.tsv</th>\n",
       "      <td>14.012250</td>\n",
       "      <td>0.000000</td>\n",
       "      <td>40.343530</td>\n",
       "      <td>3.182987</td>\n",
       "      <td>2.068706</td>\n",
       "      <td>2.400204</td>\n",
       "      <td>0.669107</td>\n",
       "      <td>27.688413</td>\n",
       "      <td>3.499950</td>\n",
       "      <td>11.490357</td>\n",
       "      <td>...</td>\n",
       "      <td>0.0</td>\n",
       "      <td>0.0</td>\n",
       "      <td>0.0</td>\n",
       "      <td>0.0</td>\n",
       "      <td>0.0</td>\n",
       "      <td>0.0</td>\n",
       "      <td>0.0</td>\n",
       "      <td>0.0</td>\n",
       "      <td>0.0</td>\n",
       "      <td>0.0</td>\n",
       "    </tr>\n",
       "    <tr>\n",
       "      <th>c7843936-3b14-48b4-8642-8554341d3f21.tsv</th>\n",
       "      <td>24.388335</td>\n",
       "      <td>0.036127</td>\n",
       "      <td>35.961697</td>\n",
       "      <td>4.937238</td>\n",
       "      <td>1.669313</td>\n",
       "      <td>1.012952</td>\n",
       "      <td>2.249482</td>\n",
       "      <td>43.249032</td>\n",
       "      <td>3.223381</td>\n",
       "      <td>17.975347</td>\n",
       "      <td>...</td>\n",
       "      <td>0.0</td>\n",
       "      <td>0.0</td>\n",
       "      <td>0.0</td>\n",
       "      <td>0.0</td>\n",
       "      <td>0.0</td>\n",
       "      <td>0.0</td>\n",
       "      <td>0.0</td>\n",
       "      <td>0.0</td>\n",
       "      <td>0.0</td>\n",
       "      <td>0.0</td>\n",
       "    </tr>\n",
       "    <tr>\n",
       "      <th>f6d3d770-157b-479b-a5cc-56e174dda026.tsv</th>\n",
       "      <td>3.298339</td>\n",
       "      <td>0.087305</td>\n",
       "      <td>49.143734</td>\n",
       "      <td>6.470176</td>\n",
       "      <td>3.861269</td>\n",
       "      <td>3.506592</td>\n",
       "      <td>10.045164</td>\n",
       "      <td>13.021841</td>\n",
       "      <td>4.521750</td>\n",
       "      <td>22.206526</td>\n",
       "      <td>...</td>\n",
       "      <td>0.0</td>\n",
       "      <td>0.0</td>\n",
       "      <td>0.0</td>\n",
       "      <td>0.0</td>\n",
       "      <td>0.0</td>\n",
       "      <td>0.0</td>\n",
       "      <td>0.0</td>\n",
       "      <td>0.0</td>\n",
       "      <td>0.0</td>\n",
       "      <td>0.0</td>\n",
       "    </tr>\n",
       "    <tr>\n",
       "      <th>3bdf6376-9aa9-44cc-a1f1-5a6387edce23.tsv</th>\n",
       "      <td>11.592353</td>\n",
       "      <td>0.072909</td>\n",
       "      <td>26.633373</td>\n",
       "      <td>8.724446</td>\n",
       "      <td>3.757394</td>\n",
       "      <td>1.829451</td>\n",
       "      <td>1.846769</td>\n",
       "      <td>22.382897</td>\n",
       "      <td>2.185559</td>\n",
       "      <td>12.364561</td>\n",
       "      <td>...</td>\n",
       "      <td>0.0</td>\n",
       "      <td>0.0</td>\n",
       "      <td>0.0</td>\n",
       "      <td>0.0</td>\n",
       "      <td>0.0</td>\n",
       "      <td>0.0</td>\n",
       "      <td>0.0</td>\n",
       "      <td>0.0</td>\n",
       "      <td>0.0</td>\n",
       "      <td>0.0</td>\n",
       "    </tr>\n",
       "  </tbody>\n",
       "</table>\n",
       "<p>843 rows × 60483 columns</p>\n",
       "</div>"
      ],
      "text/plain": [
       "                                          ENSG00000000003.13  \\\n",
       "9c2ffccc-c4c8-4f87-bcd8-8ce099e31b1b.tsv           18.494097   \n",
       "98bb8ea9-025e-40cd-a21e-3a9dd478ef23.tsv           11.885182   \n",
       "80072d64-b734-46ef-b4bf-a9e5cd0d5d06.tsv           30.573980   \n",
       "d14add36-6662-47ce-9a26-3374bf1e8807.tsv           13.001739   \n",
       "728be0eb-7a5b-42cd-84d9-6a86cec842d5.tsv           24.448627   \n",
       "...                                                      ...   \n",
       "f4f51b52-c045-4ac7-9474-be80c9ee0fba.tsv           13.275616   \n",
       "e3cacc94-c92a-42b1-9fad-9db163983729.tsv           14.012250   \n",
       "c7843936-3b14-48b4-8642-8554341d3f21.tsv           24.388335   \n",
       "f6d3d770-157b-479b-a5cc-56e174dda026.tsv            3.298339   \n",
       "3bdf6376-9aa9-44cc-a1f1-5a6387edce23.tsv           11.592353   \n",
       "\n",
       "                                          ENSG00000000005.5  \\\n",
       "9c2ffccc-c4c8-4f87-bcd8-8ce099e31b1b.tsv           7.602179   \n",
       "98bb8ea9-025e-40cd-a21e-3a9dd478ef23.tsv           0.015710   \n",
       "80072d64-b734-46ef-b4bf-a9e5cd0d5d06.tsv           0.085679   \n",
       "d14add36-6662-47ce-9a26-3374bf1e8807.tsv           0.479700   \n",
       "728be0eb-7a5b-42cd-84d9-6a86cec842d5.tsv           0.854750   \n",
       "...                                                     ...   \n",
       "f4f51b52-c045-4ac7-9474-be80c9ee0fba.tsv           0.369023   \n",
       "e3cacc94-c92a-42b1-9fad-9db163983729.tsv           0.000000   \n",
       "c7843936-3b14-48b4-8642-8554341d3f21.tsv           0.036127   \n",
       "f6d3d770-157b-479b-a5cc-56e174dda026.tsv           0.087305   \n",
       "3bdf6376-9aa9-44cc-a1f1-5a6387edce23.tsv           0.072909   \n",
       "\n",
       "                                          ENSG00000000419.11  \\\n",
       "9c2ffccc-c4c8-4f87-bcd8-8ce099e31b1b.tsv           19.931779   \n",
       "98bb8ea9-025e-40cd-a21e-3a9dd478ef23.tsv           15.569735   \n",
       "80072d64-b734-46ef-b4bf-a9e5cd0d5d06.tsv           16.685801   \n",
       "d14add36-6662-47ce-9a26-3374bf1e8807.tsv           25.257213   \n",
       "728be0eb-7a5b-42cd-84d9-6a86cec842d5.tsv           35.417509   \n",
       "...                                                      ...   \n",
       "f4f51b52-c045-4ac7-9474-be80c9ee0fba.tsv           29.315320   \n",
       "e3cacc94-c92a-42b1-9fad-9db163983729.tsv           40.343530   \n",
       "c7843936-3b14-48b4-8642-8554341d3f21.tsv           35.961697   \n",
       "f6d3d770-157b-479b-a5cc-56e174dda026.tsv           49.143734   \n",
       "3bdf6376-9aa9-44cc-a1f1-5a6387edce23.tsv           26.633373   \n",
       "\n",
       "                                          ENSG00000000457.12  \\\n",
       "9c2ffccc-c4c8-4f87-bcd8-8ce099e31b1b.tsv            3.506889   \n",
       "98bb8ea9-025e-40cd-a21e-3a9dd478ef23.tsv            4.178134   \n",
       "80072d64-b734-46ef-b4bf-a9e5cd0d5d06.tsv            5.912154   \n",
       "d14add36-6662-47ce-9a26-3374bf1e8807.tsv            6.002025   \n",
       "728be0eb-7a5b-42cd-84d9-6a86cec842d5.tsv            3.563964   \n",
       "...                                                      ...   \n",
       "f4f51b52-c045-4ac7-9474-be80c9ee0fba.tsv           16.676177   \n",
       "e3cacc94-c92a-42b1-9fad-9db163983729.tsv            3.182987   \n",
       "c7843936-3b14-48b4-8642-8554341d3f21.tsv            4.937238   \n",
       "f6d3d770-157b-479b-a5cc-56e174dda026.tsv            6.470176   \n",
       "3bdf6376-9aa9-44cc-a1f1-5a6387edce23.tsv            8.724446   \n",
       "\n",
       "                                          ENSG00000000460.15  \\\n",
       "9c2ffccc-c4c8-4f87-bcd8-8ce099e31b1b.tsv            1.271071   \n",
       "98bb8ea9-025e-40cd-a21e-3a9dd478ef23.tsv            1.644657   \n",
       "80072d64-b734-46ef-b4bf-a9e5cd0d5d06.tsv            1.459720   \n",
       "d14add36-6662-47ce-9a26-3374bf1e8807.tsv            2.287405   \n",
       "728be0eb-7a5b-42cd-84d9-6a86cec842d5.tsv            0.780744   \n",
       "...                                                      ...   \n",
       "f4f51b52-c045-4ac7-9474-be80c9ee0fba.tsv            3.714472   \n",
       "e3cacc94-c92a-42b1-9fad-9db163983729.tsv            2.068706   \n",
       "c7843936-3b14-48b4-8642-8554341d3f21.tsv            1.669313   \n",
       "f6d3d770-157b-479b-a5cc-56e174dda026.tsv            3.861269   \n",
       "3bdf6376-9aa9-44cc-a1f1-5a6387edce23.tsv            3.757394   \n",
       "\n",
       "                                          ENSG00000000938.11  \\\n",
       "9c2ffccc-c4c8-4f87-bcd8-8ce099e31b1b.tsv            0.641102   \n",
       "98bb8ea9-025e-40cd-a21e-3a9dd478ef23.tsv            1.121219   \n",
       "80072d64-b734-46ef-b4bf-a9e5cd0d5d06.tsv            0.941633   \n",
       "d14add36-6662-47ce-9a26-3374bf1e8807.tsv            2.671804   \n",
       "728be0eb-7a5b-42cd-84d9-6a86cec842d5.tsv            2.158713   \n",
       "...                                                      ...   \n",
       "f4f51b52-c045-4ac7-9474-be80c9ee0fba.tsv            2.636576   \n",
       "e3cacc94-c92a-42b1-9fad-9db163983729.tsv            2.400204   \n",
       "c7843936-3b14-48b4-8642-8554341d3f21.tsv            1.012952   \n",
       "f6d3d770-157b-479b-a5cc-56e174dda026.tsv            3.506592   \n",
       "3bdf6376-9aa9-44cc-a1f1-5a6387edce23.tsv            1.829451   \n",
       "\n",
       "                                          ENSG00000000971.14  \\\n",
       "9c2ffccc-c4c8-4f87-bcd8-8ce099e31b1b.tsv           22.456774   \n",
       "98bb8ea9-025e-40cd-a21e-3a9dd478ef23.tsv            4.161150   \n",
       "80072d64-b734-46ef-b4bf-a9e5cd0d5d06.tsv            4.831594   \n",
       "d14add36-6662-47ce-9a26-3374bf1e8807.tsv            4.142815   \n",
       "728be0eb-7a5b-42cd-84d9-6a86cec842d5.tsv            7.785929   \n",
       "...                                                      ...   \n",
       "f4f51b52-c045-4ac7-9474-be80c9ee0fba.tsv           13.859327   \n",
       "e3cacc94-c92a-42b1-9fad-9db163983729.tsv            0.669107   \n",
       "c7843936-3b14-48b4-8642-8554341d3f21.tsv            2.249482   \n",
       "f6d3d770-157b-479b-a5cc-56e174dda026.tsv           10.045164   \n",
       "3bdf6376-9aa9-44cc-a1f1-5a6387edce23.tsv            1.846769   \n",
       "\n",
       "                                          ENSG00000001036.12  \\\n",
       "9c2ffccc-c4c8-4f87-bcd8-8ce099e31b1b.tsv            9.238558   \n",
       "98bb8ea9-025e-40cd-a21e-3a9dd478ef23.tsv           26.144210   \n",
       "80072d64-b734-46ef-b4bf-a9e5cd0d5d06.tsv           19.247613   \n",
       "d14add36-6662-47ce-9a26-3374bf1e8807.tsv           32.463305   \n",
       "728be0eb-7a5b-42cd-84d9-6a86cec842d5.tsv           42.377826   \n",
       "...                                                      ...   \n",
       "f4f51b52-c045-4ac7-9474-be80c9ee0fba.tsv           16.131280   \n",
       "e3cacc94-c92a-42b1-9fad-9db163983729.tsv           27.688413   \n",
       "c7843936-3b14-48b4-8642-8554341d3f21.tsv           43.249032   \n",
       "f6d3d770-157b-479b-a5cc-56e174dda026.tsv           13.021841   \n",
       "3bdf6376-9aa9-44cc-a1f1-5a6387edce23.tsv           22.382897   \n",
       "\n",
       "                                          ENSG00000001084.9  \\\n",
       "9c2ffccc-c4c8-4f87-bcd8-8ce099e31b1b.tsv           4.023385   \n",
       "98bb8ea9-025e-40cd-a21e-3a9dd478ef23.tsv           2.913936   \n",
       "80072d64-b734-46ef-b4bf-a9e5cd0d5d06.tsv           8.056663   \n",
       "d14add36-6662-47ce-9a26-3374bf1e8807.tsv           5.656340   \n",
       "728be0eb-7a5b-42cd-84d9-6a86cec842d5.tsv           7.366566   \n",
       "...                                                     ...   \n",
       "f4f51b52-c045-4ac7-9474-be80c9ee0fba.tsv           4.452036   \n",
       "e3cacc94-c92a-42b1-9fad-9db163983729.tsv           3.499950   \n",
       "c7843936-3b14-48b4-8642-8554341d3f21.tsv           3.223381   \n",
       "f6d3d770-157b-479b-a5cc-56e174dda026.tsv           4.521750   \n",
       "3bdf6376-9aa9-44cc-a1f1-5a6387edce23.tsv           2.185559   \n",
       "\n",
       "                                          ENSG00000001167.13  ...  \\\n",
       "9c2ffccc-c4c8-4f87-bcd8-8ce099e31b1b.tsv           13.794199  ...   \n",
       "98bb8ea9-025e-40cd-a21e-3a9dd478ef23.tsv           12.138763  ...   \n",
       "80072d64-b734-46ef-b4bf-a9e5cd0d5d06.tsv           12.446309  ...   \n",
       "d14add36-6662-47ce-9a26-3374bf1e8807.tsv           12.277188  ...   \n",
       "728be0eb-7a5b-42cd-84d9-6a86cec842d5.tsv           10.355912  ...   \n",
       "...                                                      ...  ...   \n",
       "f4f51b52-c045-4ac7-9474-be80c9ee0fba.tsv           17.620810  ...   \n",
       "e3cacc94-c92a-42b1-9fad-9db163983729.tsv           11.490357  ...   \n",
       "c7843936-3b14-48b4-8642-8554341d3f21.tsv           17.975347  ...   \n",
       "f6d3d770-157b-479b-a5cc-56e174dda026.tsv           22.206526  ...   \n",
       "3bdf6376-9aa9-44cc-a1f1-5a6387edce23.tsv           12.364561  ...   \n",
       "\n",
       "                                          ENSGR0000263980.4  \\\n",
       "9c2ffccc-c4c8-4f87-bcd8-8ce099e31b1b.tsv                0.0   \n",
       "98bb8ea9-025e-40cd-a21e-3a9dd478ef23.tsv                0.0   \n",
       "80072d64-b734-46ef-b4bf-a9e5cd0d5d06.tsv                0.0   \n",
       "d14add36-6662-47ce-9a26-3374bf1e8807.tsv                0.0   \n",
       "728be0eb-7a5b-42cd-84d9-6a86cec842d5.tsv                0.0   \n",
       "...                                                     ...   \n",
       "f4f51b52-c045-4ac7-9474-be80c9ee0fba.tsv                0.0   \n",
       "e3cacc94-c92a-42b1-9fad-9db163983729.tsv                0.0   \n",
       "c7843936-3b14-48b4-8642-8554341d3f21.tsv                0.0   \n",
       "f6d3d770-157b-479b-a5cc-56e174dda026.tsv                0.0   \n",
       "3bdf6376-9aa9-44cc-a1f1-5a6387edce23.tsv                0.0   \n",
       "\n",
       "                                          ENSGR0000264510.4  \\\n",
       "9c2ffccc-c4c8-4f87-bcd8-8ce099e31b1b.tsv                0.0   \n",
       "98bb8ea9-025e-40cd-a21e-3a9dd478ef23.tsv                0.0   \n",
       "80072d64-b734-46ef-b4bf-a9e5cd0d5d06.tsv                0.0   \n",
       "d14add36-6662-47ce-9a26-3374bf1e8807.tsv                0.0   \n",
       "728be0eb-7a5b-42cd-84d9-6a86cec842d5.tsv                0.0   \n",
       "...                                                     ...   \n",
       "f4f51b52-c045-4ac7-9474-be80c9ee0fba.tsv                0.0   \n",
       "e3cacc94-c92a-42b1-9fad-9db163983729.tsv                0.0   \n",
       "c7843936-3b14-48b4-8642-8554341d3f21.tsv                0.0   \n",
       "f6d3d770-157b-479b-a5cc-56e174dda026.tsv                0.0   \n",
       "3bdf6376-9aa9-44cc-a1f1-5a6387edce23.tsv                0.0   \n",
       "\n",
       "                                          ENSGR0000264819.4  \\\n",
       "9c2ffccc-c4c8-4f87-bcd8-8ce099e31b1b.tsv                0.0   \n",
       "98bb8ea9-025e-40cd-a21e-3a9dd478ef23.tsv                0.0   \n",
       "80072d64-b734-46ef-b4bf-a9e5cd0d5d06.tsv                0.0   \n",
       "d14add36-6662-47ce-9a26-3374bf1e8807.tsv                0.0   \n",
       "728be0eb-7a5b-42cd-84d9-6a86cec842d5.tsv                0.0   \n",
       "...                                                     ...   \n",
       "f4f51b52-c045-4ac7-9474-be80c9ee0fba.tsv                0.0   \n",
       "e3cacc94-c92a-42b1-9fad-9db163983729.tsv                0.0   \n",
       "c7843936-3b14-48b4-8642-8554341d3f21.tsv                0.0   \n",
       "f6d3d770-157b-479b-a5cc-56e174dda026.tsv                0.0   \n",
       "3bdf6376-9aa9-44cc-a1f1-5a6387edce23.tsv                0.0   \n",
       "\n",
       "                                          ENSGR0000265658.4  \\\n",
       "9c2ffccc-c4c8-4f87-bcd8-8ce099e31b1b.tsv                0.0   \n",
       "98bb8ea9-025e-40cd-a21e-3a9dd478ef23.tsv                0.0   \n",
       "80072d64-b734-46ef-b4bf-a9e5cd0d5d06.tsv                0.0   \n",
       "d14add36-6662-47ce-9a26-3374bf1e8807.tsv                0.0   \n",
       "728be0eb-7a5b-42cd-84d9-6a86cec842d5.tsv                0.0   \n",
       "...                                                     ...   \n",
       "f4f51b52-c045-4ac7-9474-be80c9ee0fba.tsv                0.0   \n",
       "e3cacc94-c92a-42b1-9fad-9db163983729.tsv                0.0   \n",
       "c7843936-3b14-48b4-8642-8554341d3f21.tsv                0.0   \n",
       "f6d3d770-157b-479b-a5cc-56e174dda026.tsv                0.0   \n",
       "3bdf6376-9aa9-44cc-a1f1-5a6387edce23.tsv                0.0   \n",
       "\n",
       "                                          ENSGR0000270726.4  \\\n",
       "9c2ffccc-c4c8-4f87-bcd8-8ce099e31b1b.tsv                0.0   \n",
       "98bb8ea9-025e-40cd-a21e-3a9dd478ef23.tsv                0.0   \n",
       "80072d64-b734-46ef-b4bf-a9e5cd0d5d06.tsv                0.0   \n",
       "d14add36-6662-47ce-9a26-3374bf1e8807.tsv                0.0   \n",
       "728be0eb-7a5b-42cd-84d9-6a86cec842d5.tsv                0.0   \n",
       "...                                                     ...   \n",
       "f4f51b52-c045-4ac7-9474-be80c9ee0fba.tsv                0.0   \n",
       "e3cacc94-c92a-42b1-9fad-9db163983729.tsv                0.0   \n",
       "c7843936-3b14-48b4-8642-8554341d3f21.tsv                0.0   \n",
       "f6d3d770-157b-479b-a5cc-56e174dda026.tsv                0.0   \n",
       "3bdf6376-9aa9-44cc-a1f1-5a6387edce23.tsv                0.0   \n",
       "\n",
       "                                          ENSGR0000275287.3  \\\n",
       "9c2ffccc-c4c8-4f87-bcd8-8ce099e31b1b.tsv                0.0   \n",
       "98bb8ea9-025e-40cd-a21e-3a9dd478ef23.tsv                0.0   \n",
       "80072d64-b734-46ef-b4bf-a9e5cd0d5d06.tsv                0.0   \n",
       "d14add36-6662-47ce-9a26-3374bf1e8807.tsv                0.0   \n",
       "728be0eb-7a5b-42cd-84d9-6a86cec842d5.tsv                0.0   \n",
       "...                                                     ...   \n",
       "f4f51b52-c045-4ac7-9474-be80c9ee0fba.tsv                0.0   \n",
       "e3cacc94-c92a-42b1-9fad-9db163983729.tsv                0.0   \n",
       "c7843936-3b14-48b4-8642-8554341d3f21.tsv                0.0   \n",
       "f6d3d770-157b-479b-a5cc-56e174dda026.tsv                0.0   \n",
       "3bdf6376-9aa9-44cc-a1f1-5a6387edce23.tsv                0.0   \n",
       "\n",
       "                                          ENSGR0000276543.3  \\\n",
       "9c2ffccc-c4c8-4f87-bcd8-8ce099e31b1b.tsv                0.0   \n",
       "98bb8ea9-025e-40cd-a21e-3a9dd478ef23.tsv                0.0   \n",
       "80072d64-b734-46ef-b4bf-a9e5cd0d5d06.tsv                0.0   \n",
       "d14add36-6662-47ce-9a26-3374bf1e8807.tsv                0.0   \n",
       "728be0eb-7a5b-42cd-84d9-6a86cec842d5.tsv                0.0   \n",
       "...                                                     ...   \n",
       "f4f51b52-c045-4ac7-9474-be80c9ee0fba.tsv                0.0   \n",
       "e3cacc94-c92a-42b1-9fad-9db163983729.tsv                0.0   \n",
       "c7843936-3b14-48b4-8642-8554341d3f21.tsv                0.0   \n",
       "f6d3d770-157b-479b-a5cc-56e174dda026.tsv                0.0   \n",
       "3bdf6376-9aa9-44cc-a1f1-5a6387edce23.tsv                0.0   \n",
       "\n",
       "                                          ENSGR0000277120.3  \\\n",
       "9c2ffccc-c4c8-4f87-bcd8-8ce099e31b1b.tsv                0.0   \n",
       "98bb8ea9-025e-40cd-a21e-3a9dd478ef23.tsv                0.0   \n",
       "80072d64-b734-46ef-b4bf-a9e5cd0d5d06.tsv                0.0   \n",
       "d14add36-6662-47ce-9a26-3374bf1e8807.tsv                0.0   \n",
       "728be0eb-7a5b-42cd-84d9-6a86cec842d5.tsv                0.0   \n",
       "...                                                     ...   \n",
       "f4f51b52-c045-4ac7-9474-be80c9ee0fba.tsv                0.0   \n",
       "e3cacc94-c92a-42b1-9fad-9db163983729.tsv                0.0   \n",
       "c7843936-3b14-48b4-8642-8554341d3f21.tsv                0.0   \n",
       "f6d3d770-157b-479b-a5cc-56e174dda026.tsv                0.0   \n",
       "3bdf6376-9aa9-44cc-a1f1-5a6387edce23.tsv                0.0   \n",
       "\n",
       "                                          ENSGR0000280767.1  ENSGR0000281849.1  \n",
       "9c2ffccc-c4c8-4f87-bcd8-8ce099e31b1b.tsv                0.0                0.0  \n",
       "98bb8ea9-025e-40cd-a21e-3a9dd478ef23.tsv                0.0                0.0  \n",
       "80072d64-b734-46ef-b4bf-a9e5cd0d5d06.tsv                0.0                0.0  \n",
       "d14add36-6662-47ce-9a26-3374bf1e8807.tsv                0.0                0.0  \n",
       "728be0eb-7a5b-42cd-84d9-6a86cec842d5.tsv                0.0                0.0  \n",
       "...                                                     ...                ...  \n",
       "f4f51b52-c045-4ac7-9474-be80c9ee0fba.tsv                0.0                0.0  \n",
       "e3cacc94-c92a-42b1-9fad-9db163983729.tsv                0.0                0.0  \n",
       "c7843936-3b14-48b4-8642-8554341d3f21.tsv                0.0                0.0  \n",
       "f6d3d770-157b-479b-a5cc-56e174dda026.tsv                0.0                0.0  \n",
       "3bdf6376-9aa9-44cc-a1f1-5a6387edce23.tsv                0.0                0.0  \n",
       "\n",
       "[843 rows x 60483 columns]"
      ]
     },
     "execution_count": 8,
     "metadata": {},
     "output_type": "execute_result"
    }
   ],
   "source": [
    "X"
   ]
  },
  {
   "cell_type": "code",
   "execution_count": 9,
   "metadata": {},
   "outputs": [
    {
     "name": "stdout",
     "output_type": "stream",
     "text": [
      "[0 1 2]\n"
     ]
    },
    {
     "data": {
      "text/plain": [
       "9c2ffccc-c4c8-4f87-bcd8-8ce099e31b1b.tsv    0\n",
       "98bb8ea9-025e-40cd-a21e-3a9dd478ef23.tsv    0\n",
       "80072d64-b734-46ef-b4bf-a9e5cd0d5d06.tsv    0\n",
       "d14add36-6662-47ce-9a26-3374bf1e8807.tsv    0\n",
       "728be0eb-7a5b-42cd-84d9-6a86cec842d5.tsv    0\n",
       "                                           ..\n",
       "f4f51b52-c045-4ac7-9474-be80c9ee0fba.tsv    2\n",
       "e3cacc94-c92a-42b1-9fad-9db163983729.tsv    2\n",
       "c7843936-3b14-48b4-8642-8554341d3f21.tsv    2\n",
       "f6d3d770-157b-479b-a5cc-56e174dda026.tsv    2\n",
       "3bdf6376-9aa9-44cc-a1f1-5a6387edce23.tsv    2\n",
       "Name: tumor_stage, Length: 843, dtype: int64"
      ]
     },
     "execution_count": 9,
     "metadata": {},
     "output_type": "execute_result"
    }
   ],
   "source": [
    "print(y.unique())\n",
    "y"
   ]
  },
  {
   "cell_type": "markdown",
   "metadata": {
    "id": "sxpQoMaegJU5"
   },
   "source": [
    "There appear to be no missing data."
   ]
  },
  {
   "cell_type": "markdown",
   "metadata": {
    "id": "2CFMZLrlgU6M"
   },
   "source": [
    "# Features Selection\n",
    "When it comes to exploring the features of our dataset, we realize that we actually have no idea of what the quantitative variables mean; we have some indications on the general kind of data that were collected, but we are operating in a blind manner.\n",
    "\n",
    "In this context, we deem more useful to use all the information provided by the available features trying to clean out the noise in the data by means of PCA. Indeed, by selecting a subset of the possible components to both reduce the number of features and the noise, by choosing a lower proportion of the explained variance."
   ]
  },
  {
   "cell_type": "markdown",
   "metadata": {},
   "source": [
    "## 1.0.0 Feature selection with PCA"
   ]
  },
  {
   "cell_type": "code",
   "execution_count": 10,
   "metadata": {
    "colab": {
     "base_uri": "https://localhost:8080/"
    },
    "id": "QmwMj5U9gmBN",
    "outputId": "6afd4c8f-1fd7-46b9-fa09-c8e7f784bccb"
   },
   "outputs": [
    {
     "name": "stdout",
     "output_type": "stream",
     "text": [
      "After feature selection with PCA, from 60483 features we left 487 features\n"
     ]
    }
   ],
   "source": [
    "from sklearn.preprocessing import StandardScaler\n",
    "data_numeric = X\n",
    "\n",
    "# Create the Scaler object\n",
    "scaler = StandardScaler()\n",
    "\n",
    "# Fit your data on the scaler object\n",
    "data_numeric_standardized = scaler.fit_transform(data_numeric)\n",
    "data_numeric_standardized=pd.DataFrame(data_numeric_standardized,columns=data_numeric.columns)\n",
    "\n",
    "from sklearn.decomposition import PCA\n",
    "\n",
    "pca = PCA(0.90) # 90% of confidency chosen\n",
    "data_numeric_pca = pca.fit_transform(data_numeric_standardized)\n",
    "\n",
    "\n",
    "X_pca = pd.DataFrame(data_numeric_pca)\n",
    "print(\"After feature selection with PCA, from 60483 features we left %i features\"%(X_pca.shape[1]))"
   ]
  },
  {
   "cell_type": "markdown",
   "metadata": {
    "id": "jeHxlxiRjmm1"
   },
   "source": [
    "## Spilitting the data set"
   ]
  },
  {
   "cell_type": "code",
   "execution_count": 11,
   "metadata": {
    "colab": {
     "base_uri": "https://localhost:8080/"
    },
    "id": "GANFT-D7jHNx",
    "outputId": "a0487620-1d59-4f6f-d720-88799cca649e"
   },
   "outputs": [
    {
     "name": "stdout",
     "output_type": "stream",
     "text": [
      "Train:  (632, 487)\n",
      "Test:  (211, 487)\n"
     ]
    }
   ],
   "source": [
    "from sklearn.model_selection import train_test_split\n",
    "\n",
    "X_train, X_test, y_train, y_test = train_test_split(X_pca, y,random_state=15)\n",
    "\n",
    "print('Train: ', X_train.shape)\n",
    "print('Test: ', X_test.shape)"
   ]
  },
  {
   "cell_type": "code",
   "execution_count": 12,
   "metadata": {
    "colab": {
     "base_uri": "https://localhost:8080/",
     "height": 351
    },
    "id": "tkHE1ST6dnQ4",
    "outputId": "24f2fefe-5795-49ad-a2cd-e5221ad4793a",
    "scrolled": true
   },
   "outputs": [
    {
     "name": "stdout",
     "output_type": "stream",
     "text": [
      "1    380\n",
      "2    142\n",
      "0    110\n",
      "Name: tumor_stage, dtype: int64\n",
      "[1, 2, 0]\n"
     ]
    },
    {
     "data": {
      "image/png": "[encoded data removed]",
      "text/plain": [
       "<Figure size 432x288 with 1 Axes>"
      ]
     },
     "metadata": {
      "needs_background": "light"
     },
     "output_type": "display_data"
    }
   ],
   "source": [
    "def show_values(y):\n",
    "  ss = y.value_counts()\n",
    "  print(ss)\n",
    "  dd = list(ss.index)\n",
    "  print(dd)\n",
    "\n",
    "  import matplotlib.pyplot as plt\n",
    "  plt.bar(x=[1,2,3], height=ss, tick_label = dd)\n",
    "  plt.show()\n",
    "show_values(y_train)\n"
   ]
  },
  {
   "cell_type": "markdown",
   "metadata": {
    "id": "_kkAFsYctZam"
   },
   "source": [
    "## 1.1.0 Oversampling"
   ]
  },
  {
   "cell_type": "code",
   "execution_count": 13,
   "metadata": {
    "colab": {
     "base_uri": "https://localhost:8080/",
     "height": 580
    },
    "id": "vWxjMV068sIl",
    "outputId": "ed856e7b-cd87-4243-d66c-024d10876362",
    "scrolled": true
   },
   "outputs": [
    {
     "data": {
      "image/png": "[encoded data removed]",
      "text/plain": [
       "<Figure size 1800x720 with 2 Axes>"
      ]
     },
     "metadata": {
      "needs_background": "light"
     },
     "output_type": "display_data"
    }
   ],
   "source": [
    "def apply_oversampling(X, y):\n",
    "  from imblearn.over_sampling import SMOTE\n",
    "  from matplotlib import pyplot as plt\n",
    "\n",
    "  X_class = X\n",
    "\n",
    "  fig, axs = plt.subplots(1,2, figsize=(25,10))\n",
    "  pd.Series(y_train).value_counts().plot.bar(ax = axs[0]).title.set_text('Before SMOTE')\n",
    "\n",
    "  smote = SMOTE(random_state = 101)\n",
    "  X_class, label_cat = smote.fit_resample(X_class, y)\n",
    "\n",
    "  pd.Series(label_cat).value_counts().plot.bar(ax = axs[1]).title.set_text('After SMOTE')\n",
    "\n",
    "  return X_class, label_cat\n",
    "\n",
    "X_train_1, y_train_1 = apply_oversampling(X_train, y_train)"
   ]
  },
  {
   "cell_type": "markdown",
   "metadata": {
    "id": "pe04cQer2ijd"
   },
   "source": [
    "# Data Clasification"
   ]
  },
  {
   "cell_type": "markdown",
   "metadata": {
    "id": "AjiArCYzSN0c"
   },
   "source": [
    "## 1.1.1. NN"
   ]
  },
  {
   "cell_type": "code",
   "execution_count": 14,
   "metadata": {
    "colab": {
     "base_uri": "https://localhost:8080/"
    },
    "id": "p5YtcSliSQ7Z",
    "outputId": "e28b5a02-1f9c-4fee-8a85-1d322a647c11"
   },
   "outputs": [
    {
     "data": {
      "text/plain": [
       "GridSearchCV(cv=10, estimator=MLPClassifier(max_iter=300, random_state=1),\n",
       "             n_jobs=5,\n",
       "             param_grid={'activation': ['logistic', 'relu'],\n",
       "                         'alpha': [0.0001, 0.001]},\n",
       "             refit='accuracy', return_train_score=True,\n",
       "             scoring={'accuracy': make_scorer(accuracy_score),\n",
       "                      'precision': make_scorer(precision_score, average=micro),\n",
       "                      'recall': make_scorer(recall_score, average=micro)})"
      ]
     },
     "execution_count": 14,
     "metadata": {},
     "output_type": "execute_result"
    }
   ],
   "source": [
    "from sklearn.neural_network import MLPClassifier\n",
    "from sklearn.model_selection import GridSearchCV\n",
    "from sklearn.metrics import precision_score\n",
    "from sklearn.metrics import accuracy_score\n",
    "from sklearn.metrics import recall_score\n",
    "from sklearn.metrics import make_scorer\n",
    "\n",
    "\n",
    "param_grid = {'activation': ['logistic', 'relu'],'alpha':[0.0001,0.001]}\n",
    "scores= {'accuracy':make_scorer(accuracy_score),'precision':make_scorer(precision_score,average='micro'),\n",
    "         'recall':make_scorer(recall_score,average='micro')}\n",
    "\n",
    "neu_net = MLPClassifier(random_state=1, max_iter=300)\n",
    "clf_nn = GridSearchCV(neu_net, param_grid,cv=10,scoring=scores,\n",
    "                       refit='accuracy', return_train_score=True,n_jobs=5)\n",
    "clf_nn.fit(X_train_1, y_train_1)"
   ]
  },
  {
   "cell_type": "code",
   "execution_count": 15,
   "metadata": {
    "colab": {
     "base_uri": "https://localhost:8080/"
    },
    "id": "23-4b6jGk69W",
    "outputId": "e848433b-386b-4bcb-a972-304b7ef3425a"
   },
   "outputs": [
    {
     "name": "stdout",
     "output_type": "stream",
     "text": [
      "{'activation': 'logistic', 'alpha': 0.001}\n"
     ]
    }
   ],
   "source": [
    "print(clf_nn.best_params_)"
   ]
  },
  {
   "cell_type": "code",
   "execution_count": 16,
   "metadata": {
    "colab": {
     "base_uri": "https://localhost:8080/",
     "height": 397
    },
    "id": "0fnAD6bhlAGt",
    "outputId": "f39aa523-c84d-4c99-8bd8-e555f756888c"
   },
   "outputs": [
    {
     "data": {
      "text/html": [
       "<div>\n",
       "<style scoped>\n",
       "    .dataframe tbody tr th:only-of-type {\n",
       "        vertical-align: middle;\n",
       "    }\n",
       "\n",
       "    .dataframe tbody tr th {\n",
       "        vertical-align: top;\n",
       "    }\n",
       "\n",
       "    .dataframe thead th {\n",
       "        text-align: right;\n",
       "    }\n",
       "</style>\n",
       "<table border=\"1\" class=\"dataframe\">\n",
       "  <thead>\n",
       "    <tr style=\"text-align: right;\">\n",
       "      <th></th>\n",
       "      <th>mean_fit_time</th>\n",
       "      <th>params</th>\n",
       "      <th>mean_test_accuracy</th>\n",
       "      <th>std_test_accuracy</th>\n",
       "      <th>rank_test_accuracy</th>\n",
       "      <th>mean_test_precision</th>\n",
       "      <th>std_test_precision</th>\n",
       "      <th>mean_test_recall</th>\n",
       "      <th>std_test_recall</th>\n",
       "    </tr>\n",
       "  </thead>\n",
       "  <tbody>\n",
       "    <tr>\n",
       "      <th>1</th>\n",
       "      <td>3.254602</td>\n",
       "      <td>{'activation': 'logistic', 'alpha': 0.001}</td>\n",
       "      <td>0.827193</td>\n",
       "      <td>0.030652</td>\n",
       "      <td>1</td>\n",
       "      <td>0.827193</td>\n",
       "      <td>0.030652</td>\n",
       "      <td>0.827193</td>\n",
       "      <td>0.030652</td>\n",
       "    </tr>\n",
       "    <tr>\n",
       "      <th>0</th>\n",
       "      <td>3.169303</td>\n",
       "      <td>{'activation': 'logistic', 'alpha': 0.0001}</td>\n",
       "      <td>0.826316</td>\n",
       "      <td>0.030336</td>\n",
       "      <td>2</td>\n",
       "      <td>0.826316</td>\n",
       "      <td>0.030336</td>\n",
       "      <td>0.826316</td>\n",
       "      <td>0.030336</td>\n",
       "    </tr>\n",
       "    <tr>\n",
       "      <th>2</th>\n",
       "      <td>1.642577</td>\n",
       "      <td>{'activation': 'relu', 'alpha': 0.0001}</td>\n",
       "      <td>0.824561</td>\n",
       "      <td>0.048524</td>\n",
       "      <td>3</td>\n",
       "      <td>0.824561</td>\n",
       "      <td>0.048524</td>\n",
       "      <td>0.824561</td>\n",
       "      <td>0.048524</td>\n",
       "    </tr>\n",
       "    <tr>\n",
       "      <th>3</th>\n",
       "      <td>1.605489</td>\n",
       "      <td>{'activation': 'relu', 'alpha': 0.001}</td>\n",
       "      <td>0.824561</td>\n",
       "      <td>0.048524</td>\n",
       "      <td>3</td>\n",
       "      <td>0.824561</td>\n",
       "      <td>0.048524</td>\n",
       "      <td>0.824561</td>\n",
       "      <td>0.048524</td>\n",
       "    </tr>\n",
       "  </tbody>\n",
       "</table>\n",
       "</div>"
      ],
      "text/plain": [
       "   mean_fit_time                                       params  \\\n",
       "1       3.254602   {'activation': 'logistic', 'alpha': 0.001}   \n",
       "0       3.169303  {'activation': 'logistic', 'alpha': 0.0001}   \n",
       "2       1.642577      {'activation': 'relu', 'alpha': 0.0001}   \n",
       "3       1.605489       {'activation': 'relu', 'alpha': 0.001}   \n",
       "\n",
       "   mean_test_accuracy  std_test_accuracy  rank_test_accuracy  \\\n",
       "1            0.827193           0.030652                   1   \n",
       "0            0.826316           0.030336                   2   \n",
       "2            0.824561           0.048524                   3   \n",
       "3            0.824561           0.048524                   3   \n",
       "\n",
       "   mean_test_precision  std_test_precision  mean_test_recall  std_test_recall  \n",
       "1             0.827193            0.030652          0.827193         0.030652  \n",
       "0             0.826316            0.030336          0.826316         0.030336  \n",
       "2             0.824561            0.048524          0.824561         0.048524  \n",
       "3             0.824561            0.048524          0.824561         0.048524  "
      ]
     },
     "execution_count": 16,
     "metadata": {},
     "output_type": "execute_result"
    }
   ],
   "source": [
    "df = pd.DataFrame(clf_nn.cv_results_)\n",
    "df.sort_values(by='rank_test_accuracy')[['mean_fit_time','params','mean_test_accuracy','std_test_accuracy','rank_test_accuracy',\n",
    "                                         'mean_test_precision','std_test_precision','mean_test_recall','std_test_recall']]"
   ]
  },
  {
   "cell_type": "code",
   "execution_count": 17,
   "metadata": {
    "colab": {
     "base_uri": "https://localhost:8080/",
     "height": 353
    },
    "id": "WhezDEt0lDtt",
    "outputId": "231ad9f6-6bd4-49f2-b744-8ccde2ab2789"
   },
   "outputs": [
    {
     "data": {
      "image/png": "[encoded data removed]",
      "text/plain": [
       "<Figure size 432x288 with 1 Axes>"
      ]
     },
     "metadata": {},
     "output_type": "display_data"
    },
    {
     "name": "stdout",
     "output_type": "stream",
     "text": [
      "Precision: 0.384\n",
      "Recall: 0.384\n",
      "Accuracy: 0.384\n"
     ]
    }
   ],
   "source": [
    "%matplotlib inline\n",
    "import seaborn as sns; sns.set()\n",
    "from sklearn.metrics import confusion_matrix\n",
    "import matplotlib.pyplot as plt\n",
    "import numpy as np\n",
    "\n",
    "y_test_pred = clf_nn.predict(X_test)\n",
    "cm_test = confusion_matrix(y_test, y_test_pred)\n",
    "\n",
    "sns.heatmap(cm_test.T, square=True, annot=True, fmt='d', cbar=False,\n",
    "            xticklabels= np.unique(y_test),\n",
    "            yticklabels= np.unique(y_test_pred))\n",
    "plt.xlabel('true label')\n",
    "plt.ylabel('predicted label');\n",
    "plt.title('Confusion Matrix DT - Test Set')\n",
    "plt.show()\n",
    "\n",
    "print('Precision: %.3f' %(precision_score(y_test, y_test_pred,average='micro')))\n",
    "print('Recall: %.3f' %(recall_score(y_test, y_test_pred,average='micro')))\n",
    "print('Accuracy: %.3f' %(accuracy_score(y_test,y_test_pred)))"
   ]
  },
  {
   "cell_type": "markdown",
   "metadata": {
    "id": "JFAy60UdJij3"
   },
   "source": [
    "## 1.1.2. Tree model"
   ]
  },
  {
   "cell_type": "code",
   "execution_count": 18,
   "metadata": {
    "colab": {
     "base_uri": "https://localhost:8080/"
    },
    "id": "oaYqCTJmJhHI",
    "outputId": "db1d8917-953b-4077-b4c6-30ed6aa4757c"
   },
   "outputs": [
    {
     "name": "stdout",
     "output_type": "stream",
     "text": [
      "{'criterion': 'entropy', 'max_depth': 12}\n"
     ]
    }
   ],
   "source": [
    "from sklearn.model_selection import GridSearchCV\n",
    "from sklearn.tree import DecisionTreeClassifier\n",
    "from sklearn.metrics import precision_score\n",
    "from sklearn.metrics import accuracy_score\n",
    "from sklearn.metrics import recall_score\n",
    "from sklearn.metrics import make_scorer\n",
    "\n",
    "\n",
    "tree_para = {'criterion':['gini','entropy'],'max_depth':[4,6,8,10,12,15,17,20]}\n",
    "scores= {'accuracy':make_scorer(accuracy_score),'precision':make_scorer(precision_score,average='micro'),\n",
    "         'recall':make_scorer(recall_score,average='micro')}\n",
    "\n",
    "clf_tree = GridSearchCV(DecisionTreeClassifier(random_state=15), tree_para, cv=10,\n",
    "                        scoring=scores,refit='accuracy', return_train_score=True,n_jobs=4)\n",
    "clf_tree = clf_tree.fit(X_train_1, y_train_1)\n",
    "print(clf_tree.best_params_)"
   ]
  },
  {
   "cell_type": "code",
   "execution_count": 19,
   "metadata": {
    "colab": {
     "base_uri": "https://localhost:8080/",
     "height": 561
    },
    "id": "XzORkH-Sqlb4",
    "outputId": "6ee3df72-71e8-4101-bde1-86b05ad9b26f"
   },
   "outputs": [
    {
     "data": {
      "text/html": [
       "<div>\n",
       "<style scoped>\n",
       "    .dataframe tbody tr th:only-of-type {\n",
       "        vertical-align: middle;\n",
       "    }\n",
       "\n",
       "    .dataframe tbody tr th {\n",
       "        vertical-align: top;\n",
       "    }\n",
       "\n",
       "    .dataframe thead th {\n",
       "        text-align: right;\n",
       "    }\n",
       "</style>\n",
       "<table border=\"1\" class=\"dataframe\">\n",
       "  <thead>\n",
       "    <tr style=\"text-align: right;\">\n",
       "      <th></th>\n",
       "      <th>mean_fit_time</th>\n",
       "      <th>params</th>\n",
       "      <th>mean_test_accuracy</th>\n",
       "      <th>std_test_accuracy</th>\n",
       "      <th>rank_test_accuracy</th>\n",
       "      <th>mean_test_precision</th>\n",
       "      <th>std_test_precision</th>\n",
       "      <th>mean_test_recall</th>\n",
       "      <th>std_test_recall</th>\n",
       "    </tr>\n",
       "  </thead>\n",
       "  <tbody>\n",
       "    <tr>\n",
       "      <th>12</th>\n",
       "      <td>0.383810</td>\n",
       "      <td>{'criterion': 'entropy', 'max_depth': 12}</td>\n",
       "      <td>0.650877</td>\n",
       "      <td>0.060622</td>\n",
       "      <td>1</td>\n",
       "      <td>0.650877</td>\n",
       "      <td>0.060622</td>\n",
       "      <td>0.650877</td>\n",
       "      <td>0.060622</td>\n",
       "    </tr>\n",
       "    <tr>\n",
       "      <th>13</th>\n",
       "      <td>0.384753</td>\n",
       "      <td>{'criterion': 'entropy', 'max_depth': 15}</td>\n",
       "      <td>0.648246</td>\n",
       "      <td>0.059552</td>\n",
       "      <td>2</td>\n",
       "      <td>0.648246</td>\n",
       "      <td>0.059552</td>\n",
       "      <td>0.648246</td>\n",
       "      <td>0.059552</td>\n",
       "    </tr>\n",
       "    <tr>\n",
       "      <th>14</th>\n",
       "      <td>0.386986</td>\n",
       "      <td>{'criterion': 'entropy', 'max_depth': 17}</td>\n",
       "      <td>0.648246</td>\n",
       "      <td>0.059552</td>\n",
       "      <td>2</td>\n",
       "      <td>0.648246</td>\n",
       "      <td>0.059552</td>\n",
       "      <td>0.648246</td>\n",
       "      <td>0.059552</td>\n",
       "    </tr>\n",
       "    <tr>\n",
       "      <th>15</th>\n",
       "      <td>0.384906</td>\n",
       "      <td>{'criterion': 'entropy', 'max_depth': 20}</td>\n",
       "      <td>0.648246</td>\n",
       "      <td>0.059552</td>\n",
       "      <td>2</td>\n",
       "      <td>0.648246</td>\n",
       "      <td>0.059552</td>\n",
       "      <td>0.648246</td>\n",
       "      <td>0.059552</td>\n",
       "    </tr>\n",
       "    <tr>\n",
       "      <th>5</th>\n",
       "      <td>0.280475</td>\n",
       "      <td>{'criterion': 'gini', 'max_depth': 15}</td>\n",
       "      <td>0.643860</td>\n",
       "      <td>0.045614</td>\n",
       "      <td>5</td>\n",
       "      <td>0.643860</td>\n",
       "      <td>0.045614</td>\n",
       "      <td>0.643860</td>\n",
       "      <td>0.045614</td>\n",
       "    </tr>\n",
       "    <tr>\n",
       "      <th>7</th>\n",
       "      <td>0.293065</td>\n",
       "      <td>{'criterion': 'gini', 'max_depth': 20}</td>\n",
       "      <td>0.641228</td>\n",
       "      <td>0.049381</td>\n",
       "      <td>6</td>\n",
       "      <td>0.641228</td>\n",
       "      <td>0.049381</td>\n",
       "      <td>0.641228</td>\n",
       "      <td>0.049381</td>\n",
       "    </tr>\n",
       "    <tr>\n",
       "      <th>6</th>\n",
       "      <td>0.286394</td>\n",
       "      <td>{'criterion': 'gini', 'max_depth': 17}</td>\n",
       "      <td>0.640351</td>\n",
       "      <td>0.040579</td>\n",
       "      <td>7</td>\n",
       "      <td>0.640351</td>\n",
       "      <td>0.040579</td>\n",
       "      <td>0.640351</td>\n",
       "      <td>0.040579</td>\n",
       "    </tr>\n",
       "    <tr>\n",
       "      <th>4</th>\n",
       "      <td>0.267354</td>\n",
       "      <td>{'criterion': 'gini', 'max_depth': 12}</td>\n",
       "      <td>0.637719</td>\n",
       "      <td>0.046092</td>\n",
       "      <td>8</td>\n",
       "      <td>0.637719</td>\n",
       "      <td>0.046092</td>\n",
       "      <td>0.637719</td>\n",
       "      <td>0.046092</td>\n",
       "    </tr>\n",
       "    <tr>\n",
       "      <th>11</th>\n",
       "      <td>0.370233</td>\n",
       "      <td>{'criterion': 'entropy', 'max_depth': 10}</td>\n",
       "      <td>0.630702</td>\n",
       "      <td>0.071635</td>\n",
       "      <td>9</td>\n",
       "      <td>0.630702</td>\n",
       "      <td>0.071635</td>\n",
       "      <td>0.630702</td>\n",
       "      <td>0.071635</td>\n",
       "    </tr>\n",
       "    <tr>\n",
       "      <th>3</th>\n",
       "      <td>0.260393</td>\n",
       "      <td>{'criterion': 'gini', 'max_depth': 10}</td>\n",
       "      <td>0.629825</td>\n",
       "      <td>0.045037</td>\n",
       "      <td>10</td>\n",
       "      <td>0.629825</td>\n",
       "      <td>0.045037</td>\n",
       "      <td>0.629825</td>\n",
       "      <td>0.045037</td>\n",
       "    </tr>\n",
       "    <tr>\n",
       "      <th>10</th>\n",
       "      <td>0.336734</td>\n",
       "      <td>{'criterion': 'entropy', 'max_depth': 8}</td>\n",
       "      <td>0.601754</td>\n",
       "      <td>0.084430</td>\n",
       "      <td>11</td>\n",
       "      <td>0.601754</td>\n",
       "      <td>0.084430</td>\n",
       "      <td>0.601754</td>\n",
       "      <td>0.084430</td>\n",
       "    </tr>\n",
       "    <tr>\n",
       "      <th>2</th>\n",
       "      <td>0.232966</td>\n",
       "      <td>{'criterion': 'gini', 'max_depth': 8}</td>\n",
       "      <td>0.595614</td>\n",
       "      <td>0.058114</td>\n",
       "      <td>12</td>\n",
       "      <td>0.595614</td>\n",
       "      <td>0.058114</td>\n",
       "      <td>0.595614</td>\n",
       "      <td>0.058114</td>\n",
       "    </tr>\n",
       "    <tr>\n",
       "      <th>1</th>\n",
       "      <td>0.191873</td>\n",
       "      <td>{'criterion': 'gini', 'max_depth': 6}</td>\n",
       "      <td>0.556140</td>\n",
       "      <td>0.043188</td>\n",
       "      <td>13</td>\n",
       "      <td>0.556140</td>\n",
       "      <td>0.043188</td>\n",
       "      <td>0.556140</td>\n",
       "      <td>0.043188</td>\n",
       "    </tr>\n",
       "    <tr>\n",
       "      <th>9</th>\n",
       "      <td>0.278274</td>\n",
       "      <td>{'criterion': 'entropy', 'max_depth': 6}</td>\n",
       "      <td>0.540351</td>\n",
       "      <td>0.076993</td>\n",
       "      <td>14</td>\n",
       "      <td>0.540351</td>\n",
       "      <td>0.076993</td>\n",
       "      <td>0.540351</td>\n",
       "      <td>0.076993</td>\n",
       "    </tr>\n",
       "    <tr>\n",
       "      <th>8</th>\n",
       "      <td>0.199800</td>\n",
       "      <td>{'criterion': 'entropy', 'max_depth': 4}</td>\n",
       "      <td>0.478947</td>\n",
       "      <td>0.046450</td>\n",
       "      <td>15</td>\n",
       "      <td>0.478947</td>\n",
       "      <td>0.046450</td>\n",
       "      <td>0.478947</td>\n",
       "      <td>0.046450</td>\n",
       "    </tr>\n",
       "    <tr>\n",
       "      <th>0</th>\n",
       "      <td>0.136407</td>\n",
       "      <td>{'criterion': 'gini', 'max_depth': 4}</td>\n",
       "      <td>0.467544</td>\n",
       "      <td>0.035965</td>\n",
       "      <td>16</td>\n",
       "      <td>0.467544</td>\n",
       "      <td>0.035965</td>\n",
       "      <td>0.467544</td>\n",
       "      <td>0.035965</td>\n",
       "    </tr>\n",
       "  </tbody>\n",
       "</table>\n",
       "</div>"
      ],
      "text/plain": [
       "    mean_fit_time                                     params  \\\n",
       "12       0.383810  {'criterion': 'entropy', 'max_depth': 12}   \n",
       "13       0.384753  {'criterion': 'entropy', 'max_depth': 15}   \n",
       "14       0.386986  {'criterion': 'entropy', 'max_depth': 17}   \n",
       "15       0.384906  {'criterion': 'entropy', 'max_depth': 20}   \n",
       "5        0.280475     {'criterion': 'gini', 'max_depth': 15}   \n",
       "7        0.293065     {'criterion': 'gini', 'max_depth': 20}   \n",
       "6        0.286394     {'criterion': 'gini', 'max_depth': 17}   \n",
       "4        0.267354     {'criterion': 'gini', 'max_depth': 12}   \n",
       "11       0.370233  {'criterion': 'entropy', 'max_depth': 10}   \n",
       "3        0.260393     {'criterion': 'gini', 'max_depth': 10}   \n",
       "10       0.336734   {'criterion': 'entropy', 'max_depth': 8}   \n",
       "2        0.232966      {'criterion': 'gini', 'max_depth': 8}   \n",
       "1        0.191873      {'criterion': 'gini', 'max_depth': 6}   \n",
       "9        0.278274   {'criterion': 'entropy', 'max_depth': 6}   \n",
       "8        0.199800   {'criterion': 'entropy', 'max_depth': 4}   \n",
       "0        0.136407      {'criterion': 'gini', 'max_depth': 4}   \n",
       "\n",
       "    mean_test_accuracy  std_test_accuracy  rank_test_accuracy  \\\n",
       "12            0.650877           0.060622                   1   \n",
       "13            0.648246           0.059552                   2   \n",
       "14            0.648246           0.059552                   2   \n",
       "15            0.648246           0.059552                   2   \n",
       "5             0.643860           0.045614                   5   \n",
       "7             0.641228           0.049381                   6   \n",
       "6             0.640351           0.040579                   7   \n",
       "4             0.637719           0.046092                   8   \n",
       "11            0.630702           0.071635                   9   \n",
       "3             0.629825           0.045037                  10   \n",
       "10            0.601754           0.084430                  11   \n",
       "2             0.595614           0.058114                  12   \n",
       "1             0.556140           0.043188                  13   \n",
       "9             0.540351           0.076993                  14   \n",
       "8             0.478947           0.046450                  15   \n",
       "0             0.467544           0.035965                  16   \n",
       "\n",
       "    mean_test_precision  std_test_precision  mean_test_recall  std_test_recall  \n",
       "12             0.650877            0.060622          0.650877         0.060622  \n",
       "13             0.648246            0.059552          0.648246         0.059552  \n",
       "14             0.648246            0.059552          0.648246         0.059552  \n",
       "15             0.648246            0.059552          0.648246         0.059552  \n",
       "5              0.643860            0.045614          0.643860         0.045614  \n",
       "7              0.641228            0.049381          0.641228         0.049381  \n",
       "6              0.640351            0.040579          0.640351         0.040579  \n",
       "4              0.637719            0.046092          0.637719         0.046092  \n",
       "11             0.630702            0.071635          0.630702         0.071635  \n",
       "3              0.629825            0.045037          0.629825         0.045037  \n",
       "10             0.601754            0.084430          0.601754         0.084430  \n",
       "2              0.595614            0.058114          0.595614         0.058114  \n",
       "1              0.556140            0.043188          0.556140         0.043188  \n",
       "9              0.540351            0.076993          0.540351         0.076993  \n",
       "8              0.478947            0.046450          0.478947         0.046450  \n",
       "0              0.467544            0.035965          0.467544         0.035965  "
      ]
     },
     "execution_count": 19,
     "metadata": {},
     "output_type": "execute_result"
    }
   ],
   "source": [
    "df = pd.DataFrame(clf_tree.cv_results_)\n",
    "df.sort_values(by='rank_test_accuracy')[['mean_fit_time','params','mean_test_accuracy','std_test_accuracy','rank_test_accuracy',\n",
    "                                         'mean_test_precision','std_test_precision','mean_test_recall','std_test_recall']]"
   ]
  },
  {
   "cell_type": "code",
   "execution_count": 20,
   "metadata": {
    "colab": {
     "base_uri": "https://localhost:8080/",
     "height": 353
    },
    "id": "9v5_o2kSJmF9",
    "outputId": "714ec43c-770e-48db-aa83-0ebcb59c6e3c"
   },
   "outputs": [
    {
     "data": {
      "image/png": "[encoded data removed]",
      "text/plain": [
       "<Figure size 432x288 with 1 Axes>"
      ]
     },
     "metadata": {},
     "output_type": "display_data"
    },
    {
     "name": "stdout",
     "output_type": "stream",
     "text": [
      "Precision: 0.370\n",
      "Recall: 0.370\n",
      "Accuracy: 0.370\n"
     ]
    }
   ],
   "source": [
    "%matplotlib inline\n",
    "import seaborn as sns; sns.set()\n",
    "from sklearn.metrics import confusion_matrix\n",
    "import matplotlib.pyplot as plt\n",
    "import numpy as np\n",
    "\n",
    "\n",
    "y_test_pred = clf_tree.predict(X_test)\n",
    "cm_test = confusion_matrix(y_test, y_test_pred)\n",
    "\n",
    "sns.heatmap(cm_test.T, square=True, annot=True, fmt='d', cbar=False,\n",
    "            xticklabels= np.unique(y_test),\n",
    "            yticklabels= np.unique(y_test_pred))\n",
    "plt.xlabel('true label')\n",
    "plt.ylabel('predicted label');\n",
    "plt.title('Confusion Matrix DT - Test Set')\n",
    "plt.show()\n",
    "\n",
    "print('Precision: %.3f' %(precision_score(y_test, y_test_pred,average='micro')))\n",
    "print('Recall: %.3f' %(recall_score(y_test, y_test_pred,average='micro')))\n",
    "print('Accuracy: %.3f' %(accuracy_score(y_test,y_test_pred)))"
   ]
  },
  {
   "cell_type": "markdown",
   "metadata": {
    "id": "ZIaPEoz6Ti1Z"
   },
   "source": [
    "## 1.1.3. K Neighbours"
   ]
  },
  {
   "cell_type": "code",
   "execution_count": 21,
   "metadata": {
    "colab": {
     "base_uri": "https://localhost:8080/"
    },
    "id": "AwyIGd0AToMr",
    "outputId": "ef6f41c6-99bc-4a89-b4f0-7f1d3f9d823e"
   },
   "outputs": [
    {
     "name": "stdout",
     "output_type": "stream",
     "text": [
      "{'metric': 'euclidean', 'n_neighbors': 3}\n"
     ]
    }
   ],
   "source": [
    "from sklearn.neighbors import KNeighborsClassifier\n",
    "\n",
    "nn_para = {'n_neighbors':[3,6,9],\n",
    "          'metric':[\"euclidean\",\"manhattan\"]}\n",
    "scores= {'accuracy':make_scorer(accuracy_score),'precision':make_scorer(precision_score,average='micro'),\n",
    "         'recall':make_scorer(recall_score,average='micro')}\n",
    "\n",
    "clf_kn = GridSearchCV(KNeighborsClassifier(), nn_para, cv=10, scoring=scores,\n",
    "                       refit='accuracy', return_train_score=True,n_jobs=4)\n",
    "clf_kn = clf_kn.fit(X_train_1, y_train_1)\n",
    "print(clf_kn.best_params_)"
   ]
  },
  {
   "cell_type": "code",
   "execution_count": 22,
   "metadata": {
    "colab": {
     "base_uri": "https://localhost:8080/",
     "height": 561
    },
    "id": "seL-PlX5BFw_",
    "outputId": "b237bf42-8ec0-4150-bc61-383b528f11fc"
   },
   "outputs": [
    {
     "data": {
      "text/html": [
       "<div>\n",
       "<style scoped>\n",
       "    .dataframe tbody tr th:only-of-type {\n",
       "        vertical-align: middle;\n",
       "    }\n",
       "\n",
       "    .dataframe tbody tr th {\n",
       "        vertical-align: top;\n",
       "    }\n",
       "\n",
       "    .dataframe thead th {\n",
       "        text-align: right;\n",
       "    }\n",
       "</style>\n",
       "<table border=\"1\" class=\"dataframe\">\n",
       "  <thead>\n",
       "    <tr style=\"text-align: right;\">\n",
       "      <th></th>\n",
       "      <th>mean_fit_time</th>\n",
       "      <th>params</th>\n",
       "      <th>mean_test_accuracy</th>\n",
       "      <th>std_test_accuracy</th>\n",
       "      <th>rank_test_accuracy</th>\n",
       "      <th>mean_test_precision</th>\n",
       "      <th>std_test_precision</th>\n",
       "      <th>mean_test_recall</th>\n",
       "      <th>std_test_recall</th>\n",
       "    </tr>\n",
       "  </thead>\n",
       "  <tbody>\n",
       "    <tr>\n",
       "      <th>0</th>\n",
       "      <td>0.005212</td>\n",
       "      <td>{'metric': 'euclidean', 'n_neighbors': 3}</td>\n",
       "      <td>0.648246</td>\n",
       "      <td>0.036263</td>\n",
       "      <td>1</td>\n",
       "      <td>0.648246</td>\n",
       "      <td>0.036263</td>\n",
       "      <td>0.648246</td>\n",
       "      <td>0.036263</td>\n",
       "    </tr>\n",
       "    <tr>\n",
       "      <th>3</th>\n",
       "      <td>0.005211</td>\n",
       "      <td>{'metric': 'manhattan', 'n_neighbors': 3}</td>\n",
       "      <td>0.644737</td>\n",
       "      <td>0.026966</td>\n",
       "      <td>2</td>\n",
       "      <td>0.644737</td>\n",
       "      <td>0.026966</td>\n",
       "      <td>0.644737</td>\n",
       "      <td>0.026966</td>\n",
       "    </tr>\n",
       "    <tr>\n",
       "      <th>1</th>\n",
       "      <td>0.006089</td>\n",
       "      <td>{'metric': 'euclidean', 'n_neighbors': 6}</td>\n",
       "      <td>0.581579</td>\n",
       "      <td>0.058720</td>\n",
       "      <td>3</td>\n",
       "      <td>0.581579</td>\n",
       "      <td>0.058720</td>\n",
       "      <td>0.581579</td>\n",
       "      <td>0.058720</td>\n",
       "    </tr>\n",
       "    <tr>\n",
       "      <th>4</th>\n",
       "      <td>0.004588</td>\n",
       "      <td>{'metric': 'manhattan', 'n_neighbors': 6}</td>\n",
       "      <td>0.570175</td>\n",
       "      <td>0.055340</td>\n",
       "      <td>4</td>\n",
       "      <td>0.570175</td>\n",
       "      <td>0.055340</td>\n",
       "      <td>0.570175</td>\n",
       "      <td>0.055340</td>\n",
       "    </tr>\n",
       "    <tr>\n",
       "      <th>5</th>\n",
       "      <td>0.004195</td>\n",
       "      <td>{'metric': 'manhattan', 'n_neighbors': 9}</td>\n",
       "      <td>0.558772</td>\n",
       "      <td>0.042623</td>\n",
       "      <td>5</td>\n",
       "      <td>0.558772</td>\n",
       "      <td>0.042623</td>\n",
       "      <td>0.558772</td>\n",
       "      <td>0.042623</td>\n",
       "    </tr>\n",
       "    <tr>\n",
       "      <th>2</th>\n",
       "      <td>0.007534</td>\n",
       "      <td>{'metric': 'euclidean', 'n_neighbors': 9}</td>\n",
       "      <td>0.554386</td>\n",
       "      <td>0.059079</td>\n",
       "      <td>6</td>\n",
       "      <td>0.554386</td>\n",
       "      <td>0.059079</td>\n",
       "      <td>0.554386</td>\n",
       "      <td>0.059079</td>\n",
       "    </tr>\n",
       "  </tbody>\n",
       "</table>\n",
       "</div>"
      ],
      "text/plain": [
       "   mean_fit_time                                     params  \\\n",
       "0       0.005212  {'metric': 'euclidean', 'n_neighbors': 3}   \n",
       "3       0.005211  {'metric': 'manhattan', 'n_neighbors': 3}   \n",
       "1       0.006089  {'metric': 'euclidean', 'n_neighbors': 6}   \n",
       "4       0.004588  {'metric': 'manhattan', 'n_neighbors': 6}   \n",
       "5       0.004195  {'metric': 'manhattan', 'n_neighbors': 9}   \n",
       "2       0.007534  {'metric': 'euclidean', 'n_neighbors': 9}   \n",
       "\n",
       "   mean_test_accuracy  std_test_accuracy  rank_test_accuracy  \\\n",
       "0            0.648246           0.036263                   1   \n",
       "3            0.644737           0.026966                   2   \n",
       "1            0.581579           0.058720                   3   \n",
       "4            0.570175           0.055340                   4   \n",
       "5            0.558772           0.042623                   5   \n",
       "2            0.554386           0.059079                   6   \n",
       "\n",
       "   mean_test_precision  std_test_precision  mean_test_recall  std_test_recall  \n",
       "0             0.648246            0.036263          0.648246         0.036263  \n",
       "3             0.644737            0.026966          0.644737         0.026966  \n",
       "1             0.581579            0.058720          0.581579         0.058720  \n",
       "4             0.570175            0.055340          0.570175         0.055340  \n",
       "5             0.558772            0.042623          0.558772         0.042623  \n",
       "2             0.554386            0.059079          0.554386         0.059079  "
      ]
     },
     "execution_count": 22,
     "metadata": {},
     "output_type": "execute_result"
    }
   ],
   "source": [
    "df = pd.DataFrame(clf_kn.cv_results_)\n",
    "df.sort_values(by='rank_test_accuracy')[['mean_fit_time','params','mean_test_accuracy','std_test_accuracy','rank_test_accuracy',\n",
    "                                         'mean_test_precision','std_test_precision','mean_test_recall','std_test_recall']]"
   ]
  },
  {
   "cell_type": "code",
   "execution_count": 23,
   "metadata": {
    "colab": {
     "base_uri": "https://localhost:8080/",
     "height": 353
    },
    "id": "pxS5RbyEBIik",
    "outputId": "7b02b7e7-a8a3-4b27-c67a-a6c701407d6e"
   },
   "outputs": [
    {
     "data": {
      "image/png": "[encoded data removed]",
      "text/plain": [
       "<Figure size 432x288 with 1 Axes>"
      ]
     },
     "metadata": {},
     "output_type": "display_data"
    },
    {
     "name": "stdout",
     "output_type": "stream",
     "text": [
      "Precision: 0.370\n",
      "Recall: 0.370\n",
      "Accuracy: 0.370\n"
     ]
    }
   ],
   "source": [
    "y_test_pred_gnb = clf_kn.predict(X_test)\n",
    "cm_test = confusion_matrix(y_test, y_test_pred_gnb)\n",
    "\n",
    "sns.heatmap(cm_test.T, square=True, annot=True, fmt='d', cbar=False,\n",
    "            xticklabels= np.unique(y_test),\n",
    "            yticklabels= np.unique(y_test_pred_gnb))\n",
    "plt.xlabel('true label')\n",
    "plt.ylabel('predicted label');\n",
    "plt.title('Confusion Matrix Naive Bayes - Test Set')\n",
    "plt.show()\n",
    "\n",
    "print('Precision: %.3f' %(precision_score(y_test, y_test_pred,average='micro')))\n",
    "print('Recall: %.3f' %(recall_score(y_test, y_test_pred,average='micro')))\n",
    "print('Accuracy: %.3f' %(accuracy_score(y_test,y_test_pred)))"
   ]
  },
  {
   "cell_type": "markdown",
   "metadata": {
    "id": "WkaY1TdPBWq5"
   },
   "source": [
    "## 1.1.4. Support Vector Machine"
   ]
  },
  {
   "cell_type": "code",
   "execution_count": 24,
   "metadata": {
    "colab": {
     "base_uri": "https://localhost:8080/",
     "height": 394
    },
    "id": "8pdapudCBY81",
    "outputId": "2b7d6d99-b564-4bec-967f-302b2c3b0b9d"
   },
   "outputs": [
    {
     "name": "stderr",
     "output_type": "stream",
     "text": [
      "/home/bnt4me/.local/lib/python3.8/site-packages/sklearn/svm/_base.py:1199: ConvergenceWarning: Liblinear failed to converge, increase the number of iterations.\n",
      "  warnings.warn(\n"
     ]
    },
    {
     "data": {
      "text/plain": [
       "GridSearchCV(cv=10, estimator=LinearSVC(random_state=10), n_jobs=5,\n",
       "             param_grid={'C': [1, 2, 3, 5, 10, 15, 20, 30, 40, 60, 90, 320],\n",
       "                         'penalty': ['l2']},\n",
       "             refit='accuracy', return_train_score=True,\n",
       "             scoring={'accuracy': make_scorer(accuracy_score),\n",
       "                      'precision': make_scorer(precision_score, average=micro),\n",
       "                      'recall': make_scorer(recall_score, average=micro)})"
      ]
     },
     "execution_count": 24,
     "metadata": {},
     "output_type": "execute_result"
    }
   ],
   "source": [
    "from sklearn.model_selection import GridSearchCV\n",
    "from sklearn import svm\n",
    "from sklearn.model_selection import cross_val_score\n",
    "from sklearn.metrics import precision_score\n",
    "from sklearn.metrics import accuracy_score\n",
    "from sklearn.metrics import recall_score\n",
    "from sklearn.metrics import make_scorer\n",
    "\n",
    "param_grid =  {'penalty':['l2'],'C':[1,2,3,5,10,15,20,30,40,60,90, 320]}\n",
    "scores= {'accuracy':make_scorer(accuracy_score),'precision':make_scorer(precision_score,average='micro'),\n",
    "         'recall':make_scorer(recall_score,average='micro')}\n",
    "\n",
    "svc = svm.LinearSVC(random_state=10)\n",
    "clf_svc = GridSearchCV(svc, param_grid,cv=10,scoring=scores,\n",
    "                        refit='accuracy', return_train_score=True, n_jobs=5)\n",
    "clf_svc.fit(X_train_1, y_train_1) "
   ]
  },
  {
   "cell_type": "code",
   "execution_count": 25,
   "metadata": {
    "id": "Znx51o33BZIX"
   },
   "outputs": [
    {
     "name": "stdout",
     "output_type": "stream",
     "text": [
      "{'C': 5, 'penalty': 'l2'}\n"
     ]
    }
   ],
   "source": [
    "print(clf_svc.best_params_)"
   ]
  },
  {
   "cell_type": "code",
   "execution_count": 26,
   "metadata": {
    "id": "fpxVdnvyBZSM"
   },
   "outputs": [
    {
     "data": {
      "text/html": [
       "<div>\n",
       "<style scoped>\n",
       "    .dataframe tbody tr th:only-of-type {\n",
       "        vertical-align: middle;\n",
       "    }\n",
       "\n",
       "    .dataframe tbody tr th {\n",
       "        vertical-align: top;\n",
       "    }\n",
       "\n",
       "    .dataframe thead th {\n",
       "        text-align: right;\n",
       "    }\n",
       "</style>\n",
       "<table border=\"1\" class=\"dataframe\">\n",
       "  <thead>\n",
       "    <tr style=\"text-align: right;\">\n",
       "      <th></th>\n",
       "      <th>mean_fit_time</th>\n",
       "      <th>params</th>\n",
       "      <th>mean_test_accuracy</th>\n",
       "      <th>std_test_accuracy</th>\n",
       "      <th>rank_test_accuracy</th>\n",
       "      <th>mean_test_precision</th>\n",
       "      <th>std_test_precision</th>\n",
       "      <th>mean_test_recall</th>\n",
       "      <th>std_test_recall</th>\n",
       "    </tr>\n",
       "  </thead>\n",
       "  <tbody>\n",
       "    <tr>\n",
       "      <th>3</th>\n",
       "      <td>1.535784</td>\n",
       "      <td>{'C': 5, 'penalty': 'l2'}</td>\n",
       "      <td>0.779825</td>\n",
       "      <td>0.036685</td>\n",
       "      <td>1</td>\n",
       "      <td>0.779825</td>\n",
       "      <td>0.036685</td>\n",
       "      <td>0.779825</td>\n",
       "      <td>0.036685</td>\n",
       "    </tr>\n",
       "    <tr>\n",
       "      <th>4</th>\n",
       "      <td>1.546697</td>\n",
       "      <td>{'C': 10, 'penalty': 'l2'}</td>\n",
       "      <td>0.778947</td>\n",
       "      <td>0.034379</td>\n",
       "      <td>2</td>\n",
       "      <td>0.778947</td>\n",
       "      <td>0.034379</td>\n",
       "      <td>0.778947</td>\n",
       "      <td>0.034379</td>\n",
       "    </tr>\n",
       "    <tr>\n",
       "      <th>7</th>\n",
       "      <td>1.644228</td>\n",
       "      <td>{'C': 30, 'penalty': 'l2'}</td>\n",
       "      <td>0.778947</td>\n",
       "      <td>0.037175</td>\n",
       "      <td>2</td>\n",
       "      <td>0.778947</td>\n",
       "      <td>0.037175</td>\n",
       "      <td>0.778947</td>\n",
       "      <td>0.037175</td>\n",
       "    </tr>\n",
       "    <tr>\n",
       "      <th>9</th>\n",
       "      <td>1.598739</td>\n",
       "      <td>{'C': 60, 'penalty': 'l2'}</td>\n",
       "      <td>0.778070</td>\n",
       "      <td>0.035317</td>\n",
       "      <td>4</td>\n",
       "      <td>0.778070</td>\n",
       "      <td>0.035317</td>\n",
       "      <td>0.778070</td>\n",
       "      <td>0.035317</td>\n",
       "    </tr>\n",
       "    <tr>\n",
       "      <th>0</th>\n",
       "      <td>1.561551</td>\n",
       "      <td>{'C': 1, 'penalty': 'l2'}</td>\n",
       "      <td>0.777193</td>\n",
       "      <td>0.037257</td>\n",
       "      <td>5</td>\n",
       "      <td>0.777193</td>\n",
       "      <td>0.037257</td>\n",
       "      <td>0.777193</td>\n",
       "      <td>0.037257</td>\n",
       "    </tr>\n",
       "    <tr>\n",
       "      <th>1</th>\n",
       "      <td>1.531524</td>\n",
       "      <td>{'C': 2, 'penalty': 'l2'}</td>\n",
       "      <td>0.777193</td>\n",
       "      <td>0.037463</td>\n",
       "      <td>5</td>\n",
       "      <td>0.777193</td>\n",
       "      <td>0.037463</td>\n",
       "      <td>0.777193</td>\n",
       "      <td>0.037463</td>\n",
       "    </tr>\n",
       "    <tr>\n",
       "      <th>2</th>\n",
       "      <td>1.539103</td>\n",
       "      <td>{'C': 3, 'penalty': 'l2'}</td>\n",
       "      <td>0.777193</td>\n",
       "      <td>0.038477</td>\n",
       "      <td>5</td>\n",
       "      <td>0.777193</td>\n",
       "      <td>0.038477</td>\n",
       "      <td>0.777193</td>\n",
       "      <td>0.038477</td>\n",
       "    </tr>\n",
       "    <tr>\n",
       "      <th>5</th>\n",
       "      <td>1.549546</td>\n",
       "      <td>{'C': 15, 'penalty': 'l2'}</td>\n",
       "      <td>0.777193</td>\n",
       "      <td>0.037257</td>\n",
       "      <td>5</td>\n",
       "      <td>0.777193</td>\n",
       "      <td>0.037257</td>\n",
       "      <td>0.777193</td>\n",
       "      <td>0.037257</td>\n",
       "    </tr>\n",
       "    <tr>\n",
       "      <th>6</th>\n",
       "      <td>1.569914</td>\n",
       "      <td>{'C': 20, 'penalty': 'l2'}</td>\n",
       "      <td>0.777193</td>\n",
       "      <td>0.037257</td>\n",
       "      <td>5</td>\n",
       "      <td>0.777193</td>\n",
       "      <td>0.037257</td>\n",
       "      <td>0.777193</td>\n",
       "      <td>0.037257</td>\n",
       "    </tr>\n",
       "    <tr>\n",
       "      <th>8</th>\n",
       "      <td>1.584279</td>\n",
       "      <td>{'C': 40, 'penalty': 'l2'}</td>\n",
       "      <td>0.777193</td>\n",
       "      <td>0.038477</td>\n",
       "      <td>5</td>\n",
       "      <td>0.777193</td>\n",
       "      <td>0.038477</td>\n",
       "      <td>0.777193</td>\n",
       "      <td>0.038477</td>\n",
       "    </tr>\n",
       "    <tr>\n",
       "      <th>10</th>\n",
       "      <td>1.607311</td>\n",
       "      <td>{'C': 90, 'penalty': 'l2'}</td>\n",
       "      <td>0.777193</td>\n",
       "      <td>0.037257</td>\n",
       "      <td>5</td>\n",
       "      <td>0.777193</td>\n",
       "      <td>0.037257</td>\n",
       "      <td>0.777193</td>\n",
       "      <td>0.037257</td>\n",
       "    </tr>\n",
       "    <tr>\n",
       "      <th>11</th>\n",
       "      <td>1.590544</td>\n",
       "      <td>{'C': 320, 'penalty': 'l2'}</td>\n",
       "      <td>0.777193</td>\n",
       "      <td>0.037257</td>\n",
       "      <td>5</td>\n",
       "      <td>0.777193</td>\n",
       "      <td>0.037257</td>\n",
       "      <td>0.777193</td>\n",
       "      <td>0.037257</td>\n",
       "    </tr>\n",
       "  </tbody>\n",
       "</table>\n",
       "</div>"
      ],
      "text/plain": [
       "    mean_fit_time                       params  mean_test_accuracy  \\\n",
       "3        1.535784    {'C': 5, 'penalty': 'l2'}            0.779825   \n",
       "4        1.546697   {'C': 10, 'penalty': 'l2'}            0.778947   \n",
       "7        1.644228   {'C': 30, 'penalty': 'l2'}            0.778947   \n",
       "9        1.598739   {'C': 60, 'penalty': 'l2'}            0.778070   \n",
       "0        1.561551    {'C': 1, 'penalty': 'l2'}            0.777193   \n",
       "1        1.531524    {'C': 2, 'penalty': 'l2'}            0.777193   \n",
       "2        1.539103    {'C': 3, 'penalty': 'l2'}            0.777193   \n",
       "5        1.549546   {'C': 15, 'penalty': 'l2'}            0.777193   \n",
       "6        1.569914   {'C': 20, 'penalty': 'l2'}            0.777193   \n",
       "8        1.584279   {'C': 40, 'penalty': 'l2'}            0.777193   \n",
       "10       1.607311   {'C': 90, 'penalty': 'l2'}            0.777193   \n",
       "11       1.590544  {'C': 320, 'penalty': 'l2'}            0.777193   \n",
       "\n",
       "    std_test_accuracy  rank_test_accuracy  mean_test_precision  \\\n",
       "3            0.036685                   1             0.779825   \n",
       "4            0.034379                   2             0.778947   \n",
       "7            0.037175                   2             0.778947   \n",
       "9            0.035317                   4             0.778070   \n",
       "0            0.037257                   5             0.777193   \n",
       "1            0.037463                   5             0.777193   \n",
       "2            0.038477                   5             0.777193   \n",
       "5            0.037257                   5             0.777193   \n",
       "6            0.037257                   5             0.777193   \n",
       "8            0.038477                   5             0.777193   \n",
       "10           0.037257                   5             0.777193   \n",
       "11           0.037257                   5             0.777193   \n",
       "\n",
       "    std_test_precision  mean_test_recall  std_test_recall  \n",
       "3             0.036685          0.779825         0.036685  \n",
       "4             0.034379          0.778947         0.034379  \n",
       "7             0.037175          0.778947         0.037175  \n",
       "9             0.035317          0.778070         0.035317  \n",
       "0             0.037257          0.777193         0.037257  \n",
       "1             0.037463          0.777193         0.037463  \n",
       "2             0.038477          0.777193         0.038477  \n",
       "5             0.037257          0.777193         0.037257  \n",
       "6             0.037257          0.777193         0.037257  \n",
       "8             0.038477          0.777193         0.038477  \n",
       "10            0.037257          0.777193         0.037257  \n",
       "11            0.037257          0.777193         0.037257  "
      ]
     },
     "execution_count": 26,
     "metadata": {},
     "output_type": "execute_result"
    }
   ],
   "source": [
    "df = pd.DataFrame(clf_svc.cv_results_)\n",
    "df.sort_values(by='rank_test_accuracy')[['mean_fit_time','params','mean_test_accuracy','std_test_accuracy','rank_test_accuracy',\n",
    "                                         'mean_test_precision','std_test_precision','mean_test_recall','std_test_recall']]"
   ]
  },
  {
   "cell_type": "code",
   "execution_count": 27,
   "metadata": {
    "id": "qv9d0VLoBesU",
    "scrolled": true
   },
   "outputs": [
    {
     "data": {
      "image/png": "[encoded data removed]",
      "text/plain": [
       "<Figure size 432x288 with 1 Axes>"
      ]
     },
     "metadata": {},
     "output_type": "display_data"
    },
    {
     "name": "stdout",
     "output_type": "stream",
     "text": [
      "Precision: 0.294\n",
      "Recall: 0.294\n",
      "Accuracy: 0.294\n"
     ]
    },
    {
     "name": "stderr",
     "output_type": "stream",
     "text": [
      "/home/bnt4me/.local/lib/python3.8/site-packages/sklearn/svm/_base.py:1199: ConvergenceWarning: Liblinear failed to converge, increase the number of iterations.\n",
      "  warnings.warn(\n",
      "/home/bnt4me/.local/lib/python3.8/site-packages/sklearn/svm/_base.py:1199: ConvergenceWarning: Liblinear failed to converge, increase the number of iterations.\n",
      "  warnings.warn(\n",
      "/home/bnt4me/.local/lib/python3.8/site-packages/sklearn/svm/_base.py:1199: ConvergenceWarning: Liblinear failed to converge, increase the number of iterations.\n",
      "  warnings.warn(\n",
      "/home/bnt4me/.local/lib/python3.8/site-packages/sklearn/svm/_base.py:1199: ConvergenceWarning: Liblinear failed to converge, increase the number of iterations.\n",
      "  warnings.warn(\n",
      "/home/bnt4me/.local/lib/python3.8/site-packages/sklearn/svm/_base.py:1199: ConvergenceWarning: Liblinear failed to converge, increase the number of iterations.\n",
      "  warnings.warn(\n",
      "/home/bnt4me/.local/lib/python3.8/site-packages/sklearn/svm/_base.py:1199: ConvergenceWarning: Liblinear failed to converge, increase the number of iterations.\n",
      "  warnings.warn(\n",
      "/home/bnt4me/.local/lib/python3.8/site-packages/sklearn/svm/_base.py:1199: ConvergenceWarning: Liblinear failed to converge, increase the number of iterations.\n",
      "  warnings.warn(\n",
      "/home/bnt4me/.local/lib/python3.8/site-packages/sklearn/svm/_base.py:1199: ConvergenceWarning: Liblinear failed to converge, increase the number of iterations.\n",
      "  warnings.warn(\n",
      "/home/bnt4me/.local/lib/python3.8/site-packages/sklearn/svm/_base.py:1199: ConvergenceWarning: Liblinear failed to converge, increase the number of iterations.\n",
      "  warnings.warn(\n",
      "/home/bnt4me/.local/lib/python3.8/site-packages/sklearn/svm/_base.py:1199: ConvergenceWarning: Liblinear failed to converge, increase the number of iterations.\n",
      "  warnings.warn(\n",
      "/home/bnt4me/.local/lib/python3.8/site-packages/sklearn/svm/_base.py:1199: ConvergenceWarning: Liblinear failed to converge, increase the number of iterations.\n",
      "  warnings.warn(\n",
      "/home/bnt4me/.local/lib/python3.8/site-packages/sklearn/svm/_base.py:1199: ConvergenceWarning: Liblinear failed to converge, increase the number of iterations.\n",
      "  warnings.warn(\n",
      "/home/bnt4me/.local/lib/python3.8/site-packages/sklearn/svm/_base.py:1199: ConvergenceWarning: Liblinear failed to converge, increase the number of iterations.\n",
      "  warnings.warn(\n",
      "/home/bnt4me/.local/lib/python3.8/site-packages/sklearn/svm/_base.py:1199: ConvergenceWarning: Liblinear failed to converge, increase the number of iterations.\n",
      "  warnings.warn(\n",
      "/home/bnt4me/.local/lib/python3.8/site-packages/sklearn/svm/_base.py:1199: ConvergenceWarning: Liblinear failed to converge, increase the number of iterations.\n",
      "  warnings.warn(\n",
      "/home/bnt4me/.local/lib/python3.8/site-packages/sklearn/svm/_base.py:1199: ConvergenceWarning: Liblinear failed to converge, increase the number of iterations.\n",
      "  warnings.warn(\n",
      "/home/bnt4me/.local/lib/python3.8/site-packages/sklearn/svm/_base.py:1199: ConvergenceWarning: Liblinear failed to converge, increase the number of iterations.\n",
      "  warnings.warn(\n",
      "/home/bnt4me/.local/lib/python3.8/site-packages/sklearn/svm/_base.py:1199: ConvergenceWarning: Liblinear failed to converge, increase the number of iterations.\n",
      "  warnings.warn(\n",
      "/home/bnt4me/.local/lib/python3.8/site-packages/sklearn/svm/_base.py:1199: ConvergenceWarning: Liblinear failed to converge, increase the number of iterations.\n",
      "  warnings.warn(\n",
      "/home/bnt4me/.local/lib/python3.8/site-packages/sklearn/svm/_base.py:1199: ConvergenceWarning: Liblinear failed to converge, increase the number of iterations.\n",
      "  warnings.warn(\n",
      "/home/bnt4me/.local/lib/python3.8/site-packages/sklearn/svm/_base.py:1199: ConvergenceWarning: Liblinear failed to converge, increase the number of iterations.\n",
      "  warnings.warn(\n",
      "/home/bnt4me/.local/lib/python3.8/site-packages/sklearn/svm/_base.py:1199: ConvergenceWarning: Liblinear failed to converge, increase the number of iterations.\n",
      "  warnings.warn(\n",
      "/home/bnt4me/.local/lib/python3.8/site-packages/sklearn/svm/_base.py:1199: ConvergenceWarning: Liblinear failed to converge, increase the number of iterations.\n",
      "  warnings.warn(\n",
      "/home/bnt4me/.local/lib/python3.8/site-packages/sklearn/svm/_base.py:1199: ConvergenceWarning: Liblinear failed to converge, increase the number of iterations.\n",
      "  warnings.warn(\n",
      "/home/bnt4me/.local/lib/python3.8/site-packages/sklearn/svm/_base.py:1199: ConvergenceWarning: Liblinear failed to converge, increase the number of iterations.\n",
      "  warnings.warn(\n",
      "/home/bnt4me/.local/lib/python3.8/site-packages/sklearn/svm/_base.py:1199: ConvergenceWarning: Liblinear failed to converge, increase the number of iterations.\n",
      "  warnings.warn(\n",
      "/home/bnt4me/.local/lib/python3.8/site-packages/sklearn/svm/_base.py:1199: ConvergenceWarning: Liblinear failed to converge, increase the number of iterations.\n",
      "  warnings.warn(\n",
      "/home/bnt4me/.local/lib/python3.8/site-packages/sklearn/svm/_base.py:1199: ConvergenceWarning: Liblinear failed to converge, increase the number of iterations.\n",
      "  warnings.warn(\n",
      "/home/bnt4me/.local/lib/python3.8/site-packages/sklearn/svm/_base.py:1199: ConvergenceWarning: Liblinear failed to converge, increase the number of iterations.\n",
      "  warnings.warn(\n",
      "/home/bnt4me/.local/lib/python3.8/site-packages/sklearn/svm/_base.py:1199: ConvergenceWarning: Liblinear failed to converge, increase the number of iterations.\n",
      "  warnings.warn(\n",
      "/home/bnt4me/.local/lib/python3.8/site-packages/sklearn/svm/_base.py:1199: ConvergenceWarning: Liblinear failed to converge, increase the number of iterations.\n",
      "  warnings.warn(\n",
      "/home/bnt4me/.local/lib/python3.8/site-packages/sklearn/svm/_base.py:1199: ConvergenceWarning: Liblinear failed to converge, increase the number of iterations.\n",
      "  warnings.warn(\n",
      "/home/bnt4me/.local/lib/python3.8/site-packages/sklearn/svm/_base.py:1199: ConvergenceWarning: Liblinear failed to converge, increase the number of iterations.\n",
      "  warnings.warn(\n",
      "/home/bnt4me/.local/lib/python3.8/site-packages/sklearn/svm/_base.py:1199: ConvergenceWarning: Liblinear failed to converge, increase the number of iterations.\n",
      "  warnings.warn(\n",
      "/home/bnt4me/.local/lib/python3.8/site-packages/sklearn/svm/_base.py:1199: ConvergenceWarning: Liblinear failed to converge, increase the number of iterations.\n",
      "  warnings.warn(\n",
      "/home/bnt4me/.local/lib/python3.8/site-packages/sklearn/svm/_base.py:1199: ConvergenceWarning: Liblinear failed to converge, increase the number of iterations.\n",
      "  warnings.warn(\n",
      "/home/bnt4me/.local/lib/python3.8/site-packages/sklearn/svm/_base.py:1199: ConvergenceWarning: Liblinear failed to converge, increase the number of iterations.\n",
      "  warnings.warn(\n",
      "/home/bnt4me/.local/lib/python3.8/site-packages/sklearn/svm/_base.py:1199: ConvergenceWarning: Liblinear failed to converge, increase the number of iterations.\n",
      "  warnings.warn(\n",
      "/home/bnt4me/.local/lib/python3.8/site-packages/sklearn/svm/_base.py:1199: ConvergenceWarning: Liblinear failed to converge, increase the number of iterations.\n",
      "  warnings.warn(\n",
      "/home/bnt4me/.local/lib/python3.8/site-packages/sklearn/svm/_base.py:1199: ConvergenceWarning: Liblinear failed to converge, increase the number of iterations.\n",
      "  warnings.warn(\n",
      "/home/bnt4me/.local/lib/python3.8/site-packages/sklearn/svm/_base.py:1199: ConvergenceWarning: Liblinear failed to converge, increase the number of iterations.\n",
      "  warnings.warn(\n",
      "/home/bnt4me/.local/lib/python3.8/site-packages/sklearn/svm/_base.py:1199: ConvergenceWarning: Liblinear failed to converge, increase the number of iterations.\n",
      "  warnings.warn(\n",
      "/home/bnt4me/.local/lib/python3.8/site-packages/sklearn/svm/_base.py:1199: ConvergenceWarning: Liblinear failed to converge, increase the number of iterations.\n",
      "  warnings.warn(\n",
      "/home/bnt4me/.local/lib/python3.8/site-packages/sklearn/svm/_base.py:1199: ConvergenceWarning: Liblinear failed to converge, increase the number of iterations.\n",
      "  warnings.warn(\n",
      "/home/bnt4me/.local/lib/python3.8/site-packages/sklearn/svm/_base.py:1199: ConvergenceWarning: Liblinear failed to converge, increase the number of iterations.\n",
      "  warnings.warn(\n",
      "/home/bnt4me/.local/lib/python3.8/site-packages/sklearn/svm/_base.py:1199: ConvergenceWarning: Liblinear failed to converge, increase the number of iterations.\n",
      "  warnings.warn(\n",
      "/home/bnt4me/.local/lib/python3.8/site-packages/sklearn/svm/_base.py:1199: ConvergenceWarning: Liblinear failed to converge, increase the number of iterations.\n",
      "  warnings.warn(\n",
      "/home/bnt4me/.local/lib/python3.8/site-packages/sklearn/svm/_base.py:1199: ConvergenceWarning: Liblinear failed to converge, increase the number of iterations.\n",
      "  warnings.warn(\n",
      "/home/bnt4me/.local/lib/python3.8/site-packages/sklearn/svm/_base.py:1199: ConvergenceWarning: Liblinear failed to converge, increase the number of iterations.\n",
      "  warnings.warn(\n",
      "/home/bnt4me/.local/lib/python3.8/site-packages/sklearn/svm/_base.py:1199: ConvergenceWarning: Liblinear failed to converge, increase the number of iterations.\n",
      "  warnings.warn(\n",
      "/home/bnt4me/.local/lib/python3.8/site-packages/sklearn/svm/_base.py:1199: ConvergenceWarning: Liblinear failed to converge, increase the number of iterations.\n",
      "  warnings.warn(\n",
      "/home/bnt4me/.local/lib/python3.8/site-packages/sklearn/svm/_base.py:1199: ConvergenceWarning: Liblinear failed to converge, increase the number of iterations.\n",
      "  warnings.warn(\n",
      "/home/bnt4me/.local/lib/python3.8/site-packages/sklearn/svm/_base.py:1199: ConvergenceWarning: Liblinear failed to converge, increase the number of iterations.\n",
      "  warnings.warn(\n",
      "/home/bnt4me/.local/lib/python3.8/site-packages/sklearn/svm/_base.py:1199: ConvergenceWarning: Liblinear failed to converge, increase the number of iterations.\n",
      "  warnings.warn(\n",
      "/home/bnt4me/.local/lib/python3.8/site-packages/sklearn/svm/_base.py:1199: ConvergenceWarning: Liblinear failed to converge, increase the number of iterations.\n",
      "  warnings.warn(\n",
      "/home/bnt4me/.local/lib/python3.8/site-packages/sklearn/svm/_base.py:1199: ConvergenceWarning: Liblinear failed to converge, increase the number of iterations.\n",
      "  warnings.warn(\n",
      "/home/bnt4me/.local/lib/python3.8/site-packages/sklearn/svm/_base.py:1199: ConvergenceWarning: Liblinear failed to converge, increase the number of iterations.\n",
      "  warnings.warn(\n",
      "/home/bnt4me/.local/lib/python3.8/site-packages/sklearn/svm/_base.py:1199: ConvergenceWarning: Liblinear failed to converge, increase the number of iterations.\n",
      "  warnings.warn(\n",
      "/home/bnt4me/.local/lib/python3.8/site-packages/sklearn/svm/_base.py:1199: ConvergenceWarning: Liblinear failed to converge, increase the number of iterations.\n",
      "  warnings.warn(\n",
      "/home/bnt4me/.local/lib/python3.8/site-packages/sklearn/svm/_base.py:1199: ConvergenceWarning: Liblinear failed to converge, increase the number of iterations.\n",
      "  warnings.warn(\n",
      "/home/bnt4me/.local/lib/python3.8/site-packages/sklearn/svm/_base.py:1199: ConvergenceWarning: Liblinear failed to converge, increase the number of iterations.\n",
      "  warnings.warn(\n",
      "/home/bnt4me/.local/lib/python3.8/site-packages/sklearn/svm/_base.py:1199: ConvergenceWarning: Liblinear failed to converge, increase the number of iterations.\n",
      "  warnings.warn(\n",
      "/home/bnt4me/.local/lib/python3.8/site-packages/sklearn/svm/_base.py:1199: ConvergenceWarning: Liblinear failed to converge, increase the number of iterations.\n",
      "  warnings.warn(\n",
      "/home/bnt4me/.local/lib/python3.8/site-packages/sklearn/svm/_base.py:1199: ConvergenceWarning: Liblinear failed to converge, increase the number of iterations.\n",
      "  warnings.warn(\n",
      "/home/bnt4me/.local/lib/python3.8/site-packages/sklearn/svm/_base.py:1199: ConvergenceWarning: Liblinear failed to converge, increase the number of iterations.\n",
      "  warnings.warn(\n",
      "/home/bnt4me/.local/lib/python3.8/site-packages/sklearn/svm/_base.py:1199: ConvergenceWarning: Liblinear failed to converge, increase the number of iterations.\n",
      "  warnings.warn(\n",
      "/home/bnt4me/.local/lib/python3.8/site-packages/sklearn/svm/_base.py:1199: ConvergenceWarning: Liblinear failed to converge, increase the number of iterations.\n",
      "  warnings.warn(\n",
      "/home/bnt4me/.local/lib/python3.8/site-packages/sklearn/svm/_base.py:1199: ConvergenceWarning: Liblinear failed to converge, increase the number of iterations.\n",
      "  warnings.warn(\n",
      "/home/bnt4me/.local/lib/python3.8/site-packages/sklearn/svm/_base.py:1199: ConvergenceWarning: Liblinear failed to converge, increase the number of iterations.\n",
      "  warnings.warn(\n",
      "/home/bnt4me/.local/lib/python3.8/site-packages/sklearn/svm/_base.py:1199: ConvergenceWarning: Liblinear failed to converge, increase the number of iterations.\n",
      "  warnings.warn(\n",
      "/home/bnt4me/.local/lib/python3.8/site-packages/sklearn/svm/_base.py:1199: ConvergenceWarning: Liblinear failed to converge, increase the number of iterations.\n",
      "  warnings.warn(\n",
      "/home/bnt4me/.local/lib/python3.8/site-packages/sklearn/svm/_base.py:1199: ConvergenceWarning: Liblinear failed to converge, increase the number of iterations.\n",
      "  warnings.warn(\n"
     ]
    },
    {
     "name": "stderr",
     "output_type": "stream",
     "text": [
      "/home/bnt4me/.local/lib/python3.8/site-packages/sklearn/svm/_base.py:1199: ConvergenceWarning: Liblinear failed to converge, increase the number of iterations.\n",
      "  warnings.warn(\n",
      "/home/bnt4me/.local/lib/python3.8/site-packages/sklearn/svm/_base.py:1199: ConvergenceWarning: Liblinear failed to converge, increase the number of iterations.\n",
      "  warnings.warn(\n",
      "/home/bnt4me/.local/lib/python3.8/site-packages/sklearn/svm/_base.py:1199: ConvergenceWarning: Liblinear failed to converge, increase the number of iterations.\n",
      "  warnings.warn(\n",
      "/home/bnt4me/.local/lib/python3.8/site-packages/sklearn/svm/_base.py:1199: ConvergenceWarning: Liblinear failed to converge, increase the number of iterations.\n",
      "  warnings.warn(\n",
      "/home/bnt4me/.local/lib/python3.8/site-packages/sklearn/svm/_base.py:1199: ConvergenceWarning: Liblinear failed to converge, increase the number of iterations.\n",
      "  warnings.warn(\n",
      "/home/bnt4me/.local/lib/python3.8/site-packages/sklearn/svm/_base.py:1199: ConvergenceWarning: Liblinear failed to converge, increase the number of iterations.\n",
      "  warnings.warn(\n",
      "/home/bnt4me/.local/lib/python3.8/site-packages/sklearn/svm/_base.py:1199: ConvergenceWarning: Liblinear failed to converge, increase the number of iterations.\n",
      "  warnings.warn(\n",
      "/home/bnt4me/.local/lib/python3.8/site-packages/sklearn/svm/_base.py:1199: ConvergenceWarning: Liblinear failed to converge, increase the number of iterations.\n",
      "  warnings.warn(\n",
      "/home/bnt4me/.local/lib/python3.8/site-packages/sklearn/svm/_base.py:1199: ConvergenceWarning: Liblinear failed to converge, increase the number of iterations.\n",
      "  warnings.warn(\n",
      "/home/bnt4me/.local/lib/python3.8/site-packages/sklearn/svm/_base.py:1199: ConvergenceWarning: Liblinear failed to converge, increase the number of iterations.\n",
      "  warnings.warn(\n",
      "/home/bnt4me/.local/lib/python3.8/site-packages/sklearn/svm/_base.py:1199: ConvergenceWarning: Liblinear failed to converge, increase the number of iterations.\n",
      "  warnings.warn(\n",
      "/home/bnt4me/.local/lib/python3.8/site-packages/sklearn/svm/_base.py:1199: ConvergenceWarning: Liblinear failed to converge, increase the number of iterations.\n",
      "  warnings.warn(\n",
      "/home/bnt4me/.local/lib/python3.8/site-packages/sklearn/svm/_base.py:1199: ConvergenceWarning: Liblinear failed to converge, increase the number of iterations.\n",
      "  warnings.warn(\n",
      "/home/bnt4me/.local/lib/python3.8/site-packages/sklearn/svm/_base.py:1199: ConvergenceWarning: Liblinear failed to converge, increase the number of iterations.\n",
      "  warnings.warn(\n",
      "/home/bnt4me/.local/lib/python3.8/site-packages/sklearn/svm/_base.py:1199: ConvergenceWarning: Liblinear failed to converge, increase the number of iterations.\n",
      "  warnings.warn(\n",
      "/home/bnt4me/.local/lib/python3.8/site-packages/sklearn/svm/_base.py:1199: ConvergenceWarning: Liblinear failed to converge, increase the number of iterations.\n",
      "  warnings.warn(\n",
      "/home/bnt4me/.local/lib/python3.8/site-packages/sklearn/svm/_base.py:1199: ConvergenceWarning: Liblinear failed to converge, increase the number of iterations.\n",
      "  warnings.warn(\n",
      "/home/bnt4me/.local/lib/python3.8/site-packages/sklearn/svm/_base.py:1199: ConvergenceWarning: Liblinear failed to converge, increase the number of iterations.\n",
      "  warnings.warn(\n",
      "/home/bnt4me/.local/lib/python3.8/site-packages/sklearn/svm/_base.py:1199: ConvergenceWarning: Liblinear failed to converge, increase the number of iterations.\n",
      "  warnings.warn(\n",
      "/home/bnt4me/.local/lib/python3.8/site-packages/sklearn/svm/_base.py:1199: ConvergenceWarning: Liblinear failed to converge, increase the number of iterations.\n",
      "  warnings.warn(\n",
      "/home/bnt4me/.local/lib/python3.8/site-packages/sklearn/svm/_base.py:1199: ConvergenceWarning: Liblinear failed to converge, increase the number of iterations.\n",
      "  warnings.warn(\n",
      "/home/bnt4me/.local/lib/python3.8/site-packages/sklearn/svm/_base.py:1199: ConvergenceWarning: Liblinear failed to converge, increase the number of iterations.\n",
      "  warnings.warn(\n",
      "/home/bnt4me/.local/lib/python3.8/site-packages/sklearn/svm/_base.py:1199: ConvergenceWarning: Liblinear failed to converge, increase the number of iterations.\n",
      "  warnings.warn(\n",
      "/home/bnt4me/.local/lib/python3.8/site-packages/sklearn/svm/_base.py:1199: ConvergenceWarning: Liblinear failed to converge, increase the number of iterations.\n",
      "  warnings.warn(\n",
      "/home/bnt4me/.local/lib/python3.8/site-packages/sklearn/svm/_base.py:1199: ConvergenceWarning: Liblinear failed to converge, increase the number of iterations.\n",
      "  warnings.warn(\n",
      "/home/bnt4me/.local/lib/python3.8/site-packages/sklearn/svm/_base.py:1199: ConvergenceWarning: Liblinear failed to converge, increase the number of iterations.\n",
      "  warnings.warn(\n",
      "/home/bnt4me/.local/lib/python3.8/site-packages/sklearn/svm/_base.py:1199: ConvergenceWarning: Liblinear failed to converge, increase the number of iterations.\n",
      "  warnings.warn(\n",
      "/home/bnt4me/.local/lib/python3.8/site-packages/sklearn/svm/_base.py:1199: ConvergenceWarning: Liblinear failed to converge, increase the number of iterations.\n",
      "  warnings.warn(\n",
      "/home/bnt4me/.local/lib/python3.8/site-packages/sklearn/svm/_base.py:1199: ConvergenceWarning: Liblinear failed to converge, increase the number of iterations.\n",
      "  warnings.warn(\n",
      "/home/bnt4me/.local/lib/python3.8/site-packages/sklearn/svm/_base.py:1199: ConvergenceWarning: Liblinear failed to converge, increase the number of iterations.\n",
      "  warnings.warn(\n",
      "/home/bnt4me/.local/lib/python3.8/site-packages/sklearn/svm/_base.py:1199: ConvergenceWarning: Liblinear failed to converge, increase the number of iterations.\n",
      "  warnings.warn(\n",
      "/home/bnt4me/.local/lib/python3.8/site-packages/sklearn/svm/_base.py:1199: ConvergenceWarning: Liblinear failed to converge, increase the number of iterations.\n",
      "  warnings.warn(\n",
      "/home/bnt4me/.local/lib/python3.8/site-packages/sklearn/svm/_base.py:1199: ConvergenceWarning: Liblinear failed to converge, increase the number of iterations.\n",
      "  warnings.warn(\n",
      "/home/bnt4me/.local/lib/python3.8/site-packages/sklearn/svm/_base.py:1199: ConvergenceWarning: Liblinear failed to converge, increase the number of iterations.\n",
      "  warnings.warn(\n",
      "/home/bnt4me/.local/lib/python3.8/site-packages/sklearn/svm/_base.py:1199: ConvergenceWarning: Liblinear failed to converge, increase the number of iterations.\n",
      "  warnings.warn(\n",
      "/home/bnt4me/.local/lib/python3.8/site-packages/sklearn/svm/_base.py:1199: ConvergenceWarning: Liblinear failed to converge, increase the number of iterations.\n",
      "  warnings.warn(\n",
      "/home/bnt4me/.local/lib/python3.8/site-packages/sklearn/svm/_base.py:1199: ConvergenceWarning: Liblinear failed to converge, increase the number of iterations.\n",
      "  warnings.warn(\n",
      "/home/bnt4me/.local/lib/python3.8/site-packages/sklearn/svm/_base.py:1199: ConvergenceWarning: Liblinear failed to converge, increase the number of iterations.\n",
      "  warnings.warn(\n",
      "/home/bnt4me/.local/lib/python3.8/site-packages/sklearn/svm/_base.py:1199: ConvergenceWarning: Liblinear failed to converge, increase the number of iterations.\n",
      "  warnings.warn(\n",
      "/home/bnt4me/.local/lib/python3.8/site-packages/sklearn/svm/_base.py:1199: ConvergenceWarning: Liblinear failed to converge, increase the number of iterations.\n",
      "  warnings.warn(\n",
      "/home/bnt4me/.local/lib/python3.8/site-packages/sklearn/svm/_base.py:1199: ConvergenceWarning: Liblinear failed to converge, increase the number of iterations.\n",
      "  warnings.warn(\n",
      "/home/bnt4me/.local/lib/python3.8/site-packages/sklearn/svm/_base.py:1199: ConvergenceWarning: Liblinear failed to converge, increase the number of iterations.\n",
      "  warnings.warn(\n",
      "/home/bnt4me/.local/lib/python3.8/site-packages/sklearn/svm/_base.py:1199: ConvergenceWarning: Liblinear failed to converge, increase the number of iterations.\n",
      "  warnings.warn(\n",
      "/home/bnt4me/.local/lib/python3.8/site-packages/sklearn/svm/_base.py:1199: ConvergenceWarning: Liblinear failed to converge, increase the number of iterations.\n",
      "  warnings.warn(\n",
      "/home/bnt4me/.local/lib/python3.8/site-packages/sklearn/svm/_base.py:1199: ConvergenceWarning: Liblinear failed to converge, increase the number of iterations.\n",
      "  warnings.warn(\n",
      "/home/bnt4me/.local/lib/python3.8/site-packages/sklearn/svm/_base.py:1199: ConvergenceWarning: Liblinear failed to converge, increase the number of iterations.\n",
      "  warnings.warn(\n",
      "/home/bnt4me/.local/lib/python3.8/site-packages/sklearn/svm/_base.py:1199: ConvergenceWarning: Liblinear failed to converge, increase the number of iterations.\n",
      "  warnings.warn(\n",
      "/home/bnt4me/.local/lib/python3.8/site-packages/sklearn/svm/_base.py:1199: ConvergenceWarning: Liblinear failed to converge, increase the number of iterations.\n",
      "  warnings.warn(\n"
     ]
    }
   ],
   "source": [
    "%matplotlib inline\n",
    "import seaborn as sns; sns.set()\n",
    "from sklearn.metrics import confusion_matrix\n",
    "import matplotlib.pyplot as plt\n",
    "\n",
    "y_test_pred = clf_svc.predict(X_test)\n",
    "cm_test = confusion_matrix(y_test, y_test_pred)\n",
    "\n",
    "sns.heatmap(cm_test.T, square=True, annot=True, fmt='d', cbar=False,\n",
    "            xticklabels= np.unique(y_test),\n",
    "            yticklabels= np.unique(y_test_pred))\n",
    "plt.xlabel('true label')\n",
    "plt.ylabel('predicted label');\n",
    "plt.title('Confusion Matrix DT - Test Set')\n",
    "plt.show()\n",
    "\n",
    "print('Precision: %.3f' %(precision_score(y_test, y_test_pred,average='micro')))\n",
    "print('Recall: %.3f' %(recall_score(y_test, y_test_pred,average='micro')))\n",
    "print('Accuracy: %.3f' %(accuracy_score(y_test,y_test_pred)))"
   ]
  },
  {
   "cell_type": "markdown",
   "metadata": {
    "id": "ZJ4qyaklX3aI"
   },
   "source": [
    "# Ensemble method:\n"
   ]
  },
  {
   "cell_type": "markdown",
   "metadata": {
    "id": "S8iK8hEtRBHL"
   },
   "source": [
    "## 1.1.5. Voting clasifier"
   ]
  },
  {
   "cell_type": "code",
   "execution_count": 78,
   "metadata": {
    "colab": {
     "base_uri": "https://localhost:8080/"
    },
    "id": "zsG9r-BOX97j",
    "outputId": "4afadd70-1d73-4cfb-ea34-609f5740daca"
   },
   "outputs": [
    {
     "name": "stderr",
     "output_type": "stream",
     "text": [
      "/home/bnt4me/.local/lib/python3.8/site-packages/sklearn/svm/_base.py:1199: ConvergenceWarning: Liblinear failed to converge, increase the number of iterations.\n",
      "  warnings.warn(\n"
     ]
    }
   ],
   "source": [
    "from sklearn.ensemble import VotingClassifier\n",
    "\n",
    "from sklearn import svm\n",
    "from sklearn.tree import DecisionTreeClassifier\n",
    "from sklearn.neighbors import KNeighborsClassifier\n",
    "from sklearn.neural_network import MLPClassifier\n",
    "\n",
    "\n",
    "classif_model_1 = DecisionTreeClassifier(random_state=15, criterion= 'gini', max_depth= 10)\n",
    "\n",
    "classif_model_2 = MLPClassifier(random_state=1, max_iter=300, activation= 'relu', alpha= 0.0001)\n",
    "\n",
    "classif_model_3 = svm.LinearSVC(random_state=1, C= 1, penalty= 'l2')\n",
    "\n",
    "classif_model_4 = KNeighborsClassifier(metric= 'manhattan', n_neighbors= 3, \n",
    "                                       weights= 'distance',n_jobs=4)\n",
    "\n",
    "ereg = VotingClassifier(estimators=[('DT', classif_model_1), ('NN', classif_model_2),\n",
    "                                    ('SVC', classif_model_3), ('KNN', classif_model_4)])\n",
    "ereg = ereg.fit(X_train_1, y_train_1)"
   ]
  },
  {
   "cell_type": "code",
   "execution_count": 79,
   "metadata": {
    "colab": {
     "base_uri": "https://localhost:8080/"
    },
    "id": "uJlRsoEyY1uE",
    "outputId": "d1b09acc-5185-4732-80ee-2dbe71c786d6"
   },
   "outputs": [
    {
     "name": "stdout",
     "output_type": "stream",
     "text": [
      "Classification report:\n",
      "              precision    recall  f1-score   support\n",
      "\n",
      "           0       0.20      0.45      0.28        47\n",
      "           1       0.59      0.42      0.49       172\n",
      "           2       0.34      0.30      0.32        73\n",
      "\n",
      "    accuracy                           0.40       292\n",
      "   macro avg       0.38      0.39      0.36       292\n",
      "weighted avg       0.46      0.40      0.42       292\n",
      "\n",
      "\n"
     ]
    }
   ],
   "source": [
    "from sklearn.metrics import classification_report\n",
    "\n",
    "y_pred_rf = ereg .predict(X_test)\n",
    "\n",
    "print('Classification report:\\n{0}\\n'.format(classification_report(y_test, y_pred_rf)))"
   ]
  },
  {
   "cell_type": "code",
   "execution_count": 80,
   "metadata": {
    "colab": {
     "base_uri": "https://localhost:8080/",
     "height": 302
    },
    "id": "6Taud8ohY-Pf",
    "outputId": "9f256008-6c8a-423d-8b5a-4fad0f68b32e"
   },
   "outputs": [
    {
     "data": {
      "image/png": "[encoded data removed]",
      "text/plain": [
       "<Figure size 432x288 with 1 Axes>"
      ]
     },
     "metadata": {},
     "output_type": "display_data"
    }
   ],
   "source": [
    "%matplotlib inline\n",
    "import seaborn as sns; sns.set()\n",
    "from sklearn.metrics import confusion_matrix\n",
    "import matplotlib.pyplot as plt\n",
    "\n",
    "y_test_pred = ereg.predict(X_test)\n",
    "cm_test = confusion_matrix(y_test, y_test_pred)\n",
    "\n",
    "sns.heatmap(cm_test.T, square=True, annot=True, fmt='d', cbar=False,\n",
    "            xticklabels= np.unique(y_test),\n",
    "            yticklabels= np.unique(y_test_pred))\n",
    "plt.xlabel('true label')\n",
    "plt.ylabel('predicted label');\n",
    "plt.title('Confusion Voting Classifier - Test Set')\n",
    "plt.show()"
   ]
  },
  {
   "cell_type": "markdown",
   "metadata": {
    "id": "aOCHnxONRGe3"
   },
   "source": [
    "## 1.1.6. XGBoost"
   ]
  },
  {
   "cell_type": "code",
   "execution_count": 82,
   "metadata": {
    "colab": {
     "base_uri": "https://localhost:8080/"
    },
    "id": "Bg9sxFBjy4Qa",
    "outputId": "8a215b8e-55f2-418e-b6fb-f0610dd058d3"
   },
   "outputs": [
    {
     "name": "stderr",
     "output_type": "stream",
     "text": [
      "/home/bnt4me/.local/lib/python3.8/site-packages/sklearn/tree/_classes.py:359: FutureWarning: Criterion 'mse' was deprecated in v1.0 and will be removed in version 1.2. Use `criterion='squared_error'` which is equivalent.\n",
      "  warnings.warn(\n",
      "/home/bnt4me/.local/lib/python3.8/site-packages/sklearn/tree/_classes.py:359: FutureWarning: Criterion 'mse' was deprecated in v1.0 and will be removed in version 1.2. Use `criterion='squared_error'` which is equivalent.\n",
      "  warnings.warn(\n",
      "/home/bnt4me/.local/lib/python3.8/site-packages/sklearn/tree/_classes.py:359: FutureWarning: Criterion 'mse' was deprecated in v1.0 and will be removed in version 1.2. Use `criterion='squared_error'` which is equivalent.\n",
      "  warnings.warn(\n",
      "/home/bnt4me/.local/lib/python3.8/site-packages/sklearn/tree/_classes.py:359: FutureWarning: Criterion 'mse' was deprecated in v1.0 and will be removed in version 1.2. Use `criterion='squared_error'` which is equivalent.\n",
      "  warnings.warn(\n",
      "/home/bnt4me/.local/lib/python3.8/site-packages/sklearn/tree/_classes.py:359: FutureWarning: Criterion 'mse' was deprecated in v1.0 and will be removed in version 1.2. Use `criterion='squared_error'` which is equivalent.\n",
      "  warnings.warn(\n",
      "/home/bnt4me/.local/lib/python3.8/site-packages/sklearn/tree/_classes.py:359: FutureWarning: Criterion 'mse' was deprecated in v1.0 and will be removed in version 1.2. Use `criterion='squared_error'` which is equivalent.\n",
      "  warnings.warn(\n",
      "/home/bnt4me/.local/lib/python3.8/site-packages/sklearn/tree/_classes.py:359: FutureWarning: Criterion 'mse' was deprecated in v1.0 and will be removed in version 1.2. Use `criterion='squared_error'` which is equivalent.\n",
      "  warnings.warn(\n",
      "/home/bnt4me/.local/lib/python3.8/site-packages/sklearn/tree/_classes.py:359: FutureWarning: Criterion 'mse' was deprecated in v1.0 and will be removed in version 1.2. Use `criterion='squared_error'` which is equivalent.\n",
      "  warnings.warn(\n",
      "/home/bnt4me/.local/lib/python3.8/site-packages/sklearn/tree/_classes.py:359: FutureWarning: Criterion 'mse' was deprecated in v1.0 and will be removed in version 1.2. Use `criterion='squared_error'` which is equivalent.\n",
      "  warnings.warn(\n",
      "/home/bnt4me/.local/lib/python3.8/site-packages/sklearn/tree/_classes.py:359: FutureWarning: Criterion 'mse' was deprecated in v1.0 and will be removed in version 1.2. Use `criterion='squared_error'` which is equivalent.\n",
      "  warnings.warn(\n",
      "/home/bnt4me/.local/lib/python3.8/site-packages/sklearn/tree/_classes.py:359: FutureWarning: Criterion 'mse' was deprecated in v1.0 and will be removed in version 1.2. Use `criterion='squared_error'` which is equivalent.\n",
      "  warnings.warn(\n",
      "/home/bnt4me/.local/lib/python3.8/site-packages/sklearn/tree/_classes.py:359: FutureWarning: Criterion 'mse' was deprecated in v1.0 and will be removed in version 1.2. Use `criterion='squared_error'` which is equivalent.\n",
      "  warnings.warn(\n",
      "/home/bnt4me/.local/lib/python3.8/site-packages/sklearn/tree/_classes.py:359: FutureWarning: Criterion 'mse' was deprecated in v1.0 and will be removed in version 1.2. Use `criterion='squared_error'` which is equivalent.\n",
      "  warnings.warn(\n",
      "/home/bnt4me/.local/lib/python3.8/site-packages/sklearn/tree/_classes.py:359: FutureWarning: Criterion 'mse' was deprecated in v1.0 and will be removed in version 1.2. Use `criterion='squared_error'` which is equivalent.\n",
      "  warnings.warn(\n",
      "/home/bnt4me/.local/lib/python3.8/site-packages/sklearn/tree/_classes.py:359: FutureWarning: Criterion 'mse' was deprecated in v1.0 and will be removed in version 1.2. Use `criterion='squared_error'` which is equivalent.\n",
      "  warnings.warn(\n",
      "/home/bnt4me/.local/lib/python3.8/site-packages/sklearn/tree/_classes.py:359: FutureWarning: Criterion 'mse' was deprecated in v1.0 and will be removed in version 1.2. Use `criterion='squared_error'` which is equivalent.\n",
      "  warnings.warn(\n",
      "/home/bnt4me/.local/lib/python3.8/site-packages/sklearn/tree/_classes.py:359: FutureWarning: Criterion 'mse' was deprecated in v1.0 and will be removed in version 1.2. Use `criterion='squared_error'` which is equivalent.\n",
      "  warnings.warn(\n",
      "/home/bnt4me/.local/lib/python3.8/site-packages/sklearn/tree/_classes.py:359: FutureWarning: Criterion 'mse' was deprecated in v1.0 and will be removed in version 1.2. Use `criterion='squared_error'` which is equivalent.\n",
      "  warnings.warn(\n",
      "/home/bnt4me/.local/lib/python3.8/site-packages/sklearn/tree/_classes.py:359: FutureWarning: Criterion 'mse' was deprecated in v1.0 and will be removed in version 1.2. Use `criterion='squared_error'` which is equivalent.\n",
      "  warnings.warn(\n",
      "/home/bnt4me/.local/lib/python3.8/site-packages/sklearn/tree/_classes.py:359: FutureWarning: Criterion 'mse' was deprecated in v1.0 and will be removed in version 1.2. Use `criterion='squared_error'` which is equivalent.\n",
      "  warnings.warn(\n",
      "/home/bnt4me/.local/lib/python3.8/site-packages/sklearn/tree/_classes.py:359: FutureWarning: Criterion 'mse' was deprecated in v1.0 and will be removed in version 1.2. Use `criterion='squared_error'` which is equivalent.\n",
      "  warnings.warn(\n",
      "/home/bnt4me/.local/lib/python3.8/site-packages/sklearn/tree/_classes.py:359: FutureWarning: Criterion 'mse' was deprecated in v1.0 and will be removed in version 1.2. Use `criterion='squared_error'` which is equivalent.\n",
      "  warnings.warn(\n",
      "/home/bnt4me/.local/lib/python3.8/site-packages/sklearn/tree/_classes.py:359: FutureWarning: Criterion 'mse' was deprecated in v1.0 and will be removed in version 1.2. Use `criterion='squared_error'` which is equivalent.\n",
      "  warnings.warn(\n",
      "/home/bnt4me/.local/lib/python3.8/site-packages/sklearn/tree/_classes.py:359: FutureWarning: Criterion 'mse' was deprecated in v1.0 and will be removed in version 1.2. Use `criterion='squared_error'` which is equivalent.\n",
      "  warnings.warn(\n",
      "/home/bnt4me/.local/lib/python3.8/site-packages/sklearn/tree/_classes.py:359: FutureWarning: Criterion 'mse' was deprecated in v1.0 and will be removed in version 1.2. Use `criterion='squared_error'` which is equivalent.\n",
      "  warnings.warn(\n",
      "/home/bnt4me/.local/lib/python3.8/site-packages/sklearn/tree/_classes.py:359: FutureWarning: Criterion 'mse' was deprecated in v1.0 and will be removed in version 1.2. Use `criterion='squared_error'` which is equivalent.\n",
      "  warnings.warn(\n",
      "/home/bnt4me/.local/lib/python3.8/site-packages/sklearn/tree/_classes.py:359: FutureWarning: Criterion 'mse' was deprecated in v1.0 and will be removed in version 1.2. Use `criterion='squared_error'` which is equivalent.\n",
      "  warnings.warn(\n",
      "/home/bnt4me/.local/lib/python3.8/site-packages/sklearn/tree/_classes.py:359: FutureWarning: Criterion 'mse' was deprecated in v1.0 and will be removed in version 1.2. Use `criterion='squared_error'` which is equivalent.\n",
      "  warnings.warn(\n",
      "/home/bnt4me/.local/lib/python3.8/site-packages/sklearn/tree/_classes.py:359: FutureWarning: Criterion 'mse' was deprecated in v1.0 and will be removed in version 1.2. Use `criterion='squared_error'` which is equivalent.\n",
      "  warnings.warn(\n",
      "/home/bnt4me/.local/lib/python3.8/site-packages/sklearn/tree/_classes.py:359: FutureWarning: Criterion 'mse' was deprecated in v1.0 and will be removed in version 1.2. Use `criterion='squared_error'` which is equivalent.\n",
      "  warnings.warn(\n",
      "/home/bnt4me/.local/lib/python3.8/site-packages/sklearn/tree/_classes.py:359: FutureWarning: Criterion 'mse' was deprecated in v1.0 and will be removed in version 1.2. Use `criterion='squared_error'` which is equivalent.\n",
      "  warnings.warn(\n",
      "/home/bnt4me/.local/lib/python3.8/site-packages/sklearn/tree/_classes.py:359: FutureWarning: Criterion 'mse' was deprecated in v1.0 and will be removed in version 1.2. Use `criterion='squared_error'` which is equivalent.\n",
      "  warnings.warn(\n",
      "/home/bnt4me/.local/lib/python3.8/site-packages/sklearn/tree/_classes.py:359: FutureWarning: Criterion 'mse' was deprecated in v1.0 and will be removed in version 1.2. Use `criterion='squared_error'` which is equivalent.\n",
      "  warnings.warn(\n",
      "/home/bnt4me/.local/lib/python3.8/site-packages/sklearn/tree/_classes.py:359: FutureWarning: Criterion 'mse' was deprecated in v1.0 and will be removed in version 1.2. Use `criterion='squared_error'` which is equivalent.\n",
      "  warnings.warn(\n",
      "/home/bnt4me/.local/lib/python3.8/site-packages/sklearn/tree/_classes.py:359: FutureWarning: Criterion 'mse' was deprecated in v1.0 and will be removed in version 1.2. Use `criterion='squared_error'` which is equivalent.\n",
      "  warnings.warn(\n",
      "/home/bnt4me/.local/lib/python3.8/site-packages/sklearn/tree/_classes.py:359: FutureWarning: Criterion 'mse' was deprecated in v1.0 and will be removed in version 1.2. Use `criterion='squared_error'` which is equivalent.\n",
      "  warnings.warn(\n",
      "/home/bnt4me/.local/lib/python3.8/site-packages/sklearn/tree/_classes.py:359: FutureWarning: Criterion 'mse' was deprecated in v1.0 and will be removed in version 1.2. Use `criterion='squared_error'` which is equivalent.\n",
      "  warnings.warn(\n",
      "/home/bnt4me/.local/lib/python3.8/site-packages/sklearn/tree/_classes.py:359: FutureWarning: Criterion 'mse' was deprecated in v1.0 and will be removed in version 1.2. Use `criterion='squared_error'` which is equivalent.\n",
      "  warnings.warn(\n",
      "/home/bnt4me/.local/lib/python3.8/site-packages/sklearn/tree/_classes.py:359: FutureWarning: Criterion 'mse' was deprecated in v1.0 and will be removed in version 1.2. Use `criterion='squared_error'` which is equivalent.\n",
      "  warnings.warn(\n",
      "/home/bnt4me/.local/lib/python3.8/site-packages/sklearn/tree/_classes.py:359: FutureWarning: Criterion 'mse' was deprecated in v1.0 and will be removed in version 1.2. Use `criterion='squared_error'` which is equivalent.\n",
      "  warnings.warn(\n",
      "/home/bnt4me/.local/lib/python3.8/site-packages/sklearn/tree/_classes.py:359: FutureWarning: Criterion 'mse' was deprecated in v1.0 and will be removed in version 1.2. Use `criterion='squared_error'` which is equivalent.\n",
      "  warnings.warn(\n",
      "/home/bnt4me/.local/lib/python3.8/site-packages/sklearn/tree/_classes.py:359: FutureWarning: Criterion 'mse' was deprecated in v1.0 and will be removed in version 1.2. Use `criterion='squared_error'` which is equivalent.\n",
      "  warnings.warn(\n",
      "/home/bnt4me/.local/lib/python3.8/site-packages/sklearn/tree/_classes.py:359: FutureWarning: Criterion 'mse' was deprecated in v1.0 and will be removed in version 1.2. Use `criterion='squared_error'` which is equivalent.\n",
      "  warnings.warn(\n",
      "/home/bnt4me/.local/lib/python3.8/site-packages/sklearn/tree/_classes.py:359: FutureWarning: Criterion 'mse' was deprecated in v1.0 and will be removed in version 1.2. Use `criterion='squared_error'` which is equivalent.\n",
      "  warnings.warn(\n",
      "/home/bnt4me/.local/lib/python3.8/site-packages/sklearn/tree/_classes.py:359: FutureWarning: Criterion 'mse' was deprecated in v1.0 and will be removed in version 1.2. Use `criterion='squared_error'` which is equivalent.\n",
      "  warnings.warn(\n",
      "/home/bnt4me/.local/lib/python3.8/site-packages/sklearn/tree/_classes.py:359: FutureWarning: Criterion 'mse' was deprecated in v1.0 and will be removed in version 1.2. Use `criterion='squared_error'` which is equivalent.\n",
      "  warnings.warn(\n",
      "/home/bnt4me/.local/lib/python3.8/site-packages/sklearn/tree/_classes.py:359: FutureWarning: Criterion 'mse' was deprecated in v1.0 and will be removed in version 1.2. Use `criterion='squared_error'` which is equivalent.\n",
      "  warnings.warn(\n",
      "/home/bnt4me/.local/lib/python3.8/site-packages/sklearn/tree/_classes.py:359: FutureWarning: Criterion 'mse' was deprecated in v1.0 and will be removed in version 1.2. Use `criterion='squared_error'` which is equivalent.\n",
      "  warnings.warn(\n",
      "/home/bnt4me/.local/lib/python3.8/site-packages/sklearn/tree/_classes.py:359: FutureWarning: Criterion 'mse' was deprecated in v1.0 and will be removed in version 1.2. Use `criterion='squared_error'` which is equivalent.\n",
      "  warnings.warn(\n",
      "/home/bnt4me/.local/lib/python3.8/site-packages/sklearn/tree/_classes.py:359: FutureWarning: Criterion 'mse' was deprecated in v1.0 and will be removed in version 1.2. Use `criterion='squared_error'` which is equivalent.\n",
      "  warnings.warn(\n",
      "/home/bnt4me/.local/lib/python3.8/site-packages/sklearn/tree/_classes.py:359: FutureWarning: Criterion 'mse' was deprecated in v1.0 and will be removed in version 1.2. Use `criterion='squared_error'` which is equivalent.\n",
      "  warnings.warn(\n",
      "/home/bnt4me/.local/lib/python3.8/site-packages/sklearn/tree/_classes.py:359: FutureWarning: Criterion 'mse' was deprecated in v1.0 and will be removed in version 1.2. Use `criterion='squared_error'` which is equivalent.\n",
      "  warnings.warn(\n",
      "/home/bnt4me/.local/lib/python3.8/site-packages/sklearn/tree/_classes.py:359: FutureWarning: Criterion 'mse' was deprecated in v1.0 and will be removed in version 1.2. Use `criterion='squared_error'` which is equivalent.\n",
      "  warnings.warn(\n",
      "/home/bnt4me/.local/lib/python3.8/site-packages/sklearn/tree/_classes.py:359: FutureWarning: Criterion 'mse' was deprecated in v1.0 and will be removed in version 1.2. Use `criterion='squared_error'` which is equivalent.\n",
      "  warnings.warn(\n",
      "/home/bnt4me/.local/lib/python3.8/site-packages/sklearn/tree/_classes.py:359: FutureWarning: Criterion 'mse' was deprecated in v1.0 and will be removed in version 1.2. Use `criterion='squared_error'` which is equivalent.\n",
      "  warnings.warn(\n",
      "/home/bnt4me/.local/lib/python3.8/site-packages/sklearn/tree/_classes.py:359: FutureWarning: Criterion 'mse' was deprecated in v1.0 and will be removed in version 1.2. Use `criterion='squared_error'` which is equivalent.\n",
      "  warnings.warn(\n",
      "/home/bnt4me/.local/lib/python3.8/site-packages/sklearn/tree/_classes.py:359: FutureWarning: Criterion 'mse' was deprecated in v1.0 and will be removed in version 1.2. Use `criterion='squared_error'` which is equivalent.\n",
      "  warnings.warn(\n",
      "/home/bnt4me/.local/lib/python3.8/site-packages/sklearn/tree/_classes.py:359: FutureWarning: Criterion 'mse' was deprecated in v1.0 and will be removed in version 1.2. Use `criterion='squared_error'` which is equivalent.\n",
      "  warnings.warn(\n",
      "/home/bnt4me/.local/lib/python3.8/site-packages/sklearn/tree/_classes.py:359: FutureWarning: Criterion 'mse' was deprecated in v1.0 and will be removed in version 1.2. Use `criterion='squared_error'` which is equivalent.\n",
      "  warnings.warn(\n",
      "/home/bnt4me/.local/lib/python3.8/site-packages/sklearn/tree/_classes.py:359: FutureWarning: Criterion 'mse' was deprecated in v1.0 and will be removed in version 1.2. Use `criterion='squared_error'` which is equivalent.\n",
      "  warnings.warn(\n",
      "/home/bnt4me/.local/lib/python3.8/site-packages/sklearn/tree/_classes.py:359: FutureWarning: Criterion 'mse' was deprecated in v1.0 and will be removed in version 1.2. Use `criterion='squared_error'` which is equivalent.\n",
      "  warnings.warn(\n",
      "/home/bnt4me/.local/lib/python3.8/site-packages/sklearn/tree/_classes.py:359: FutureWarning: Criterion 'mse' was deprecated in v1.0 and will be removed in version 1.2. Use `criterion='squared_error'` which is equivalent.\n",
      "  warnings.warn(\n",
      "/home/bnt4me/.local/lib/python3.8/site-packages/sklearn/tree/_classes.py:359: FutureWarning: Criterion 'mse' was deprecated in v1.0 and will be removed in version 1.2. Use `criterion='squared_error'` which is equivalent.\n",
      "  warnings.warn(\n",
      "/home/bnt4me/.local/lib/python3.8/site-packages/sklearn/tree/_classes.py:359: FutureWarning: Criterion 'mse' was deprecated in v1.0 and will be removed in version 1.2. Use `criterion='squared_error'` which is equivalent.\n",
      "  warnings.warn(\n",
      "/home/bnt4me/.local/lib/python3.8/site-packages/sklearn/tree/_classes.py:359: FutureWarning: Criterion 'mse' was deprecated in v1.0 and will be removed in version 1.2. Use `criterion='squared_error'` which is equivalent.\n",
      "  warnings.warn(\n",
      "/home/bnt4me/.local/lib/python3.8/site-packages/sklearn/tree/_classes.py:359: FutureWarning: Criterion 'mse' was deprecated in v1.0 and will be removed in version 1.2. Use `criterion='squared_error'` which is equivalent.\n",
      "  warnings.warn(\n",
      "/home/bnt4me/.local/lib/python3.8/site-packages/sklearn/tree/_classes.py:359: FutureWarning: Criterion 'mse' was deprecated in v1.0 and will be removed in version 1.2. Use `criterion='squared_error'` which is equivalent.\n",
      "  warnings.warn(\n",
      "/home/bnt4me/.local/lib/python3.8/site-packages/sklearn/tree/_classes.py:359: FutureWarning: Criterion 'mse' was deprecated in v1.0 and will be removed in version 1.2. Use `criterion='squared_error'` which is equivalent.\n",
      "  warnings.warn(\n",
      "/home/bnt4me/.local/lib/python3.8/site-packages/sklearn/tree/_classes.py:359: FutureWarning: Criterion 'mse' was deprecated in v1.0 and will be removed in version 1.2. Use `criterion='squared_error'` which is equivalent.\n",
      "  warnings.warn(\n",
      "/home/bnt4me/.local/lib/python3.8/site-packages/sklearn/tree/_classes.py:359: FutureWarning: Criterion 'mse' was deprecated in v1.0 and will be removed in version 1.2. Use `criterion='squared_error'` which is equivalent.\n",
      "  warnings.warn(\n",
      "/home/bnt4me/.local/lib/python3.8/site-packages/sklearn/tree/_classes.py:359: FutureWarning: Criterion 'mse' was deprecated in v1.0 and will be removed in version 1.2. Use `criterion='squared_error'` which is equivalent.\n",
      "  warnings.warn(\n",
      "/home/bnt4me/.local/lib/python3.8/site-packages/sklearn/tree/_classes.py:359: FutureWarning: Criterion 'mse' was deprecated in v1.0 and will be removed in version 1.2. Use `criterion='squared_error'` which is equivalent.\n",
      "  warnings.warn(\n",
      "/home/bnt4me/.local/lib/python3.8/site-packages/sklearn/tree/_classes.py:359: FutureWarning: Criterion 'mse' was deprecated in v1.0 and will be removed in version 1.2. Use `criterion='squared_error'` which is equivalent.\n",
      "  warnings.warn(\n",
      "/home/bnt4me/.local/lib/python3.8/site-packages/sklearn/tree/_classes.py:359: FutureWarning: Criterion 'mse' was deprecated in v1.0 and will be removed in version 1.2. Use `criterion='squared_error'` which is equivalent.\n",
      "  warnings.warn(\n",
      "/home/bnt4me/.local/lib/python3.8/site-packages/sklearn/tree/_classes.py:359: FutureWarning: Criterion 'mse' was deprecated in v1.0 and will be removed in version 1.2. Use `criterion='squared_error'` which is equivalent.\n",
      "  warnings.warn(\n",
      "/home/bnt4me/.local/lib/python3.8/site-packages/sklearn/tree/_classes.py:359: FutureWarning: Criterion 'mse' was deprecated in v1.0 and will be removed in version 1.2. Use `criterion='squared_error'` which is equivalent.\n",
      "  warnings.warn(\n",
      "/home/bnt4me/.local/lib/python3.8/site-packages/sklearn/tree/_classes.py:359: FutureWarning: Criterion 'mse' was deprecated in v1.0 and will be removed in version 1.2. Use `criterion='squared_error'` which is equivalent.\n",
      "  warnings.warn(\n",
      "/home/bnt4me/.local/lib/python3.8/site-packages/sklearn/tree/_classes.py:359: FutureWarning: Criterion 'mse' was deprecated in v1.0 and will be removed in version 1.2. Use `criterion='squared_error'` which is equivalent.\n",
      "  warnings.warn(\n",
      "/home/bnt4me/.local/lib/python3.8/site-packages/sklearn/tree/_classes.py:359: FutureWarning: Criterion 'mse' was deprecated in v1.0 and will be removed in version 1.2. Use `criterion='squared_error'` which is equivalent.\n",
      "  warnings.warn(\n",
      "/home/bnt4me/.local/lib/python3.8/site-packages/sklearn/tree/_classes.py:359: FutureWarning: Criterion 'mse' was deprecated in v1.0 and will be removed in version 1.2. Use `criterion='squared_error'` which is equivalent.\n",
      "  warnings.warn(\n",
      "/home/bnt4me/.local/lib/python3.8/site-packages/sklearn/tree/_classes.py:359: FutureWarning: Criterion 'mse' was deprecated in v1.0 and will be removed in version 1.2. Use `criterion='squared_error'` which is equivalent.\n",
      "  warnings.warn(\n",
      "/home/bnt4me/.local/lib/python3.8/site-packages/sklearn/tree/_classes.py:359: FutureWarning: Criterion 'mse' was deprecated in v1.0 and will be removed in version 1.2. Use `criterion='squared_error'` which is equivalent.\n",
      "  warnings.warn(\n",
      "/home/bnt4me/.local/lib/python3.8/site-packages/sklearn/tree/_classes.py:359: FutureWarning: Criterion 'mse' was deprecated in v1.0 and will be removed in version 1.2. Use `criterion='squared_error'` which is equivalent.\n",
      "  warnings.warn(\n",
      "/home/bnt4me/.local/lib/python3.8/site-packages/sklearn/tree/_classes.py:359: FutureWarning: Criterion 'mse' was deprecated in v1.0 and will be removed in version 1.2. Use `criterion='squared_error'` which is equivalent.\n",
      "  warnings.warn(\n",
      "/home/bnt4me/.local/lib/python3.8/site-packages/sklearn/tree/_classes.py:359: FutureWarning: Criterion 'mse' was deprecated in v1.0 and will be removed in version 1.2. Use `criterion='squared_error'` which is equivalent.\n",
      "  warnings.warn(\n",
      "/home/bnt4me/.local/lib/python3.8/site-packages/sklearn/tree/_classes.py:359: FutureWarning: Criterion 'mse' was deprecated in v1.0 and will be removed in version 1.2. Use `criterion='squared_error'` which is equivalent.\n",
      "  warnings.warn(\n",
      "/home/bnt4me/.local/lib/python3.8/site-packages/sklearn/tree/_classes.py:359: FutureWarning: Criterion 'mse' was deprecated in v1.0 and will be removed in version 1.2. Use `criterion='squared_error'` which is equivalent.\n",
      "  warnings.warn(\n",
      "/home/bnt4me/.local/lib/python3.8/site-packages/sklearn/tree/_classes.py:359: FutureWarning: Criterion 'mse' was deprecated in v1.0 and will be removed in version 1.2. Use `criterion='squared_error'` which is equivalent.\n",
      "  warnings.warn(\n",
      "/home/bnt4me/.local/lib/python3.8/site-packages/sklearn/tree/_classes.py:359: FutureWarning: Criterion 'mse' was deprecated in v1.0 and will be removed in version 1.2. Use `criterion='squared_error'` which is equivalent.\n",
      "  warnings.warn(\n",
      "/home/bnt4me/.local/lib/python3.8/site-packages/sklearn/tree/_classes.py:359: FutureWarning: Criterion 'mse' was deprecated in v1.0 and will be removed in version 1.2. Use `criterion='squared_error'` which is equivalent.\n",
      "  warnings.warn(\n",
      "/home/bnt4me/.local/lib/python3.8/site-packages/sklearn/tree/_classes.py:359: FutureWarning: Criterion 'mse' was deprecated in v1.0 and will be removed in version 1.2. Use `criterion='squared_error'` which is equivalent.\n",
      "  warnings.warn(\n",
      "/home/bnt4me/.local/lib/python3.8/site-packages/sklearn/tree/_classes.py:359: FutureWarning: Criterion 'mse' was deprecated in v1.0 and will be removed in version 1.2. Use `criterion='squared_error'` which is equivalent.\n",
      "  warnings.warn(\n",
      "/home/bnt4me/.local/lib/python3.8/site-packages/sklearn/tree/_classes.py:359: FutureWarning: Criterion 'mse' was deprecated in v1.0 and will be removed in version 1.2. Use `criterion='squared_error'` which is equivalent.\n",
      "  warnings.warn(\n",
      "/home/bnt4me/.local/lib/python3.8/site-packages/sklearn/tree/_classes.py:359: FutureWarning: Criterion 'mse' was deprecated in v1.0 and will be removed in version 1.2. Use `criterion='squared_error'` which is equivalent.\n",
      "  warnings.warn(\n",
      "/home/bnt4me/.local/lib/python3.8/site-packages/sklearn/tree/_classes.py:359: FutureWarning: Criterion 'mse' was deprecated in v1.0 and will be removed in version 1.2. Use `criterion='squared_error'` which is equivalent.\n",
      "  warnings.warn(\n",
      "/home/bnt4me/.local/lib/python3.8/site-packages/sklearn/tree/_classes.py:359: FutureWarning: Criterion 'mse' was deprecated in v1.0 and will be removed in version 1.2. Use `criterion='squared_error'` which is equivalent.\n",
      "  warnings.warn(\n",
      "/home/bnt4me/.local/lib/python3.8/site-packages/sklearn/tree/_classes.py:359: FutureWarning: Criterion 'mse' was deprecated in v1.0 and will be removed in version 1.2. Use `criterion='squared_error'` which is equivalent.\n",
      "  warnings.warn(\n",
      "/home/bnt4me/.local/lib/python3.8/site-packages/sklearn/tree/_classes.py:359: FutureWarning: Criterion 'mse' was deprecated in v1.0 and will be removed in version 1.2. Use `criterion='squared_error'` which is equivalent.\n",
      "  warnings.warn(\n",
      "/home/bnt4me/.local/lib/python3.8/site-packages/sklearn/tree/_classes.py:359: FutureWarning: Criterion 'mse' was deprecated in v1.0 and will be removed in version 1.2. Use `criterion='squared_error'` which is equivalent.\n",
      "  warnings.warn(\n",
      "/home/bnt4me/.local/lib/python3.8/site-packages/sklearn/tree/_classes.py:359: FutureWarning: Criterion 'mse' was deprecated in v1.0 and will be removed in version 1.2. Use `criterion='squared_error'` which is equivalent.\n",
      "  warnings.warn(\n",
      "/home/bnt4me/.local/lib/python3.8/site-packages/sklearn/tree/_classes.py:359: FutureWarning: Criterion 'mse' was deprecated in v1.0 and will be removed in version 1.2. Use `criterion='squared_error'` which is equivalent.\n",
      "  warnings.warn(\n",
      "/home/bnt4me/.local/lib/python3.8/site-packages/sklearn/tree/_classes.py:359: FutureWarning: Criterion 'mse' was deprecated in v1.0 and will be removed in version 1.2. Use `criterion='squared_error'` which is equivalent.\n",
      "  warnings.warn(\n",
      "/home/bnt4me/.local/lib/python3.8/site-packages/sklearn/tree/_classes.py:359: FutureWarning: Criterion 'mse' was deprecated in v1.0 and will be removed in version 1.2. Use `criterion='squared_error'` which is equivalent.\n",
      "  warnings.warn(\n",
      "/home/bnt4me/.local/lib/python3.8/site-packages/sklearn/tree/_classes.py:359: FutureWarning: Criterion 'mse' was deprecated in v1.0 and will be removed in version 1.2. Use `criterion='squared_error'` which is equivalent.\n",
      "  warnings.warn(\n",
      "/home/bnt4me/.local/lib/python3.8/site-packages/sklearn/tree/_classes.py:359: FutureWarning: Criterion 'mse' was deprecated in v1.0 and will be removed in version 1.2. Use `criterion='squared_error'` which is equivalent.\n",
      "  warnings.warn(\n",
      "/home/bnt4me/.local/lib/python3.8/site-packages/sklearn/tree/_classes.py:359: FutureWarning: Criterion 'mse' was deprecated in v1.0 and will be removed in version 1.2. Use `criterion='squared_error'` which is equivalent.\n",
      "  warnings.warn(\n",
      "/home/bnt4me/.local/lib/python3.8/site-packages/sklearn/tree/_classes.py:359: FutureWarning: Criterion 'mse' was deprecated in v1.0 and will be removed in version 1.2. Use `criterion='squared_error'` which is equivalent.\n",
      "  warnings.warn(\n",
      "/home/bnt4me/.local/lib/python3.8/site-packages/sklearn/tree/_classes.py:359: FutureWarning: Criterion 'mse' was deprecated in v1.0 and will be removed in version 1.2. Use `criterion='squared_error'` which is equivalent.\n",
      "  warnings.warn(\n",
      "/home/bnt4me/.local/lib/python3.8/site-packages/sklearn/tree/_classes.py:359: FutureWarning: Criterion 'mse' was deprecated in v1.0 and will be removed in version 1.2. Use `criterion='squared_error'` which is equivalent.\n",
      "  warnings.warn(\n",
      "/home/bnt4me/.local/lib/python3.8/site-packages/sklearn/tree/_classes.py:359: FutureWarning: Criterion 'mse' was deprecated in v1.0 and will be removed in version 1.2. Use `criterion='squared_error'` which is equivalent.\n",
      "  warnings.warn(\n",
      "/home/bnt4me/.local/lib/python3.8/site-packages/sklearn/tree/_classes.py:359: FutureWarning: Criterion 'mse' was deprecated in v1.0 and will be removed in version 1.2. Use `criterion='squared_error'` which is equivalent.\n",
      "  warnings.warn(\n",
      "/home/bnt4me/.local/lib/python3.8/site-packages/sklearn/tree/_classes.py:359: FutureWarning: Criterion 'mse' was deprecated in v1.0 and will be removed in version 1.2. Use `criterion='squared_error'` which is equivalent.\n",
      "  warnings.warn(\n",
      "/home/bnt4me/.local/lib/python3.8/site-packages/sklearn/tree/_classes.py:359: FutureWarning: Criterion 'mse' was deprecated in v1.0 and will be removed in version 1.2. Use `criterion='squared_error'` which is equivalent.\n",
      "  warnings.warn(\n",
      "/home/bnt4me/.local/lib/python3.8/site-packages/sklearn/tree/_classes.py:359: FutureWarning: Criterion 'mse' was deprecated in v1.0 and will be removed in version 1.2. Use `criterion='squared_error'` which is equivalent.\n",
      "  warnings.warn(\n",
      "/home/bnt4me/.local/lib/python3.8/site-packages/sklearn/tree/_classes.py:359: FutureWarning: Criterion 'mse' was deprecated in v1.0 and will be removed in version 1.2. Use `criterion='squared_error'` which is equivalent.\n",
      "  warnings.warn(\n",
      "/home/bnt4me/.local/lib/python3.8/site-packages/sklearn/tree/_classes.py:359: FutureWarning: Criterion 'mse' was deprecated in v1.0 and will be removed in version 1.2. Use `criterion='squared_error'` which is equivalent.\n",
      "  warnings.warn(\n",
      "/home/bnt4me/.local/lib/python3.8/site-packages/sklearn/tree/_classes.py:359: FutureWarning: Criterion 'mse' was deprecated in v1.0 and will be removed in version 1.2. Use `criterion='squared_error'` which is equivalent.\n",
      "  warnings.warn(\n",
      "/home/bnt4me/.local/lib/python3.8/site-packages/sklearn/tree/_classes.py:359: FutureWarning: Criterion 'mse' was deprecated in v1.0 and will be removed in version 1.2. Use `criterion='squared_error'` which is equivalent.\n",
      "  warnings.warn(\n",
      "/home/bnt4me/.local/lib/python3.8/site-packages/sklearn/tree/_classes.py:359: FutureWarning: Criterion 'mse' was deprecated in v1.0 and will be removed in version 1.2. Use `criterion='squared_error'` which is equivalent.\n",
      "  warnings.warn(\n",
      "/home/bnt4me/.local/lib/python3.8/site-packages/sklearn/tree/_classes.py:359: FutureWarning: Criterion 'mse' was deprecated in v1.0 and will be removed in version 1.2. Use `criterion='squared_error'` which is equivalent.\n",
      "  warnings.warn(\n"
     ]
    },
    {
     "name": "stdout",
     "output_type": "stream",
     "text": [
      "[13:37:40] WARNING: ../src/learner.cc:1115: Starting in XGBoost 1.3.0, the default evaluation metric used with the objective 'multi:softprob' was changed from 'merror' to 'mlogloss'. Explicitly set eval_metric if you'd like to restore the old behavior.\n",
      "[13:44:18] WARNING: ../src/learner.cc:1115: Starting in XGBoost 1.3.0, the default evaluation metric used with the objective 'multi:softprob' was changed from 'merror' to 'mlogloss'. Explicitly set eval_metric if you'd like to restore the old behavior.\n",
      "[13:58:33] WARNING: ../src/learner.cc:1115: Starting in XGBoost 1.3.0, the default evaluation metric used with the objective 'multi:softprob' was changed from 'merror' to 'mlogloss'. Explicitly set eval_metric if you'd like to restore the old behavior.\n",
      "[14:06:33] WARNING: ../src/learner.cc:1115: Starting in XGBoost 1.3.0, the default evaluation metric used with the objective 'multi:softprob' was changed from 'merror' to 'mlogloss'. Explicitly set eval_metric if you'd like to restore the old behavior.\n"
     ]
    },
    {
     "name": "stderr",
     "output_type": "stream",
     "text": [
      "/home/bnt4me/.local/lib/python3.8/site-packages/xgboost/sklearn.py:1224: UserWarning: The use of label encoder in XGBClassifier is deprecated and will be removed in a future release. To remove this warning, do the following: 1) Pass option use_label_encoder=False when constructing XGBClassifier object; and 2) Encode your labels (y) as integers starting with 0, i.e. 0, 1, 2, ..., [num_class - 1].\n",
      "  warnings.warn(label_encoder_deprecation_msg, UserWarning)\n",
      "/home/bnt4me/.local/lib/python3.8/site-packages/xgboost/sklearn.py:1224: UserWarning: The use of label encoder in XGBClassifier is deprecated and will be removed in a future release. To remove this warning, do the following: 1) Pass option use_label_encoder=False when constructing XGBClassifier object; and 2) Encode your labels (y) as integers starting with 0, i.e. 0, 1, 2, ..., [num_class - 1].\n",
      "  warnings.warn(label_encoder_deprecation_msg, UserWarning)\n",
      "/home/bnt4me/.local/lib/python3.8/site-packages/xgboost/sklearn.py:1224: UserWarning: The use of label encoder in XGBClassifier is deprecated and will be removed in a future release. To remove this warning, do the following: 1) Pass option use_label_encoder=False when constructing XGBClassifier object; and 2) Encode your labels (y) as integers starting with 0, i.e. 0, 1, 2, ..., [num_class - 1].\n",
      "  warnings.warn(label_encoder_deprecation_msg, UserWarning)\n",
      "/home/bnt4me/.local/lib/python3.8/site-packages/xgboost/sklearn.py:1224: UserWarning: The use of label encoder in XGBClassifier is deprecated and will be removed in a future release. To remove this warning, do the following: 1) Pass option use_label_encoder=False when constructing XGBClassifier object; and 2) Encode your labels (y) as integers starting with 0, i.e. 0, 1, 2, ..., [num_class - 1].\n",
      "  warnings.warn(label_encoder_deprecation_msg, UserWarning)\n"
     ]
    },
    {
     "name": "stdout",
     "output_type": "stream",
     "text": [
      "[13:37:38] WARNING: ../src/learner.cc:1115: Starting in XGBoost 1.3.0, the default evaluation metric used with the objective 'multi:softprob' was changed from 'merror' to 'mlogloss'. Explicitly set eval_metric if you'd like to restore the old behavior.\n",
      "[13:44:24] WARNING: ../src/learner.cc:1115: Starting in XGBoost 1.3.0, the default evaluation metric used with the objective 'multi:softprob' was changed from 'merror' to 'mlogloss'. Explicitly set eval_metric if you'd like to restore the old behavior.\n",
      "[13:59:37] WARNING: ../src/learner.cc:1115: Starting in XGBoost 1.3.0, the default evaluation metric used with the objective 'multi:softprob' was changed from 'merror' to 'mlogloss'. Explicitly set eval_metric if you'd like to restore the old behavior.\n",
      "[14:07:25] WARNING: ../src/learner.cc:1115: Starting in XGBoost 1.3.0, the default evaluation metric used with the objective 'multi:softprob' was changed from 'merror' to 'mlogloss'. Explicitly set eval_metric if you'd like to restore the old behavior.\n"
     ]
    },
    {
     "name": "stderr",
     "output_type": "stream",
     "text": [
      "/home/bnt4me/.local/lib/python3.8/site-packages/xgboost/sklearn.py:1224: UserWarning: The use of label encoder in XGBClassifier is deprecated and will be removed in a future release. To remove this warning, do the following: 1) Pass option use_label_encoder=False when constructing XGBClassifier object; and 2) Encode your labels (y) as integers starting with 0, i.e. 0, 1, 2, ..., [num_class - 1].\n",
      "  warnings.warn(label_encoder_deprecation_msg, UserWarning)\n",
      "/home/bnt4me/.local/lib/python3.8/site-packages/xgboost/sklearn.py:1224: UserWarning: The use of label encoder in XGBClassifier is deprecated and will be removed in a future release. To remove this warning, do the following: 1) Pass option use_label_encoder=False when constructing XGBClassifier object; and 2) Encode your labels (y) as integers starting with 0, i.e. 0, 1, 2, ..., [num_class - 1].\n",
      "  warnings.warn(label_encoder_deprecation_msg, UserWarning)\n",
      "/home/bnt4me/.local/lib/python3.8/site-packages/xgboost/sklearn.py:1224: UserWarning: The use of label encoder in XGBClassifier is deprecated and will be removed in a future release. To remove this warning, do the following: 1) Pass option use_label_encoder=False when constructing XGBClassifier object; and 2) Encode your labels (y) as integers starting with 0, i.e. 0, 1, 2, ..., [num_class - 1].\n",
      "  warnings.warn(label_encoder_deprecation_msg, UserWarning)\n",
      "/home/bnt4me/.local/lib/python3.8/site-packages/xgboost/sklearn.py:1224: UserWarning: The use of label encoder in XGBClassifier is deprecated and will be removed in a future release. To remove this warning, do the following: 1) Pass option use_label_encoder=False when constructing XGBClassifier object; and 2) Encode your labels (y) as integers starting with 0, i.e. 0, 1, 2, ..., [num_class - 1].\n",
      "  warnings.warn(label_encoder_deprecation_msg, UserWarning)\n",
      "/home/bnt4me/.local/lib/python3.8/site-packages/xgboost/sklearn.py:1224: UserWarning: The use of label encoder in XGBClassifier is deprecated and will be removed in a future release. To remove this warning, do the following: 1) Pass option use_label_encoder=False when constructing XGBClassifier object; and 2) Encode your labels (y) as integers starting with 0, i.e. 0, 1, 2, ..., [num_class - 1].\n",
      "  warnings.warn(label_encoder_deprecation_msg, UserWarning)\n"
     ]
    },
    {
     "name": "stdout",
     "output_type": "stream",
     "text": [
      "[14:16:55] WARNING: ../src/learner.cc:1115: Starting in XGBoost 1.3.0, the default evaluation metric used with the objective 'multi:softprob' was changed from 'merror' to 'mlogloss'. Explicitly set eval_metric if you'd like to restore the old behavior.\n"
     ]
    },
    {
     "data": {
      "text/plain": [
       "RandomizedSearchCV(cv=3,\n",
       "                   estimator=XGBClassifier(base_score=None, booster=None,\n",
       "                                           colsample_bylevel=None,\n",
       "                                           colsample_bynode=None,\n",
       "                                           colsample_bytree=None,\n",
       "                                           enable_categorical=False, gamma=None,\n",
       "                                           gpu_id=None, importance_type=None,\n",
       "                                           interaction_constraints=None,\n",
       "                                           learning_rate=None,\n",
       "                                           max_delta_step=None, max_depth=None,\n",
       "                                           min_child_weight=None, missing=nan,\n",
       "                                           monotone_constraints...\n",
       "                                        'learning_rate': <scipy.stats._distn_infrastructure.rv_frozen object at 0x7fab90cd13d0>,\n",
       "                                        'max_depth': <scipy.stats._distn_infrastructure.rv_frozen object at 0x7fab90cd1640>,\n",
       "                                        'n_estimators': <scipy.stats._distn_infrastructure.rv_frozen object at 0x7fab90cd1940>,\n",
       "                                        'subsample': <scipy.stats._distn_infrastructure.rv_frozen object at 0x7fab90cd1b20>},\n",
       "                   random_state=10, return_train_score=True)"
      ]
     },
     "execution_count": 82,
     "metadata": {},
     "output_type": "execute_result"
    }
   ],
   "source": [
    "import xgboost as xgb\n",
    "from scipy.stats import uniform, randint\n",
    "from sklearn.model_selection import RandomizedSearchCV\n",
    "xgb_model = xgb.XGBClassifier(objective=\"multi:softprob\", random_state=10)\n",
    "params = {\n",
    "    \"colsample_bytree\": uniform(0.7, 0.3),\n",
    "    \"gamma\": uniform(0, 0.5),\n",
    "    \"learning_rate\": uniform(0.03, 0.3), # default 0.1 \n",
    "    \"max_depth\": randint(2, 6), # default 3\n",
    "    \"n_estimators\": randint(100, 150), # default 100\n",
    "    \"subsample\": uniform(0.6, 0.4)\n",
    "}\n",
    "\n",
    "search = RandomizedSearchCV(xgb_model, param_distributions=params, random_state=10, cv=3, n_jobs=8, return_train_score=True)\n",
    "\n",
    "search.fit(X_train_1, y_train_1)"
   ]
  },
  {
   "cell_type": "code",
   "execution_count": 83,
   "metadata": {
    "colab": {
     "base_uri": "https://localhost:8080/",
     "height": 163
    },
    "id": "EMmVhgh1y4VJ",
    "outputId": "5c2846d6-1e96-45ca-b7a7-43061d87102a"
   },
   "outputs": [
    {
     "data": {
      "text/plain": [
       "{'colsample_bytree': 0.9313961929800237,\n",
       " 'gamma': 0.01037597467970075,\n",
       " 'learning_rate': 0.2200944704778826,\n",
       " 'max_depth': 5,\n",
       " 'n_estimators': 128,\n",
       " 'subsample': 0.7994028049210362}"
      ]
     },
     "execution_count": 83,
     "metadata": {},
     "output_type": "execute_result"
    }
   ],
   "source": [
    "search.best_params_"
   ]
  },
  {
   "cell_type": "code",
   "execution_count": 84,
   "metadata": {
    "id": "0Te3_lYwy4b5"
   },
   "outputs": [
    {
     "name": "stdout",
     "output_type": "stream",
     "text": [
      "Classification report:\n",
      "              precision    recall  f1-score   support\n",
      "\n",
      "           0       0.33      0.19      0.24        47\n",
      "           1       0.60      0.80      0.68       172\n",
      "           2       0.28      0.14      0.18        73\n",
      "\n",
      "    accuracy                           0.53       292\n",
      "   macro avg       0.40      0.37      0.37       292\n",
      "weighted avg       0.48      0.53      0.49       292\n",
      "\n",
      "\n"
     ]
    }
   ],
   "source": [
    "from sklearn.metrics import classification_report\n",
    "\n",
    "y_pred_rf = search.predict(X_test)\n",
    "\n",
    "print('Classification report:\\n{0}\\n'.format(classification_report(y_test, y_pred_rf)))"
   ]
  },
  {
   "cell_type": "code",
   "execution_count": 85,
   "metadata": {
    "id": "3LrWdODJzC7A"
   },
   "outputs": [
    {
     "data": {
      "image/png": "[encoded data removed]",
      "text/plain": [
       "<Figure size 432x288 with 1 Axes>"
      ]
     },
     "metadata": {},
     "output_type": "display_data"
    }
   ],
   "source": [
    "%matplotlib inline\n",
    "import seaborn as sns; sns.set()\n",
    "from sklearn.metrics import confusion_matrix\n",
    "import matplotlib.pyplot as plt\n",
    "\n",
    "y_test_pred = search.predict(X_test)\n",
    "cm_test = confusion_matrix(y_test, y_test_pred)\n",
    "\n",
    "sns.heatmap(cm_test.T, square=True, annot=True, fmt='d', cbar=False,\n",
    "            xticklabels= np.unique(y_test),\n",
    "            yticklabels= np.unique(y_test_pred))\n",
    "plt.xlabel('true label')\n",
    "plt.ylabel('predicted label');\n",
    "plt.title('Confusion Matrix DT - Test Set')\n",
    "plt.show()"
   ]
  },
  {
   "cell_type": "markdown",
   "metadata": {
    "id": "_kkAFsYctZam"
   },
   "source": [
    "## 1.2.0. Undersampling"
   ]
  },
  {
   "cell_type": "code",
   "execution_count": 88,
   "metadata": {
    "colab": {
     "base_uri": "https://localhost:8080/",
     "height": 580
    },
    "id": "vWxjMV068sIl",
    "outputId": "ed856e7b-cd87-4243-d66c-024d10876362",
    "scrolled": true
   },
   "outputs": [
    {
     "data": {
      "image/png": "[encoded data removed]",
      "text/plain": [
       "<Figure size 1800x720 with 2 Axes>"
      ]
     },
     "metadata": {},
     "output_type": "display_data"
    }
   ],
   "source": [
    "def apply_undersampling(X, y):\n",
    "    from imblearn.under_sampling import RandomUnderSampler\n",
    "    from matplotlib import pyplot as plt\n",
    "\n",
    "    X_class = X\n",
    "\n",
    "    fig, axs = plt.subplots(1,2, figsize=(25,10))\n",
    "    pd.Series(y_train).value_counts().plot.bar(ax = axs[0]).title.set_text('Before Undersampling')\n",
    "\n",
    "    undersample = RandomUnderSampler(sampling_strategy='majority')\n",
    "    # undersample = RandomUnderSampler(sampling_strategy=0.5)\n",
    "    # fit and apply the transform\n",
    "\n",
    "    X_class, label_cat = undersample.fit_resample(X, y)\n",
    "\n",
    "    pd.Series(label_cat).value_counts().plot.bar(ax = axs[1]).title.set_text('After Undersampling')\n",
    "\n",
    "    return X_class, label_cat\n",
    "\n",
    "X_train_1, y_train_1 = apply_undersampling(X_train, y_train)"
   ]
  },
  {
   "cell_type": "code",
   "execution_count": 89,
   "metadata": {
    "colab": {
     "base_uri": "https://localhost:8080/"
    },
    "id": "Y2EiuTgxjSJU",
    "outputId": "a0519187-9bb8-4d50-c202-03d94cc054fb",
    "scrolled": false
   },
   "outputs": [
    {
     "data": {
      "text/plain": [
       "(492, 637)"
      ]
     },
     "execution_count": 89,
     "metadata": {},
     "output_type": "execute_result"
    },
    {
     "name": "stdout",
     "output_type": "stream",
     "text": [
      "[13:37:40] WARNING: ../src/learner.cc:1115: Starting in XGBoost 1.3.0, the default evaluation metric used with the objective 'multi:softprob' was changed from 'merror' to 'mlogloss'. Explicitly set eval_metric if you'd like to restore the old behavior.\n",
      "[13:44:12] WARNING: ../src/learner.cc:1115: Starting in XGBoost 1.3.0, the default evaluation metric used with the objective 'multi:softprob' was changed from 'merror' to 'mlogloss'. Explicitly set eval_metric if you'd like to restore the old behavior.\n",
      "[13:57:10] WARNING: ../src/learner.cc:1115: Starting in XGBoost 1.3.0, the default evaluation metric used with the objective 'multi:softprob' was changed from 'merror' to 'mlogloss'. Explicitly set eval_metric if you'd like to restore the old behavior.\n",
      "[14:05:04] WARNING: ../src/learner.cc:1115: Starting in XGBoost 1.3.0, the default evaluation metric used with the objective 'multi:softprob' was changed from 'merror' to 'mlogloss'. Explicitly set eval_metric if you'd like to restore the old behavior.\n"
     ]
    },
    {
     "name": "stderr",
     "output_type": "stream",
     "text": [
      "/home/bnt4me/.local/lib/python3.8/site-packages/xgboost/sklearn.py:1224: UserWarning: The use of label encoder in XGBClassifier is deprecated and will be removed in a future release. To remove this warning, do the following: 1) Pass option use_label_encoder=False when constructing XGBClassifier object; and 2) Encode your labels (y) as integers starting with 0, i.e. 0, 1, 2, ..., [num_class - 1].\n",
      "  warnings.warn(label_encoder_deprecation_msg, UserWarning)\n",
      "/home/bnt4me/.local/lib/python3.8/site-packages/xgboost/sklearn.py:1224: UserWarning: The use of label encoder in XGBClassifier is deprecated and will be removed in a future release. To remove this warning, do the following: 1) Pass option use_label_encoder=False when constructing XGBClassifier object; and 2) Encode your labels (y) as integers starting with 0, i.e. 0, 1, 2, ..., [num_class - 1].\n",
      "  warnings.warn(label_encoder_deprecation_msg, UserWarning)\n",
      "/home/bnt4me/.local/lib/python3.8/site-packages/xgboost/sklearn.py:1224: UserWarning: The use of label encoder in XGBClassifier is deprecated and will be removed in a future release. To remove this warning, do the following: 1) Pass option use_label_encoder=False when constructing XGBClassifier object; and 2) Encode your labels (y) as integers starting with 0, i.e. 0, 1, 2, ..., [num_class - 1].\n",
      "  warnings.warn(label_encoder_deprecation_msg, UserWarning)\n",
      "/home/bnt4me/.local/lib/python3.8/site-packages/xgboost/sklearn.py:1224: UserWarning: The use of label encoder in XGBClassifier is deprecated and will be removed in a future release. To remove this warning, do the following: 1) Pass option use_label_encoder=False when constructing XGBClassifier object; and 2) Encode your labels (y) as integers starting with 0, i.e. 0, 1, 2, ..., [num_class - 1].\n",
      "  warnings.warn(label_encoder_deprecation_msg, UserWarning)\n"
     ]
    }
   ],
   "source": [
    "X_train_1.shape\n",
    "# X_class, label_cat"
   ]
  },
  {
   "cell_type": "markdown",
   "metadata": {
    "id": "pe04cQer2ijd"
   },
   "source": [
    "# Data Clasification"
   ]
  },
  {
   "cell_type": "markdown",
   "metadata": {
    "id": "AjiArCYzSN0c"
   },
   "source": [
    "## 1.2.1. NN"
   ]
  },
  {
   "cell_type": "code",
   "execution_count": 91,
   "metadata": {
    "colab": {
     "base_uri": "https://localhost:8080/"
    },
    "id": "p5YtcSliSQ7Z",
    "outputId": "e28b5a02-1f9c-4fee-8a85-1d322a647c11"
   },
   "outputs": [
    {
     "data": {
      "text/plain": [
       "GridSearchCV(cv=10, estimator=MLPClassifier(max_iter=300, random_state=1),\n",
       "             n_jobs=5,\n",
       "             param_grid={'activation': ['logistic', 'relu'],\n",
       "                         'alpha': [0.0001, 0.001]},\n",
       "             refit='accuracy', return_train_score=True,\n",
       "             scoring={'accuracy': make_scorer(accuracy_score),\n",
       "                      'precision': make_scorer(precision_score, average=micro),\n",
       "                      'recall': make_scorer(recall_score, average=micro)})"
      ]
     },
     "execution_count": 91,
     "metadata": {},
     "output_type": "execute_result"
    }
   ],
   "source": [
    "from sklearn.neural_network import MLPClassifier\n",
    "from sklearn.model_selection import GridSearchCV\n",
    "from sklearn.metrics import precision_score\n",
    "from sklearn.metrics import accuracy_score\n",
    "from sklearn.metrics import recall_score\n",
    "from sklearn.metrics import make_scorer\n",
    "\n",
    "\n",
    "param_grid = {'activation': ['logistic', 'relu'],'alpha':[0.0001,0.001]}\n",
    "scores= {'accuracy':make_scorer(accuracy_score),'precision':make_scorer(precision_score,average='micro'),\n",
    "         'recall':make_scorer(recall_score,average='micro')}\n",
    "\n",
    "neu_net = MLPClassifier(random_state=1, max_iter=300)\n",
    "clf_nn = GridSearchCV(neu_net, param_grid,cv=10,scoring=scores,\n",
    "                       refit='accuracy', return_train_score=True,n_jobs=5)\n",
    "clf_nn.fit(X_train_1, y_train_1)"
   ]
  },
  {
   "cell_type": "code",
   "execution_count": 92,
   "metadata": {
    "colab": {
     "base_uri": "https://localhost:8080/"
    },
    "id": "23-4b6jGk69W",
    "outputId": "e848433b-386b-4bcb-a972-304b7ef3425a"
   },
   "outputs": [
    {
     "name": "stdout",
     "output_type": "stream",
     "text": [
      "{'activation': 'logistic', 'alpha': 0.0001}\n"
     ]
    }
   ],
   "source": [
    "print(clf_nn.best_params_)"
   ]
  },
  {
   "cell_type": "code",
   "execution_count": 93,
   "metadata": {
    "colab": {
     "base_uri": "https://localhost:8080/",
     "height": 397
    },
    "id": "0fnAD6bhlAGt",
    "outputId": "f39aa523-c84d-4c99-8bd8-e555f756888c"
   },
   "outputs": [
    {
     "data": {
      "text/html": [
       "<div>\n",
       "<style scoped>\n",
       "    .dataframe tbody tr th:only-of-type {\n",
       "        vertical-align: middle;\n",
       "    }\n",
       "\n",
       "    .dataframe tbody tr th {\n",
       "        vertical-align: top;\n",
       "    }\n",
       "\n",
       "    .dataframe thead th {\n",
       "        text-align: right;\n",
       "    }\n",
       "</style>\n",
       "<table border=\"1\" class=\"dataframe\">\n",
       "  <thead>\n",
       "    <tr style=\"text-align: right;\">\n",
       "      <th></th>\n",
       "      <th>mean_fit_time</th>\n",
       "      <th>params</th>\n",
       "      <th>mean_test_accuracy</th>\n",
       "      <th>std_test_accuracy</th>\n",
       "      <th>rank_test_accuracy</th>\n",
       "      <th>mean_test_precision</th>\n",
       "      <th>std_test_precision</th>\n",
       "      <th>mean_test_recall</th>\n",
       "      <th>std_test_recall</th>\n",
       "    </tr>\n",
       "  </thead>\n",
       "  <tbody>\n",
       "    <tr>\n",
       "      <th>0</th>\n",
       "      <td>2.159919</td>\n",
       "      <td>{'activation': 'logistic', 'alpha': 0.0001}</td>\n",
       "      <td>0.410327</td>\n",
       "      <td>0.083250</td>\n",
       "      <td>1</td>\n",
       "      <td>0.410327</td>\n",
       "      <td>0.083250</td>\n",
       "      <td>0.410327</td>\n",
       "      <td>0.083250</td>\n",
       "    </tr>\n",
       "    <tr>\n",
       "      <th>1</th>\n",
       "      <td>2.183899</td>\n",
       "      <td>{'activation': 'logistic', 'alpha': 0.001}</td>\n",
       "      <td>0.408286</td>\n",
       "      <td>0.084519</td>\n",
       "      <td>2</td>\n",
       "      <td>0.408286</td>\n",
       "      <td>0.084519</td>\n",
       "      <td>0.408286</td>\n",
       "      <td>0.084519</td>\n",
       "    </tr>\n",
       "    <tr>\n",
       "      <th>2</th>\n",
       "      <td>0.881006</td>\n",
       "      <td>{'activation': 'relu', 'alpha': 0.0001}</td>\n",
       "      <td>0.386000</td>\n",
       "      <td>0.085775</td>\n",
       "      <td>3</td>\n",
       "      <td>0.386000</td>\n",
       "      <td>0.085775</td>\n",
       "      <td>0.386000</td>\n",
       "      <td>0.085775</td>\n",
       "    </tr>\n",
       "    <tr>\n",
       "      <th>3</th>\n",
       "      <td>0.845988</td>\n",
       "      <td>{'activation': 'relu', 'alpha': 0.001}</td>\n",
       "      <td>0.386000</td>\n",
       "      <td>0.085775</td>\n",
       "      <td>3</td>\n",
       "      <td>0.386000</td>\n",
       "      <td>0.085775</td>\n",
       "      <td>0.386000</td>\n",
       "      <td>0.085775</td>\n",
       "    </tr>\n",
       "  </tbody>\n",
       "</table>\n",
       "</div>"
      ],
      "text/plain": [
       "   mean_fit_time                                       params  \\\n",
       "0       2.159919  {'activation': 'logistic', 'alpha': 0.0001}   \n",
       "1       2.183899   {'activation': 'logistic', 'alpha': 0.001}   \n",
       "2       0.881006      {'activation': 'relu', 'alpha': 0.0001}   \n",
       "3       0.845988       {'activation': 'relu', 'alpha': 0.001}   \n",
       "\n",
       "   mean_test_accuracy  std_test_accuracy  rank_test_accuracy  \\\n",
       "0            0.410327           0.083250                   1   \n",
       "1            0.408286           0.084519                   2   \n",
       "2            0.386000           0.085775                   3   \n",
       "3            0.386000           0.085775                   3   \n",
       "\n",
       "   mean_test_precision  std_test_precision  mean_test_recall  std_test_recall  \n",
       "0             0.410327            0.083250          0.410327         0.083250  \n",
       "1             0.408286            0.084519          0.408286         0.084519  \n",
       "2             0.386000            0.085775          0.386000         0.085775  \n",
       "3             0.386000            0.085775          0.386000         0.085775  "
      ]
     },
     "execution_count": 93,
     "metadata": {},
     "output_type": "execute_result"
    }
   ],
   "source": [
    "df = pd.DataFrame(clf_nn.cv_results_)\n",
    "df.sort_values(by='rank_test_accuracy')[['mean_fit_time','params','mean_test_accuracy','std_test_accuracy','rank_test_accuracy',\n",
    "                                         'mean_test_precision','std_test_precision','mean_test_recall','std_test_recall']]"
   ]
  },
  {
   "cell_type": "code",
   "execution_count": 94,
   "metadata": {
    "colab": {
     "base_uri": "https://localhost:8080/",
     "height": 353
    },
    "id": "WhezDEt0lDtt",
    "outputId": "231ad9f6-6bd4-49f2-b744-8ccde2ab2789"
   },
   "outputs": [
    {
     "data": {
      "image/png": "[encoded data removed]",
      "text/plain": [
       "<Figure size 432x288 with 1 Axes>"
      ]
     },
     "metadata": {},
     "output_type": "display_data"
    },
    {
     "name": "stdout",
     "output_type": "stream",
     "text": [
      "Precision: 0.363\n",
      "Recall: 0.363\n",
      "Accuracy: 0.363\n"
     ]
    }
   ],
   "source": [
    "%matplotlib inline\n",
    "import seaborn as sns; sns.set()\n",
    "from sklearn.metrics import confusion_matrix\n",
    "import matplotlib.pyplot as plt\n",
    "import numpy as np\n",
    "\n",
    "y_test_pred = clf_nn.predict(X_test)\n",
    "cm_test = confusion_matrix(y_test, y_test_pred)\n",
    "\n",
    "sns.heatmap(cm_test.T, square=True, annot=True, fmt='d', cbar=False,\n",
    "            xticklabels= np.unique(y_test),\n",
    "            yticklabels= np.unique(y_test_pred))\n",
    "plt.xlabel('true label')\n",
    "plt.ylabel('predicted label');\n",
    "plt.title('Confusion Matrix DT - Test Set')\n",
    "plt.show()\n",
    "\n",
    "print('Precision: %.3f' %(precision_score(y_test, y_test_pred,average='micro')))\n",
    "print('Recall: %.3f' %(recall_score(y_test, y_test_pred,average='micro')))\n",
    "print('Accuracy: %.3f' %(accuracy_score(y_test,y_test_pred)))"
   ]
  },
  {
   "cell_type": "markdown",
   "metadata": {
    "id": "JFAy60UdJij3"
   },
   "source": [
    "## 1.2.2. Tree model"
   ]
  },
  {
   "cell_type": "code",
   "execution_count": 95,
   "metadata": {
    "colab": {
     "base_uri": "https://localhost:8080/"
    },
    "id": "oaYqCTJmJhHI",
    "outputId": "db1d8917-953b-4077-b4c6-30ed6aa4757c"
   },
   "outputs": [
    {
     "name": "stdout",
     "output_type": "stream",
     "text": [
      "{'criterion': 'entropy', 'max_depth': 6}\n"
     ]
    }
   ],
   "source": [
    "from sklearn.model_selection import GridSearchCV\n",
    "from sklearn.tree import DecisionTreeClassifier\n",
    "from sklearn.metrics import precision_score\n",
    "from sklearn.metrics import accuracy_score\n",
    "from sklearn.metrics import recall_score\n",
    "from sklearn.metrics import make_scorer\n",
    "\n",
    "\n",
    "tree_para = {'criterion':['gini','entropy'],'max_depth':[4,6,8,10,12,15,17,20]}\n",
    "scores= {'accuracy':make_scorer(accuracy_score),'precision':make_scorer(precision_score,average='micro'),\n",
    "         'recall':make_scorer(recall_score,average='micro')}\n",
    "\n",
    "clf_tree = GridSearchCV(DecisionTreeClassifier(random_state=15), tree_para, cv=10,\n",
    "                        scoring=scores,refit='accuracy', return_train_score=True,n_jobs=4)\n",
    "clf_tree = clf_tree.fit(X_train_1, y_train_1)\n",
    "print(clf_tree.best_params_)"
   ]
  },
  {
   "cell_type": "code",
   "execution_count": 96,
   "metadata": {
    "colab": {
     "base_uri": "https://localhost:8080/",
     "height": 561
    },
    "id": "XzORkH-Sqlb4",
    "outputId": "6ee3df72-71e8-4101-bde1-86b05ad9b26f"
   },
   "outputs": [
    {
     "data": {
      "text/html": [
       "<div>\n",
       "<style scoped>\n",
       "    .dataframe tbody tr th:only-of-type {\n",
       "        vertical-align: middle;\n",
       "    }\n",
       "\n",
       "    .dataframe tbody tr th {\n",
       "        vertical-align: top;\n",
       "    }\n",
       "\n",
       "    .dataframe thead th {\n",
       "        text-align: right;\n",
       "    }\n",
       "</style>\n",
       "<table border=\"1\" class=\"dataframe\">\n",
       "  <thead>\n",
       "    <tr style=\"text-align: right;\">\n",
       "      <th></th>\n",
       "      <th>mean_fit_time</th>\n",
       "      <th>params</th>\n",
       "      <th>mean_test_accuracy</th>\n",
       "      <th>std_test_accuracy</th>\n",
       "      <th>rank_test_accuracy</th>\n",
       "      <th>mean_test_precision</th>\n",
       "      <th>std_test_precision</th>\n",
       "      <th>mean_test_recall</th>\n",
       "      <th>std_test_recall</th>\n",
       "    </tr>\n",
       "  </thead>\n",
       "  <tbody>\n",
       "    <tr>\n",
       "      <th>9</th>\n",
       "      <td>0.144876</td>\n",
       "      <td>{'criterion': 'entropy', 'max_depth': 6}</td>\n",
       "      <td>0.408694</td>\n",
       "      <td>0.042549</td>\n",
       "      <td>1</td>\n",
       "      <td>0.408694</td>\n",
       "      <td>0.042549</td>\n",
       "      <td>0.408694</td>\n",
       "      <td>0.042549</td>\n",
       "    </tr>\n",
       "    <tr>\n",
       "      <th>13</th>\n",
       "      <td>0.184207</td>\n",
       "      <td>{'criterion': 'entropy', 'max_depth': 15}</td>\n",
       "      <td>0.392490</td>\n",
       "      <td>0.048866</td>\n",
       "      <td>2</td>\n",
       "      <td>0.392490</td>\n",
       "      <td>0.048866</td>\n",
       "      <td>0.392490</td>\n",
       "      <td>0.048866</td>\n",
       "    </tr>\n",
       "    <tr>\n",
       "      <th>14</th>\n",
       "      <td>0.189856</td>\n",
       "      <td>{'criterion': 'entropy', 'max_depth': 17}</td>\n",
       "      <td>0.392490</td>\n",
       "      <td>0.048866</td>\n",
       "      <td>2</td>\n",
       "      <td>0.392490</td>\n",
       "      <td>0.048866</td>\n",
       "      <td>0.392490</td>\n",
       "      <td>0.048866</td>\n",
       "    </tr>\n",
       "    <tr>\n",
       "      <th>15</th>\n",
       "      <td>0.186403</td>\n",
       "      <td>{'criterion': 'entropy', 'max_depth': 20}</td>\n",
       "      <td>0.392490</td>\n",
       "      <td>0.048866</td>\n",
       "      <td>2</td>\n",
       "      <td>0.392490</td>\n",
       "      <td>0.048866</td>\n",
       "      <td>0.392490</td>\n",
       "      <td>0.048866</td>\n",
       "    </tr>\n",
       "    <tr>\n",
       "      <th>11</th>\n",
       "      <td>0.177327</td>\n",
       "      <td>{'criterion': 'entropy', 'max_depth': 10}</td>\n",
       "      <td>0.390408</td>\n",
       "      <td>0.051628</td>\n",
       "      <td>5</td>\n",
       "      <td>0.390408</td>\n",
       "      <td>0.051628</td>\n",
       "      <td>0.390408</td>\n",
       "      <td>0.051628</td>\n",
       "    </tr>\n",
       "    <tr>\n",
       "      <th>8</th>\n",
       "      <td>0.102367</td>\n",
       "      <td>{'criterion': 'entropy', 'max_depth': 4}</td>\n",
       "      <td>0.390122</td>\n",
       "      <td>0.037929</td>\n",
       "      <td>6</td>\n",
       "      <td>0.390122</td>\n",
       "      <td>0.037929</td>\n",
       "      <td>0.390122</td>\n",
       "      <td>0.037929</td>\n",
       "    </tr>\n",
       "    <tr>\n",
       "      <th>12</th>\n",
       "      <td>0.182027</td>\n",
       "      <td>{'criterion': 'entropy', 'max_depth': 12}</td>\n",
       "      <td>0.386408</td>\n",
       "      <td>0.056000</td>\n",
       "      <td>7</td>\n",
       "      <td>0.386408</td>\n",
       "      <td>0.056000</td>\n",
       "      <td>0.386408</td>\n",
       "      <td>0.056000</td>\n",
       "    </tr>\n",
       "    <tr>\n",
       "      <th>4</th>\n",
       "      <td>0.122416</td>\n",
       "      <td>{'criterion': 'gini', 'max_depth': 12}</td>\n",
       "      <td>0.371918</td>\n",
       "      <td>0.045262</td>\n",
       "      <td>8</td>\n",
       "      <td>0.371918</td>\n",
       "      <td>0.045262</td>\n",
       "      <td>0.371918</td>\n",
       "      <td>0.045262</td>\n",
       "    </tr>\n",
       "    <tr>\n",
       "      <th>2</th>\n",
       "      <td>0.117494</td>\n",
       "      <td>{'criterion': 'gini', 'max_depth': 8}</td>\n",
       "      <td>0.367592</td>\n",
       "      <td>0.061234</td>\n",
       "      <td>9</td>\n",
       "      <td>0.367592</td>\n",
       "      <td>0.061234</td>\n",
       "      <td>0.367592</td>\n",
       "      <td>0.061234</td>\n",
       "    </tr>\n",
       "    <tr>\n",
       "      <th>10</th>\n",
       "      <td>0.159274</td>\n",
       "      <td>{'criterion': 'entropy', 'max_depth': 8}</td>\n",
       "      <td>0.359918</td>\n",
       "      <td>0.045798</td>\n",
       "      <td>10</td>\n",
       "      <td>0.359918</td>\n",
       "      <td>0.045798</td>\n",
       "      <td>0.359918</td>\n",
       "      <td>0.045798</td>\n",
       "    </tr>\n",
       "    <tr>\n",
       "      <th>5</th>\n",
       "      <td>0.122553</td>\n",
       "      <td>{'criterion': 'gini', 'max_depth': 15}</td>\n",
       "      <td>0.353592</td>\n",
       "      <td>0.034642</td>\n",
       "      <td>11</td>\n",
       "      <td>0.353592</td>\n",
       "      <td>0.034642</td>\n",
       "      <td>0.353592</td>\n",
       "      <td>0.034642</td>\n",
       "    </tr>\n",
       "    <tr>\n",
       "      <th>6</th>\n",
       "      <td>0.122872</td>\n",
       "      <td>{'criterion': 'gini', 'max_depth': 17}</td>\n",
       "      <td>0.353592</td>\n",
       "      <td>0.034642</td>\n",
       "      <td>11</td>\n",
       "      <td>0.353592</td>\n",
       "      <td>0.034642</td>\n",
       "      <td>0.353592</td>\n",
       "      <td>0.034642</td>\n",
       "    </tr>\n",
       "    <tr>\n",
       "      <th>7</th>\n",
       "      <td>0.122322</td>\n",
       "      <td>{'criterion': 'gini', 'max_depth': 20}</td>\n",
       "      <td>0.353592</td>\n",
       "      <td>0.034642</td>\n",
       "      <td>11</td>\n",
       "      <td>0.353592</td>\n",
       "      <td>0.034642</td>\n",
       "      <td>0.353592</td>\n",
       "      <td>0.034642</td>\n",
       "    </tr>\n",
       "    <tr>\n",
       "      <th>3</th>\n",
       "      <td>0.122011</td>\n",
       "      <td>{'criterion': 'gini', 'max_depth': 10}</td>\n",
       "      <td>0.351592</td>\n",
       "      <td>0.038300</td>\n",
       "      <td>14</td>\n",
       "      <td>0.351592</td>\n",
       "      <td>0.038300</td>\n",
       "      <td>0.351592</td>\n",
       "      <td>0.038300</td>\n",
       "    </tr>\n",
       "    <tr>\n",
       "      <th>1</th>\n",
       "      <td>0.096635</td>\n",
       "      <td>{'criterion': 'gini', 'max_depth': 6}</td>\n",
       "      <td>0.349592</td>\n",
       "      <td>0.062303</td>\n",
       "      <td>15</td>\n",
       "      <td>0.349592</td>\n",
       "      <td>0.062303</td>\n",
       "      <td>0.349592</td>\n",
       "      <td>0.062303</td>\n",
       "    </tr>\n",
       "    <tr>\n",
       "      <th>0</th>\n",
       "      <td>0.069989</td>\n",
       "      <td>{'criterion': 'gini', 'max_depth': 4}</td>\n",
       "      <td>0.337429</td>\n",
       "      <td>0.022843</td>\n",
       "      <td>16</td>\n",
       "      <td>0.337429</td>\n",
       "      <td>0.022843</td>\n",
       "      <td>0.337429</td>\n",
       "      <td>0.022843</td>\n",
       "    </tr>\n",
       "  </tbody>\n",
       "</table>\n",
       "</div>"
      ],
      "text/plain": [
       "    mean_fit_time                                     params  \\\n",
       "9        0.144876   {'criterion': 'entropy', 'max_depth': 6}   \n",
       "13       0.184207  {'criterion': 'entropy', 'max_depth': 15}   \n",
       "14       0.189856  {'criterion': 'entropy', 'max_depth': 17}   \n",
       "15       0.186403  {'criterion': 'entropy', 'max_depth': 20}   \n",
       "11       0.177327  {'criterion': 'entropy', 'max_depth': 10}   \n",
       "8        0.102367   {'criterion': 'entropy', 'max_depth': 4}   \n",
       "12       0.182027  {'criterion': 'entropy', 'max_depth': 12}   \n",
       "4        0.122416     {'criterion': 'gini', 'max_depth': 12}   \n",
       "2        0.117494      {'criterion': 'gini', 'max_depth': 8}   \n",
       "10       0.159274   {'criterion': 'entropy', 'max_depth': 8}   \n",
       "5        0.122553     {'criterion': 'gini', 'max_depth': 15}   \n",
       "6        0.122872     {'criterion': 'gini', 'max_depth': 17}   \n",
       "7        0.122322     {'criterion': 'gini', 'max_depth': 20}   \n",
       "3        0.122011     {'criterion': 'gini', 'max_depth': 10}   \n",
       "1        0.096635      {'criterion': 'gini', 'max_depth': 6}   \n",
       "0        0.069989      {'criterion': 'gini', 'max_depth': 4}   \n",
       "\n",
       "    mean_test_accuracy  std_test_accuracy  rank_test_accuracy  \\\n",
       "9             0.408694           0.042549                   1   \n",
       "13            0.392490           0.048866                   2   \n",
       "14            0.392490           0.048866                   2   \n",
       "15            0.392490           0.048866                   2   \n",
       "11            0.390408           0.051628                   5   \n",
       "8             0.390122           0.037929                   6   \n",
       "12            0.386408           0.056000                   7   \n",
       "4             0.371918           0.045262                   8   \n",
       "2             0.367592           0.061234                   9   \n",
       "10            0.359918           0.045798                  10   \n",
       "5             0.353592           0.034642                  11   \n",
       "6             0.353592           0.034642                  11   \n",
       "7             0.353592           0.034642                  11   \n",
       "3             0.351592           0.038300                  14   \n",
       "1             0.349592           0.062303                  15   \n",
       "0             0.337429           0.022843                  16   \n",
       "\n",
       "    mean_test_precision  std_test_precision  mean_test_recall  std_test_recall  \n",
       "9              0.408694            0.042549          0.408694         0.042549  \n",
       "13             0.392490            0.048866          0.392490         0.048866  \n",
       "14             0.392490            0.048866          0.392490         0.048866  \n",
       "15             0.392490            0.048866          0.392490         0.048866  \n",
       "11             0.390408            0.051628          0.390408         0.051628  \n",
       "8              0.390122            0.037929          0.390122         0.037929  \n",
       "12             0.386408            0.056000          0.386408         0.056000  \n",
       "4              0.371918            0.045262          0.371918         0.045262  \n",
       "2              0.367592            0.061234          0.367592         0.061234  \n",
       "10             0.359918            0.045798          0.359918         0.045798  \n",
       "5              0.353592            0.034642          0.353592         0.034642  \n",
       "6              0.353592            0.034642          0.353592         0.034642  \n",
       "7              0.353592            0.034642          0.353592         0.034642  \n",
       "3              0.351592            0.038300          0.351592         0.038300  \n",
       "1              0.349592            0.062303          0.349592         0.062303  \n",
       "0              0.337429            0.022843          0.337429         0.022843  "
      ]
     },
     "execution_count": 96,
     "metadata": {},
     "output_type": "execute_result"
    }
   ],
   "source": [
    "df = pd.DataFrame(clf_tree.cv_results_)\n",
    "df.sort_values(by='rank_test_accuracy')[['mean_fit_time','params','mean_test_accuracy','std_test_accuracy','rank_test_accuracy',\n",
    "                                         'mean_test_precision','std_test_precision','mean_test_recall','std_test_recall']]"
   ]
  },
  {
   "cell_type": "code",
   "execution_count": 97,
   "metadata": {
    "colab": {
     "base_uri": "https://localhost:8080/",
     "height": 353
    },
    "id": "9v5_o2kSJmF9",
    "outputId": "714ec43c-770e-48db-aa83-0ebcb59c6e3c"
   },
   "outputs": [
    {
     "data": {
      "image/png": "[encoded data removed]",
      "text/plain": [
       "<Figure size 432x288 with 1 Axes>"
      ]
     },
     "metadata": {},
     "output_type": "display_data"
    },
    {
     "name": "stdout",
     "output_type": "stream",
     "text": [
      "Precision: 0.353\n",
      "Recall: 0.353\n",
      "Accuracy: 0.353\n"
     ]
    }
   ],
   "source": [
    "%matplotlib inline\n",
    "import seaborn as sns; sns.set()\n",
    "from sklearn.metrics import confusion_matrix\n",
    "import matplotlib.pyplot as plt\n",
    "import numpy as np\n",
    "\n",
    "\n",
    "y_test_pred = clf_tree.predict(X_test)\n",
    "cm_test = confusion_matrix(y_test, y_test_pred)\n",
    "\n",
    "sns.heatmap(cm_test.T, square=True, annot=True, fmt='d', cbar=False,\n",
    "            xticklabels= np.unique(y_test),\n",
    "            yticklabels= np.unique(y_test_pred))\n",
    "plt.xlabel('true label')\n",
    "plt.ylabel('predicted label');\n",
    "plt.title('Confusion Matrix DT - Test Set')\n",
    "plt.show()\n",
    "\n",
    "print('Precision: %.3f' %(precision_score(y_test, y_test_pred,average='micro')))\n",
    "print('Recall: %.3f' %(recall_score(y_test, y_test_pred,average='micro')))\n",
    "print('Accuracy: %.3f' %(accuracy_score(y_test,y_test_pred)))"
   ]
  },
  {
   "cell_type": "markdown",
   "metadata": {
    "id": "ZIaPEoz6Ti1Z"
   },
   "source": [
    "## 1.2.3. K Neighbours"
   ]
  },
  {
   "cell_type": "code",
   "execution_count": 98,
   "metadata": {
    "colab": {
     "base_uri": "https://localhost:8080/"
    },
    "id": "AwyIGd0AToMr",
    "outputId": "ef6f41c6-99bc-4a89-b4f0-7f1d3f9d823e"
   },
   "outputs": [
    {
     "name": "stdout",
     "output_type": "stream",
     "text": [
      "{'metric': 'manhattan', 'n_neighbors': 6}\n"
     ]
    }
   ],
   "source": [
    "from sklearn.neighbors import KNeighborsClassifier\n",
    "\n",
    "nn_para = {'n_neighbors':[3,6,9],\n",
    "          'metric':[\"euclidean\",\"manhattan\"]}\n",
    "scores= {'accuracy':make_scorer(accuracy_score),'precision':make_scorer(precision_score,average='micro'),\n",
    "         'recall':make_scorer(recall_score,average='micro')}\n",
    "\n",
    "clf_kn = GridSearchCV(KNeighborsClassifier(), nn_para, cv=10, scoring=scores,\n",
    "                       refit='accuracy', return_train_score=True,n_jobs=4)\n",
    "clf_kn = clf_kn.fit(X_train_1, y_train_1)\n",
    "print(clf_kn.best_params_)"
   ]
  },
  {
   "cell_type": "code",
   "execution_count": 99,
   "metadata": {
    "colab": {
     "base_uri": "https://localhost:8080/",
     "height": 561
    },
    "id": "seL-PlX5BFw_",
    "outputId": "b237bf42-8ec0-4150-bc61-383b528f11fc"
   },
   "outputs": [
    {
     "data": {
      "text/html": [
       "<div>\n",
       "<style scoped>\n",
       "    .dataframe tbody tr th:only-of-type {\n",
       "        vertical-align: middle;\n",
       "    }\n",
       "\n",
       "    .dataframe tbody tr th {\n",
       "        vertical-align: top;\n",
       "    }\n",
       "\n",
       "    .dataframe thead th {\n",
       "        text-align: right;\n",
       "    }\n",
       "</style>\n",
       "<table border=\"1\" class=\"dataframe\">\n",
       "  <thead>\n",
       "    <tr style=\"text-align: right;\">\n",
       "      <th></th>\n",
       "      <th>mean_fit_time</th>\n",
       "      <th>params</th>\n",
       "      <th>mean_test_accuracy</th>\n",
       "      <th>std_test_accuracy</th>\n",
       "      <th>rank_test_accuracy</th>\n",
       "      <th>mean_test_precision</th>\n",
       "      <th>std_test_precision</th>\n",
       "      <th>mean_test_recall</th>\n",
       "      <th>std_test_recall</th>\n",
       "    </tr>\n",
       "  </thead>\n",
       "  <tbody>\n",
       "    <tr>\n",
       "      <th>4</th>\n",
       "      <td>0.004169</td>\n",
       "      <td>{'metric': 'manhattan', 'n_neighbors': 6}</td>\n",
       "      <td>0.402449</td>\n",
       "      <td>0.067323</td>\n",
       "      <td>1</td>\n",
       "      <td>0.402449</td>\n",
       "      <td>0.067323</td>\n",
       "      <td>0.402449</td>\n",
       "      <td>0.067323</td>\n",
       "    </tr>\n",
       "    <tr>\n",
       "      <th>1</th>\n",
       "      <td>0.006124</td>\n",
       "      <td>{'metric': 'euclidean', 'n_neighbors': 6}</td>\n",
       "      <td>0.400490</td>\n",
       "      <td>0.052950</td>\n",
       "      <td>2</td>\n",
       "      <td>0.400490</td>\n",
       "      <td>0.052950</td>\n",
       "      <td>0.400490</td>\n",
       "      <td>0.052950</td>\n",
       "    </tr>\n",
       "    <tr>\n",
       "      <th>2</th>\n",
       "      <td>0.005360</td>\n",
       "      <td>{'metric': 'euclidean', 'n_neighbors': 9}</td>\n",
       "      <td>0.396490</td>\n",
       "      <td>0.035671</td>\n",
       "      <td>3</td>\n",
       "      <td>0.396490</td>\n",
       "      <td>0.035671</td>\n",
       "      <td>0.396490</td>\n",
       "      <td>0.035671</td>\n",
       "    </tr>\n",
       "    <tr>\n",
       "      <th>3</th>\n",
       "      <td>0.004845</td>\n",
       "      <td>{'metric': 'manhattan', 'n_neighbors': 3}</td>\n",
       "      <td>0.392286</td>\n",
       "      <td>0.052245</td>\n",
       "      <td>4</td>\n",
       "      <td>0.392286</td>\n",
       "      <td>0.052245</td>\n",
       "      <td>0.392286</td>\n",
       "      <td>0.052245</td>\n",
       "    </tr>\n",
       "    <tr>\n",
       "      <th>5</th>\n",
       "      <td>0.003482</td>\n",
       "      <td>{'metric': 'manhattan', 'n_neighbors': 9}</td>\n",
       "      <td>0.392041</td>\n",
       "      <td>0.079734</td>\n",
       "      <td>5</td>\n",
       "      <td>0.392041</td>\n",
       "      <td>0.079734</td>\n",
       "      <td>0.392041</td>\n",
       "      <td>0.079734</td>\n",
       "    </tr>\n",
       "    <tr>\n",
       "      <th>0</th>\n",
       "      <td>0.008561</td>\n",
       "      <td>{'metric': 'euclidean', 'n_neighbors': 3}</td>\n",
       "      <td>0.368041</td>\n",
       "      <td>0.066313</td>\n",
       "      <td>6</td>\n",
       "      <td>0.368041</td>\n",
       "      <td>0.066313</td>\n",
       "      <td>0.368041</td>\n",
       "      <td>0.066313</td>\n",
       "    </tr>\n",
       "  </tbody>\n",
       "</table>\n",
       "</div>"
      ],
      "text/plain": [
       "   mean_fit_time                                     params  \\\n",
       "4       0.004169  {'metric': 'manhattan', 'n_neighbors': 6}   \n",
       "1       0.006124  {'metric': 'euclidean', 'n_neighbors': 6}   \n",
       "2       0.005360  {'metric': 'euclidean', 'n_neighbors': 9}   \n",
       "3       0.004845  {'metric': 'manhattan', 'n_neighbors': 3}   \n",
       "5       0.003482  {'metric': 'manhattan', 'n_neighbors': 9}   \n",
       "0       0.008561  {'metric': 'euclidean', 'n_neighbors': 3}   \n",
       "\n",
       "   mean_test_accuracy  std_test_accuracy  rank_test_accuracy  \\\n",
       "4            0.402449           0.067323                   1   \n",
       "1            0.400490           0.052950                   2   \n",
       "2            0.396490           0.035671                   3   \n",
       "3            0.392286           0.052245                   4   \n",
       "5            0.392041           0.079734                   5   \n",
       "0            0.368041           0.066313                   6   \n",
       "\n",
       "   mean_test_precision  std_test_precision  mean_test_recall  std_test_recall  \n",
       "4             0.402449            0.067323          0.402449         0.067323  \n",
       "1             0.400490            0.052950          0.400490         0.052950  \n",
       "2             0.396490            0.035671          0.396490         0.035671  \n",
       "3             0.392286            0.052245          0.392286         0.052245  \n",
       "5             0.392041            0.079734          0.392041         0.079734  \n",
       "0             0.368041            0.066313          0.368041         0.066313  "
      ]
     },
     "execution_count": 99,
     "metadata": {},
     "output_type": "execute_result"
    }
   ],
   "source": [
    "df = pd.DataFrame(clf_kn.cv_results_)\n",
    "df.sort_values(by='rank_test_accuracy')[['mean_fit_time','params','mean_test_accuracy','std_test_accuracy','rank_test_accuracy',\n",
    "                                         'mean_test_precision','std_test_precision','mean_test_recall','std_test_recall']]"
   ]
  },
  {
   "cell_type": "code",
   "execution_count": 100,
   "metadata": {
    "colab": {
     "base_uri": "https://localhost:8080/",
     "height": 353
    },
    "id": "pxS5RbyEBIik",
    "outputId": "7b02b7e7-a8a3-4b27-c67a-a6c701407d6e"
   },
   "outputs": [
    {
     "data": {
      "image/png": "[encoded data removed]",
      "text/plain": [
       "<Figure size 432x288 with 1 Axes>"
      ]
     },
     "metadata": {},
     "output_type": "display_data"
    },
    {
     "name": "stdout",
     "output_type": "stream",
     "text": [
      "Precision: 0.353\n",
      "Recall: 0.353\n",
      "Accuracy: 0.353\n"
     ]
    }
   ],
   "source": [
    "y_test_pred_gnb = clf_kn.predict(X_test)\n",
    "cm_test = confusion_matrix(y_test, y_test_pred_gnb)\n",
    "\n",
    "sns.heatmap(cm_test.T, square=True, annot=True, fmt='d', cbar=False,\n",
    "            xticklabels= np.unique(y_test),\n",
    "            yticklabels= np.unique(y_test_pred_gnb))\n",
    "plt.xlabel('true label')\n",
    "plt.ylabel('predicted label');\n",
    "plt.title('Confusion Matrix Naive Bayes - Test Set')\n",
    "plt.show()\n",
    "\n",
    "print('Precision: %.3f' %(precision_score(y_test, y_test_pred,average='micro')))\n",
    "print('Recall: %.3f' %(recall_score(y_test, y_test_pred,average='micro')))\n",
    "print('Accuracy: %.3f' %(accuracy_score(y_test,y_test_pred)))"
   ]
  },
  {
   "cell_type": "markdown",
   "metadata": {
    "id": "WkaY1TdPBWq5"
   },
   "source": [
    "## 1.2.4. Support Vector Machine"
   ]
  },
  {
   "cell_type": "code",
   "execution_count": 101,
   "metadata": {
    "colab": {
     "base_uri": "https://localhost:8080/",
     "height": 394
    },
    "id": "8pdapudCBY81",
    "outputId": "2b7d6d99-b564-4bec-967f-302b2c3b0b9d"
   },
   "outputs": [
    {
     "name": "stderr",
     "output_type": "stream",
     "text": [
      "/home/bnt4me/.local/lib/python3.8/site-packages/sklearn/svm/_base.py:1199: ConvergenceWarning: Liblinear failed to converge, increase the number of iterations.\n",
      "  warnings.warn(\n"
     ]
    },
    {
     "data": {
      "text/plain": [
       "GridSearchCV(cv=10, estimator=LinearSVC(random_state=10), n_jobs=5,\n",
       "             param_grid={'C': [1, 2, 3, 5, 10, 15, 20, 30, 40, 60, 90, 320],\n",
       "                         'penalty': ['l2']},\n",
       "             refit='accuracy', return_train_score=True,\n",
       "             scoring={'accuracy': make_scorer(accuracy_score),\n",
       "                      'precision': make_scorer(precision_score, average=micro),\n",
       "                      'recall': make_scorer(recall_score, average=micro)})"
      ]
     },
     "execution_count": 101,
     "metadata": {},
     "output_type": "execute_result"
    }
   ],
   "source": [
    "from sklearn.model_selection import GridSearchCV\n",
    "from sklearn import svm\n",
    "from sklearn.model_selection import cross_val_score\n",
    "from sklearn.metrics import precision_score\n",
    "from sklearn.metrics import accuracy_score\n",
    "from sklearn.metrics import recall_score\n",
    "from sklearn.metrics import make_scorer\n",
    "\n",
    "param_grid =  {'penalty':['l2'],'C':[1,2,3,5,10,15,20,30,40,60,90, 320]}\n",
    "scores= {'accuracy':make_scorer(accuracy_score),'precision':make_scorer(precision_score,average='micro'),\n",
    "         'recall':make_scorer(recall_score,average='micro')}\n",
    "\n",
    "svc = svm.LinearSVC(random_state=10)\n",
    "clf_svc = GridSearchCV(svc, param_grid,cv=10,scoring=scores,\n",
    "                        refit='accuracy', return_train_score=True, n_jobs=5)\n",
    "clf_svc.fit(X_train_1, y_train_1) "
   ]
  },
  {
   "cell_type": "code",
   "execution_count": 102,
   "metadata": {
    "id": "Znx51o33BZIX"
   },
   "outputs": [
    {
     "name": "stdout",
     "output_type": "stream",
     "text": [
      "{'C': 1, 'penalty': 'l2'}\n"
     ]
    }
   ],
   "source": [
    "print(clf_svc.best_params_)"
   ]
  },
  {
   "cell_type": "code",
   "execution_count": 103,
   "metadata": {
    "id": "fpxVdnvyBZSM"
   },
   "outputs": [
    {
     "data": {
      "text/html": [
       "<div>\n",
       "<style scoped>\n",
       "    .dataframe tbody tr th:only-of-type {\n",
       "        vertical-align: middle;\n",
       "    }\n",
       "\n",
       "    .dataframe tbody tr th {\n",
       "        vertical-align: top;\n",
       "    }\n",
       "\n",
       "    .dataframe thead th {\n",
       "        text-align: right;\n",
       "    }\n",
       "</style>\n",
       "<table border=\"1\" class=\"dataframe\">\n",
       "  <thead>\n",
       "    <tr style=\"text-align: right;\">\n",
       "      <th></th>\n",
       "      <th>mean_fit_time</th>\n",
       "      <th>params</th>\n",
       "      <th>mean_test_accuracy</th>\n",
       "      <th>std_test_accuracy</th>\n",
       "      <th>rank_test_accuracy</th>\n",
       "      <th>mean_test_precision</th>\n",
       "      <th>std_test_precision</th>\n",
       "      <th>mean_test_recall</th>\n",
       "      <th>std_test_recall</th>\n",
       "    </tr>\n",
       "  </thead>\n",
       "  <tbody>\n",
       "    <tr>\n",
       "      <th>0</th>\n",
       "      <td>0.632853</td>\n",
       "      <td>{'C': 1, 'penalty': 'l2'}</td>\n",
       "      <td>0.396245</td>\n",
       "      <td>0.048407</td>\n",
       "      <td>1</td>\n",
       "      <td>0.396245</td>\n",
       "      <td>0.048407</td>\n",
       "      <td>0.396245</td>\n",
       "      <td>0.048407</td>\n",
       "    </tr>\n",
       "    <tr>\n",
       "      <th>1</th>\n",
       "      <td>0.625302</td>\n",
       "      <td>{'C': 2, 'penalty': 'l2'}</td>\n",
       "      <td>0.396245</td>\n",
       "      <td>0.048407</td>\n",
       "      <td>1</td>\n",
       "      <td>0.396245</td>\n",
       "      <td>0.048407</td>\n",
       "      <td>0.396245</td>\n",
       "      <td>0.048407</td>\n",
       "    </tr>\n",
       "    <tr>\n",
       "      <th>2</th>\n",
       "      <td>0.622350</td>\n",
       "      <td>{'C': 3, 'penalty': 'l2'}</td>\n",
       "      <td>0.396245</td>\n",
       "      <td>0.048407</td>\n",
       "      <td>1</td>\n",
       "      <td>0.396245</td>\n",
       "      <td>0.048407</td>\n",
       "      <td>0.396245</td>\n",
       "      <td>0.048407</td>\n",
       "    </tr>\n",
       "    <tr>\n",
       "      <th>3</th>\n",
       "      <td>0.615169</td>\n",
       "      <td>{'C': 5, 'penalty': 'l2'}</td>\n",
       "      <td>0.396245</td>\n",
       "      <td>0.048407</td>\n",
       "      <td>1</td>\n",
       "      <td>0.396245</td>\n",
       "      <td>0.048407</td>\n",
       "      <td>0.396245</td>\n",
       "      <td>0.048407</td>\n",
       "    </tr>\n",
       "    <tr>\n",
       "      <th>4</th>\n",
       "      <td>0.616377</td>\n",
       "      <td>{'C': 10, 'penalty': 'l2'}</td>\n",
       "      <td>0.396245</td>\n",
       "      <td>0.048407</td>\n",
       "      <td>1</td>\n",
       "      <td>0.396245</td>\n",
       "      <td>0.048407</td>\n",
       "      <td>0.396245</td>\n",
       "      <td>0.048407</td>\n",
       "    </tr>\n",
       "    <tr>\n",
       "      <th>5</th>\n",
       "      <td>0.634758</td>\n",
       "      <td>{'C': 15, 'penalty': 'l2'}</td>\n",
       "      <td>0.396245</td>\n",
       "      <td>0.048407</td>\n",
       "      <td>1</td>\n",
       "      <td>0.396245</td>\n",
       "      <td>0.048407</td>\n",
       "      <td>0.396245</td>\n",
       "      <td>0.048407</td>\n",
       "    </tr>\n",
       "    <tr>\n",
       "      <th>6</th>\n",
       "      <td>0.616007</td>\n",
       "      <td>{'C': 20, 'penalty': 'l2'}</td>\n",
       "      <td>0.396245</td>\n",
       "      <td>0.048407</td>\n",
       "      <td>1</td>\n",
       "      <td>0.396245</td>\n",
       "      <td>0.048407</td>\n",
       "      <td>0.396245</td>\n",
       "      <td>0.048407</td>\n",
       "    </tr>\n",
       "    <tr>\n",
       "      <th>7</th>\n",
       "      <td>0.630895</td>\n",
       "      <td>{'C': 30, 'penalty': 'l2'}</td>\n",
       "      <td>0.396245</td>\n",
       "      <td>0.048407</td>\n",
       "      <td>1</td>\n",
       "      <td>0.396245</td>\n",
       "      <td>0.048407</td>\n",
       "      <td>0.396245</td>\n",
       "      <td>0.048407</td>\n",
       "    </tr>\n",
       "    <tr>\n",
       "      <th>8</th>\n",
       "      <td>0.624804</td>\n",
       "      <td>{'C': 40, 'penalty': 'l2'}</td>\n",
       "      <td>0.396245</td>\n",
       "      <td>0.048407</td>\n",
       "      <td>1</td>\n",
       "      <td>0.396245</td>\n",
       "      <td>0.048407</td>\n",
       "      <td>0.396245</td>\n",
       "      <td>0.048407</td>\n",
       "    </tr>\n",
       "    <tr>\n",
       "      <th>9</th>\n",
       "      <td>0.608447</td>\n",
       "      <td>{'C': 60, 'penalty': 'l2'}</td>\n",
       "      <td>0.396245</td>\n",
       "      <td>0.048407</td>\n",
       "      <td>1</td>\n",
       "      <td>0.396245</td>\n",
       "      <td>0.048407</td>\n",
       "      <td>0.396245</td>\n",
       "      <td>0.048407</td>\n",
       "    </tr>\n",
       "    <tr>\n",
       "      <th>10</th>\n",
       "      <td>0.632433</td>\n",
       "      <td>{'C': 90, 'penalty': 'l2'}</td>\n",
       "      <td>0.396245</td>\n",
       "      <td>0.048407</td>\n",
       "      <td>1</td>\n",
       "      <td>0.396245</td>\n",
       "      <td>0.048407</td>\n",
       "      <td>0.396245</td>\n",
       "      <td>0.048407</td>\n",
       "    </tr>\n",
       "    <tr>\n",
       "      <th>11</th>\n",
       "      <td>0.626055</td>\n",
       "      <td>{'C': 320, 'penalty': 'l2'}</td>\n",
       "      <td>0.396245</td>\n",
       "      <td>0.048407</td>\n",
       "      <td>1</td>\n",
       "      <td>0.396245</td>\n",
       "      <td>0.048407</td>\n",
       "      <td>0.396245</td>\n",
       "      <td>0.048407</td>\n",
       "    </tr>\n",
       "  </tbody>\n",
       "</table>\n",
       "</div>"
      ],
      "text/plain": [
       "    mean_fit_time                       params  mean_test_accuracy  \\\n",
       "0        0.632853    {'C': 1, 'penalty': 'l2'}            0.396245   \n",
       "1        0.625302    {'C': 2, 'penalty': 'l2'}            0.396245   \n",
       "2        0.622350    {'C': 3, 'penalty': 'l2'}            0.396245   \n",
       "3        0.615169    {'C': 5, 'penalty': 'l2'}            0.396245   \n",
       "4        0.616377   {'C': 10, 'penalty': 'l2'}            0.396245   \n",
       "5        0.634758   {'C': 15, 'penalty': 'l2'}            0.396245   \n",
       "6        0.616007   {'C': 20, 'penalty': 'l2'}            0.396245   \n",
       "7        0.630895   {'C': 30, 'penalty': 'l2'}            0.396245   \n",
       "8        0.624804   {'C': 40, 'penalty': 'l2'}            0.396245   \n",
       "9        0.608447   {'C': 60, 'penalty': 'l2'}            0.396245   \n",
       "10       0.632433   {'C': 90, 'penalty': 'l2'}            0.396245   \n",
       "11       0.626055  {'C': 320, 'penalty': 'l2'}            0.396245   \n",
       "\n",
       "    std_test_accuracy  rank_test_accuracy  mean_test_precision  \\\n",
       "0            0.048407                   1             0.396245   \n",
       "1            0.048407                   1             0.396245   \n",
       "2            0.048407                   1             0.396245   \n",
       "3            0.048407                   1             0.396245   \n",
       "4            0.048407                   1             0.396245   \n",
       "5            0.048407                   1             0.396245   \n",
       "6            0.048407                   1             0.396245   \n",
       "7            0.048407                   1             0.396245   \n",
       "8            0.048407                   1             0.396245   \n",
       "9            0.048407                   1             0.396245   \n",
       "10           0.048407                   1             0.396245   \n",
       "11           0.048407                   1             0.396245   \n",
       "\n",
       "    std_test_precision  mean_test_recall  std_test_recall  \n",
       "0             0.048407          0.396245         0.048407  \n",
       "1             0.048407          0.396245         0.048407  \n",
       "2             0.048407          0.396245         0.048407  \n",
       "3             0.048407          0.396245         0.048407  \n",
       "4             0.048407          0.396245         0.048407  \n",
       "5             0.048407          0.396245         0.048407  \n",
       "6             0.048407          0.396245         0.048407  \n",
       "7             0.048407          0.396245         0.048407  \n",
       "8             0.048407          0.396245         0.048407  \n",
       "9             0.048407          0.396245         0.048407  \n",
       "10            0.048407          0.396245         0.048407  \n",
       "11            0.048407          0.396245         0.048407  "
      ]
     },
     "execution_count": 103,
     "metadata": {},
     "output_type": "execute_result"
    }
   ],
   "source": [
    "df = pd.DataFrame(clf_svc.cv_results_)\n",
    "df.sort_values(by='rank_test_accuracy')[['mean_fit_time','params','mean_test_accuracy','std_test_accuracy','rank_test_accuracy',\n",
    "                                         'mean_test_precision','std_test_precision','mean_test_recall','std_test_recall']]"
   ]
  },
  {
   "cell_type": "code",
   "execution_count": 104,
   "metadata": {
    "id": "qv9d0VLoBesU"
   },
   "outputs": [
    {
     "data": {
      "image/png": "[encoded data removed]",
      "text/plain": [
       "<Figure size 432x288 with 1 Axes>"
      ]
     },
     "metadata": {},
     "output_type": "display_data"
    },
    {
     "name": "stdout",
     "output_type": "stream",
     "text": [
      "Precision: 0.346\n",
      "Recall: 0.346\n",
      "Accuracy: 0.346\n"
     ]
    }
   ],
   "source": [
    "%matplotlib inline\n",
    "import seaborn as sns; sns.set()\n",
    "from sklearn.metrics import confusion_matrix\n",
    "import matplotlib.pyplot as plt\n",
    "\n",
    "y_test_pred = clf_svc.predict(X_test)\n",
    "cm_test = confusion_matrix(y_test, y_test_pred)\n",
    "\n",
    "sns.heatmap(cm_test.T, square=True, annot=True, fmt='d', cbar=False,\n",
    "            xticklabels= np.unique(y_test),\n",
    "            yticklabels= np.unique(y_test_pred))\n",
    "plt.xlabel('true label')\n",
    "plt.ylabel('predicted label');\n",
    "plt.title('Confusion Matrix DT - Test Set')\n",
    "plt.show()\n",
    "\n",
    "print('Precision: %.3f' %(precision_score(y_test, y_test_pred,average='micro')))\n",
    "print('Recall: %.3f' %(recall_score(y_test, y_test_pred,average='micro')))\n",
    "print('Accuracy: %.3f' %(accuracy_score(y_test,y_test_pred)))"
   ]
  },
  {
   "cell_type": "markdown",
   "metadata": {
    "id": "ZJ4qyaklX3aI"
   },
   "source": [
    "# Ensemble method:\n"
   ]
  },
  {
   "cell_type": "markdown",
   "metadata": {
    "id": "S8iK8hEtRBHL"
   },
   "source": [
    "## 1.2.5. Voting clasifier"
   ]
  },
  {
   "cell_type": "code",
   "execution_count": 120,
   "metadata": {
    "colab": {
     "base_uri": "https://localhost:8080/"
    },
    "id": "zsG9r-BOX97j",
    "outputId": "4afadd70-1d73-4cfb-ea34-609f5740daca"
   },
   "outputs": [
    {
     "name": "stderr",
     "output_type": "stream",
     "text": [
      "/home/bnt4me/.local/lib/python3.8/site-packages/sklearn/svm/_base.py:1199: ConvergenceWarning: Liblinear failed to converge, increase the number of iterations.\n",
      "  warnings.warn(\n"
     ]
    }
   ],
   "source": [
    "from sklearn.ensemble import VotingClassifier\n",
    "\n",
    "from sklearn import svm\n",
    "from sklearn.tree import DecisionTreeClassifier\n",
    "from sklearn.neighbors import KNeighborsClassifier\n",
    "from sklearn.neural_network import MLPClassifier\n",
    "\n",
    "\n",
    "classif_model_1 = DecisionTreeClassifier(random_state=15, criterion= 'gini', max_depth= 10)\n",
    "\n",
    "classif_model_2 = MLPClassifier(random_state=1, max_iter=300, activation= 'relu', alpha= 0.0001)\n",
    "\n",
    "classif_model_3 = svm.LinearSVC(random_state=1, C= 1, penalty= 'l2')\n",
    "\n",
    "classif_model_4 = KNeighborsClassifier(metric= 'manhattan', n_neighbors= 3, \n",
    "                                       weights= 'distance',n_jobs=4)\n",
    "\n",
    "ereg = VotingClassifier(estimators=[('DT', classif_model_1), ('NN', classif_model_2),\n",
    "                                    ('SVC', classif_model_3), ('KNN', classif_model_4)])\n",
    "ereg = ereg.fit(X_train_1, y_train_1)"
   ]
  },
  {
   "cell_type": "code",
   "execution_count": 121,
   "metadata": {
    "colab": {
     "base_uri": "https://localhost:8080/"
    },
    "id": "uJlRsoEyY1uE",
    "outputId": "d1b09acc-5185-4732-80ee-2dbe71c786d6"
   },
   "outputs": [
    {
     "name": "stdout",
     "output_type": "stream",
     "text": [
      "Classification report:\n",
      "              precision    recall  f1-score   support\n",
      "\n",
      "           0       0.20      0.51      0.28        47\n",
      "           1       0.57      0.21      0.31       172\n",
      "           2       0.30      0.44      0.36        73\n",
      "\n",
      "    accuracy                           0.32       292\n",
      "   macro avg       0.36      0.39      0.32       292\n",
      "weighted avg       0.44      0.32      0.32       292\n",
      "\n",
      "\n"
     ]
    }
   ],
   "source": [
    "from sklearn.metrics import classification_report\n",
    "\n",
    "y_pred_rf = ereg .predict(X_test)\n",
    "\n",
    "print('Classification report:\\n{0}\\n'.format(classification_report(y_test, y_pred_rf)))"
   ]
  },
  {
   "cell_type": "code",
   "execution_count": 122,
   "metadata": {
    "colab": {
     "base_uri": "https://localhost:8080/",
     "height": 302
    },
    "id": "6Taud8ohY-Pf",
    "outputId": "9f256008-6c8a-423d-8b5a-4fad0f68b32e"
   },
   "outputs": [
    {
     "data": {
      "image/png": "[encoded data removed]",
      "text/plain": [
       "<Figure size 432x288 with 1 Axes>"
      ]
     },
     "metadata": {},
     "output_type": "display_data"
    }
   ],
   "source": [
    "%matplotlib inline\n",
    "import seaborn as sns; sns.set()\n",
    "from sklearn.metrics import confusion_matrix\n",
    "import matplotlib.pyplot as plt\n",
    "\n",
    "y_test_pred = ereg.predict(X_test)\n",
    "cm_test = confusion_matrix(y_test, y_test_pred)\n",
    "\n",
    "sns.heatmap(cm_test.T, square=True, annot=True, fmt='d', cbar=False,\n",
    "            xticklabels= np.unique(y_test),\n",
    "            yticklabels= np.unique(y_test_pred))\n",
    "plt.xlabel('true label')\n",
    "plt.ylabel('predicted label');\n",
    "plt.title('Confusion Voting Classifier - Test Set')\n",
    "plt.show()"
   ]
  },
  {
   "cell_type": "markdown",
   "metadata": {
    "id": "aOCHnxONRGe3"
   },
   "source": [
    "## 1.2.6. XGBoost"
   ]
  },
  {
   "cell_type": "code",
   "execution_count": 123,
   "metadata": {
    "colab": {
     "base_uri": "https://localhost:8080/"
    },
    "id": "Bg9sxFBjy4Qa",
    "outputId": "8a215b8e-55f2-418e-b6fb-f0610dd058d3"
   },
   "outputs": [
    {
     "name": "stderr",
     "output_type": "stream",
     "text": [
      "/home/bnt4me/.local/lib/python3.8/site-packages/sklearn/tree/_classes.py:359: FutureWarning: Criterion 'mse' was deprecated in v1.0 and will be removed in version 1.2. Use `criterion='squared_error'` which is equivalent.\n",
      "  warnings.warn(\n",
      "/home/bnt4me/.local/lib/python3.8/site-packages/sklearn/tree/_classes.py:359: FutureWarning: Criterion 'mse' was deprecated in v1.0 and will be removed in version 1.2. Use `criterion='squared_error'` which is equivalent.\n",
      "  warnings.warn(\n",
      "/home/bnt4me/.local/lib/python3.8/site-packages/sklearn/tree/_classes.py:359: FutureWarning: Criterion 'mse' was deprecated in v1.0 and will be removed in version 1.2. Use `criterion='squared_error'` which is equivalent.\n",
      "  warnings.warn(\n",
      "/home/bnt4me/.local/lib/python3.8/site-packages/sklearn/tree/_classes.py:359: FutureWarning: Criterion 'mse' was deprecated in v1.0 and will be removed in version 1.2. Use `criterion='squared_error'` which is equivalent.\n",
      "  warnings.warn(\n",
      "/home/bnt4me/.local/lib/python3.8/site-packages/sklearn/tree/_classes.py:359: FutureWarning: Criterion 'mse' was deprecated in v1.0 and will be removed in version 1.2. Use `criterion='squared_error'` which is equivalent.\n",
      "  warnings.warn(\n",
      "/home/bnt4me/.local/lib/python3.8/site-packages/sklearn/tree/_classes.py:359: FutureWarning: Criterion 'mse' was deprecated in v1.0 and will be removed in version 1.2. Use `criterion='squared_error'` which is equivalent.\n",
      "  warnings.warn(\n",
      "/home/bnt4me/.local/lib/python3.8/site-packages/sklearn/tree/_classes.py:359: FutureWarning: Criterion 'mse' was deprecated in v1.0 and will be removed in version 1.2. Use `criterion='squared_error'` which is equivalent.\n",
      "  warnings.warn(\n",
      "/home/bnt4me/.local/lib/python3.8/site-packages/sklearn/tree/_classes.py:359: FutureWarning: Criterion 'mse' was deprecated in v1.0 and will be removed in version 1.2. Use `criterion='squared_error'` which is equivalent.\n",
      "  warnings.warn(\n",
      "/home/bnt4me/.local/lib/python3.8/site-packages/sklearn/tree/_classes.py:359: FutureWarning: Criterion 'mse' was deprecated in v1.0 and will be removed in version 1.2. Use `criterion='squared_error'` which is equivalent.\n",
      "  warnings.warn(\n",
      "/home/bnt4me/.local/lib/python3.8/site-packages/sklearn/tree/_classes.py:359: FutureWarning: Criterion 'mse' was deprecated in v1.0 and will be removed in version 1.2. Use `criterion='squared_error'` which is equivalent.\n",
      "  warnings.warn(\n",
      "/home/bnt4me/.local/lib/python3.8/site-packages/sklearn/tree/_classes.py:359: FutureWarning: Criterion 'mse' was deprecated in v1.0 and will be removed in version 1.2. Use `criterion='squared_error'` which is equivalent.\n",
      "  warnings.warn(\n",
      "/home/bnt4me/.local/lib/python3.8/site-packages/sklearn/tree/_classes.py:359: FutureWarning: Criterion 'mse' was deprecated in v1.0 and will be removed in version 1.2. Use `criterion='squared_error'` which is equivalent.\n",
      "  warnings.warn(\n",
      "/home/bnt4me/.local/lib/python3.8/site-packages/sklearn/tree/_classes.py:359: FutureWarning: Criterion 'mse' was deprecated in v1.0 and will be removed in version 1.2. Use `criterion='squared_error'` which is equivalent.\n",
      "  warnings.warn(\n",
      "/home/bnt4me/.local/lib/python3.8/site-packages/sklearn/tree/_classes.py:359: FutureWarning: Criterion 'mse' was deprecated in v1.0 and will be removed in version 1.2. Use `criterion='squared_error'` which is equivalent.\n",
      "  warnings.warn(\n",
      "/home/bnt4me/.local/lib/python3.8/site-packages/sklearn/tree/_classes.py:359: FutureWarning: Criterion 'mse' was deprecated in v1.0 and will be removed in version 1.2. Use `criterion='squared_error'` which is equivalent.\n",
      "  warnings.warn(\n",
      "/home/bnt4me/.local/lib/python3.8/site-packages/sklearn/tree/_classes.py:359: FutureWarning: Criterion 'mse' was deprecated in v1.0 and will be removed in version 1.2. Use `criterion='squared_error'` which is equivalent.\n",
      "  warnings.warn(\n",
      "/home/bnt4me/.local/lib/python3.8/site-packages/sklearn/tree/_classes.py:359: FutureWarning: Criterion 'mse' was deprecated in v1.0 and will be removed in version 1.2. Use `criterion='squared_error'` which is equivalent.\n",
      "  warnings.warn(\n",
      "/home/bnt4me/.local/lib/python3.8/site-packages/sklearn/tree/_classes.py:359: FutureWarning: Criterion 'mse' was deprecated in v1.0 and will be removed in version 1.2. Use `criterion='squared_error'` which is equivalent.\n",
      "  warnings.warn(\n",
      "/home/bnt4me/.local/lib/python3.8/site-packages/sklearn/tree/_classes.py:359: FutureWarning: Criterion 'mse' was deprecated in v1.0 and will be removed in version 1.2. Use `criterion='squared_error'` which is equivalent.\n",
      "  warnings.warn(\n",
      "/home/bnt4me/.local/lib/python3.8/site-packages/sklearn/tree/_classes.py:359: FutureWarning: Criterion 'mse' was deprecated in v1.0 and will be removed in version 1.2. Use `criterion='squared_error'` which is equivalent.\n",
      "  warnings.warn(\n",
      "/home/bnt4me/.local/lib/python3.8/site-packages/sklearn/tree/_classes.py:359: FutureWarning: Criterion 'mse' was deprecated in v1.0 and will be removed in version 1.2. Use `criterion='squared_error'` which is equivalent.\n",
      "  warnings.warn(\n",
      "/home/bnt4me/.local/lib/python3.8/site-packages/sklearn/tree/_classes.py:359: FutureWarning: Criterion 'mse' was deprecated in v1.0 and will be removed in version 1.2. Use `criterion='squared_error'` which is equivalent.\n",
      "  warnings.warn(\n",
      "/home/bnt4me/.local/lib/python3.8/site-packages/sklearn/tree/_classes.py:359: FutureWarning: Criterion 'mse' was deprecated in v1.0 and will be removed in version 1.2. Use `criterion='squared_error'` which is equivalent.\n",
      "  warnings.warn(\n",
      "/home/bnt4me/.local/lib/python3.8/site-packages/sklearn/tree/_classes.py:359: FutureWarning: Criterion 'mse' was deprecated in v1.0 and will be removed in version 1.2. Use `criterion='squared_error'` which is equivalent.\n",
      "  warnings.warn(\n",
      "/home/bnt4me/.local/lib/python3.8/site-packages/sklearn/tree/_classes.py:359: FutureWarning: Criterion 'mse' was deprecated in v1.0 and will be removed in version 1.2. Use `criterion='squared_error'` which is equivalent.\n",
      "  warnings.warn(\n",
      "/home/bnt4me/.local/lib/python3.8/site-packages/sklearn/tree/_classes.py:359: FutureWarning: Criterion 'mse' was deprecated in v1.0 and will be removed in version 1.2. Use `criterion='squared_error'` which is equivalent.\n",
      "  warnings.warn(\n",
      "/home/bnt4me/.local/lib/python3.8/site-packages/sklearn/tree/_classes.py:359: FutureWarning: Criterion 'mse' was deprecated in v1.0 and will be removed in version 1.2. Use `criterion='squared_error'` which is equivalent.\n",
      "  warnings.warn(\n",
      "/home/bnt4me/.local/lib/python3.8/site-packages/sklearn/tree/_classes.py:359: FutureWarning: Criterion 'mse' was deprecated in v1.0 and will be removed in version 1.2. Use `criterion='squared_error'` which is equivalent.\n",
      "  warnings.warn(\n",
      "/home/bnt4me/.local/lib/python3.8/site-packages/sklearn/tree/_classes.py:359: FutureWarning: Criterion 'mse' was deprecated in v1.0 and will be removed in version 1.2. Use `criterion='squared_error'` which is equivalent.\n",
      "  warnings.warn(\n",
      "/home/bnt4me/.local/lib/python3.8/site-packages/sklearn/tree/_classes.py:359: FutureWarning: Criterion 'mse' was deprecated in v1.0 and will be removed in version 1.2. Use `criterion='squared_error'` which is equivalent.\n",
      "  warnings.warn(\n",
      "/home/bnt4me/.local/lib/python3.8/site-packages/sklearn/tree/_classes.py:359: FutureWarning: Criterion 'mse' was deprecated in v1.0 and will be removed in version 1.2. Use `criterion='squared_error'` which is equivalent.\n",
      "  warnings.warn(\n",
      "/home/bnt4me/.local/lib/python3.8/site-packages/sklearn/tree/_classes.py:359: FutureWarning: Criterion 'mse' was deprecated in v1.0 and will be removed in version 1.2. Use `criterion='squared_error'` which is equivalent.\n",
      "  warnings.warn(\n",
      "/home/bnt4me/.local/lib/python3.8/site-packages/sklearn/tree/_classes.py:359: FutureWarning: Criterion 'mse' was deprecated in v1.0 and will be removed in version 1.2. Use `criterion='squared_error'` which is equivalent.\n",
      "  warnings.warn(\n",
      "/home/bnt4me/.local/lib/python3.8/site-packages/sklearn/tree/_classes.py:359: FutureWarning: Criterion 'mse' was deprecated in v1.0 and will be removed in version 1.2. Use `criterion='squared_error'` which is equivalent.\n",
      "  warnings.warn(\n",
      "/home/bnt4me/.local/lib/python3.8/site-packages/sklearn/tree/_classes.py:359: FutureWarning: Criterion 'mse' was deprecated in v1.0 and will be removed in version 1.2. Use `criterion='squared_error'` which is equivalent.\n",
      "  warnings.warn(\n",
      "/home/bnt4me/.local/lib/python3.8/site-packages/sklearn/tree/_classes.py:359: FutureWarning: Criterion 'mse' was deprecated in v1.0 and will be removed in version 1.2. Use `criterion='squared_error'` which is equivalent.\n",
      "  warnings.warn(\n",
      "/home/bnt4me/.local/lib/python3.8/site-packages/sklearn/tree/_classes.py:359: FutureWarning: Criterion 'mse' was deprecated in v1.0 and will be removed in version 1.2. Use `criterion='squared_error'` which is equivalent.\n",
      "  warnings.warn(\n",
      "/home/bnt4me/.local/lib/python3.8/site-packages/sklearn/tree/_classes.py:359: FutureWarning: Criterion 'mse' was deprecated in v1.0 and will be removed in version 1.2. Use `criterion='squared_error'` which is equivalent.\n",
      "  warnings.warn(\n",
      "/home/bnt4me/.local/lib/python3.8/site-packages/sklearn/tree/_classes.py:359: FutureWarning: Criterion 'mse' was deprecated in v1.0 and will be removed in version 1.2. Use `criterion='squared_error'` which is equivalent.\n",
      "  warnings.warn(\n",
      "/home/bnt4me/.local/lib/python3.8/site-packages/sklearn/tree/_classes.py:359: FutureWarning: Criterion 'mse' was deprecated in v1.0 and will be removed in version 1.2. Use `criterion='squared_error'` which is equivalent.\n",
      "  warnings.warn(\n",
      "/home/bnt4me/.local/lib/python3.8/site-packages/sklearn/tree/_classes.py:359: FutureWarning: Criterion 'mse' was deprecated in v1.0 and will be removed in version 1.2. Use `criterion='squared_error'` which is equivalent.\n",
      "  warnings.warn(\n",
      "/home/bnt4me/.local/lib/python3.8/site-packages/sklearn/tree/_classes.py:359: FutureWarning: Criterion 'mse' was deprecated in v1.0 and will be removed in version 1.2. Use `criterion='squared_error'` which is equivalent.\n",
      "  warnings.warn(\n",
      "/home/bnt4me/.local/lib/python3.8/site-packages/sklearn/tree/_classes.py:359: FutureWarning: Criterion 'mse' was deprecated in v1.0 and will be removed in version 1.2. Use `criterion='squared_error'` which is equivalent.\n",
      "  warnings.warn(\n",
      "/home/bnt4me/.local/lib/python3.8/site-packages/sklearn/tree/_classes.py:359: FutureWarning: Criterion 'mse' was deprecated in v1.0 and will be removed in version 1.2. Use `criterion='squared_error'` which is equivalent.\n",
      "  warnings.warn(\n",
      "/home/bnt4me/.local/lib/python3.8/site-packages/sklearn/tree/_classes.py:359: FutureWarning: Criterion 'mse' was deprecated in v1.0 and will be removed in version 1.2. Use `criterion='squared_error'` which is equivalent.\n",
      "  warnings.warn(\n",
      "/home/bnt4me/.local/lib/python3.8/site-packages/sklearn/tree/_classes.py:359: FutureWarning: Criterion 'mse' was deprecated in v1.0 and will be removed in version 1.2. Use `criterion='squared_error'` which is equivalent.\n",
      "  warnings.warn(\n",
      "/home/bnt4me/.local/lib/python3.8/site-packages/sklearn/tree/_classes.py:359: FutureWarning: Criterion 'mse' was deprecated in v1.0 and will be removed in version 1.2. Use `criterion='squared_error'` which is equivalent.\n",
      "  warnings.warn(\n",
      "/home/bnt4me/.local/lib/python3.8/site-packages/sklearn/tree/_classes.py:359: FutureWarning: Criterion 'mse' was deprecated in v1.0 and will be removed in version 1.2. Use `criterion='squared_error'` which is equivalent.\n",
      "  warnings.warn(\n",
      "/home/bnt4me/.local/lib/python3.8/site-packages/sklearn/tree/_classes.py:359: FutureWarning: Criterion 'mse' was deprecated in v1.0 and will be removed in version 1.2. Use `criterion='squared_error'` which is equivalent.\n",
      "  warnings.warn(\n",
      "/home/bnt4me/.local/lib/python3.8/site-packages/sklearn/tree/_classes.py:359: FutureWarning: Criterion 'mse' was deprecated in v1.0 and will be removed in version 1.2. Use `criterion='squared_error'` which is equivalent.\n",
      "  warnings.warn(\n",
      "/home/bnt4me/.local/lib/python3.8/site-packages/sklearn/tree/_classes.py:359: FutureWarning: Criterion 'mse' was deprecated in v1.0 and will be removed in version 1.2. Use `criterion='squared_error'` which is equivalent.\n",
      "  warnings.warn(\n",
      "/home/bnt4me/.local/lib/python3.8/site-packages/sklearn/tree/_classes.py:359: FutureWarning: Criterion 'mse' was deprecated in v1.0 and will be removed in version 1.2. Use `criterion='squared_error'` which is equivalent.\n",
      "  warnings.warn(\n",
      "/home/bnt4me/.local/lib/python3.8/site-packages/sklearn/tree/_classes.py:359: FutureWarning: Criterion 'mse' was deprecated in v1.0 and will be removed in version 1.2. Use `criterion='squared_error'` which is equivalent.\n",
      "  warnings.warn(\n",
      "/home/bnt4me/.local/lib/python3.8/site-packages/sklearn/tree/_classes.py:359: FutureWarning: Criterion 'mse' was deprecated in v1.0 and will be removed in version 1.2. Use `criterion='squared_error'` which is equivalent.\n",
      "  warnings.warn(\n",
      "/home/bnt4me/.local/lib/python3.8/site-packages/sklearn/tree/_classes.py:359: FutureWarning: Criterion 'mse' was deprecated in v1.0 and will be removed in version 1.2. Use `criterion='squared_error'` which is equivalent.\n",
      "  warnings.warn(\n",
      "/home/bnt4me/.local/lib/python3.8/site-packages/sklearn/tree/_classes.py:359: FutureWarning: Criterion 'mse' was deprecated in v1.0 and will be removed in version 1.2. Use `criterion='squared_error'` which is equivalent.\n",
      "  warnings.warn(\n",
      "/home/bnt4me/.local/lib/python3.8/site-packages/sklearn/tree/_classes.py:359: FutureWarning: Criterion 'mse' was deprecated in v1.0 and will be removed in version 1.2. Use `criterion='squared_error'` which is equivalent.\n",
      "  warnings.warn(\n",
      "/home/bnt4me/.local/lib/python3.8/site-packages/sklearn/tree/_classes.py:359: FutureWarning: Criterion 'mse' was deprecated in v1.0 and will be removed in version 1.2. Use `criterion='squared_error'` which is equivalent.\n",
      "  warnings.warn(\n",
      "/home/bnt4me/.local/lib/python3.8/site-packages/sklearn/tree/_classes.py:359: FutureWarning: Criterion 'mse' was deprecated in v1.0 and will be removed in version 1.2. Use `criterion='squared_error'` which is equivalent.\n",
      "  warnings.warn(\n",
      "/home/bnt4me/.local/lib/python3.8/site-packages/sklearn/tree/_classes.py:359: FutureWarning: Criterion 'mse' was deprecated in v1.0 and will be removed in version 1.2. Use `criterion='squared_error'` which is equivalent.\n",
      "  warnings.warn(\n",
      "/home/bnt4me/.local/lib/python3.8/site-packages/sklearn/tree/_classes.py:359: FutureWarning: Criterion 'mse' was deprecated in v1.0 and will be removed in version 1.2. Use `criterion='squared_error'` which is equivalent.\n",
      "  warnings.warn(\n",
      "/home/bnt4me/.local/lib/python3.8/site-packages/sklearn/tree/_classes.py:359: FutureWarning: Criterion 'mse' was deprecated in v1.0 and will be removed in version 1.2. Use `criterion='squared_error'` which is equivalent.\n",
      "  warnings.warn(\n",
      "/home/bnt4me/.local/lib/python3.8/site-packages/sklearn/tree/_classes.py:359: FutureWarning: Criterion 'mse' was deprecated in v1.0 and will be removed in version 1.2. Use `criterion='squared_error'` which is equivalent.\n",
      "  warnings.warn(\n",
      "/home/bnt4me/.local/lib/python3.8/site-packages/sklearn/tree/_classes.py:359: FutureWarning: Criterion 'mse' was deprecated in v1.0 and will be removed in version 1.2. Use `criterion='squared_error'` which is equivalent.\n",
      "  warnings.warn(\n",
      "/home/bnt4me/.local/lib/python3.8/site-packages/sklearn/tree/_classes.py:359: FutureWarning: Criterion 'mse' was deprecated in v1.0 and will be removed in version 1.2. Use `criterion='squared_error'` which is equivalent.\n",
      "  warnings.warn(\n",
      "/home/bnt4me/.local/lib/python3.8/site-packages/sklearn/tree/_classes.py:359: FutureWarning: Criterion 'mse' was deprecated in v1.0 and will be removed in version 1.2. Use `criterion='squared_error'` which is equivalent.\n",
      "  warnings.warn(\n",
      "/home/bnt4me/.local/lib/python3.8/site-packages/sklearn/tree/_classes.py:359: FutureWarning: Criterion 'mse' was deprecated in v1.0 and will be removed in version 1.2. Use `criterion='squared_error'` which is equivalent.\n",
      "  warnings.warn(\n",
      "/home/bnt4me/.local/lib/python3.8/site-packages/sklearn/tree/_classes.py:359: FutureWarning: Criterion 'mse' was deprecated in v1.0 and will be removed in version 1.2. Use `criterion='squared_error'` which is equivalent.\n",
      "  warnings.warn(\n",
      "/home/bnt4me/.local/lib/python3.8/site-packages/sklearn/tree/_classes.py:359: FutureWarning: Criterion 'mse' was deprecated in v1.0 and will be removed in version 1.2. Use `criterion='squared_error'` which is equivalent.\n",
      "  warnings.warn(\n",
      "/home/bnt4me/.local/lib/python3.8/site-packages/sklearn/tree/_classes.py:359: FutureWarning: Criterion 'mse' was deprecated in v1.0 and will be removed in version 1.2. Use `criterion='squared_error'` which is equivalent.\n",
      "  warnings.warn(\n",
      "/home/bnt4me/.local/lib/python3.8/site-packages/sklearn/tree/_classes.py:359: FutureWarning: Criterion 'mse' was deprecated in v1.0 and will be removed in version 1.2. Use `criterion='squared_error'` which is equivalent.\n",
      "  warnings.warn(\n",
      "/home/bnt4me/.local/lib/python3.8/site-packages/sklearn/tree/_classes.py:359: FutureWarning: Criterion 'mse' was deprecated in v1.0 and will be removed in version 1.2. Use `criterion='squared_error'` which is equivalent.\n",
      "  warnings.warn(\n"
     ]
    },
    {
     "name": "stderr",
     "output_type": "stream",
     "text": [
      "/home/bnt4me/.local/lib/python3.8/site-packages/xgboost/sklearn.py:1224: UserWarning: The use of label encoder in XGBClassifier is deprecated and will be removed in a future release. To remove this warning, do the following: 1) Pass option use_label_encoder=False when constructing XGBClassifier object; and 2) Encode your labels (y) as integers starting with 0, i.e. 0, 1, 2, ..., [num_class - 1].\n",
      "  warnings.warn(label_encoder_deprecation_msg, UserWarning)\n"
     ]
    },
    {
     "name": "stdout",
     "output_type": "stream",
     "text": [
      "[15:02:25] WARNING: ../src/learner.cc:1115: Starting in XGBoost 1.3.0, the default evaluation metric used with the objective 'multi:softprob' was changed from 'merror' to 'mlogloss'. Explicitly set eval_metric if you'd like to restore the old behavior.\n"
     ]
    },
    {
     "data": {
      "text/plain": [
       "RandomizedSearchCV(cv=3,\n",
       "                   estimator=XGBClassifier(base_score=None, booster=None,\n",
       "                                           colsample_bylevel=None,\n",
       "                                           colsample_bynode=None,\n",
       "                                           colsample_bytree=None,\n",
       "                                           enable_categorical=False, gamma=None,\n",
       "                                           gpu_id=None, importance_type=None,\n",
       "                                           interaction_constraints=None,\n",
       "                                           learning_rate=None,\n",
       "                                           max_delta_step=None, max_depth=None,\n",
       "                                           min_child_weight=None, missing=nan,\n",
       "                                           monotone_constraints...\n",
       "                                        'learning_rate': <scipy.stats._distn_infrastructure.rv_frozen object at 0x7faaf38b57c0>,\n",
       "                                        'max_depth': <scipy.stats._distn_infrastructure.rv_frozen object at 0x7faaf38b5130>,\n",
       "                                        'n_estimators': <scipy.stats._distn_infrastructure.rv_frozen object at 0x7faaf397e850>,\n",
       "                                        'subsample': <scipy.stats._distn_infrastructure.rv_frozen object at 0x7fab918d52e0>},\n",
       "                   random_state=10, return_train_score=True)"
      ]
     },
     "execution_count": 123,
     "metadata": {},
     "output_type": "execute_result"
    }
   ],
   "source": [
    "import xgboost as xgb\n",
    "from scipy.stats import uniform, randint\n",
    "from sklearn.model_selection import RandomizedSearchCV\n",
    "xgb_model = xgb.XGBClassifier(objective=\"multi:softprob\", random_state=10)\n",
    "params = {\n",
    "    \"colsample_bytree\": uniform(0.7, 0.3),\n",
    "    \"gamma\": uniform(0, 0.5),\n",
    "    \"learning_rate\": uniform(0.03, 0.3), # default 0.1 \n",
    "    \"max_depth\": randint(2, 6), # default 3\n",
    "    \"n_estimators\": randint(100, 150), # default 100\n",
    "    \"subsample\": uniform(0.6, 0.4)\n",
    "}\n",
    "\n",
    "search = RandomizedSearchCV(xgb_model, param_distributions=params, random_state=10, cv=3, n_jobs=8, return_train_score=True)\n",
    "\n",
    "search.fit(X_train_1, y_train_1)"
   ]
  },
  {
   "cell_type": "code",
   "execution_count": 124,
   "metadata": {
    "colab": {
     "base_uri": "https://localhost:8080/",
     "height": 163
    },
    "id": "EMmVhgh1y4VJ",
    "outputId": "5c2846d6-1e96-45ca-b7a7-43061d87102a"
   },
   "outputs": [
    {
     "data": {
      "text/plain": [
       "{'colsample_bytree': 0.7674389936592543,\n",
       " 'gamma': 0.09903143237981199,\n",
       " 'learning_rate': 0.25815921365968764,\n",
       " 'max_depth': 2,\n",
       " 'n_estimators': 142,\n",
       " 'subsample': 0.6353359256696041}"
      ]
     },
     "execution_count": 124,
     "metadata": {},
     "output_type": "execute_result"
    }
   ],
   "source": [
    "search.best_params_"
   ]
  },
  {
   "cell_type": "code",
   "execution_count": 125,
   "metadata": {
    "id": "0Te3_lYwy4b5"
   },
   "outputs": [
    {
     "name": "stdout",
     "output_type": "stream",
     "text": [
      "Classification report:\n",
      "              precision    recall  f1-score   support\n",
      "\n",
      "           0       0.24      0.36      0.29        47\n",
      "           1       0.61      0.23      0.34       172\n",
      "           2       0.27      0.56      0.36        73\n",
      "\n",
      "    accuracy                           0.34       292\n",
      "   macro avg       0.37      0.39      0.33       292\n",
      "weighted avg       0.46      0.34      0.33       292\n",
      "\n",
      "\n"
     ]
    }
   ],
   "source": [
    "from sklearn.metrics import classification_report\n",
    "\n",
    "y_pred_rf = search.predict(X_test)\n",
    "\n",
    "print('Classification report:\\n{0}\\n'.format(classification_report(y_test, y_pred_rf)))"
   ]
  },
  {
   "cell_type": "code",
   "execution_count": 126,
   "metadata": {
    "id": "3LrWdODJzC7A"
   },
   "outputs": [
    {
     "data": {
      "image/png": "[encoded data removed]",
      "text/plain": [
       "<Figure size 432x288 with 1 Axes>"
      ]
     },
     "metadata": {},
     "output_type": "display_data"
    },
    {
     "name": "stdout",
     "output_type": "stream",
     "text": [
      "[14:29:07] WARNING: ../src/learner.cc:1115: Starting in XGBoost 1.3.0, the default evaluation metric used with the objective 'multi:softprob' was changed from 'merror' to 'mlogloss'. Explicitly set eval_metric if you'd like to restore the old behavior.\n",
      "[14:38:19] WARNING: ../src/learner.cc:1115: Starting in XGBoost 1.3.0, the default evaluation metric used with the objective 'multi:softprob' was changed from 'merror' to 'mlogloss'. Explicitly set eval_metric if you'd like to restore the old behavior.\n",
      "[14:49:57] WARNING: ../src/learner.cc:1115: Starting in XGBoost 1.3.0, the default evaluation metric used with the objective 'multi:softprob' was changed from 'merror' to 'mlogloss'. Explicitly set eval_metric if you'd like to restore the old behavior.\n"
     ]
    },
    {
     "name": "stderr",
     "output_type": "stream",
     "text": [
      "/home/bnt4me/.local/lib/python3.8/site-packages/xgboost/sklearn.py:1224: UserWarning: The use of label encoder in XGBClassifier is deprecated and will be removed in a future release. To remove this warning, do the following: 1) Pass option use_label_encoder=False when constructing XGBClassifier object; and 2) Encode your labels (y) as integers starting with 0, i.e. 0, 1, 2, ..., [num_class - 1].\n",
      "  warnings.warn(label_encoder_deprecation_msg, UserWarning)\n",
      "/home/bnt4me/.local/lib/python3.8/site-packages/xgboost/sklearn.py:1224: UserWarning: The use of label encoder in XGBClassifier is deprecated and will be removed in a future release. To remove this warning, do the following: 1) Pass option use_label_encoder=False when constructing XGBClassifier object; and 2) Encode your labels (y) as integers starting with 0, i.e. 0, 1, 2, ..., [num_class - 1].\n",
      "  warnings.warn(label_encoder_deprecation_msg, UserWarning)\n",
      "/home/bnt4me/.local/lib/python3.8/site-packages/xgboost/sklearn.py:1224: UserWarning: The use of label encoder in XGBClassifier is deprecated and will be removed in a future release. To remove this warning, do the following: 1) Pass option use_label_encoder=False when constructing XGBClassifier object; and 2) Encode your labels (y) as integers starting with 0, i.e. 0, 1, 2, ..., [num_class - 1].\n",
      "  warnings.warn(label_encoder_deprecation_msg, UserWarning)\n"
     ]
    },
    {
     "name": "stdout",
     "output_type": "stream",
     "text": [
      "[14:29:03] WARNING: ../src/learner.cc:1115: Starting in XGBoost 1.3.0, the default evaluation metric used with the objective 'multi:softprob' was changed from 'merror' to 'mlogloss'. Explicitly set eval_metric if you'd like to restore the old behavior.\n",
      "[14:35:00] WARNING: ../src/learner.cc:1115: Starting in XGBoost 1.3.0, the default evaluation metric used with the objective 'multi:softprob' was changed from 'merror' to 'mlogloss'. Explicitly set eval_metric if you'd like to restore the old behavior.\n",
      "[14:46:21] WARNING: ../src/learner.cc:1115: Starting in XGBoost 1.3.0, the default evaluation metric used with the objective 'multi:softprob' was changed from 'merror' to 'mlogloss'. Explicitly set eval_metric if you'd like to restore the old behavior.\n",
      "[14:53:42] WARNING: ../src/learner.cc:1115: Starting in XGBoost 1.3.0, the default evaluation metric used with the objective 'multi:softprob' was changed from 'merror' to 'mlogloss'. Explicitly set eval_metric if you'd like to restore the old behavior.\n"
     ]
    },
    {
     "name": "stderr",
     "output_type": "stream",
     "text": [
      "/home/bnt4me/.local/lib/python3.8/site-packages/xgboost/sklearn.py:1224: UserWarning: The use of label encoder in XGBClassifier is deprecated and will be removed in a future release. To remove this warning, do the following: 1) Pass option use_label_encoder=False when constructing XGBClassifier object; and 2) Encode your labels (y) as integers starting with 0, i.e. 0, 1, 2, ..., [num_class - 1].\n",
      "  warnings.warn(label_encoder_deprecation_msg, UserWarning)\n",
      "/home/bnt4me/.local/lib/python3.8/site-packages/xgboost/sklearn.py:1224: UserWarning: The use of label encoder in XGBClassifier is deprecated and will be removed in a future release. To remove this warning, do the following: 1) Pass option use_label_encoder=False when constructing XGBClassifier object; and 2) Encode your labels (y) as integers starting with 0, i.e. 0, 1, 2, ..., [num_class - 1].\n",
      "  warnings.warn(label_encoder_deprecation_msg, UserWarning)\n",
      "/home/bnt4me/.local/lib/python3.8/site-packages/xgboost/sklearn.py:1224: UserWarning: The use of label encoder in XGBClassifier is deprecated and will be removed in a future release. To remove this warning, do the following: 1) Pass option use_label_encoder=False when constructing XGBClassifier object; and 2) Encode your labels (y) as integers starting with 0, i.e. 0, 1, 2, ..., [num_class - 1].\n",
      "  warnings.warn(label_encoder_deprecation_msg, UserWarning)\n",
      "/home/bnt4me/.local/lib/python3.8/site-packages/xgboost/sklearn.py:1224: UserWarning: The use of label encoder in XGBClassifier is deprecated and will be removed in a future release. To remove this warning, do the following: 1) Pass option use_label_encoder=False when constructing XGBClassifier object; and 2) Encode your labels (y) as integers starting with 0, i.e. 0, 1, 2, ..., [num_class - 1].\n",
      "  warnings.warn(label_encoder_deprecation_msg, UserWarning)\n"
     ]
    },
    {
     "name": "stdout",
     "output_type": "stream",
     "text": [
      "[14:29:02] WARNING: ../src/learner.cc:1115: Starting in XGBoost 1.3.0, the default evaluation metric used with the objective 'multi:softprob' was changed from 'merror' to 'mlogloss'. Explicitly set eval_metric if you'd like to restore the old behavior.\n",
      "[14:34:59] WARNING: ../src/learner.cc:1115: Starting in XGBoost 1.3.0, the default evaluation metric used with the objective 'multi:softprob' was changed from 'merror' to 'mlogloss'. Explicitly set eval_metric if you'd like to restore the old behavior.\n",
      "[14:46:16] WARNING: ../src/learner.cc:1115: Starting in XGBoost 1.3.0, the default evaluation metric used with the objective 'multi:softprob' was changed from 'merror' to 'mlogloss'. Explicitly set eval_metric if you'd like to restore the old behavior.\n",
      "[14:53:52] WARNING: ../src/learner.cc:1115: Starting in XGBoost 1.3.0, the default evaluation metric used with the objective 'multi:softprob' was changed from 'merror' to 'mlogloss'. Explicitly set eval_metric if you'd like to restore the old behavior.\n"
     ]
    },
    {
     "name": "stderr",
     "output_type": "stream",
     "text": [
      "/home/bnt4me/.local/lib/python3.8/site-packages/xgboost/sklearn.py:1224: UserWarning: The use of label encoder in XGBClassifier is deprecated and will be removed in a future release. To remove this warning, do the following: 1) Pass option use_label_encoder=False when constructing XGBClassifier object; and 2) Encode your labels (y) as integers starting with 0, i.e. 0, 1, 2, ..., [num_class - 1].\n",
      "  warnings.warn(label_encoder_deprecation_msg, UserWarning)\n",
      "/home/bnt4me/.local/lib/python3.8/site-packages/xgboost/sklearn.py:1224: UserWarning: The use of label encoder in XGBClassifier is deprecated and will be removed in a future release. To remove this warning, do the following: 1) Pass option use_label_encoder=False when constructing XGBClassifier object; and 2) Encode your labels (y) as integers starting with 0, i.e. 0, 1, 2, ..., [num_class - 1].\n",
      "  warnings.warn(label_encoder_deprecation_msg, UserWarning)\n",
      "/home/bnt4me/.local/lib/python3.8/site-packages/xgboost/sklearn.py:1224: UserWarning: The use of label encoder in XGBClassifier is deprecated and will be removed in a future release. To remove this warning, do the following: 1) Pass option use_label_encoder=False when constructing XGBClassifier object; and 2) Encode your labels (y) as integers starting with 0, i.e. 0, 1, 2, ..., [num_class - 1].\n",
      "  warnings.warn(label_encoder_deprecation_msg, UserWarning)\n",
      "/home/bnt4me/.local/lib/python3.8/site-packages/xgboost/sklearn.py:1224: UserWarning: The use of label encoder in XGBClassifier is deprecated and will be removed in a future release. To remove this warning, do the following: 1) Pass option use_label_encoder=False when constructing XGBClassifier object; and 2) Encode your labels (y) as integers starting with 0, i.e. 0, 1, 2, ..., [num_class - 1].\n",
      "  warnings.warn(label_encoder_deprecation_msg, UserWarning)\n"
     ]
    },
    {
     "name": "stdout",
     "output_type": "stream",
     "text": [
      "[14:29:02] WARNING: ../src/learner.cc:1115: Starting in XGBoost 1.3.0, the default evaluation metric used with the objective 'multi:softprob' was changed from 'merror' to 'mlogloss'. Explicitly set eval_metric if you'd like to restore the old behavior.\n",
      "[14:34:48] WARNING: ../src/learner.cc:1115: Starting in XGBoost 1.3.0, the default evaluation metric used with the objective 'multi:softprob' was changed from 'merror' to 'mlogloss'. Explicitly set eval_metric if you'd like to restore the old behavior.\n",
      "[14:46:36] WARNING: ../src/learner.cc:1115: Starting in XGBoost 1.3.0, the default evaluation metric used with the objective 'multi:softprob' was changed from 'merror' to 'mlogloss'. Explicitly set eval_metric if you'd like to restore the old behavior.\n",
      "[14:54:07] WARNING: ../src/learner.cc:1115: Starting in XGBoost 1.3.0, the default evaluation metric used with the objective 'multi:softprob' was changed from 'merror' to 'mlogloss'. Explicitly set eval_metric if you'd like to restore the old behavior.\n"
     ]
    },
    {
     "name": "stderr",
     "output_type": "stream",
     "text": [
      "/home/bnt4me/.local/lib/python3.8/site-packages/xgboost/sklearn.py:1224: UserWarning: The use of label encoder in XGBClassifier is deprecated and will be removed in a future release. To remove this warning, do the following: 1) Pass option use_label_encoder=False when constructing XGBClassifier object; and 2) Encode your labels (y) as integers starting with 0, i.e. 0, 1, 2, ..., [num_class - 1].\n",
      "  warnings.warn(label_encoder_deprecation_msg, UserWarning)\n",
      "/home/bnt4me/.local/lib/python3.8/site-packages/xgboost/sklearn.py:1224: UserWarning: The use of label encoder in XGBClassifier is deprecated and will be removed in a future release. To remove this warning, do the following: 1) Pass option use_label_encoder=False when constructing XGBClassifier object; and 2) Encode your labels (y) as integers starting with 0, i.e. 0, 1, 2, ..., [num_class - 1].\n",
      "  warnings.warn(label_encoder_deprecation_msg, UserWarning)\n",
      "/home/bnt4me/.local/lib/python3.8/site-packages/xgboost/sklearn.py:1224: UserWarning: The use of label encoder in XGBClassifier is deprecated and will be removed in a future release. To remove this warning, do the following: 1) Pass option use_label_encoder=False when constructing XGBClassifier object; and 2) Encode your labels (y) as integers starting with 0, i.e. 0, 1, 2, ..., [num_class - 1].\n",
      "  warnings.warn(label_encoder_deprecation_msg, UserWarning)\n",
      "/home/bnt4me/.local/lib/python3.8/site-packages/xgboost/sklearn.py:1224: UserWarning: The use of label encoder in XGBClassifier is deprecated and will be removed in a future release. To remove this warning, do the following: 1) Pass option use_label_encoder=False when constructing XGBClassifier object; and 2) Encode your labels (y) as integers starting with 0, i.e. 0, 1, 2, ..., [num_class - 1].\n",
      "  warnings.warn(label_encoder_deprecation_msg, UserWarning)\n"
     ]
    },
    {
     "name": "stdout",
     "output_type": "stream",
     "text": [
      "[14:29:07] WARNING: ../src/learner.cc:1115: Starting in XGBoost 1.3.0, the default evaluation metric used with the objective 'multi:softprob' was changed from 'merror' to 'mlogloss'. Explicitly set eval_metric if you'd like to restore the old behavior.\n",
      "[14:40:40] WARNING: ../src/learner.cc:1115: Starting in XGBoost 1.3.0, the default evaluation metric used with the objective 'multi:softprob' was changed from 'merror' to 'mlogloss'. Explicitly set eval_metric if you'd like to restore the old behavior.\n",
      "[14:52:16] WARNING: ../src/learner.cc:1115: Starting in XGBoost 1.3.0, the default evaluation metric used with the objective 'multi:softprob' was changed from 'merror' to 'mlogloss'. Explicitly set eval_metric if you'd like to restore the old behavior.\n"
     ]
    },
    {
     "name": "stderr",
     "output_type": "stream",
     "text": [
      "/home/bnt4me/.local/lib/python3.8/site-packages/xgboost/sklearn.py:1224: UserWarning: The use of label encoder in XGBClassifier is deprecated and will be removed in a future release. To remove this warning, do the following: 1) Pass option use_label_encoder=False when constructing XGBClassifier object; and 2) Encode your labels (y) as integers starting with 0, i.e. 0, 1, 2, ..., [num_class - 1].\n",
      "  warnings.warn(label_encoder_deprecation_msg, UserWarning)\n",
      "/home/bnt4me/.local/lib/python3.8/site-packages/xgboost/sklearn.py:1224: UserWarning: The use of label encoder in XGBClassifier is deprecated and will be removed in a future release. To remove this warning, do the following: 1) Pass option use_label_encoder=False when constructing XGBClassifier object; and 2) Encode your labels (y) as integers starting with 0, i.e. 0, 1, 2, ..., [num_class - 1].\n",
      "  warnings.warn(label_encoder_deprecation_msg, UserWarning)\n",
      "/home/bnt4me/.local/lib/python3.8/site-packages/xgboost/sklearn.py:1224: UserWarning: The use of label encoder in XGBClassifier is deprecated and will be removed in a future release. To remove this warning, do the following: 1) Pass option use_label_encoder=False when constructing XGBClassifier object; and 2) Encode your labels (y) as integers starting with 0, i.e. 0, 1, 2, ..., [num_class - 1].\n",
      "  warnings.warn(label_encoder_deprecation_msg, UserWarning)\n"
     ]
    },
    {
     "name": "stdout",
     "output_type": "stream",
     "text": [
      "[14:29:06] WARNING: ../src/learner.cc:1115: Starting in XGBoost 1.3.0, the default evaluation metric used with the objective 'multi:softprob' was changed from 'merror' to 'mlogloss'. Explicitly set eval_metric if you'd like to restore the old behavior.\n",
      "[14:41:06] WARNING: ../src/learner.cc:1115: Starting in XGBoost 1.3.0, the default evaluation metric used with the objective 'multi:softprob' was changed from 'merror' to 'mlogloss'. Explicitly set eval_metric if you'd like to restore the old behavior.\n",
      "[14:48:37] WARNING: ../src/learner.cc:1115: Starting in XGBoost 1.3.0, the default evaluation metric used with the objective 'multi:softprob' was changed from 'merror' to 'mlogloss'. Explicitly set eval_metric if you'd like to restore the old behavior.\n",
      "[14:56:01] WARNING: ../src/learner.cc:1115: Starting in XGBoost 1.3.0, the default evaluation metric used with the objective 'multi:softprob' was changed from 'merror' to 'mlogloss'. Explicitly set eval_metric if you'd like to restore the old behavior.\n"
     ]
    },
    {
     "name": "stderr",
     "output_type": "stream",
     "text": [
      "/home/bnt4me/.local/lib/python3.8/site-packages/xgboost/sklearn.py:1224: UserWarning: The use of label encoder in XGBClassifier is deprecated and will be removed in a future release. To remove this warning, do the following: 1) Pass option use_label_encoder=False when constructing XGBClassifier object; and 2) Encode your labels (y) as integers starting with 0, i.e. 0, 1, 2, ..., [num_class - 1].\n",
      "  warnings.warn(label_encoder_deprecation_msg, UserWarning)\n",
      "/home/bnt4me/.local/lib/python3.8/site-packages/xgboost/sklearn.py:1224: UserWarning: The use of label encoder in XGBClassifier is deprecated and will be removed in a future release. To remove this warning, do the following: 1) Pass option use_label_encoder=False when constructing XGBClassifier object; and 2) Encode your labels (y) as integers starting with 0, i.e. 0, 1, 2, ..., [num_class - 1].\n",
      "  warnings.warn(label_encoder_deprecation_msg, UserWarning)\n",
      "/home/bnt4me/.local/lib/python3.8/site-packages/xgboost/sklearn.py:1224: UserWarning: The use of label encoder in XGBClassifier is deprecated and will be removed in a future release. To remove this warning, do the following: 1) Pass option use_label_encoder=False when constructing XGBClassifier object; and 2) Encode your labels (y) as integers starting with 0, i.e. 0, 1, 2, ..., [num_class - 1].\n",
      "  warnings.warn(label_encoder_deprecation_msg, UserWarning)\n",
      "/home/bnt4me/.local/lib/python3.8/site-packages/xgboost/sklearn.py:1224: UserWarning: The use of label encoder in XGBClassifier is deprecated and will be removed in a future release. To remove this warning, do the following: 1) Pass option use_label_encoder=False when constructing XGBClassifier object; and 2) Encode your labels (y) as integers starting with 0, i.e. 0, 1, 2, ..., [num_class - 1].\n",
      "  warnings.warn(label_encoder_deprecation_msg, UserWarning)\n"
     ]
    },
    {
     "name": "stdout",
     "output_type": "stream",
     "text": [
      "[14:29:07] WARNING: ../src/learner.cc:1115: Starting in XGBoost 1.3.0, the default evaluation metric used with the objective 'multi:softprob' was changed from 'merror' to 'mlogloss'. Explicitly set eval_metric if you'd like to restore the old behavior.\n",
      "[14:38:28] WARNING: ../src/learner.cc:1115: Starting in XGBoost 1.3.0, the default evaluation metric used with the objective 'multi:softprob' was changed from 'merror' to 'mlogloss'. Explicitly set eval_metric if you'd like to restore the old behavior.\n",
      "[14:49:49] WARNING: ../src/learner.cc:1115: Starting in XGBoost 1.3.0, the default evaluation metric used with the objective 'multi:softprob' was changed from 'merror' to 'mlogloss'. Explicitly set eval_metric if you'd like to restore the old behavior.\n",
      "[14:57:23] WARNING: ../src/learner.cc:1115: Starting in XGBoost 1.3.0, the default evaluation metric used with the objective 'multi:softprob' was changed from 'merror' to 'mlogloss'. Explicitly set eval_metric if you'd like to restore the old behavior.\n",
      "[14:29:07] WARNING: ../src/learner.cc:1115: Starting in XGBoost 1.3.0, the default evaluation metric used with the objective 'multi:softprob' was changed from 'merror' to 'mlogloss'. Explicitly set eval_metric if you'd like to restore the old behavior.\n",
      "[14:38:24] WARNING: ../src/learner.cc:1115: Starting in XGBoost 1.3.0, the default evaluation metric used with the objective 'multi:softprob' was changed from 'merror' to 'mlogloss'. Explicitly set eval_metric if you'd like to restore the old behavior.\n",
      "[14:49:55] WARNING: ../src/learner.cc:1115: Starting in XGBoost 1.3.0, the default evaluation metric used with the objective 'multi:softprob' was changed from 'merror' to 'mlogloss'. Explicitly set eval_metric if you'd like to restore the old behavior.\n",
      "[14:57:36] WARNING: ../src/learner.cc:1115: Starting in XGBoost 1.3.0, the default evaluation metric used with the objective 'multi:softprob' was changed from 'merror' to 'mlogloss'. Explicitly set eval_metric if you'd like to restore the old behavior.\n"
     ]
    },
    {
     "name": "stderr",
     "output_type": "stream",
     "text": [
      "/home/bnt4me/.local/lib/python3.8/site-packages/xgboost/sklearn.py:1224: UserWarning: The use of label encoder in XGBClassifier is deprecated and will be removed in a future release. To remove this warning, do the following: 1) Pass option use_label_encoder=False when constructing XGBClassifier object; and 2) Encode your labels (y) as integers starting with 0, i.e. 0, 1, 2, ..., [num_class - 1].\n",
      "  warnings.warn(label_encoder_deprecation_msg, UserWarning)\n",
      "/home/bnt4me/.local/lib/python3.8/site-packages/xgboost/sklearn.py:1224: UserWarning: The use of label encoder in XGBClassifier is deprecated and will be removed in a future release. To remove this warning, do the following: 1) Pass option use_label_encoder=False when constructing XGBClassifier object; and 2) Encode your labels (y) as integers starting with 0, i.e. 0, 1, 2, ..., [num_class - 1].\n",
      "  warnings.warn(label_encoder_deprecation_msg, UserWarning)\n",
      "/home/bnt4me/.local/lib/python3.8/site-packages/xgboost/sklearn.py:1224: UserWarning: The use of label encoder in XGBClassifier is deprecated and will be removed in a future release. To remove this warning, do the following: 1) Pass option use_label_encoder=False when constructing XGBClassifier object; and 2) Encode your labels (y) as integers starting with 0, i.e. 0, 1, 2, ..., [num_class - 1].\n",
      "  warnings.warn(label_encoder_deprecation_msg, UserWarning)\n",
      "/home/bnt4me/.local/lib/python3.8/site-packages/xgboost/sklearn.py:1224: UserWarning: The use of label encoder in XGBClassifier is deprecated and will be removed in a future release. To remove this warning, do the following: 1) Pass option use_label_encoder=False when constructing XGBClassifier object; and 2) Encode your labels (y) as integers starting with 0, i.e. 0, 1, 2, ..., [num_class - 1].\n",
      "  warnings.warn(label_encoder_deprecation_msg, UserWarning)\n",
      "/home/bnt4me/.local/lib/python3.8/site-packages/xgboost/sklearn.py:1224: UserWarning: The use of label encoder in XGBClassifier is deprecated and will be removed in a future release. To remove this warning, do the following: 1) Pass option use_label_encoder=False when constructing XGBClassifier object; and 2) Encode your labels (y) as integers starting with 0, i.e. 0, 1, 2, ..., [num_class - 1].\n",
      "  warnings.warn(label_encoder_deprecation_msg, UserWarning)\n",
      "/home/bnt4me/.local/lib/python3.8/site-packages/xgboost/sklearn.py:1224: UserWarning: The use of label encoder in XGBClassifier is deprecated and will be removed in a future release. To remove this warning, do the following: 1) Pass option use_label_encoder=False when constructing XGBClassifier object; and 2) Encode your labels (y) as integers starting with 0, i.e. 0, 1, 2, ..., [num_class - 1].\n",
      "  warnings.warn(label_encoder_deprecation_msg, UserWarning)\n",
      "/home/bnt4me/.local/lib/python3.8/site-packages/xgboost/sklearn.py:1224: UserWarning: The use of label encoder in XGBClassifier is deprecated and will be removed in a future release. To remove this warning, do the following: 1) Pass option use_label_encoder=False when constructing XGBClassifier object; and 2) Encode your labels (y) as integers starting with 0, i.e. 0, 1, 2, ..., [num_class - 1].\n",
      "  warnings.warn(label_encoder_deprecation_msg, UserWarning)\n",
      "/home/bnt4me/.local/lib/python3.8/site-packages/xgboost/sklearn.py:1224: UserWarning: The use of label encoder in XGBClassifier is deprecated and will be removed in a future release. To remove this warning, do the following: 1) Pass option use_label_encoder=False when constructing XGBClassifier object; and 2) Encode your labels (y) as integers starting with 0, i.e. 0, 1, 2, ..., [num_class - 1].\n",
      "  warnings.warn(label_encoder_deprecation_msg, UserWarning)\n"
     ]
    }
   ],
   "source": [
    "%matplotlib inline\n",
    "import seaborn as sns; sns.set()\n",
    "from sklearn.metrics import confusion_matrix\n",
    "import matplotlib.pyplot as plt\n",
    "\n",
    "y_test_pred = search.predict(X_test)\n",
    "cm_test = confusion_matrix(y_test, y_test_pred)\n",
    "\n",
    "sns.heatmap(cm_test.T, square=True, annot=True, fmt='d', cbar=False,\n",
    "            xticklabels= np.unique(y_test),\n",
    "            yticklabels= np.unique(y_test_pred))\n",
    "plt.xlabel('true label')\n",
    "plt.ylabel('predicted label');\n",
    "plt.title('Confusion Matrix DT - Test Set')\n",
    "plt.show()"
   ]
  },
  {
   "cell_type": "markdown",
   "metadata": {
    "id": "2CFMZLrlgU6M"
   },
   "source": [
    "## 2.0.0 Features Selection by variance"
   ]
  },
  {
   "cell_type": "code",
   "execution_count": 127,
   "metadata": {},
   "outputs": [
    {
     "name": "stdout",
     "output_type": "stream",
     "text": [
      "After feature selection by variance, from 60483 features we left 1635 features\n"
     ]
    }
   ],
   "source": [
    "def select_f_by_variance(X, threshold):\n",
    "    from sklearn.feature_selection import VarianceThreshold\n",
    "    selector = VarianceThreshold(threshold)\n",
    "    selector.fit(X)\n",
    "    X.columns[selector.get_support()]\n",
    "\n",
    "    X_n = X[X.columns[selector.get_support()]]\n",
    "    return X_n\n",
    "X_var = select_f_by_variance(X, 500)\n",
    "\n",
    "print(\"After feature selection by variance, from 60483 features we left %i features\"%(X_var.shape[1]))"
   ]
  },
  {
   "cell_type": "markdown",
   "metadata": {
    "id": "jeHxlxiRjmm1"
   },
   "source": [
    "## Spilitting the data set"
   ]
  },
  {
   "cell_type": "code",
   "execution_count": 128,
   "metadata": {
    "colab": {
     "base_uri": "https://localhost:8080/"
    },
    "id": "GANFT-D7jHNx",
    "outputId": "a0487620-1d59-4f6f-d720-88799cca649e"
   },
   "outputs": [
    {
     "name": "stdout",
     "output_type": "stream",
     "text": [
      "Train:  (873, 637)\n",
      "Test:  (292, 637)\n"
     ]
    }
   ],
   "source": [
    "from sklearn.model_selection import train_test_split\n",
    "\n",
    "X_train, X_test, y_train, y_test = train_test_split(X_pca, y,random_state=15)\n",
    "\n",
    "print('Train: ', X_train.shape)\n",
    "print('Test: ', X_test.shape)"
   ]
  },
  {
   "cell_type": "code",
   "execution_count": 129,
   "metadata": {
    "colab": {
     "base_uri": "https://localhost:8080/",
     "height": 351
    },
    "id": "tkHE1ST6dnQ4",
    "outputId": "24f2fefe-5795-49ad-a2cd-e5221ad4793a",
    "scrolled": true
   },
   "outputs": [
    {
     "name": "stdout",
     "output_type": "stream",
     "text": [
      "1    522\n",
      "2    210\n",
      "0    141\n",
      "Name: tumor_stage, dtype: int64\n",
      "[1, 2, 0]\n"
     ]
    },
    {
     "data": {
      "image/png": "[encoded data removed]",
      "text/plain": [
       "<Figure size 432x288 with 1 Axes>"
      ]
     },
     "metadata": {},
     "output_type": "display_data"
    }
   ],
   "source": [
    "def show_values(y):\n",
    "  ss = y.value_counts()\n",
    "  print(ss)\n",
    "  dd = list(ss.index)\n",
    "  print(dd)\n",
    "\n",
    "  import matplotlib.pyplot as plt\n",
    "  plt.bar(x=[1,2,3], height=ss, tick_label = dd)\n",
    "  plt.show()\n",
    "show_values(y_train)\n"
   ]
  },
  {
   "cell_type": "markdown",
   "metadata": {
    "id": "_kkAFsYctZam"
   },
   "source": [
    "## 1.1.0 Oversampling"
   ]
  },
  {
   "cell_type": "code",
   "execution_count": 130,
   "metadata": {
    "colab": {
     "base_uri": "https://localhost:8080/",
     "height": 580
    },
    "id": "vWxjMV068sIl",
    "outputId": "ed856e7b-cd87-4243-d66c-024d10876362",
    "scrolled": true
   },
   "outputs": [
    {
     "data": {
      "image/png": "[encoded data removed]",
      "text/plain": [
       "<Figure size 1800x720 with 2 Axes>"
      ]
     },
     "metadata": {},
     "output_type": "display_data"
    }
   ],
   "source": [
    "def apply_oversampling(X, y):\n",
    "  from imblearn.over_sampling import SMOTE\n",
    "  from matplotlib import pyplot as plt\n",
    "\n",
    "  X_class = X\n",
    "\n",
    "  fig, axs = plt.subplots(1,2, figsize=(25,10))\n",
    "  pd.Series(y_train).value_counts().plot.bar(ax = axs[0]).title.set_text('Before SMOTE')\n",
    "\n",
    "  smote = SMOTE(random_state = 101)\n",
    "  X_class, label_cat = smote.fit_resample(X_class, y)\n",
    "\n",
    "  pd.Series(label_cat).value_counts().plot.bar(ax = axs[1]).title.set_text('After SMOTE')\n",
    "\n",
    "  return X_class, label_cat\n",
    "\n",
    "X_train_1, y_train_1 = apply_oversampling(X_train, y_train)"
   ]
  },
  {
   "cell_type": "markdown",
   "metadata": {
    "id": "pe04cQer2ijd"
   },
   "source": [
    "# Data Clasification"
   ]
  },
  {
   "cell_type": "markdown",
   "metadata": {
    "id": "AjiArCYzSN0c"
   },
   "source": [
    "## 2.1.1. NN"
   ]
  },
  {
   "cell_type": "code",
   "execution_count": 131,
   "metadata": {
    "colab": {
     "base_uri": "https://localhost:8080/"
    },
    "id": "p5YtcSliSQ7Z",
    "outputId": "e28b5a02-1f9c-4fee-8a85-1d322a647c11"
   },
   "outputs": [
    {
     "data": {
      "text/plain": [
       "GridSearchCV(cv=10, estimator=MLPClassifier(max_iter=300, random_state=1),\n",
       "             n_jobs=5,\n",
       "             param_grid={'activation': ['logistic', 'relu'],\n",
       "                         'alpha': [0.0001, 0.001]},\n",
       "             refit='accuracy', return_train_score=True,\n",
       "             scoring={'accuracy': make_scorer(accuracy_score),\n",
       "                      'precision': make_scorer(precision_score, average=micro),\n",
       "                      'recall': make_scorer(recall_score, average=micro)})"
      ]
     },
     "execution_count": 131,
     "metadata": {},
     "output_type": "execute_result"
    }
   ],
   "source": [
    "from sklearn.neural_network import MLPClassifier\n",
    "from sklearn.model_selection import GridSearchCV\n",
    "from sklearn.metrics import precision_score\n",
    "from sklearn.metrics import accuracy_score\n",
    "from sklearn.metrics import recall_score\n",
    "from sklearn.metrics import make_scorer\n",
    "\n",
    "\n",
    "param_grid = {'activation': ['logistic', 'relu'],'alpha':[0.0001,0.001]}\n",
    "scores= {'accuracy':make_scorer(accuracy_score),'precision':make_scorer(precision_score,average='micro'),\n",
    "         'recall':make_scorer(recall_score,average='micro')}\n",
    "\n",
    "neu_net = MLPClassifier(random_state=1, max_iter=300)\n",
    "clf_nn = GridSearchCV(neu_net, param_grid,cv=10,scoring=scores,\n",
    "                       refit='accuracy', return_train_score=True,n_jobs=5)\n",
    "clf_nn.fit(X_train_1, y_train_1)"
   ]
  },
  {
   "cell_type": "code",
   "execution_count": 132,
   "metadata": {
    "colab": {
     "base_uri": "https://localhost:8080/"
    },
    "id": "23-4b6jGk69W",
    "outputId": "e848433b-386b-4bcb-a972-304b7ef3425a"
   },
   "outputs": [
    {
     "name": "stdout",
     "output_type": "stream",
     "text": [
      "{'activation': 'logistic', 'alpha': 0.001}\n"
     ]
    }
   ],
   "source": [
    "print(clf_nn.best_params_)"
   ]
  },
  {
   "cell_type": "code",
   "execution_count": 133,
   "metadata": {
    "colab": {
     "base_uri": "https://localhost:8080/",
     "height": 397
    },
    "id": "0fnAD6bhlAGt",
    "outputId": "f39aa523-c84d-4c99-8bd8-e555f756888c"
   },
   "outputs": [
    {
     "data": {
      "text/html": [
       "<div>\n",
       "<style scoped>\n",
       "    .dataframe tbody tr th:only-of-type {\n",
       "        vertical-align: middle;\n",
       "    }\n",
       "\n",
       "    .dataframe tbody tr th {\n",
       "        vertical-align: top;\n",
       "    }\n",
       "\n",
       "    .dataframe thead th {\n",
       "        text-align: right;\n",
       "    }\n",
       "</style>\n",
       "<table border=\"1\" class=\"dataframe\">\n",
       "  <thead>\n",
       "    <tr style=\"text-align: right;\">\n",
       "      <th></th>\n",
       "      <th>mean_fit_time</th>\n",
       "      <th>params</th>\n",
       "      <th>mean_test_accuracy</th>\n",
       "      <th>std_test_accuracy</th>\n",
       "      <th>rank_test_accuracy</th>\n",
       "      <th>mean_test_precision</th>\n",
       "      <th>std_test_precision</th>\n",
       "      <th>mean_test_recall</th>\n",
       "      <th>std_test_recall</th>\n",
       "    </tr>\n",
       "  </thead>\n",
       "  <tbody>\n",
       "    <tr>\n",
       "      <th>1</th>\n",
       "      <td>5.788394</td>\n",
       "      <td>{'activation': 'logistic', 'alpha': 0.001}</td>\n",
       "      <td>0.804675</td>\n",
       "      <td>0.034661</td>\n",
       "      <td>1</td>\n",
       "      <td>0.804675</td>\n",
       "      <td>0.034661</td>\n",
       "      <td>0.804675</td>\n",
       "      <td>0.034661</td>\n",
       "    </tr>\n",
       "    <tr>\n",
       "      <th>0</th>\n",
       "      <td>5.469643</td>\n",
       "      <td>{'activation': 'logistic', 'alpha': 0.0001}</td>\n",
       "      <td>0.804038</td>\n",
       "      <td>0.034869</td>\n",
       "      <td>2</td>\n",
       "      <td>0.804038</td>\n",
       "      <td>0.034869</td>\n",
       "      <td>0.804038</td>\n",
       "      <td>0.034869</td>\n",
       "    </tr>\n",
       "    <tr>\n",
       "      <th>2</th>\n",
       "      <td>3.171359</td>\n",
       "      <td>{'activation': 'relu', 'alpha': 0.0001}</td>\n",
       "      <td>0.797689</td>\n",
       "      <td>0.050945</td>\n",
       "      <td>3</td>\n",
       "      <td>0.797689</td>\n",
       "      <td>0.050945</td>\n",
       "      <td>0.797689</td>\n",
       "      <td>0.050945</td>\n",
       "    </tr>\n",
       "    <tr>\n",
       "      <th>3</th>\n",
       "      <td>3.104466</td>\n",
       "      <td>{'activation': 'relu', 'alpha': 0.001}</td>\n",
       "      <td>0.797689</td>\n",
       "      <td>0.050945</td>\n",
       "      <td>3</td>\n",
       "      <td>0.797689</td>\n",
       "      <td>0.050945</td>\n",
       "      <td>0.797689</td>\n",
       "      <td>0.050945</td>\n",
       "    </tr>\n",
       "  </tbody>\n",
       "</table>\n",
       "</div>"
      ],
      "text/plain": [
       "   mean_fit_time                                       params  \\\n",
       "1       5.788394   {'activation': 'logistic', 'alpha': 0.001}   \n",
       "0       5.469643  {'activation': 'logistic', 'alpha': 0.0001}   \n",
       "2       3.171359      {'activation': 'relu', 'alpha': 0.0001}   \n",
       "3       3.104466       {'activation': 'relu', 'alpha': 0.001}   \n",
       "\n",
       "   mean_test_accuracy  std_test_accuracy  rank_test_accuracy  \\\n",
       "1            0.804675           0.034661                   1   \n",
       "0            0.804038           0.034869                   2   \n",
       "2            0.797689           0.050945                   3   \n",
       "3            0.797689           0.050945                   3   \n",
       "\n",
       "   mean_test_precision  std_test_precision  mean_test_recall  std_test_recall  \n",
       "1             0.804675            0.034661          0.804675         0.034661  \n",
       "0             0.804038            0.034869          0.804038         0.034869  \n",
       "2             0.797689            0.050945          0.797689         0.050945  \n",
       "3             0.797689            0.050945          0.797689         0.050945  "
      ]
     },
     "execution_count": 133,
     "metadata": {},
     "output_type": "execute_result"
    }
   ],
   "source": [
    "df = pd.DataFrame(clf_nn.cv_results_)\n",
    "df.sort_values(by='rank_test_accuracy')[['mean_fit_time','params','mean_test_accuracy','std_test_accuracy','rank_test_accuracy',\n",
    "                                         'mean_test_precision','std_test_precision','mean_test_recall','std_test_recall']]"
   ]
  },
  {
   "cell_type": "code",
   "execution_count": 134,
   "metadata": {
    "colab": {
     "base_uri": "https://localhost:8080/",
     "height": 353
    },
    "id": "WhezDEt0lDtt",
    "outputId": "231ad9f6-6bd4-49f2-b744-8ccde2ab2789"
   },
   "outputs": [
    {
     "data": {
      "image/png": "[encoded data removed]",
      "text/plain": [
       "<Figure size 432x288 with 1 Axes>"
      ]
     },
     "metadata": {},
     "output_type": "display_data"
    },
    {
     "name": "stdout",
     "output_type": "stream",
     "text": [
      "Precision: 0.390\n",
      "Recall: 0.390\n",
      "Accuracy: 0.390\n"
     ]
    }
   ],
   "source": [
    "%matplotlib inline\n",
    "import seaborn as sns; sns.set()\n",
    "from sklearn.metrics import confusion_matrix\n",
    "import matplotlib.pyplot as plt\n",
    "import numpy as np\n",
    "\n",
    "y_test_pred = clf_nn.predict(X_test)\n",
    "cm_test = confusion_matrix(y_test, y_test_pred)\n",
    "\n",
    "sns.heatmap(cm_test.T, square=True, annot=True, fmt='d', cbar=False,\n",
    "            xticklabels= np.unique(y_test),\n",
    "            yticklabels= np.unique(y_test_pred))\n",
    "plt.xlabel('true label')\n",
    "plt.ylabel('predicted label');\n",
    "plt.title('Confusion Matrix DT - Test Set')\n",
    "plt.show()\n",
    "\n",
    "print('Precision: %.3f' %(precision_score(y_test, y_test_pred,average='micro')))\n",
    "print('Recall: %.3f' %(recall_score(y_test, y_test_pred,average='micro')))\n",
    "print('Accuracy: %.3f' %(accuracy_score(y_test,y_test_pred)))"
   ]
  },
  {
   "cell_type": "markdown",
   "metadata": {
    "id": "JFAy60UdJij3"
   },
   "source": [
    "## 2.1.2. Tree model"
   ]
  },
  {
   "cell_type": "code",
   "execution_count": 135,
   "metadata": {
    "colab": {
     "base_uri": "https://localhost:8080/"
    },
    "id": "oaYqCTJmJhHI",
    "outputId": "db1d8917-953b-4077-b4c6-30ed6aa4757c"
   },
   "outputs": [
    {
     "name": "stdout",
     "output_type": "stream",
     "text": [
      "{'criterion': 'entropy', 'max_depth': 15}\n"
     ]
    }
   ],
   "source": [
    "from sklearn.model_selection import GridSearchCV\n",
    "from sklearn.tree import DecisionTreeClassifier\n",
    "from sklearn.metrics import precision_score\n",
    "from sklearn.metrics import accuracy_score\n",
    "from sklearn.metrics import recall_score\n",
    "from sklearn.metrics import make_scorer\n",
    "\n",
    "\n",
    "tree_para = {'criterion':['gini','entropy'],'max_depth':[4,6,8,10,12,15,17,20]}\n",
    "scores= {'accuracy':make_scorer(accuracy_score),'precision':make_scorer(precision_score,average='micro'),\n",
    "         'recall':make_scorer(recall_score,average='micro')}\n",
    "\n",
    "clf_tree = GridSearchCV(DecisionTreeClassifier(random_state=15), tree_para, cv=10,\n",
    "                        scoring=scores,refit='accuracy', return_train_score=True,n_jobs=4)\n",
    "clf_tree = clf_tree.fit(X_train_1, y_train_1)\n",
    "print(clf_tree.best_params_)"
   ]
  },
  {
   "cell_type": "code",
   "execution_count": 136,
   "metadata": {
    "colab": {
     "base_uri": "https://localhost:8080/",
     "height": 561
    },
    "id": "XzORkH-Sqlb4",
    "outputId": "6ee3df72-71e8-4101-bde1-86b05ad9b26f"
   },
   "outputs": [
    {
     "data": {
      "text/html": [
       "<div>\n",
       "<style scoped>\n",
       "    .dataframe tbody tr th:only-of-type {\n",
       "        vertical-align: middle;\n",
       "    }\n",
       "\n",
       "    .dataframe tbody tr th {\n",
       "        vertical-align: top;\n",
       "    }\n",
       "\n",
       "    .dataframe thead th {\n",
       "        text-align: right;\n",
       "    }\n",
       "</style>\n",
       "<table border=\"1\" class=\"dataframe\">\n",
       "  <thead>\n",
       "    <tr style=\"text-align: right;\">\n",
       "      <th></th>\n",
       "      <th>mean_fit_time</th>\n",
       "      <th>params</th>\n",
       "      <th>mean_test_accuracy</th>\n",
       "      <th>std_test_accuracy</th>\n",
       "      <th>rank_test_accuracy</th>\n",
       "      <th>mean_test_precision</th>\n",
       "      <th>std_test_precision</th>\n",
       "      <th>mean_test_recall</th>\n",
       "      <th>std_test_recall</th>\n",
       "    </tr>\n",
       "  </thead>\n",
       "  <tbody>\n",
       "    <tr>\n",
       "      <th>13</th>\n",
       "      <td>0.797402</td>\n",
       "      <td>{'criterion': 'entropy', 'max_depth': 15}</td>\n",
       "      <td>0.655279</td>\n",
       "      <td>0.067756</td>\n",
       "      <td>1</td>\n",
       "      <td>0.655279</td>\n",
       "      <td>0.067756</td>\n",
       "      <td>0.655279</td>\n",
       "      <td>0.067756</td>\n",
       "    </tr>\n",
       "    <tr>\n",
       "      <th>14</th>\n",
       "      <td>0.796825</td>\n",
       "      <td>{'criterion': 'entropy', 'max_depth': 17}</td>\n",
       "      <td>0.650821</td>\n",
       "      <td>0.066743</td>\n",
       "      <td>2</td>\n",
       "      <td>0.650821</td>\n",
       "      <td>0.066743</td>\n",
       "      <td>0.650821</td>\n",
       "      <td>0.066743</td>\n",
       "    </tr>\n",
       "    <tr>\n",
       "      <th>15</th>\n",
       "      <td>0.792621</td>\n",
       "      <td>{'criterion': 'entropy', 'max_depth': 20}</td>\n",
       "      <td>0.650821</td>\n",
       "      <td>0.066743</td>\n",
       "      <td>2</td>\n",
       "      <td>0.650821</td>\n",
       "      <td>0.066743</td>\n",
       "      <td>0.650821</td>\n",
       "      <td>0.066743</td>\n",
       "    </tr>\n",
       "    <tr>\n",
       "      <th>12</th>\n",
       "      <td>0.790133</td>\n",
       "      <td>{'criterion': 'entropy', 'max_depth': 12}</td>\n",
       "      <td>0.648273</td>\n",
       "      <td>0.072226</td>\n",
       "      <td>4</td>\n",
       "      <td>0.648273</td>\n",
       "      <td>0.072226</td>\n",
       "      <td>0.648273</td>\n",
       "      <td>0.072226</td>\n",
       "    </tr>\n",
       "    <tr>\n",
       "      <th>6</th>\n",
       "      <td>0.645684</td>\n",
       "      <td>{'criterion': 'gini', 'max_depth': 17}</td>\n",
       "      <td>0.647607</td>\n",
       "      <td>0.081889</td>\n",
       "      <td>5</td>\n",
       "      <td>0.647607</td>\n",
       "      <td>0.081889</td>\n",
       "      <td>0.647607</td>\n",
       "      <td>0.081889</td>\n",
       "    </tr>\n",
       "    <tr>\n",
       "      <th>7</th>\n",
       "      <td>0.660708</td>\n",
       "      <td>{'criterion': 'gini', 'max_depth': 20}</td>\n",
       "      <td>0.644406</td>\n",
       "      <td>0.078597</td>\n",
       "      <td>6</td>\n",
       "      <td>0.644406</td>\n",
       "      <td>0.078597</td>\n",
       "      <td>0.644406</td>\n",
       "      <td>0.078597</td>\n",
       "    </tr>\n",
       "    <tr>\n",
       "      <th>11</th>\n",
       "      <td>0.765384</td>\n",
       "      <td>{'criterion': 'entropy', 'max_depth': 10}</td>\n",
       "      <td>0.640577</td>\n",
       "      <td>0.052175</td>\n",
       "      <td>7</td>\n",
       "      <td>0.640577</td>\n",
       "      <td>0.052175</td>\n",
       "      <td>0.640577</td>\n",
       "      <td>0.052175</td>\n",
       "    </tr>\n",
       "    <tr>\n",
       "      <th>5</th>\n",
       "      <td>0.632723</td>\n",
       "      <td>{'criterion': 'gini', 'max_depth': 15}</td>\n",
       "      <td>0.637404</td>\n",
       "      <td>0.074361</td>\n",
       "      <td>8</td>\n",
       "      <td>0.637404</td>\n",
       "      <td>0.074361</td>\n",
       "      <td>0.637404</td>\n",
       "      <td>0.074361</td>\n",
       "    </tr>\n",
       "    <tr>\n",
       "      <th>4</th>\n",
       "      <td>0.591465</td>\n",
       "      <td>{'criterion': 'gini', 'max_depth': 12}</td>\n",
       "      <td>0.636142</td>\n",
       "      <td>0.076938</td>\n",
       "      <td>9</td>\n",
       "      <td>0.636142</td>\n",
       "      <td>0.076938</td>\n",
       "      <td>0.636142</td>\n",
       "      <td>0.076938</td>\n",
       "    </tr>\n",
       "    <tr>\n",
       "      <th>3</th>\n",
       "      <td>0.569947</td>\n",
       "      <td>{'criterion': 'gini', 'max_depth': 10}</td>\n",
       "      <td>0.625931</td>\n",
       "      <td>0.069287</td>\n",
       "      <td>10</td>\n",
       "      <td>0.625931</td>\n",
       "      <td>0.069287</td>\n",
       "      <td>0.625931</td>\n",
       "      <td>0.069287</td>\n",
       "    </tr>\n",
       "    <tr>\n",
       "      <th>10</th>\n",
       "      <td>0.689809</td>\n",
       "      <td>{'criterion': 'entropy', 'max_depth': 8}</td>\n",
       "      <td>0.613764</td>\n",
       "      <td>0.057519</td>\n",
       "      <td>11</td>\n",
       "      <td>0.613764</td>\n",
       "      <td>0.057519</td>\n",
       "      <td>0.613764</td>\n",
       "      <td>0.057519</td>\n",
       "    </tr>\n",
       "    <tr>\n",
       "      <th>2</th>\n",
       "      <td>0.509577</td>\n",
       "      <td>{'criterion': 'gini', 'max_depth': 8}</td>\n",
       "      <td>0.608684</td>\n",
       "      <td>0.079932</td>\n",
       "      <td>12</td>\n",
       "      <td>0.608684</td>\n",
       "      <td>0.079932</td>\n",
       "      <td>0.608684</td>\n",
       "      <td>0.079932</td>\n",
       "    </tr>\n",
       "    <tr>\n",
       "      <th>9</th>\n",
       "      <td>0.567994</td>\n",
       "      <td>{'criterion': 'entropy', 'max_depth': 6}</td>\n",
       "      <td>0.558819</td>\n",
       "      <td>0.055608</td>\n",
       "      <td>13</td>\n",
       "      <td>0.558819</td>\n",
       "      <td>0.055608</td>\n",
       "      <td>0.558819</td>\n",
       "      <td>0.055608</td>\n",
       "    </tr>\n",
       "    <tr>\n",
       "      <th>1</th>\n",
       "      <td>0.407050</td>\n",
       "      <td>{'criterion': 'gini', 'max_depth': 6}</td>\n",
       "      <td>0.558215</td>\n",
       "      <td>0.074684</td>\n",
       "      <td>14</td>\n",
       "      <td>0.558215</td>\n",
       "      <td>0.074684</td>\n",
       "      <td>0.558215</td>\n",
       "      <td>0.074684</td>\n",
       "    </tr>\n",
       "    <tr>\n",
       "      <th>0</th>\n",
       "      <td>0.291367</td>\n",
       "      <td>{'criterion': 'gini', 'max_depth': 4}</td>\n",
       "      <td>0.503299</td>\n",
       "      <td>0.057625</td>\n",
       "      <td>15</td>\n",
       "      <td>0.503299</td>\n",
       "      <td>0.057625</td>\n",
       "      <td>0.503299</td>\n",
       "      <td>0.057625</td>\n",
       "    </tr>\n",
       "    <tr>\n",
       "      <th>8</th>\n",
       "      <td>0.400636</td>\n",
       "      <td>{'criterion': 'entropy', 'max_depth': 4}</td>\n",
       "      <td>0.494941</td>\n",
       "      <td>0.041150</td>\n",
       "      <td>16</td>\n",
       "      <td>0.494941</td>\n",
       "      <td>0.041150</td>\n",
       "      <td>0.494941</td>\n",
       "      <td>0.041150</td>\n",
       "    </tr>\n",
       "  </tbody>\n",
       "</table>\n",
       "</div>"
      ],
      "text/plain": [
       "    mean_fit_time                                     params  \\\n",
       "13       0.797402  {'criterion': 'entropy', 'max_depth': 15}   \n",
       "14       0.796825  {'criterion': 'entropy', 'max_depth': 17}   \n",
       "15       0.792621  {'criterion': 'entropy', 'max_depth': 20}   \n",
       "12       0.790133  {'criterion': 'entropy', 'max_depth': 12}   \n",
       "6        0.645684     {'criterion': 'gini', 'max_depth': 17}   \n",
       "7        0.660708     {'criterion': 'gini', 'max_depth': 20}   \n",
       "11       0.765384  {'criterion': 'entropy', 'max_depth': 10}   \n",
       "5        0.632723     {'criterion': 'gini', 'max_depth': 15}   \n",
       "4        0.591465     {'criterion': 'gini', 'max_depth': 12}   \n",
       "3        0.569947     {'criterion': 'gini', 'max_depth': 10}   \n",
       "10       0.689809   {'criterion': 'entropy', 'max_depth': 8}   \n",
       "2        0.509577      {'criterion': 'gini', 'max_depth': 8}   \n",
       "9        0.567994   {'criterion': 'entropy', 'max_depth': 6}   \n",
       "1        0.407050      {'criterion': 'gini', 'max_depth': 6}   \n",
       "0        0.291367      {'criterion': 'gini', 'max_depth': 4}   \n",
       "8        0.400636   {'criterion': 'entropy', 'max_depth': 4}   \n",
       "\n",
       "    mean_test_accuracy  std_test_accuracy  rank_test_accuracy  \\\n",
       "13            0.655279           0.067756                   1   \n",
       "14            0.650821           0.066743                   2   \n",
       "15            0.650821           0.066743                   2   \n",
       "12            0.648273           0.072226                   4   \n",
       "6             0.647607           0.081889                   5   \n",
       "7             0.644406           0.078597                   6   \n",
       "11            0.640577           0.052175                   7   \n",
       "5             0.637404           0.074361                   8   \n",
       "4             0.636142           0.076938                   9   \n",
       "3             0.625931           0.069287                  10   \n",
       "10            0.613764           0.057519                  11   \n",
       "2             0.608684           0.079932                  12   \n",
       "9             0.558819           0.055608                  13   \n",
       "1             0.558215           0.074684                  14   \n",
       "0             0.503299           0.057625                  15   \n",
       "8             0.494941           0.041150                  16   \n",
       "\n",
       "    mean_test_precision  std_test_precision  mean_test_recall  std_test_recall  \n",
       "13             0.655279            0.067756          0.655279         0.067756  \n",
       "14             0.650821            0.066743          0.650821         0.066743  \n",
       "15             0.650821            0.066743          0.650821         0.066743  \n",
       "12             0.648273            0.072226          0.648273         0.072226  \n",
       "6              0.647607            0.081889          0.647607         0.081889  \n",
       "7              0.644406            0.078597          0.644406         0.078597  \n",
       "11             0.640577            0.052175          0.640577         0.052175  \n",
       "5              0.637404            0.074361          0.637404         0.074361  \n",
       "4              0.636142            0.076938          0.636142         0.076938  \n",
       "3              0.625931            0.069287          0.625931         0.069287  \n",
       "10             0.613764            0.057519          0.613764         0.057519  \n",
       "2              0.608684            0.079932          0.608684         0.079932  \n",
       "9              0.558819            0.055608          0.558819         0.055608  \n",
       "1              0.558215            0.074684          0.558215         0.074684  \n",
       "0              0.503299            0.057625          0.503299         0.057625  \n",
       "8              0.494941            0.041150          0.494941         0.041150  "
      ]
     },
     "execution_count": 136,
     "metadata": {},
     "output_type": "execute_result"
    }
   ],
   "source": [
    "df = pd.DataFrame(clf_tree.cv_results_)\n",
    "df.sort_values(by='rank_test_accuracy')[['mean_fit_time','params','mean_test_accuracy','std_test_accuracy','rank_test_accuracy',\n",
    "                                         'mean_test_precision','std_test_precision','mean_test_recall','std_test_recall']]"
   ]
  },
  {
   "cell_type": "code",
   "execution_count": 137,
   "metadata": {
    "colab": {
     "base_uri": "https://localhost:8080/",
     "height": 353
    },
    "id": "9v5_o2kSJmF9",
    "outputId": "714ec43c-770e-48db-aa83-0ebcb59c6e3c"
   },
   "outputs": [
    {
     "data": {
      "image/png": "[encoded data removed]",
      "text/plain": [
       "<Figure size 432x288 with 1 Axes>"
      ]
     },
     "metadata": {},
     "output_type": "display_data"
    },
    {
     "name": "stdout",
     "output_type": "stream",
     "text": [
      "Precision: 0.421\n",
      "Recall: 0.421\n",
      "Accuracy: 0.421\n"
     ]
    }
   ],
   "source": [
    "%matplotlib inline\n",
    "import seaborn as sns; sns.set()\n",
    "from sklearn.metrics import confusion_matrix\n",
    "import matplotlib.pyplot as plt\n",
    "import numpy as np\n",
    "\n",
    "\n",
    "y_test_pred = clf_tree.predict(X_test)\n",
    "cm_test = confusion_matrix(y_test, y_test_pred)\n",
    "\n",
    "sns.heatmap(cm_test.T, square=True, annot=True, fmt='d', cbar=False,\n",
    "            xticklabels= np.unique(y_test),\n",
    "            yticklabels= np.unique(y_test_pred))\n",
    "plt.xlabel('true label')\n",
    "plt.ylabel('predicted label');\n",
    "plt.title('Confusion Matrix DT - Test Set')\n",
    "plt.show()\n",
    "\n",
    "print('Precision: %.3f' %(precision_score(y_test, y_test_pred,average='micro')))\n",
    "print('Recall: %.3f' %(recall_score(y_test, y_test_pred,average='micro')))\n",
    "print('Accuracy: %.3f' %(accuracy_score(y_test,y_test_pred)))"
   ]
  },
  {
   "cell_type": "markdown",
   "metadata": {
    "id": "ZIaPEoz6Ti1Z"
   },
   "source": [
    "## 2.1.3. K Neighbours"
   ]
  },
  {
   "cell_type": "code",
   "execution_count": 139,
   "metadata": {
    "colab": {
     "base_uri": "https://localhost:8080/"
    },
    "id": "AwyIGd0AToMr",
    "outputId": "ef6f41c6-99bc-4a89-b4f0-7f1d3f9d823e"
   },
   "outputs": [
    {
     "name": "stdout",
     "output_type": "stream",
     "text": [
      "{'metric': 'euclidean', 'n_neighbors': 3}\n"
     ]
    }
   ],
   "source": [
    "from sklearn.neighbors import KNeighborsClassifier\n",
    "\n",
    "nn_para = {'n_neighbors':[3,6,9],\n",
    "          'metric':[\"euclidean\",\"manhattan\"]}\n",
    "scores= {'accuracy':make_scorer(accuracy_score),'precision':make_scorer(precision_score,average='micro'),\n",
    "         'recall':make_scorer(recall_score,average='micro')}\n",
    "\n",
    "clf_kn = GridSearchCV(KNeighborsClassifier(), nn_para, cv=10, scoring=scores,\n",
    "                       refit='accuracy', return_train_score=True,n_jobs=4)\n",
    "clf_kn = clf_kn.fit(X_train_1, y_train_1)\n",
    "print(clf_kn.best_params_)"
   ]
  },
  {
   "cell_type": "code",
   "execution_count": 140,
   "metadata": {
    "colab": {
     "base_uri": "https://localhost:8080/",
     "height": 561
    },
    "id": "seL-PlX5BFw_",
    "outputId": "b237bf42-8ec0-4150-bc61-383b528f11fc"
   },
   "outputs": [
    {
     "data": {
      "text/html": [
       "<div>\n",
       "<style scoped>\n",
       "    .dataframe tbody tr th:only-of-type {\n",
       "        vertical-align: middle;\n",
       "    }\n",
       "\n",
       "    .dataframe tbody tr th {\n",
       "        vertical-align: top;\n",
       "    }\n",
       "\n",
       "    .dataframe thead th {\n",
       "        text-align: right;\n",
       "    }\n",
       "</style>\n",
       "<table border=\"1\" class=\"dataframe\">\n",
       "  <thead>\n",
       "    <tr style=\"text-align: right;\">\n",
       "      <th></th>\n",
       "      <th>mean_fit_time</th>\n",
       "      <th>params</th>\n",
       "      <th>mean_test_accuracy</th>\n",
       "      <th>std_test_accuracy</th>\n",
       "      <th>rank_test_accuracy</th>\n",
       "      <th>mean_test_precision</th>\n",
       "      <th>std_test_precision</th>\n",
       "      <th>mean_test_recall</th>\n",
       "      <th>std_test_recall</th>\n",
       "    </tr>\n",
       "  </thead>\n",
       "  <tbody>\n",
       "    <tr>\n",
       "      <th>0</th>\n",
       "      <td>0.010657</td>\n",
       "      <td>{'metric': 'euclidean', 'n_neighbors': 3}</td>\n",
       "      <td>0.641863</td>\n",
       "      <td>0.047876</td>\n",
       "      <td>1</td>\n",
       "      <td>0.641863</td>\n",
       "      <td>0.047876</td>\n",
       "      <td>0.641863</td>\n",
       "      <td>0.047876</td>\n",
       "    </tr>\n",
       "    <tr>\n",
       "      <th>3</th>\n",
       "      <td>0.006493</td>\n",
       "      <td>{'metric': 'manhattan', 'n_neighbors': 3}</td>\n",
       "      <td>0.634179</td>\n",
       "      <td>0.041421</td>\n",
       "      <td>2</td>\n",
       "      <td>0.634179</td>\n",
       "      <td>0.041421</td>\n",
       "      <td>0.634179</td>\n",
       "      <td>0.041421</td>\n",
       "    </tr>\n",
       "    <tr>\n",
       "      <th>4</th>\n",
       "      <td>0.005544</td>\n",
       "      <td>{'metric': 'manhattan', 'n_neighbors': 6}</td>\n",
       "      <td>0.595264</td>\n",
       "      <td>0.056955</td>\n",
       "      <td>3</td>\n",
       "      <td>0.595264</td>\n",
       "      <td>0.056955</td>\n",
       "      <td>0.595264</td>\n",
       "      <td>0.056955</td>\n",
       "    </tr>\n",
       "    <tr>\n",
       "      <th>1</th>\n",
       "      <td>0.007732</td>\n",
       "      <td>{'metric': 'euclidean', 'n_neighbors': 6}</td>\n",
       "      <td>0.592700</td>\n",
       "      <td>0.052373</td>\n",
       "      <td>4</td>\n",
       "      <td>0.592700</td>\n",
       "      <td>0.052373</td>\n",
       "      <td>0.592700</td>\n",
       "      <td>0.052373</td>\n",
       "    </tr>\n",
       "    <tr>\n",
       "      <th>5</th>\n",
       "      <td>0.005730</td>\n",
       "      <td>{'metric': 'manhattan', 'n_neighbors': 9}</td>\n",
       "      <td>0.575478</td>\n",
       "      <td>0.066601</td>\n",
       "      <td>5</td>\n",
       "      <td>0.575478</td>\n",
       "      <td>0.066601</td>\n",
       "      <td>0.575478</td>\n",
       "      <td>0.066601</td>\n",
       "    </tr>\n",
       "    <tr>\n",
       "      <th>2</th>\n",
       "      <td>0.008512</td>\n",
       "      <td>{'metric': 'euclidean', 'n_neighbors': 9}</td>\n",
       "      <td>0.571619</td>\n",
       "      <td>0.053811</td>\n",
       "      <td>6</td>\n",
       "      <td>0.571619</td>\n",
       "      <td>0.053811</td>\n",
       "      <td>0.571619</td>\n",
       "      <td>0.053811</td>\n",
       "    </tr>\n",
       "  </tbody>\n",
       "</table>\n",
       "</div>"
      ],
      "text/plain": [
       "   mean_fit_time                                     params  \\\n",
       "0       0.010657  {'metric': 'euclidean', 'n_neighbors': 3}   \n",
       "3       0.006493  {'metric': 'manhattan', 'n_neighbors': 3}   \n",
       "4       0.005544  {'metric': 'manhattan', 'n_neighbors': 6}   \n",
       "1       0.007732  {'metric': 'euclidean', 'n_neighbors': 6}   \n",
       "5       0.005730  {'metric': 'manhattan', 'n_neighbors': 9}   \n",
       "2       0.008512  {'metric': 'euclidean', 'n_neighbors': 9}   \n",
       "\n",
       "   mean_test_accuracy  std_test_accuracy  rank_test_accuracy  \\\n",
       "0            0.641863           0.047876                   1   \n",
       "3            0.634179           0.041421                   2   \n",
       "4            0.595264           0.056955                   3   \n",
       "1            0.592700           0.052373                   4   \n",
       "5            0.575478           0.066601                   5   \n",
       "2            0.571619           0.053811                   6   \n",
       "\n",
       "   mean_test_precision  std_test_precision  mean_test_recall  std_test_recall  \n",
       "0             0.641863            0.047876          0.641863         0.047876  \n",
       "3             0.634179            0.041421          0.634179         0.041421  \n",
       "4             0.595264            0.056955          0.595264         0.056955  \n",
       "1             0.592700            0.052373          0.592700         0.052373  \n",
       "5             0.575478            0.066601          0.575478         0.066601  \n",
       "2             0.571619            0.053811          0.571619         0.053811  "
      ]
     },
     "execution_count": 140,
     "metadata": {},
     "output_type": "execute_result"
    }
   ],
   "source": [
    "df = pd.DataFrame(clf_kn.cv_results_)\n",
    "df.sort_values(by='rank_test_accuracy')[['mean_fit_time','params','mean_test_accuracy','std_test_accuracy','rank_test_accuracy',\n",
    "                                         'mean_test_precision','std_test_precision','mean_test_recall','std_test_recall']]"
   ]
  },
  {
   "cell_type": "code",
   "execution_count": 141,
   "metadata": {
    "colab": {
     "base_uri": "https://localhost:8080/",
     "height": 353
    },
    "id": "pxS5RbyEBIik",
    "outputId": "7b02b7e7-a8a3-4b27-c67a-a6c701407d6e"
   },
   "outputs": [
    {
     "data": {
      "image/png": "[encoded data removed]",
      "text/plain": [
       "<Figure size 432x288 with 1 Axes>"
      ]
     },
     "metadata": {},
     "output_type": "display_data"
    },
    {
     "name": "stdout",
     "output_type": "stream",
     "text": [
      "Precision: 0.421\n",
      "Recall: 0.421\n",
      "Accuracy: 0.421\n"
     ]
    }
   ],
   "source": [
    "y_test_pred_gnb = clf_kn.predict(X_test)\n",
    "cm_test = confusion_matrix(y_test, y_test_pred_gnb)\n",
    "\n",
    "sns.heatmap(cm_test.T, square=True, annot=True, fmt='d', cbar=False,\n",
    "            xticklabels= np.unique(y_test),\n",
    "            yticklabels= np.unique(y_test_pred_gnb))\n",
    "plt.xlabel('true label')\n",
    "plt.ylabel('predicted label');\n",
    "plt.title('Confusion Matrix Naive Bayes - Test Set')\n",
    "plt.show()\n",
    "\n",
    "print('Precision: %.3f' %(precision_score(y_test, y_test_pred,average='micro')))\n",
    "print('Recall: %.3f' %(recall_score(y_test, y_test_pred,average='micro')))\n",
    "print('Accuracy: %.3f' %(accuracy_score(y_test,y_test_pred)))"
   ]
  },
  {
   "cell_type": "markdown",
   "metadata": {
    "id": "WkaY1TdPBWq5"
   },
   "source": [
    "## 2.1.4. Support Vector Machine"
   ]
  },
  {
   "cell_type": "code",
   "execution_count": 142,
   "metadata": {
    "colab": {
     "base_uri": "https://localhost:8080/",
     "height": 394
    },
    "id": "8pdapudCBY81",
    "outputId": "2b7d6d99-b564-4bec-967f-302b2c3b0b9d"
   },
   "outputs": [
    {
     "name": "stderr",
     "output_type": "stream",
     "text": [
      "/home/bnt4me/.local/lib/python3.8/site-packages/sklearn/svm/_base.py:1199: ConvergenceWarning: Liblinear failed to converge, increase the number of iterations.\n",
      "  warnings.warn(\n"
     ]
    },
    {
     "data": {
      "text/plain": [
       "GridSearchCV(cv=10, estimator=LinearSVC(random_state=10), n_jobs=5,\n",
       "             param_grid={'C': [1, 2, 3, 5, 10, 15, 20, 30, 40, 60, 90, 320],\n",
       "                         'penalty': ['l2']},\n",
       "             refit='accuracy', return_train_score=True,\n",
       "             scoring={'accuracy': make_scorer(accuracy_score),\n",
       "                      'precision': make_scorer(precision_score, average=micro),\n",
       "                      'recall': make_scorer(recall_score, average=micro)})"
      ]
     },
     "execution_count": 142,
     "metadata": {},
     "output_type": "execute_result"
    }
   ],
   "source": [
    "from sklearn.model_selection import GridSearchCV\n",
    "from sklearn import svm\n",
    "from sklearn.model_selection import cross_val_score\n",
    "from sklearn.metrics import precision_score\n",
    "from sklearn.metrics import accuracy_score\n",
    "from sklearn.metrics import recall_score\n",
    "from sklearn.metrics import make_scorer\n",
    "\n",
    "param_grid =  {'penalty':['l2'],'C':[1,2,3,5,10,15,20,30,40,60,90, 320]}\n",
    "scores= {'accuracy':make_scorer(accuracy_score),'precision':make_scorer(precision_score,average='micro'),\n",
    "         'recall':make_scorer(recall_score,average='micro')}\n",
    "\n",
    "svc = svm.LinearSVC(random_state=10)\n",
    "clf_svc = GridSearchCV(svc, param_grid,cv=10,scoring=scores,\n",
    "                        refit='accuracy', return_train_score=True, n_jobs=5)\n",
    "clf_svc.fit(X_train_1, y_train_1) "
   ]
  },
  {
   "cell_type": "code",
   "execution_count": 143,
   "metadata": {
    "id": "Znx51o33BZIX"
   },
   "outputs": [
    {
     "name": "stdout",
     "output_type": "stream",
     "text": [
      "{'C': 40, 'penalty': 'l2'}\n"
     ]
    }
   ],
   "source": [
    "print(clf_svc.best_params_)"
   ]
  },
  {
   "cell_type": "code",
   "execution_count": 144,
   "metadata": {
    "id": "fpxVdnvyBZSM"
   },
   "outputs": [
    {
     "data": {
      "text/html": [
       "<div>\n",
       "<style scoped>\n",
       "    .dataframe tbody tr th:only-of-type {\n",
       "        vertical-align: middle;\n",
       "    }\n",
       "\n",
       "    .dataframe tbody tr th {\n",
       "        vertical-align: top;\n",
       "    }\n",
       "\n",
       "    .dataframe thead th {\n",
       "        text-align: right;\n",
       "    }\n",
       "</style>\n",
       "<table border=\"1\" class=\"dataframe\">\n",
       "  <thead>\n",
       "    <tr style=\"text-align: right;\">\n",
       "      <th></th>\n",
       "      <th>mean_fit_time</th>\n",
       "      <th>params</th>\n",
       "      <th>mean_test_accuracy</th>\n",
       "      <th>std_test_accuracy</th>\n",
       "      <th>rank_test_accuracy</th>\n",
       "      <th>mean_test_precision</th>\n",
       "      <th>std_test_precision</th>\n",
       "      <th>mean_test_recall</th>\n",
       "      <th>std_test_recall</th>\n",
       "    </tr>\n",
       "  </thead>\n",
       "  <tbody>\n",
       "    <tr>\n",
       "      <th>8</th>\n",
       "      <td>3.037798</td>\n",
       "      <td>{'C': 40, 'penalty': 'l2'}</td>\n",
       "      <td>0.763796</td>\n",
       "      <td>0.038931</td>\n",
       "      <td>1</td>\n",
       "      <td>0.763796</td>\n",
       "      <td>0.038931</td>\n",
       "      <td>0.763796</td>\n",
       "      <td>0.038931</td>\n",
       "    </tr>\n",
       "    <tr>\n",
       "      <th>10</th>\n",
       "      <td>3.234322</td>\n",
       "      <td>{'C': 90, 'penalty': 'l2'}</td>\n",
       "      <td>0.763796</td>\n",
       "      <td>0.038931</td>\n",
       "      <td>1</td>\n",
       "      <td>0.763796</td>\n",
       "      <td>0.038931</td>\n",
       "      <td>0.763796</td>\n",
       "      <td>0.038931</td>\n",
       "    </tr>\n",
       "    <tr>\n",
       "      <th>11</th>\n",
       "      <td>2.946505</td>\n",
       "      <td>{'C': 320, 'penalty': 'l2'}</td>\n",
       "      <td>0.763155</td>\n",
       "      <td>0.038995</td>\n",
       "      <td>3</td>\n",
       "      <td>0.763155</td>\n",
       "      <td>0.038995</td>\n",
       "      <td>0.763155</td>\n",
       "      <td>0.038995</td>\n",
       "    </tr>\n",
       "    <tr>\n",
       "      <th>7</th>\n",
       "      <td>3.009488</td>\n",
       "      <td>{'C': 30, 'penalty': 'l2'}</td>\n",
       "      <td>0.762522</td>\n",
       "      <td>0.038893</td>\n",
       "      <td>4</td>\n",
       "      <td>0.762522</td>\n",
       "      <td>0.038893</td>\n",
       "      <td>0.762522</td>\n",
       "      <td>0.038893</td>\n",
       "    </tr>\n",
       "    <tr>\n",
       "      <th>9</th>\n",
       "      <td>3.258892</td>\n",
       "      <td>{'C': 60, 'penalty': 'l2'}</td>\n",
       "      <td>0.762522</td>\n",
       "      <td>0.038893</td>\n",
       "      <td>4</td>\n",
       "      <td>0.762522</td>\n",
       "      <td>0.038893</td>\n",
       "      <td>0.762522</td>\n",
       "      <td>0.038893</td>\n",
       "    </tr>\n",
       "    <tr>\n",
       "      <th>3</th>\n",
       "      <td>3.111251</td>\n",
       "      <td>{'C': 5, 'penalty': 'l2'}</td>\n",
       "      <td>0.761886</td>\n",
       "      <td>0.036210</td>\n",
       "      <td>6</td>\n",
       "      <td>0.761886</td>\n",
       "      <td>0.036210</td>\n",
       "      <td>0.761886</td>\n",
       "      <td>0.036210</td>\n",
       "    </tr>\n",
       "    <tr>\n",
       "      <th>0</th>\n",
       "      <td>2.934155</td>\n",
       "      <td>{'C': 1, 'penalty': 'l2'}</td>\n",
       "      <td>0.761881</td>\n",
       "      <td>0.040569</td>\n",
       "      <td>7</td>\n",
       "      <td>0.761881</td>\n",
       "      <td>0.040569</td>\n",
       "      <td>0.761881</td>\n",
       "      <td>0.040569</td>\n",
       "    </tr>\n",
       "    <tr>\n",
       "      <th>1</th>\n",
       "      <td>2.913789</td>\n",
       "      <td>{'C': 2, 'penalty': 'l2'}</td>\n",
       "      <td>0.761881</td>\n",
       "      <td>0.039235</td>\n",
       "      <td>7</td>\n",
       "      <td>0.761881</td>\n",
       "      <td>0.039235</td>\n",
       "      <td>0.761881</td>\n",
       "      <td>0.039235</td>\n",
       "    </tr>\n",
       "    <tr>\n",
       "      <th>2</th>\n",
       "      <td>2.963850</td>\n",
       "      <td>{'C': 3, 'penalty': 'l2'}</td>\n",
       "      <td>0.761244</td>\n",
       "      <td>0.037564</td>\n",
       "      <td>9</td>\n",
       "      <td>0.761244</td>\n",
       "      <td>0.037564</td>\n",
       "      <td>0.761244</td>\n",
       "      <td>0.037564</td>\n",
       "    </tr>\n",
       "    <tr>\n",
       "      <th>5</th>\n",
       "      <td>3.224439</td>\n",
       "      <td>{'C': 15, 'penalty': 'l2'}</td>\n",
       "      <td>0.760608</td>\n",
       "      <td>0.036898</td>\n",
       "      <td>10</td>\n",
       "      <td>0.760608</td>\n",
       "      <td>0.036898</td>\n",
       "      <td>0.760608</td>\n",
       "      <td>0.036898</td>\n",
       "    </tr>\n",
       "    <tr>\n",
       "      <th>4</th>\n",
       "      <td>3.208627</td>\n",
       "      <td>{'C': 10, 'penalty': 'l2'}</td>\n",
       "      <td>0.760603</td>\n",
       "      <td>0.037240</td>\n",
       "      <td>11</td>\n",
       "      <td>0.760603</td>\n",
       "      <td>0.037240</td>\n",
       "      <td>0.760603</td>\n",
       "      <td>0.037240</td>\n",
       "    </tr>\n",
       "    <tr>\n",
       "      <th>6</th>\n",
       "      <td>3.192663</td>\n",
       "      <td>{'C': 20, 'penalty': 'l2'}</td>\n",
       "      <td>0.759971</td>\n",
       "      <td>0.038082</td>\n",
       "      <td>12</td>\n",
       "      <td>0.759971</td>\n",
       "      <td>0.038082</td>\n",
       "      <td>0.759971</td>\n",
       "      <td>0.038082</td>\n",
       "    </tr>\n",
       "  </tbody>\n",
       "</table>\n",
       "</div>"
      ],
      "text/plain": [
       "    mean_fit_time                       params  mean_test_accuracy  \\\n",
       "8        3.037798   {'C': 40, 'penalty': 'l2'}            0.763796   \n",
       "10       3.234322   {'C': 90, 'penalty': 'l2'}            0.763796   \n",
       "11       2.946505  {'C': 320, 'penalty': 'l2'}            0.763155   \n",
       "7        3.009488   {'C': 30, 'penalty': 'l2'}            0.762522   \n",
       "9        3.258892   {'C': 60, 'penalty': 'l2'}            0.762522   \n",
       "3        3.111251    {'C': 5, 'penalty': 'l2'}            0.761886   \n",
       "0        2.934155    {'C': 1, 'penalty': 'l2'}            0.761881   \n",
       "1        2.913789    {'C': 2, 'penalty': 'l2'}            0.761881   \n",
       "2        2.963850    {'C': 3, 'penalty': 'l2'}            0.761244   \n",
       "5        3.224439   {'C': 15, 'penalty': 'l2'}            0.760608   \n",
       "4        3.208627   {'C': 10, 'penalty': 'l2'}            0.760603   \n",
       "6        3.192663   {'C': 20, 'penalty': 'l2'}            0.759971   \n",
       "\n",
       "    std_test_accuracy  rank_test_accuracy  mean_test_precision  \\\n",
       "8            0.038931                   1             0.763796   \n",
       "10           0.038931                   1             0.763796   \n",
       "11           0.038995                   3             0.763155   \n",
       "7            0.038893                   4             0.762522   \n",
       "9            0.038893                   4             0.762522   \n",
       "3            0.036210                   6             0.761886   \n",
       "0            0.040569                   7             0.761881   \n",
       "1            0.039235                   7             0.761881   \n",
       "2            0.037564                   9             0.761244   \n",
       "5            0.036898                  10             0.760608   \n",
       "4            0.037240                  11             0.760603   \n",
       "6            0.038082                  12             0.759971   \n",
       "\n",
       "    std_test_precision  mean_test_recall  std_test_recall  \n",
       "8             0.038931          0.763796         0.038931  \n",
       "10            0.038931          0.763796         0.038931  \n",
       "11            0.038995          0.763155         0.038995  \n",
       "7             0.038893          0.762522         0.038893  \n",
       "9             0.038893          0.762522         0.038893  \n",
       "3             0.036210          0.761886         0.036210  \n",
       "0             0.040569          0.761881         0.040569  \n",
       "1             0.039235          0.761881         0.039235  \n",
       "2             0.037564          0.761244         0.037564  \n",
       "5             0.036898          0.760608         0.036898  \n",
       "4             0.037240          0.760603         0.037240  \n",
       "6             0.038082          0.759971         0.038082  "
      ]
     },
     "execution_count": 144,
     "metadata": {},
     "output_type": "execute_result"
    }
   ],
   "source": [
    "df = pd.DataFrame(clf_svc.cv_results_)\n",
    "df.sort_values(by='rank_test_accuracy')[['mean_fit_time','params','mean_test_accuracy','std_test_accuracy','rank_test_accuracy',\n",
    "                                         'mean_test_precision','std_test_precision','mean_test_recall','std_test_recall']]"
   ]
  },
  {
   "cell_type": "code",
   "execution_count": 145,
   "metadata": {
    "id": "qv9d0VLoBesU"
   },
   "outputs": [
    {
     "data": {
      "image/png": "[encoded data removed]",
      "text/plain": [
       "<Figure size 432x288 with 1 Axes>"
      ]
     },
     "metadata": {},
     "output_type": "display_data"
    },
    {
     "name": "stdout",
     "output_type": "stream",
     "text": [
      "Precision: 0.356\n",
      "Recall: 0.356\n",
      "Accuracy: 0.356\n"
     ]
    }
   ],
   "source": [
    "%matplotlib inline\n",
    "import seaborn as sns; sns.set()\n",
    "from sklearn.metrics import confusion_matrix\n",
    "import matplotlib.pyplot as plt\n",
    "\n",
    "y_test_pred = clf_svc.predict(X_test)\n",
    "cm_test = confusion_matrix(y_test, y_test_pred)\n",
    "\n",
    "sns.heatmap(cm_test.T, square=True, annot=True, fmt='d', cbar=False,\n",
    "            xticklabels= np.unique(y_test),\n",
    "            yticklabels= np.unique(y_test_pred))\n",
    "plt.xlabel('true label')\n",
    "plt.ylabel('predicted label');\n",
    "plt.title('Confusion Matrix DT - Test Set')\n",
    "plt.show()\n",
    "\n",
    "print('Precision: %.3f' %(precision_score(y_test, y_test_pred,average='micro')))\n",
    "print('Recall: %.3f' %(recall_score(y_test, y_test_pred,average='micro')))\n",
    "print('Accuracy: %.3f' %(accuracy_score(y_test,y_test_pred)))"
   ]
  },
  {
   "cell_type": "markdown",
   "metadata": {
    "id": "ZJ4qyaklX3aI"
   },
   "source": [
    "# Ensemble method:\n"
   ]
  },
  {
   "cell_type": "markdown",
   "metadata": {
    "id": "S8iK8hEtRBHL"
   },
   "source": [
    "## 2.1.5. Voting clasifier"
   ]
  },
  {
   "cell_type": "code",
   "execution_count": 146,
   "metadata": {
    "colab": {
     "base_uri": "https://localhost:8080/"
    },
    "id": "zsG9r-BOX97j",
    "outputId": "4afadd70-1d73-4cfb-ea34-609f5740daca"
   },
   "outputs": [
    {
     "name": "stderr",
     "output_type": "stream",
     "text": [
      "/home/bnt4me/.local/lib/python3.8/site-packages/sklearn/svm/_base.py:1199: ConvergenceWarning: Liblinear failed to converge, increase the number of iterations.\n",
      "  warnings.warn(\n"
     ]
    }
   ],
   "source": [
    "from sklearn.ensemble import VotingClassifier\n",
    "\n",
    "from sklearn import svm\n",
    "from sklearn.tree import DecisionTreeClassifier\n",
    "from sklearn.neighbors import KNeighborsClassifier\n",
    "from sklearn.neural_network import MLPClassifier\n",
    "\n",
    "\n",
    "classif_model_1 = DecisionTreeClassifier(random_state=15, criterion= 'gini', max_depth= 10)\n",
    "\n",
    "classif_model_2 = MLPClassifier(random_state=1, max_iter=300, activation= 'relu', alpha= 0.0001)\n",
    "\n",
    "classif_model_3 = svm.LinearSVC(random_state=1, C= 1, penalty= 'l2')\n",
    "\n",
    "classif_model_4 = KNeighborsClassifier(metric= 'manhattan', n_neighbors= 3, \n",
    "                                       weights= 'distance',n_jobs=4)\n",
    "\n",
    "ereg = VotingClassifier(estimators=[('DT', classif_model_1), ('NN', classif_model_2),\n",
    "                                    ('SVC', classif_model_3), ('KNN', classif_model_4)])\n",
    "ereg = ereg.fit(X_train_1, y_train_1)"
   ]
  },
  {
   "cell_type": "code",
   "execution_count": 147,
   "metadata": {
    "colab": {
     "base_uri": "https://localhost:8080/"
    },
    "id": "uJlRsoEyY1uE",
    "outputId": "d1b09acc-5185-4732-80ee-2dbe71c786d6"
   },
   "outputs": [
    {
     "name": "stdout",
     "output_type": "stream",
     "text": [
      "Classification report:\n",
      "              precision    recall  f1-score   support\n",
      "\n",
      "           0       0.20      0.45      0.28        47\n",
      "           1       0.59      0.42      0.49       172\n",
      "           2       0.34      0.30      0.32        73\n",
      "\n",
      "    accuracy                           0.40       292\n",
      "   macro avg       0.38      0.39      0.36       292\n",
      "weighted avg       0.46      0.40      0.42       292\n",
      "\n",
      "\n"
     ]
    }
   ],
   "source": [
    "from sklearn.metrics import classification_report\n",
    "\n",
    "y_pred_rf = ereg .predict(X_test)\n",
    "\n",
    "print('Classification report:\\n{0}\\n'.format(classification_report(y_test, y_pred_rf)))"
   ]
  },
  {
   "cell_type": "code",
   "execution_count": 148,
   "metadata": {
    "colab": {
     "base_uri": "https://localhost:8080/",
     "height": 302
    },
    "id": "6Taud8ohY-Pf",
    "outputId": "9f256008-6c8a-423d-8b5a-4fad0f68b32e"
   },
   "outputs": [
    {
     "data": {
      "image/png": "[encoded data removed]",
      "text/plain": [
       "<Figure size 432x288 with 1 Axes>"
      ]
     },
     "metadata": {},
     "output_type": "display_data"
    }
   ],
   "source": [
    "%matplotlib inline\n",
    "import seaborn as sns; sns.set()\n",
    "from sklearn.metrics import confusion_matrix\n",
    "import matplotlib.pyplot as plt\n",
    "\n",
    "y_test_pred = ereg.predict(X_test)\n",
    "cm_test = confusion_matrix(y_test, y_test_pred)\n",
    "\n",
    "sns.heatmap(cm_test.T, square=True, annot=True, fmt='d', cbar=False,\n",
    "            xticklabels= np.unique(y_test),\n",
    "            yticklabels= np.unique(y_test_pred))\n",
    "plt.xlabel('true label')\n",
    "plt.ylabel('predicted label');\n",
    "plt.title('Confusion Voting Classifier - Test Set')\n",
    "plt.show()"
   ]
  },
  {
   "cell_type": "markdown",
   "metadata": {
    "id": "aOCHnxONRGe3"
   },
   "source": [
    "## 2.1.6. XGBoost"
   ]
  },
  {
   "cell_type": "code",
   "execution_count": 82,
   "metadata": {
    "colab": {
     "base_uri": "https://localhost:8080/"
    },
    "id": "Bg9sxFBjy4Qa",
    "outputId": "8a215b8e-55f2-418e-b6fb-f0610dd058d3"
   },
   "outputs": [
    {
     "name": "stderr",
     "output_type": "stream",
     "text": [
      "/home/bnt4me/.local/lib/python3.8/site-packages/sklearn/tree/_classes.py:359: FutureWarning: Criterion 'mse' was deprecated in v1.0 and will be removed in version 1.2. Use `criterion='squared_error'` which is equivalent.\n",
      "  warnings.warn(\n",
      "/home/bnt4me/.local/lib/python3.8/site-packages/sklearn/tree/_classes.py:359: FutureWarning: Criterion 'mse' was deprecated in v1.0 and will be removed in version 1.2. Use `criterion='squared_error'` which is equivalent.\n",
      "  warnings.warn(\n",
      "/home/bnt4me/.local/lib/python3.8/site-packages/sklearn/tree/_classes.py:359: FutureWarning: Criterion 'mse' was deprecated in v1.0 and will be removed in version 1.2. Use `criterion='squared_error'` which is equivalent.\n",
      "  warnings.warn(\n",
      "/home/bnt4me/.local/lib/python3.8/site-packages/sklearn/tree/_classes.py:359: FutureWarning: Criterion 'mse' was deprecated in v1.0 and will be removed in version 1.2. Use `criterion='squared_error'` which is equivalent.\n",
      "  warnings.warn(\n",
      "/home/bnt4me/.local/lib/python3.8/site-packages/sklearn/tree/_classes.py:359: FutureWarning: Criterion 'mse' was deprecated in v1.0 and will be removed in version 1.2. Use `criterion='squared_error'` which is equivalent.\n",
      "  warnings.warn(\n",
      "/home/bnt4me/.local/lib/python3.8/site-packages/sklearn/tree/_classes.py:359: FutureWarning: Criterion 'mse' was deprecated in v1.0 and will be removed in version 1.2. Use `criterion='squared_error'` which is equivalent.\n",
      "  warnings.warn(\n",
      "/home/bnt4me/.local/lib/python3.8/site-packages/sklearn/tree/_classes.py:359: FutureWarning: Criterion 'mse' was deprecated in v1.0 and will be removed in version 1.2. Use `criterion='squared_error'` which is equivalent.\n",
      "  warnings.warn(\n",
      "/home/bnt4me/.local/lib/python3.8/site-packages/sklearn/tree/_classes.py:359: FutureWarning: Criterion 'mse' was deprecated in v1.0 and will be removed in version 1.2. Use `criterion='squared_error'` which is equivalent.\n",
      "  warnings.warn(\n",
      "/home/bnt4me/.local/lib/python3.8/site-packages/sklearn/tree/_classes.py:359: FutureWarning: Criterion 'mse' was deprecated in v1.0 and will be removed in version 1.2. Use `criterion='squared_error'` which is equivalent.\n",
      "  warnings.warn(\n",
      "/home/bnt4me/.local/lib/python3.8/site-packages/sklearn/tree/_classes.py:359: FutureWarning: Criterion 'mse' was deprecated in v1.0 and will be removed in version 1.2. Use `criterion='squared_error'` which is equivalent.\n",
      "  warnings.warn(\n",
      "/home/bnt4me/.local/lib/python3.8/site-packages/sklearn/tree/_classes.py:359: FutureWarning: Criterion 'mse' was deprecated in v1.0 and will be removed in version 1.2. Use `criterion='squared_error'` which is equivalent.\n",
      "  warnings.warn(\n",
      "/home/bnt4me/.local/lib/python3.8/site-packages/sklearn/tree/_classes.py:359: FutureWarning: Criterion 'mse' was deprecated in v1.0 and will be removed in version 1.2. Use `criterion='squared_error'` which is equivalent.\n",
      "  warnings.warn(\n",
      "/home/bnt4me/.local/lib/python3.8/site-packages/sklearn/tree/_classes.py:359: FutureWarning: Criterion 'mse' was deprecated in v1.0 and will be removed in version 1.2. Use `criterion='squared_error'` which is equivalent.\n",
      "  warnings.warn(\n",
      "/home/bnt4me/.local/lib/python3.8/site-packages/sklearn/tree/_classes.py:359: FutureWarning: Criterion 'mse' was deprecated in v1.0 and will be removed in version 1.2. Use `criterion='squared_error'` which is equivalent.\n",
      "  warnings.warn(\n",
      "/home/bnt4me/.local/lib/python3.8/site-packages/sklearn/tree/_classes.py:359: FutureWarning: Criterion 'mse' was deprecated in v1.0 and will be removed in version 1.2. Use `criterion='squared_error'` which is equivalent.\n",
      "  warnings.warn(\n",
      "/home/bnt4me/.local/lib/python3.8/site-packages/sklearn/tree/_classes.py:359: FutureWarning: Criterion 'mse' was deprecated in v1.0 and will be removed in version 1.2. Use `criterion='squared_error'` which is equivalent.\n",
      "  warnings.warn(\n",
      "/home/bnt4me/.local/lib/python3.8/site-packages/sklearn/tree/_classes.py:359: FutureWarning: Criterion 'mse' was deprecated in v1.0 and will be removed in version 1.2. Use `criterion='squared_error'` which is equivalent.\n",
      "  warnings.warn(\n",
      "/home/bnt4me/.local/lib/python3.8/site-packages/sklearn/tree/_classes.py:359: FutureWarning: Criterion 'mse' was deprecated in v1.0 and will be removed in version 1.2. Use `criterion='squared_error'` which is equivalent.\n",
      "  warnings.warn(\n",
      "/home/bnt4me/.local/lib/python3.8/site-packages/sklearn/tree/_classes.py:359: FutureWarning: Criterion 'mse' was deprecated in v1.0 and will be removed in version 1.2. Use `criterion='squared_error'` which is equivalent.\n",
      "  warnings.warn(\n",
      "/home/bnt4me/.local/lib/python3.8/site-packages/sklearn/tree/_classes.py:359: FutureWarning: Criterion 'mse' was deprecated in v1.0 and will be removed in version 1.2. Use `criterion='squared_error'` which is equivalent.\n",
      "  warnings.warn(\n",
      "/home/bnt4me/.local/lib/python3.8/site-packages/sklearn/tree/_classes.py:359: FutureWarning: Criterion 'mse' was deprecated in v1.0 and will be removed in version 1.2. Use `criterion='squared_error'` which is equivalent.\n",
      "  warnings.warn(\n",
      "/home/bnt4me/.local/lib/python3.8/site-packages/sklearn/tree/_classes.py:359: FutureWarning: Criterion 'mse' was deprecated in v1.0 and will be removed in version 1.2. Use `criterion='squared_error'` which is equivalent.\n",
      "  warnings.warn(\n",
      "/home/bnt4me/.local/lib/python3.8/site-packages/sklearn/tree/_classes.py:359: FutureWarning: Criterion 'mse' was deprecated in v1.0 and will be removed in version 1.2. Use `criterion='squared_error'` which is equivalent.\n",
      "  warnings.warn(\n",
      "/home/bnt4me/.local/lib/python3.8/site-packages/sklearn/tree/_classes.py:359: FutureWarning: Criterion 'mse' was deprecated in v1.0 and will be removed in version 1.2. Use `criterion='squared_error'` which is equivalent.\n",
      "  warnings.warn(\n",
      "/home/bnt4me/.local/lib/python3.8/site-packages/sklearn/tree/_classes.py:359: FutureWarning: Criterion 'mse' was deprecated in v1.0 and will be removed in version 1.2. Use `criterion='squared_error'` which is equivalent.\n",
      "  warnings.warn(\n",
      "/home/bnt4me/.local/lib/python3.8/site-packages/sklearn/tree/_classes.py:359: FutureWarning: Criterion 'mse' was deprecated in v1.0 and will be removed in version 1.2. Use `criterion='squared_error'` which is equivalent.\n",
      "  warnings.warn(\n",
      "/home/bnt4me/.local/lib/python3.8/site-packages/sklearn/tree/_classes.py:359: FutureWarning: Criterion 'mse' was deprecated in v1.0 and will be removed in version 1.2. Use `criterion='squared_error'` which is equivalent.\n",
      "  warnings.warn(\n",
      "/home/bnt4me/.local/lib/python3.8/site-packages/sklearn/tree/_classes.py:359: FutureWarning: Criterion 'mse' was deprecated in v1.0 and will be removed in version 1.2. Use `criterion='squared_error'` which is equivalent.\n",
      "  warnings.warn(\n",
      "/home/bnt4me/.local/lib/python3.8/site-packages/sklearn/tree/_classes.py:359: FutureWarning: Criterion 'mse' was deprecated in v1.0 and will be removed in version 1.2. Use `criterion='squared_error'` which is equivalent.\n",
      "  warnings.warn(\n",
      "/home/bnt4me/.local/lib/python3.8/site-packages/sklearn/tree/_classes.py:359: FutureWarning: Criterion 'mse' was deprecated in v1.0 and will be removed in version 1.2. Use `criterion='squared_error'` which is equivalent.\n",
      "  warnings.warn(\n",
      "/home/bnt4me/.local/lib/python3.8/site-packages/sklearn/tree/_classes.py:359: FutureWarning: Criterion 'mse' was deprecated in v1.0 and will be removed in version 1.2. Use `criterion='squared_error'` which is equivalent.\n",
      "  warnings.warn(\n",
      "/home/bnt4me/.local/lib/python3.8/site-packages/sklearn/tree/_classes.py:359: FutureWarning: Criterion 'mse' was deprecated in v1.0 and will be removed in version 1.2. Use `criterion='squared_error'` which is equivalent.\n",
      "  warnings.warn(\n",
      "/home/bnt4me/.local/lib/python3.8/site-packages/sklearn/tree/_classes.py:359: FutureWarning: Criterion 'mse' was deprecated in v1.0 and will be removed in version 1.2. Use `criterion='squared_error'` which is equivalent.\n",
      "  warnings.warn(\n",
      "/home/bnt4me/.local/lib/python3.8/site-packages/sklearn/tree/_classes.py:359: FutureWarning: Criterion 'mse' was deprecated in v1.0 and will be removed in version 1.2. Use `criterion='squared_error'` which is equivalent.\n",
      "  warnings.warn(\n",
      "/home/bnt4me/.local/lib/python3.8/site-packages/sklearn/tree/_classes.py:359: FutureWarning: Criterion 'mse' was deprecated in v1.0 and will be removed in version 1.2. Use `criterion='squared_error'` which is equivalent.\n",
      "  warnings.warn(\n",
      "/home/bnt4me/.local/lib/python3.8/site-packages/sklearn/tree/_classes.py:359: FutureWarning: Criterion 'mse' was deprecated in v1.0 and will be removed in version 1.2. Use `criterion='squared_error'` which is equivalent.\n",
      "  warnings.warn(\n",
      "/home/bnt4me/.local/lib/python3.8/site-packages/sklearn/tree/_classes.py:359: FutureWarning: Criterion 'mse' was deprecated in v1.0 and will be removed in version 1.2. Use `criterion='squared_error'` which is equivalent.\n",
      "  warnings.warn(\n",
      "/home/bnt4me/.local/lib/python3.8/site-packages/sklearn/tree/_classes.py:359: FutureWarning: Criterion 'mse' was deprecated in v1.0 and will be removed in version 1.2. Use `criterion='squared_error'` which is equivalent.\n",
      "  warnings.warn(\n",
      "/home/bnt4me/.local/lib/python3.8/site-packages/sklearn/tree/_classes.py:359: FutureWarning: Criterion 'mse' was deprecated in v1.0 and will be removed in version 1.2. Use `criterion='squared_error'` which is equivalent.\n",
      "  warnings.warn(\n",
      "/home/bnt4me/.local/lib/python3.8/site-packages/sklearn/tree/_classes.py:359: FutureWarning: Criterion 'mse' was deprecated in v1.0 and will be removed in version 1.2. Use `criterion='squared_error'` which is equivalent.\n",
      "  warnings.warn(\n",
      "/home/bnt4me/.local/lib/python3.8/site-packages/sklearn/tree/_classes.py:359: FutureWarning: Criterion 'mse' was deprecated in v1.0 and will be removed in version 1.2. Use `criterion='squared_error'` which is equivalent.\n",
      "  warnings.warn(\n",
      "/home/bnt4me/.local/lib/python3.8/site-packages/sklearn/tree/_classes.py:359: FutureWarning: Criterion 'mse' was deprecated in v1.0 and will be removed in version 1.2. Use `criterion='squared_error'` which is equivalent.\n",
      "  warnings.warn(\n",
      "/home/bnt4me/.local/lib/python3.8/site-packages/sklearn/tree/_classes.py:359: FutureWarning: Criterion 'mse' was deprecated in v1.0 and will be removed in version 1.2. Use `criterion='squared_error'` which is equivalent.\n",
      "  warnings.warn(\n",
      "/home/bnt4me/.local/lib/python3.8/site-packages/sklearn/tree/_classes.py:359: FutureWarning: Criterion 'mse' was deprecated in v1.0 and will be removed in version 1.2. Use `criterion='squared_error'` which is equivalent.\n",
      "  warnings.warn(\n",
      "/home/bnt4me/.local/lib/python3.8/site-packages/sklearn/tree/_classes.py:359: FutureWarning: Criterion 'mse' was deprecated in v1.0 and will be removed in version 1.2. Use `criterion='squared_error'` which is equivalent.\n",
      "  warnings.warn(\n",
      "/home/bnt4me/.local/lib/python3.8/site-packages/sklearn/tree/_classes.py:359: FutureWarning: Criterion 'mse' was deprecated in v1.0 and will be removed in version 1.2. Use `criterion='squared_error'` which is equivalent.\n",
      "  warnings.warn(\n",
      "/home/bnt4me/.local/lib/python3.8/site-packages/sklearn/tree/_classes.py:359: FutureWarning: Criterion 'mse' was deprecated in v1.0 and will be removed in version 1.2. Use `criterion='squared_error'` which is equivalent.\n",
      "  warnings.warn(\n",
      "/home/bnt4me/.local/lib/python3.8/site-packages/sklearn/tree/_classes.py:359: FutureWarning: Criterion 'mse' was deprecated in v1.0 and will be removed in version 1.2. Use `criterion='squared_error'` which is equivalent.\n",
      "  warnings.warn(\n",
      "/home/bnt4me/.local/lib/python3.8/site-packages/sklearn/tree/_classes.py:359: FutureWarning: Criterion 'mse' was deprecated in v1.0 and will be removed in version 1.2. Use `criterion='squared_error'` which is equivalent.\n",
      "  warnings.warn(\n",
      "/home/bnt4me/.local/lib/python3.8/site-packages/sklearn/tree/_classes.py:359: FutureWarning: Criterion 'mse' was deprecated in v1.0 and will be removed in version 1.2. Use `criterion='squared_error'` which is equivalent.\n",
      "  warnings.warn(\n",
      "/home/bnt4me/.local/lib/python3.8/site-packages/sklearn/tree/_classes.py:359: FutureWarning: Criterion 'mse' was deprecated in v1.0 and will be removed in version 1.2. Use `criterion='squared_error'` which is equivalent.\n",
      "  warnings.warn(\n",
      "/home/bnt4me/.local/lib/python3.8/site-packages/sklearn/tree/_classes.py:359: FutureWarning: Criterion 'mse' was deprecated in v1.0 and will be removed in version 1.2. Use `criterion='squared_error'` which is equivalent.\n",
      "  warnings.warn(\n",
      "/home/bnt4me/.local/lib/python3.8/site-packages/sklearn/tree/_classes.py:359: FutureWarning: Criterion 'mse' was deprecated in v1.0 and will be removed in version 1.2. Use `criterion='squared_error'` which is equivalent.\n",
      "  warnings.warn(\n",
      "/home/bnt4me/.local/lib/python3.8/site-packages/sklearn/tree/_classes.py:359: FutureWarning: Criterion 'mse' was deprecated in v1.0 and will be removed in version 1.2. Use `criterion='squared_error'` which is equivalent.\n",
      "  warnings.warn(\n",
      "/home/bnt4me/.local/lib/python3.8/site-packages/sklearn/tree/_classes.py:359: FutureWarning: Criterion 'mse' was deprecated in v1.0 and will be removed in version 1.2. Use `criterion='squared_error'` which is equivalent.\n",
      "  warnings.warn(\n",
      "/home/bnt4me/.local/lib/python3.8/site-packages/sklearn/tree/_classes.py:359: FutureWarning: Criterion 'mse' was deprecated in v1.0 and will be removed in version 1.2. Use `criterion='squared_error'` which is equivalent.\n",
      "  warnings.warn(\n",
      "/home/bnt4me/.local/lib/python3.8/site-packages/sklearn/tree/_classes.py:359: FutureWarning: Criterion 'mse' was deprecated in v1.0 and will be removed in version 1.2. Use `criterion='squared_error'` which is equivalent.\n",
      "  warnings.warn(\n",
      "/home/bnt4me/.local/lib/python3.8/site-packages/sklearn/tree/_classes.py:359: FutureWarning: Criterion 'mse' was deprecated in v1.0 and will be removed in version 1.2. Use `criterion='squared_error'` which is equivalent.\n",
      "  warnings.warn(\n",
      "/home/bnt4me/.local/lib/python3.8/site-packages/sklearn/tree/_classes.py:359: FutureWarning: Criterion 'mse' was deprecated in v1.0 and will be removed in version 1.2. Use `criterion='squared_error'` which is equivalent.\n",
      "  warnings.warn(\n",
      "/home/bnt4me/.local/lib/python3.8/site-packages/sklearn/tree/_classes.py:359: FutureWarning: Criterion 'mse' was deprecated in v1.0 and will be removed in version 1.2. Use `criterion='squared_error'` which is equivalent.\n",
      "  warnings.warn(\n",
      "/home/bnt4me/.local/lib/python3.8/site-packages/sklearn/tree/_classes.py:359: FutureWarning: Criterion 'mse' was deprecated in v1.0 and will be removed in version 1.2. Use `criterion='squared_error'` which is equivalent.\n",
      "  warnings.warn(\n",
      "/home/bnt4me/.local/lib/python3.8/site-packages/sklearn/tree/_classes.py:359: FutureWarning: Criterion 'mse' was deprecated in v1.0 and will be removed in version 1.2. Use `criterion='squared_error'` which is equivalent.\n",
      "  warnings.warn(\n",
      "/home/bnt4me/.local/lib/python3.8/site-packages/sklearn/tree/_classes.py:359: FutureWarning: Criterion 'mse' was deprecated in v1.0 and will be removed in version 1.2. Use `criterion='squared_error'` which is equivalent.\n",
      "  warnings.warn(\n",
      "/home/bnt4me/.local/lib/python3.8/site-packages/sklearn/tree/_classes.py:359: FutureWarning: Criterion 'mse' was deprecated in v1.0 and will be removed in version 1.2. Use `criterion='squared_error'` which is equivalent.\n",
      "  warnings.warn(\n",
      "/home/bnt4me/.local/lib/python3.8/site-packages/sklearn/tree/_classes.py:359: FutureWarning: Criterion 'mse' was deprecated in v1.0 and will be removed in version 1.2. Use `criterion='squared_error'` which is equivalent.\n",
      "  warnings.warn(\n",
      "/home/bnt4me/.local/lib/python3.8/site-packages/sklearn/tree/_classes.py:359: FutureWarning: Criterion 'mse' was deprecated in v1.0 and will be removed in version 1.2. Use `criterion='squared_error'` which is equivalent.\n",
      "  warnings.warn(\n",
      "/home/bnt4me/.local/lib/python3.8/site-packages/sklearn/tree/_classes.py:359: FutureWarning: Criterion 'mse' was deprecated in v1.0 and will be removed in version 1.2. Use `criterion='squared_error'` which is equivalent.\n",
      "  warnings.warn(\n",
      "/home/bnt4me/.local/lib/python3.8/site-packages/sklearn/tree/_classes.py:359: FutureWarning: Criterion 'mse' was deprecated in v1.0 and will be removed in version 1.2. Use `criterion='squared_error'` which is equivalent.\n",
      "  warnings.warn(\n",
      "/home/bnt4me/.local/lib/python3.8/site-packages/sklearn/tree/_classes.py:359: FutureWarning: Criterion 'mse' was deprecated in v1.0 and will be removed in version 1.2. Use `criterion='squared_error'` which is equivalent.\n",
      "  warnings.warn(\n",
      "/home/bnt4me/.local/lib/python3.8/site-packages/sklearn/tree/_classes.py:359: FutureWarning: Criterion 'mse' was deprecated in v1.0 and will be removed in version 1.2. Use `criterion='squared_error'` which is equivalent.\n",
      "  warnings.warn(\n",
      "/home/bnt4me/.local/lib/python3.8/site-packages/sklearn/tree/_classes.py:359: FutureWarning: Criterion 'mse' was deprecated in v1.0 and will be removed in version 1.2. Use `criterion='squared_error'` which is equivalent.\n",
      "  warnings.warn(\n",
      "/home/bnt4me/.local/lib/python3.8/site-packages/sklearn/tree/_classes.py:359: FutureWarning: Criterion 'mse' was deprecated in v1.0 and will be removed in version 1.2. Use `criterion='squared_error'` which is equivalent.\n",
      "  warnings.warn(\n",
      "/home/bnt4me/.local/lib/python3.8/site-packages/sklearn/tree/_classes.py:359: FutureWarning: Criterion 'mse' was deprecated in v1.0 and will be removed in version 1.2. Use `criterion='squared_error'` which is equivalent.\n",
      "  warnings.warn(\n",
      "/home/bnt4me/.local/lib/python3.8/site-packages/sklearn/tree/_classes.py:359: FutureWarning: Criterion 'mse' was deprecated in v1.0 and will be removed in version 1.2. Use `criterion='squared_error'` which is equivalent.\n",
      "  warnings.warn(\n",
      "/home/bnt4me/.local/lib/python3.8/site-packages/sklearn/tree/_classes.py:359: FutureWarning: Criterion 'mse' was deprecated in v1.0 and will be removed in version 1.2. Use `criterion='squared_error'` which is equivalent.\n",
      "  warnings.warn(\n",
      "/home/bnt4me/.local/lib/python3.8/site-packages/sklearn/tree/_classes.py:359: FutureWarning: Criterion 'mse' was deprecated in v1.0 and will be removed in version 1.2. Use `criterion='squared_error'` which is equivalent.\n",
      "  warnings.warn(\n",
      "/home/bnt4me/.local/lib/python3.8/site-packages/sklearn/tree/_classes.py:359: FutureWarning: Criterion 'mse' was deprecated in v1.0 and will be removed in version 1.2. Use `criterion='squared_error'` which is equivalent.\n",
      "  warnings.warn(\n",
      "/home/bnt4me/.local/lib/python3.8/site-packages/sklearn/tree/_classes.py:359: FutureWarning: Criterion 'mse' was deprecated in v1.0 and will be removed in version 1.2. Use `criterion='squared_error'` which is equivalent.\n",
      "  warnings.warn(\n",
      "/home/bnt4me/.local/lib/python3.8/site-packages/sklearn/tree/_classes.py:359: FutureWarning: Criterion 'mse' was deprecated in v1.0 and will be removed in version 1.2. Use `criterion='squared_error'` which is equivalent.\n",
      "  warnings.warn(\n",
      "/home/bnt4me/.local/lib/python3.8/site-packages/sklearn/tree/_classes.py:359: FutureWarning: Criterion 'mse' was deprecated in v1.0 and will be removed in version 1.2. Use `criterion='squared_error'` which is equivalent.\n",
      "  warnings.warn(\n",
      "/home/bnt4me/.local/lib/python3.8/site-packages/sklearn/tree/_classes.py:359: FutureWarning: Criterion 'mse' was deprecated in v1.0 and will be removed in version 1.2. Use `criterion='squared_error'` which is equivalent.\n",
      "  warnings.warn(\n",
      "/home/bnt4me/.local/lib/python3.8/site-packages/sklearn/tree/_classes.py:359: FutureWarning: Criterion 'mse' was deprecated in v1.0 and will be removed in version 1.2. Use `criterion='squared_error'` which is equivalent.\n",
      "  warnings.warn(\n",
      "/home/bnt4me/.local/lib/python3.8/site-packages/sklearn/tree/_classes.py:359: FutureWarning: Criterion 'mse' was deprecated in v1.0 and will be removed in version 1.2. Use `criterion='squared_error'` which is equivalent.\n",
      "  warnings.warn(\n",
      "/home/bnt4me/.local/lib/python3.8/site-packages/sklearn/tree/_classes.py:359: FutureWarning: Criterion 'mse' was deprecated in v1.0 and will be removed in version 1.2. Use `criterion='squared_error'` which is equivalent.\n",
      "  warnings.warn(\n",
      "/home/bnt4me/.local/lib/python3.8/site-packages/sklearn/tree/_classes.py:359: FutureWarning: Criterion 'mse' was deprecated in v1.0 and will be removed in version 1.2. Use `criterion='squared_error'` which is equivalent.\n",
      "  warnings.warn(\n",
      "/home/bnt4me/.local/lib/python3.8/site-packages/sklearn/tree/_classes.py:359: FutureWarning: Criterion 'mse' was deprecated in v1.0 and will be removed in version 1.2. Use `criterion='squared_error'` which is equivalent.\n",
      "  warnings.warn(\n",
      "/home/bnt4me/.local/lib/python3.8/site-packages/sklearn/tree/_classes.py:359: FutureWarning: Criterion 'mse' was deprecated in v1.0 and will be removed in version 1.2. Use `criterion='squared_error'` which is equivalent.\n",
      "  warnings.warn(\n",
      "/home/bnt4me/.local/lib/python3.8/site-packages/sklearn/tree/_classes.py:359: FutureWarning: Criterion 'mse' was deprecated in v1.0 and will be removed in version 1.2. Use `criterion='squared_error'` which is equivalent.\n",
      "  warnings.warn(\n",
      "/home/bnt4me/.local/lib/python3.8/site-packages/sklearn/tree/_classes.py:359: FutureWarning: Criterion 'mse' was deprecated in v1.0 and will be removed in version 1.2. Use `criterion='squared_error'` which is equivalent.\n",
      "  warnings.warn(\n",
      "/home/bnt4me/.local/lib/python3.8/site-packages/sklearn/tree/_classes.py:359: FutureWarning: Criterion 'mse' was deprecated in v1.0 and will be removed in version 1.2. Use `criterion='squared_error'` which is equivalent.\n",
      "  warnings.warn(\n",
      "/home/bnt4me/.local/lib/python3.8/site-packages/sklearn/tree/_classes.py:359: FutureWarning: Criterion 'mse' was deprecated in v1.0 and will be removed in version 1.2. Use `criterion='squared_error'` which is equivalent.\n",
      "  warnings.warn(\n",
      "/home/bnt4me/.local/lib/python3.8/site-packages/sklearn/tree/_classes.py:359: FutureWarning: Criterion 'mse' was deprecated in v1.0 and will be removed in version 1.2. Use `criterion='squared_error'` which is equivalent.\n",
      "  warnings.warn(\n",
      "/home/bnt4me/.local/lib/python3.8/site-packages/sklearn/tree/_classes.py:359: FutureWarning: Criterion 'mse' was deprecated in v1.0 and will be removed in version 1.2. Use `criterion='squared_error'` which is equivalent.\n",
      "  warnings.warn(\n",
      "/home/bnt4me/.local/lib/python3.8/site-packages/sklearn/tree/_classes.py:359: FutureWarning: Criterion 'mse' was deprecated in v1.0 and will be removed in version 1.2. Use `criterion='squared_error'` which is equivalent.\n",
      "  warnings.warn(\n",
      "/home/bnt4me/.local/lib/python3.8/site-packages/sklearn/tree/_classes.py:359: FutureWarning: Criterion 'mse' was deprecated in v1.0 and will be removed in version 1.2. Use `criterion='squared_error'` which is equivalent.\n",
      "  warnings.warn(\n",
      "/home/bnt4me/.local/lib/python3.8/site-packages/sklearn/tree/_classes.py:359: FutureWarning: Criterion 'mse' was deprecated in v1.0 and will be removed in version 1.2. Use `criterion='squared_error'` which is equivalent.\n",
      "  warnings.warn(\n",
      "/home/bnt4me/.local/lib/python3.8/site-packages/sklearn/tree/_classes.py:359: FutureWarning: Criterion 'mse' was deprecated in v1.0 and will be removed in version 1.2. Use `criterion='squared_error'` which is equivalent.\n",
      "  warnings.warn(\n",
      "/home/bnt4me/.local/lib/python3.8/site-packages/sklearn/tree/_classes.py:359: FutureWarning: Criterion 'mse' was deprecated in v1.0 and will be removed in version 1.2. Use `criterion='squared_error'` which is equivalent.\n",
      "  warnings.warn(\n",
      "/home/bnt4me/.local/lib/python3.8/site-packages/sklearn/tree/_classes.py:359: FutureWarning: Criterion 'mse' was deprecated in v1.0 and will be removed in version 1.2. Use `criterion='squared_error'` which is equivalent.\n",
      "  warnings.warn(\n",
      "/home/bnt4me/.local/lib/python3.8/site-packages/sklearn/tree/_classes.py:359: FutureWarning: Criterion 'mse' was deprecated in v1.0 and will be removed in version 1.2. Use `criterion='squared_error'` which is equivalent.\n",
      "  warnings.warn(\n",
      "/home/bnt4me/.local/lib/python3.8/site-packages/sklearn/tree/_classes.py:359: FutureWarning: Criterion 'mse' was deprecated in v1.0 and will be removed in version 1.2. Use `criterion='squared_error'` which is equivalent.\n",
      "  warnings.warn(\n",
      "/home/bnt4me/.local/lib/python3.8/site-packages/sklearn/tree/_classes.py:359: FutureWarning: Criterion 'mse' was deprecated in v1.0 and will be removed in version 1.2. Use `criterion='squared_error'` which is equivalent.\n",
      "  warnings.warn(\n",
      "/home/bnt4me/.local/lib/python3.8/site-packages/sklearn/tree/_classes.py:359: FutureWarning: Criterion 'mse' was deprecated in v1.0 and will be removed in version 1.2. Use `criterion='squared_error'` which is equivalent.\n",
      "  warnings.warn(\n",
      "/home/bnt4me/.local/lib/python3.8/site-packages/sklearn/tree/_classes.py:359: FutureWarning: Criterion 'mse' was deprecated in v1.0 and will be removed in version 1.2. Use `criterion='squared_error'` which is equivalent.\n",
      "  warnings.warn(\n",
      "/home/bnt4me/.local/lib/python3.8/site-packages/sklearn/tree/_classes.py:359: FutureWarning: Criterion 'mse' was deprecated in v1.0 and will be removed in version 1.2. Use `criterion='squared_error'` which is equivalent.\n",
      "  warnings.warn(\n",
      "/home/bnt4me/.local/lib/python3.8/site-packages/sklearn/tree/_classes.py:359: FutureWarning: Criterion 'mse' was deprecated in v1.0 and will be removed in version 1.2. Use `criterion='squared_error'` which is equivalent.\n",
      "  warnings.warn(\n",
      "/home/bnt4me/.local/lib/python3.8/site-packages/sklearn/tree/_classes.py:359: FutureWarning: Criterion 'mse' was deprecated in v1.0 and will be removed in version 1.2. Use `criterion='squared_error'` which is equivalent.\n",
      "  warnings.warn(\n",
      "/home/bnt4me/.local/lib/python3.8/site-packages/sklearn/tree/_classes.py:359: FutureWarning: Criterion 'mse' was deprecated in v1.0 and will be removed in version 1.2. Use `criterion='squared_error'` which is equivalent.\n",
      "  warnings.warn(\n",
      "/home/bnt4me/.local/lib/python3.8/site-packages/sklearn/tree/_classes.py:359: FutureWarning: Criterion 'mse' was deprecated in v1.0 and will be removed in version 1.2. Use `criterion='squared_error'` which is equivalent.\n",
      "  warnings.warn(\n",
      "/home/bnt4me/.local/lib/python3.8/site-packages/sklearn/tree/_classes.py:359: FutureWarning: Criterion 'mse' was deprecated in v1.0 and will be removed in version 1.2. Use `criterion='squared_error'` which is equivalent.\n",
      "  warnings.warn(\n",
      "/home/bnt4me/.local/lib/python3.8/site-packages/sklearn/tree/_classes.py:359: FutureWarning: Criterion 'mse' was deprecated in v1.0 and will be removed in version 1.2. Use `criterion='squared_error'` which is equivalent.\n",
      "  warnings.warn(\n",
      "/home/bnt4me/.local/lib/python3.8/site-packages/sklearn/tree/_classes.py:359: FutureWarning: Criterion 'mse' was deprecated in v1.0 and will be removed in version 1.2. Use `criterion='squared_error'` which is equivalent.\n",
      "  warnings.warn(\n",
      "/home/bnt4me/.local/lib/python3.8/site-packages/sklearn/tree/_classes.py:359: FutureWarning: Criterion 'mse' was deprecated in v1.0 and will be removed in version 1.2. Use `criterion='squared_error'` which is equivalent.\n",
      "  warnings.warn(\n",
      "/home/bnt4me/.local/lib/python3.8/site-packages/sklearn/tree/_classes.py:359: FutureWarning: Criterion 'mse' was deprecated in v1.0 and will be removed in version 1.2. Use `criterion='squared_error'` which is equivalent.\n",
      "  warnings.warn(\n",
      "/home/bnt4me/.local/lib/python3.8/site-packages/sklearn/tree/_classes.py:359: FutureWarning: Criterion 'mse' was deprecated in v1.0 and will be removed in version 1.2. Use `criterion='squared_error'` which is equivalent.\n",
      "  warnings.warn(\n",
      "/home/bnt4me/.local/lib/python3.8/site-packages/sklearn/tree/_classes.py:359: FutureWarning: Criterion 'mse' was deprecated in v1.0 and will be removed in version 1.2. Use `criterion='squared_error'` which is equivalent.\n",
      "  warnings.warn(\n",
      "/home/bnt4me/.local/lib/python3.8/site-packages/sklearn/tree/_classes.py:359: FutureWarning: Criterion 'mse' was deprecated in v1.0 and will be removed in version 1.2. Use `criterion='squared_error'` which is equivalent.\n",
      "  warnings.warn(\n",
      "/home/bnt4me/.local/lib/python3.8/site-packages/sklearn/tree/_classes.py:359: FutureWarning: Criterion 'mse' was deprecated in v1.0 and will be removed in version 1.2. Use `criterion='squared_error'` which is equivalent.\n",
      "  warnings.warn(\n",
      "/home/bnt4me/.local/lib/python3.8/site-packages/sklearn/tree/_classes.py:359: FutureWarning: Criterion 'mse' was deprecated in v1.0 and will be removed in version 1.2. Use `criterion='squared_error'` which is equivalent.\n",
      "  warnings.warn(\n",
      "/home/bnt4me/.local/lib/python3.8/site-packages/sklearn/tree/_classes.py:359: FutureWarning: Criterion 'mse' was deprecated in v1.0 and will be removed in version 1.2. Use `criterion='squared_error'` which is equivalent.\n",
      "  warnings.warn(\n"
     ]
    },
    {
     "name": "stdout",
     "output_type": "stream",
     "text": [
      "[13:37:40] WARNING: ../src/learner.cc:1115: Starting in XGBoost 1.3.0, the default evaluation metric used with the objective 'multi:softprob' was changed from 'merror' to 'mlogloss'. Explicitly set eval_metric if you'd like to restore the old behavior.\n",
      "[13:44:18] WARNING: ../src/learner.cc:1115: Starting in XGBoost 1.3.0, the default evaluation metric used with the objective 'multi:softprob' was changed from 'merror' to 'mlogloss'. Explicitly set eval_metric if you'd like to restore the old behavior.\n",
      "[13:58:33] WARNING: ../src/learner.cc:1115: Starting in XGBoost 1.3.0, the default evaluation metric used with the objective 'multi:softprob' was changed from 'merror' to 'mlogloss'. Explicitly set eval_metric if you'd like to restore the old behavior.\n",
      "[14:06:33] WARNING: ../src/learner.cc:1115: Starting in XGBoost 1.3.0, the default evaluation metric used with the objective 'multi:softprob' was changed from 'merror' to 'mlogloss'. Explicitly set eval_metric if you'd like to restore the old behavior.\n"
     ]
    },
    {
     "name": "stderr",
     "output_type": "stream",
     "text": [
      "/home/bnt4me/.local/lib/python3.8/site-packages/xgboost/sklearn.py:1224: UserWarning: The use of label encoder in XGBClassifier is deprecated and will be removed in a future release. To remove this warning, do the following: 1) Pass option use_label_encoder=False when constructing XGBClassifier object; and 2) Encode your labels (y) as integers starting with 0, i.e. 0, 1, 2, ..., [num_class - 1].\n",
      "  warnings.warn(label_encoder_deprecation_msg, UserWarning)\n",
      "/home/bnt4me/.local/lib/python3.8/site-packages/xgboost/sklearn.py:1224: UserWarning: The use of label encoder in XGBClassifier is deprecated and will be removed in a future release. To remove this warning, do the following: 1) Pass option use_label_encoder=False when constructing XGBClassifier object; and 2) Encode your labels (y) as integers starting with 0, i.e. 0, 1, 2, ..., [num_class - 1].\n",
      "  warnings.warn(label_encoder_deprecation_msg, UserWarning)\n",
      "/home/bnt4me/.local/lib/python3.8/site-packages/xgboost/sklearn.py:1224: UserWarning: The use of label encoder in XGBClassifier is deprecated and will be removed in a future release. To remove this warning, do the following: 1) Pass option use_label_encoder=False when constructing XGBClassifier object; and 2) Encode your labels (y) as integers starting with 0, i.e. 0, 1, 2, ..., [num_class - 1].\n",
      "  warnings.warn(label_encoder_deprecation_msg, UserWarning)\n",
      "/home/bnt4me/.local/lib/python3.8/site-packages/xgboost/sklearn.py:1224: UserWarning: The use of label encoder in XGBClassifier is deprecated and will be removed in a future release. To remove this warning, do the following: 1) Pass option use_label_encoder=False when constructing XGBClassifier object; and 2) Encode your labels (y) as integers starting with 0, i.e. 0, 1, 2, ..., [num_class - 1].\n",
      "  warnings.warn(label_encoder_deprecation_msg, UserWarning)\n"
     ]
    },
    {
     "name": "stdout",
     "output_type": "stream",
     "text": [
      "[13:37:38] WARNING: ../src/learner.cc:1115: Starting in XGBoost 1.3.0, the default evaluation metric used with the objective 'multi:softprob' was changed from 'merror' to 'mlogloss'. Explicitly set eval_metric if you'd like to restore the old behavior.\n",
      "[13:44:24] WARNING: ../src/learner.cc:1115: Starting in XGBoost 1.3.0, the default evaluation metric used with the objective 'multi:softprob' was changed from 'merror' to 'mlogloss'. Explicitly set eval_metric if you'd like to restore the old behavior.\n",
      "[13:59:37] WARNING: ../src/learner.cc:1115: Starting in XGBoost 1.3.0, the default evaluation metric used with the objective 'multi:softprob' was changed from 'merror' to 'mlogloss'. Explicitly set eval_metric if you'd like to restore the old behavior.\n",
      "[14:07:25] WARNING: ../src/learner.cc:1115: Starting in XGBoost 1.3.0, the default evaluation metric used with the objective 'multi:softprob' was changed from 'merror' to 'mlogloss'. Explicitly set eval_metric if you'd like to restore the old behavior.\n"
     ]
    },
    {
     "name": "stderr",
     "output_type": "stream",
     "text": [
      "/home/bnt4me/.local/lib/python3.8/site-packages/xgboost/sklearn.py:1224: UserWarning: The use of label encoder in XGBClassifier is deprecated and will be removed in a future release. To remove this warning, do the following: 1) Pass option use_label_encoder=False when constructing XGBClassifier object; and 2) Encode your labels (y) as integers starting with 0, i.e. 0, 1, 2, ..., [num_class - 1].\n",
      "  warnings.warn(label_encoder_deprecation_msg, UserWarning)\n",
      "/home/bnt4me/.local/lib/python3.8/site-packages/xgboost/sklearn.py:1224: UserWarning: The use of label encoder in XGBClassifier is deprecated and will be removed in a future release. To remove this warning, do the following: 1) Pass option use_label_encoder=False when constructing XGBClassifier object; and 2) Encode your labels (y) as integers starting with 0, i.e. 0, 1, 2, ..., [num_class - 1].\n",
      "  warnings.warn(label_encoder_deprecation_msg, UserWarning)\n",
      "/home/bnt4me/.local/lib/python3.8/site-packages/xgboost/sklearn.py:1224: UserWarning: The use of label encoder in XGBClassifier is deprecated and will be removed in a future release. To remove this warning, do the following: 1) Pass option use_label_encoder=False when constructing XGBClassifier object; and 2) Encode your labels (y) as integers starting with 0, i.e. 0, 1, 2, ..., [num_class - 1].\n",
      "  warnings.warn(label_encoder_deprecation_msg, UserWarning)\n",
      "/home/bnt4me/.local/lib/python3.8/site-packages/xgboost/sklearn.py:1224: UserWarning: The use of label encoder in XGBClassifier is deprecated and will be removed in a future release. To remove this warning, do the following: 1) Pass option use_label_encoder=False when constructing XGBClassifier object; and 2) Encode your labels (y) as integers starting with 0, i.e. 0, 1, 2, ..., [num_class - 1].\n",
      "  warnings.warn(label_encoder_deprecation_msg, UserWarning)\n",
      "/home/bnt4me/.local/lib/python3.8/site-packages/xgboost/sklearn.py:1224: UserWarning: The use of label encoder in XGBClassifier is deprecated and will be removed in a future release. To remove this warning, do the following: 1) Pass option use_label_encoder=False when constructing XGBClassifier object; and 2) Encode your labels (y) as integers starting with 0, i.e. 0, 1, 2, ..., [num_class - 1].\n",
      "  warnings.warn(label_encoder_deprecation_msg, UserWarning)\n"
     ]
    },
    {
     "name": "stdout",
     "output_type": "stream",
     "text": [
      "[14:16:55] WARNING: ../src/learner.cc:1115: Starting in XGBoost 1.3.0, the default evaluation metric used with the objective 'multi:softprob' was changed from 'merror' to 'mlogloss'. Explicitly set eval_metric if you'd like to restore the old behavior.\n"
     ]
    },
    {
     "data": {
      "text/plain": [
       "RandomizedSearchCV(cv=3,\n",
       "                   estimator=XGBClassifier(base_score=None, booster=None,\n",
       "                                           colsample_bylevel=None,\n",
       "                                           colsample_bynode=None,\n",
       "                                           colsample_bytree=None,\n",
       "                                           enable_categorical=False, gamma=None,\n",
       "                                           gpu_id=None, importance_type=None,\n",
       "                                           interaction_constraints=None,\n",
       "                                           learning_rate=None,\n",
       "                                           max_delta_step=None, max_depth=None,\n",
       "                                           min_child_weight=None, missing=nan,\n",
       "                                           monotone_constraints...\n",
       "                                        'learning_rate': <scipy.stats._distn_infrastructure.rv_frozen object at 0x7fab90cd13d0>,\n",
       "                                        'max_depth': <scipy.stats._distn_infrastructure.rv_frozen object at 0x7fab90cd1640>,\n",
       "                                        'n_estimators': <scipy.stats._distn_infrastructure.rv_frozen object at 0x7fab90cd1940>,\n",
       "                                        'subsample': <scipy.stats._distn_infrastructure.rv_frozen object at 0x7fab90cd1b20>},\n",
       "                   random_state=10, return_train_score=True)"
      ]
     },
     "execution_count": 82,
     "metadata": {},
     "output_type": "execute_result"
    }
   ],
   "source": [
    "import xgboost as xgb\n",
    "from scipy.stats import uniform, randint\n",
    "from sklearn.model_selection import RandomizedSearchCV\n",
    "xgb_model = xgb.XGBClassifier(objective=\"multi:softprob\", random_state=10)\n",
    "params = {\n",
    "    \"colsample_bytree\": uniform(0.7, 0.3),\n",
    "    \"gamma\": uniform(0, 0.5),\n",
    "    \"learning_rate\": uniform(0.03, 0.3), # default 0.1 \n",
    "    \"max_depth\": randint(2, 6), # default 3\n",
    "    \"n_estimators\": randint(100, 150), # default 100\n",
    "    \"subsample\": uniform(0.6, 0.4)\n",
    "}\n",
    "\n",
    "search = RandomizedSearchCV(xgb_model, param_distributions=params, random_state=10, cv=3, n_jobs=8, return_train_score=True)\n",
    "\n",
    "search.fit(X_train_1, y_train_1)"
   ]
  },
  {
   "cell_type": "code",
   "execution_count": 83,
   "metadata": {
    "colab": {
     "base_uri": "https://localhost:8080/",
     "height": 163
    },
    "id": "EMmVhgh1y4VJ",
    "outputId": "5c2846d6-1e96-45ca-b7a7-43061d87102a"
   },
   "outputs": [
    {
     "data": {
      "text/plain": [
       "{'colsample_bytree': 0.9313961929800237,\n",
       " 'gamma': 0.01037597467970075,\n",
       " 'learning_rate': 0.2200944704778826,\n",
       " 'max_depth': 5,\n",
       " 'n_estimators': 128,\n",
       " 'subsample': 0.7994028049210362}"
      ]
     },
     "execution_count": 83,
     "metadata": {},
     "output_type": "execute_result"
    }
   ],
   "source": [
    "search.best_params_"
   ]
  },
  {
   "cell_type": "code",
   "execution_count": 84,
   "metadata": {
    "id": "0Te3_lYwy4b5"
   },
   "outputs": [
    {
     "name": "stdout",
     "output_type": "stream",
     "text": [
      "Classification report:\n",
      "              precision    recall  f1-score   support\n",
      "\n",
      "           0       0.33      0.19      0.24        47\n",
      "           1       0.60      0.80      0.68       172\n",
      "           2       0.28      0.14      0.18        73\n",
      "\n",
      "    accuracy                           0.53       292\n",
      "   macro avg       0.40      0.37      0.37       292\n",
      "weighted avg       0.48      0.53      0.49       292\n",
      "\n",
      "\n"
     ]
    }
   ],
   "source": [
    "from sklearn.metrics import classification_report\n",
    "\n",
    "y_pred_rf = search.predict(X_test)\n",
    "\n",
    "print('Classification report:\\n{0}\\n'.format(classification_report(y_test, y_pred_rf)))"
   ]
  },
  {
   "cell_type": "code",
   "execution_count": 85,
   "metadata": {
    "id": "3LrWdODJzC7A"
   },
   "outputs": [
    {
     "data": {
      "image/png": "[encoded data removed]",
      "text/plain": [
       "<Figure size 432x288 with 1 Axes>"
      ]
     },
     "metadata": {},
     "output_type": "display_data"
    }
   ],
   "source": [
    "%matplotlib inline\n",
    "import seaborn as sns; sns.set()\n",
    "from sklearn.metrics import confusion_matrix\n",
    "import matplotlib.pyplot as plt\n",
    "\n",
    "y_test_pred = search.predict(X_test)\n",
    "cm_test = confusion_matrix(y_test, y_test_pred)\n",
    "\n",
    "sns.heatmap(cm_test.T, square=True, annot=True, fmt='d', cbar=False,\n",
    "            xticklabels= np.unique(y_test),\n",
    "            yticklabels= np.unique(y_test_pred))\n",
    "plt.xlabel('true label')\n",
    "plt.ylabel('predicted label');\n",
    "plt.title('Confusion Matrix DT - Test Set')\n",
    "plt.show()"
   ]
  },
  {
   "cell_type": "markdown",
   "metadata": {
    "id": "_kkAFsYctZam"
   },
   "source": [
    "## 2.2.0. Undersampling"
   ]
  },
  {
   "cell_type": "code",
   "execution_count": 149,
   "metadata": {
    "colab": {
     "base_uri": "https://localhost:8080/",
     "height": 580
    },
    "id": "vWxjMV068sIl",
    "outputId": "ed856e7b-cd87-4243-d66c-024d10876362",
    "scrolled": true
   },
   "outputs": [
    {
     "data": {
      "image/png": "[encoded data removed]",
      "text/plain": [
       "<Figure size 1800x720 with 2 Axes>"
      ]
     },
     "metadata": {},
     "output_type": "display_data"
    }
   ],
   "source": [
    "def apply_undersampling(X, y):\n",
    "    from imblearn.under_sampling import RandomUnderSampler\n",
    "    from matplotlib import pyplot as plt\n",
    "\n",
    "    X_class = X\n",
    "\n",
    "    fig, axs = plt.subplots(1,2, figsize=(25,10))\n",
    "    pd.Series(y_train).value_counts().plot.bar(ax = axs[0]).title.set_text('Before Undersampling')\n",
    "\n",
    "    undersample = RandomUnderSampler(sampling_strategy='majority')\n",
    "    # undersample = RandomUnderSampler(sampling_strategy=0.5)\n",
    "    # fit and apply the transform\n",
    "\n",
    "    X_class, label_cat = undersample.fit_resample(X, y)\n",
    "\n",
    "    pd.Series(label_cat).value_counts().plot.bar(ax = axs[1]).title.set_text('After Undersampling')\n",
    "\n",
    "    return X_class, label_cat\n",
    "\n",
    "X_train_1, y_train_1 = apply_undersampling(X_train, y_train)"
   ]
  },
  {
   "cell_type": "code",
   "execution_count": 150,
   "metadata": {
    "colab": {
     "base_uri": "https://localhost:8080/"
    },
    "id": "Y2EiuTgxjSJU",
    "outputId": "a0519187-9bb8-4d50-c202-03d94cc054fb",
    "scrolled": false
   },
   "outputs": [
    {
     "data": {
      "text/plain": [
       "(492, 637)"
      ]
     },
     "execution_count": 150,
     "metadata": {},
     "output_type": "execute_result"
    }
   ],
   "source": [
    "X_train_1.shape\n",
    "# X_class, label_cat"
   ]
  },
  {
   "cell_type": "markdown",
   "metadata": {
    "id": "pe04cQer2ijd"
   },
   "source": [
    "# Data Clasification"
   ]
  },
  {
   "cell_type": "markdown",
   "metadata": {
    "id": "AjiArCYzSN0c"
   },
   "source": [
    "## 2.2.1. NN"
   ]
  },
  {
   "cell_type": "code",
   "execution_count": 151,
   "metadata": {
    "colab": {
     "base_uri": "https://localhost:8080/"
    },
    "id": "p5YtcSliSQ7Z",
    "outputId": "e28b5a02-1f9c-4fee-8a85-1d322a647c11"
   },
   "outputs": [
    {
     "data": {
      "text/plain": [
       "GridSearchCV(cv=10, estimator=MLPClassifier(max_iter=300, random_state=1),\n",
       "             n_jobs=5,\n",
       "             param_grid={'activation': ['logistic', 'relu'],\n",
       "                         'alpha': [0.0001, 0.001]},\n",
       "             refit='accuracy', return_train_score=True,\n",
       "             scoring={'accuracy': make_scorer(accuracy_score),\n",
       "                      'precision': make_scorer(precision_score, average=micro),\n",
       "                      'recall': make_scorer(recall_score, average=micro)})"
      ]
     },
     "execution_count": 151,
     "metadata": {},
     "output_type": "execute_result"
    }
   ],
   "source": [
    "from sklearn.neural_network import MLPClassifier\n",
    "from sklearn.model_selection import GridSearchCV\n",
    "from sklearn.metrics import precision_score\n",
    "from sklearn.metrics import accuracy_score\n",
    "from sklearn.metrics import recall_score\n",
    "from sklearn.metrics import make_scorer\n",
    "\n",
    "\n",
    "param_grid = {'activation': ['logistic', 'relu'],'alpha':[0.0001,0.001]}\n",
    "scores= {'accuracy':make_scorer(accuracy_score),'precision':make_scorer(precision_score,average='micro'),\n",
    "         'recall':make_scorer(recall_score,average='micro')}\n",
    "\n",
    "neu_net = MLPClassifier(random_state=1, max_iter=300)\n",
    "clf_nn = GridSearchCV(neu_net, param_grid,cv=10,scoring=scores,\n",
    "                       refit='accuracy', return_train_score=True,n_jobs=5)\n",
    "clf_nn.fit(X_train_1, y_train_1)"
   ]
  },
  {
   "cell_type": "code",
   "execution_count": 152,
   "metadata": {
    "colab": {
     "base_uri": "https://localhost:8080/"
    },
    "id": "23-4b6jGk69W",
    "outputId": "e848433b-386b-4bcb-a972-304b7ef3425a"
   },
   "outputs": [
    {
     "name": "stdout",
     "output_type": "stream",
     "text": [
      "{'activation': 'logistic', 'alpha': 0.0001}\n"
     ]
    }
   ],
   "source": [
    "print(clf_nn.best_params_)"
   ]
  },
  {
   "cell_type": "code",
   "execution_count": 153,
   "metadata": {
    "colab": {
     "base_uri": "https://localhost:8080/",
     "height": 397
    },
    "id": "0fnAD6bhlAGt",
    "outputId": "f39aa523-c84d-4c99-8bd8-e555f756888c"
   },
   "outputs": [
    {
     "data": {
      "text/html": [
       "<div>\n",
       "<style scoped>\n",
       "    .dataframe tbody tr th:only-of-type {\n",
       "        vertical-align: middle;\n",
       "    }\n",
       "\n",
       "    .dataframe tbody tr th {\n",
       "        vertical-align: top;\n",
       "    }\n",
       "\n",
       "    .dataframe thead th {\n",
       "        text-align: right;\n",
       "    }\n",
       "</style>\n",
       "<table border=\"1\" class=\"dataframe\">\n",
       "  <thead>\n",
       "    <tr style=\"text-align: right;\">\n",
       "      <th></th>\n",
       "      <th>mean_fit_time</th>\n",
       "      <th>params</th>\n",
       "      <th>mean_test_accuracy</th>\n",
       "      <th>std_test_accuracy</th>\n",
       "      <th>rank_test_accuracy</th>\n",
       "      <th>mean_test_precision</th>\n",
       "      <th>std_test_precision</th>\n",
       "      <th>mean_test_recall</th>\n",
       "      <th>std_test_recall</th>\n",
       "    </tr>\n",
       "  </thead>\n",
       "  <tbody>\n",
       "    <tr>\n",
       "      <th>0</th>\n",
       "      <td>2.119282</td>\n",
       "      <td>{'activation': 'logistic', 'alpha': 0.0001}</td>\n",
       "      <td>0.432694</td>\n",
       "      <td>0.071229</td>\n",
       "      <td>1</td>\n",
       "      <td>0.432694</td>\n",
       "      <td>0.071229</td>\n",
       "      <td>0.432694</td>\n",
       "      <td>0.071229</td>\n",
       "    </tr>\n",
       "    <tr>\n",
       "      <th>1</th>\n",
       "      <td>2.194369</td>\n",
       "      <td>{'activation': 'logistic', 'alpha': 0.001}</td>\n",
       "      <td>0.432694</td>\n",
       "      <td>0.071229</td>\n",
       "      <td>1</td>\n",
       "      <td>0.432694</td>\n",
       "      <td>0.071229</td>\n",
       "      <td>0.432694</td>\n",
       "      <td>0.071229</td>\n",
       "    </tr>\n",
       "    <tr>\n",
       "      <th>2</th>\n",
       "      <td>0.895248</td>\n",
       "      <td>{'activation': 'relu', 'alpha': 0.0001}</td>\n",
       "      <td>0.404367</td>\n",
       "      <td>0.048067</td>\n",
       "      <td>3</td>\n",
       "      <td>0.404367</td>\n",
       "      <td>0.048067</td>\n",
       "      <td>0.404367</td>\n",
       "      <td>0.048067</td>\n",
       "    </tr>\n",
       "    <tr>\n",
       "      <th>3</th>\n",
       "      <td>0.866229</td>\n",
       "      <td>{'activation': 'relu', 'alpha': 0.001}</td>\n",
       "      <td>0.404367</td>\n",
       "      <td>0.048067</td>\n",
       "      <td>3</td>\n",
       "      <td>0.404367</td>\n",
       "      <td>0.048067</td>\n",
       "      <td>0.404367</td>\n",
       "      <td>0.048067</td>\n",
       "    </tr>\n",
       "  </tbody>\n",
       "</table>\n",
       "</div>"
      ],
      "text/plain": [
       "   mean_fit_time                                       params  \\\n",
       "0       2.119282  {'activation': 'logistic', 'alpha': 0.0001}   \n",
       "1       2.194369   {'activation': 'logistic', 'alpha': 0.001}   \n",
       "2       0.895248      {'activation': 'relu', 'alpha': 0.0001}   \n",
       "3       0.866229       {'activation': 'relu', 'alpha': 0.001}   \n",
       "\n",
       "   mean_test_accuracy  std_test_accuracy  rank_test_accuracy  \\\n",
       "0            0.432694           0.071229                   1   \n",
       "1            0.432694           0.071229                   1   \n",
       "2            0.404367           0.048067                   3   \n",
       "3            0.404367           0.048067                   3   \n",
       "\n",
       "   mean_test_precision  std_test_precision  mean_test_recall  std_test_recall  \n",
       "0             0.432694            0.071229          0.432694         0.071229  \n",
       "1             0.432694            0.071229          0.432694         0.071229  \n",
       "2             0.404367            0.048067          0.404367         0.048067  \n",
       "3             0.404367            0.048067          0.404367         0.048067  "
      ]
     },
     "execution_count": 153,
     "metadata": {},
     "output_type": "execute_result"
    }
   ],
   "source": [
    "df = pd.DataFrame(clf_nn.cv_results_)\n",
    "df.sort_values(by='rank_test_accuracy')[['mean_fit_time','params','mean_test_accuracy','std_test_accuracy','rank_test_accuracy',\n",
    "                                         'mean_test_precision','std_test_precision','mean_test_recall','std_test_recall']]"
   ]
  },
  {
   "cell_type": "code",
   "execution_count": 154,
   "metadata": {
    "colab": {
     "base_uri": "https://localhost:8080/",
     "height": 353
    },
    "id": "WhezDEt0lDtt",
    "outputId": "231ad9f6-6bd4-49f2-b744-8ccde2ab2789"
   },
   "outputs": [
    {
     "data": {
      "image/png": "[encoded data removed]",
      "text/plain": [
       "<Figure size 432x288 with 1 Axes>"
      ]
     },
     "metadata": {},
     "output_type": "display_data"
    },
    {
     "name": "stdout",
     "output_type": "stream",
     "text": [
      "Precision: 0.353\n",
      "Recall: 0.353\n",
      "Accuracy: 0.353\n"
     ]
    }
   ],
   "source": [
    "%matplotlib inline\n",
    "import seaborn as sns; sns.set()\n",
    "from sklearn.metrics import confusion_matrix\n",
    "import matplotlib.pyplot as plt\n",
    "import numpy as np\n",
    "\n",
    "y_test_pred = clf_nn.predict(X_test)\n",
    "cm_test = confusion_matrix(y_test, y_test_pred)\n",
    "\n",
    "sns.heatmap(cm_test.T, square=True, annot=True, fmt='d', cbar=False,\n",
    "            xticklabels= np.unique(y_test),\n",
    "            yticklabels= np.unique(y_test_pred))\n",
    "plt.xlabel('true label')\n",
    "plt.ylabel('predicted label');\n",
    "plt.title('Confusion Matrix DT - Test Set')\n",
    "plt.show()\n",
    "\n",
    "print('Precision: %.3f' %(precision_score(y_test, y_test_pred,average='micro')))\n",
    "print('Recall: %.3f' %(recall_score(y_test, y_test_pred,average='micro')))\n",
    "print('Accuracy: %.3f' %(accuracy_score(y_test,y_test_pred)))"
   ]
  },
  {
   "cell_type": "markdown",
   "metadata": {
    "id": "JFAy60UdJij3"
   },
   "source": [
    "## 2.2.2. Tree model"
   ]
  },
  {
   "cell_type": "code",
   "execution_count": 155,
   "metadata": {
    "colab": {
     "base_uri": "https://localhost:8080/"
    },
    "id": "oaYqCTJmJhHI",
    "outputId": "db1d8917-953b-4077-b4c6-30ed6aa4757c"
   },
   "outputs": [
    {
     "name": "stderr",
     "output_type": "stream",
     "text": [
      "/home/bnt4me/.local/lib/python3.8/site-packages/sklearn/svm/_base.py:1199: ConvergenceWarning: Liblinear failed to converge, increase the number of iterations.\n",
      "  warnings.warn(\n",
      "/home/bnt4me/.local/lib/python3.8/site-packages/sklearn/svm/_base.py:1199: ConvergenceWarning: Liblinear failed to converge, increase the number of iterations.\n",
      "  warnings.warn(\n",
      "/home/bnt4me/.local/lib/python3.8/site-packages/sklearn/svm/_base.py:1199: ConvergenceWarning: Liblinear failed to converge, increase the number of iterations.\n",
      "  warnings.warn(\n",
      "/home/bnt4me/.local/lib/python3.8/site-packages/sklearn/svm/_base.py:1199: ConvergenceWarning: Liblinear failed to converge, increase the number of iterations.\n",
      "  warnings.warn(\n",
      "/home/bnt4me/.local/lib/python3.8/site-packages/sklearn/svm/_base.py:1199: ConvergenceWarning: Liblinear failed to converge, increase the number of iterations.\n",
      "  warnings.warn(\n",
      "/home/bnt4me/.local/lib/python3.8/site-packages/sklearn/svm/_base.py:1199: ConvergenceWarning: Liblinear failed to converge, increase the number of iterations.\n",
      "  warnings.warn(\n",
      "/home/bnt4me/.local/lib/python3.8/site-packages/sklearn/svm/_base.py:1199: ConvergenceWarning: Liblinear failed to converge, increase the number of iterations.\n",
      "  warnings.warn(\n",
      "/home/bnt4me/.local/lib/python3.8/site-packages/sklearn/svm/_base.py:1199: ConvergenceWarning: Liblinear failed to converge, increase the number of iterations.\n",
      "  warnings.warn(\n",
      "/home/bnt4me/.local/lib/python3.8/site-packages/sklearn/svm/_base.py:1199: ConvergenceWarning: Liblinear failed to converge, increase the number of iterations.\n",
      "  warnings.warn(\n",
      "/home/bnt4me/.local/lib/python3.8/site-packages/sklearn/svm/_base.py:1199: ConvergenceWarning: Liblinear failed to converge, increase the number of iterations.\n",
      "  warnings.warn(\n",
      "/home/bnt4me/.local/lib/python3.8/site-packages/sklearn/svm/_base.py:1199: ConvergenceWarning: Liblinear failed to converge, increase the number of iterations.\n",
      "  warnings.warn(\n",
      "/home/bnt4me/.local/lib/python3.8/site-packages/sklearn/svm/_base.py:1199: ConvergenceWarning: Liblinear failed to converge, increase the number of iterations.\n",
      "  warnings.warn(\n",
      "/home/bnt4me/.local/lib/python3.8/site-packages/sklearn/svm/_base.py:1199: ConvergenceWarning: Liblinear failed to converge, increase the number of iterations.\n",
      "  warnings.warn(\n",
      "/home/bnt4me/.local/lib/python3.8/site-packages/sklearn/svm/_base.py:1199: ConvergenceWarning: Liblinear failed to converge, increase the number of iterations.\n",
      "  warnings.warn(\n",
      "/home/bnt4me/.local/lib/python3.8/site-packages/sklearn/svm/_base.py:1199: ConvergenceWarning: Liblinear failed to converge, increase the number of iterations.\n",
      "  warnings.warn(\n",
      "/home/bnt4me/.local/lib/python3.8/site-packages/sklearn/svm/_base.py:1199: ConvergenceWarning: Liblinear failed to converge, increase the number of iterations.\n",
      "  warnings.warn(\n",
      "/home/bnt4me/.local/lib/python3.8/site-packages/sklearn/svm/_base.py:1199: ConvergenceWarning: Liblinear failed to converge, increase the number of iterations.\n",
      "  warnings.warn(\n",
      "/home/bnt4me/.local/lib/python3.8/site-packages/sklearn/svm/_base.py:1199: ConvergenceWarning: Liblinear failed to converge, increase the number of iterations.\n",
      "  warnings.warn(\n",
      "/home/bnt4me/.local/lib/python3.8/site-packages/sklearn/svm/_base.py:1199: ConvergenceWarning: Liblinear failed to converge, increase the number of iterations.\n",
      "  warnings.warn(\n",
      "/home/bnt4me/.local/lib/python3.8/site-packages/sklearn/svm/_base.py:1199: ConvergenceWarning: Liblinear failed to converge, increase the number of iterations.\n",
      "  warnings.warn(\n",
      "/home/bnt4me/.local/lib/python3.8/site-packages/sklearn/svm/_base.py:1199: ConvergenceWarning: Liblinear failed to converge, increase the number of iterations.\n",
      "  warnings.warn(\n",
      "/home/bnt4me/.local/lib/python3.8/site-packages/sklearn/svm/_base.py:1199: ConvergenceWarning: Liblinear failed to converge, increase the number of iterations.\n",
      "  warnings.warn(\n",
      "/home/bnt4me/.local/lib/python3.8/site-packages/sklearn/svm/_base.py:1199: ConvergenceWarning: Liblinear failed to converge, increase the number of iterations.\n",
      "  warnings.warn(\n",
      "/home/bnt4me/.local/lib/python3.8/site-packages/sklearn/svm/_base.py:1199: ConvergenceWarning: Liblinear failed to converge, increase the number of iterations.\n",
      "  warnings.warn(\n",
      "/home/bnt4me/.local/lib/python3.8/site-packages/sklearn/svm/_base.py:1199: ConvergenceWarning: Liblinear failed to converge, increase the number of iterations.\n",
      "  warnings.warn(\n",
      "/home/bnt4me/.local/lib/python3.8/site-packages/sklearn/svm/_base.py:1199: ConvergenceWarning: Liblinear failed to converge, increase the number of iterations.\n",
      "  warnings.warn(\n",
      "/home/bnt4me/.local/lib/python3.8/site-packages/sklearn/svm/_base.py:1199: ConvergenceWarning: Liblinear failed to converge, increase the number of iterations.\n",
      "  warnings.warn(\n",
      "/home/bnt4me/.local/lib/python3.8/site-packages/sklearn/svm/_base.py:1199: ConvergenceWarning: Liblinear failed to converge, increase the number of iterations.\n",
      "  warnings.warn(\n",
      "/home/bnt4me/.local/lib/python3.8/site-packages/sklearn/svm/_base.py:1199: ConvergenceWarning: Liblinear failed to converge, increase the number of iterations.\n",
      "  warnings.warn(\n",
      "/home/bnt4me/.local/lib/python3.8/site-packages/sklearn/svm/_base.py:1199: ConvergenceWarning: Liblinear failed to converge, increase the number of iterations.\n",
      "  warnings.warn(\n",
      "/home/bnt4me/.local/lib/python3.8/site-packages/sklearn/svm/_base.py:1199: ConvergenceWarning: Liblinear failed to converge, increase the number of iterations.\n",
      "  warnings.warn(\n",
      "/home/bnt4me/.local/lib/python3.8/site-packages/sklearn/svm/_base.py:1199: ConvergenceWarning: Liblinear failed to converge, increase the number of iterations.\n",
      "  warnings.warn(\n",
      "/home/bnt4me/.local/lib/python3.8/site-packages/sklearn/svm/_base.py:1199: ConvergenceWarning: Liblinear failed to converge, increase the number of iterations.\n",
      "  warnings.warn(\n",
      "/home/bnt4me/.local/lib/python3.8/site-packages/sklearn/svm/_base.py:1199: ConvergenceWarning: Liblinear failed to converge, increase the number of iterations.\n",
      "  warnings.warn(\n",
      "/home/bnt4me/.local/lib/python3.8/site-packages/sklearn/svm/_base.py:1199: ConvergenceWarning: Liblinear failed to converge, increase the number of iterations.\n",
      "  warnings.warn(\n",
      "/home/bnt4me/.local/lib/python3.8/site-packages/sklearn/svm/_base.py:1199: ConvergenceWarning: Liblinear failed to converge, increase the number of iterations.\n",
      "  warnings.warn(\n",
      "/home/bnt4me/.local/lib/python3.8/site-packages/sklearn/svm/_base.py:1199: ConvergenceWarning: Liblinear failed to converge, increase the number of iterations.\n",
      "  warnings.warn(\n",
      "/home/bnt4me/.local/lib/python3.8/site-packages/sklearn/svm/_base.py:1199: ConvergenceWarning: Liblinear failed to converge, increase the number of iterations.\n",
      "  warnings.warn(\n",
      "/home/bnt4me/.local/lib/python3.8/site-packages/sklearn/svm/_base.py:1199: ConvergenceWarning: Liblinear failed to converge, increase the number of iterations.\n",
      "  warnings.warn(\n",
      "/home/bnt4me/.local/lib/python3.8/site-packages/sklearn/svm/_base.py:1199: ConvergenceWarning: Liblinear failed to converge, increase the number of iterations.\n",
      "  warnings.warn(\n",
      "/home/bnt4me/.local/lib/python3.8/site-packages/sklearn/svm/_base.py:1199: ConvergenceWarning: Liblinear failed to converge, increase the number of iterations.\n",
      "  warnings.warn(\n",
      "/home/bnt4me/.local/lib/python3.8/site-packages/sklearn/svm/_base.py:1199: ConvergenceWarning: Liblinear failed to converge, increase the number of iterations.\n",
      "  warnings.warn(\n",
      "/home/bnt4me/.local/lib/python3.8/site-packages/sklearn/svm/_base.py:1199: ConvergenceWarning: Liblinear failed to converge, increase the number of iterations.\n",
      "  warnings.warn(\n",
      "/home/bnt4me/.local/lib/python3.8/site-packages/sklearn/svm/_base.py:1199: ConvergenceWarning: Liblinear failed to converge, increase the number of iterations.\n",
      "  warnings.warn(\n",
      "/home/bnt4me/.local/lib/python3.8/site-packages/sklearn/svm/_base.py:1199: ConvergenceWarning: Liblinear failed to converge, increase the number of iterations.\n",
      "  warnings.warn(\n",
      "/home/bnt4me/.local/lib/python3.8/site-packages/sklearn/svm/_base.py:1199: ConvergenceWarning: Liblinear failed to converge, increase the number of iterations.\n",
      "  warnings.warn(\n",
      "/home/bnt4me/.local/lib/python3.8/site-packages/sklearn/svm/_base.py:1199: ConvergenceWarning: Liblinear failed to converge, increase the number of iterations.\n",
      "  warnings.warn(\n",
      "/home/bnt4me/.local/lib/python3.8/site-packages/sklearn/svm/_base.py:1199: ConvergenceWarning: Liblinear failed to converge, increase the number of iterations.\n",
      "  warnings.warn(\n",
      "/home/bnt4me/.local/lib/python3.8/site-packages/sklearn/svm/_base.py:1199: ConvergenceWarning: Liblinear failed to converge, increase the number of iterations.\n",
      "  warnings.warn(\n",
      "/home/bnt4me/.local/lib/python3.8/site-packages/sklearn/svm/_base.py:1199: ConvergenceWarning: Liblinear failed to converge, increase the number of iterations.\n",
      "  warnings.warn(\n",
      "/home/bnt4me/.local/lib/python3.8/site-packages/sklearn/svm/_base.py:1199: ConvergenceWarning: Liblinear failed to converge, increase the number of iterations.\n",
      "  warnings.warn(\n",
      "/home/bnt4me/.local/lib/python3.8/site-packages/sklearn/svm/_base.py:1199: ConvergenceWarning: Liblinear failed to converge, increase the number of iterations.\n",
      "  warnings.warn(\n",
      "/home/bnt4me/.local/lib/python3.8/site-packages/sklearn/svm/_base.py:1199: ConvergenceWarning: Liblinear failed to converge, increase the number of iterations.\n",
      "  warnings.warn(\n",
      "/home/bnt4me/.local/lib/python3.8/site-packages/sklearn/svm/_base.py:1199: ConvergenceWarning: Liblinear failed to converge, increase the number of iterations.\n",
      "  warnings.warn(\n",
      "/home/bnt4me/.local/lib/python3.8/site-packages/sklearn/svm/_base.py:1199: ConvergenceWarning: Liblinear failed to converge, increase the number of iterations.\n",
      "  warnings.warn(\n",
      "/home/bnt4me/.local/lib/python3.8/site-packages/sklearn/svm/_base.py:1199: ConvergenceWarning: Liblinear failed to converge, increase the number of iterations.\n",
      "  warnings.warn(\n",
      "/home/bnt4me/.local/lib/python3.8/site-packages/sklearn/svm/_base.py:1199: ConvergenceWarning: Liblinear failed to converge, increase the number of iterations.\n",
      "  warnings.warn(\n",
      "/home/bnt4me/.local/lib/python3.8/site-packages/sklearn/svm/_base.py:1199: ConvergenceWarning: Liblinear failed to converge, increase the number of iterations.\n",
      "  warnings.warn(\n",
      "/home/bnt4me/.local/lib/python3.8/site-packages/sklearn/svm/_base.py:1199: ConvergenceWarning: Liblinear failed to converge, increase the number of iterations.\n",
      "  warnings.warn(\n",
      "/home/bnt4me/.local/lib/python3.8/site-packages/sklearn/svm/_base.py:1199: ConvergenceWarning: Liblinear failed to converge, increase the number of iterations.\n",
      "  warnings.warn(\n",
      "/home/bnt4me/.local/lib/python3.8/site-packages/sklearn/svm/_base.py:1199: ConvergenceWarning: Liblinear failed to converge, increase the number of iterations.\n",
      "  warnings.warn(\n",
      "/home/bnt4me/.local/lib/python3.8/site-packages/sklearn/svm/_base.py:1199: ConvergenceWarning: Liblinear failed to converge, increase the number of iterations.\n",
      "  warnings.warn(\n",
      "/home/bnt4me/.local/lib/python3.8/site-packages/sklearn/svm/_base.py:1199: ConvergenceWarning: Liblinear failed to converge, increase the number of iterations.\n",
      "  warnings.warn(\n",
      "/home/bnt4me/.local/lib/python3.8/site-packages/sklearn/svm/_base.py:1199: ConvergenceWarning: Liblinear failed to converge, increase the number of iterations.\n",
      "  warnings.warn(\n",
      "/home/bnt4me/.local/lib/python3.8/site-packages/sklearn/svm/_base.py:1199: ConvergenceWarning: Liblinear failed to converge, increase the number of iterations.\n",
      "  warnings.warn(\n",
      "/home/bnt4me/.local/lib/python3.8/site-packages/sklearn/svm/_base.py:1199: ConvergenceWarning: Liblinear failed to converge, increase the number of iterations.\n",
      "  warnings.warn(\n",
      "/home/bnt4me/.local/lib/python3.8/site-packages/sklearn/svm/_base.py:1199: ConvergenceWarning: Liblinear failed to converge, increase the number of iterations.\n",
      "  warnings.warn(\n",
      "/home/bnt4me/.local/lib/python3.8/site-packages/sklearn/svm/_base.py:1199: ConvergenceWarning: Liblinear failed to converge, increase the number of iterations.\n",
      "  warnings.warn(\n",
      "/home/bnt4me/.local/lib/python3.8/site-packages/sklearn/svm/_base.py:1199: ConvergenceWarning: Liblinear failed to converge, increase the number of iterations.\n",
      "  warnings.warn(\n",
      "/home/bnt4me/.local/lib/python3.8/site-packages/sklearn/svm/_base.py:1199: ConvergenceWarning: Liblinear failed to converge, increase the number of iterations.\n",
      "  warnings.warn(\n",
      "/home/bnt4me/.local/lib/python3.8/site-packages/sklearn/svm/_base.py:1199: ConvergenceWarning: Liblinear failed to converge, increase the number of iterations.\n",
      "  warnings.warn(\n",
      "/home/bnt4me/.local/lib/python3.8/site-packages/sklearn/svm/_base.py:1199: ConvergenceWarning: Liblinear failed to converge, increase the number of iterations.\n",
      "  warnings.warn(\n",
      "/home/bnt4me/.local/lib/python3.8/site-packages/sklearn/svm/_base.py:1199: ConvergenceWarning: Liblinear failed to converge, increase the number of iterations.\n",
      "  warnings.warn(\n",
      "/home/bnt4me/.local/lib/python3.8/site-packages/sklearn/svm/_base.py:1199: ConvergenceWarning: Liblinear failed to converge, increase the number of iterations.\n",
      "  warnings.warn(\n",
      "/home/bnt4me/.local/lib/python3.8/site-packages/sklearn/svm/_base.py:1199: ConvergenceWarning: Liblinear failed to converge, increase the number of iterations.\n",
      "  warnings.warn(\n",
      "/home/bnt4me/.local/lib/python3.8/site-packages/sklearn/svm/_base.py:1199: ConvergenceWarning: Liblinear failed to converge, increase the number of iterations.\n",
      "  warnings.warn(\n",
      "/home/bnt4me/.local/lib/python3.8/site-packages/sklearn/svm/_base.py:1199: ConvergenceWarning: Liblinear failed to converge, increase the number of iterations.\n",
      "  warnings.warn(\n",
      "/home/bnt4me/.local/lib/python3.8/site-packages/sklearn/svm/_base.py:1199: ConvergenceWarning: Liblinear failed to converge, increase the number of iterations.\n",
      "  warnings.warn(\n",
      "/home/bnt4me/.local/lib/python3.8/site-packages/sklearn/svm/_base.py:1199: ConvergenceWarning: Liblinear failed to converge, increase the number of iterations.\n",
      "  warnings.warn(\n",
      "/home/bnt4me/.local/lib/python3.8/site-packages/sklearn/svm/_base.py:1199: ConvergenceWarning: Liblinear failed to converge, increase the number of iterations.\n",
      "  warnings.warn(\n",
      "/home/bnt4me/.local/lib/python3.8/site-packages/sklearn/svm/_base.py:1199: ConvergenceWarning: Liblinear failed to converge, increase the number of iterations.\n",
      "  warnings.warn(\n",
      "/home/bnt4me/.local/lib/python3.8/site-packages/sklearn/svm/_base.py:1199: ConvergenceWarning: Liblinear failed to converge, increase the number of iterations.\n",
      "  warnings.warn(\n",
      "/home/bnt4me/.local/lib/python3.8/site-packages/sklearn/svm/_base.py:1199: ConvergenceWarning: Liblinear failed to converge, increase the number of iterations.\n",
      "  warnings.warn(\n",
      "/home/bnt4me/.local/lib/python3.8/site-packages/sklearn/svm/_base.py:1199: ConvergenceWarning: Liblinear failed to converge, increase the number of iterations.\n",
      "  warnings.warn(\n",
      "/home/bnt4me/.local/lib/python3.8/site-packages/sklearn/svm/_base.py:1199: ConvergenceWarning: Liblinear failed to converge, increase the number of iterations.\n",
      "  warnings.warn(\n",
      "/home/bnt4me/.local/lib/python3.8/site-packages/sklearn/svm/_base.py:1199: ConvergenceWarning: Liblinear failed to converge, increase the number of iterations.\n",
      "  warnings.warn(\n",
      "/home/bnt4me/.local/lib/python3.8/site-packages/sklearn/svm/_base.py:1199: ConvergenceWarning: Liblinear failed to converge, increase the number of iterations.\n",
      "  warnings.warn(\n",
      "/home/bnt4me/.local/lib/python3.8/site-packages/sklearn/svm/_base.py:1199: ConvergenceWarning: Liblinear failed to converge, increase the number of iterations.\n",
      "  warnings.warn(\n",
      "/home/bnt4me/.local/lib/python3.8/site-packages/sklearn/svm/_base.py:1199: ConvergenceWarning: Liblinear failed to converge, increase the number of iterations.\n",
      "  warnings.warn(\n",
      "/home/bnt4me/.local/lib/python3.8/site-packages/sklearn/svm/_base.py:1199: ConvergenceWarning: Liblinear failed to converge, increase the number of iterations.\n",
      "  warnings.warn(\n",
      "/home/bnt4me/.local/lib/python3.8/site-packages/sklearn/svm/_base.py:1199: ConvergenceWarning: Liblinear failed to converge, increase the number of iterations.\n",
      "  warnings.warn(\n",
      "/home/bnt4me/.local/lib/python3.8/site-packages/sklearn/svm/_base.py:1199: ConvergenceWarning: Liblinear failed to converge, increase the number of iterations.\n",
      "  warnings.warn(\n",
      "/home/bnt4me/.local/lib/python3.8/site-packages/sklearn/svm/_base.py:1199: ConvergenceWarning: Liblinear failed to converge, increase the number of iterations.\n",
      "  warnings.warn(\n",
      "/home/bnt4me/.local/lib/python3.8/site-packages/sklearn/svm/_base.py:1199: ConvergenceWarning: Liblinear failed to converge, increase the number of iterations.\n",
      "  warnings.warn(\n",
      "/home/bnt4me/.local/lib/python3.8/site-packages/sklearn/svm/_base.py:1199: ConvergenceWarning: Liblinear failed to converge, increase the number of iterations.\n",
      "  warnings.warn(\n",
      "/home/bnt4me/.local/lib/python3.8/site-packages/sklearn/svm/_base.py:1199: ConvergenceWarning: Liblinear failed to converge, increase the number of iterations.\n",
      "  warnings.warn(\n",
      "/home/bnt4me/.local/lib/python3.8/site-packages/sklearn/svm/_base.py:1199: ConvergenceWarning: Liblinear failed to converge, increase the number of iterations.\n",
      "  warnings.warn(\n",
      "/home/bnt4me/.local/lib/python3.8/site-packages/sklearn/svm/_base.py:1199: ConvergenceWarning: Liblinear failed to converge, increase the number of iterations.\n",
      "  warnings.warn(\n",
      "/home/bnt4me/.local/lib/python3.8/site-packages/sklearn/svm/_base.py:1199: ConvergenceWarning: Liblinear failed to converge, increase the number of iterations.\n",
      "  warnings.warn(\n",
      "/home/bnt4me/.local/lib/python3.8/site-packages/sklearn/svm/_base.py:1199: ConvergenceWarning: Liblinear failed to converge, increase the number of iterations.\n",
      "  warnings.warn(\n",
      "/home/bnt4me/.local/lib/python3.8/site-packages/sklearn/svm/_base.py:1199: ConvergenceWarning: Liblinear failed to converge, increase the number of iterations.\n",
      "  warnings.warn(\n",
      "/home/bnt4me/.local/lib/python3.8/site-packages/sklearn/svm/_base.py:1199: ConvergenceWarning: Liblinear failed to converge, increase the number of iterations.\n",
      "  warnings.warn(\n",
      "/home/bnt4me/.local/lib/python3.8/site-packages/sklearn/svm/_base.py:1199: ConvergenceWarning: Liblinear failed to converge, increase the number of iterations.\n",
      "  warnings.warn(\n",
      "/home/bnt4me/.local/lib/python3.8/site-packages/sklearn/svm/_base.py:1199: ConvergenceWarning: Liblinear failed to converge, increase the number of iterations.\n",
      "  warnings.warn(\n",
      "/home/bnt4me/.local/lib/python3.8/site-packages/sklearn/svm/_base.py:1199: ConvergenceWarning: Liblinear failed to converge, increase the number of iterations.\n",
      "  warnings.warn(\n",
      "/home/bnt4me/.local/lib/python3.8/site-packages/sklearn/svm/_base.py:1199: ConvergenceWarning: Liblinear failed to converge, increase the number of iterations.\n",
      "  warnings.warn(\n",
      "/home/bnt4me/.local/lib/python3.8/site-packages/sklearn/svm/_base.py:1199: ConvergenceWarning: Liblinear failed to converge, increase the number of iterations.\n",
      "  warnings.warn(\n",
      "/home/bnt4me/.local/lib/python3.8/site-packages/sklearn/svm/_base.py:1199: ConvergenceWarning: Liblinear failed to converge, increase the number of iterations.\n",
      "  warnings.warn(\n",
      "/home/bnt4me/.local/lib/python3.8/site-packages/sklearn/svm/_base.py:1199: ConvergenceWarning: Liblinear failed to converge, increase the number of iterations.\n",
      "  warnings.warn(\n",
      "/home/bnt4me/.local/lib/python3.8/site-packages/sklearn/svm/_base.py:1199: ConvergenceWarning: Liblinear failed to converge, increase the number of iterations.\n",
      "  warnings.warn(\n",
      "/home/bnt4me/.local/lib/python3.8/site-packages/sklearn/svm/_base.py:1199: ConvergenceWarning: Liblinear failed to converge, increase the number of iterations.\n",
      "  warnings.warn(\n",
      "/home/bnt4me/.local/lib/python3.8/site-packages/sklearn/svm/_base.py:1199: ConvergenceWarning: Liblinear failed to converge, increase the number of iterations.\n",
      "  warnings.warn(\n",
      "/home/bnt4me/.local/lib/python3.8/site-packages/sklearn/svm/_base.py:1199: ConvergenceWarning: Liblinear failed to converge, increase the number of iterations.\n",
      "  warnings.warn(\n",
      "/home/bnt4me/.local/lib/python3.8/site-packages/sklearn/svm/_base.py:1199: ConvergenceWarning: Liblinear failed to converge, increase the number of iterations.\n",
      "  warnings.warn(\n",
      "/home/bnt4me/.local/lib/python3.8/site-packages/sklearn/svm/_base.py:1199: ConvergenceWarning: Liblinear failed to converge, increase the number of iterations.\n",
      "  warnings.warn(\n",
      "/home/bnt4me/.local/lib/python3.8/site-packages/sklearn/svm/_base.py:1199: ConvergenceWarning: Liblinear failed to converge, increase the number of iterations.\n",
      "  warnings.warn(\n",
      "/home/bnt4me/.local/lib/python3.8/site-packages/sklearn/svm/_base.py:1199: ConvergenceWarning: Liblinear failed to converge, increase the number of iterations.\n",
      "  warnings.warn(\n",
      "/home/bnt4me/.local/lib/python3.8/site-packages/sklearn/svm/_base.py:1199: ConvergenceWarning: Liblinear failed to converge, increase the number of iterations.\n",
      "  warnings.warn(\n",
      "/home/bnt4me/.local/lib/python3.8/site-packages/sklearn/svm/_base.py:1199: ConvergenceWarning: Liblinear failed to converge, increase the number of iterations.\n",
      "  warnings.warn(\n",
      "/home/bnt4me/.local/lib/python3.8/site-packages/sklearn/svm/_base.py:1199: ConvergenceWarning: Liblinear failed to converge, increase the number of iterations.\n",
      "  warnings.warn(\n"
     ]
    },
    {
     "name": "stdout",
     "output_type": "stream",
     "text": [
      "{'criterion': 'gini', 'max_depth': 12}\n"
     ]
    }
   ],
   "source": [
    "from sklearn.model_selection import GridSearchCV\n",
    "from sklearn.tree import DecisionTreeClassifier\n",
    "from sklearn.metrics import precision_score\n",
    "from sklearn.metrics import accuracy_score\n",
    "from sklearn.metrics import recall_score\n",
    "from sklearn.metrics import make_scorer\n",
    "\n",
    "\n",
    "tree_para = {'criterion':['gini','entropy'],'max_depth':[4,6,8,10,12,15,17,20]}\n",
    "scores= {'accuracy':make_scorer(accuracy_score),'precision':make_scorer(precision_score,average='micro'),\n",
    "         'recall':make_scorer(recall_score,average='micro')}\n",
    "\n",
    "clf_tree = GridSearchCV(DecisionTreeClassifier(random_state=15), tree_para, cv=10,\n",
    "                        scoring=scores,refit='accuracy', return_train_score=True,n_jobs=4)\n",
    "clf_tree = clf_tree.fit(X_train_1, y_train_1)\n",
    "print(clf_tree.best_params_)"
   ]
  },
  {
   "cell_type": "code",
   "execution_count": 156,
   "metadata": {
    "colab": {
     "base_uri": "https://localhost:8080/",
     "height": 561
    },
    "id": "XzORkH-Sqlb4",
    "outputId": "6ee3df72-71e8-4101-bde1-86b05ad9b26f"
   },
   "outputs": [
    {
     "data": {
      "text/html": [
       "<div>\n",
       "<style scoped>\n",
       "    .dataframe tbody tr th:only-of-type {\n",
       "        vertical-align: middle;\n",
       "    }\n",
       "\n",
       "    .dataframe tbody tr th {\n",
       "        vertical-align: top;\n",
       "    }\n",
       "\n",
       "    .dataframe thead th {\n",
       "        text-align: right;\n",
       "    }\n",
       "</style>\n",
       "<table border=\"1\" class=\"dataframe\">\n",
       "  <thead>\n",
       "    <tr style=\"text-align: right;\">\n",
       "      <th></th>\n",
       "      <th>mean_fit_time</th>\n",
       "      <th>params</th>\n",
       "      <th>mean_test_accuracy</th>\n",
       "      <th>std_test_accuracy</th>\n",
       "      <th>rank_test_accuracy</th>\n",
       "      <th>mean_test_precision</th>\n",
       "      <th>std_test_precision</th>\n",
       "      <th>mean_test_recall</th>\n",
       "      <th>std_test_recall</th>\n",
       "    </tr>\n",
       "  </thead>\n",
       "  <tbody>\n",
       "    <tr>\n",
       "      <th>4</th>\n",
       "      <td>0.143870</td>\n",
       "      <td>{'criterion': 'gini', 'max_depth': 12}</td>\n",
       "      <td>0.414449</td>\n",
       "      <td>0.056864</td>\n",
       "      <td>1</td>\n",
       "      <td>0.414449</td>\n",
       "      <td>0.056864</td>\n",
       "      <td>0.414449</td>\n",
       "      <td>0.056864</td>\n",
       "    </tr>\n",
       "    <tr>\n",
       "      <th>6</th>\n",
       "      <td>0.146845</td>\n",
       "      <td>{'criterion': 'gini', 'max_depth': 17}</td>\n",
       "      <td>0.412449</td>\n",
       "      <td>0.044918</td>\n",
       "      <td>2</td>\n",
       "      <td>0.412449</td>\n",
       "      <td>0.044918</td>\n",
       "      <td>0.412449</td>\n",
       "      <td>0.044918</td>\n",
       "    </tr>\n",
       "    <tr>\n",
       "      <th>5</th>\n",
       "      <td>0.147991</td>\n",
       "      <td>{'criterion': 'gini', 'max_depth': 15}</td>\n",
       "      <td>0.410408</td>\n",
       "      <td>0.046432</td>\n",
       "      <td>3</td>\n",
       "      <td>0.410408</td>\n",
       "      <td>0.046432</td>\n",
       "      <td>0.410408</td>\n",
       "      <td>0.046432</td>\n",
       "    </tr>\n",
       "    <tr>\n",
       "      <th>11</th>\n",
       "      <td>0.190614</td>\n",
       "      <td>{'criterion': 'entropy', 'max_depth': 10}</td>\n",
       "      <td>0.406857</td>\n",
       "      <td>0.059571</td>\n",
       "      <td>4</td>\n",
       "      <td>0.406857</td>\n",
       "      <td>0.059571</td>\n",
       "      <td>0.406857</td>\n",
       "      <td>0.059571</td>\n",
       "    </tr>\n",
       "    <tr>\n",
       "      <th>13</th>\n",
       "      <td>0.199986</td>\n",
       "      <td>{'criterion': 'entropy', 'max_depth': 15}</td>\n",
       "      <td>0.406857</td>\n",
       "      <td>0.056706</td>\n",
       "      <td>4</td>\n",
       "      <td>0.406857</td>\n",
       "      <td>0.056706</td>\n",
       "      <td>0.406857</td>\n",
       "      <td>0.056706</td>\n",
       "    </tr>\n",
       "    <tr>\n",
       "      <th>14</th>\n",
       "      <td>0.198034</td>\n",
       "      <td>{'criterion': 'entropy', 'max_depth': 17}</td>\n",
       "      <td>0.406857</td>\n",
       "      <td>0.056706</td>\n",
       "      <td>4</td>\n",
       "      <td>0.406857</td>\n",
       "      <td>0.056706</td>\n",
       "      <td>0.406857</td>\n",
       "      <td>0.056706</td>\n",
       "    </tr>\n",
       "    <tr>\n",
       "      <th>15</th>\n",
       "      <td>0.195017</td>\n",
       "      <td>{'criterion': 'entropy', 'max_depth': 20}</td>\n",
       "      <td>0.406857</td>\n",
       "      <td>0.056706</td>\n",
       "      <td>4</td>\n",
       "      <td>0.406857</td>\n",
       "      <td>0.056706</td>\n",
       "      <td>0.406857</td>\n",
       "      <td>0.056706</td>\n",
       "    </tr>\n",
       "    <tr>\n",
       "      <th>7</th>\n",
       "      <td>0.144381</td>\n",
       "      <td>{'criterion': 'gini', 'max_depth': 20}</td>\n",
       "      <td>0.404286</td>\n",
       "      <td>0.048520</td>\n",
       "      <td>8</td>\n",
       "      <td>0.404286</td>\n",
       "      <td>0.048520</td>\n",
       "      <td>0.404286</td>\n",
       "      <td>0.048520</td>\n",
       "    </tr>\n",
       "    <tr>\n",
       "      <th>8</th>\n",
       "      <td>0.107793</td>\n",
       "      <td>{'criterion': 'entropy', 'max_depth': 4}</td>\n",
       "      <td>0.400490</td>\n",
       "      <td>0.052062</td>\n",
       "      <td>9</td>\n",
       "      <td>0.400490</td>\n",
       "      <td>0.052062</td>\n",
       "      <td>0.400490</td>\n",
       "      <td>0.052062</td>\n",
       "    </tr>\n",
       "    <tr>\n",
       "      <th>3</th>\n",
       "      <td>0.137687</td>\n",
       "      <td>{'criterion': 'gini', 'max_depth': 10}</td>\n",
       "      <td>0.400286</td>\n",
       "      <td>0.045085</td>\n",
       "      <td>10</td>\n",
       "      <td>0.400286</td>\n",
       "      <td>0.045085</td>\n",
       "      <td>0.400286</td>\n",
       "      <td>0.045085</td>\n",
       "    </tr>\n",
       "    <tr>\n",
       "      <th>12</th>\n",
       "      <td>0.195982</td>\n",
       "      <td>{'criterion': 'entropy', 'max_depth': 12}</td>\n",
       "      <td>0.394612</td>\n",
       "      <td>0.048654</td>\n",
       "      <td>11</td>\n",
       "      <td>0.394612</td>\n",
       "      <td>0.048654</td>\n",
       "      <td>0.394612</td>\n",
       "      <td>0.048654</td>\n",
       "    </tr>\n",
       "    <tr>\n",
       "      <th>2</th>\n",
       "      <td>0.125849</td>\n",
       "      <td>{'criterion': 'gini', 'max_depth': 8}</td>\n",
       "      <td>0.388122</td>\n",
       "      <td>0.060779</td>\n",
       "      <td>12</td>\n",
       "      <td>0.388122</td>\n",
       "      <td>0.060779</td>\n",
       "      <td>0.388122</td>\n",
       "      <td>0.060779</td>\n",
       "    </tr>\n",
       "    <tr>\n",
       "      <th>10</th>\n",
       "      <td>0.182532</td>\n",
       "      <td>{'criterion': 'entropy', 'max_depth': 8}</td>\n",
       "      <td>0.386490</td>\n",
       "      <td>0.056378</td>\n",
       "      <td>13</td>\n",
       "      <td>0.386490</td>\n",
       "      <td>0.056378</td>\n",
       "      <td>0.386490</td>\n",
       "      <td>0.056378</td>\n",
       "    </tr>\n",
       "    <tr>\n",
       "      <th>9</th>\n",
       "      <td>0.148777</td>\n",
       "      <td>{'criterion': 'entropy', 'max_depth': 6}</td>\n",
       "      <td>0.380082</td>\n",
       "      <td>0.060497</td>\n",
       "      <td>14</td>\n",
       "      <td>0.380082</td>\n",
       "      <td>0.060497</td>\n",
       "      <td>0.380082</td>\n",
       "      <td>0.060497</td>\n",
       "    </tr>\n",
       "    <tr>\n",
       "      <th>1</th>\n",
       "      <td>0.104914</td>\n",
       "      <td>{'criterion': 'gini', 'max_depth': 6}</td>\n",
       "      <td>0.365796</td>\n",
       "      <td>0.043115</td>\n",
       "      <td>15</td>\n",
       "      <td>0.365796</td>\n",
       "      <td>0.043115</td>\n",
       "      <td>0.365796</td>\n",
       "      <td>0.043115</td>\n",
       "    </tr>\n",
       "    <tr>\n",
       "      <th>0</th>\n",
       "      <td>0.075296</td>\n",
       "      <td>{'criterion': 'gini', 'max_depth': 4}</td>\n",
       "      <td>0.355878</td>\n",
       "      <td>0.039316</td>\n",
       "      <td>16</td>\n",
       "      <td>0.355878</td>\n",
       "      <td>0.039316</td>\n",
       "      <td>0.355878</td>\n",
       "      <td>0.039316</td>\n",
       "    </tr>\n",
       "  </tbody>\n",
       "</table>\n",
       "</div>"
      ],
      "text/plain": [
       "    mean_fit_time                                     params  \\\n",
       "4        0.143870     {'criterion': 'gini', 'max_depth': 12}   \n",
       "6        0.146845     {'criterion': 'gini', 'max_depth': 17}   \n",
       "5        0.147991     {'criterion': 'gini', 'max_depth': 15}   \n",
       "11       0.190614  {'criterion': 'entropy', 'max_depth': 10}   \n",
       "13       0.199986  {'criterion': 'entropy', 'max_depth': 15}   \n",
       "14       0.198034  {'criterion': 'entropy', 'max_depth': 17}   \n",
       "15       0.195017  {'criterion': 'entropy', 'max_depth': 20}   \n",
       "7        0.144381     {'criterion': 'gini', 'max_depth': 20}   \n",
       "8        0.107793   {'criterion': 'entropy', 'max_depth': 4}   \n",
       "3        0.137687     {'criterion': 'gini', 'max_depth': 10}   \n",
       "12       0.195982  {'criterion': 'entropy', 'max_depth': 12}   \n",
       "2        0.125849      {'criterion': 'gini', 'max_depth': 8}   \n",
       "10       0.182532   {'criterion': 'entropy', 'max_depth': 8}   \n",
       "9        0.148777   {'criterion': 'entropy', 'max_depth': 6}   \n",
       "1        0.104914      {'criterion': 'gini', 'max_depth': 6}   \n",
       "0        0.075296      {'criterion': 'gini', 'max_depth': 4}   \n",
       "\n",
       "    mean_test_accuracy  std_test_accuracy  rank_test_accuracy  \\\n",
       "4             0.414449           0.056864                   1   \n",
       "6             0.412449           0.044918                   2   \n",
       "5             0.410408           0.046432                   3   \n",
       "11            0.406857           0.059571                   4   \n",
       "13            0.406857           0.056706                   4   \n",
       "14            0.406857           0.056706                   4   \n",
       "15            0.406857           0.056706                   4   \n",
       "7             0.404286           0.048520                   8   \n",
       "8             0.400490           0.052062                   9   \n",
       "3             0.400286           0.045085                  10   \n",
       "12            0.394612           0.048654                  11   \n",
       "2             0.388122           0.060779                  12   \n",
       "10            0.386490           0.056378                  13   \n",
       "9             0.380082           0.060497                  14   \n",
       "1             0.365796           0.043115                  15   \n",
       "0             0.355878           0.039316                  16   \n",
       "\n",
       "    mean_test_precision  std_test_precision  mean_test_recall  std_test_recall  \n",
       "4              0.414449            0.056864          0.414449         0.056864  \n",
       "6              0.412449            0.044918          0.412449         0.044918  \n",
       "5              0.410408            0.046432          0.410408         0.046432  \n",
       "11             0.406857            0.059571          0.406857         0.059571  \n",
       "13             0.406857            0.056706          0.406857         0.056706  \n",
       "14             0.406857            0.056706          0.406857         0.056706  \n",
       "15             0.406857            0.056706          0.406857         0.056706  \n",
       "7              0.404286            0.048520          0.404286         0.048520  \n",
       "8              0.400490            0.052062          0.400490         0.052062  \n",
       "3              0.400286            0.045085          0.400286         0.045085  \n",
       "12             0.394612            0.048654          0.394612         0.048654  \n",
       "2              0.388122            0.060779          0.388122         0.060779  \n",
       "10             0.386490            0.056378          0.386490         0.056378  \n",
       "9              0.380082            0.060497          0.380082         0.060497  \n",
       "1              0.365796            0.043115          0.365796         0.043115  \n",
       "0              0.355878            0.039316          0.355878         0.039316  "
      ]
     },
     "execution_count": 156,
     "metadata": {},
     "output_type": "execute_result"
    }
   ],
   "source": [
    "df = pd.DataFrame(clf_tree.cv_results_)\n",
    "df.sort_values(by='rank_test_accuracy')[['mean_fit_time','params','mean_test_accuracy','std_test_accuracy','rank_test_accuracy',\n",
    "                                         'mean_test_precision','std_test_precision','mean_test_recall','std_test_recall']]"
   ]
  },
  {
   "cell_type": "code",
   "execution_count": 157,
   "metadata": {
    "colab": {
     "base_uri": "https://localhost:8080/",
     "height": 353
    },
    "id": "9v5_o2kSJmF9",
    "outputId": "714ec43c-770e-48db-aa83-0ebcb59c6e3c"
   },
   "outputs": [
    {
     "data": {
      "image/png": "[encoded data removed]",
      "text/plain": [
       "<Figure size 432x288 with 1 Axes>"
      ]
     },
     "metadata": {},
     "output_type": "display_data"
    },
    {
     "name": "stdout",
     "output_type": "stream",
     "text": [
      "Precision: 0.329\n",
      "Recall: 0.329\n",
      "Accuracy: 0.329\n"
     ]
    }
   ],
   "source": [
    "%matplotlib inline\n",
    "import seaborn as sns; sns.set()\n",
    "from sklearn.metrics import confusion_matrix\n",
    "import matplotlib.pyplot as plt\n",
    "import numpy as np\n",
    "\n",
    "\n",
    "y_test_pred = clf_tree.predict(X_test)\n",
    "cm_test = confusion_matrix(y_test, y_test_pred)\n",
    "\n",
    "sns.heatmap(cm_test.T, square=True, annot=True, fmt='d', cbar=False,\n",
    "            xticklabels= np.unique(y_test),\n",
    "            yticklabels= np.unique(y_test_pred))\n",
    "plt.xlabel('true label')\n",
    "plt.ylabel('predicted label');\n",
    "plt.title('Confusion Matrix DT - Test Set')\n",
    "plt.show()\n",
    "\n",
    "print('Precision: %.3f' %(precision_score(y_test, y_test_pred,average='micro')))\n",
    "print('Recall: %.3f' %(recall_score(y_test, y_test_pred,average='micro')))\n",
    "print('Accuracy: %.3f' %(accuracy_score(y_test,y_test_pred)))"
   ]
  },
  {
   "cell_type": "markdown",
   "metadata": {
    "id": "ZIaPEoz6Ti1Z"
   },
   "source": [
    "## 2.2.3. K Neighbours"
   ]
  },
  {
   "cell_type": "code",
   "execution_count": 158,
   "metadata": {
    "colab": {
     "base_uri": "https://localhost:8080/"
    },
    "id": "AwyIGd0AToMr",
    "outputId": "ef6f41c6-99bc-4a89-b4f0-7f1d3f9d823e"
   },
   "outputs": [
    {
     "name": "stdout",
     "output_type": "stream",
     "text": [
      "{'metric': 'euclidean', 'n_neighbors': 6}\n"
     ]
    }
   ],
   "source": [
    "from sklearn.neighbors import KNeighborsClassifier\n",
    "\n",
    "nn_para = {'n_neighbors':[3,6,9],\n",
    "          'metric':[\"euclidean\",\"manhattan\"]}\n",
    "scores= {'accuracy':make_scorer(accuracy_score),'precision':make_scorer(precision_score,average='micro'),\n",
    "         'recall':make_scorer(recall_score,average='micro')}\n",
    "\n",
    "clf_kn = GridSearchCV(KNeighborsClassifier(), nn_para, cv=10, scoring=scores,\n",
    "                       refit='accuracy', return_train_score=True,n_jobs=4)\n",
    "clf_kn = clf_kn.fit(X_train_1, y_train_1)\n",
    "print(clf_kn.best_params_)"
   ]
  },
  {
   "cell_type": "code",
   "execution_count": 159,
   "metadata": {
    "colab": {
     "base_uri": "https://localhost:8080/",
     "height": 561
    },
    "id": "seL-PlX5BFw_",
    "outputId": "b237bf42-8ec0-4150-bc61-383b528f11fc"
   },
   "outputs": [
    {
     "data": {
      "text/html": [
       "<div>\n",
       "<style scoped>\n",
       "    .dataframe tbody tr th:only-of-type {\n",
       "        vertical-align: middle;\n",
       "    }\n",
       "\n",
       "    .dataframe tbody tr th {\n",
       "        vertical-align: top;\n",
       "    }\n",
       "\n",
       "    .dataframe thead th {\n",
       "        text-align: right;\n",
       "    }\n",
       "</style>\n",
       "<table border=\"1\" class=\"dataframe\">\n",
       "  <thead>\n",
       "    <tr style=\"text-align: right;\">\n",
       "      <th></th>\n",
       "      <th>mean_fit_time</th>\n",
       "      <th>params</th>\n",
       "      <th>mean_test_accuracy</th>\n",
       "      <th>std_test_accuracy</th>\n",
       "      <th>rank_test_accuracy</th>\n",
       "      <th>mean_test_precision</th>\n",
       "      <th>std_test_precision</th>\n",
       "      <th>mean_test_recall</th>\n",
       "      <th>std_test_recall</th>\n",
       "    </tr>\n",
       "  </thead>\n",
       "  <tbody>\n",
       "    <tr>\n",
       "      <th>1</th>\n",
       "      <td>0.005166</td>\n",
       "      <td>{'metric': 'euclidean', 'n_neighbors': 6}</td>\n",
       "      <td>0.426939</td>\n",
       "      <td>0.061149</td>\n",
       "      <td>1</td>\n",
       "      <td>0.426939</td>\n",
       "      <td>0.061149</td>\n",
       "      <td>0.426939</td>\n",
       "      <td>0.061149</td>\n",
       "    </tr>\n",
       "    <tr>\n",
       "      <th>4</th>\n",
       "      <td>0.003322</td>\n",
       "      <td>{'metric': 'manhattan', 'n_neighbors': 6}</td>\n",
       "      <td>0.410571</td>\n",
       "      <td>0.068423</td>\n",
       "      <td>2</td>\n",
       "      <td>0.410571</td>\n",
       "      <td>0.068423</td>\n",
       "      <td>0.410571</td>\n",
       "      <td>0.068423</td>\n",
       "    </tr>\n",
       "    <tr>\n",
       "      <th>5</th>\n",
       "      <td>0.003885</td>\n",
       "      <td>{'metric': 'manhattan', 'n_neighbors': 9}</td>\n",
       "      <td>0.404286</td>\n",
       "      <td>0.061241</td>\n",
       "      <td>3</td>\n",
       "      <td>0.404286</td>\n",
       "      <td>0.061241</td>\n",
       "      <td>0.404286</td>\n",
       "      <td>0.061241</td>\n",
       "    </tr>\n",
       "    <tr>\n",
       "      <th>2</th>\n",
       "      <td>0.005049</td>\n",
       "      <td>{'metric': 'euclidean', 'n_neighbors': 9}</td>\n",
       "      <td>0.390245</td>\n",
       "      <td>0.048808</td>\n",
       "      <td>4</td>\n",
       "      <td>0.390245</td>\n",
       "      <td>0.048808</td>\n",
       "      <td>0.390245</td>\n",
       "      <td>0.048808</td>\n",
       "    </tr>\n",
       "    <tr>\n",
       "      <th>0</th>\n",
       "      <td>0.008769</td>\n",
       "      <td>{'metric': 'euclidean', 'n_neighbors': 3}</td>\n",
       "      <td>0.386367</td>\n",
       "      <td>0.071920</td>\n",
       "      <td>5</td>\n",
       "      <td>0.386367</td>\n",
       "      <td>0.071920</td>\n",
       "      <td>0.386367</td>\n",
       "      <td>0.071920</td>\n",
       "    </tr>\n",
       "    <tr>\n",
       "      <th>3</th>\n",
       "      <td>0.003867</td>\n",
       "      <td>{'metric': 'manhattan', 'n_neighbors': 3}</td>\n",
       "      <td>0.371837</td>\n",
       "      <td>0.055350</td>\n",
       "      <td>6</td>\n",
       "      <td>0.371837</td>\n",
       "      <td>0.055350</td>\n",
       "      <td>0.371837</td>\n",
       "      <td>0.055350</td>\n",
       "    </tr>\n",
       "  </tbody>\n",
       "</table>\n",
       "</div>"
      ],
      "text/plain": [
       "   mean_fit_time                                     params  \\\n",
       "1       0.005166  {'metric': 'euclidean', 'n_neighbors': 6}   \n",
       "4       0.003322  {'metric': 'manhattan', 'n_neighbors': 6}   \n",
       "5       0.003885  {'metric': 'manhattan', 'n_neighbors': 9}   \n",
       "2       0.005049  {'metric': 'euclidean', 'n_neighbors': 9}   \n",
       "0       0.008769  {'metric': 'euclidean', 'n_neighbors': 3}   \n",
       "3       0.003867  {'metric': 'manhattan', 'n_neighbors': 3}   \n",
       "\n",
       "   mean_test_accuracy  std_test_accuracy  rank_test_accuracy  \\\n",
       "1            0.426939           0.061149                   1   \n",
       "4            0.410571           0.068423                   2   \n",
       "5            0.404286           0.061241                   3   \n",
       "2            0.390245           0.048808                   4   \n",
       "0            0.386367           0.071920                   5   \n",
       "3            0.371837           0.055350                   6   \n",
       "\n",
       "   mean_test_precision  std_test_precision  mean_test_recall  std_test_recall  \n",
       "1             0.426939            0.061149          0.426939         0.061149  \n",
       "4             0.410571            0.068423          0.410571         0.068423  \n",
       "5             0.404286            0.061241          0.404286         0.061241  \n",
       "2             0.390245            0.048808          0.390245         0.048808  \n",
       "0             0.386367            0.071920          0.386367         0.071920  \n",
       "3             0.371837            0.055350          0.371837         0.055350  "
      ]
     },
     "execution_count": 159,
     "metadata": {},
     "output_type": "execute_result"
    }
   ],
   "source": [
    "df = pd.DataFrame(clf_kn.cv_results_)\n",
    "df.sort_values(by='rank_test_accuracy')[['mean_fit_time','params','mean_test_accuracy','std_test_accuracy','rank_test_accuracy',\n",
    "                                         'mean_test_precision','std_test_precision','mean_test_recall','std_test_recall']]"
   ]
  },
  {
   "cell_type": "code",
   "execution_count": 160,
   "metadata": {
    "colab": {
     "base_uri": "https://localhost:8080/",
     "height": 353
    },
    "id": "pxS5RbyEBIik",
    "outputId": "7b02b7e7-a8a3-4b27-c67a-a6c701407d6e"
   },
   "outputs": [
    {
     "data": {
      "image/png": "[encoded data removed]",
      "text/plain": [
       "<Figure size 432x288 with 1 Axes>"
      ]
     },
     "metadata": {},
     "output_type": "display_data"
    },
    {
     "name": "stdout",
     "output_type": "stream",
     "text": [
      "Precision: 0.329\n",
      "Recall: 0.329\n",
      "Accuracy: 0.329\n"
     ]
    }
   ],
   "source": [
    "y_test_pred_gnb = clf_kn.predict(X_test)\n",
    "cm_test = confusion_matrix(y_test, y_test_pred_gnb)\n",
    "\n",
    "sns.heatmap(cm_test.T, square=True, annot=True, fmt='d', cbar=False,\n",
    "            xticklabels= np.unique(y_test),\n",
    "            yticklabels= np.unique(y_test_pred_gnb))\n",
    "plt.xlabel('true label')\n",
    "plt.ylabel('predicted label');\n",
    "plt.title('Confusion Matrix Naive Bayes - Test Set')\n",
    "plt.show()\n",
    "\n",
    "print('Precision: %.3f' %(precision_score(y_test, y_test_pred,average='micro')))\n",
    "print('Recall: %.3f' %(recall_score(y_test, y_test_pred,average='micro')))\n",
    "print('Accuracy: %.3f' %(accuracy_score(y_test,y_test_pred)))"
   ]
  },
  {
   "cell_type": "markdown",
   "metadata": {
    "id": "WkaY1TdPBWq5"
   },
   "source": [
    "## 2.2.4. Support Vector Machine"
   ]
  },
  {
   "cell_type": "code",
   "execution_count": 161,
   "metadata": {
    "colab": {
     "base_uri": "https://localhost:8080/",
     "height": 394
    },
    "id": "8pdapudCBY81",
    "outputId": "2b7d6d99-b564-4bec-967f-302b2c3b0b9d"
   },
   "outputs": [
    {
     "data": {
      "text/plain": [
       "GridSearchCV(cv=10, estimator=LinearSVC(random_state=10), n_jobs=5,\n",
       "             param_grid={'C': [1, 2, 3, 5, 10, 15, 20, 30, 40, 60, 90, 320],\n",
       "                         'penalty': ['l2']},\n",
       "             refit='accuracy', return_train_score=True,\n",
       "             scoring={'accuracy': make_scorer(accuracy_score),\n",
       "                      'precision': make_scorer(precision_score, average=micro),\n",
       "                      'recall': make_scorer(recall_score, average=micro)})"
      ]
     },
     "execution_count": 161,
     "metadata": {},
     "output_type": "execute_result"
    }
   ],
   "source": [
    "from sklearn.model_selection import GridSearchCV\n",
    "from sklearn import svm\n",
    "from sklearn.model_selection import cross_val_score\n",
    "from sklearn.metrics import precision_score\n",
    "from sklearn.metrics import accuracy_score\n",
    "from sklearn.metrics import recall_score\n",
    "from sklearn.metrics import make_scorer\n",
    "\n",
    "param_grid =  {'penalty':['l2'],'C':[1,2,3,5,10,15,20,30,40,60,90, 320]}\n",
    "scores= {'accuracy':make_scorer(accuracy_score),'precision':make_scorer(precision_score,average='micro'),\n",
    "         'recall':make_scorer(recall_score,average='micro')}\n",
    "\n",
    "svc = svm.LinearSVC(random_state=10)\n",
    "clf_svc = GridSearchCV(svc, param_grid,cv=10,scoring=scores,\n",
    "                        refit='accuracy', return_train_score=True, n_jobs=5)\n",
    "clf_svc.fit(X_train_1, y_train_1) "
   ]
  },
  {
   "cell_type": "code",
   "execution_count": 162,
   "metadata": {
    "id": "Znx51o33BZIX"
   },
   "outputs": [
    {
     "name": "stdout",
     "output_type": "stream",
     "text": [
      "{'C': 1, 'penalty': 'l2'}\n"
     ]
    }
   ],
   "source": [
    "print(clf_svc.best_params_)"
   ]
  },
  {
   "cell_type": "code",
   "execution_count": 163,
   "metadata": {
    "id": "fpxVdnvyBZSM"
   },
   "outputs": [
    {
     "data": {
      "text/html": [
       "<div>\n",
       "<style scoped>\n",
       "    .dataframe tbody tr th:only-of-type {\n",
       "        vertical-align: middle;\n",
       "    }\n",
       "\n",
       "    .dataframe tbody tr th {\n",
       "        vertical-align: top;\n",
       "    }\n",
       "\n",
       "    .dataframe thead th {\n",
       "        text-align: right;\n",
       "    }\n",
       "</style>\n",
       "<table border=\"1\" class=\"dataframe\">\n",
       "  <thead>\n",
       "    <tr style=\"text-align: right;\">\n",
       "      <th></th>\n",
       "      <th>mean_fit_time</th>\n",
       "      <th>params</th>\n",
       "      <th>mean_test_accuracy</th>\n",
       "      <th>std_test_accuracy</th>\n",
       "      <th>rank_test_accuracy</th>\n",
       "      <th>mean_test_precision</th>\n",
       "      <th>std_test_precision</th>\n",
       "      <th>mean_test_recall</th>\n",
       "      <th>std_test_recall</th>\n",
       "    </tr>\n",
       "  </thead>\n",
       "  <tbody>\n",
       "    <tr>\n",
       "      <th>0</th>\n",
       "      <td>0.539482</td>\n",
       "      <td>{'C': 1, 'penalty': 'l2'}</td>\n",
       "      <td>0.386041</td>\n",
       "      <td>0.039215</td>\n",
       "      <td>1</td>\n",
       "      <td>0.386041</td>\n",
       "      <td>0.039215</td>\n",
       "      <td>0.386041</td>\n",
       "      <td>0.039215</td>\n",
       "    </tr>\n",
       "    <tr>\n",
       "      <th>1</th>\n",
       "      <td>0.576050</td>\n",
       "      <td>{'C': 2, 'penalty': 'l2'}</td>\n",
       "      <td>0.386041</td>\n",
       "      <td>0.039215</td>\n",
       "      <td>1</td>\n",
       "      <td>0.386041</td>\n",
       "      <td>0.039215</td>\n",
       "      <td>0.386041</td>\n",
       "      <td>0.039215</td>\n",
       "    </tr>\n",
       "    <tr>\n",
       "      <th>2</th>\n",
       "      <td>0.588649</td>\n",
       "      <td>{'C': 3, 'penalty': 'l2'}</td>\n",
       "      <td>0.386041</td>\n",
       "      <td>0.039215</td>\n",
       "      <td>1</td>\n",
       "      <td>0.386041</td>\n",
       "      <td>0.039215</td>\n",
       "      <td>0.386041</td>\n",
       "      <td>0.039215</td>\n",
       "    </tr>\n",
       "    <tr>\n",
       "      <th>3</th>\n",
       "      <td>0.538686</td>\n",
       "      <td>{'C': 5, 'penalty': 'l2'}</td>\n",
       "      <td>0.386041</td>\n",
       "      <td>0.039215</td>\n",
       "      <td>1</td>\n",
       "      <td>0.386041</td>\n",
       "      <td>0.039215</td>\n",
       "      <td>0.386041</td>\n",
       "      <td>0.039215</td>\n",
       "    </tr>\n",
       "    <tr>\n",
       "      <th>4</th>\n",
       "      <td>0.562270</td>\n",
       "      <td>{'C': 10, 'penalty': 'l2'}</td>\n",
       "      <td>0.386041</td>\n",
       "      <td>0.039215</td>\n",
       "      <td>1</td>\n",
       "      <td>0.386041</td>\n",
       "      <td>0.039215</td>\n",
       "      <td>0.386041</td>\n",
       "      <td>0.039215</td>\n",
       "    </tr>\n",
       "    <tr>\n",
       "      <th>5</th>\n",
       "      <td>0.560695</td>\n",
       "      <td>{'C': 15, 'penalty': 'l2'}</td>\n",
       "      <td>0.386041</td>\n",
       "      <td>0.039215</td>\n",
       "      <td>1</td>\n",
       "      <td>0.386041</td>\n",
       "      <td>0.039215</td>\n",
       "      <td>0.386041</td>\n",
       "      <td>0.039215</td>\n",
       "    </tr>\n",
       "    <tr>\n",
       "      <th>6</th>\n",
       "      <td>0.558453</td>\n",
       "      <td>{'C': 20, 'penalty': 'l2'}</td>\n",
       "      <td>0.386041</td>\n",
       "      <td>0.039215</td>\n",
       "      <td>1</td>\n",
       "      <td>0.386041</td>\n",
       "      <td>0.039215</td>\n",
       "      <td>0.386041</td>\n",
       "      <td>0.039215</td>\n",
       "    </tr>\n",
       "    <tr>\n",
       "      <th>7</th>\n",
       "      <td>0.532637</td>\n",
       "      <td>{'C': 30, 'penalty': 'l2'}</td>\n",
       "      <td>0.386041</td>\n",
       "      <td>0.039215</td>\n",
       "      <td>1</td>\n",
       "      <td>0.386041</td>\n",
       "      <td>0.039215</td>\n",
       "      <td>0.386041</td>\n",
       "      <td>0.039215</td>\n",
       "    </tr>\n",
       "    <tr>\n",
       "      <th>8</th>\n",
       "      <td>0.559577</td>\n",
       "      <td>{'C': 40, 'penalty': 'l2'}</td>\n",
       "      <td>0.386041</td>\n",
       "      <td>0.039215</td>\n",
       "      <td>1</td>\n",
       "      <td>0.386041</td>\n",
       "      <td>0.039215</td>\n",
       "      <td>0.386041</td>\n",
       "      <td>0.039215</td>\n",
       "    </tr>\n",
       "    <tr>\n",
       "      <th>9</th>\n",
       "      <td>0.540559</td>\n",
       "      <td>{'C': 60, 'penalty': 'l2'}</td>\n",
       "      <td>0.386041</td>\n",
       "      <td>0.039215</td>\n",
       "      <td>1</td>\n",
       "      <td>0.386041</td>\n",
       "      <td>0.039215</td>\n",
       "      <td>0.386041</td>\n",
       "      <td>0.039215</td>\n",
       "    </tr>\n",
       "    <tr>\n",
       "      <th>10</th>\n",
       "      <td>0.547882</td>\n",
       "      <td>{'C': 90, 'penalty': 'l2'}</td>\n",
       "      <td>0.386041</td>\n",
       "      <td>0.039215</td>\n",
       "      <td>1</td>\n",
       "      <td>0.386041</td>\n",
       "      <td>0.039215</td>\n",
       "      <td>0.386041</td>\n",
       "      <td>0.039215</td>\n",
       "    </tr>\n",
       "    <tr>\n",
       "      <th>11</th>\n",
       "      <td>0.548400</td>\n",
       "      <td>{'C': 320, 'penalty': 'l2'}</td>\n",
       "      <td>0.386041</td>\n",
       "      <td>0.039215</td>\n",
       "      <td>1</td>\n",
       "      <td>0.386041</td>\n",
       "      <td>0.039215</td>\n",
       "      <td>0.386041</td>\n",
       "      <td>0.039215</td>\n",
       "    </tr>\n",
       "  </tbody>\n",
       "</table>\n",
       "</div>"
      ],
      "text/plain": [
       "    mean_fit_time                       params  mean_test_accuracy  \\\n",
       "0        0.539482    {'C': 1, 'penalty': 'l2'}            0.386041   \n",
       "1        0.576050    {'C': 2, 'penalty': 'l2'}            0.386041   \n",
       "2        0.588649    {'C': 3, 'penalty': 'l2'}            0.386041   \n",
       "3        0.538686    {'C': 5, 'penalty': 'l2'}            0.386041   \n",
       "4        0.562270   {'C': 10, 'penalty': 'l2'}            0.386041   \n",
       "5        0.560695   {'C': 15, 'penalty': 'l2'}            0.386041   \n",
       "6        0.558453   {'C': 20, 'penalty': 'l2'}            0.386041   \n",
       "7        0.532637   {'C': 30, 'penalty': 'l2'}            0.386041   \n",
       "8        0.559577   {'C': 40, 'penalty': 'l2'}            0.386041   \n",
       "9        0.540559   {'C': 60, 'penalty': 'l2'}            0.386041   \n",
       "10       0.547882   {'C': 90, 'penalty': 'l2'}            0.386041   \n",
       "11       0.548400  {'C': 320, 'penalty': 'l2'}            0.386041   \n",
       "\n",
       "    std_test_accuracy  rank_test_accuracy  mean_test_precision  \\\n",
       "0            0.039215                   1             0.386041   \n",
       "1            0.039215                   1             0.386041   \n",
       "2            0.039215                   1             0.386041   \n",
       "3            0.039215                   1             0.386041   \n",
       "4            0.039215                   1             0.386041   \n",
       "5            0.039215                   1             0.386041   \n",
       "6            0.039215                   1             0.386041   \n",
       "7            0.039215                   1             0.386041   \n",
       "8            0.039215                   1             0.386041   \n",
       "9            0.039215                   1             0.386041   \n",
       "10           0.039215                   1             0.386041   \n",
       "11           0.039215                   1             0.386041   \n",
       "\n",
       "    std_test_precision  mean_test_recall  std_test_recall  \n",
       "0             0.039215          0.386041         0.039215  \n",
       "1             0.039215          0.386041         0.039215  \n",
       "2             0.039215          0.386041         0.039215  \n",
       "3             0.039215          0.386041         0.039215  \n",
       "4             0.039215          0.386041         0.039215  \n",
       "5             0.039215          0.386041         0.039215  \n",
       "6             0.039215          0.386041         0.039215  \n",
       "7             0.039215          0.386041         0.039215  \n",
       "8             0.039215          0.386041         0.039215  \n",
       "9             0.039215          0.386041         0.039215  \n",
       "10            0.039215          0.386041         0.039215  \n",
       "11            0.039215          0.386041         0.039215  "
      ]
     },
     "execution_count": 163,
     "metadata": {},
     "output_type": "execute_result"
    }
   ],
   "source": [
    "df = pd.DataFrame(clf_svc.cv_results_)\n",
    "df.sort_values(by='rank_test_accuracy')[['mean_fit_time','params','mean_test_accuracy','std_test_accuracy','rank_test_accuracy',\n",
    "                                         'mean_test_precision','std_test_precision','mean_test_recall','std_test_recall']]"
   ]
  },
  {
   "cell_type": "code",
   "execution_count": 164,
   "metadata": {
    "id": "qv9d0VLoBesU"
   },
   "outputs": [
    {
     "data": {
      "image/png": "[encoded data removed]",
      "text/plain": [
       "<Figure size 432x288 with 1 Axes>"
      ]
     },
     "metadata": {},
     "output_type": "display_data"
    },
    {
     "name": "stdout",
     "output_type": "stream",
     "text": [
      "Precision: 0.363\n",
      "Recall: 0.363\n",
      "Accuracy: 0.363\n"
     ]
    }
   ],
   "source": [
    "%matplotlib inline\n",
    "import seaborn as sns; sns.set()\n",
    "from sklearn.metrics import confusion_matrix\n",
    "import matplotlib.pyplot as plt\n",
    "\n",
    "y_test_pred = clf_svc.predict(X_test)\n",
    "cm_test = confusion_matrix(y_test, y_test_pred)\n",
    "\n",
    "sns.heatmap(cm_test.T, square=True, annot=True, fmt='d', cbar=False,\n",
    "            xticklabels= np.unique(y_test),\n",
    "            yticklabels= np.unique(y_test_pred))\n",
    "plt.xlabel('true label')\n",
    "plt.ylabel('predicted label');\n",
    "plt.title('Confusion Matrix DT - Test Set')\n",
    "plt.show()\n",
    "\n",
    "print('Precision: %.3f' %(precision_score(y_test, y_test_pred,average='micro')))\n",
    "print('Recall: %.3f' %(recall_score(y_test, y_test_pred,average='micro')))\n",
    "print('Accuracy: %.3f' %(accuracy_score(y_test,y_test_pred)))"
   ]
  },
  {
   "cell_type": "markdown",
   "metadata": {
    "id": "ZJ4qyaklX3aI"
   },
   "source": [
    "# Ensemble method:\n"
   ]
  },
  {
   "cell_type": "markdown",
   "metadata": {
    "id": "S8iK8hEtRBHL"
   },
   "source": [
    "## 2.2.5. Voting clasifier"
   ]
  },
  {
   "cell_type": "code",
   "execution_count": 165,
   "metadata": {
    "colab": {
     "base_uri": "https://localhost:8080/"
    },
    "id": "zsG9r-BOX97j",
    "outputId": "4afadd70-1d73-4cfb-ea34-609f5740daca"
   },
   "outputs": [],
   "source": [
    "from sklearn.ensemble import VotingClassifier\n",
    "\n",
    "from sklearn import svm\n",
    "from sklearn.tree import DecisionTreeClassifier\n",
    "from sklearn.neighbors import KNeighborsClassifier\n",
    "from sklearn.neural_network import MLPClassifier\n",
    "\n",
    "\n",
    "classif_model_1 = DecisionTreeClassifier(random_state=15, criterion= 'gini', max_depth= 10)\n",
    "\n",
    "classif_model_2 = MLPClassifier(random_state=1, max_iter=300, activation= 'relu', alpha= 0.0001)\n",
    "\n",
    "classif_model_3 = svm.LinearSVC(random_state=1, C= 1, penalty= 'l2')\n",
    "\n",
    "classif_model_4 = KNeighborsClassifier(metric= 'manhattan', n_neighbors= 3, \n",
    "                                       weights= 'distance',n_jobs=4)\n",
    "\n",
    "ereg = VotingClassifier(estimators=[('DT', classif_model_1), ('NN', classif_model_2),\n",
    "                                    ('SVC', classif_model_3), ('KNN', classif_model_4)])\n",
    "ereg = ereg.fit(X_train_1, y_train_1)"
   ]
  },
  {
   "cell_type": "code",
   "execution_count": 166,
   "metadata": {
    "colab": {
     "base_uri": "https://localhost:8080/"
    },
    "id": "uJlRsoEyY1uE",
    "outputId": "d1b09acc-5185-4732-80ee-2dbe71c786d6"
   },
   "outputs": [
    {
     "name": "stdout",
     "output_type": "stream",
     "text": [
      "Classification report:\n",
      "              precision    recall  f1-score   support\n",
      "\n",
      "           0       0.21      0.51      0.29        47\n",
      "           1       0.53      0.22      0.31       172\n",
      "           2       0.31      0.45      0.37        73\n",
      "\n",
      "    accuracy                           0.32       292\n",
      "   macro avg       0.35      0.39      0.32       292\n",
      "weighted avg       0.42      0.32      0.32       292\n",
      "\n",
      "\n"
     ]
    }
   ],
   "source": [
    "from sklearn.metrics import classification_report\n",
    "\n",
    "y_pred_rf = ereg .predict(X_test)\n",
    "\n",
    "print('Classification report:\\n{0}\\n'.format(classification_report(y_test, y_pred_rf)))"
   ]
  },
  {
   "cell_type": "code",
   "execution_count": 167,
   "metadata": {
    "colab": {
     "base_uri": "https://localhost:8080/",
     "height": 302
    },
    "id": "6Taud8ohY-Pf",
    "outputId": "9f256008-6c8a-423d-8b5a-4fad0f68b32e"
   },
   "outputs": [
    {
     "data": {
      "image/png": "[encoded data removed]",
      "text/plain": [
       "<Figure size 432x288 with 1 Axes>"
      ]
     },
     "metadata": {},
     "output_type": "display_data"
    }
   ],
   "source": [
    "%matplotlib inline\n",
    "import seaborn as sns; sns.set()\n",
    "from sklearn.metrics import confusion_matrix\n",
    "import matplotlib.pyplot as plt\n",
    "\n",
    "y_test_pred = ereg.predict(X_test)\n",
    "cm_test = confusion_matrix(y_test, y_test_pred)\n",
    "\n",
    "sns.heatmap(cm_test.T, square=True, annot=True, fmt='d', cbar=False,\n",
    "            xticklabels= np.unique(y_test),\n",
    "            yticklabels= np.unique(y_test_pred))\n",
    "plt.xlabel('true label')\n",
    "plt.ylabel('predicted label');\n",
    "plt.title('Confusion Voting Classifier - Test Set')\n",
    "plt.show()"
   ]
  },
  {
   "cell_type": "markdown",
   "metadata": {
    "id": "aOCHnxONRGe3"
   },
   "source": [
    "## 2.2.6. XGBoost"
   ]
  },
  {
   "cell_type": "code",
   "execution_count": 168,
   "metadata": {
    "colab": {
     "base_uri": "https://localhost:8080/"
    },
    "id": "Bg9sxFBjy4Qa",
    "outputId": "8a215b8e-55f2-418e-b6fb-f0610dd058d3"
   },
   "outputs": [
    {
     "name": "stderr",
     "output_type": "stream",
     "text": [
      "/home/bnt4me/.local/lib/python3.8/site-packages/xgboost/sklearn.py:1224: UserWarning: The use of label encoder in XGBClassifier is deprecated and will be removed in a future release. To remove this warning, do the following: 1) Pass option use_label_encoder=False when constructing XGBClassifier object; and 2) Encode your labels (y) as integers starting with 0, i.e. 0, 1, 2, ..., [num_class - 1].\n",
      "  warnings.warn(label_encoder_deprecation_msg, UserWarning)\n"
     ]
    },
    {
     "name": "stdout",
     "output_type": "stream",
     "text": [
      "[16:50:55] WARNING: ../src/learner.cc:1115: Starting in XGBoost 1.3.0, the default evaluation metric used with the objective 'multi:softprob' was changed from 'merror' to 'mlogloss'. Explicitly set eval_metric if you'd like to restore the old behavior.\n"
     ]
    },
    {
     "data": {
      "text/plain": [
       "RandomizedSearchCV(cv=3,\n",
       "                   estimator=XGBClassifier(base_score=None, booster=None,\n",
       "                                           colsample_bylevel=None,\n",
       "                                           colsample_bynode=None,\n",
       "                                           colsample_bytree=None,\n",
       "                                           enable_categorical=False, gamma=None,\n",
       "                                           gpu_id=None, importance_type=None,\n",
       "                                           interaction_constraints=None,\n",
       "                                           learning_rate=None,\n",
       "                                           max_delta_step=None, max_depth=None,\n",
       "                                           min_child_weight=None, missing=nan,\n",
       "                                           monotone_constraints...\n",
       "                                        'learning_rate': <scipy.stats._distn_infrastructure.rv_frozen object at 0x7fab90c58220>,\n",
       "                                        'max_depth': <scipy.stats._distn_infrastructure.rv_frozen object at 0x7faaf3876fa0>,\n",
       "                                        'n_estimators': <scipy.stats._distn_infrastructure.rv_frozen object at 0x7faaf3ac8f40>,\n",
       "                                        'subsample': <scipy.stats._distn_infrastructure.rv_frozen object at 0x7faaf38a7610>},\n",
       "                   random_state=10, return_train_score=True)"
      ]
     },
     "execution_count": 168,
     "metadata": {},
     "output_type": "execute_result"
    }
   ],
   "source": [
    "import xgboost as xgb\n",
    "from scipy.stats import uniform, randint\n",
    "from sklearn.model_selection import RandomizedSearchCV\n",
    "xgb_model = xgb.XGBClassifier(objective=\"multi:softprob\", random_state=10)\n",
    "params = {\n",
    "    \"colsample_bytree\": uniform(0.7, 0.3),\n",
    "    \"gamma\": uniform(0, 0.5),\n",
    "    \"learning_rate\": uniform(0.03, 0.3), # default 0.1 \n",
    "    \"max_depth\": randint(2, 6), # default 3\n",
    "    \"n_estimators\": randint(100, 150), # default 100\n",
    "    \"subsample\": uniform(0.6, 0.4)\n",
    "}\n",
    "\n",
    "search = RandomizedSearchCV(xgb_model, param_distributions=params, random_state=10, cv=3, n_jobs=8, return_train_score=True)\n",
    "\n",
    "search.fit(X_train_1, y_train_1)"
   ]
  },
  {
   "cell_type": "code",
   "execution_count": 169,
   "metadata": {
    "colab": {
     "base_uri": "https://localhost:8080/",
     "height": 163
    },
    "id": "EMmVhgh1y4VJ",
    "outputId": "5c2846d6-1e96-45ca-b7a7-43061d87102a"
   },
   "outputs": [
    {
     "data": {
      "text/plain": [
       "{'colsample_bytree': 0.7035364088154892,\n",
       " 'gamma': 0.30597167055550545,\n",
       " 'learning_rate': 0.12956467670031507,\n",
       " 'max_depth': 3,\n",
       " 'n_estimators': 115,\n",
       " 'subsample': 0.734199858607948}"
      ]
     },
     "execution_count": 169,
     "metadata": {},
     "output_type": "execute_result"
    }
   ],
   "source": [
    "search.best_params_"
   ]
  },
  {
   "cell_type": "code",
   "execution_count": 170,
   "metadata": {
    "id": "0Te3_lYwy4b5"
   },
   "outputs": [
    {
     "name": "stdout",
     "output_type": "stream",
     "text": [
      "Classification report:\n",
      "              precision    recall  f1-score   support\n",
      "\n",
      "           0       0.24      0.28      0.26        47\n",
      "           1       0.56      0.19      0.29       172\n",
      "           2       0.26      0.63      0.37        73\n",
      "\n",
      "    accuracy                           0.32       292\n",
      "   macro avg       0.35      0.37      0.30       292\n",
      "weighted avg       0.43      0.32      0.30       292\n",
      "\n",
      "\n"
     ]
    }
   ],
   "source": [
    "from sklearn.metrics import classification_report\n",
    "\n",
    "y_pred_rf = search.predict(X_test)\n",
    "\n",
    "print('Classification report:\\n{0}\\n'.format(classification_report(y_test, y_pred_rf)))"
   ]
  },
  {
   "cell_type": "code",
   "execution_count": 171,
   "metadata": {
    "id": "3LrWdODJzC7A"
   },
   "outputs": [
    {
     "data": {
      "image/png": "[encoded data removed]",
      "text/plain": [
       "<Figure size 432x288 with 1 Axes>"
      ]
     },
     "metadata": {},
     "output_type": "display_data"
    },
    {
     "name": "stdout",
     "output_type": "stream",
     "text": [
      "[16:17:41] WARNING: ../src/learner.cc:1115: Starting in XGBoost 1.3.0, the default evaluation metric used with the objective 'multi:softprob' was changed from 'merror' to 'mlogloss'. Explicitly set eval_metric if you'd like to restore the old behavior.\n",
      "[16:26:45] WARNING: ../src/learner.cc:1115: Starting in XGBoost 1.3.0, the default evaluation metric used with the objective 'multi:softprob' was changed from 'merror' to 'mlogloss'. Explicitly set eval_metric if you'd like to restore the old behavior.\n",
      "[16:38:45] WARNING: ../src/learner.cc:1115: Starting in XGBoost 1.3.0, the default evaluation metric used with the objective 'multi:softprob' was changed from 'merror' to 'mlogloss'. Explicitly set eval_metric if you'd like to restore the old behavior.\n"
     ]
    },
    {
     "name": "stderr",
     "output_type": "stream",
     "text": [
      "/home/bnt4me/.local/lib/python3.8/site-packages/xgboost/sklearn.py:1224: UserWarning: The use of label encoder in XGBClassifier is deprecated and will be removed in a future release. To remove this warning, do the following: 1) Pass option use_label_encoder=False when constructing XGBClassifier object; and 2) Encode your labels (y) as integers starting with 0, i.e. 0, 1, 2, ..., [num_class - 1].\n",
      "  warnings.warn(label_encoder_deprecation_msg, UserWarning)\n",
      "/home/bnt4me/.local/lib/python3.8/site-packages/xgboost/sklearn.py:1224: UserWarning: The use of label encoder in XGBClassifier is deprecated and will be removed in a future release. To remove this warning, do the following: 1) Pass option use_label_encoder=False when constructing XGBClassifier object; and 2) Encode your labels (y) as integers starting with 0, i.e. 0, 1, 2, ..., [num_class - 1].\n",
      "  warnings.warn(label_encoder_deprecation_msg, UserWarning)\n",
      "/home/bnt4me/.local/lib/python3.8/site-packages/xgboost/sklearn.py:1224: UserWarning: The use of label encoder in XGBClassifier is deprecated and will be removed in a future release. To remove this warning, do the following: 1) Pass option use_label_encoder=False when constructing XGBClassifier object; and 2) Encode your labels (y) as integers starting with 0, i.e. 0, 1, 2, ..., [num_class - 1].\n",
      "  warnings.warn(label_encoder_deprecation_msg, UserWarning)\n"
     ]
    },
    {
     "name": "stdout",
     "output_type": "stream",
     "text": [
      "[16:17:37] WARNING: ../src/learner.cc:1115: Starting in XGBoost 1.3.0, the default evaluation metric used with the objective 'multi:softprob' was changed from 'merror' to 'mlogloss'. Explicitly set eval_metric if you'd like to restore the old behavior.\n",
      "[16:23:26] WARNING: ../src/learner.cc:1115: Starting in XGBoost 1.3.0, the default evaluation metric used with the objective 'multi:softprob' was changed from 'merror' to 'mlogloss'. Explicitly set eval_metric if you'd like to restore the old behavior.\n",
      "[16:34:49] WARNING: ../src/learner.cc:1115: Starting in XGBoost 1.3.0, the default evaluation metric used with the objective 'multi:softprob' was changed from 'merror' to 'mlogloss'. Explicitly set eval_metric if you'd like to restore the old behavior.\n",
      "[16:42:32] WARNING: ../src/learner.cc:1115: Starting in XGBoost 1.3.0, the default evaluation metric used with the objective 'multi:softprob' was changed from 'merror' to 'mlogloss'. Explicitly set eval_metric if you'd like to restore the old behavior.\n"
     ]
    },
    {
     "name": "stderr",
     "output_type": "stream",
     "text": [
      "/home/bnt4me/.local/lib/python3.8/site-packages/xgboost/sklearn.py:1224: UserWarning: The use of label encoder in XGBClassifier is deprecated and will be removed in a future release. To remove this warning, do the following: 1) Pass option use_label_encoder=False when constructing XGBClassifier object; and 2) Encode your labels (y) as integers starting with 0, i.e. 0, 1, 2, ..., [num_class - 1].\n",
      "  warnings.warn(label_encoder_deprecation_msg, UserWarning)\n",
      "/home/bnt4me/.local/lib/python3.8/site-packages/xgboost/sklearn.py:1224: UserWarning: The use of label encoder in XGBClassifier is deprecated and will be removed in a future release. To remove this warning, do the following: 1) Pass option use_label_encoder=False when constructing XGBClassifier object; and 2) Encode your labels (y) as integers starting with 0, i.e. 0, 1, 2, ..., [num_class - 1].\n",
      "  warnings.warn(label_encoder_deprecation_msg, UserWarning)\n",
      "/home/bnt4me/.local/lib/python3.8/site-packages/xgboost/sklearn.py:1224: UserWarning: The use of label encoder in XGBClassifier is deprecated and will be removed in a future release. To remove this warning, do the following: 1) Pass option use_label_encoder=False when constructing XGBClassifier object; and 2) Encode your labels (y) as integers starting with 0, i.e. 0, 1, 2, ..., [num_class - 1].\n",
      "  warnings.warn(label_encoder_deprecation_msg, UserWarning)\n",
      "/home/bnt4me/.local/lib/python3.8/site-packages/xgboost/sklearn.py:1224: UserWarning: The use of label encoder in XGBClassifier is deprecated and will be removed in a future release. To remove this warning, do the following: 1) Pass option use_label_encoder=False when constructing XGBClassifier object; and 2) Encode your labels (y) as integers starting with 0, i.e. 0, 1, 2, ..., [num_class - 1].\n",
      "  warnings.warn(label_encoder_deprecation_msg, UserWarning)\n",
      "/home/bnt4me/.local/lib/python3.8/site-packages/xgboost/sklearn.py:1224: UserWarning: The use of label encoder in XGBClassifier is deprecated and will be removed in a future release. To remove this warning, do the following: 1) Pass option use_label_encoder=False when constructing XGBClassifier object; and 2) Encode your labels (y) as integers starting with 0, i.e. 0, 1, 2, ..., [num_class - 1].\n",
      "  warnings.warn(label_encoder_deprecation_msg, UserWarning)\n",
      "/home/bnt4me/.local/lib/python3.8/site-packages/xgboost/sklearn.py:1224: UserWarning: The use of label encoder in XGBClassifier is deprecated and will be removed in a future release. To remove this warning, do the following: 1) Pass option use_label_encoder=False when constructing XGBClassifier object; and 2) Encode your labels (y) as integers starting with 0, i.e. 0, 1, 2, ..., [num_class - 1].\n",
      "  warnings.warn(label_encoder_deprecation_msg, UserWarning)\n",
      "/home/bnt4me/.local/lib/python3.8/site-packages/xgboost/sklearn.py:1224: UserWarning: The use of label encoder in XGBClassifier is deprecated and will be removed in a future release. To remove this warning, do the following: 1) Pass option use_label_encoder=False when constructing XGBClassifier object; and 2) Encode your labels (y) as integers starting with 0, i.e. 0, 1, 2, ..., [num_class - 1].\n",
      "  warnings.warn(label_encoder_deprecation_msg, UserWarning)\n",
      "/home/bnt4me/.local/lib/python3.8/site-packages/xgboost/sklearn.py:1224: UserWarning: The use of label encoder in XGBClassifier is deprecated and will be removed in a future release. To remove this warning, do the following: 1) Pass option use_label_encoder=False when constructing XGBClassifier object; and 2) Encode your labels (y) as integers starting with 0, i.e. 0, 1, 2, ..., [num_class - 1].\n",
      "  warnings.warn(label_encoder_deprecation_msg, UserWarning)\n"
     ]
    },
    {
     "name": "stdout",
     "output_type": "stream",
     "text": [
      "[16:17:36] WARNING: ../src/learner.cc:1115: Starting in XGBoost 1.3.0, the default evaluation metric used with the objective 'multi:softprob' was changed from 'merror' to 'mlogloss'. Explicitly set eval_metric if you'd like to restore the old behavior.\n",
      "[16:23:30] WARNING: ../src/learner.cc:1115: Starting in XGBoost 1.3.0, the default evaluation metric used with the objective 'multi:softprob' was changed from 'merror' to 'mlogloss'. Explicitly set eval_metric if you'd like to restore the old behavior.\n",
      "[16:35:06] WARNING: ../src/learner.cc:1115: Starting in XGBoost 1.3.0, the default evaluation metric used with the objective 'multi:softprob' was changed from 'merror' to 'mlogloss'. Explicitly set eval_metric if you'd like to restore the old behavior.\n",
      "[16:42:38] WARNING: ../src/learner.cc:1115: Starting in XGBoost 1.3.0, the default evaluation metric used with the objective 'multi:softprob' was changed from 'merror' to 'mlogloss'. Explicitly set eval_metric if you'd like to restore the old behavior.\n",
      "[16:17:36] WARNING: ../src/learner.cc:1115: Starting in XGBoost 1.3.0, the default evaluation metric used with the objective 'multi:softprob' was changed from 'merror' to 'mlogloss'. Explicitly set eval_metric if you'd like to restore the old behavior.\n",
      "[16:23:37] WARNING: ../src/learner.cc:1115: Starting in XGBoost 1.3.0, the default evaluation metric used with the objective 'multi:softprob' was changed from 'merror' to 'mlogloss'. Explicitly set eval_metric if you'd like to restore the old behavior.\n",
      "[16:35:08] WARNING: ../src/learner.cc:1115: Starting in XGBoost 1.3.0, the default evaluation metric used with the objective 'multi:softprob' was changed from 'merror' to 'mlogloss'. Explicitly set eval_metric if you'd like to restore the old behavior.\n",
      "[16:42:45] WARNING: ../src/learner.cc:1115: Starting in XGBoost 1.3.0, the default evaluation metric used with the objective 'multi:softprob' was changed from 'merror' to 'mlogloss'. Explicitly set eval_metric if you'd like to restore the old behavior.\n"
     ]
    },
    {
     "name": "stderr",
     "output_type": "stream",
     "text": [
      "/home/bnt4me/.local/lib/python3.8/site-packages/xgboost/sklearn.py:1224: UserWarning: The use of label encoder in XGBClassifier is deprecated and will be removed in a future release. To remove this warning, do the following: 1) Pass option use_label_encoder=False when constructing XGBClassifier object; and 2) Encode your labels (y) as integers starting with 0, i.e. 0, 1, 2, ..., [num_class - 1].\n",
      "  warnings.warn(label_encoder_deprecation_msg, UserWarning)\n",
      "/home/bnt4me/.local/lib/python3.8/site-packages/xgboost/sklearn.py:1224: UserWarning: The use of label encoder in XGBClassifier is deprecated and will be removed in a future release. To remove this warning, do the following: 1) Pass option use_label_encoder=False when constructing XGBClassifier object; and 2) Encode your labels (y) as integers starting with 0, i.e. 0, 1, 2, ..., [num_class - 1].\n",
      "  warnings.warn(label_encoder_deprecation_msg, UserWarning)\n",
      "/home/bnt4me/.local/lib/python3.8/site-packages/xgboost/sklearn.py:1224: UserWarning: The use of label encoder in XGBClassifier is deprecated and will be removed in a future release. To remove this warning, do the following: 1) Pass option use_label_encoder=False when constructing XGBClassifier object; and 2) Encode your labels (y) as integers starting with 0, i.e. 0, 1, 2, ..., [num_class - 1].\n",
      "  warnings.warn(label_encoder_deprecation_msg, UserWarning)\n",
      "/home/bnt4me/.local/lib/python3.8/site-packages/xgboost/sklearn.py:1224: UserWarning: The use of label encoder in XGBClassifier is deprecated and will be removed in a future release. To remove this warning, do the following: 1) Pass option use_label_encoder=False when constructing XGBClassifier object; and 2) Encode your labels (y) as integers starting with 0, i.e. 0, 1, 2, ..., [num_class - 1].\n",
      "  warnings.warn(label_encoder_deprecation_msg, UserWarning)\n"
     ]
    },
    {
     "name": "stdout",
     "output_type": "stream",
     "text": [
      "[16:17:40] WARNING: ../src/learner.cc:1115: Starting in XGBoost 1.3.0, the default evaluation metric used with the objective 'multi:softprob' was changed from 'merror' to 'mlogloss'. Explicitly set eval_metric if you'd like to restore the old behavior.\n",
      "[16:29:35] WARNING: ../src/learner.cc:1115: Starting in XGBoost 1.3.0, the default evaluation metric used with the objective 'multi:softprob' was changed from 'merror' to 'mlogloss'. Explicitly set eval_metric if you'd like to restore the old behavior.\n",
      "[16:41:09] WARNING: ../src/learner.cc:1115: Starting in XGBoost 1.3.0, the default evaluation metric used with the objective 'multi:softprob' was changed from 'merror' to 'mlogloss'. Explicitly set eval_metric if you'd like to restore the old behavior.\n"
     ]
    },
    {
     "name": "stderr",
     "output_type": "stream",
     "text": [
      "/home/bnt4me/.local/lib/python3.8/site-packages/xgboost/sklearn.py:1224: UserWarning: The use of label encoder in XGBClassifier is deprecated and will be removed in a future release. To remove this warning, do the following: 1) Pass option use_label_encoder=False when constructing XGBClassifier object; and 2) Encode your labels (y) as integers starting with 0, i.e. 0, 1, 2, ..., [num_class - 1].\n",
      "  warnings.warn(label_encoder_deprecation_msg, UserWarning)\n",
      "/home/bnt4me/.local/lib/python3.8/site-packages/xgboost/sklearn.py:1224: UserWarning: The use of label encoder in XGBClassifier is deprecated and will be removed in a future release. To remove this warning, do the following: 1) Pass option use_label_encoder=False when constructing XGBClassifier object; and 2) Encode your labels (y) as integers starting with 0, i.e. 0, 1, 2, ..., [num_class - 1].\n",
      "  warnings.warn(label_encoder_deprecation_msg, UserWarning)\n",
      "/home/bnt4me/.local/lib/python3.8/site-packages/xgboost/sklearn.py:1224: UserWarning: The use of label encoder in XGBClassifier is deprecated and will be removed in a future release. To remove this warning, do the following: 1) Pass option use_label_encoder=False when constructing XGBClassifier object; and 2) Encode your labels (y) as integers starting with 0, i.e. 0, 1, 2, ..., [num_class - 1].\n",
      "  warnings.warn(label_encoder_deprecation_msg, UserWarning)\n"
     ]
    },
    {
     "name": "stdout",
     "output_type": "stream",
     "text": [
      "[16:17:40] WARNING: ../src/learner.cc:1115: Starting in XGBoost 1.3.0, the default evaluation metric used with the objective 'multi:softprob' was changed from 'merror' to 'mlogloss'. Explicitly set eval_metric if you'd like to restore the old behavior.\n",
      "[16:29:42] WARNING: ../src/learner.cc:1115: Starting in XGBoost 1.3.0, the default evaluation metric used with the objective 'multi:softprob' was changed from 'merror' to 'mlogloss'. Explicitly set eval_metric if you'd like to restore the old behavior.\n",
      "[16:37:16] WARNING: ../src/learner.cc:1115: Starting in XGBoost 1.3.0, the default evaluation metric used with the objective 'multi:softprob' was changed from 'merror' to 'mlogloss'. Explicitly set eval_metric if you'd like to restore the old behavior.\n",
      "[16:44:41] WARNING: ../src/learner.cc:1115: Starting in XGBoost 1.3.0, the default evaluation metric used with the objective 'multi:softprob' was changed from 'merror' to 'mlogloss'. Explicitly set eval_metric if you'd like to restore the old behavior.\n"
     ]
    },
    {
     "name": "stderr",
     "output_type": "stream",
     "text": [
      "/home/bnt4me/.local/lib/python3.8/site-packages/xgboost/sklearn.py:1224: UserWarning: The use of label encoder in XGBClassifier is deprecated and will be removed in a future release. To remove this warning, do the following: 1) Pass option use_label_encoder=False when constructing XGBClassifier object; and 2) Encode your labels (y) as integers starting with 0, i.e. 0, 1, 2, ..., [num_class - 1].\n",
      "  warnings.warn(label_encoder_deprecation_msg, UserWarning)\n",
      "/home/bnt4me/.local/lib/python3.8/site-packages/xgboost/sklearn.py:1224: UserWarning: The use of label encoder in XGBClassifier is deprecated and will be removed in a future release. To remove this warning, do the following: 1) Pass option use_label_encoder=False when constructing XGBClassifier object; and 2) Encode your labels (y) as integers starting with 0, i.e. 0, 1, 2, ..., [num_class - 1].\n",
      "  warnings.warn(label_encoder_deprecation_msg, UserWarning)\n",
      "/home/bnt4me/.local/lib/python3.8/site-packages/xgboost/sklearn.py:1224: UserWarning: The use of label encoder in XGBClassifier is deprecated and will be removed in a future release. To remove this warning, do the following: 1) Pass option use_label_encoder=False when constructing XGBClassifier object; and 2) Encode your labels (y) as integers starting with 0, i.e. 0, 1, 2, ..., [num_class - 1].\n",
      "  warnings.warn(label_encoder_deprecation_msg, UserWarning)\n",
      "/home/bnt4me/.local/lib/python3.8/site-packages/xgboost/sklearn.py:1224: UserWarning: The use of label encoder in XGBClassifier is deprecated and will be removed in a future release. To remove this warning, do the following: 1) Pass option use_label_encoder=False when constructing XGBClassifier object; and 2) Encode your labels (y) as integers starting with 0, i.e. 0, 1, 2, ..., [num_class - 1].\n",
      "  warnings.warn(label_encoder_deprecation_msg, UserWarning)\n"
     ]
    },
    {
     "name": "stdout",
     "output_type": "stream",
     "text": [
      "[16:17:41] WARNING: ../src/learner.cc:1115: Starting in XGBoost 1.3.0, the default evaluation metric used with the objective 'multi:softprob' was changed from 'merror' to 'mlogloss'. Explicitly set eval_metric if you'd like to restore the old behavior.\n",
      "[16:26:52] WARNING: ../src/learner.cc:1115: Starting in XGBoost 1.3.0, the default evaluation metric used with the objective 'multi:softprob' was changed from 'merror' to 'mlogloss'. Explicitly set eval_metric if you'd like to restore the old behavior.\n",
      "[16:38:15] WARNING: ../src/learner.cc:1115: Starting in XGBoost 1.3.0, the default evaluation metric used with the objective 'multi:softprob' was changed from 'merror' to 'mlogloss'. Explicitly set eval_metric if you'd like to restore the old behavior.\n",
      "[16:45:37] WARNING: ../src/learner.cc:1115: Starting in XGBoost 1.3.0, the default evaluation metric used with the objective 'multi:softprob' was changed from 'merror' to 'mlogloss'. Explicitly set eval_metric if you'd like to restore the old behavior.\n"
     ]
    },
    {
     "name": "stderr",
     "output_type": "stream",
     "text": [
      "/home/bnt4me/.local/lib/python3.8/site-packages/xgboost/sklearn.py:1224: UserWarning: The use of label encoder in XGBClassifier is deprecated and will be removed in a future release. To remove this warning, do the following: 1) Pass option use_label_encoder=False when constructing XGBClassifier object; and 2) Encode your labels (y) as integers starting with 0, i.e. 0, 1, 2, ..., [num_class - 1].\n",
      "  warnings.warn(label_encoder_deprecation_msg, UserWarning)\n",
      "/home/bnt4me/.local/lib/python3.8/site-packages/xgboost/sklearn.py:1224: UserWarning: The use of label encoder in XGBClassifier is deprecated and will be removed in a future release. To remove this warning, do the following: 1) Pass option use_label_encoder=False when constructing XGBClassifier object; and 2) Encode your labels (y) as integers starting with 0, i.e. 0, 1, 2, ..., [num_class - 1].\n",
      "  warnings.warn(label_encoder_deprecation_msg, UserWarning)\n",
      "/home/bnt4me/.local/lib/python3.8/site-packages/xgboost/sklearn.py:1224: UserWarning: The use of label encoder in XGBClassifier is deprecated and will be removed in a future release. To remove this warning, do the following: 1) Pass option use_label_encoder=False when constructing XGBClassifier object; and 2) Encode your labels (y) as integers starting with 0, i.e. 0, 1, 2, ..., [num_class - 1].\n",
      "  warnings.warn(label_encoder_deprecation_msg, UserWarning)\n",
      "/home/bnt4me/.local/lib/python3.8/site-packages/xgboost/sklearn.py:1224: UserWarning: The use of label encoder in XGBClassifier is deprecated and will be removed in a future release. To remove this warning, do the following: 1) Pass option use_label_encoder=False when constructing XGBClassifier object; and 2) Encode your labels (y) as integers starting with 0, i.e. 0, 1, 2, ..., [num_class - 1].\n",
      "  warnings.warn(label_encoder_deprecation_msg, UserWarning)\n"
     ]
    },
    {
     "name": "stdout",
     "output_type": "stream",
     "text": [
      "[16:17:41] WARNING: ../src/learner.cc:1115: Starting in XGBoost 1.3.0, the default evaluation metric used with the objective 'multi:softprob' was changed from 'merror' to 'mlogloss'. Explicitly set eval_metric if you'd like to restore the old behavior.\n",
      "[16:26:52] WARNING: ../src/learner.cc:1115: Starting in XGBoost 1.3.0, the default evaluation metric used with the objective 'multi:softprob' was changed from 'merror' to 'mlogloss'. Explicitly set eval_metric if you'd like to restore the old behavior.\n",
      "[16:38:41] WARNING: ../src/learner.cc:1115: Starting in XGBoost 1.3.0, the default evaluation metric used with the objective 'multi:softprob' was changed from 'merror' to 'mlogloss'. Explicitly set eval_metric if you'd like to restore the old behavior.\n",
      "[16:46:35] WARNING: ../src/learner.cc:1115: Starting in XGBoost 1.3.0, the default evaluation metric used with the objective 'multi:softprob' was changed from 'merror' to 'mlogloss'. Explicitly set eval_metric if you'd like to restore the old behavior.\n"
     ]
    },
    {
     "name": "stderr",
     "output_type": "stream",
     "text": [
      "/home/bnt4me/.local/lib/python3.8/site-packages/xgboost/sklearn.py:1224: UserWarning: The use of label encoder in XGBClassifier is deprecated and will be removed in a future release. To remove this warning, do the following: 1) Pass option use_label_encoder=False when constructing XGBClassifier object; and 2) Encode your labels (y) as integers starting with 0, i.e. 0, 1, 2, ..., [num_class - 1].\n",
      "  warnings.warn(label_encoder_deprecation_msg, UserWarning)\n",
      "/home/bnt4me/.local/lib/python3.8/site-packages/xgboost/sklearn.py:1224: UserWarning: The use of label encoder in XGBClassifier is deprecated and will be removed in a future release. To remove this warning, do the following: 1) Pass option use_label_encoder=False when constructing XGBClassifier object; and 2) Encode your labels (y) as integers starting with 0, i.e. 0, 1, 2, ..., [num_class - 1].\n",
      "  warnings.warn(label_encoder_deprecation_msg, UserWarning)\n",
      "/home/bnt4me/.local/lib/python3.8/site-packages/xgboost/sklearn.py:1224: UserWarning: The use of label encoder in XGBClassifier is deprecated and will be removed in a future release. To remove this warning, do the following: 1) Pass option use_label_encoder=False when constructing XGBClassifier object; and 2) Encode your labels (y) as integers starting with 0, i.e. 0, 1, 2, ..., [num_class - 1].\n",
      "  warnings.warn(label_encoder_deprecation_msg, UserWarning)\n",
      "/home/bnt4me/.local/lib/python3.8/site-packages/xgboost/sklearn.py:1224: UserWarning: The use of label encoder in XGBClassifier is deprecated and will be removed in a future release. To remove this warning, do the following: 1) Pass option use_label_encoder=False when constructing XGBClassifier object; and 2) Encode your labels (y) as integers starting with 0, i.e. 0, 1, 2, ..., [num_class - 1].\n",
      "  warnings.warn(label_encoder_deprecation_msg, UserWarning)\n"
     ]
    }
   ],
   "source": [
    "%matplotlib inline\n",
    "import seaborn as sns; sns.set()\n",
    "from sklearn.metrics import confusion_matrix\n",
    "import matplotlib.pyplot as plt\n",
    "\n",
    "y_test_pred = search.predict(X_test)\n",
    "cm_test = confusion_matrix(y_test, y_test_pred)\n",
    "\n",
    "sns.heatmap(cm_test.T, square=True, annot=True, fmt='d', cbar=False,\n",
    "            xticklabels= np.unique(y_test),\n",
    "            yticklabels= np.unique(y_test_pred))\n",
    "plt.xlabel('true label')\n",
    "plt.ylabel('predicted label');\n",
    "plt.title('Confusion Matrix DT - Test Set')\n",
    "plt.show()"
   ]
  }
 ],
 "metadata": {
  "colab": {
   "collapsed_sections": [],
   "name": "1_Classification.ipynb",
   "provenance": [],
   "toc_visible": true
  },
  "kernelspec": {
   "display_name": "Python 3 (ipykernel)",
   "language": "python",
   "name": "python3"
  },
  "language_info": {
   "codemirror_mode": {
    "name": "ipython",
    "version": 3
   },
   "file_extension": ".py",
   "mimetype": "text/x-python",
   "name": "python",
   "nbconvert_exporter": "python",
   "pygments_lexer": "ipython3",
   "version": "3.8.10"
  }
 },
 "nbformat": 4,
 "nbformat_minor": 1
}
